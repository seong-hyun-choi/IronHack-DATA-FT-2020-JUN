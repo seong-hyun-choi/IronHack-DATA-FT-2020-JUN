{
 "cells": [
  {
   "cell_type": "markdown",
   "metadata": {},
   "source": [
    "# Web Scraping Lab\n",
    "\n",
    "You will find in this notebook some scrapy exercises to practise your scraping skills.\n",
    "\n",
    "**Tips:**\n",
    "\n",
    "- Check the response status code for each request to ensure you have obtained the intended content.\n",
    "- Print the response text in each request to understand the kind of info you are getting and its format.\n",
    "- Check for patterns in the response text to extract the data/info requested in each question.\n",
    "- Visit the urls below and take a look at their source code through Chrome DevTools. You'll need to identify the html tags, special class names, etc used in the html content you are expected to extract.\n",
    "\n",
    "**Resources**:\n",
    "- [Requests library](http://docs.python-requests.org/en/master/#the-user-guide)\n",
    "- [Beautiful Soup Doc](https://www.crummy.com/software/BeautifulSoup/bs4/doc/)\n",
    "- [Urllib](https://docs.python.org/3/library/urllib.html#module-urllib)\n",
    "- [re lib](https://docs.python.org/3/library/re.html)\n",
    "- [lxml lib](https://lxml.de/)\n",
    "- [Scrapy](https://scrapy.org/)\n",
    "- [List of HTTP status codes](https://en.wikipedia.org/wiki/List_of_HTTP_status_codes)\n",
    "- [HTML basics](http://www.simplehtmlguide.com/cheatsheet.php)\n",
    "- [CSS basics](https://www.cssbasics.com/#page_start)"
   ]
  },
  {
   "cell_type": "markdown",
   "metadata": {},
   "source": [
    "#### Below are the libraries and modules you may need. `requests`,  `BeautifulSoup` and `pandas` are already imported for you. If you prefer to use additional libraries feel free to do it."
   ]
  },
  {
   "cell_type": "code",
   "execution_count": 1,
   "metadata": {},
   "outputs": [],
   "source": [
    "import requests\n",
    "from bs4 import BeautifulSoup\n",
    "import pandas as pd"
   ]
  },
  {
   "cell_type": "markdown",
   "metadata": {},
   "source": [
    "#### Download, parse (using BeautifulSoup), and print the content from the Trending Developers page from GitHub:"
   ]
  },
  {
   "cell_type": "code",
   "execution_count": 2,
   "metadata": {},
   "outputs": [
    {
     "data": {
      "text/plain": [
       "<Response [200]>"
      ]
     },
     "execution_count": 2,
     "metadata": {},
     "output_type": "execute_result"
    }
   ],
   "source": [
    "# This is the url you will scrape in this exercise\n",
    "url = 'https://github.com/trending/developers'\n",
    "response = requests.get(url)\n",
    "response"
   ]
  },
  {
   "cell_type": "code",
   "execution_count": 3,
   "metadata": {},
   "outputs": [],
   "source": [
    "html=response.content\n",
    "soup=BeautifulSoup(html)"
   ]
  },
  {
   "cell_type": "markdown",
   "metadata": {},
   "source": [
    "#### Display the names of the trending developers retrieved in the previous step.\n",
    "\n",
    "Your output should be a Python list of developer names. Each name should not contain any html tag.\n",
    "\n",
    "**Instructions:**\n",
    "\n",
    "1. Find out the html tag and class names used for the developer names. You can achieve this using Chrome DevTools.\n",
    "\n",
    "1. Use BeautifulSoup to extract all the html elements that contain the developer names.\n",
    "\n",
    "1. Use string manipulation techniques to replace whitespaces and linebreaks (i.e. `\\n`) in the *text* of each html element. Use a list to store the clean names.\n",
    "\n",
    "1. Print the list of names.\n",
    "\n",
    "Your output should look like below:\n",
    "\n",
    "```\n",
    "['trimstray (@trimstray)',\n",
    " 'joewalnes (JoeWalnes)',\n",
    " 'charlax (Charles-AxelDein)',\n",
    " 'ForrestKnight (ForrestKnight)',\n",
    " 'revery-ui (revery-ui)',\n",
    " 'alibaba (Alibaba)',\n",
    " 'Microsoft (Microsoft)',\n",
    " 'github (GitHub)',\n",
    " 'facebook (Facebook)',\n",
    " 'boazsegev (Bo)',\n",
    " 'google (Google)',\n",
    " 'cloudfetch',\n",
    " 'sindresorhus (SindreSorhus)',\n",
    " 'tensorflow',\n",
    " 'apache (TheApacheSoftwareFoundation)',\n",
    " 'DevonCrawford (DevonCrawford)',\n",
    " 'ARMmbed (ArmMbed)',\n",
    " 'vuejs (vuejs)',\n",
    " 'fastai (fast.ai)',\n",
    " 'QiShaoXuan (Qi)',\n",
    " 'joelparkerhenderson (JoelParkerHenderson)',\n",
    " 'torvalds (LinusTorvalds)',\n",
    " 'CyC2018',\n",
    " 'komeiji-satori (神楽坂覚々)',\n",
    " 'script-8']\n",
    " ```"
   ]
  },
  {
   "cell_type": "code",
   "execution_count": 4,
   "metadata": {},
   "outputs": [
    {
     "data": {
      "text/plain": [
       "[<h1 class=\"h3 lh-condensed\">\n",
       " <a data-hydro-click='{\"event_type\":\"explore.click\",\"payload\":{\"click_context\":\"TRENDING_DEVELOPERS_PAGE\",\"click_target\":\"OWNER\",\"click_visual_representation\":\"TRENDING_DEVELOPER\",\"actor_id\":null,\"record_id\":697676,\"originating_url\":\"https://github.com/trending/developers\",\"user_id\":null}}' data-hydro-click-hmac=\"24f1e07d51c83be96fbfa52a77edfd19be96ea3a4952fe00aba0d8e7c8c6d8f0\" href=\"/vadimdemedes\">\n",
       "             Vadim Demedes\n",
       " </a>\n",
       " </h1>,\n",
       " <h1 class=\"h3 lh-condensed\">\n",
       " <a data-hydro-click='{\"event_type\":\"explore.click\",\"payload\":{\"click_context\":\"TRENDING_DEVELOPERS_PAGE\",\"click_target\":\"OWNER\",\"click_visual_representation\":\"TRENDING_DEVELOPER\",\"actor_id\":null,\"record_id\":173661,\"originating_url\":\"https://github.com/trending/developers\",\"user_id\":null}}' data-hydro-click-hmac=\"e5f8b488975347353146deff5d76f57f9c5823c58166af008ff3dade354f7a3a\" href=\"/kripken\">\n",
       "             Alon Zakai\n",
       " </a>\n",
       " </h1>,\n",
       " <h1 class=\"h3 lh-condensed\">\n",
       " <a data-hydro-click='{\"event_type\":\"explore.click\",\"payload\":{\"click_context\":\"TRENDING_DEVELOPERS_PAGE\",\"click_target\":\"OWNER\",\"click_visual_representation\":\"TRENDING_DEVELOPER\",\"actor_id\":null,\"record_id\":4310419,\"originating_url\":\"https://github.com/trending/developers\",\"user_id\":null}}' data-hydro-click-hmac=\"dc9a2fb5128b2ded8c2dbad3ec35a2d2db5c10d795a2a522ab8e05f813be9480\" href=\"/wkentaro\">\n",
       "             Kentaro Wada\n",
       " </a>\n",
       " </h1>,\n",
       " <h1 class=\"h3 lh-condensed\">\n",
       " <a data-hydro-click='{\"event_type\":\"explore.click\",\"payload\":{\"click_context\":\"TRENDING_DEVELOPERS_PAGE\",\"click_target\":\"OWNER\",\"click_visual_representation\":\"TRENDING_DEVELOPER\",\"actor_id\":null,\"record_id\":161631,\"originating_url\":\"https://github.com/trending/developers\",\"user_id\":null}}' data-hydro-click-hmac=\"2d48f78f292717da32b077957e022cd8a0db32649b00623ec52a508be35bef16\" href=\"/tianon\">\n",
       "             Tianon Gravi\n",
       " </a>\n",
       " </h1>,\n",
       " <h1 class=\"h3 lh-condensed\">\n",
       " <a data-hydro-click='{\"event_type\":\"explore.click\",\"payload\":{\"click_context\":\"TRENDING_DEVELOPERS_PAGE\",\"click_target\":\"OWNER\",\"click_visual_representation\":\"TRENDING_DEVELOPER\",\"actor_id\":null,\"record_id\":595695,\"originating_url\":\"https://github.com/trending/developers\",\"user_id\":null}}' data-hydro-click-hmac=\"1ddd5319dad2b023240d02adc7e62d2cfdcd3efb22ab5e1282cb8a3a677e3a95\" href=\"/iaincollins\">\n",
       "             Iain Collins\n",
       " </a>\n",
       " </h1>,\n",
       " <h1 class=\"h3 lh-condensed\">\n",
       " <a data-hydro-click='{\"event_type\":\"explore.click\",\"payload\":{\"click_context\":\"TRENDING_DEVELOPERS_PAGE\",\"click_target\":\"OWNER\",\"click_visual_representation\":\"TRENDING_DEVELOPER\",\"actor_id\":null,\"record_id\":4196,\"originating_url\":\"https://github.com/trending/developers\",\"user_id\":null}}' data-hydro-click-hmac=\"5b95ca6ca70cbd0ca71222571843a17733b73e0a0526c5d08003db36afc8dfac\" href=\"/hadley\">\n",
       "             Hadley Wickham\n",
       " </a>\n",
       " </h1>,\n",
       " <h1 class=\"h3 lh-condensed\">\n",
       " <a data-hydro-click='{\"event_type\":\"explore.click\",\"payload\":{\"click_context\":\"TRENDING_DEVELOPERS_PAGE\",\"click_target\":\"OWNER\",\"click_visual_representation\":\"TRENDING_DEVELOPER\",\"actor_id\":null,\"record_id\":5609886,\"originating_url\":\"https://github.com/trending/developers\",\"user_id\":null}}' data-hydro-click-hmac=\"0e4a994fa1c1caa62f38e630d704313409215670433eda120373a89d6bdc1703\" href=\"/beorn7\">\n",
       "             Björn Rabenstein\n",
       " </a>\n",
       " </h1>,\n",
       " <h1 class=\"h3 lh-condensed\">\n",
       " <a data-hydro-click='{\"event_type\":\"explore.click\",\"payload\":{\"click_context\":\"TRENDING_DEVELOPERS_PAGE\",\"click_target\":\"OWNER\",\"click_visual_representation\":\"TRENDING_DEVELOPER\",\"actor_id\":null,\"record_id\":3670578,\"originating_url\":\"https://github.com/trending/developers\",\"user_id\":null}}' data-hydro-click-hmac=\"39ff48c8a63f1b772b82ca24735ac6bab84636620df363b05e001bb173646739\" href=\"/calebporzio\">\n",
       "             Caleb Porzio\n",
       " </a>\n",
       " </h1>,\n",
       " <h1 class=\"h3 lh-condensed\">\n",
       " <a data-hydro-click='{\"event_type\":\"explore.click\",\"payload\":{\"click_context\":\"TRENDING_DEVELOPERS_PAGE\",\"click_target\":\"OWNER\",\"click_visual_representation\":\"TRENDING_DEVELOPER\",\"actor_id\":null,\"record_id\":3465117,\"originating_url\":\"https://github.com/trending/developers\",\"user_id\":null}}' data-hydro-click-hmac=\"04592995e11ccd1e0d7a1e2a8341199bd8261db639a89f49e003904bb1e0004c\" href=\"/jamesagnew\">\n",
       "             James Agnew\n",
       " </a>\n",
       " </h1>,\n",
       " <h1 class=\"h3 lh-condensed\">\n",
       " <a data-hydro-click='{\"event_type\":\"explore.click\",\"payload\":{\"click_context\":\"TRENDING_DEVELOPERS_PAGE\",\"click_target\":\"OWNER\",\"click_visual_representation\":\"TRENDING_DEVELOPER\",\"actor_id\":null,\"record_id\":306134,\"originating_url\":\"https://github.com/trending/developers\",\"user_id\":null}}' data-hydro-click-hmac=\"a708f2c4df643c61458df4c91ce2aed9bf384453a3ea7d9bd9163945cd7e2808\" href=\"/wcandillon\">\n",
       "             William Candillon\n",
       " </a>\n",
       " </h1>,\n",
       " <h1 class=\"h3 lh-condensed\">\n",
       " <a data-hydro-click='{\"event_type\":\"explore.click\",\"payload\":{\"click_context\":\"TRENDING_DEVELOPERS_PAGE\",\"click_target\":\"OWNER\",\"click_visual_representation\":\"TRENDING_DEVELOPER\",\"actor_id\":null,\"record_id\":3867941,\"originating_url\":\"https://github.com/trending/developers\",\"user_id\":null}}' data-hydro-click-hmac=\"de49d52226a43560a0ac0990a7bfadef548c3489be5e14815116565681d6fea9\" href=\"/magik6k\">\n",
       "             Łukasz Magiera\n",
       " </a>\n",
       " </h1>,\n",
       " <h1 class=\"h3 lh-condensed\">\n",
       " <a data-hydro-click='{\"event_type\":\"explore.click\",\"payload\":{\"click_context\":\"TRENDING_DEVELOPERS_PAGE\",\"click_target\":\"OWNER\",\"click_visual_representation\":\"TRENDING_DEVELOPER\",\"actor_id\":null,\"record_id\":463230,\"originating_url\":\"https://github.com/trending/developers\",\"user_id\":null}}' data-hydro-click-hmac=\"f12c1d93de8eb2a2c17b099c8ae9c771d4745ce19b836e45b574821f474e1372\" href=\"/taylorotwell\">\n",
       "             Taylor Otwell\n",
       " </a>\n",
       " </h1>,\n",
       " <h1 class=\"h3 lh-condensed\">\n",
       " <a data-hydro-click='{\"event_type\":\"explore.click\",\"payload\":{\"click_context\":\"TRENDING_DEVELOPERS_PAGE\",\"click_target\":\"OWNER\",\"click_visual_representation\":\"TRENDING_DEVELOPER\",\"actor_id\":null,\"record_id\":7133698,\"originating_url\":\"https://github.com/trending/developers\",\"user_id\":null}}' data-hydro-click-hmac=\"dcce2ecb73b2941d42ebf6b3e8c037ca2d29828096c760debc5803bd086c07af\" href=\"/ivanpaulovich\">\n",
       "             Ivan Paulovich\n",
       " </a>\n",
       " </h1>,\n",
       " <h1 class=\"h3 lh-condensed\">\n",
       " <a data-hydro-click='{\"event_type\":\"explore.click\",\"payload\":{\"click_context\":\"TRENDING_DEVELOPERS_PAGE\",\"click_target\":\"OWNER\",\"click_visual_representation\":\"TRENDING_DEVELOPER\",\"actor_id\":null,\"record_id\":1145719,\"originating_url\":\"https://github.com/trending/developers\",\"user_id\":null}}' data-hydro-click-hmac=\"92647ede6a1c5588c284feeae703cca610e1e07b20784b74bf91dfb1d039ca86\" href=\"/johnpryan\">\n",
       "             John Ryan\n",
       " </a>\n",
       " </h1>,\n",
       " <h1 class=\"h3 lh-condensed\">\n",
       " <a data-hydro-click='{\"event_type\":\"explore.click\",\"payload\":{\"click_context\":\"TRENDING_DEVELOPERS_PAGE\",\"click_target\":\"OWNER\",\"click_visual_representation\":\"TRENDING_DEVELOPER\",\"actor_id\":null,\"record_id\":13643239,\"originating_url\":\"https://github.com/trending/developers\",\"user_id\":null}}' data-hydro-click-hmac=\"d6d323c3e8e14556129e9d608c42c80dbb384796ad977a8511aa02a48c4cb2b2\" href=\"/ines\">\n",
       "             Ines Montani\n",
       " </a>\n",
       " </h1>,\n",
       " <h1 class=\"h3 lh-condensed\">\n",
       " <a data-hydro-click='{\"event_type\":\"explore.click\",\"payload\":{\"click_context\":\"TRENDING_DEVELOPERS_PAGE\",\"click_target\":\"OWNER\",\"click_visual_representation\":\"TRENDING_DEVELOPER\",\"actor_id\":null,\"record_id\":887,\"originating_url\":\"https://github.com/trending/developers\",\"user_id\":null}}' data-hydro-click-hmac=\"e5f4d9435dc591451a8b054df3579d832deb6d34325eb37c600a2f15d53eae10\" href=\"/mislav\">\n",
       "             Mislav Marohnić\n",
       " </a>\n",
       " </h1>,\n",
       " <h1 class=\"h3 lh-condensed\">\n",
       " <a data-hydro-click='{\"event_type\":\"explore.click\",\"payload\":{\"click_context\":\"TRENDING_DEVELOPERS_PAGE\",\"click_target\":\"OWNER\",\"click_visual_representation\":\"TRENDING_DEVELOPER\",\"actor_id\":null,\"record_id\":241506,\"originating_url\":\"https://github.com/trending/developers\",\"user_id\":null}}' data-hydro-click-hmac=\"c4e42020adf866e617104f9455cfa58f006ace0e0f7f07b92c0de331d6e6ca43\" href=\"/panva\">\n",
       "             Filip Skokan\n",
       " </a>\n",
       " </h1>,\n",
       " <h1 class=\"h3 lh-condensed\">\n",
       " <a data-hydro-click='{\"event_type\":\"explore.click\",\"payload\":{\"click_context\":\"TRENDING_DEVELOPERS_PAGE\",\"click_target\":\"OWNER\",\"click_visual_representation\":\"TRENDING_DEVELOPER\",\"actor_id\":null,\"record_id\":661450,\"originating_url\":\"https://github.com/trending/developers\",\"user_id\":null}}' data-hydro-click-hmac=\"e1d8cec536f9b82d0028bb84c708121d62a6a56819ee2b0771d0e95c0b7e1f4e\" href=\"/arvidn\">\n",
       "             Arvid Norberg\n",
       " </a>\n",
       " </h1>,\n",
       " <h1 class=\"h3 lh-condensed\">\n",
       " <a data-hydro-click='{\"event_type\":\"explore.click\",\"payload\":{\"click_context\":\"TRENDING_DEVELOPERS_PAGE\",\"click_target\":\"OWNER\",\"click_visual_representation\":\"TRENDING_DEVELOPER\",\"actor_id\":null,\"record_id\":2603405,\"originating_url\":\"https://github.com/trending/developers\",\"user_id\":null}}' data-hydro-click-hmac=\"3ea7b492f565bd71185624900f54b4cd4a187d3601ca59e9eb4347f851f9c487\" href=\"/RicoSuter\">\n",
       "             Rico Suter\n",
       " </a>\n",
       " </h1>,\n",
       " <h1 class=\"h3 lh-condensed\">\n",
       " <a data-hydro-click='{\"event_type\":\"explore.click\",\"payload\":{\"click_context\":\"TRENDING_DEVELOPERS_PAGE\",\"click_target\":\"OWNER\",\"click_visual_representation\":\"TRENDING_DEVELOPER\",\"actor_id\":null,\"record_id\":1500684,\"originating_url\":\"https://github.com/trending/developers\",\"user_id\":null}}' data-hydro-click-hmac=\"afe3aec5bdadb0aeb85a548c5eb839160a31116663462d7d9d49a7698faf0b92\" href=\"/kentcdodds\">\n",
       "             Kent C. Dodds\n",
       " </a>\n",
       " </h1>,\n",
       " <h1 class=\"h3 lh-condensed\">\n",
       " <a data-hydro-click='{\"event_type\":\"explore.click\",\"payload\":{\"click_context\":\"TRENDING_DEVELOPERS_PAGE\",\"click_target\":\"OWNER\",\"click_visual_representation\":\"TRENDING_DEVELOPER\",\"actor_id\":null,\"record_id\":2301202,\"originating_url\":\"https://github.com/trending/developers\",\"user_id\":null}}' data-hydro-click-hmac=\"f53761d5b10718f449464da3bfbbcf8621482bb3cbed07cedd090563a6ccc522\" href=\"/patrickhulce\">\n",
       "             Patrick Hulce\n",
       " </a>\n",
       " </h1>,\n",
       " <h1 class=\"h3 lh-condensed\">\n",
       " <a data-hydro-click='{\"event_type\":\"explore.click\",\"payload\":{\"click_context\":\"TRENDING_DEVELOPERS_PAGE\",\"click_target\":\"OWNER\",\"click_visual_representation\":\"TRENDING_DEVELOPER\",\"actor_id\":null,\"record_id\":73870,\"originating_url\":\"https://github.com/trending/developers\",\"user_id\":null}}' data-hydro-click-hmac=\"9ff7ccf069240db806f08128bfc62fbc6bbf69f4cc7d35a3259b8c4fd4808968\" href=\"/paulb777\">\n",
       "             Paul Beusterien\n",
       " </a>\n",
       " </h1>,\n",
       " <h1 class=\"h3 lh-condensed\">\n",
       " <a data-hydro-click='{\"event_type\":\"explore.click\",\"payload\":{\"click_context\":\"TRENDING_DEVELOPERS_PAGE\",\"click_target\":\"OWNER\",\"click_visual_representation\":\"TRENDING_DEVELOPER\",\"actor_id\":null,\"record_id\":455023,\"originating_url\":\"https://github.com/trending/developers\",\"user_id\":null}}' data-hydro-click-hmac=\"21316641e17db9df6f62fb628a4093a3532ba725da55d3aa4eae22db04512ef8\" href=\"/mgechev\">\n",
       "             Minko Gechev\n",
       " </a>\n",
       " </h1>,\n",
       " <h1 class=\"h3 lh-condensed\">\n",
       " <a data-hydro-click='{\"event_type\":\"explore.click\",\"payload\":{\"click_context\":\"TRENDING_DEVELOPERS_PAGE\",\"click_target\":\"OWNER\",\"click_visual_representation\":\"TRENDING_DEVELOPER\",\"actor_id\":null,\"record_id\":266302,\"originating_url\":\"https://github.com/trending/developers\",\"user_id\":null}}' data-hydro-click-hmac=\"994b4bb099e2ef07ce7f56cac71c8d5a2b6b1ceb508d6a610e839a81a371315c\" href=\"/gregberge\">\n",
       "             Greg Bergé\n",
       " </a>\n",
       " </h1>,\n",
       " <h1 class=\"h3 lh-condensed\">\n",
       " <a data-hydro-click='{\"event_type\":\"explore.click\",\"payload\":{\"click_context\":\"TRENDING_DEVELOPERS_PAGE\",\"click_target\":\"OWNER\",\"click_visual_representation\":\"TRENDING_DEVELOPER\",\"actor_id\":null,\"record_id\":2041322,\"originating_url\":\"https://github.com/trending/developers\",\"user_id\":null}}' data-hydro-click-hmac=\"092d2bc59b145d4289917381f40c2ed7dd9bf774ff9d44271dd610dc233321ad\" href=\"/hanxiao\">\n",
       "             Han Xiao\n",
       " </a>\n",
       " </h1>]"
      ]
     },
     "execution_count": 4,
     "metadata": {},
     "output_type": "execute_result"
    }
   ],
   "source": [
    "soup.find_all('h1',attrs={\"class\":\"h3 lh-condensed\"})"
   ]
  },
  {
   "cell_type": "code",
   "execution_count": 5,
   "metadata": {},
   "outputs": [
    {
     "data": {
      "text/plain": [
       "<h1 class=\"h3 lh-condensed\">\n",
       "<a data-hydro-click='{\"event_type\":\"explore.click\",\"payload\":{\"click_context\":\"TRENDING_DEVELOPERS_PAGE\",\"click_target\":\"OWNER\",\"click_visual_representation\":\"TRENDING_DEVELOPER\",\"actor_id\":null,\"record_id\":697676,\"originating_url\":\"https://github.com/trending/developers\",\"user_id\":null}}' data-hydro-click-hmac=\"24f1e07d51c83be96fbfa52a77edfd19be96ea3a4952fe00aba0d8e7c8c6d8f0\" href=\"/vadimdemedes\">\n",
       "            Vadim Demedes\n",
       "</a>\n",
       "</h1>"
      ]
     },
     "execution_count": 5,
     "metadata": {},
     "output_type": "execute_result"
    }
   ],
   "source": [
    "soup.find_all('h1',attrs={\"class\":\"h3 lh-condensed\"})[0]"
   ]
  },
  {
   "cell_type": "code",
   "execution_count": 6,
   "metadata": {},
   "outputs": [
    {
     "data": {
      "text/plain": [
       "'Vadim Demedes'"
      ]
     },
     "execution_count": 6,
     "metadata": {},
     "output_type": "execute_result"
    }
   ],
   "source": [
    "soup.find_all('h1',attrs={\"class\":\"h3 lh-condensed\"})[0].text.strip()"
   ]
  },
  {
   "cell_type": "code",
   "execution_count": 7,
   "metadata": {},
   "outputs": [
    {
     "data": {
      "text/plain": [
       "['Vadim Demedes',\n",
       " 'Alon Zakai',\n",
       " 'Kentaro Wada',\n",
       " 'Tianon Gravi',\n",
       " 'Iain Collins',\n",
       " 'Hadley Wickham',\n",
       " 'Björn Rabenstein',\n",
       " 'Caleb Porzio',\n",
       " 'James Agnew',\n",
       " 'William Candillon',\n",
       " 'Łukasz Magiera',\n",
       " 'Taylor Otwell',\n",
       " 'Ivan Paulovich',\n",
       " 'John Ryan',\n",
       " 'Ines Montani',\n",
       " 'Mislav Marohnić',\n",
       " 'Filip Skokan',\n",
       " 'Arvid Norberg',\n",
       " 'Rico Suter',\n",
       " 'Kent C. Dodds',\n",
       " 'Patrick Hulce',\n",
       " 'Paul Beusterien',\n",
       " 'Minko Gechev',\n",
       " 'Greg Bergé',\n",
       " 'Han Xiao']"
      ]
     },
     "execution_count": 7,
     "metadata": {},
     "output_type": "execute_result"
    }
   ],
   "source": [
    "names= [name.text.strip() for name in soup.find_all('h1',attrs={\"class\":\"h3 lh-condensed\"})]\n",
    "names"
   ]
  },
  {
   "cell_type": "code",
   "execution_count": 8,
   "metadata": {},
   "outputs": [
    {
     "data": {
      "text/plain": [
       "'kripken'"
      ]
     },
     "execution_count": 8,
     "metadata": {},
     "output_type": "execute_result"
    }
   ],
   "source": [
    "soup.find_all('p')[2].text.strip()"
   ]
  },
  {
   "cell_type": "code",
   "execution_count": 9,
   "metadata": {},
   "outputs": [
    {
     "data": {
      "text/plain": [
       "'vadimdemedes'"
      ]
     },
     "execution_count": 9,
     "metadata": {},
     "output_type": "execute_result"
    }
   ],
   "source": [
    "tag_h1= soup.find_all('h1',attrs={\"class\":\"h3 lh-condensed\"})\n",
    "tag_h1[0].find('a')['href'].replace(\"/\",\"\")"
   ]
  },
  {
   "cell_type": "code",
   "execution_count": 10,
   "metadata": {},
   "outputs": [
    {
     "data": {
      "text/plain": [
       "<h1 class=\"h3 lh-condensed\">\n",
       "<a data-hydro-click='{\"event_type\":\"explore.click\",\"payload\":{\"click_context\":\"TRENDING_DEVELOPERS_PAGE\",\"click_target\":\"OWNER\",\"click_visual_representation\":\"TRENDING_DEVELOPER\",\"actor_id\":null,\"record_id\":697676,\"originating_url\":\"https://github.com/trending/developers\",\"user_id\":null}}' data-hydro-click-hmac=\"24f1e07d51c83be96fbfa52a77edfd19be96ea3a4952fe00aba0d8e7c8c6d8f0\" href=\"/vadimdemedes\">\n",
       "            Vadim Demedes\n",
       "</a>\n",
       "</h1>"
      ]
     },
     "execution_count": 10,
     "metadata": {},
     "output_type": "execute_result"
    }
   ],
   "source": [
    "tag_h1[0]"
   ]
  },
  {
   "cell_type": "code",
   "execution_count": 11,
   "metadata": {},
   "outputs": [
    {
     "data": {
      "text/plain": [
       "<a data-hydro-click='{\"event_type\":\"explore.click\",\"payload\":{\"click_context\":\"TRENDING_DEVELOPERS_PAGE\",\"click_target\":\"OWNER\",\"click_visual_representation\":\"TRENDING_DEVELOPER\",\"actor_id\":null,\"record_id\":697676,\"originating_url\":\"https://github.com/trending/developers\",\"user_id\":null}}' data-hydro-click-hmac=\"24f1e07d51c83be96fbfa52a77edfd19be96ea3a4952fe00aba0d8e7c8c6d8f0\" href=\"/vadimdemedes\">\n",
       "            Vadim Demedes\n",
       "</a>"
      ]
     },
     "execution_count": 11,
     "metadata": {},
     "output_type": "execute_result"
    }
   ],
   "source": [
    "tag_h1[0].find('a')"
   ]
  },
  {
   "cell_type": "code",
   "execution_count": 12,
   "metadata": {},
   "outputs": [
    {
     "data": {
      "text/plain": [
       "'/vadimdemedes'"
      ]
     },
     "execution_count": 12,
     "metadata": {},
     "output_type": "execute_result"
    }
   ],
   "source": [
    "tag_h1[0].find('a')['href']"
   ]
  },
  {
   "cell_type": "markdown",
   "metadata": {},
   "source": [
    "---"
   ]
  },
  {
   "cell_type": "code",
   "execution_count": 13,
   "metadata": {},
   "outputs": [
    {
     "data": {
      "text/plain": [
       "['vadimdemedes (Vadim Demedes)',\n",
       " 'kripken (Alon Zakai)',\n",
       " 'wkentaro (Kentaro Wada)',\n",
       " 'tianon (Tianon Gravi)',\n",
       " 'iaincollins (Iain Collins)',\n",
       " 'hadley (Hadley Wickham)',\n",
       " 'beorn7 (Björn Rabenstein)',\n",
       " 'calebporzio (Caleb Porzio)',\n",
       " 'jamesagnew (James Agnew)',\n",
       " 'wcandillon (William Candillon)',\n",
       " 'magik6k (Łukasz Magiera)',\n",
       " 'taylorotwell (Taylor Otwell)',\n",
       " 'ivanpaulovich (Ivan Paulovich)',\n",
       " 'johnpryan (John Ryan)',\n",
       " 'ines (Ines Montani)',\n",
       " 'mislav (Mislav Marohnić)',\n",
       " 'panva (Filip Skokan)',\n",
       " 'arvidn (Arvid Norberg)',\n",
       " 'RicoSuter (Rico Suter)',\n",
       " 'kentcdodds (Kent C. Dodds)',\n",
       " 'patrickhulce (Patrick Hulce)',\n",
       " 'paulb777 (Paul Beusterien)',\n",
       " 'mgechev (Minko Gechev)',\n",
       " 'gregberge (Greg Bergé)',\n",
       " 'hanxiao (Han Xiao)']"
      ]
     },
     "execution_count": 13,
     "metadata": {},
     "output_type": "execute_result"
    }
   ],
   "source": [
    "# List of All names of Developers\n",
    "[name.find('a')['href'].replace(\"/\",\"\") + \" (\" + name.text.strip()+\")\" \\\n",
    " for name in soup.find_all('h1',attrs={\"class\":\"h3 lh-condensed\"})]"
   ]
  },
  {
   "cell_type": "markdown",
   "metadata": {},
   "source": [
    "#### Display the trending Python repositories in GitHub.\n",
    "\n",
    "The steps to solve this problem is similar to the previous one except that you need to find out the repository names instead of developer names."
   ]
  },
  {
   "cell_type": "code",
   "execution_count": 14,
   "metadata": {},
   "outputs": [],
   "source": [
    "# This is the url you will scrape in this exercise\n",
    "url = 'https://github.com/trending/python?since=daily'"
   ]
  },
  {
   "cell_type": "code",
   "execution_count": 15,
   "metadata": {},
   "outputs": [
    {
     "data": {
      "text/plain": [
       "<Response [200]>"
      ]
     },
     "execution_count": 15,
     "metadata": {},
     "output_type": "execute_result"
    }
   ],
   "source": [
    "response = requests.get(url)\n",
    "response"
   ]
  },
  {
   "cell_type": "code",
   "execution_count": 16,
   "metadata": {},
   "outputs": [],
   "source": [
    "html = response.content\n",
    "soup = BeautifulSoup(html)"
   ]
  },
  {
   "cell_type": "code",
   "execution_count": 17,
   "metadata": {},
   "outputs": [
    {
     "data": {
      "text/plain": [
       "<h1 class=\"h3 lh-condensed\">\n",
       "<a data-hydro-click='{\"event_type\":\"explore.click\",\"payload\":{\"click_context\":\"TRENDING_REPOSITORIES_PAGE\",\"click_target\":\"REPOSITORY\",\"click_visual_representation\":\"REPOSITORY_NAME_HEADING\",\"actor_id\":null,\"record_id\":268039885,\"originating_url\":\"https://github.com/trending/python?since=daily\",\"user_id\":null}}' data-hydro-click-hmac=\"444200bd1160752af74f720cf48d3af3565e7bc6ca7028ed2d7b689eaa5987ae\" href=\"/schenkd/nginx-ui\">\n",
       "<svg aria-hidden=\"true\" class=\"octicon octicon-repo mr-1 text-gray\" color=\"gray\" height=\"16\" mr=\"1\" version=\"1.1\" viewbox=\"0 0 16 16\" width=\"16\"><path d=\"M2 2.5A2.5 2.5 0 014.5 0h8.75a.75.75 0 01.75.75v12.5a.75.75 0 01-.75.75h-2.5a.75.75 0 110-1.5h1.75v-2h-8a1 1 0 00-.714 1.7.75.75 0 01-1.072 1.05A2.495 2.495 0 012 11.5v-9zm10.5-1V9h-8c-.356 0-.694.074-1 .208V2.5a1 1 0 011-1h8zM5 12.25v3.25a.25.25 0 00.4.2l1.45-1.087a.25.25 0 01.3 0L8.6 15.7a.25.25 0 00.4-.2v-3.25a.25.25 0 00-.25-.25h-3.5a.25.25 0 00-.25.25z\" fill-rule=\"evenodd\"></path></svg>\n",
       "<span class=\"text-normal\">\n",
       "        schenkd /\n",
       "</span>\n",
       "\n",
       "\n",
       "      nginx-ui\n",
       "</a>\n",
       "</h1>"
      ]
     },
     "execution_count": 17,
     "metadata": {},
     "output_type": "execute_result"
    }
   ],
   "source": [
    "tag_h1 = soup.find_all('h1',attrs={\"class\":\"h3 lh-condensed\"})[0]\n",
    "tag_h1"
   ]
  },
  {
   "cell_type": "code",
   "execution_count": 18,
   "metadata": {},
   "outputs": [
    {
     "data": {
      "text/plain": [
       "'/schenkd/nginx-ui'"
      ]
     },
     "execution_count": 18,
     "metadata": {},
     "output_type": "execute_result"
    }
   ],
   "source": [
    "tag_h1 .find_all('a')[0]['href']"
   ]
  },
  {
   "cell_type": "code",
   "execution_count": 19,
   "metadata": {},
   "outputs": [
    {
     "data": {
      "text/plain": [
       "['/schenkd/nginx-ui',\n",
       " '/vt-vl-lab/3d-photo-inpainting',\n",
       " '/keras-team/keras',\n",
       " '/google/jax',\n",
       " '/EdyJ/blender-to-unity-fbx-exporter',\n",
       " '/sqlmapproject/sqlmap',\n",
       " '/fighting41love/funNLP',\n",
       " '/minivision-ai/photo2cartoon',\n",
       " '/psf/black',\n",
       " '/opencv/open_model_zoo',\n",
       " '/python/typeshed',\n",
       " '/2020PB/police-brutality',\n",
       " '/wbt5/real-url',\n",
       " '/Kr1s77/awesome-python-login-model',\n",
       " '/facebookresearch/moco',\n",
       " '/trailofbits/algo',\n",
       " '/jackzhenguo/python-small-examples',\n",
       " '/docker/compose',\n",
       " '/stellargraph/stellargraph',\n",
       " '/saltstack/salt',\n",
       " '/celery/celery',\n",
       " '/dbader/schedule',\n",
       " '/dxa4481/truffleHog',\n",
       " '/d2l-ai/d2l-en',\n",
       " '/python/cpython']"
      ]
     },
     "execution_count": 19,
     "metadata": {},
     "output_type": "execute_result"
    }
   ],
   "source": [
    "[rep_name.find_all('a')[0]['href'] for rep_name in soup.find_all('h1',attrs={\"class\":\"h3 lh-condensed\"})] "
   ]
  },
  {
   "cell_type": "markdown",
   "metadata": {},
   "source": [
    "#### Display all the image links from Walt Disney wikipedia page."
   ]
  },
  {
   "cell_type": "code",
   "execution_count": 20,
   "metadata": {},
   "outputs": [
    {
     "data": {
      "text/plain": [
       "<Response [200]>"
      ]
     },
     "execution_count": 20,
     "metadata": {},
     "output_type": "execute_result"
    }
   ],
   "source": [
    "# This is the url you will scrape in this exercise\n",
    "url = 'https://en.wikipedia.org/wiki/Walt_Disney'\n",
    "response = requests.get(url)\n",
    "response"
   ]
  },
  {
   "cell_type": "code",
   "execution_count": 21,
   "metadata": {},
   "outputs": [],
   "source": [
    "html=response.content\n",
    "soup=BeautifulSoup(html)"
   ]
  },
  {
   "cell_type": "code",
   "execution_count": 22,
   "metadata": {},
   "outputs": [
    {
     "data": {
      "text/plain": [
       "<img alt=\"This is a featured article. Click here for more information.\" data-file-height=\"438\" data-file-width=\"462\" decoding=\"async\" height=\"19\" src=\"//upload.wikimedia.org/wikipedia/en/thumb/e/e7/Cscr-featured.svg/20px-Cscr-featured.svg.png\" srcset=\"//upload.wikimedia.org/wikipedia/en/thumb/e/e7/Cscr-featured.svg/30px-Cscr-featured.svg.png 1.5x, //upload.wikimedia.org/wikipedia/en/thumb/e/e7/Cscr-featured.svg/40px-Cscr-featured.svg.png 2x\" width=\"20\"/>"
      ]
     },
     "execution_count": 22,
     "metadata": {},
     "output_type": "execute_result"
    }
   ],
   "source": [
    "soup.find_all(\"img\")[0]"
   ]
  },
  {
   "cell_type": "code",
   "execution_count": 23,
   "metadata": {},
   "outputs": [
    {
     "data": {
      "text/plain": [
       "'//upload.wikimedia.org/wikipedia/en/thumb/e/e7/Cscr-featured.svg/20px-Cscr-featured.svg.png'"
      ]
     },
     "execution_count": 23,
     "metadata": {},
     "output_type": "execute_result"
    }
   ],
   "source": [
    "soup.find_all(\"img\")[0]['src']"
   ]
  },
  {
   "cell_type": "code",
   "execution_count": 24,
   "metadata": {},
   "outputs": [
    {
     "data": {
      "text/plain": [
       "['//upload.wikimedia.org/wikipedia/en/thumb/e/e7/Cscr-featured.svg/20px-Cscr-featured.svg.png',\n",
       " '//upload.wikimedia.org/wikipedia/en/thumb/8/8c/Extended-protection-shackle.svg/20px-Extended-protection-shackle.svg.png',\n",
       " '//upload.wikimedia.org/wikipedia/commons/thumb/d/df/Walt_Disney_1946.JPG/220px-Walt_Disney_1946.JPG',\n",
       " '//upload.wikimedia.org/wikipedia/commons/thumb/8/87/Walt_Disney_1942_signature.svg/150px-Walt_Disney_1942_signature.svg.png',\n",
       " '//upload.wikimedia.org/wikipedia/commons/thumb/c/c4/Walt_Disney_envelope_ca._1921.jpg/220px-Walt_Disney_envelope_ca._1921.jpg',\n",
       " '//upload.wikimedia.org/wikipedia/commons/thumb/4/4d/Newman_Laugh-O-Gram_%281921%29.webm/220px-seek%3D2-Newman_Laugh-O-Gram_%281921%29.webm.jpg',\n",
       " '//upload.wikimedia.org/wikipedia/commons/thumb/0/0d/Trolley_Troubles_poster.jpg/170px-Trolley_Troubles_poster.jpg',\n",
       " '//upload.wikimedia.org/wikipedia/commons/thumb/7/71/Walt_Disney_and_his_cartoon_creation_%22Mickey_Mouse%22_-_National_Board_of_Review_Magazine.jpg/170px-Walt_Disney_and_his_cartoon_creation_%22Mickey_Mouse%22_-_National_Board_of_Review_Magazine.jpg',\n",
       " '//upload.wikimedia.org/wikipedia/en/thumb/4/4e/Steamboat-willie.jpg/170px-Steamboat-willie.jpg',\n",
       " '//upload.wikimedia.org/wikipedia/commons/thumb/5/57/Walt_Disney_1935.jpg/170px-Walt_Disney_1935.jpg',\n",
       " '//upload.wikimedia.org/wikipedia/commons/thumb/c/cd/Walt_Disney_Snow_white_1937_trailer_screenshot_%2813%29.jpg/220px-Walt_Disney_Snow_white_1937_trailer_screenshot_%2813%29.jpg',\n",
       " '//upload.wikimedia.org/wikipedia/commons/thumb/1/15/Disney_drawing_goofy.jpg/170px-Disney_drawing_goofy.jpg',\n",
       " '//upload.wikimedia.org/wikipedia/commons/thumb/1/13/DisneySchiphol1951.jpg/220px-DisneySchiphol1951.jpg',\n",
       " '//upload.wikimedia.org/wikipedia/commons/thumb/8/8c/WaltDisneyplansDisneylandDec1954.jpg/220px-WaltDisneyplansDisneylandDec1954.jpg',\n",
       " '//upload.wikimedia.org/wikipedia/commons/thumb/f/ff/Walt_disney_portrait_right.jpg/170px-Walt_disney_portrait_right.jpg',\n",
       " '//upload.wikimedia.org/wikipedia/commons/thumb/1/1a/Walt_Disney_Grave.JPG/170px-Walt_Disney_Grave.JPG',\n",
       " '//upload.wikimedia.org/wikipedia/commons/thumb/2/2d/Roy_O._Disney_with_Company_at_Press_Conference.jpg/170px-Roy_O._Disney_with_Company_at_Press_Conference.jpg',\n",
       " '//upload.wikimedia.org/wikipedia/commons/thumb/a/a9/Disney_Display_Case.JPG/170px-Disney_Display_Case.JPG',\n",
       " '//upload.wikimedia.org/wikipedia/commons/thumb/6/6c/Disney1968.jpg/170px-Disney1968.jpg',\n",
       " '//upload.wikimedia.org/wikipedia/en/thumb/8/8a/OOjs_UI_icon_edit-ltr-progressive.svg/10px-OOjs_UI_icon_edit-ltr-progressive.svg.png',\n",
       " '//upload.wikimedia.org/wikipedia/commons/thumb/4/44/The_Walt_Disney_Company_Logo.svg/120px-The_Walt_Disney_Company_Logo.svg.png',\n",
       " '//upload.wikimedia.org/wikipedia/commons/thumb/d/da/Animation_disc.svg/30px-Animation_disc.svg.png',\n",
       " '//upload.wikimedia.org/wikipedia/en/thumb/6/69/P_vip.svg/29px-P_vip.svg.png',\n",
       " '//upload.wikimedia.org/wikipedia/commons/thumb/1/1a/Magic_Kingdom_castle.jpg/24px-Magic_Kingdom_castle.jpg',\n",
       " '//upload.wikimedia.org/wikipedia/en/thumb/e/e7/Video-x-generic.svg/30px-Video-x-generic.svg.png',\n",
       " '//upload.wikimedia.org/wikipedia/commons/thumb/a/a3/Flag_of_Los_Angeles_County%2C_California.svg/30px-Flag_of_Los_Angeles_County%2C_California.svg.png',\n",
       " '//upload.wikimedia.org/wikipedia/commons/thumb/8/8c/Blank_television_set.svg/30px-Blank_television_set.svg.png',\n",
       " '//upload.wikimedia.org/wikipedia/en/thumb/a/a4/Flag_of_the_United_States.svg/30px-Flag_of_the_United_States.svg.png',\n",
       " '//upload.wikimedia.org/wikipedia/en/thumb/4/4a/Commons-logo.svg/22px-Commons-logo.svg.png',\n",
       " '//upload.wikimedia.org/wikipedia/commons/thumb/f/fa/Wikiquote-logo.svg/25px-Wikiquote-logo.svg.png',\n",
       " '//upload.wikimedia.org/wikipedia/commons/thumb/f/ff/Wikidata-logo.svg/30px-Wikidata-logo.svg.png',\n",
       " '//upload.wikimedia.org/wikipedia/en/thumb/8/8a/OOjs_UI_icon_edit-ltr-progressive.svg/10px-OOjs_UI_icon_edit-ltr-progressive.svg.png',\n",
       " '//en.wikipedia.org/wiki/Special:CentralAutoLogin/start?type=1x1',\n",
       " '/static/images/wikimedia-button.png',\n",
       " '/static/images/poweredby_mediawiki_88x31.png']"
      ]
     },
     "execution_count": 24,
     "metadata": {},
     "output_type": "execute_result"
    }
   ],
   "source": [
    "[link['src'] for link in soup.find_all(\"img\")]"
   ]
  },
  {
   "cell_type": "markdown",
   "metadata": {},
   "source": [
    "#### Retrieve an arbitary Wikipedia page of \"Python\" and create a list of links on that page."
   ]
  },
  {
   "cell_type": "code",
   "execution_count": 25,
   "metadata": {},
   "outputs": [],
   "source": [
    "# This is the url you will scrape in this exercise\n",
    "url ='https://en.wikipedia.org/wiki/Python' \n",
    "response = requests.get(url)\n",
    "html = response.content\n",
    "soup = BeautifulSoup(html)"
   ]
  },
  {
   "cell_type": "code",
   "execution_count": 26,
   "metadata": {},
   "outputs": [],
   "source": [
    "# soup.find_all('a')[0]['href']   # error there is no href"
   ]
  },
  {
   "cell_type": "code",
   "execution_count": 27,
   "metadata": {},
   "outputs": [
    {
     "data": {
      "text/plain": [
       "'#p-search'"
      ]
     },
     "execution_count": 27,
     "metadata": {},
     "output_type": "execute_result"
    }
   ],
   "source": [
    "soup.find_all('a')[2]['href']     # No information of links"
   ]
  },
  {
   "cell_type": "code",
   "execution_count": 28,
   "metadata": {},
   "outputs": [
    {
     "data": {
      "text/plain": [
       "'https://en.wiktionary.org/wiki/Python'"
      ]
     },
     "execution_count": 28,
     "metadata": {},
     "output_type": "execute_result"
    }
   ],
   "source": [
    "soup.find_all('a')[3]['href']     # From 4th elements, inf of links exist"
   ]
  },
  {
   "cell_type": "code",
   "execution_count": 29,
   "metadata": {},
   "outputs": [],
   "source": [
    "#for item in soup.find_all('a'):\n",
    "#    if 'href' in item.attrs;       \n",
    "        "
   ]
  },
  {
   "cell_type": "code",
   "execution_count": 30,
   "metadata": {},
   "outputs": [
    {
     "name": "stdout",
     "output_type": "stream",
     "text": [
      "<a id=\"top\"></a>\n",
      "<a class=\"mw-jump-link\" href=\"#mw-head\">Jump to navigation</a>\n",
      "<a class=\"mw-jump-link\" href=\"#p-search\">Jump to search</a>\n",
      "<a class=\"extiw\" href=\"https://en.wiktionary.org/wiki/Python\" title=\"wiktionary:Python\">Python</a>\n",
      "<a class=\"extiw\" href=\"https://en.wiktionary.org/wiki/python\" title=\"wiktionary:python\">python</a>\n",
      "<a href=\"#Snakes\"><span class=\"tocnumber\">1</span> <span class=\"toctext\">Snakes</span></a>\n",
      "<a href=\"#Ancient_Greece\"><span class=\"tocnumber\">2</span> <span class=\"toctext\">Ancient Greece</span></a>\n",
      "<a href=\"#Media_and_entertainment\"><span class=\"tocnumber\">3</span> <span class=\"toctext\">Media and entertainment</span></a>\n",
      "<a href=\"#Computing\"><span class=\"tocnumber\">4</span> <span class=\"toctext\">Computing</span></a>\n",
      "<a href=\"#Engineering\"><span class=\"tocnumber\">5</span> <span class=\"toctext\">Engineering</span></a>\n",
      "<a href=\"#Roller_coasters\"><span class=\"tocnumber\">5.1</span> <span class=\"toctext\">Roller coasters</span></a>\n",
      "<a href=\"#Vehicles\"><span class=\"tocnumber\">5.2</span> <span class=\"toctext\">Vehicles</span></a>\n",
      "<a href=\"#Weaponry\"><span class=\"tocnumber\">5.3</span> <span class=\"toctext\">Weaponry</span></a>\n",
      "<a href=\"#People\"><span class=\"tocnumber\">6</span> <span class=\"toctext\">People</span></a>\n",
      "<a href=\"#Other_uses\"><span class=\"tocnumber\">7</span> <span class=\"toctext\">Other uses</span></a>\n",
      "<a href=\"#See_also\"><span class=\"tocnumber\">8</span> <span class=\"toctext\">See also</span></a>\n",
      "<a href=\"/w/index.php?title=Python&amp;action=edit&amp;section=1\" title=\"Edit section: Snakes\">edit</a>\n",
      "<a href=\"/wiki/Pythonidae\" title=\"Pythonidae\">Pythonidae</a>\n",
      "<a href=\"/wiki/Python_(genus)\" title=\"Python (genus)\"><i>Python</i> (genus)</a>\n",
      "<a href=\"/w/index.php?title=Python&amp;action=edit&amp;section=2\" title=\"Edit section: Ancient Greece\">edit</a>\n",
      "<a href=\"/wiki/Python_(mythology)\" title=\"Python (mythology)\">Python (mythology)</a>\n",
      "<a href=\"/wiki/Python_of_Aenus\" title=\"Python of Aenus\">Python of Aenus</a>\n",
      "<a href=\"/wiki/Python_(painter)\" title=\"Python (painter)\">Python (painter)</a>\n",
      "<a href=\"/wiki/Python_of_Byzantium\" title=\"Python of Byzantium\">Python of Byzantium</a>\n",
      "<a href=\"/wiki/Python_of_Catana\" title=\"Python of Catana\">Python of Catana</a>\n",
      "<a href=\"/w/index.php?title=Python&amp;action=edit&amp;section=3\" title=\"Edit section: Media and entertainment\">edit</a>\n",
      "<a href=\"/wiki/Python_(film)\" title=\"Python (film)\"><i>Python</i> (film)</a>\n",
      "<a href=\"/wiki/Pythons_2\" title=\"Pythons 2\">Pythons 2</a>\n",
      "<a href=\"/wiki/Monty_Python\" title=\"Monty Python\">Monty Python</a>\n",
      "<a href=\"/wiki/Python_(Monty)_Pictures\" title=\"Python (Monty) Pictures\">Python (Monty) Pictures</a>\n",
      "<a href=\"/w/index.php?title=Python&amp;action=edit&amp;section=4\" title=\"Edit section: Computing\">edit</a>\n",
      "<a href=\"/wiki/Python_(programming_language)\" title=\"Python (programming language)\">Python (programming language)</a>\n",
      "<a href=\"/wiki/CPython\" title=\"CPython\">CPython</a>\n",
      "<a href=\"/wiki/CMU_Common_Lisp\" title=\"CMU Common Lisp\">CMU Common Lisp</a>\n",
      "<a href=\"/wiki/PERQ#PERQ_3\" title=\"PERQ\">PERQ 3</a>\n",
      "<a href=\"/w/index.php?title=Python&amp;action=edit&amp;section=5\" title=\"Edit section: Engineering\">edit</a>\n",
      "<a href=\"/w/index.php?title=Python&amp;action=edit&amp;section=6\" title=\"Edit section: Roller coasters\">edit</a>\n",
      "<a href=\"/wiki/Python_(Busch_Gardens_Tampa_Bay)\" title=\"Python (Busch Gardens Tampa Bay)\">Python (Busch Gardens Tampa Bay)</a>\n",
      "<a href=\"/wiki/Python_(Coney_Island,_Cincinnati,_Ohio)\" title=\"Python (Coney Island, Cincinnati, Ohio)\">Python (Coney Island, Cincinnati, Ohio)</a>\n",
      "<a href=\"/wiki/Python_(Efteling)\" title=\"Python (Efteling)\">Python (Efteling)</a>\n",
      "<a href=\"/w/index.php?title=Python&amp;action=edit&amp;section=7\" title=\"Edit section: Vehicles\">edit</a>\n",
      "<a href=\"/wiki/Python_(automobile_maker)\" title=\"Python (automobile maker)\">Python (automobile maker)</a>\n",
      "<a href=\"/wiki/Python_(Ford_prototype)\" title=\"Python (Ford prototype)\">Python (Ford prototype)</a>\n",
      "<a href=\"/w/index.php?title=Python&amp;action=edit&amp;section=8\" title=\"Edit section: Weaponry\">edit</a>\n",
      "<a href=\"/wiki/Colt_Python\" title=\"Colt Python\">Colt Python</a>\n",
      "<a href=\"/wiki/Python_(missile)\" title=\"Python (missile)\">Python (missile)</a>\n",
      "<a href=\"/wiki/Python_(nuclear_primary)\" title=\"Python (nuclear primary)\">Python (nuclear primary)</a>\n",
      "<a href=\"/w/index.php?title=Python&amp;action=edit&amp;section=9\" title=\"Edit section: People\">edit</a>\n",
      "<a href=\"/wiki/Python_Anghelo\" title=\"Python Anghelo\">Python Anghelo</a>\n",
      "<a href=\"/w/index.php?title=Python&amp;action=edit&amp;section=10\" title=\"Edit section: Other uses\">edit</a>\n",
      "<a href=\"/wiki/PYTHON\" title=\"PYTHON\">PYTHON</a>\n",
      "<a href=\"/w/index.php?title=Python&amp;action=edit&amp;section=11\" title=\"Edit section: See also\">edit</a>\n",
      "<a href=\"/wiki/Cython\" title=\"Cython\">Cython</a>\n",
      "<a href=\"/wiki/Pyton\" title=\"Pyton\">Pyton</a>\n",
      "<a class=\"image\" href=\"/wiki/File:Disambig_gray.svg\"><img alt=\"Disambiguation icon\" data-file-height=\"168\" data-file-width=\"220\" decoding=\"async\" height=\"23\" src=\"//upload.wikimedia.org/wikipedia/en/thumb/5/5f/Disambig_gray.svg/30px-Disambig_gray.svg.png\" srcset=\"//upload.wikimedia.org/wikipedia/en/thumb/5/5f/Disambig_gray.svg/45px-Disambig_gray.svg.png 1.5x, //upload.wikimedia.org/wikipedia/en/thumb/5/5f/Disambig_gray.svg/60px-Disambig_gray.svg.png 2x\" width=\"30\"/></a>\n",
      "<a href=\"/wiki/Help:Disambiguation\" title=\"Help:Disambiguation\">disambiguation</a>\n",
      "<a class=\"external text\" href=\"https://en.wikipedia.org/w/index.php?title=Special:WhatLinksHere/Python&amp;namespace=0\">internal link</a>\n",
      "<a dir=\"ltr\" href=\"https://en.wikipedia.org/w/index.php?title=Python&amp;oldid=963092579\">https://en.wikipedia.org/w/index.php?title=Python&amp;oldid=963092579</a>\n",
      "<a href=\"/wiki/Help:Category\" title=\"Help:Category\">Categories</a>\n",
      "<a href=\"/wiki/Category:Disambiguation_pages\" title=\"Category:Disambiguation pages\">Disambiguation pages</a>\n",
      "<a href=\"/wiki/Category:Disambiguation_pages_with_short_descriptions\" title=\"Category:Disambiguation pages with short descriptions\">Disambiguation pages with short descriptions</a>\n",
      "<a href=\"/wiki/Category:All_article_disambiguation_pages\" title=\"Category:All article disambiguation pages\">All article disambiguation pages</a>\n",
      "<a href=\"/wiki/Category:All_disambiguation_pages\" title=\"Category:All disambiguation pages\">All disambiguation pages</a>\n",
      "<a href=\"/wiki/Category:Animal_common_name_disambiguation_pages\" title=\"Category:Animal common name disambiguation pages\">Animal common name disambiguation pages</a>\n",
      "<a accesskey=\"n\" href=\"/wiki/Special:MyTalk\" title=\"Discussion about edits from this IP address [n]\">Talk</a>\n",
      "<a accesskey=\"y\" href=\"/wiki/Special:MyContributions\" title=\"A list of edits made from this IP address [y]\">Contributions</a>\n",
      "<a href=\"/w/index.php?title=Special:CreateAccount&amp;returnto=Python\" title=\"You are encouraged to create an account and log in; however, it is not mandatory\">Create account</a>\n",
      "<a accesskey=\"o\" href=\"/w/index.php?title=Special:UserLogin&amp;returnto=Python\" title=\"You're encouraged to log in; however, it's not mandatory. [o]\">Log in</a>\n",
      "<a accesskey=\"c\" href=\"/wiki/Python\" title=\"View the content page [c]\">Article</a>\n",
      "<a accesskey=\"t\" href=\"/wiki/Talk:Python\" rel=\"discussion\" title=\"Discuss improvements to the content page [t]\">Talk</a>\n",
      "<a href=\"/wiki/Python\">Read</a>\n",
      "<a accesskey=\"e\" href=\"/w/index.php?title=Python&amp;action=edit\" title=\"Edit this page [e]\">Edit</a>\n",
      "<a accesskey=\"h\" href=\"/w/index.php?title=Python&amp;action=history\" title=\"Past revisions of this page [h]\">View history</a>\n",
      "<a class=\"mw-wiki-logo\" href=\"/wiki/Main_Page\" title=\"Visit the main page\"></a>\n",
      "<a accesskey=\"z\" href=\"/wiki/Main_Page\" title=\"Visit the main page [z]\">Main page</a>\n",
      "<a href=\"/wiki/Wikipedia:Contents\" title=\"Guides to browsing Wikipedia\">Contents</a>\n",
      "<a href=\"/wiki/Portal:Current_events\" title=\"Find background information on current events\">Current events</a>\n",
      "<a accesskey=\"x\" href=\"/wiki/Special:Random\" title=\"Visit a randomly selected article [x]\">Random article</a>\n",
      "<a href=\"/wiki/Wikipedia:About\" title=\"Learn about Wikipedia and how it works\">About Wikipedia</a>\n",
      "<a href=\"//en.wikipedia.org/wiki/Wikipedia:Contact_us\" title=\"How to contact Wikipedia\">Contact us</a>\n",
      "<a href=\"https://donate.wikimedia.org/wiki/Special:FundraiserRedirector?utm_source=donate&amp;utm_medium=sidebar&amp;utm_campaign=C13_en.wikipedia.org&amp;uselang=en\" title=\"Support us by donating to the Wikimedia Foundation\">Donate</a>\n",
      "<a href=\"//shop.wikimedia.org\" title=\"Visit the Wikipedia store\">Wikipedia store</a>\n",
      "<a href=\"/wiki/Help:Contents\" title=\"Guidance on how to use and edit Wikipedia\">Help</a>\n",
      "<a href=\"/wiki/Wikipedia:Community_portal\" title=\"About the project, what you can do, where to find things\">Community portal</a>\n",
      "<a accesskey=\"r\" href=\"/wiki/Special:RecentChanges\" title=\"A list of recent changes to Wikipedia [r]\">Recent changes</a>\n",
      "<a href=\"/wiki/Wikipedia:File_Upload_Wizard\" title=\"Add images or other media for use on Wikipedia\">Upload file</a>\n",
      "<a accesskey=\"j\" href=\"/wiki/Special:WhatLinksHere/Python\" title=\"List of all English Wikipedia pages containing links to this page [j]\">What links here</a>\n",
      "<a accesskey=\"k\" href=\"/wiki/Special:RecentChangesLinked/Python\" rel=\"nofollow\" title=\"Recent changes in pages linked from this page [k]\">Related changes</a>\n",
      "<a accesskey=\"u\" href=\"/wiki/Wikipedia:File_Upload_Wizard\" title=\"Upload files [u]\">Upload file</a>\n",
      "<a accesskey=\"q\" href=\"/wiki/Special:SpecialPages\" title=\"A list of all special pages [q]\">Special pages</a>\n",
      "<a href=\"/w/index.php?title=Python&amp;oldid=963092579\" title=\"Permanent link to this revision of this page\">Permanent link</a>\n",
      "<a href=\"/w/index.php?title=Python&amp;action=info\" title=\"More information about this page\">Page information</a>\n",
      "<a accesskey=\"g\" href=\"https://www.wikidata.org/wiki/Special:EntityPage/Q747452\" title=\"Structured data on this page hosted by Wikidata [g]\">Wikidata item</a>\n",
      "<a href=\"/w/index.php?title=Special:CiteThisPage&amp;page=Python&amp;id=963092579&amp;wpFormIdentifier=titleform\" title=\"Information on how to cite this page\">Cite this page</a>\n",
      "<a class=\"interlanguage-link-target\" href=\"https://af.wikipedia.org/wiki/Python\" hreflang=\"af\" lang=\"af\" title=\"Python – Afrikaans\">Afrikaans</a>\n",
      "<a class=\"interlanguage-link-target\" href=\"https://als.wikipedia.org/wiki/Python\" hreflang=\"gsw\" lang=\"gsw\" title=\"Python – Alemannisch\">Alemannisch</a>\n",
      "<a class=\"interlanguage-link-target\" href=\"https://ar.wikipedia.org/wiki/%D8%A8%D8%A7%D9%8A%D8%AB%D9%88%D9%86\" hreflang=\"ar\" lang=\"ar\" title=\"بايثون – Arabic\">العربية</a>\n",
      "<a class=\"interlanguage-link-target\" href=\"https://az.wikipedia.org/wiki/Python\" hreflang=\"az\" lang=\"az\" title=\"Python – Azerbaijani\">Azərbaycanca</a>\n",
      "<a class=\"interlanguage-link-target\" href=\"https://bn.wikipedia.org/wiki/%E0%A6%AA%E0%A6%BE%E0%A6%87%E0%A6%A5%E0%A6%A8_(%E0%A6%A6%E0%A7%8D%E0%A6%AC%E0%A7%8D%E0%A6%AF%E0%A6%B0%E0%A7%8D%E0%A6%A5%E0%A6%A4%E0%A6%BE_%E0%A6%A8%E0%A6%BF%E0%A6%B0%E0%A6%B8%E0%A6%A8)\" hreflang=\"bn\" lang=\"bn\" title=\"পাইথন (দ্ব্যর্থতা নিরসন) – Bangla\">বাংলা</a>\n",
      "<a class=\"interlanguage-link-target\" href=\"https://be.wikipedia.org/wiki/Python\" hreflang=\"be\" lang=\"be\" title=\"Python – Belarusian\">Беларуская</a>\n",
      "<a class=\"interlanguage-link-target\" href=\"https://bg.wikipedia.org/wiki/%D0%9F%D0%B8%D1%82%D0%BE%D0%BD_(%D0%BF%D0%BE%D1%8F%D1%81%D0%BD%D0%B5%D0%BD%D0%B8%D0%B5)\" hreflang=\"bg\" lang=\"bg\" title=\"Питон (пояснение) – Bulgarian\">Български</a>\n",
      "<a class=\"interlanguage-link-target\" href=\"https://cs.wikipedia.org/wiki/Python_(rozcestn%C3%ADk)\" hreflang=\"cs\" lang=\"cs\" title=\"Python (rozcestník) – Czech\">Čeština</a>\n",
      "<a class=\"interlanguage-link-target\" href=\"https://da.wikipedia.org/wiki/Python\" hreflang=\"da\" lang=\"da\" title=\"Python – Danish\">Dansk</a>\n",
      "<a class=\"interlanguage-link-target\" href=\"https://de.wikipedia.org/wiki/Python\" hreflang=\"de\" lang=\"de\" title=\"Python – German\">Deutsch</a>\n",
      "<a class=\"interlanguage-link-target\" href=\"https://eo.wikipedia.org/wiki/Pitono_(apartigilo)\" hreflang=\"eo\" lang=\"eo\" title=\"Pitono (apartigilo) – Esperanto\">Esperanto</a>\n",
      "<a class=\"interlanguage-link-target\" href=\"https://eu.wikipedia.org/wiki/Python_(argipena)\" hreflang=\"eu\" lang=\"eu\" title=\"Python (argipena) – Basque\">Euskara</a>\n",
      "<a class=\"interlanguage-link-target\" href=\"https://fa.wikipedia.org/wiki/%D9%BE%D8%A7%DB%8C%D8%AA%D9%88%D9%86\" hreflang=\"fa\" lang=\"fa\" title=\"پایتون – Persian\">فارسی</a>\n",
      "<a class=\"interlanguage-link-target\" href=\"https://fr.wikipedia.org/wiki/Python\" hreflang=\"fr\" lang=\"fr\" title=\"Python – French\">Français</a>\n",
      "<a class=\"interlanguage-link-target\" href=\"https://ko.wikipedia.org/wiki/%ED%8C%8C%EC%9D%B4%EC%84%A0\" hreflang=\"ko\" lang=\"ko\" title=\"파이선 – Korean\">한국어</a>\n",
      "<a class=\"interlanguage-link-target\" href=\"https://hr.wikipedia.org/wiki/Python_(razdvojba)\" hreflang=\"hr\" lang=\"hr\" title=\"Python (razdvojba) – Croatian\">Hrvatski</a>\n",
      "<a class=\"interlanguage-link-target\" href=\"https://io.wikipedia.org/wiki/Pitono\" hreflang=\"io\" lang=\"io\" title=\"Pitono – Ido\">Ido</a>\n",
      "<a class=\"interlanguage-link-target\" href=\"https://id.wikipedia.org/wiki/Python\" hreflang=\"id\" lang=\"id\" title=\"Python – Indonesian\">Bahasa Indonesia</a>\n",
      "<a class=\"interlanguage-link-target\" href=\"https://ia.wikipedia.org/wiki/Python_(disambiguation)\" hreflang=\"ia\" lang=\"ia\" title=\"Python (disambiguation) – Interlingua\">Interlingua</a>\n",
      "<a class=\"interlanguage-link-target\" href=\"https://is.wikipedia.org/wiki/Python_(a%C3%B0greining)\" hreflang=\"is\" lang=\"is\" title=\"Python (aðgreining) – Icelandic\">Íslenska</a>\n",
      "<a class=\"interlanguage-link-target\" href=\"https://it.wikipedia.org/wiki/Python_(disambigua)\" hreflang=\"it\" lang=\"it\" title=\"Python (disambigua) – Italian\">Italiano</a>\n",
      "<a class=\"interlanguage-link-target\" href=\"https://he.wikipedia.org/wiki/%D7%A4%D7%99%D7%AA%D7%95%D7%9F\" hreflang=\"he\" lang=\"he\" title=\"פיתון – Hebrew\">עברית</a>\n",
      "<a class=\"interlanguage-link-target\" href=\"https://ka.wikipedia.org/wiki/%E1%83%9E%E1%83%98%E1%83%97%E1%83%9D%E1%83%9C%E1%83%98_(%E1%83%9B%E1%83%A0%E1%83%90%E1%83%95%E1%83%90%E1%83%9A%E1%83%9B%E1%83%9C%E1%83%98%E1%83%A8%E1%83%95%E1%83%9C%E1%83%94%E1%83%9A%E1%83%9D%E1%83%95%E1%83%90%E1%83%9C%E1%83%98)\" hreflang=\"ka\" lang=\"ka\" title=\"პითონი (მრავალმნიშვნელოვანი) – Georgian\">ქართული</a>\n",
      "<a class=\"interlanguage-link-target\" href=\"https://kg.wikipedia.org/wiki/Mboma_(nyoka)\" hreflang=\"kg\" lang=\"kg\" title=\"Mboma (nyoka) – Kongo\">Kongo</a>\n",
      "<a class=\"interlanguage-link-target\" href=\"https://la.wikipedia.org/wiki/Python_(discretiva)\" hreflang=\"la\" lang=\"la\" title=\"Python (discretiva) – Latin\">Latina</a>\n",
      "<a class=\"interlanguage-link-target\" href=\"https://lb.wikipedia.org/wiki/Python\" hreflang=\"lb\" lang=\"lb\" title=\"Python – Luxembourgish\">Lëtzebuergesch</a>\n",
      "<a class=\"interlanguage-link-target\" href=\"https://hu.wikipedia.org/wiki/Python_(egy%C3%A9rtelm%C5%B1s%C3%ADt%C5%91_lap)\" hreflang=\"hu\" lang=\"hu\" title=\"Python (egyértelműsítő lap) – Hungarian\">Magyar</a>\n",
      "<a class=\"interlanguage-link-target\" href=\"https://mr.wikipedia.org/wiki/%E0%A4%AA%E0%A4%BE%E0%A4%AF%E0%A4%A5%E0%A5%89%E0%A4%A8_(%E0%A4%86%E0%A4%9C%E0%A5%8D%E0%A4%9E%E0%A4%BE%E0%A4%B5%E0%A4%B2%E0%A5%80_%E0%A4%AD%E0%A4%BE%E0%A4%B7%E0%A4%BE)\" hreflang=\"mr\" lang=\"mr\" title=\"पायथॉन (आज्ञावली भाषा) – Marathi\">मराठी</a>\n",
      "<a class=\"interlanguage-link-target\" href=\"https://nl.wikipedia.org/wiki/Python\" hreflang=\"nl\" lang=\"nl\" title=\"Python – Dutch\">Nederlands</a>\n",
      "<a class=\"interlanguage-link-target\" href=\"https://ja.wikipedia.org/wiki/%E3%83%91%E3%82%A4%E3%82%BD%E3%83%B3\" hreflang=\"ja\" lang=\"ja\" title=\"パイソン – Japanese\">日本語</a>\n",
      "<a class=\"interlanguage-link-target\" href=\"https://no.wikipedia.org/wiki/Pyton\" hreflang=\"nb\" lang=\"nb\" title=\"Pyton – Norwegian Bokmål\">Norsk bokmål</a>\n",
      "<a class=\"interlanguage-link-target\" href=\"https://pl.wikipedia.org/wiki/Pyton\" hreflang=\"pl\" lang=\"pl\" title=\"Pyton – Polish\">Polski</a>\n",
      "<a class=\"interlanguage-link-target\" href=\"https://pt.wikipedia.org/wiki/Python_(desambigua%C3%A7%C3%A3o)\" hreflang=\"pt\" lang=\"pt\" title=\"Python (desambiguação) – Portuguese\">Português</a>\n",
      "<a class=\"interlanguage-link-target\" href=\"https://ru.wikipedia.org/wiki/Python_(%D0%B7%D0%BD%D0%B0%D1%87%D0%B5%D0%BD%D0%B8%D1%8F)\" hreflang=\"ru\" lang=\"ru\" title=\"Python (значения) – Russian\">Русский</a>\n",
      "<a class=\"interlanguage-link-target\" href=\"https://sk.wikipedia.org/wiki/Python\" hreflang=\"sk\" lang=\"sk\" title=\"Python – Slovak\">Slovenčina</a>\n",
      "<a class=\"interlanguage-link-target\" href=\"https://sr.wikipedia.org/wiki/%D0%9F%D0%B8%D1%82%D0%BE%D0%BD_(%D0%B2%D0%B8%D1%88%D0%B5%D0%B7%D0%BD%D0%B0%D1%87%D0%BD%D0%B0_%D0%BE%D0%B4%D1%80%D0%B5%D0%B4%D0%BD%D0%B8%D1%86%D0%B0)\" hreflang=\"sr\" lang=\"sr\" title=\"Питон (вишезначна одредница) – Serbian\">Српски / srpski</a>\n",
      "<a class=\"interlanguage-link-target\" href=\"https://sh.wikipedia.org/wiki/Python\" hreflang=\"sh\" lang=\"sh\" title=\"Python – Serbo-Croatian\">Srpskohrvatski / српскохрватски</a>\n",
      "<a class=\"interlanguage-link-target\" href=\"https://fi.wikipedia.org/wiki/Python\" hreflang=\"fi\" lang=\"fi\" title=\"Python – Finnish\">Suomi</a>\n",
      "<a class=\"interlanguage-link-target\" href=\"https://sv.wikipedia.org/wiki/Pyton\" hreflang=\"sv\" lang=\"sv\" title=\"Pyton – Swedish\">Svenska</a>\n",
      "<a class=\"interlanguage-link-target\" href=\"https://th.wikipedia.org/wiki/%E0%B9%84%E0%B8%9E%E0%B8%97%E0%B8%AD%E0%B8%99\" hreflang=\"th\" lang=\"th\" title=\"ไพทอน – Thai\">ไทย</a>\n",
      "<a class=\"interlanguage-link-target\" href=\"https://tr.wikipedia.org/wiki/Python\" hreflang=\"tr\" lang=\"tr\" title=\"Python – Turkish\">Türkçe</a>\n",
      "<a class=\"interlanguage-link-target\" href=\"https://uk.wikipedia.org/wiki/%D0%9F%D1%96%D1%84%D0%BE%D0%BD\" hreflang=\"uk\" lang=\"uk\" title=\"Піфон – Ukrainian\">Українська</a>\n",
      "<a class=\"interlanguage-link-target\" href=\"https://ur.wikipedia.org/wiki/%D9%BE%D8%A7%D8%A6%DB%8C%D8%AA%DA%BE%D9%88%D9%86\" hreflang=\"ur\" lang=\"ur\" title=\"پائیتھون – Urdu\">اردو</a>\n",
      "<a class=\"interlanguage-link-target\" href=\"https://vi.wikipedia.org/wiki/Python\" hreflang=\"vi\" lang=\"vi\" title=\"Python – Vietnamese\">Tiếng Việt</a>\n",
      "<a class=\"interlanguage-link-target\" href=\"https://zh.wikipedia.org/wiki/Python_(%E6%B6%88%E6%AD%A7%E4%B9%89)\" hreflang=\"zh\" lang=\"zh\" title=\"Python (消歧义) – Chinese\">中文</a>\n",
      "<a class=\"wbc-editpage\" href=\"https://www.wikidata.org/wiki/Special:EntityPage/Q747452#sitelinks-wikipedia\" title=\"Edit interlanguage links\">Edit links</a>\n",
      "<a href=\"https://commons.wikimedia.org/wiki/Category:Python\" hreflang=\"en\">Wikimedia Commons</a>\n",
      "<a href=\"/w/index.php?title=Special:ElectronPdf&amp;page=Python&amp;action=show-download-screen\" title=\"Download this page as a PDF file\">Download as PDF</a>\n",
      "<a accesskey=\"p\" href=\"/w/index.php?title=Python&amp;printable=yes\" title=\"Printable version of this page [p]\">Printable version</a>\n",
      "<a href=\"//en.wikipedia.org/wiki/Wikipedia:Text_of_Creative_Commons_Attribution-ShareAlike_3.0_Unported_License\" rel=\"license\">Creative Commons Attribution-ShareAlike License</a>\n",
      "<a href=\"//creativecommons.org/licenses/by-sa/3.0/\" rel=\"license\" style=\"display:none;\"></a>\n",
      "<a href=\"//foundation.wikimedia.org/wiki/Terms_of_Use\">Terms of Use</a>\n",
      "<a href=\"//foundation.wikimedia.org/wiki/Privacy_policy\">Privacy Policy</a>\n",
      "<a href=\"//www.wikimediafoundation.org/\">Wikimedia Foundation, Inc.</a>\n",
      "<a class=\"extiw\" href=\"https://foundation.wikimedia.org/wiki/Privacy_policy\" title=\"wmf:Privacy policy\">Privacy policy</a>\n",
      "<a href=\"/wiki/Wikipedia:About\" title=\"Wikipedia:About\">About Wikipedia</a>\n",
      "<a href=\"/wiki/Wikipedia:General_disclaimer\" title=\"Wikipedia:General disclaimer\">Disclaimers</a>\n",
      "<a href=\"//en.wikipedia.org/wiki/Wikipedia:Contact_us\">Contact Wikipedia</a>\n",
      "<a href=\"https://www.mediawiki.org/wiki/Special:MyLanguage/How_to_contribute\">Developers</a>\n",
      "<a href=\"https://stats.wikimedia.org/#/en.wikipedia.org\">Statistics</a>\n",
      "<a href=\"https://foundation.wikimedia.org/wiki/Cookie_statement\">Cookie statement</a>\n",
      "<a class=\"noprint stopMobileRedirectToggle\" href=\"//en.m.wikipedia.org/w/index.php?title=Python&amp;mobileaction=toggle_view_mobile\">Mobile view</a>\n",
      "<a href=\"https://wikimediafoundation.org/\"><img alt=\"Wikimedia Foundation\" height=\"31\" loading=\"lazy\" src=\"/static/images/wikimedia-button.png\" srcset=\"/static/images/wikimedia-button-1.5x.png 1.5x, /static/images/wikimedia-button-2x.png 2x\" width=\"88\"/></a>\n",
      "<a href=\"https://www.mediawiki.org/\"><img alt=\"Powered by MediaWiki\" height=\"31\" loading=\"lazy\" src=\"/static/images/poweredby_mediawiki_88x31.png\" srcset=\"/static/images/poweredby_mediawiki_132x47.png 1.5x, /static/images/poweredby_mediawiki_176x62.png 2x\" width=\"88\"/></a>\n"
     ]
    }
   ],
   "source": [
    "for item in soup.find_all('a'):\n",
    "    print(item)\n",
    "\n",
    "# note that the first element of 'a' doesn´t exists 'href'\n",
    "# it must be used TRY and EXCEPT "
   ]
  },
  {
   "cell_type": "code",
   "execution_count": 31,
   "metadata": {},
   "outputs": [
    {
     "data": {
      "text/plain": [
       "['/wiki/Special:RecentChanges',\n",
       " 'https://uk.wikipedia.org/wiki/%D0%9F%D1%96%D1%84%D0%BE%D0%BD',\n",
       " 'https://www.wikidata.org/wiki/Special:EntityPage/Q747452#sitelinks-wikipedia',\n",
       " 'https://pl.wikipedia.org/wiki/Pyton',\n",
       " '/wiki/Python_of_Aenus',\n",
       " 'https://en.wikipedia.org/w/index.php?title=Python&oldid=963092579',\n",
       " '/wiki/Portal:Current_events',\n",
       " '/wiki/Python_(film)',\n",
       " '/wiki/Python_(Coney_Island,_Cincinnati,_Ohio)',\n",
       " '/wiki/Category:Animal_common_name_disambiguation_pages',\n",
       " '/wiki/PERQ#PERQ_3',\n",
       " 'https://la.wikipedia.org/wiki/Python_(discretiva)',\n",
       " '/wiki/Category:Disambiguation_pages',\n",
       " 'https://en.wikipedia.org/w/index.php?title=Special:WhatLinksHere/Python&namespace=0',\n",
       " 'https://lb.wikipedia.org/wiki/Python',\n",
       " '/wiki/Python_(missile)',\n",
       " '/wiki/Python_(Busch_Gardens_Tampa_Bay)',\n",
       " '/wiki/Help:Contents',\n",
       " 'https://af.wikipedia.org/wiki/Python',\n",
       " '/wiki/Cython',\n",
       " '/wiki/Python_(genus)',\n",
       " 'https://en.wiktionary.org/wiki/Python',\n",
       " 'https://ur.wikipedia.org/wiki/%D9%BE%D8%A7%D8%A6%DB%8C%D8%AA%DA%BE%D9%88%D9%86',\n",
       " 'https://io.wikipedia.org/wiki/Pitono',\n",
       " '/wiki/Main_Page',\n",
       " 'https://en.wiktionary.org/wiki/python',\n",
       " '/wiki/Python_(painter)',\n",
       " '/wiki/Wikipedia:About',\n",
       " '/wiki/Python_(Efteling)',\n",
       " 'https://stats.wikimedia.org/#/en.wikipedia.org',\n",
       " 'https://ka.wikipedia.org/wiki/%E1%83%9E%E1%83%98%E1%83%97%E1%83%9D%E1%83%9C%E1%83%98_(%E1%83%9B%E1%83%A0%E1%83%90%E1%83%95%E1%83%90%E1%83%9A%E1%83%9B%E1%83%9C%E1%83%98%E1%83%A8%E1%83%95%E1%83%9C%E1%83%94%E1%83%9A%E1%83%9D%E1%83%95%E1%83%90%E1%83%9C%E1%83%98)',\n",
       " '/wiki/File:Disambig_gray.svg',\n",
       " '/wiki/CMU_Common_Lisp',\n",
       " '/wiki/Special:RecentChangesLinked/Python',\n",
       " '/wiki/Help:Disambiguation',\n",
       " 'https://no.wikipedia.org/wiki/Pyton',\n",
       " 'https://foundation.wikimedia.org/wiki/Privacy_policy',\n",
       " 'https://commons.wikimedia.org/wiki/Category:Python',\n",
       " '/wiki/Special:Random',\n",
       " 'https://fa.wikipedia.org/wiki/%D9%BE%D8%A7%DB%8C%D8%AA%D9%88%D9%86',\n",
       " 'https://www.wikidata.org/wiki/Special:EntityPage/Q747452',\n",
       " 'https://mr.wikipedia.org/wiki/%E0%A4%AA%E0%A4%BE%E0%A4%AF%E0%A4%A5%E0%A5%89%E0%A4%A8_(%E0%A4%86%E0%A4%9C%E0%A5%8D%E0%A4%9E%E0%A4%BE%E0%A4%B5%E0%A4%B2%E0%A5%80_%E0%A4%AD%E0%A4%BE%E0%A4%B7%E0%A4%BE)',\n",
       " '/wiki/Python_of_Catana',\n",
       " 'https://ja.wikipedia.org/wiki/%E3%83%91%E3%82%A4%E3%82%BD%E3%83%B3',\n",
       " '/wiki/Python_(nuclear_primary)',\n",
       " 'https://az.wikipedia.org/wiki/Python',\n",
       " 'https://nl.wikipedia.org/wiki/Python',\n",
       " '/wiki/Python_(programming_language)',\n",
       " '/wiki/Pyton',\n",
       " '/wiki/Wikipedia:Community_portal',\n",
       " 'https://hu.wikipedia.org/wiki/Python_(egy%C3%A9rtelm%C5%B1s%C3%ADt%C5%91_lap)',\n",
       " '/wiki/Category:All_disambiguation_pages',\n",
       " 'https://www.mediawiki.org/',\n",
       " '/wiki/PYTHON',\n",
       " '/wiki/Special:MyContributions',\n",
       " 'https://hr.wikipedia.org/wiki/Python_(razdvojba)',\n",
       " 'https://sk.wikipedia.org/wiki/Python',\n",
       " 'https://wikimediafoundation.org/',\n",
       " 'https://eu.wikipedia.org/wiki/Python_(argipena)',\n",
       " 'https://pt.wikipedia.org/wiki/Python_(desambigua%C3%A7%C3%A3o)',\n",
       " '/wiki/Pythonidae',\n",
       " 'https://zh.wikipedia.org/wiki/Python_(%E6%B6%88%E6%AD%A7%E4%B9%89)',\n",
       " 'https://sv.wikipedia.org/wiki/Pyton',\n",
       " 'https://ia.wikipedia.org/wiki/Python_(disambiguation)',\n",
       " 'https://www.mediawiki.org/wiki/Special:MyLanguage/How_to_contribute',\n",
       " 'https://ar.wikipedia.org/wiki/%D8%A8%D8%A7%D9%8A%D8%AB%D9%88%D9%86',\n",
       " 'https://vi.wikipedia.org/wiki/Python',\n",
       " '/wiki/Python_(mythology)',\n",
       " '/wiki/Pythons_2',\n",
       " 'https://ko.wikipedia.org/wiki/%ED%8C%8C%EC%9D%B4%EC%84%A0',\n",
       " 'https://it.wikipedia.org/wiki/Python_(disambigua)',\n",
       " 'https://kg.wikipedia.org/wiki/Mboma_(nyoka)',\n",
       " '/wiki/Python_(Monty)_Pictures',\n",
       " 'https://be.wikipedia.org/wiki/Python',\n",
       " 'https://cs.wikipedia.org/wiki/Python_(rozcestn%C3%ADk)',\n",
       " '/wiki/Category:Disambiguation_pages_with_short_descriptions',\n",
       " 'https://th.wikipedia.org/wiki/%E0%B9%84%E0%B8%9E%E0%B8%97%E0%B8%AD%E0%B8%99',\n",
       " 'https://fi.wikipedia.org/wiki/Python',\n",
       " '/wiki/Special:WhatLinksHere/Python',\n",
       " '/wiki/Wikipedia:Contents',\n",
       " 'https://de.wikipedia.org/wiki/Python',\n",
       " '/wiki/Colt_Python',\n",
       " '/wiki/Python',\n",
       " '/wiki/Help:Category',\n",
       " 'https://is.wikipedia.org/wiki/Python_(a%C3%B0greining)',\n",
       " 'https://foundation.wikimedia.org/wiki/Cookie_statement',\n",
       " '/wiki/Python_Anghelo',\n",
       " 'https://eo.wikipedia.org/wiki/Pitono_(apartigilo)',\n",
       " '/wiki/Wikipedia:General_disclaimer',\n",
       " 'https://sh.wikipedia.org/wiki/Python',\n",
       " '/wiki/CPython',\n",
       " 'https://tr.wikipedia.org/wiki/Python',\n",
       " '/wiki/Special:MyTalk',\n",
       " 'https://bn.wikipedia.org/wiki/%E0%A6%AA%E0%A6%BE%E0%A6%87%E0%A6%A5%E0%A6%A8_(%E0%A6%A6%E0%A7%8D%E0%A6%AC%E0%A7%8D%E0%A6%AF%E0%A6%B0%E0%A7%8D%E0%A6%A5%E0%A6%A4%E0%A6%BE_%E0%A6%A8%E0%A6%BF%E0%A6%B0%E0%A6%B8%E0%A6%A8)',\n",
       " '/wiki/Python_of_Byzantium',\n",
       " '/wiki/Python_(automobile_maker)',\n",
       " 'https://sr.wikipedia.org/wiki/%D0%9F%D0%B8%D1%82%D0%BE%D0%BD_(%D0%B2%D0%B8%D1%88%D0%B5%D0%B7%D0%BD%D0%B0%D1%87%D0%BD%D0%B0_%D0%BE%D0%B4%D1%80%D0%B5%D0%B4%D0%BD%D0%B8%D1%86%D0%B0)',\n",
       " '/wiki/Wikipedia:File_Upload_Wizard',\n",
       " '/wiki/Special:SpecialPages',\n",
       " 'https://bg.wikipedia.org/wiki/%D0%9F%D0%B8%D1%82%D0%BE%D0%BD_(%D0%BF%D0%BE%D1%8F%D1%81%D0%BD%D0%B5%D0%BD%D0%B8%D0%B5)',\n",
       " 'https://da.wikipedia.org/wiki/Python',\n",
       " 'https://als.wikipedia.org/wiki/Python',\n",
       " '/wiki/Monty_Python',\n",
       " 'https://fr.wikipedia.org/wiki/Python',\n",
       " 'https://he.wikipedia.org/wiki/%D7%A4%D7%99%D7%AA%D7%95%D7%9F',\n",
       " 'https://id.wikipedia.org/wiki/Python',\n",
       " 'https://donate.wikimedia.org/wiki/Special:FundraiserRedirector?utm_source=donate&utm_medium=sidebar&utm_campaign=C13_en.wikipedia.org&uselang=en',\n",
       " '/wiki/Python_(Ford_prototype)',\n",
       " 'https://ru.wikipedia.org/wiki/Python_(%D0%B7%D0%BD%D0%B0%D1%87%D0%B5%D0%BD%D0%B8%D1%8F)',\n",
       " '/wiki/Talk:Python',\n",
       " '/wiki/Category:All_article_disambiguation_pages']"
      ]
     },
     "execution_count": 31,
     "metadata": {},
     "output_type": "execute_result"
    }
   ],
   "source": [
    "links_lst = []\n",
    "for item in soup.find_all('a'):\n",
    "    try:\n",
    "        if item['href'].startswith('/wiki'):\n",
    "            links_lst.append(item['href'])\n",
    "        elif item['href'].startswith('http'):\n",
    "            links_lst.append(item['href'])\n",
    "    except:\n",
    "        pass\n",
    "links_lst = list(set(links_lst))\n",
    "links_lst    "
   ]
  },
  {
   "cell_type": "markdown",
   "metadata": {},
   "source": [
    "#### Find the number of titles that have changed in the United States Code since its last release point."
   ]
  },
  {
   "cell_type": "code",
   "execution_count": 32,
   "metadata": {},
   "outputs": [],
   "source": [
    "# This is the url you will scrape in this exercise\n",
    "url = 'http://uscode.house.gov/download/download.shtml'\n",
    "response=requests.get(url)\n",
    "html = response.content\n",
    "soup = BeautifulSoup(html)"
   ]
  },
  {
   "cell_type": "code",
   "execution_count": 33,
   "metadata": {},
   "outputs": [
    {
     "data": {
      "text/plain": [
       "<div class=\"usctitlechanged\" id=\"us/usc/t22\">\n",
       "\n",
       "          Title 22 - Foreign Relations and Intercourse\n",
       "\n",
       "        </div>"
      ]
     },
     "execution_count": 33,
     "metadata": {},
     "output_type": "execute_result"
    }
   ],
   "source": [
    "# Note that Titles in bold have been changed since the last release point\n",
    "tag_div= soup.find_all(\"div\", attrs={'class':'usctitlechanged'})[0]\n",
    "tag_div"
   ]
  },
  {
   "cell_type": "code",
   "execution_count": 34,
   "metadata": {},
   "outputs": [
    {
     "data": {
      "text/plain": [
       "'Title 22 - Foreign Relations and Intercourse'"
      ]
     },
     "execution_count": 34,
     "metadata": {},
     "output_type": "execute_result"
    }
   ],
   "source": [
    "tag_div.text.strip()"
   ]
  },
  {
   "cell_type": "code",
   "execution_count": 35,
   "metadata": {},
   "outputs": [
    {
     "data": {
      "text/plain": [
       "['Title 22 - Foreign Relations and Intercourse']"
      ]
     },
     "execution_count": 35,
     "metadata": {},
     "output_type": "execute_result"
    }
   ],
   "source": [
    "# List comprehension for the titles in bold have been changed since the last release point\n",
    "[title.text.strip() for title in soup.find_all(\"div\", attrs={'class':'usctitlechanged'})]"
   ]
  },
  {
   "cell_type": "markdown",
   "metadata": {},
   "source": [
    "#### Find a Python list with the top ten FBI's Most Wanted names."
   ]
  },
  {
   "cell_type": "code",
   "execution_count": 36,
   "metadata": {},
   "outputs": [],
   "source": [
    "# This is the url you will scrape in this exercise\n",
    "url = 'https://www.fbi.gov/wanted/topten'\n",
    "response=requests.get(url)\n",
    "html = response.content\n",
    "soup = BeautifulSoup(html)"
   ]
  },
  {
   "cell_type": "code",
   "execution_count": 37,
   "metadata": {},
   "outputs": [
    {
     "data": {
      "text/plain": [
       "'YASER ABDEL SAID'"
      ]
     },
     "execution_count": 37,
     "metadata": {},
     "output_type": "execute_result"
    }
   ],
   "source": [
    "soup.find_all('h3')[0].text.strip()"
   ]
  },
  {
   "cell_type": "code",
   "execution_count": 38,
   "metadata": {},
   "outputs": [
    {
     "data": {
      "text/plain": [
       "['YASER ABDEL SAID',\n",
       " 'ALEXIS FLORES',\n",
       " 'EUGENE PALMER',\n",
       " 'SANTIAGO VILLALBA MEDEROS',\n",
       " 'RAFAEL CARO-QUINTERO',\n",
       " 'ROBERT WILLIAM FISHER',\n",
       " 'BHADRESHKUMAR CHETANBHAI PATEL',\n",
       " 'ALEJANDRO ROSALES CASTILLO',\n",
       " 'ARNOLDO JIMENEZ',\n",
       " 'JASON DEREK BROWN']"
      ]
     },
     "execution_count": 38,
     "metadata": {},
     "output_type": "execute_result"
    }
   ],
   "source": [
    "[most_wanted_name.text.strip() for most_wanted_name in soup.find_all('h3')]"
   ]
  },
  {
   "cell_type": "markdown",
   "metadata": {},
   "source": [
    "####  Display the 20 latest earthquakes info (date, time, latitude, longitude and region name) by the EMSC as a pandas dataframe."
   ]
  },
  {
   "cell_type": "code",
   "execution_count": 39,
   "metadata": {},
   "outputs": [],
   "source": [
    "import requests\n",
    "from bs4 import BeautifulSoup\n",
    "import pandas as pd"
   ]
  },
  {
   "cell_type": "code",
   "execution_count": 40,
   "metadata": {},
   "outputs": [],
   "source": [
    "# This is the url you will scrape in this exercise\n",
    "url = 'https://www.emsc-csem.org/Earthquake/'\n",
    "response=requests.get(url)\n",
    "html = response.content\n",
    "soup = BeautifulSoup(html)"
   ]
  },
  {
   "cell_type": "code",
   "execution_count": 41,
   "metadata": {},
   "outputs": [
    {
     "data": {
      "text/plain": [
       "['2020-06-24', '15:17:50.0']"
      ]
     },
     "execution_count": 41,
     "metadata": {},
     "output_type": "execute_result"
    }
   ],
   "source": [
    "soup.find_all(\"td\",attrs={\"class\":\"tabev6\"})[0].find('a').text.split() # date and time samples"
   ]
  },
  {
   "cell_type": "markdown",
   "metadata": {},
   "source": [
    "---"
   ]
  },
  {
   "cell_type": "code",
   "execution_count": 42,
   "metadata": {},
   "outputs": [
    {
     "data": {
      "text/plain": [
       "'20.86'"
      ]
     },
     "execution_count": 42,
     "metadata": {},
     "output_type": "execute_result"
    }
   ],
   "source": [
    "soup.find_all('td',attrs={\"class\":\"tabev1\"})[0].text.strip()  # latitude sample"
   ]
  },
  {
   "cell_type": "code",
   "execution_count": 43,
   "metadata": {},
   "outputs": [
    {
     "data": {
      "text/plain": [
       "'69.11'"
      ]
     },
     "execution_count": 43,
     "metadata": {},
     "output_type": "execute_result"
    }
   ],
   "source": [
    "soup.find_all('td',attrs={\"class\":\"tabev1\"})[1].text.strip()  # longitude sample"
   ]
  },
  {
   "cell_type": "code",
   "execution_count": 44,
   "metadata": {},
   "outputs": [
    {
     "data": {
      "text/plain": [
       "'S'"
      ]
     },
     "execution_count": 44,
     "metadata": {},
     "output_type": "execute_result"
    }
   ],
   "source": [
    "soup.find_all('td',attrs={\"class\":\"tabev2\"})[0].text.strip()  # Latitude N / S"
   ]
  },
  {
   "cell_type": "code",
   "execution_count": 45,
   "metadata": {},
   "outputs": [
    {
     "data": {
      "text/plain": [
       "'W'"
      ]
     },
     "execution_count": 45,
     "metadata": {},
     "output_type": "execute_result"
    }
   ],
   "source": [
    "soup.find_all('td',attrs={\"class\":\"tabev2\"})[1].text.strip()  # longitude W / E"
   ]
  },
  {
   "cell_type": "code",
   "execution_count": 46,
   "metadata": {},
   "outputs": [
    {
     "data": {
      "text/plain": [
       "'2.9'"
      ]
     },
     "execution_count": 46,
     "metadata": {},
     "output_type": "execute_result"
    }
   ],
   "source": [
    "soup.find_all('td',attrs={\"class\":\"tabev2\"})[2].text.strip()  # Magnitude sample"
   ]
  },
  {
   "cell_type": "code",
   "execution_count": 47,
   "metadata": {},
   "outputs": [
    {
     "data": {
      "text/plain": [
       "'106'"
      ]
     },
     "execution_count": 47,
     "metadata": {},
     "output_type": "execute_result"
    }
   ],
   "source": [
    "soup.find_all('td',attrs={\"class\":\"tabev3\"})[0].text          # depth sample"
   ]
  },
  {
   "cell_type": "code",
   "execution_count": 48,
   "metadata": {},
   "outputs": [
    {
     "data": {
      "text/plain": [
       "'TARAPACA, CHILE'"
      ]
     },
     "execution_count": 48,
     "metadata": {},
     "output_type": "execute_result"
    }
   ],
   "source": [
    "soup.find_all('td',attrs={\"class\":\"tb_region\"})[0].text.strip() # region name sample"
   ]
  },
  {
   "cell_type": "code",
   "execution_count": 49,
   "metadata": {},
   "outputs": [
    {
     "name": "stdout",
     "output_type": "stream",
     "text": [
      "[['2020-06-24', '15:17:50.0'], ['2020-06-24', '15:07:39.9'], ['2020-06-24', '14:58:06.6'], ['2020-06-24', '14:27:49.9'], ['2020-06-24', '13:52:07.9'], ['2020-06-24', '13:48:44.6'], ['2020-06-24', '13:43:53.0'], ['2020-06-24', '13:37:44.0'], ['2020-06-24', '13:34:57.4'], ['2020-06-24', '13:34:30.0'], ['2020-06-24', '13:25:38.3'], ['2020-06-24', '13:24:05.6'], ['2020-06-24', '13:14:33.7'], ['2020-06-24', '12:51:21.8'], ['2020-06-24', '12:32:10.0'], ['2020-06-24', '12:27:49.5'], ['2020-06-24', '12:27:11.6'], ['2020-06-24', '12:19:38.2'], ['2020-06-24', '12:16:16.0'], ['2020-06-24', '12:14:52.3'], ['2020-06-24', '12:11:18.0'], ['2020-06-24', '12:10:00.0'], ['2020-06-24', '12:02:42.0'], ['2020-06-24', '12:00:49.0'], ['2020-06-24', '11:54:25.0'], ['2020-06-24', '11:54:19.0'], ['2020-06-24', '11:52:33.6'], ['2020-06-24', '11:51:44.0'], ['2020-06-24', '11:43:26.8'], ['2020-06-24', '11:14:11.0'], ['2020-06-24', '11:08:43.3'], ['2020-06-24', '10:55:15.0'], ['2020-06-24', '10:52:24.0'], ['2020-06-24', '10:33:12.1'], ['2020-06-24', '10:29:56.4'], ['2020-06-24', '10:17:25.8'], ['2020-06-24', '10:08:48.6'], ['2020-06-24', '09:57:47.3'], ['2020-06-24', '09:57:05.0'], ['2020-06-24', '09:54:21.0'], ['2020-06-24', '09:47:28.0'], ['2020-06-24', '09:41:20.0'], ['2020-06-24', '09:41:08.5'], ['2020-06-24', '09:37:25.6'], ['2020-06-24', '09:35:14.0'], ['2020-06-24', '09:30:54.2'], ['2020-06-24', '09:26:15.4'], ['2020-06-24', '09:13:08.0'], ['2020-06-24', '08:57:40.0'], ['2020-06-24', '08:57:35.6']]\n"
     ]
    }
   ],
   "source": [
    "# list comprehension to retrieve date and time \n",
    "lst_date_and_time = [item.find('a').text.split() for item in soup.find_all(\"td\",attrs={\"class\":\"tabev6\"})]\n",
    "print(lst_date_and_time)"
   ]
  },
  {
   "cell_type": "code",
   "execution_count": 50,
   "metadata": {},
   "outputs": [
    {
     "name": "stdout",
     "output_type": "stream",
     "text": [
      "['2020-06-24', '2020-06-24', '2020-06-24', '2020-06-24', '2020-06-24', '2020-06-24', '2020-06-24', '2020-06-24', '2020-06-24', '2020-06-24', '2020-06-24', '2020-06-24', '2020-06-24', '2020-06-24', '2020-06-24', '2020-06-24', '2020-06-24', '2020-06-24', '2020-06-24', '2020-06-24', '2020-06-24', '2020-06-24', '2020-06-24', '2020-06-24', '2020-06-24', '2020-06-24', '2020-06-24', '2020-06-24', '2020-06-24', '2020-06-24', '2020-06-24', '2020-06-24', '2020-06-24', '2020-06-24', '2020-06-24', '2020-06-24', '2020-06-24', '2020-06-24', '2020-06-24', '2020-06-24', '2020-06-24', '2020-06-24', '2020-06-24', '2020-06-24', '2020-06-24', '2020-06-24', '2020-06-24', '2020-06-24', '2020-06-24', '2020-06-24']\n",
      "['15:17:50.0', '15:07:39.9', '14:58:06.6', '14:27:49.9', '13:52:07.9', '13:48:44.6', '13:43:53.0', '13:37:44.0', '13:34:57.4', '13:34:30.0', '13:25:38.3', '13:24:05.6', '13:14:33.7', '12:51:21.8', '12:32:10.0', '12:27:49.5', '12:27:11.6', '12:19:38.2', '12:16:16.0', '12:14:52.3', '12:11:18.0', '12:10:00.0', '12:02:42.0', '12:00:49.0', '11:54:25.0', '11:54:19.0', '11:52:33.6', '11:51:44.0', '11:43:26.8', '11:14:11.0', '11:08:43.3', '10:55:15.0', '10:52:24.0', '10:33:12.1', '10:29:56.4', '10:17:25.8', '10:08:48.6', '09:57:47.3', '09:57:05.0', '09:54:21.0', '09:47:28.0', '09:41:20.0', '09:41:08.5', '09:37:25.6', '09:35:14.0', '09:30:54.2', '09:26:15.4', '09:13:08.0', '08:57:40.0', '08:57:35.6']\n"
     ]
    }
   ],
   "source": [
    "lst_date = []\n",
    "lst_time = []\n",
    "\n",
    "for i in range(len(lst_date_and_time)):\n",
    "    lst_date.append(lst_date_and_time[i][0])\n",
    "    lst_time.append(lst_date_and_time[i][1])\n",
    "print(lst_date)\n",
    "print(lst_time)"
   ]
  },
  {
   "cell_type": "code",
   "execution_count": 51,
   "metadata": {},
   "outputs": [],
   "source": [
    "df_date_time = pd.DataFrame([item.find('a').text.split() for item in soup.find_all(\"td\",attrs={\"class\":\"tabev6\"})], \n",
    "             columns=['Date', 'Time'])"
   ]
  },
  {
   "cell_type": "code",
   "execution_count": 52,
   "metadata": {},
   "outputs": [],
   "source": [
    "# Note:\n",
    "# soup.find_all('td',attrs={\"class\":\"tabev1\"})[0].text.strip()  # Latitude sample\n",
    "# soup.find_all('td',attrs={\"class\":\"tabev1\"})[1].text.strip()  # Longitude sample\n",
    "\n",
    "\n",
    "# soup.find_all('td',attrs={\"class\":\"tabev2\"})[0].text.strip()  # Latitude N / S\n",
    "# soup.find_all('td',attrs={\"class\":\"tabev2\"})[1].text.strip()  # Longitude W / E\n",
    "# soup.find_all('td',attrs={\"class\":\"tabev2\"})[2].text.strip()  # Magnitude sample"
   ]
  },
  {
   "cell_type": "code",
   "execution_count": 53,
   "metadata": {},
   "outputs": [
    {
     "name": "stdout",
     "output_type": "stream",
     "text": [
      "['20.86', '69.11', '34.37', '25.84', '56.49', '34.54', '58.46', '156.58', '19.41', '155.28', '38.19', '117.80', '16.03', '95.84', '17.93', '68.83', '38.26', '38.79', '11.43', '86.02', '17.95', '67.08', '19.20', '155.50', '44.25', '115.05', '44.52', '115.20', '47.54', '9.20', '17.99', '66.82', '31.65', '104.35', '18.01', '66.72', '30.46', '71.59', '5.79', '153.75', '17.83', '66.89', '6.27', '73.14', '66.37', '18.69', '18.23', '70.61', '66.39', '18.72', '15.68', '96.50', '37.08', '37.53', '66.39', '18.71', '34.23', '119.23', '20.41', '69.82', '44.13', '115.10', '19.66', '108.67', '20.17', '69.11', '14.02', '145.24', '60.52', '151.36', '18.05', '66.84', '44.54', '115.25', '33.45', '28.29', '28.23', '69.81', '15.63', '96.26', '15.67', '96.17', '16.01', '96.20', '51.84', '173.97', '38.19', '117.83', '0.81', '126.69', '41.74', '16.04', '19.15', '155.48', '16.11', '95.29', '14.99', '93.80', '17.99', '66.83']\n"
     ]
    }
   ],
   "source": [
    "coordinates = [lat.text.strip() for lat in soup.find_all('td',attrs={\"class\":\"tabev1\"})]\n",
    "print(coordinates) "
   ]
  },
  {
   "cell_type": "code",
   "execution_count": 54,
   "metadata": {},
   "outputs": [
    {
     "name": "stdout",
     "output_type": "stream",
     "text": [
      "Latitude (numerical):  ['20.86', '34.37', '56.49', '58.46', '19.41', '38.19', '16.03', '17.93', '38.26', '11.43', '17.95', '19.20', '44.25', '44.52', '47.54', '17.99', '31.65', '18.01', '30.46', '5.79', '17.83', '6.27', '66.37', '18.23', '66.39', '15.68', '37.08', '66.39', '34.23', '20.41', '44.13', '19.66', '20.17', '14.02', '60.52', '18.05', '44.54', '33.45', '28.23', '15.63', '15.67', '16.01', '51.84', '38.19', '0.81', '41.74', '19.15', '16.11', '14.99', '17.99'] \n",
      "\n",
      "Longitude (numerical):  ['69.11', '25.84', '34.54', '156.58', '155.28', '117.80', '95.84', '68.83', '38.79', '86.02', '67.08', '155.50', '115.05', '115.20', '9.20', '66.82', '104.35', '66.72', '71.59', '153.75', '66.89', '73.14', '18.69', '70.61', '18.72', '96.50', '37.53', '18.71', '119.23', '69.82', '115.10', '108.67', '69.11', '145.24', '151.36', '66.84', '115.25', '28.29', '69.81', '96.26', '96.17', '96.20', '173.97', '117.83', '126.69', '16.04', '155.48', '95.29', '93.80', '66.83']\n"
     ]
    }
   ],
   "source": [
    "# Retrieve the numerical data of lat and long\n",
    "lst_lat=[]\n",
    "lst_long=[]\n",
    "for i in range(0, len(coordinates)):\n",
    "    if i % 2 == 0:\n",
    "        lst_lat.append(coordinates[i])\n",
    "    else:\n",
    "        lst_long.append(coordinates[i])\n",
    "print(\"Latitude (numerical): \", lst_lat, \"\\n\\n\"\n",
    "      \"Longitude (numerical): \", lst_long)"
   ]
  },
  {
   "cell_type": "code",
   "execution_count": 55,
   "metadata": {},
   "outputs": [
    {
     "name": "stdout",
     "output_type": "stream",
     "text": [
      "['S', 'N', 'N', 'N', 'N', 'N', 'N', 'S', 'N', 'N', 'N', 'N', 'N', 'N', 'N', 'N', 'N', 'N', 'S', 'S', 'N', 'N', 'N', 'N', 'N', 'N', 'N', 'N', 'N', 'S', 'N', 'N', 'S', 'N', 'N', 'N', 'N', 'N', 'S', 'N', 'N', 'N', 'N', 'N', 'S', 'N', 'N', 'N', 'N', 'N']\n"
     ]
    },
    {
     "data": {
      "text/plain": [
       "50"
      ]
     },
     "execution_count": 55,
     "metadata": {},
     "output_type": "execute_result"
    }
   ],
   "source": [
    "# Retrieving the Data of N / S (latitude)\n",
    "lat_NS=[item.text.strip() for item in soup.find_all('td',attrs={\"class\":\"tabev2\"}) \n",
    "        if (item.text.strip() == \"N\") or(item.text.strip() == \"S\")]\n",
    "print(lat_NS)\n",
    "len(lat_NS)"
   ]
  },
  {
   "cell_type": "code",
   "execution_count": 56,
   "metadata": {},
   "outputs": [
    {
     "name": "stdout",
     "output_type": "stream",
     "text": [
      "['W', 'E', 'W', 'W', 'W', 'W', 'W', 'W', 'E', 'W', 'W', 'W', 'W', 'W', 'E', 'W', 'W', 'W', 'W', 'E', 'W', 'W', 'W', 'W', 'W', 'W', 'E', 'W', 'W', 'W', 'W', 'W', 'W', 'E', 'W', 'W', 'W', 'E', 'W', 'W', 'W', 'W', 'W', 'W', 'E', 'E', 'W', 'W', 'W', 'W']\n"
     ]
    }
   ],
   "source": [
    "# Retrieving the Data of W / E (latitude)\n",
    "long_WE=[item.text.strip() for item in soup.find_all('td',attrs={\"class\":\"tabev2\"}) \n",
    "         if (item.text.strip() == \"W\") or(item.text.strip() == \"E\")]\n",
    "print(long_WE)"
   ]
  },
  {
   "cell_type": "code",
   "execution_count": 57,
   "metadata": {},
   "outputs": [
    {
     "name": "stdout",
     "output_type": "stream",
     "text": [
      "['20.86 S', '34.37 N', '56.49 N', '58.46 N', '19.41 N', '38.19 N', '16.03 N', '17.93 S', '38.26 N', '11.43 N', '17.95 N', '19.20 N', '44.25 N', '44.52 N', '47.54 N', '17.99 N', '31.65 N', '18.01 N', '30.46 S', '5.79 S', '17.83 N', '6.27 N', '66.37 N', '18.23 N', '66.39 N', '15.68 N', '37.08 N', '66.39 N', '34.23 N', '20.41 S', '44.13 N', '19.66 N', '20.17 S', '14.02 N', '60.52 N', '18.05 N', '44.54 N', '33.45 N', '28.23 S', '15.63 N', '15.67 N', '16.01 N', '51.84 N', '38.19 N', '0.81 S', '41.74 N', '19.15 N', '16.11 N', '14.99 N', '17.99 N']\n",
      "['69.11 W', '25.84 E', '34.54 W', '156.58 W', '155.28 W', '117.80 W', '95.84 W', '68.83 W', '38.79 E', '86.02 W', '67.08 W', '155.50 W', '115.05 W', '115.20 W', '9.20 E', '66.82 W', '104.35 W', '66.72 W', '71.59 W', '153.75 E', '66.89 W', '73.14 W', '18.69 W', '70.61 W', '18.72 W', '96.50 W', '37.53 E', '18.71 W', '119.23 W', '69.82 W', '115.10 W', '108.67 W', '69.11 W', '145.24 E', '151.36 W', '66.84 W', '115.25 W', '28.29 E', '69.81 W', '96.26 W', '96.17 W', '96.20 W', '173.97 W', '117.83 W', '126.69 E', '16.04 E', '155.48 W', '95.29 W', '93.80 W', '66.83 W']\n"
     ]
    }
   ],
   "source": [
    "lst_latitude=[]\n",
    "lst_longitude=[]\n",
    "\n",
    "for i in range(len(lst_lat)):\n",
    "    lst_latitude.append(lst_lat[i]  + \" \" + lat_NS[i])\n",
    "    lst_longitude.append(lst_long[i] + \" \" + long_WE[i])\n",
    "print(lst_latitude)\n",
    "print(lst_longitude)"
   ]
  },
  {
   "cell_type": "markdown",
   "metadata": {},
   "source": [
    "---"
   ]
  },
  {
   "cell_type": "code",
   "execution_count": 58,
   "metadata": {},
   "outputs": [
    {
     "name": "stdout",
     "output_type": "stream",
     "text": [
      "['2.9', '3.1', '4.3', '2.7', '2.1', '2.0', '4.0', '3.8', '2.3', '3.8', '2.8', '2.0', '2.1', '2.3', '1.9', '2.6', '2.9', '2.3', '2.6', '4.8', '2.9', '3.5', '3.5', '2.6', '3.0', '4.1', '2.0', '3.6', '2.1', '3.0', '2.4', '4.1', '2.7', '4.5', '2.5', '2.5', '2.0', '3.1', '3.3', '3.8', '4.0', '3.8', '4.1', '2.2', '3.8', '2.2', '2.2', '3.9', '3.8', '2.1']\n"
     ]
    }
   ],
   "source": [
    "# Retriving list of Magnitude\n",
    "lst_magnitude=[item.text.strip() for item in soup.find_all('td',attrs={\"class\":\"tabev2\"}) \n",
    "               if item.text.strip() not in ['N','S','W','E']]\n",
    "print(lst_magnitude)"
   ]
  },
  {
   "cell_type": "code",
   "execution_count": 59,
   "metadata": {},
   "outputs": [
    {
     "name": "stdout",
     "output_type": "stream",
     "text": [
      "['106', '7', '2', '188', '1', '4', '57', '185', '7', '156', '11', '35', '5', '10', '2', '16', '5', '14', '9', '10', '11', '191', '4', '46', '12', '22', '7', '20', '16', '60', '8', '10', '104', '116', '35', '10', '7', '10', '115', '13', '29', '18', '60', '2', '10', '20', '36', '17', '12', '16']\n"
     ]
    }
   ],
   "source": [
    "# Retriving list of depth\n",
    "lst_depth = [item.text for item in soup.find_all('td',attrs={\"class\":\"tabev3\"})]\n",
    "print(lst_depth)"
   ]
  },
  {
   "cell_type": "code",
   "execution_count": 60,
   "metadata": {},
   "outputs": [
    {
     "name": "stdout",
     "output_type": "stream",
     "text": [
      "['TARAPACA, CHILE', 'CRETE, GREECE', 'REYKJANES RIDGE', 'ALASKA PENINSULA', 'ISLAND OF HAWAII, HAWAII', 'NEVADA', 'OAXACA, MEXICO', 'LA PAZ, BOLIVIA', 'EASTERN TURKEY', 'NEAR COAST OF NICARAGUA', 'PUERTO RICO REGION', 'ISLAND OF HAWAII, HAWAII', 'SOUTHERN IDAHO', 'SOUTHERN IDAHO', 'SWITZERLAND', 'PUERTO RICO', 'WESTERN TEXAS', 'PUERTO RICO', 'COQUIMBO, CHILE', 'NEW IRELAND REGION, P.N.G.', 'PUERTO RICO REGION', 'NORTHERN COLOMBIA', 'ICELAND REGION', 'DOMINICAN REPUBLIC REGION', 'ICELAND REGION', 'OAXACA, MEXICO', 'CENTRAL TURKEY', 'ICELAND REGION', 'GREATER LOS ANGELES AREA, CALIF.', 'TARAPACA, CHILE', 'SOUTHERN IDAHO', 'REVILLA GIGEDO ISLANDS REGION', 'TARAPACA, CHILE', 'ROTA REGION, N. MARIANA ISLANDS', 'KENAI PENINSULA, ALASKA', 'PUERTO RICO', 'SOUTHERN IDAHO', 'EASTERN MEDITERRANEAN SEA', 'ATACAMA, CHILE', 'OFFSHORE OAXACA, MEXICO', 'OFFSHORE OAXACA, MEXICO', 'OAXACA, MEXICO', 'ANDREANOF ISLANDS, ALEUTIAN IS.', 'NEVADA', 'MOLUCCA SEA', 'SOUTHERN ITALY', 'ISLAND OF HAWAII, HAWAII', 'OAXACA, MEXICO', 'OFFSHORE CHIAPAS, MEXICO', 'PUERTO RICO']\n"
     ]
    }
   ],
   "source": [
    "# Retrieving list of region name\n",
    "lst_region_name = [reg_name.text.strip() for reg_name in soup.find_all('td',attrs={\"class\":\"tb_region\"})]\n",
    "print(lst_region_name)"
   ]
  },
  {
   "cell_type": "code",
   "execution_count": 61,
   "metadata": {},
   "outputs": [
    {
     "data": {
      "text/html": [
       "<div>\n",
       "<style scoped>\n",
       "    .dataframe tbody tr th:only-of-type {\n",
       "        vertical-align: middle;\n",
       "    }\n",
       "\n",
       "    .dataframe tbody tr th {\n",
       "        vertical-align: top;\n",
       "    }\n",
       "\n",
       "    .dataframe thead th {\n",
       "        text-align: right;\n",
       "    }\n",
       "</style>\n",
       "<table border=\"1\" class=\"dataframe\">\n",
       "  <thead>\n",
       "    <tr style=\"text-align: right;\">\n",
       "      <th></th>\n",
       "      <th>Date</th>\n",
       "      <th>Time</th>\n",
       "      <th>Latitude degrees</th>\n",
       "      <th>Logitude degrees</th>\n",
       "      <th>Depth km</th>\n",
       "      <th>Magnitude</th>\n",
       "      <th>Region Name</th>\n",
       "    </tr>\n",
       "  </thead>\n",
       "  <tbody>\n",
       "    <tr>\n",
       "      <th>0</th>\n",
       "      <td>2020-06-24</td>\n",
       "      <td>15:17:50.0</td>\n",
       "      <td>20.86 S</td>\n",
       "      <td>69.11 W</td>\n",
       "      <td>106</td>\n",
       "      <td>2.9</td>\n",
       "      <td>TARAPACA, CHILE</td>\n",
       "    </tr>\n",
       "    <tr>\n",
       "      <th>1</th>\n",
       "      <td>2020-06-24</td>\n",
       "      <td>15:07:39.9</td>\n",
       "      <td>34.37 N</td>\n",
       "      <td>25.84 E</td>\n",
       "      <td>7</td>\n",
       "      <td>3.1</td>\n",
       "      <td>CRETE, GREECE</td>\n",
       "    </tr>\n",
       "    <tr>\n",
       "      <th>2</th>\n",
       "      <td>2020-06-24</td>\n",
       "      <td>14:58:06.6</td>\n",
       "      <td>56.49 N</td>\n",
       "      <td>34.54 W</td>\n",
       "      <td>2</td>\n",
       "      <td>4.3</td>\n",
       "      <td>REYKJANES RIDGE</td>\n",
       "    </tr>\n",
       "    <tr>\n",
       "      <th>3</th>\n",
       "      <td>2020-06-24</td>\n",
       "      <td>14:27:49.9</td>\n",
       "      <td>58.46 N</td>\n",
       "      <td>156.58 W</td>\n",
       "      <td>188</td>\n",
       "      <td>2.7</td>\n",
       "      <td>ALASKA PENINSULA</td>\n",
       "    </tr>\n",
       "    <tr>\n",
       "      <th>4</th>\n",
       "      <td>2020-06-24</td>\n",
       "      <td>13:52:07.9</td>\n",
       "      <td>19.41 N</td>\n",
       "      <td>155.28 W</td>\n",
       "      <td>1</td>\n",
       "      <td>2.1</td>\n",
       "      <td>ISLAND OF HAWAII, HAWAII</td>\n",
       "    </tr>\n",
       "    <tr>\n",
       "      <th>5</th>\n",
       "      <td>2020-06-24</td>\n",
       "      <td>13:48:44.6</td>\n",
       "      <td>38.19 N</td>\n",
       "      <td>117.80 W</td>\n",
       "      <td>4</td>\n",
       "      <td>2.0</td>\n",
       "      <td>NEVADA</td>\n",
       "    </tr>\n",
       "    <tr>\n",
       "      <th>6</th>\n",
       "      <td>2020-06-24</td>\n",
       "      <td>13:43:53.0</td>\n",
       "      <td>16.03 N</td>\n",
       "      <td>95.84 W</td>\n",
       "      <td>57</td>\n",
       "      <td>4.0</td>\n",
       "      <td>OAXACA, MEXICO</td>\n",
       "    </tr>\n",
       "    <tr>\n",
       "      <th>7</th>\n",
       "      <td>2020-06-24</td>\n",
       "      <td>13:37:44.0</td>\n",
       "      <td>17.93 S</td>\n",
       "      <td>68.83 W</td>\n",
       "      <td>185</td>\n",
       "      <td>3.8</td>\n",
       "      <td>LA PAZ, BOLIVIA</td>\n",
       "    </tr>\n",
       "    <tr>\n",
       "      <th>8</th>\n",
       "      <td>2020-06-24</td>\n",
       "      <td>13:34:57.4</td>\n",
       "      <td>38.26 N</td>\n",
       "      <td>38.79 E</td>\n",
       "      <td>7</td>\n",
       "      <td>2.3</td>\n",
       "      <td>EASTERN TURKEY</td>\n",
       "    </tr>\n",
       "    <tr>\n",
       "      <th>9</th>\n",
       "      <td>2020-06-24</td>\n",
       "      <td>13:34:30.0</td>\n",
       "      <td>11.43 N</td>\n",
       "      <td>86.02 W</td>\n",
       "      <td>156</td>\n",
       "      <td>3.8</td>\n",
       "      <td>NEAR COAST OF NICARAGUA</td>\n",
       "    </tr>\n",
       "    <tr>\n",
       "      <th>10</th>\n",
       "      <td>2020-06-24</td>\n",
       "      <td>13:25:38.3</td>\n",
       "      <td>17.95 N</td>\n",
       "      <td>67.08 W</td>\n",
       "      <td>11</td>\n",
       "      <td>2.8</td>\n",
       "      <td>PUERTO RICO REGION</td>\n",
       "    </tr>\n",
       "    <tr>\n",
       "      <th>11</th>\n",
       "      <td>2020-06-24</td>\n",
       "      <td>13:24:05.6</td>\n",
       "      <td>19.20 N</td>\n",
       "      <td>155.50 W</td>\n",
       "      <td>35</td>\n",
       "      <td>2.0</td>\n",
       "      <td>ISLAND OF HAWAII, HAWAII</td>\n",
       "    </tr>\n",
       "    <tr>\n",
       "      <th>12</th>\n",
       "      <td>2020-06-24</td>\n",
       "      <td>13:14:33.7</td>\n",
       "      <td>44.25 N</td>\n",
       "      <td>115.05 W</td>\n",
       "      <td>5</td>\n",
       "      <td>2.1</td>\n",
       "      <td>SOUTHERN IDAHO</td>\n",
       "    </tr>\n",
       "    <tr>\n",
       "      <th>13</th>\n",
       "      <td>2020-06-24</td>\n",
       "      <td>12:51:21.8</td>\n",
       "      <td>44.52 N</td>\n",
       "      <td>115.20 W</td>\n",
       "      <td>10</td>\n",
       "      <td>2.3</td>\n",
       "      <td>SOUTHERN IDAHO</td>\n",
       "    </tr>\n",
       "    <tr>\n",
       "      <th>14</th>\n",
       "      <td>2020-06-24</td>\n",
       "      <td>12:32:10.0</td>\n",
       "      <td>47.54 N</td>\n",
       "      <td>9.20 E</td>\n",
       "      <td>2</td>\n",
       "      <td>1.9</td>\n",
       "      <td>SWITZERLAND</td>\n",
       "    </tr>\n",
       "    <tr>\n",
       "      <th>15</th>\n",
       "      <td>2020-06-24</td>\n",
       "      <td>12:27:49.5</td>\n",
       "      <td>17.99 N</td>\n",
       "      <td>66.82 W</td>\n",
       "      <td>16</td>\n",
       "      <td>2.6</td>\n",
       "      <td>PUERTO RICO</td>\n",
       "    </tr>\n",
       "    <tr>\n",
       "      <th>16</th>\n",
       "      <td>2020-06-24</td>\n",
       "      <td>12:27:11.6</td>\n",
       "      <td>31.65 N</td>\n",
       "      <td>104.35 W</td>\n",
       "      <td>5</td>\n",
       "      <td>2.9</td>\n",
       "      <td>WESTERN TEXAS</td>\n",
       "    </tr>\n",
       "    <tr>\n",
       "      <th>17</th>\n",
       "      <td>2020-06-24</td>\n",
       "      <td>12:19:38.2</td>\n",
       "      <td>18.01 N</td>\n",
       "      <td>66.72 W</td>\n",
       "      <td>14</td>\n",
       "      <td>2.3</td>\n",
       "      <td>PUERTO RICO</td>\n",
       "    </tr>\n",
       "    <tr>\n",
       "      <th>18</th>\n",
       "      <td>2020-06-24</td>\n",
       "      <td>12:16:16.0</td>\n",
       "      <td>30.46 S</td>\n",
       "      <td>71.59 W</td>\n",
       "      <td>9</td>\n",
       "      <td>2.6</td>\n",
       "      <td>COQUIMBO, CHILE</td>\n",
       "    </tr>\n",
       "    <tr>\n",
       "      <th>19</th>\n",
       "      <td>2020-06-24</td>\n",
       "      <td>12:14:52.3</td>\n",
       "      <td>5.79 S</td>\n",
       "      <td>153.75 E</td>\n",
       "      <td>10</td>\n",
       "      <td>4.8</td>\n",
       "      <td>NEW IRELAND REGION, P.N.G.</td>\n",
       "    </tr>\n",
       "    <tr>\n",
       "      <th>20</th>\n",
       "      <td>2020-06-24</td>\n",
       "      <td>12:11:18.0</td>\n",
       "      <td>17.83 N</td>\n",
       "      <td>66.89 W</td>\n",
       "      <td>11</td>\n",
       "      <td>2.9</td>\n",
       "      <td>PUERTO RICO REGION</td>\n",
       "    </tr>\n",
       "    <tr>\n",
       "      <th>21</th>\n",
       "      <td>2020-06-24</td>\n",
       "      <td>12:10:00.0</td>\n",
       "      <td>6.27 N</td>\n",
       "      <td>73.14 W</td>\n",
       "      <td>191</td>\n",
       "      <td>3.5</td>\n",
       "      <td>NORTHERN COLOMBIA</td>\n",
       "    </tr>\n",
       "    <tr>\n",
       "      <th>22</th>\n",
       "      <td>2020-06-24</td>\n",
       "      <td>12:02:42.0</td>\n",
       "      <td>66.37 N</td>\n",
       "      <td>18.69 W</td>\n",
       "      <td>4</td>\n",
       "      <td>3.5</td>\n",
       "      <td>ICELAND REGION</td>\n",
       "    </tr>\n",
       "    <tr>\n",
       "      <th>23</th>\n",
       "      <td>2020-06-24</td>\n",
       "      <td>12:00:49.0</td>\n",
       "      <td>18.23 N</td>\n",
       "      <td>70.61 W</td>\n",
       "      <td>46</td>\n",
       "      <td>2.6</td>\n",
       "      <td>DOMINICAN REPUBLIC REGION</td>\n",
       "    </tr>\n",
       "    <tr>\n",
       "      <th>24</th>\n",
       "      <td>2020-06-24</td>\n",
       "      <td>11:54:25.0</td>\n",
       "      <td>66.39 N</td>\n",
       "      <td>18.72 W</td>\n",
       "      <td>12</td>\n",
       "      <td>3.0</td>\n",
       "      <td>ICELAND REGION</td>\n",
       "    </tr>\n",
       "    <tr>\n",
       "      <th>25</th>\n",
       "      <td>2020-06-24</td>\n",
       "      <td>11:54:19.0</td>\n",
       "      <td>15.68 N</td>\n",
       "      <td>96.50 W</td>\n",
       "      <td>22</td>\n",
       "      <td>4.1</td>\n",
       "      <td>OAXACA, MEXICO</td>\n",
       "    </tr>\n",
       "    <tr>\n",
       "      <th>26</th>\n",
       "      <td>2020-06-24</td>\n",
       "      <td>11:52:33.6</td>\n",
       "      <td>37.08 N</td>\n",
       "      <td>37.53 E</td>\n",
       "      <td>7</td>\n",
       "      <td>2.0</td>\n",
       "      <td>CENTRAL TURKEY</td>\n",
       "    </tr>\n",
       "    <tr>\n",
       "      <th>27</th>\n",
       "      <td>2020-06-24</td>\n",
       "      <td>11:51:44.0</td>\n",
       "      <td>66.39 N</td>\n",
       "      <td>18.71 W</td>\n",
       "      <td>20</td>\n",
       "      <td>3.6</td>\n",
       "      <td>ICELAND REGION</td>\n",
       "    </tr>\n",
       "    <tr>\n",
       "      <th>28</th>\n",
       "      <td>2020-06-24</td>\n",
       "      <td>11:43:26.8</td>\n",
       "      <td>34.23 N</td>\n",
       "      <td>119.23 W</td>\n",
       "      <td>16</td>\n",
       "      <td>2.1</td>\n",
       "      <td>GREATER LOS ANGELES AREA, CALIF.</td>\n",
       "    </tr>\n",
       "    <tr>\n",
       "      <th>29</th>\n",
       "      <td>2020-06-24</td>\n",
       "      <td>11:14:11.0</td>\n",
       "      <td>20.41 S</td>\n",
       "      <td>69.82 W</td>\n",
       "      <td>60</td>\n",
       "      <td>3.0</td>\n",
       "      <td>TARAPACA, CHILE</td>\n",
       "    </tr>\n",
       "    <tr>\n",
       "      <th>30</th>\n",
       "      <td>2020-06-24</td>\n",
       "      <td>11:08:43.3</td>\n",
       "      <td>44.13 N</td>\n",
       "      <td>115.10 W</td>\n",
       "      <td>8</td>\n",
       "      <td>2.4</td>\n",
       "      <td>SOUTHERN IDAHO</td>\n",
       "    </tr>\n",
       "    <tr>\n",
       "      <th>31</th>\n",
       "      <td>2020-06-24</td>\n",
       "      <td>10:55:15.0</td>\n",
       "      <td>19.66 N</td>\n",
       "      <td>108.67 W</td>\n",
       "      <td>10</td>\n",
       "      <td>4.1</td>\n",
       "      <td>REVILLA GIGEDO ISLANDS REGION</td>\n",
       "    </tr>\n",
       "    <tr>\n",
       "      <th>32</th>\n",
       "      <td>2020-06-24</td>\n",
       "      <td>10:52:24.0</td>\n",
       "      <td>20.17 S</td>\n",
       "      <td>69.11 W</td>\n",
       "      <td>104</td>\n",
       "      <td>2.7</td>\n",
       "      <td>TARAPACA, CHILE</td>\n",
       "    </tr>\n",
       "    <tr>\n",
       "      <th>33</th>\n",
       "      <td>2020-06-24</td>\n",
       "      <td>10:33:12.1</td>\n",
       "      <td>14.02 N</td>\n",
       "      <td>145.24 E</td>\n",
       "      <td>116</td>\n",
       "      <td>4.5</td>\n",
       "      <td>ROTA REGION, N. MARIANA ISLANDS</td>\n",
       "    </tr>\n",
       "    <tr>\n",
       "      <th>34</th>\n",
       "      <td>2020-06-24</td>\n",
       "      <td>10:29:56.4</td>\n",
       "      <td>60.52 N</td>\n",
       "      <td>151.36 W</td>\n",
       "      <td>35</td>\n",
       "      <td>2.5</td>\n",
       "      <td>KENAI PENINSULA, ALASKA</td>\n",
       "    </tr>\n",
       "    <tr>\n",
       "      <th>35</th>\n",
       "      <td>2020-06-24</td>\n",
       "      <td>10:17:25.8</td>\n",
       "      <td>18.05 N</td>\n",
       "      <td>66.84 W</td>\n",
       "      <td>10</td>\n",
       "      <td>2.5</td>\n",
       "      <td>PUERTO RICO</td>\n",
       "    </tr>\n",
       "    <tr>\n",
       "      <th>36</th>\n",
       "      <td>2020-06-24</td>\n",
       "      <td>10:08:48.6</td>\n",
       "      <td>44.54 N</td>\n",
       "      <td>115.25 W</td>\n",
       "      <td>7</td>\n",
       "      <td>2.0</td>\n",
       "      <td>SOUTHERN IDAHO</td>\n",
       "    </tr>\n",
       "    <tr>\n",
       "      <th>37</th>\n",
       "      <td>2020-06-24</td>\n",
       "      <td>09:57:47.3</td>\n",
       "      <td>33.45 N</td>\n",
       "      <td>28.29 E</td>\n",
       "      <td>10</td>\n",
       "      <td>3.1</td>\n",
       "      <td>EASTERN MEDITERRANEAN SEA</td>\n",
       "    </tr>\n",
       "    <tr>\n",
       "      <th>38</th>\n",
       "      <td>2020-06-24</td>\n",
       "      <td>09:57:05.0</td>\n",
       "      <td>28.23 S</td>\n",
       "      <td>69.81 W</td>\n",
       "      <td>115</td>\n",
       "      <td>3.3</td>\n",
       "      <td>ATACAMA, CHILE</td>\n",
       "    </tr>\n",
       "    <tr>\n",
       "      <th>39</th>\n",
       "      <td>2020-06-24</td>\n",
       "      <td>09:54:21.0</td>\n",
       "      <td>15.63 N</td>\n",
       "      <td>96.26 W</td>\n",
       "      <td>13</td>\n",
       "      <td>3.8</td>\n",
       "      <td>OFFSHORE OAXACA, MEXICO</td>\n",
       "    </tr>\n",
       "    <tr>\n",
       "      <th>40</th>\n",
       "      <td>2020-06-24</td>\n",
       "      <td>09:47:28.0</td>\n",
       "      <td>15.67 N</td>\n",
       "      <td>96.17 W</td>\n",
       "      <td>29</td>\n",
       "      <td>4.0</td>\n",
       "      <td>OFFSHORE OAXACA, MEXICO</td>\n",
       "    </tr>\n",
       "    <tr>\n",
       "      <th>41</th>\n",
       "      <td>2020-06-24</td>\n",
       "      <td>09:41:20.0</td>\n",
       "      <td>16.01 N</td>\n",
       "      <td>96.20 W</td>\n",
       "      <td>18</td>\n",
       "      <td>3.8</td>\n",
       "      <td>OAXACA, MEXICO</td>\n",
       "    </tr>\n",
       "    <tr>\n",
       "      <th>42</th>\n",
       "      <td>2020-06-24</td>\n",
       "      <td>09:41:08.5</td>\n",
       "      <td>51.84 N</td>\n",
       "      <td>173.97 W</td>\n",
       "      <td>60</td>\n",
       "      <td>4.1</td>\n",
       "      <td>ANDREANOF ISLANDS, ALEUTIAN IS.</td>\n",
       "    </tr>\n",
       "    <tr>\n",
       "      <th>43</th>\n",
       "      <td>2020-06-24</td>\n",
       "      <td>09:37:25.6</td>\n",
       "      <td>38.19 N</td>\n",
       "      <td>117.83 W</td>\n",
       "      <td>2</td>\n",
       "      <td>2.2</td>\n",
       "      <td>NEVADA</td>\n",
       "    </tr>\n",
       "    <tr>\n",
       "      <th>44</th>\n",
       "      <td>2020-06-24</td>\n",
       "      <td>09:35:14.0</td>\n",
       "      <td>0.81 S</td>\n",
       "      <td>126.69 E</td>\n",
       "      <td>10</td>\n",
       "      <td>3.8</td>\n",
       "      <td>MOLUCCA SEA</td>\n",
       "    </tr>\n",
       "    <tr>\n",
       "      <th>45</th>\n",
       "      <td>2020-06-24</td>\n",
       "      <td>09:30:54.2</td>\n",
       "      <td>41.74 N</td>\n",
       "      <td>16.04 E</td>\n",
       "      <td>20</td>\n",
       "      <td>2.2</td>\n",
       "      <td>SOUTHERN ITALY</td>\n",
       "    </tr>\n",
       "    <tr>\n",
       "      <th>46</th>\n",
       "      <td>2020-06-24</td>\n",
       "      <td>09:26:15.4</td>\n",
       "      <td>19.15 N</td>\n",
       "      <td>155.48 W</td>\n",
       "      <td>36</td>\n",
       "      <td>2.2</td>\n",
       "      <td>ISLAND OF HAWAII, HAWAII</td>\n",
       "    </tr>\n",
       "    <tr>\n",
       "      <th>47</th>\n",
       "      <td>2020-06-24</td>\n",
       "      <td>09:13:08.0</td>\n",
       "      <td>16.11 N</td>\n",
       "      <td>95.29 W</td>\n",
       "      <td>17</td>\n",
       "      <td>3.9</td>\n",
       "      <td>OAXACA, MEXICO</td>\n",
       "    </tr>\n",
       "    <tr>\n",
       "      <th>48</th>\n",
       "      <td>2020-06-24</td>\n",
       "      <td>08:57:40.0</td>\n",
       "      <td>14.99 N</td>\n",
       "      <td>93.80 W</td>\n",
       "      <td>12</td>\n",
       "      <td>3.8</td>\n",
       "      <td>OFFSHORE CHIAPAS, MEXICO</td>\n",
       "    </tr>\n",
       "    <tr>\n",
       "      <th>49</th>\n",
       "      <td>2020-06-24</td>\n",
       "      <td>08:57:35.6</td>\n",
       "      <td>17.99 N</td>\n",
       "      <td>66.83 W</td>\n",
       "      <td>16</td>\n",
       "      <td>2.1</td>\n",
       "      <td>PUERTO RICO</td>\n",
       "    </tr>\n",
       "  </tbody>\n",
       "</table>\n",
       "</div>"
      ],
      "text/plain": [
       "          Date        Time Latitude degrees Logitude degrees Depth km  \\\n",
       "0   2020-06-24  15:17:50.0          20.86 S          69.11 W      106   \n",
       "1   2020-06-24  15:07:39.9          34.37 N          25.84 E        7   \n",
       "2   2020-06-24  14:58:06.6          56.49 N          34.54 W        2   \n",
       "3   2020-06-24  14:27:49.9          58.46 N         156.58 W      188   \n",
       "4   2020-06-24  13:52:07.9          19.41 N         155.28 W        1   \n",
       "5   2020-06-24  13:48:44.6          38.19 N         117.80 W        4   \n",
       "6   2020-06-24  13:43:53.0          16.03 N          95.84 W       57   \n",
       "7   2020-06-24  13:37:44.0          17.93 S          68.83 W      185   \n",
       "8   2020-06-24  13:34:57.4          38.26 N          38.79 E        7   \n",
       "9   2020-06-24  13:34:30.0          11.43 N          86.02 W      156   \n",
       "10  2020-06-24  13:25:38.3          17.95 N          67.08 W       11   \n",
       "11  2020-06-24  13:24:05.6          19.20 N         155.50 W       35   \n",
       "12  2020-06-24  13:14:33.7          44.25 N         115.05 W        5   \n",
       "13  2020-06-24  12:51:21.8          44.52 N         115.20 W       10   \n",
       "14  2020-06-24  12:32:10.0          47.54 N           9.20 E        2   \n",
       "15  2020-06-24  12:27:49.5          17.99 N          66.82 W       16   \n",
       "16  2020-06-24  12:27:11.6          31.65 N         104.35 W        5   \n",
       "17  2020-06-24  12:19:38.2          18.01 N          66.72 W       14   \n",
       "18  2020-06-24  12:16:16.0          30.46 S          71.59 W        9   \n",
       "19  2020-06-24  12:14:52.3           5.79 S         153.75 E       10   \n",
       "20  2020-06-24  12:11:18.0          17.83 N          66.89 W       11   \n",
       "21  2020-06-24  12:10:00.0           6.27 N          73.14 W      191   \n",
       "22  2020-06-24  12:02:42.0          66.37 N          18.69 W        4   \n",
       "23  2020-06-24  12:00:49.0          18.23 N          70.61 W       46   \n",
       "24  2020-06-24  11:54:25.0          66.39 N          18.72 W       12   \n",
       "25  2020-06-24  11:54:19.0          15.68 N          96.50 W       22   \n",
       "26  2020-06-24  11:52:33.6          37.08 N          37.53 E        7   \n",
       "27  2020-06-24  11:51:44.0          66.39 N          18.71 W       20   \n",
       "28  2020-06-24  11:43:26.8          34.23 N         119.23 W       16   \n",
       "29  2020-06-24  11:14:11.0          20.41 S          69.82 W       60   \n",
       "30  2020-06-24  11:08:43.3          44.13 N         115.10 W        8   \n",
       "31  2020-06-24  10:55:15.0          19.66 N         108.67 W       10   \n",
       "32  2020-06-24  10:52:24.0          20.17 S          69.11 W      104   \n",
       "33  2020-06-24  10:33:12.1          14.02 N         145.24 E      116   \n",
       "34  2020-06-24  10:29:56.4          60.52 N         151.36 W       35   \n",
       "35  2020-06-24  10:17:25.8          18.05 N          66.84 W       10   \n",
       "36  2020-06-24  10:08:48.6          44.54 N         115.25 W        7   \n",
       "37  2020-06-24  09:57:47.3          33.45 N          28.29 E       10   \n",
       "38  2020-06-24  09:57:05.0          28.23 S          69.81 W      115   \n",
       "39  2020-06-24  09:54:21.0          15.63 N          96.26 W       13   \n",
       "40  2020-06-24  09:47:28.0          15.67 N          96.17 W       29   \n",
       "41  2020-06-24  09:41:20.0          16.01 N          96.20 W       18   \n",
       "42  2020-06-24  09:41:08.5          51.84 N         173.97 W       60   \n",
       "43  2020-06-24  09:37:25.6          38.19 N         117.83 W        2   \n",
       "44  2020-06-24  09:35:14.0           0.81 S         126.69 E       10   \n",
       "45  2020-06-24  09:30:54.2          41.74 N          16.04 E       20   \n",
       "46  2020-06-24  09:26:15.4          19.15 N         155.48 W       36   \n",
       "47  2020-06-24  09:13:08.0          16.11 N          95.29 W       17   \n",
       "48  2020-06-24  08:57:40.0          14.99 N          93.80 W       12   \n",
       "49  2020-06-24  08:57:35.6          17.99 N          66.83 W       16   \n",
       "\n",
       "   Magnitude                       Region Name  \n",
       "0        2.9                   TARAPACA, CHILE  \n",
       "1        3.1                     CRETE, GREECE  \n",
       "2        4.3                   REYKJANES RIDGE  \n",
       "3        2.7                  ALASKA PENINSULA  \n",
       "4        2.1          ISLAND OF HAWAII, HAWAII  \n",
       "5        2.0                            NEVADA  \n",
       "6        4.0                    OAXACA, MEXICO  \n",
       "7        3.8                   LA PAZ, BOLIVIA  \n",
       "8        2.3                    EASTERN TURKEY  \n",
       "9        3.8           NEAR COAST OF NICARAGUA  \n",
       "10       2.8                PUERTO RICO REGION  \n",
       "11       2.0          ISLAND OF HAWAII, HAWAII  \n",
       "12       2.1                    SOUTHERN IDAHO  \n",
       "13       2.3                    SOUTHERN IDAHO  \n",
       "14       1.9                       SWITZERLAND  \n",
       "15       2.6                       PUERTO RICO  \n",
       "16       2.9                     WESTERN TEXAS  \n",
       "17       2.3                       PUERTO RICO  \n",
       "18       2.6                   COQUIMBO, CHILE  \n",
       "19       4.8        NEW IRELAND REGION, P.N.G.  \n",
       "20       2.9                PUERTO RICO REGION  \n",
       "21       3.5                 NORTHERN COLOMBIA  \n",
       "22       3.5                    ICELAND REGION  \n",
       "23       2.6         DOMINICAN REPUBLIC REGION  \n",
       "24       3.0                    ICELAND REGION  \n",
       "25       4.1                    OAXACA, MEXICO  \n",
       "26       2.0                    CENTRAL TURKEY  \n",
       "27       3.6                    ICELAND REGION  \n",
       "28       2.1  GREATER LOS ANGELES AREA, CALIF.  \n",
       "29       3.0                   TARAPACA, CHILE  \n",
       "30       2.4                    SOUTHERN IDAHO  \n",
       "31       4.1     REVILLA GIGEDO ISLANDS REGION  \n",
       "32       2.7                   TARAPACA, CHILE  \n",
       "33       4.5   ROTA REGION, N. MARIANA ISLANDS  \n",
       "34       2.5           KENAI PENINSULA, ALASKA  \n",
       "35       2.5                       PUERTO RICO  \n",
       "36       2.0                    SOUTHERN IDAHO  \n",
       "37       3.1         EASTERN MEDITERRANEAN SEA  \n",
       "38       3.3                    ATACAMA, CHILE  \n",
       "39       3.8           OFFSHORE OAXACA, MEXICO  \n",
       "40       4.0           OFFSHORE OAXACA, MEXICO  \n",
       "41       3.8                    OAXACA, MEXICO  \n",
       "42       4.1   ANDREANOF ISLANDS, ALEUTIAN IS.  \n",
       "43       2.2                            NEVADA  \n",
       "44       3.8                       MOLUCCA SEA  \n",
       "45       2.2                    SOUTHERN ITALY  \n",
       "46       2.2          ISLAND OF HAWAII, HAWAII  \n",
       "47       3.9                    OAXACA, MEXICO  \n",
       "48       3.8          OFFSHORE CHIAPAS, MEXICO  \n",
       "49       2.1                       PUERTO RICO  "
      ]
     },
     "execution_count": 61,
     "metadata": {},
     "output_type": "execute_result"
    }
   ],
   "source": [
    "pd.DataFrame({\"Date\"            : lst_date,\n",
    "              \"Time\"            : lst_time,\n",
    "              \"Latitude degrees\": lst_latitude,\n",
    "              \"Logitude degrees\": lst_longitude,\n",
    "              \"Depth km\"        : lst_depth,\n",
    "              \"Magnitude\"       : lst_magnitude,\n",
    "              \"Region Name\"     : lst_region_name})"
   ]
  },
  {
   "cell_type": "markdown",
   "metadata": {},
   "source": [
    "#### Count the number of tweets by a given Twitter account.\n",
    "Ask the user for the handle (@handle) of a twitter account. You will need to include a ***try/except block*** for account names not found. \n",
    "<br>***Hint:*** the program should count the number of tweets for any provided account."
   ]
  },
  {
   "cell_type": "code",
   "execution_count": 62,
   "metadata": {},
   "outputs": [],
   "source": [
    "# This is the url you will scrape in this exercise \n",
    "# You will need to add the account credentials to this url\n",
    "url = 'https://twitter.com/'"
   ]
  },
  {
   "cell_type": "code",
   "execution_count": 63,
   "metadata": {},
   "outputs": [],
   "source": [
    "# your code here"
   ]
  },
  {
   "cell_type": "markdown",
   "metadata": {},
   "source": [
    "#### Number of followers of a given twitter account\n",
    "Ask the user for the handle (@handle) of a twitter account. You will need to include a ***try/except block*** for account names not found. \n",
    "<br>***Hint:*** the program should count the followers for any provided account."
   ]
  },
  {
   "cell_type": "code",
   "execution_count": 64,
   "metadata": {},
   "outputs": [],
   "source": [
    "# This is the url you will scrape in this exercise \n",
    "# You will need to add the account credentials to this url\n",
    "url = 'https://twitter.com/'"
   ]
  },
  {
   "cell_type": "code",
   "execution_count": 65,
   "metadata": {},
   "outputs": [],
   "source": [
    "# your code here"
   ]
  },
  {
   "cell_type": "markdown",
   "metadata": {},
   "source": [
    "#### List all language names and number of related articles in the order they appear in wikipedia.org."
   ]
  },
  {
   "cell_type": "code",
   "execution_count": 66,
   "metadata": {},
   "outputs": [],
   "source": [
    "# This is the url you will scrape in this exercise\n",
    "url = 'https://www.wikipedia.org/'\n",
    "response=requests.get(url)\n",
    "html = response.content\n",
    "soup = BeautifulSoup(html)"
   ]
  },
  {
   "cell_type": "code",
   "execution_count": 67,
   "metadata": {},
   "outputs": [
    {
     "data": {
      "text/plain": [
       "'English'"
      ]
     },
     "execution_count": 67,
     "metadata": {},
     "output_type": "execute_result"
    }
   ],
   "source": [
    "# language data sample\n",
    "soup.find_all('div',attrs={\"class\":\"central-featured\"})[0].find_all('strong')[0].text "
   ]
  },
  {
   "cell_type": "code",
   "execution_count": 68,
   "metadata": {},
   "outputs": [
    {
     "name": "stdout",
     "output_type": "stream",
     "text": [
      "['English', '日本語', 'Español', 'Deutsch', 'Русский', 'Français', 'Italiano', '中文', 'Português', 'Polski']\n"
     ]
    }
   ],
   "source": [
    "lst_language = [lang.text for lang in soup.find_all('div',attrs={\"class\":\"central-featured\"})[0].find_all('strong')]\n",
    "print(lst_language)"
   ]
  },
  {
   "cell_type": "code",
   "execution_count": 69,
   "metadata": {},
   "outputs": [
    {
     "data": {
      "text/plain": [
       "'6 105 000+'"
      ]
     },
     "execution_count": 69,
     "metadata": {},
     "output_type": "execute_result"
    }
   ],
   "source": [
    "# Related article sample\n",
    "soup.find_all('div',attrs={\"class\":\"central-featured\"})[0].find_all('bdi')[0].text.replace('\\xa0',\" \")"
   ]
  },
  {
   "cell_type": "code",
   "execution_count": 70,
   "metadata": {},
   "outputs": [
    {
     "name": "stdout",
     "output_type": "stream",
     "text": [
      "['6 105 000+', '1 213 000+', '1 606 000+', '2 446 000+', '1 637 000+', '2 229 000+', '1 615 000+', '1 125 000+', '1 036 000+', '1 416 000+']\n"
     ]
    }
   ],
   "source": [
    "lst_num_article = [num_article.text.replace('\\xa0',\" \") \n",
    "                   for num_article in soup.find_all('div',attrs={\"class\":\"central-featured\"})[0].find_all('bdi')]\n",
    "print(lst_num_article) "
   ]
  },
  {
   "cell_type": "code",
   "execution_count": 71,
   "metadata": {},
   "outputs": [
    {
     "data": {
      "text/html": [
       "<div>\n",
       "<style scoped>\n",
       "    .dataframe tbody tr th:only-of-type {\n",
       "        vertical-align: middle;\n",
       "    }\n",
       "\n",
       "    .dataframe tbody tr th {\n",
       "        vertical-align: top;\n",
       "    }\n",
       "\n",
       "    .dataframe thead th {\n",
       "        text-align: right;\n",
       "    }\n",
       "</style>\n",
       "<table border=\"1\" class=\"dataframe\">\n",
       "  <thead>\n",
       "    <tr style=\"text-align: right;\">\n",
       "      <th></th>\n",
       "      <th>Languages</th>\n",
       "      <th>Nº Related Articles</th>\n",
       "    </tr>\n",
       "  </thead>\n",
       "  <tbody>\n",
       "    <tr>\n",
       "      <th>0</th>\n",
       "      <td>English</td>\n",
       "      <td>6 105 000+</td>\n",
       "    </tr>\n",
       "    <tr>\n",
       "      <th>1</th>\n",
       "      <td>日本語</td>\n",
       "      <td>1 213 000+</td>\n",
       "    </tr>\n",
       "    <tr>\n",
       "      <th>2</th>\n",
       "      <td>Español</td>\n",
       "      <td>1 606 000+</td>\n",
       "    </tr>\n",
       "    <tr>\n",
       "      <th>3</th>\n",
       "      <td>Deutsch</td>\n",
       "      <td>2 446 000+</td>\n",
       "    </tr>\n",
       "    <tr>\n",
       "      <th>4</th>\n",
       "      <td>Русский</td>\n",
       "      <td>1 637 000+</td>\n",
       "    </tr>\n",
       "    <tr>\n",
       "      <th>5</th>\n",
       "      <td>Français</td>\n",
       "      <td>2 229 000+</td>\n",
       "    </tr>\n",
       "    <tr>\n",
       "      <th>6</th>\n",
       "      <td>Italiano</td>\n",
       "      <td>1 615 000+</td>\n",
       "    </tr>\n",
       "    <tr>\n",
       "      <th>7</th>\n",
       "      <td>中文</td>\n",
       "      <td>1 125 000+</td>\n",
       "    </tr>\n",
       "    <tr>\n",
       "      <th>8</th>\n",
       "      <td>Português</td>\n",
       "      <td>1 036 000+</td>\n",
       "    </tr>\n",
       "    <tr>\n",
       "      <th>9</th>\n",
       "      <td>Polski</td>\n",
       "      <td>1 416 000+</td>\n",
       "    </tr>\n",
       "  </tbody>\n",
       "</table>\n",
       "</div>"
      ],
      "text/plain": [
       "   Languages Nº Related Articles\n",
       "0    English          6 105 000+\n",
       "1        日本語          1 213 000+\n",
       "2    Español          1 606 000+\n",
       "3    Deutsch          2 446 000+\n",
       "4    Русский          1 637 000+\n",
       "5   Français          2 229 000+\n",
       "6   Italiano          1 615 000+\n",
       "7         中文          1 125 000+\n",
       "8  Português          1 036 000+\n",
       "9     Polski          1 416 000+"
      ]
     },
     "execution_count": 71,
     "metadata": {},
     "output_type": "execute_result"
    }
   ],
   "source": [
    "pd.DataFrame({'Languages'          : lst_language,\n",
    "              'Nº Related Articles': lst_num_article})"
   ]
  },
  {
   "cell_type": "markdown",
   "metadata": {},
   "source": [
    "#### A list with the different kind of datasets available in data.gov.uk."
   ]
  },
  {
   "cell_type": "code",
   "execution_count": 72,
   "metadata": {},
   "outputs": [],
   "source": [
    "# This is the url you will scrape in this exercise\n",
    "url = 'https://data.gov.uk/'\n",
    "response=requests.get(url)\n",
    "html = response.content\n",
    "soup = BeautifulSoup(html)"
   ]
  },
  {
   "cell_type": "code",
   "execution_count": 73,
   "metadata": {},
   "outputs": [
    {
     "data": {
      "text/plain": [
       "'Business and economy'"
      ]
     },
     "execution_count": 73,
     "metadata": {},
     "output_type": "execute_result"
    }
   ],
   "source": [
    "# Dataset sample\n",
    "soup.find_all('h2')[0].text"
   ]
  },
  {
   "cell_type": "code",
   "execution_count": 74,
   "metadata": {},
   "outputs": [
    {
     "name": "stdout",
     "output_type": "stream",
     "text": [
      "['Business and economy', 'Crime and justice', 'Defence', 'Education', 'Environment', 'Government', 'Government spending', 'Health', 'Mapping', 'Society', 'Towns and cities', 'Transport']\n"
     ]
    }
   ],
   "source": [
    "lst_datasets = [dataset.text for dataset in soup.find_all('h2')]\n",
    "print(lst_datasets)"
   ]
  },
  {
   "cell_type": "markdown",
   "metadata": {},
   "source": [
    "#### Display the top 10 languages by number of native speakers stored in a pandas dataframe."
   ]
  },
  {
   "cell_type": "code",
   "execution_count": 75,
   "metadata": {},
   "outputs": [],
   "source": [
    "# This is the url you will scrape in this exercise\n",
    "url = 'https://en.wikipedia.org/wiki/List_of_languages_by_number_of_native_speakers'\n",
    "response=requests.get(url)\n",
    "html = response.content\n",
    "soup = BeautifulSoup(html)"
   ]
  },
  {
   "cell_type": "code",
   "execution_count": 76,
   "metadata": {},
   "outputs": [
    {
     "data": {
      "text/html": [
       "<div>\n",
       "<style scoped>\n",
       "    .dataframe tbody tr th:only-of-type {\n",
       "        vertical-align: middle;\n",
       "    }\n",
       "\n",
       "    .dataframe tbody tr th {\n",
       "        vertical-align: top;\n",
       "    }\n",
       "\n",
       "    .dataframe thead th {\n",
       "        text-align: right;\n",
       "    }\n",
       "</style>\n",
       "<table border=\"1\" class=\"dataframe\">\n",
       "  <thead>\n",
       "    <tr style=\"text-align: right;\">\n",
       "      <th></th>\n",
       "      <th>Rank</th>\n",
       "      <th>Language</th>\n",
       "      <th>Speakers(millions)</th>\n",
       "      <th>% of World pop.(March 2019)[8]</th>\n",
       "      <th>Language familyBranch</th>\n",
       "    </tr>\n",
       "  </thead>\n",
       "  <tbody>\n",
       "    <tr>\n",
       "      <th>0</th>\n",
       "      <td>1</td>\n",
       "      <td>Mandarin Chinese</td>\n",
       "      <td>918.0</td>\n",
       "      <td>11.922</td>\n",
       "      <td>Sino-TibetanSinitic</td>\n",
       "    </tr>\n",
       "    <tr>\n",
       "      <th>1</th>\n",
       "      <td>2</td>\n",
       "      <td>Spanish</td>\n",
       "      <td>480.0</td>\n",
       "      <td>5.994</td>\n",
       "      <td>Indo-EuropeanRomance</td>\n",
       "    </tr>\n",
       "    <tr>\n",
       "      <th>2</th>\n",
       "      <td>3</td>\n",
       "      <td>English</td>\n",
       "      <td>379.0</td>\n",
       "      <td>4.922</td>\n",
       "      <td>Indo-EuropeanGermanic</td>\n",
       "    </tr>\n",
       "    <tr>\n",
       "      <th>3</th>\n",
       "      <td>4</td>\n",
       "      <td>Hindi (Sanskritised Hindustani)[9]</td>\n",
       "      <td>341.0</td>\n",
       "      <td>4.429</td>\n",
       "      <td>Indo-EuropeanIndo-Aryan</td>\n",
       "    </tr>\n",
       "    <tr>\n",
       "      <th>4</th>\n",
       "      <td>5</td>\n",
       "      <td>Bengali</td>\n",
       "      <td>228.0</td>\n",
       "      <td>2.961</td>\n",
       "      <td>Indo-EuropeanIndo-Aryan</td>\n",
       "    </tr>\n",
       "    <tr>\n",
       "      <th>5</th>\n",
       "      <td>6</td>\n",
       "      <td>Portuguese</td>\n",
       "      <td>221.0</td>\n",
       "      <td>2.870</td>\n",
       "      <td>Indo-EuropeanRomance</td>\n",
       "    </tr>\n",
       "    <tr>\n",
       "      <th>6</th>\n",
       "      <td>7</td>\n",
       "      <td>Russian</td>\n",
       "      <td>154.0</td>\n",
       "      <td>2.000</td>\n",
       "      <td>Indo-EuropeanBalto-Slavic</td>\n",
       "    </tr>\n",
       "    <tr>\n",
       "      <th>7</th>\n",
       "      <td>8</td>\n",
       "      <td>Japanese</td>\n",
       "      <td>128.0</td>\n",
       "      <td>1.662</td>\n",
       "      <td>JaponicJapanese</td>\n",
       "    </tr>\n",
       "    <tr>\n",
       "      <th>8</th>\n",
       "      <td>9</td>\n",
       "      <td>Western Punjabi[10]</td>\n",
       "      <td>92.7</td>\n",
       "      <td>1.204</td>\n",
       "      <td>Indo-EuropeanIndo-Aryan</td>\n",
       "    </tr>\n",
       "    <tr>\n",
       "      <th>9</th>\n",
       "      <td>10</td>\n",
       "      <td>Marathi</td>\n",
       "      <td>83.1</td>\n",
       "      <td>1.079</td>\n",
       "      <td>Indo-EuropeanIndo-Aryan</td>\n",
       "    </tr>\n",
       "  </tbody>\n",
       "</table>\n",
       "</div>"
      ],
      "text/plain": [
       "   Rank                            Language  Speakers(millions)  \\\n",
       "0     1                    Mandarin Chinese               918.0   \n",
       "1     2                             Spanish               480.0   \n",
       "2     3                             English               379.0   \n",
       "3     4  Hindi (Sanskritised Hindustani)[9]               341.0   \n",
       "4     5                             Bengali               228.0   \n",
       "5     6                          Portuguese               221.0   \n",
       "6     7                             Russian               154.0   \n",
       "7     8                            Japanese               128.0   \n",
       "8     9                 Western Punjabi[10]                92.7   \n",
       "9    10                             Marathi                83.1   \n",
       "\n",
       "   % of World pop.(March 2019)[8]      Language familyBranch  \n",
       "0                          11.922        Sino-TibetanSinitic  \n",
       "1                           5.994       Indo-EuropeanRomance  \n",
       "2                           4.922      Indo-EuropeanGermanic  \n",
       "3                           4.429    Indo-EuropeanIndo-Aryan  \n",
       "4                           2.961    Indo-EuropeanIndo-Aryan  \n",
       "5                           2.870       Indo-EuropeanRomance  \n",
       "6                           2.000  Indo-EuropeanBalto-Slavic  \n",
       "7                           1.662            JaponicJapanese  \n",
       "8                           1.204    Indo-EuropeanIndo-Aryan  \n",
       "9                           1.079    Indo-EuropeanIndo-Aryan  "
      ]
     },
     "execution_count": 76,
     "metadata": {},
     "output_type": "execute_result"
    }
   ],
   "source": [
    "pd.read_html(url)[0].head(10)"
   ]
  },
  {
   "cell_type": "markdown",
   "metadata": {},
   "source": [
    "## Bonus\n",
    "#### Scrape a certain number of tweets of a given Twitter account."
   ]
  },
  {
   "cell_type": "code",
   "execution_count": 77,
   "metadata": {},
   "outputs": [],
   "source": [
    "# This is the url you will scrape in this exercise \n",
    "# You will need to add the account credentials to this url\n",
    "url = 'https://twitter.com/'"
   ]
  },
  {
   "cell_type": "markdown",
   "metadata": {},
   "source": [
    "#### Display IMDB's top 250 data (movie name, initial release, director name and stars) as a pandas dataframe."
   ]
  },
  {
   "cell_type": "code",
   "execution_count": 78,
   "metadata": {},
   "outputs": [],
   "source": [
    "# This is the url you will scrape in this exercise \n",
    "url = 'https://www.imdb.com/chart/top'\n",
    "response=requests.get(url)\n",
    "html = response.content\n",
    "soup = BeautifulSoup(html)"
   ]
  },
  {
   "cell_type": "code",
   "execution_count": 79,
   "metadata": {},
   "outputs": [
    {
     "data": {
      "text/plain": [
       "'Um Sonho de Liberdade'"
      ]
     },
     "execution_count": 79,
     "metadata": {},
     "output_type": "execute_result"
    }
   ],
   "source": [
    "# movie name sample\n",
    "soup.find_all('td',attrs={\"class\":\"titleColumn\"})[0].find_all('a')[0].text"
   ]
  },
  {
   "cell_type": "code",
   "execution_count": 80,
   "metadata": {},
   "outputs": [
    {
     "name": "stdout",
     "output_type": "stream",
     "text": [
      "['Um Sonho de Liberdade', 'O Poderoso Chefão', 'O Poderoso Chefão II', 'Batman: O Cavaleiro das Trevas', '12 Homens e uma Sentença', 'A Lista de Schindler', 'O Senhor dos Anéis: O Retorno do Rei', 'Pulp Fiction: Tempo de Violência', 'Três Homens em Conflito', 'O Senhor dos Anéis: A Sociedade do Anel', 'Clube da Luta', 'Forrest Gump: O Contador de Histórias', 'A Origem', 'Star Wars, Episódio V: O Império Contra-Ataca', 'O Senhor dos Anéis: As Duas Torres', 'Matrix', 'Os Bons Companheiros', 'Um Estranho no Ninho', 'Os Sete Samurais', 'Seven: Os Sete Crimes Capitais', 'A Vida é Bela', 'Cidade de Deus', 'O Silêncio dos Inocentes', 'A Felicidade Não se Compra', 'Guerra nas Estrelas', 'O Resgate do Soldado Ryan', 'A Viagem de Chihiro', 'Parasita', 'À Espera de um Milagre', 'Interestelar', 'O Profissional', 'Os Suspeitos', 'Harakiri', 'O Rei Leão', 'O Pianista', 'De Volta para o Futuro', 'O Exterminador do Futuro 2: O Julgamento Final', 'A Outra História Americana', 'Tempos Modernos', 'Psicose', 'Gladiador', 'Luzes da Cidade', 'Os Infiltrados', 'Intocáveis', 'Whiplash: Em Busca da Perfeição', 'O Grande Truque', 'Era uma Vez no Oeste', 'Túmulo dos Vagalumes', 'Casablanca', 'Janela Indiscreta', 'Cinema Paradiso', 'Alien, o Oitavo Passageiro', 'Apocalypse Now', 'Amnésia', 'Os Caçadores da Arca Perdida', 'Coringa', 'O Grande Ditador', 'A Vida dos Outros', 'Django Livre', 'Glória Feita de Sangue', 'O Iluminado', 'WALL·E', 'Vingadores: Guerra Infinita', 'Crepúsculo dos Deuses', 'Princesa Mononoke', 'Homem-Aranha no Aranhaverso', 'Dr. Fantástico', 'Oldboy', 'Testemunha de Acusação', 'Batman: O Cavaleiro das Trevas Ressurge', 'Era uma Vez na América', 'Vingadores: Ultimato', 'Aliens, o Resgate', 'Your Name.', 'Viva: A Vida é uma Festa', 'Beleza Americana', 'Coração Valente', 'O Barco: Inferno no Mar', '3 Idiotas', 'Toy Story', 'Céu E Inferno', 'Amadeus', 'Como Estrelas na Terra', 'Star Wars, Episódio VI: O Retorno do Jedi', 'Cães de Aluguel', 'Bastardos Inglórios', 'Gênio Indomável', '1917', '2001: Uma Odisséia no Espaço', 'Um Corpo que Cai', 'Cafarnaum', 'Réquiem para um Sonho', 'M, o Vampiro de Dusseldorf', 'Dangal', 'Brilho Eterno de uma Mente sem Lembranças', 'Cidadão Kane', 'A Caça', 'Anand', 'Nascido para Matar', 'Ladrões de Bicicletas', 'Intriga Internacional', 'Laranja Mecânica', 'O Garoto', 'Snatch: Porcos e Diamantes', 'Cantando na Chuva', 'Scarface', 'Taxi Driver: Motorista de Táxi', 'O Fabuloso Destino de Amélie Poulain', 'Lawrence da Arábia', 'Toy Story 3', 'Golpe de Mestre', 'Viver', 'Metrópolis', 'A Separação', 'Por uns Dólares a Mais', 'Pacto de Sangue', 'Se Meu Apartamento Falasse', 'Incêndios', 'O Sol é para Todos', 'Indiana Jones e a Última Cruzada', 'Up: Altas Aventuras', 'Los Angeles: Cidade Proibida', 'Fogo Contra Fogo', 'Monty Python em Busca do Cálice Sagrado', 'Vá e Veja', 'Duro de Matar', 'Rashomon', 'Yojimbo, o Guarda-Costas', 'Batman Begins', 'Green Book: O Guia', 'A Queda! As Últimas Horas de Hitler', 'Filhos do Paraíso', 'Os Imperdoáveis', 'Quanto Mais Quente Melhor', 'Ran', 'O Castelo Animado', 'Fugindo do Inferno', 'Uma Mente Brilhante', 'A Malvada', 'Cassino', 'O Labirinto do Fauno', 'O Lobo de Wall Street', 'O Segredo dos Seus Olhos', 'Meu Amigo Totoro', 'Jogos, Trapaças e Dois Canos Fumegantes', 'Touro Indomável', 'Sangue Negro', 'O Tesouro da Sierra Madre', 'Julgamento em Nuremberg', 'Meu Pai e Meu Filho', 'Três Anúncios para um Crime', 'Disque M para Matar', 'Em Busca do Ouro', 'Chinatown', 'V de Vingança', 'O Sétimo Selo', 'Onde os Fracos Não Têm Vez', 'Ilha do Medo', 'Divertida Mente', 'Guerreiro', 'O Homem Elefante', 'Trainspotting: Sem Limites', 'O Sexto Sentido', 'O Enigma de Outro Mundo', 'Jurassic Park: O Parque dos Dinossauros', '...E o Vento Levou', 'Morangos Silvestres', 'Blade Runner: O Caçador de Androides', 'O Quarto de Jack', 'Procurando Nemo', 'A Ponte do Rio Kwai', 'O Show de Truman: O Show da Vida', 'Stalker', 'Kill Bill: Volume 1', 'Fargo: Uma Comédia de Erros', 'O 3º Homem', 'Sindicato de Ladrões', 'Gran Torino', 'Era uma Vez em Tóquio', 'O Franco Atirador', 'Memórias de um Assassino', 'Relatos Selvagens', 'Klaus', 'O Bandido', 'Assassinato às Cegas', 'Mary e Max: Uma Amizade Diferente', 'Em Nome do Pai', 'O Grande Lebowski', 'Garota Exemplar', 'Até o Último Homem', 'O Grande Hotel Budapeste', 'Ser ou Não Ser', 'Quando Duas Mulheres Pecam', 'Antes do Amanhecer', 'Prenda-me se for Capaz', 'Ford vs Ferrari', 'Como Treinar o Seu Dragão', 'A General', 'A Mulher Faz o Homem', 'Os Suspeitos', 'Bancando o Águia', '12 Anos de Escravidão', 'Rififi', 'Mad Max: Estrada da Fúria', 'Barry Lyndon', 'Rebeldia Indomável', 'Rede de Intrigas', 'Conta Comigo', 'Menina de Ouro', 'Na Natureza Selvagem', 'O Salário do Medo', 'Sempre ao Seu Lado', 'Ben-Hur', 'A Vida de Brian', 'Platoon', 'Sociedade dos Poetas Mortos', 'Rush: No Limite da Emoção', 'Harry Potter e as Relíquias da Morte - Parte 2', 'Logan', 'Andrei Rublev', \"O Martírio de Joana D'Arc\", 'Os Incompreendidos', 'A Criada', 'Hotel Ruanda', 'Amores Brutos', 'Spotlight: Segredos Revelados', 'Pinte de Açafrão', 'Nausicaä do Vale do Vento', 'Rocky: Um Lutador', 'O Ódio', 'Rebecca, a Mulher Inesquecível', 'Monstros S.A.', 'O Circo', 'Gangues de Wasseypur', 'Retrato de uma Jovem em Chamas', 'Aconteceu Naquela Noite', 'Amor à Flor da Pele', 'Antes do Pôr-do-Sol', 'Paris, Texas', 'Histórias Cruzadas', 'A Chantagem', 'A Princesa Prometida', 'Um Contratempo', 'O Exterminador do Futuro', 'Fanny e Alexander', 'Munna Bhai M.B.B.S.', 'Neon Genesis Evangelion: O Fim do Evangelho', 'Aladdin', 'Lagaan: Era uma Vez na Índia', 'Sono de Inverno']\n"
     ]
    }
   ],
   "source": [
    "lst_movies = [movie.find_all('a')[0].text for movie in soup.find_all('td',attrs={\"class\":\"titleColumn\"})]\n",
    "print(lst_movies)"
   ]
  },
  {
   "cell_type": "code",
   "execution_count": 81,
   "metadata": {},
   "outputs": [
    {
     "data": {
      "text/plain": [
       "'1994'"
      ]
     },
     "execution_count": 81,
     "metadata": {},
     "output_type": "execute_result"
    }
   ],
   "source": [
    "# initial release sample\n",
    "soup.find_all('td',attrs={\"class\":\"titleColumn\"})[0].find_all('span')[0].text.strip(\"(\").strip(\")\")"
   ]
  },
  {
   "cell_type": "code",
   "execution_count": 82,
   "metadata": {},
   "outputs": [
    {
     "name": "stdout",
     "output_type": "stream",
     "text": [
      "['1994', '1972', '1974', '2008', '1957', '1993', '2003', '1994', '1966', '2001', '1999', '1994', '2010', '1980', '2002', '1999', '1990', '1975', '1954', '1995', '1997', '2002', '1991', '1946', '1977', '1998', '2001', '2019', '1999', '2014', '1994', '1995', '1962', '1994', '2002', '1985', '1991', '1998', '1936', '1960', '2000', '1931', '2006', '2011', '2014', '2006', '1968', '1988', '1942', '1954', '1988', '1979', '1979', '2000', '1981', '2019', '1940', '2006', '2012', '1957', '1980', '2008', '2018', '1950', '1997', '2018', '1964', '2003', '1957', '2012', '1984', '2019', '1986', '2016', '2017', '1999', '1995', '1981', '2009', '1995', '1963', '1984', '2007', '1983', '1992', '2009', '1997', '2019', '1968', '1958', '2018', '2000', '1931', '2016', '2004', '1941', '2012', '1971', '1987', '1948', '1959', '1971', '1921', '2000', '1952', '1983', '1976', '2001', '1962', '2010', '1973', '1952', '1927', '2011', '1965', '1944', '1960', '2010', '1962', '1989', '2009', '1997', '1995', '1975', '1985', '1988', '1950', '1961', '2005', '2018', '2004', '1997', '1992', '1959', '1985', '2004', '1963', '2001', '1950', '1995', '2006', '2013', '2009', '1988', '1998', '1980', '2007', '1948', '1961', '2005', '2017', '1954', '1925', '1974', '2005', '1957', '2007', '2010', '2015', '2011', '1980', '1996', '1999', '1982', '1993', '1939', '1957', '1982', '2015', '2003', '1957', '1998', '1979', '2003', '1996', '1949', '1954', '2008', '1953', '1978', '2003', '2014', '2019', '1996', '2018', '2009', '1993', '1998', '2014', '2016', '2014', '1942', '1966', '1995', '2002', '2019', '2010', '1926', '1939', '2013', '1924', '2013', '1955', '2015', '1975', '1967', '1976', '1986', '2004', '2007', '1953', '2009', '1959', '1979', '1986', '1989', '2013', '2011', '2017', '1966', '1928', '1959', '2016', '2004', '2000', '2015', '2006', '1984', '1976', '1995', '1940', '2001', '1928', '2012', '2019', '1934', '2000', '2004', '1984', '2011', '2015', '1987', '2016', '1984', '1982', '2003', '1997', '1992', '2001', '2014']\n"
     ]
    }
   ],
   "source": [
    "lst_init_rel = [init_rel.find_all('span')[0].text.strip(\"(\").strip(\")\") \n",
    "                for init_rel in soup.find_all('td',attrs={\"class\":\"titleColumn\"})]\n",
    "print(lst_init_rel)"
   ]
  },
  {
   "cell_type": "code",
   "execution_count": 83,
   "metadata": {},
   "outputs": [
    {
     "data": {
      "text/plain": [
       "'Frank Darabont (dir.), Tim Robbins, Morgan Freeman'"
      ]
     },
     "execution_count": 83,
     "metadata": {},
     "output_type": "execute_result"
    }
   ],
   "source": [
    "# director name and stars sample\n",
    "soup.find_all('td',attrs={\"class\":\"titleColumn\"})[0].find_all('a')[0]['title']"
   ]
  },
  {
   "cell_type": "code",
   "execution_count": 84,
   "metadata": {},
   "outputs": [
    {
     "name": "stdout",
     "output_type": "stream",
     "text": [
      "['Frank Darabont (dir.), Tim Robbins, Morgan Freeman', 'Francis Ford Coppola (dir.), Marlon Brando, Al Pacino', 'Francis Ford Coppola (dir.), Al Pacino, Robert De Niro', 'Christopher Nolan (dir.), Christian Bale, Heath Ledger', 'Sidney Lumet (dir.), Henry Fonda, Lee J. Cobb', 'Steven Spielberg (dir.), Liam Neeson, Ralph Fiennes', 'Peter Jackson (dir.), Elijah Wood, Viggo Mortensen', 'Quentin Tarantino (dir.), John Travolta, Uma Thurman', 'Sergio Leone (dir.), Clint Eastwood, Eli Wallach', 'Peter Jackson (dir.), Elijah Wood, Ian McKellen', 'David Fincher (dir.), Brad Pitt, Edward Norton', 'Robert Zemeckis (dir.), Tom Hanks, Robin Wright', 'Christopher Nolan (dir.), Leonardo DiCaprio, Joseph Gordon-Levitt', 'Irvin Kershner (dir.), Mark Hamill, Harrison Ford', 'Peter Jackson (dir.), Elijah Wood, Ian McKellen', 'Lana Wachowski (dir.), Keanu Reeves, Laurence Fishburne', 'Martin Scorsese (dir.), Robert De Niro, Ray Liotta', 'Milos Forman (dir.), Jack Nicholson, Louise Fletcher', 'Akira Kurosawa (dir.), Toshirô Mifune, Takashi Shimura', 'David Fincher (dir.), Morgan Freeman, Brad Pitt', 'Roberto Benigni (dir.), Roberto Benigni, Nicoletta Braschi', 'Fernando Meirelles (dir.), Alexandre Rodrigues, Leandro Firmino', 'Jonathan Demme (dir.), Jodie Foster, Anthony Hopkins', 'Frank Capra (dir.), James Stewart, Donna Reed', 'George Lucas (dir.), Mark Hamill, Harrison Ford', 'Steven Spielberg (dir.), Tom Hanks, Matt Damon', 'Hayao Miyazaki (dir.), Daveigh Chase, Suzanne Pleshette', 'Bong Joon Ho (dir.), Kang-ho Song, Sun-kyun Lee', 'Frank Darabont (dir.), Tom Hanks, Michael Clarke Duncan', 'Christopher Nolan (dir.), Matthew McConaughey, Anne Hathaway', 'Luc Besson (dir.), Jean Reno, Gary Oldman', 'Bryan Singer (dir.), Kevin Spacey, Gabriel Byrne', 'Masaki Kobayashi (dir.), Tatsuya Nakadai, Akira Ishihama', 'Roger Allers (dir.), Matthew Broderick, Jeremy Irons', 'Roman Polanski (dir.), Adrien Brody, Thomas Kretschmann', 'Robert Zemeckis (dir.), Michael J. Fox, Christopher Lloyd', 'James Cameron (dir.), Arnold Schwarzenegger, Linda Hamilton', 'Tony Kaye (dir.), Edward Norton, Edward Furlong', 'Charles Chaplin (dir.), Charles Chaplin, Paulette Goddard', 'Alfred Hitchcock (dir.), Anthony Perkins, Janet Leigh', 'Ridley Scott (dir.), Russell Crowe, Joaquin Phoenix', 'Charles Chaplin (dir.), Charles Chaplin, Virginia Cherrill', 'Martin Scorsese (dir.), Leonardo DiCaprio, Matt Damon', 'Olivier Nakache (dir.), François Cluzet, Omar Sy', 'Damien Chazelle (dir.), Miles Teller, J.K. Simmons', 'Christopher Nolan (dir.), Christian Bale, Hugh Jackman', 'Sergio Leone (dir.), Henry Fonda, Charles Bronson', 'Isao Takahata (dir.), Tsutomu Tatsumi, Ayano Shiraishi', 'Michael Curtiz (dir.), Humphrey Bogart, Ingrid Bergman', 'Alfred Hitchcock (dir.), James Stewart, Grace Kelly', 'Giuseppe Tornatore (dir.), Philippe Noiret, Enzo Cannavale', 'Ridley Scott (dir.), Sigourney Weaver, Tom Skerritt', 'Francis Ford Coppola (dir.), Martin Sheen, Marlon Brando', 'Christopher Nolan (dir.), Guy Pearce, Carrie-Anne Moss', 'Steven Spielberg (dir.), Harrison Ford, Karen Allen', 'Todd Phillips (dir.), Joaquin Phoenix, Robert De Niro', 'Charles Chaplin (dir.), Charles Chaplin, Paulette Goddard', 'Florian Henckel von Donnersmarck (dir.), Ulrich Mühe, Martina Gedeck', 'Quentin Tarantino (dir.), Jamie Foxx, Christoph Waltz', 'Stanley Kubrick (dir.), Kirk Douglas, Ralph Meeker', 'Stanley Kubrick (dir.), Jack Nicholson, Shelley Duvall', 'Andrew Stanton (dir.), Ben Burtt, Elissa Knight', 'Anthony Russo (dir.), Robert Downey Jr., Chris Hemsworth', 'Billy Wilder (dir.), William Holden, Gloria Swanson', 'Hayao Miyazaki (dir.), Yôji Matsuda, Yuriko Ishida', 'Bob Persichetti (dir.), Shameik Moore, Jake Johnson', 'Stanley Kubrick (dir.), Peter Sellers, George C. Scott', 'Chan-wook Park (dir.), Min-sik Choi, Ji-Tae Yoo', 'Billy Wilder (dir.), Tyrone Power, Marlene Dietrich', 'Christopher Nolan (dir.), Christian Bale, Tom Hardy', 'Sergio Leone (dir.), Robert De Niro, James Woods', 'Anthony Russo (dir.), Robert Downey Jr., Chris Evans', 'James Cameron (dir.), Sigourney Weaver, Michael Biehn', 'Makoto Shinkai (dir.), Ryûnosuke Kamiki, Mone Kamishiraishi', 'Lee Unkrich (dir.), Anthony Gonzalez, Gael García Bernal', 'Sam Mendes (dir.), Kevin Spacey, Annette Bening', 'Mel Gibson (dir.), Mel Gibson, Sophie Marceau', 'Wolfgang Petersen (dir.), Jürgen Prochnow, Herbert Grönemeyer', 'Rajkumar Hirani (dir.), Aamir Khan, Madhavan', 'John Lasseter (dir.), Tom Hanks, Tim Allen', 'Akira Kurosawa (dir.), Toshirô Mifune, Yutaka Sada', 'Milos Forman (dir.), F. Murray Abraham, Tom Hulce', 'Aamir Khan (dir.), Darsheel Safary, Aamir Khan', 'Richard Marquand (dir.), Mark Hamill, Harrison Ford', 'Quentin Tarantino (dir.), Harvey Keitel, Tim Roth', 'Quentin Tarantino (dir.), Brad Pitt, Diane Kruger', 'Gus Van Sant (dir.), Robin Williams, Matt Damon', 'Sam Mendes (dir.), Dean-Charles Chapman, George MacKay', 'Stanley Kubrick (dir.), Keir Dullea, Gary Lockwood', 'Alfred Hitchcock (dir.), James Stewart, Kim Novak', 'Nadine Labaki (dir.), Zain Al Rafeea, Yordanos Shiferaw', 'Darren Aronofsky (dir.), Ellen Burstyn, Jared Leto', 'Fritz Lang (dir.), Peter Lorre, Ellen Widmann', 'Nitesh Tiwari (dir.), Aamir Khan, Sakshi Tanwar', 'Michel Gondry (dir.), Jim Carrey, Kate Winslet', 'Orson Welles (dir.), Orson Welles, Joseph Cotten', 'Thomas Vinterberg (dir.), Mads Mikkelsen, Thomas Bo Larsen', 'Hrishikesh Mukherjee (dir.), Rajesh Khanna, Amitabh Bachchan', 'Stanley Kubrick (dir.), Matthew Modine, R. Lee Ermey', 'Vittorio De Sica (dir.), Lamberto Maggiorani, Enzo Staiola', 'Alfred Hitchcock (dir.), Cary Grant, Eva Marie Saint', 'Stanley Kubrick (dir.), Malcolm McDowell, Patrick Magee', 'Charles Chaplin (dir.), Charles Chaplin, Edna Purviance', 'Guy Ritchie (dir.), Jason Statham, Brad Pitt', \"Stanley Donen (dir.), Gene Kelly, Donald O'Connor\", 'Brian De Palma (dir.), Al Pacino, Michelle Pfeiffer', 'Martin Scorsese (dir.), Robert De Niro, Jodie Foster', 'Jean-Pierre Jeunet (dir.), Audrey Tautou, Mathieu Kassovitz', \"David Lean (dir.), Peter O'Toole, Alec Guinness\", 'Lee Unkrich (dir.), Tom Hanks, Tim Allen', 'George Roy Hill (dir.), Paul Newman, Robert Redford', 'Akira Kurosawa (dir.), Takashi Shimura, Nobuo Kaneko', 'Fritz Lang (dir.), Brigitte Helm, Alfred Abel', 'Asghar Farhadi (dir.), Payman Maadi, Leila Hatami', 'Sergio Leone (dir.), Clint Eastwood, Lee Van Cleef', 'Billy Wilder (dir.), Fred MacMurray, Barbara Stanwyck', 'Billy Wilder (dir.), Jack Lemmon, Shirley MacLaine', 'Denis Villeneuve (dir.), Lubna Azabal, Mélissa Désormeaux-Poulin', 'Robert Mulligan (dir.), Gregory Peck, John Megna', 'Steven Spielberg (dir.), Harrison Ford, Sean Connery', 'Pete Docter (dir.), Edward Asner, Jordan Nagai', 'Curtis Hanson (dir.), Kevin Spacey, Russell Crowe', 'Michael Mann (dir.), Al Pacino, Robert De Niro', 'Terry Gilliam (dir.), Graham Chapman, John Cleese', 'Elem Klimov (dir.), Aleksey Kravchenko, Olga Mironova', 'John McTiernan (dir.), Bruce Willis, Alan Rickman', 'Akira Kurosawa (dir.), Toshirô Mifune, Machiko Kyô', 'Akira Kurosawa (dir.), Toshirô Mifune, Eijirô Tôno', 'Christopher Nolan (dir.), Christian Bale, Michael Caine', 'Peter Farrelly (dir.), Viggo Mortensen, Mahershala Ali', 'Oliver Hirschbiegel (dir.), Bruno Ganz, Alexandra Maria Lara', 'Majid Majidi (dir.), Mohammad Amir Naji, Amir Farrokh Hashemian', 'Clint Eastwood (dir.), Clint Eastwood, Gene Hackman', 'Billy Wilder (dir.), Marilyn Monroe, Tony Curtis', 'Akira Kurosawa (dir.), Tatsuya Nakadai, Akira Terao', 'Hayao Miyazaki (dir.), Chieko Baishô, Takuya Kimura', 'John Sturges (dir.), Steve McQueen, James Garner', 'Ron Howard (dir.), Russell Crowe, Ed Harris', 'Joseph L. Mankiewicz (dir.), Bette Davis, Anne Baxter', 'Martin Scorsese (dir.), Robert De Niro, Sharon Stone', 'Guillermo del Toro (dir.), Ivana Baquero, Ariadna Gil', 'Martin Scorsese (dir.), Leonardo DiCaprio, Jonah Hill', 'Juan José Campanella (dir.), Ricardo Darín, Soledad Villamil', 'Hayao Miyazaki (dir.), Hitoshi Takagi, Noriko Hidaka', 'Guy Ritchie (dir.), Jason Flemyng, Dexter Fletcher', 'Martin Scorsese (dir.), Robert De Niro, Cathy Moriarty', 'Paul Thomas Anderson (dir.), Daniel Day-Lewis, Paul Dano', 'John Huston (dir.), Humphrey Bogart, Walter Huston', 'Stanley Kramer (dir.), Spencer Tracy, Burt Lancaster', 'Çagan Irmak (dir.), Çetin Tekindor, Fikret Kuskan', 'Martin McDonagh (dir.), Frances McDormand, Woody Harrelson', 'Alfred Hitchcock (dir.), Ray Milland, Grace Kelly', 'Charles Chaplin (dir.), Charles Chaplin, Mack Swain', 'Roman Polanski (dir.), Jack Nicholson, Faye Dunaway', 'James McTeigue (dir.), Hugo Weaving, Natalie Portman', 'Ingmar Bergman (dir.), Max von Sydow, Gunnar Björnstrand', 'Ethan Coen (dir.), Tommy Lee Jones, Javier Bardem', 'Martin Scorsese (dir.), Leonardo DiCaprio, Emily Mortimer', 'Pete Docter (dir.), Amy Poehler, Bill Hader', \"Gavin O'Connor (dir.), Tom Hardy, Nick Nolte\", 'David Lynch (dir.), Anthony Hopkins, John Hurt', 'Danny Boyle (dir.), Ewan McGregor, Ewen Bremner', 'M. Night Shyamalan (dir.), Bruce Willis, Haley Joel Osment', 'John Carpenter (dir.), Kurt Russell, Wilford Brimley', 'Steven Spielberg (dir.), Sam Neill, Laura Dern', 'Victor Fleming (dir.), Clark Gable, Vivien Leigh', 'Ingmar Bergman (dir.), Victor Sjöström, Bibi Andersson', 'Ridley Scott (dir.), Harrison Ford, Rutger Hauer', 'Lenny Abrahamson (dir.), Brie Larson, Jacob Tremblay', 'Andrew Stanton (dir.), Albert Brooks, Ellen DeGeneres', 'David Lean (dir.), William Holden, Alec Guinness', 'Peter Weir (dir.), Jim Carrey, Ed Harris', 'Andrei Tarkovsky (dir.), Alisa Freyndlikh, Aleksandr Kaydanovskiy', 'Quentin Tarantino (dir.), Uma Thurman, David Carradine', 'Joel Coen (dir.), William H. Macy, Frances McDormand', 'Carol Reed (dir.), Orson Welles, Joseph Cotten', 'Elia Kazan (dir.), Marlon Brando, Karl Malden', 'Clint Eastwood (dir.), Clint Eastwood, Bee Vang', 'Yasujirô Ozu (dir.), Chishû Ryû, Chieko Higashiyama', 'Michael Cimino (dir.), Robert De Niro, Christopher Walken', 'Bong Joon Ho (dir.), Kang-ho Song, Sang-kyung Kim', 'Damián Szifron (dir.), Darío Grandinetti, María Marull', 'Sergio Pablos (dir.), Jason Schwartzman, J.K. Simmons', 'Yavuz Turgul (dir.), Sener Sen, Ugur Yücel', 'Sriram Raghavan (dir.), Ayushmann Khurrana, Tabu', 'Adam Elliot (dir.), Toni Collette, Philip Seymour Hoffman', 'Jim Sheridan (dir.), Daniel Day-Lewis, Pete Postlethwaite', 'Joel Coen (dir.), Jeff Bridges, John Goodman', 'David Fincher (dir.), Ben Affleck, Rosamund Pike', 'Mel Gibson (dir.), Andrew Garfield, Sam Worthington', 'Wes Anderson (dir.), Ralph Fiennes, F. Murray Abraham', 'Ernst Lubitsch (dir.), Carole Lombard, Jack Benny', 'Ingmar Bergman (dir.), Bibi Andersson, Liv Ullmann', 'Richard Linklater (dir.), Ethan Hawke, Julie Delpy', 'Steven Spielberg (dir.), Leonardo DiCaprio, Tom Hanks', 'James Mangold (dir.), Matt Damon, Christian Bale', 'Dean DeBlois (dir.), Jay Baruchel, Gerard Butler', 'Clyde Bruckman (dir.), Buster Keaton, Marion Mack', 'Frank Capra (dir.), James Stewart, Jean Arthur', 'Denis Villeneuve (dir.), Hugh Jackman, Jake Gyllenhaal', 'Buster Keaton (dir.), Buster Keaton, Kathryn McGuire', 'Steve McQueen (dir.), Chiwetel Ejiofor, Michael Kenneth Williams', 'Jules Dassin (dir.), Jean Servais, Carl Möhner', 'George Miller (dir.), Tom Hardy, Charlize Theron', \"Stanley Kubrick (dir.), Ryan O'Neal, Marisa Berenson\", 'Stuart Rosenberg (dir.), Paul Newman, George Kennedy', 'Sidney Lumet (dir.), Faye Dunaway, William Holden', 'Rob Reiner (dir.), Wil Wheaton, River Phoenix', 'Clint Eastwood (dir.), Hilary Swank, Clint Eastwood', 'Sean Penn (dir.), Emile Hirsch, Vince Vaughn', 'Henri-Georges Clouzot (dir.), Yves Montand, Charles Vanel', 'Lasse Hallström (dir.), Richard Gere, Joan Allen', 'William Wyler (dir.), Charlton Heston, Jack Hawkins', 'Terry Jones (dir.), Graham Chapman, John Cleese', 'Oliver Stone (dir.), Charlie Sheen, Tom Berenger', 'Peter Weir (dir.), Robin Williams, Robert Sean Leonard', 'Ron Howard (dir.), Daniel Brühl, Chris Hemsworth', 'David Yates (dir.), Daniel Radcliffe, Emma Watson', 'James Mangold (dir.), Hugh Jackman, Patrick Stewart', 'Andrei Tarkovsky (dir.), Anatoliy Solonitsyn, Ivan Lapikov', 'Carl Theodor Dreyer (dir.), Maria Falconetti, Eugene Silvain', 'François Truffaut (dir.), Jean-Pierre Léaud, Albert Rémy', 'Chan-wook Park (dir.), Min-hee Kim, Jung-woo Ha', 'Terry George (dir.), Don Cheadle, Sophie Okonedo', 'Alejandro G. Iñárritu (dir.), Emilio Echevarría, Gael García Bernal', 'Tom McCarthy (dir.), Mark Ruffalo, Michael Keaton', 'Rakeysh Omprakash Mehra (dir.), Aamir Khan, Soha Ali Khan', 'Hayao Miyazaki (dir.), Sumi Shimamoto, Mahito Tsujimura', 'John G. Avildsen (dir.), Sylvester Stallone, Talia Shire', 'Mathieu Kassovitz (dir.), Vincent Cassel, Hubert Koundé', 'Alfred Hitchcock (dir.), Laurence Olivier, Joan Fontaine', 'Pete Docter (dir.), Billy Crystal, John Goodman', 'Charles Chaplin (dir.), Charles Chaplin, Merna Kennedy', 'Anurag Kashyap (dir.), Manoj Bajpayee, Richa Chadha', 'Céline Sciamma (dir.), Noémie Merlant, Adèle Haenel', 'Frank Capra (dir.), Clark Gable, Claudette Colbert', 'Kar-Wai Wong (dir.), Tony Chiu-Wai Leung, Maggie Cheung', 'Richard Linklater (dir.), Ethan Hawke, Julie Delpy', 'Wim Wenders (dir.), Harry Dean Stanton, Nastassja Kinski', 'Tate Taylor (dir.), Emma Stone, Viola Davis', 'Nishikant Kamat (dir.), Ajay Devgn, Shriya Saran', 'Rob Reiner (dir.), Cary Elwes, Mandy Patinkin', 'Oriol Paulo (dir.), Mario Casas, Ana Wagener', 'James Cameron (dir.), Arnold Schwarzenegger, Linda Hamilton', 'Ingmar Bergman (dir.), Bertil Guve, Pernilla Allwin', 'Rajkumar Hirani (dir.), Sanjay Dutt, Arshad Warsi', 'Hideaki Anno (dir.), Megumi Ogata, Megumi Hayashibara', 'Ron Clements (dir.), Scott Weinger, Robin Williams', 'Ashutosh Gowariker (dir.), Aamir Khan, Raghuvir Yadav', 'Nuri Bilge Ceylan (dir.), Haluk Bilginer, Melisa Sözen']\n"
     ]
    }
   ],
   "source": [
    "lst_names = [names.find_all('a')[0]['title'] for names in soup.find_all('td',attrs={\"class\":\"titleColumn\"})]\n",
    "print(lst_names)"
   ]
  },
  {
   "cell_type": "code",
   "execution_count": 85,
   "metadata": {},
   "outputs": [
    {
     "data": {
      "text/html": [
       "<div>\n",
       "<style scoped>\n",
       "    .dataframe tbody tr th:only-of-type {\n",
       "        vertical-align: middle;\n",
       "    }\n",
       "\n",
       "    .dataframe tbody tr th {\n",
       "        vertical-align: top;\n",
       "    }\n",
       "\n",
       "    .dataframe thead th {\n",
       "        text-align: right;\n",
       "    }\n",
       "</style>\n",
       "<table border=\"1\" class=\"dataframe\">\n",
       "  <thead>\n",
       "    <tr style=\"text-align: right;\">\n",
       "      <th></th>\n",
       "      <th>movie name</th>\n",
       "      <th>initial release</th>\n",
       "      <th>director name and stars</th>\n",
       "    </tr>\n",
       "  </thead>\n",
       "  <tbody>\n",
       "    <tr>\n",
       "      <th>0</th>\n",
       "      <td>Um Sonho de Liberdade</td>\n",
       "      <td>1994</td>\n",
       "      <td>Frank Darabont (dir.), Tim Robbins, Morgan Fre...</td>\n",
       "    </tr>\n",
       "    <tr>\n",
       "      <th>1</th>\n",
       "      <td>O Poderoso Chefão</td>\n",
       "      <td>1972</td>\n",
       "      <td>Francis Ford Coppola (dir.), Marlon Brando, Al...</td>\n",
       "    </tr>\n",
       "    <tr>\n",
       "      <th>2</th>\n",
       "      <td>O Poderoso Chefão II</td>\n",
       "      <td>1974</td>\n",
       "      <td>Francis Ford Coppola (dir.), Al Pacino, Robert...</td>\n",
       "    </tr>\n",
       "    <tr>\n",
       "      <th>3</th>\n",
       "      <td>Batman: O Cavaleiro das Trevas</td>\n",
       "      <td>2008</td>\n",
       "      <td>Christopher Nolan (dir.), Christian Bale, Heat...</td>\n",
       "    </tr>\n",
       "    <tr>\n",
       "      <th>4</th>\n",
       "      <td>12 Homens e uma Sentença</td>\n",
       "      <td>1957</td>\n",
       "      <td>Sidney Lumet (dir.), Henry Fonda, Lee J. Cobb</td>\n",
       "    </tr>\n",
       "    <tr>\n",
       "      <th>...</th>\n",
       "      <td>...</td>\n",
       "      <td>...</td>\n",
       "      <td>...</td>\n",
       "    </tr>\n",
       "    <tr>\n",
       "      <th>245</th>\n",
       "      <td>Munna Bhai M.B.B.S.</td>\n",
       "      <td>2003</td>\n",
       "      <td>Rajkumar Hirani (dir.), Sanjay Dutt, Arshad Warsi</td>\n",
       "    </tr>\n",
       "    <tr>\n",
       "      <th>246</th>\n",
       "      <td>Neon Genesis Evangelion: O Fim do Evangelho</td>\n",
       "      <td>1997</td>\n",
       "      <td>Hideaki Anno (dir.), Megumi Ogata, Megumi Haya...</td>\n",
       "    </tr>\n",
       "    <tr>\n",
       "      <th>247</th>\n",
       "      <td>Aladdin</td>\n",
       "      <td>1992</td>\n",
       "      <td>Ron Clements (dir.), Scott Weinger, Robin Will...</td>\n",
       "    </tr>\n",
       "    <tr>\n",
       "      <th>248</th>\n",
       "      <td>Lagaan: Era uma Vez na Índia</td>\n",
       "      <td>2001</td>\n",
       "      <td>Ashutosh Gowariker (dir.), Aamir Khan, Raghuvi...</td>\n",
       "    </tr>\n",
       "    <tr>\n",
       "      <th>249</th>\n",
       "      <td>Sono de Inverno</td>\n",
       "      <td>2014</td>\n",
       "      <td>Nuri Bilge Ceylan (dir.), Haluk Bilginer, Meli...</td>\n",
       "    </tr>\n",
       "  </tbody>\n",
       "</table>\n",
       "<p>250 rows × 3 columns</p>\n",
       "</div>"
      ],
      "text/plain": [
       "                                      movie name initial release  \\\n",
       "0                          Um Sonho de Liberdade            1994   \n",
       "1                              O Poderoso Chefão            1972   \n",
       "2                           O Poderoso Chefão II            1974   \n",
       "3                 Batman: O Cavaleiro das Trevas            2008   \n",
       "4                       12 Homens e uma Sentença            1957   \n",
       "..                                           ...             ...   \n",
       "245                          Munna Bhai M.B.B.S.            2003   \n",
       "246  Neon Genesis Evangelion: O Fim do Evangelho            1997   \n",
       "247                                      Aladdin            1992   \n",
       "248                 Lagaan: Era uma Vez na Índia            2001   \n",
       "249                              Sono de Inverno            2014   \n",
       "\n",
       "                               director name and stars  \n",
       "0    Frank Darabont (dir.), Tim Robbins, Morgan Fre...  \n",
       "1    Francis Ford Coppola (dir.), Marlon Brando, Al...  \n",
       "2    Francis Ford Coppola (dir.), Al Pacino, Robert...  \n",
       "3    Christopher Nolan (dir.), Christian Bale, Heat...  \n",
       "4        Sidney Lumet (dir.), Henry Fonda, Lee J. Cobb  \n",
       "..                                                 ...  \n",
       "245  Rajkumar Hirani (dir.), Sanjay Dutt, Arshad Warsi  \n",
       "246  Hideaki Anno (dir.), Megumi Ogata, Megumi Haya...  \n",
       "247  Ron Clements (dir.), Scott Weinger, Robin Will...  \n",
       "248  Ashutosh Gowariker (dir.), Aamir Khan, Raghuvi...  \n",
       "249  Nuri Bilge Ceylan (dir.), Haluk Bilginer, Meli...  \n",
       "\n",
       "[250 rows x 3 columns]"
      ]
     },
     "execution_count": 85,
     "metadata": {},
     "output_type": "execute_result"
    }
   ],
   "source": [
    "pd.DataFrame({\"movie name\"             :lst_movies , \n",
    "              \"initial release\"        :lst_init_rel, \n",
    "              \"director name and stars\":lst_names})"
   ]
  },
  {
   "cell_type": "markdown",
   "metadata": {},
   "source": [
    "#### Display the movie name, year and a brief summary of the top 10 random movies (IMDB) as a pandas dataframe."
   ]
  },
  {
   "cell_type": "code",
   "execution_count": 86,
   "metadata": {},
   "outputs": [],
   "source": [
    "#This is the url you will scrape in this exercise\n",
    "url = 'http://www.imdb.com/chart/top'\n",
    "response=requests.get(url)\n",
    "html = response.content\n",
    "soup = BeautifulSoup(html)"
   ]
  },
  {
   "cell_type": "code",
   "execution_count": 87,
   "metadata": {
    "scrolled": true
   },
   "outputs": [
    {
     "data": {
      "text/html": [
       "<div>\n",
       "<style scoped>\n",
       "    .dataframe tbody tr th:only-of-type {\n",
       "        vertical-align: middle;\n",
       "    }\n",
       "\n",
       "    .dataframe tbody tr th {\n",
       "        vertical-align: top;\n",
       "    }\n",
       "\n",
       "    .dataframe thead th {\n",
       "        text-align: right;\n",
       "    }\n",
       "</style>\n",
       "<table border=\"1\" class=\"dataframe\">\n",
       "  <thead>\n",
       "    <tr style=\"text-align: right;\">\n",
       "      <th></th>\n",
       "      <th>Unnamed: 0</th>\n",
       "      <th>Rank &amp; Title</th>\n",
       "      <th>IMDb Rating</th>\n",
       "      <th>Your Rating</th>\n",
       "      <th>Unnamed: 4</th>\n",
       "    </tr>\n",
       "  </thead>\n",
       "  <tbody>\n",
       "    <tr>\n",
       "      <th>0</th>\n",
       "      <td>NaN</td>\n",
       "      <td>1.  Um Sonho de Liberdade  (1994)</td>\n",
       "      <td>9.2</td>\n",
       "      <td>12345678910 NOT YET RELEASED  Seen</td>\n",
       "      <td>NaN</td>\n",
       "    </tr>\n",
       "    <tr>\n",
       "      <th>1</th>\n",
       "      <td>NaN</td>\n",
       "      <td>2.  O Poderoso Chefão  (1972)</td>\n",
       "      <td>9.1</td>\n",
       "      <td>12345678910 NOT YET RELEASED  Seen</td>\n",
       "      <td>NaN</td>\n",
       "    </tr>\n",
       "    <tr>\n",
       "      <th>2</th>\n",
       "      <td>NaN</td>\n",
       "      <td>3.  O Poderoso Chefão II  (1974)</td>\n",
       "      <td>9.0</td>\n",
       "      <td>12345678910 NOT YET RELEASED  Seen</td>\n",
       "      <td>NaN</td>\n",
       "    </tr>\n",
       "    <tr>\n",
       "      <th>3</th>\n",
       "      <td>NaN</td>\n",
       "      <td>4.  Batman: O Cavaleiro das Trevas  (2008)</td>\n",
       "      <td>9.0</td>\n",
       "      <td>12345678910 NOT YET RELEASED  Seen</td>\n",
       "      <td>NaN</td>\n",
       "    </tr>\n",
       "    <tr>\n",
       "      <th>4</th>\n",
       "      <td>NaN</td>\n",
       "      <td>5.  12 Homens e uma Sentença  (1957)</td>\n",
       "      <td>8.9</td>\n",
       "      <td>12345678910 NOT YET RELEASED  Seen</td>\n",
       "      <td>NaN</td>\n",
       "    </tr>\n",
       "    <tr>\n",
       "      <th>5</th>\n",
       "      <td>NaN</td>\n",
       "      <td>6.  A Lista de Schindler  (1993)</td>\n",
       "      <td>8.9</td>\n",
       "      <td>12345678910 NOT YET RELEASED  Seen</td>\n",
       "      <td>NaN</td>\n",
       "    </tr>\n",
       "    <tr>\n",
       "      <th>6</th>\n",
       "      <td>NaN</td>\n",
       "      <td>7.  O Senhor dos Anéis: O Retorno do Rei  (2003)</td>\n",
       "      <td>8.9</td>\n",
       "      <td>12345678910 NOT YET RELEASED  Seen</td>\n",
       "      <td>NaN</td>\n",
       "    </tr>\n",
       "    <tr>\n",
       "      <th>7</th>\n",
       "      <td>NaN</td>\n",
       "      <td>8.  Pulp Fiction: Tempo de Violência  (1994)</td>\n",
       "      <td>8.8</td>\n",
       "      <td>12345678910 NOT YET RELEASED  Seen</td>\n",
       "      <td>NaN</td>\n",
       "    </tr>\n",
       "    <tr>\n",
       "      <th>8</th>\n",
       "      <td>NaN</td>\n",
       "      <td>9.  Três Homens em Conflito  (1966)</td>\n",
       "      <td>8.8</td>\n",
       "      <td>12345678910 NOT YET RELEASED  Seen</td>\n",
       "      <td>NaN</td>\n",
       "    </tr>\n",
       "    <tr>\n",
       "      <th>9</th>\n",
       "      <td>NaN</td>\n",
       "      <td>10.  O Senhor dos Anéis: A Sociedade do Anel  ...</td>\n",
       "      <td>8.8</td>\n",
       "      <td>12345678910 NOT YET RELEASED  Seen</td>\n",
       "      <td>NaN</td>\n",
       "    </tr>\n",
       "  </tbody>\n",
       "</table>\n",
       "</div>"
      ],
      "text/plain": [
       "   Unnamed: 0                                       Rank & Title  IMDb Rating  \\\n",
       "0         NaN                  1.  Um Sonho de Liberdade  (1994)          9.2   \n",
       "1         NaN                      2.  O Poderoso Chefão  (1972)          9.1   \n",
       "2         NaN                   3.  O Poderoso Chefão II  (1974)          9.0   \n",
       "3         NaN         4.  Batman: O Cavaleiro das Trevas  (2008)          9.0   \n",
       "4         NaN               5.  12 Homens e uma Sentença  (1957)          8.9   \n",
       "5         NaN                   6.  A Lista de Schindler  (1993)          8.9   \n",
       "6         NaN   7.  O Senhor dos Anéis: O Retorno do Rei  (2003)          8.9   \n",
       "7         NaN       8.  Pulp Fiction: Tempo de Violência  (1994)          8.8   \n",
       "8         NaN                9.  Três Homens em Conflito  (1966)          8.8   \n",
       "9         NaN  10.  O Senhor dos Anéis: A Sociedade do Anel  ...          8.8   \n",
       "\n",
       "                          Your Rating  Unnamed: 4  \n",
       "0  12345678910 NOT YET RELEASED  Seen         NaN  \n",
       "1  12345678910 NOT YET RELEASED  Seen         NaN  \n",
       "2  12345678910 NOT YET RELEASED  Seen         NaN  \n",
       "3  12345678910 NOT YET RELEASED  Seen         NaN  \n",
       "4  12345678910 NOT YET RELEASED  Seen         NaN  \n",
       "5  12345678910 NOT YET RELEASED  Seen         NaN  \n",
       "6  12345678910 NOT YET RELEASED  Seen         NaN  \n",
       "7  12345678910 NOT YET RELEASED  Seen         NaN  \n",
       "8  12345678910 NOT YET RELEASED  Seen         NaN  \n",
       "9  12345678910 NOT YET RELEASED  Seen         NaN  "
      ]
     },
     "execution_count": 87,
     "metadata": {},
     "output_type": "execute_result"
    }
   ],
   "source": [
    "pd.read_html(url)[0].head(10)"
   ]
  },
  {
   "cell_type": "code",
   "execution_count": null,
   "metadata": {},
   "outputs": [],
   "source": []
  },
  {
   "cell_type": "code",
   "execution_count": null,
   "metadata": {},
   "outputs": [],
   "source": []
  },
  {
   "cell_type": "markdown",
   "metadata": {},
   "source": [
    "#### Find the live weather report (temperature, wind speed, description and weather) of a given city."
   ]
  },
  {
   "cell_type": "code",
   "execution_count": null,
   "metadata": {},
   "outputs": [],
   "source": [
    "#https://openweathermap.org/current\n",
    "city = input('Enter the city: ')\n",
    "url = 'http://api.openweathermap.org/data/2.5/weather?'+'q='+city+'&APPID=b35975e18dc93725acb092f7272cc6b8&units=metric'\n",
    "response=requests.get(url)\n",
    "response.json()"
   ]
  },
  {
   "cell_type": "code",
   "execution_count": null,
   "metadata": {},
   "outputs": [],
   "source": [
    "temperature = response.json()['main']['temp']\n",
    "temperature"
   ]
  },
  {
   "cell_type": "code",
   "execution_count": null,
   "metadata": {},
   "outputs": [],
   "source": [
    "wind_speed = response.json()['wind']['speed']\n",
    "wind_speed"
   ]
  },
  {
   "cell_type": "code",
   "execution_count": null,
   "metadata": {},
   "outputs": [],
   "source": [
    "description = response.json()['weather'][0]['description']\n",
    "description"
   ]
  },
  {
   "cell_type": "code",
   "execution_count": null,
   "metadata": {},
   "outputs": [],
   "source": [
    "weather = response.json()['weather'][0]['main']\n",
    "weather"
   ]
  },
  {
   "cell_type": "code",
   "execution_count": null,
   "metadata": {},
   "outputs": [],
   "source": [
    "pd.DataFrame({\"Name of City\" : [city],\n",
    "              \"Temperature\"  : [temperature],\n",
    "              \"Wind Speed\"   : [wind_speed],\n",
    "              \"Description\"  : [description],\n",
    "              \"Weather\"      : [weather]})"
   ]
  },
  {
   "cell_type": "markdown",
   "metadata": {},
   "source": [
    "#### Find the book name, price and stock availability as a pandas dataframe."
   ]
  },
  {
   "cell_type": "code",
   "execution_count": null,
   "metadata": {},
   "outputs": [],
   "source": [
    "# This is the url you will scrape in this exercise.\n",
    "# It is a fictional bookstore created to be scraped.\n",
    "url = 'http://books.toscrape.com/'\n",
    "response = requests.get(url)\n",
    "html = response.content\n",
    "soup = BeautifulSoup(html)"
   ]
  },
  {
   "cell_type": "code",
   "execution_count": null,
   "metadata": {},
   "outputs": [],
   "source": [
    "# book name sample\n",
    "soup.find_all('h3')[0].find(\"a\")[\"title\"]"
   ]
  },
  {
   "cell_type": "code",
   "execution_count": null,
   "metadata": {},
   "outputs": [],
   "source": [
    "lst_book_name = [item.find(\"a\")[\"title\"] for item in soup.find_all('h3')]\n",
    "print(lst_book_name)"
   ]
  },
  {
   "cell_type": "code",
   "execution_count": null,
   "metadata": {},
   "outputs": [],
   "source": [
    "# price sample\n",
    "soup.find_all('div', attrs={\"class\": \"product_price\"})[0].find('p').text"
   ]
  },
  {
   "cell_type": "code",
   "execution_count": null,
   "metadata": {},
   "outputs": [],
   "source": [
    "lst_price = [price.find('p').text for price in soup.find_all('div', attrs={\"class\": \"product_price\"})]\n",
    "print(lst_price)"
   ]
  },
  {
   "cell_type": "code",
   "execution_count": null,
   "metadata": {},
   "outputs": [],
   "source": [
    "# availability sample\n",
    "soup.find_all('div',{\"class\":\"product_price\"})[0].find_all('p',attrs={\"class\":\"instock availability\"})[0].text.strip()"
   ]
  },
  {
   "cell_type": "code",
   "execution_count": null,
   "metadata": {},
   "outputs": [],
   "source": [
    "lst_stock = [item.find_all('p',attrs={\"class\":\"instock availability\"})[0].text.strip() \n",
    "             for item in soup.find_all('div',{\"class\":\"product_price\"})]\n",
    "print(lst_stock)"
   ]
  },
  {
   "cell_type": "code",
   "execution_count": null,
   "metadata": {},
   "outputs": [],
   "source": [
    "pd.DataFrame({\"book name\": lst_book_name, \n",
    "              \"price\"    : lst_price,\n",
    "              \"stock availability\": lst_stock })"
   ]
  },
  {
   "cell_type": "code",
   "execution_count": null,
   "metadata": {},
   "outputs": [],
   "source": [
    "# The first page is ready, in this loop we will create a dataframe for every page in the website\n",
    "# and concat those dataframes with the one we did for the first page  \n",
    "# http://books.toscrape.com/catalogue/page-2.html\n",
    "\n",
    "for i in range(2,51):\n",
    "    url = f'http://books.toscrape.com/catalogue/page-{i}.html'\n",
    "    soup = BeautifulSoup(requests.get(url).content)\n",
    "    \n",
    "    \n",
    "    \n",
    "    \n",
    "    "
   ]
  },
  {
   "cell_type": "code",
   "execution_count": null,
   "metadata": {},
   "outputs": [],
   "source": []
  }
 ],
 "metadata": {
  "kernelspec": {
   "display_name": "Python 3",
   "language": "python",
   "name": "python3"
  },
  "language_info": {
   "codemirror_mode": {
    "name": "ipython",
    "version": 3
   },
   "file_extension": ".py",
   "mimetype": "text/x-python",
   "name": "python",
   "nbconvert_exporter": "python",
   "pygments_lexer": "ipython3",
   "version": "3.7.6"
  },
  "toc": {
   "base_numbering": 1,
   "nav_menu": {},
   "number_sections": true,
   "sideBar": true,
   "skip_h1_title": false,
   "title_cell": "Table of Contents",
   "title_sidebar": "Contents",
   "toc_cell": false,
   "toc_position": {},
   "toc_section_display": true,
   "toc_window_display": false
  },
  "varInspector": {
   "cols": {
    "lenName": 16,
    "lenType": 16,
    "lenVar": 40
   },
   "kernels_config": {
    "python": {
     "delete_cmd_postfix": "",
     "delete_cmd_prefix": "del ",
     "library": "var_list.py",
     "varRefreshCmd": "print(var_dic_list())"
    },
    "r": {
     "delete_cmd_postfix": ") ",
     "delete_cmd_prefix": "rm(",
     "library": "var_list.r",
     "varRefreshCmd": "cat(var_dic_list()) "
    }
   },
   "types_to_exclude": [
    "module",
    "function",
    "builtin_function_or_method",
    "instance",
    "_Feature"
   ],
   "window_display": false
  }
 },
 "nbformat": 4,
 "nbformat_minor": 2
}
