{
 "cells": [
  {
   "cell_type": "markdown",
   "metadata": {},
   "source": [
    "# Functions in Python"
   ]
  },
  {
   "cell_type": "code",
   "execution_count": 1,
   "metadata": {
    "ExecuteTime": {
     "end_time": "2020-06-03T17:14:37.282992Z",
     "start_time": "2020-06-03T17:14:37.278977Z"
    }
   },
   "outputs": [],
   "source": [
    "def my_function():\n",
    "    print('Oi')"
   ]
  },
  {
   "cell_type": "code",
   "execution_count": 2,
   "metadata": {
    "ExecuteTime": {
     "end_time": "2020-06-03T17:15:27.981705Z",
     "start_time": "2020-06-03T17:15:27.976751Z"
    }
   },
   "outputs": [
    {
     "name": "stdout",
     "output_type": "stream",
     "text": [
      "Oi\n"
     ]
    }
   ],
   "source": [
    "my_function()"
   ]
  },
  {
   "cell_type": "code",
   "execution_count": 35,
   "metadata": {
    "ExecuteTime": {
     "end_time": "2020-06-03T17:26:22.137712Z",
     "start_time": "2020-06-03T17:26:22.133751Z"
    }
   },
   "outputs": [],
   "source": [
    "def grite(x, y='DEFAULT'):\n",
    "    \n",
    "    print(f'{x}')\n",
    "    print(f'Um pouco mais de {y}')"
   ]
  },
  {
   "cell_type": "code",
   "execution_count": 36,
   "metadata": {
    "ExecuteTime": {
     "end_time": "2020-06-03T17:26:22.466621Z",
     "start_time": "2020-06-03T17:26:22.444679Z"
    }
   },
   "outputs": [
    {
     "ename": "TypeError",
     "evalue": "grite() missing 1 required positional argument: 'x'",
     "output_type": "error",
     "traceback": [
      "\u001b[1;31m---------------------------------------------------------------------------\u001b[0m",
      "\u001b[1;31mTypeError\u001b[0m                                 Traceback (most recent call last)",
      "\u001b[1;32m<ipython-input-36-f505a171816f>\u001b[0m in \u001b[0;36m<module>\u001b[1;34m\u001b[0m\n\u001b[1;32m----> 1\u001b[1;33m \u001b[0mgrite\u001b[0m\u001b[1;33m(\u001b[0m\u001b[1;33m)\u001b[0m\u001b[1;33m\u001b[0m\u001b[1;33m\u001b[0m\u001b[0m\n\u001b[0m",
      "\u001b[1;31mTypeError\u001b[0m: grite() missing 1 required positional argument: 'x'"
     ]
    }
   ],
   "source": [
    "grite()"
   ]
  },
  {
   "cell_type": "code",
   "execution_count": 32,
   "metadata": {
    "ExecuteTime": {
     "end_time": "2020-06-03T17:26:16.100219Z",
     "start_time": "2020-06-03T17:26:16.096230Z"
    }
   },
   "outputs": [
    {
     "name": "stdout",
     "output_type": "stream",
     "text": [
      "ANDRE\n",
      "Um pouco mais de DEFAULT\n"
     ]
    }
   ],
   "source": [
    "grite('ANDRE')\n"
   ]
  },
  {
   "cell_type": "code",
   "execution_count": 33,
   "metadata": {
    "ExecuteTime": {
     "end_time": "2020-06-03T17:26:16.412648Z",
     "start_time": "2020-06-03T17:26:16.410624Z"
    }
   },
   "outputs": [
    {
     "name": "stdout",
     "output_type": "stream",
     "text": [
      "ANDRE\n",
      "Um pouco mais de JOAO\n"
     ]
    }
   ],
   "source": [
    "grite('ANDRE', 'JOAO')"
   ]
  },
  {
   "cell_type": "code",
   "execution_count": 37,
   "metadata": {
    "ExecuteTime": {
     "end_time": "2020-06-03T17:26:29.780086Z",
     "start_time": "2020-06-03T17:26:29.776073Z"
    }
   },
   "outputs": [],
   "source": [
    "def grite(x='OPCIONAL', y='DEFAULT'):\n",
    "    \n",
    "    print(f'{x}')\n",
    "    print(f'Um pouco mais de {y}')"
   ]
  },
  {
   "cell_type": "code",
   "execution_count": 38,
   "metadata": {
    "ExecuteTime": {
     "end_time": "2020-06-03T17:26:32.150161Z",
     "start_time": "2020-06-03T17:26:32.146171Z"
    }
   },
   "outputs": [
    {
     "name": "stdout",
     "output_type": "stream",
     "text": [
      "OPCIONAL\n",
      "Um pouco mais de DEFAULT\n"
     ]
    }
   ],
   "source": [
    "grite()"
   ]
  },
  {
   "cell_type": "code",
   "execution_count": 39,
   "metadata": {
    "ExecuteTime": {
     "end_time": "2020-06-03T17:26:38.942488Z",
     "start_time": "2020-06-03T17:26:38.939524Z"
    }
   },
   "outputs": [
    {
     "name": "stdout",
     "output_type": "stream",
     "text": [
      "ANDRE\n",
      "Um pouco mais de DEFAULT\n"
     ]
    }
   ],
   "source": [
    "grite('ANDRE')"
   ]
  },
  {
   "cell_type": "code",
   "execution_count": 40,
   "metadata": {
    "ExecuteTime": {
     "end_time": "2020-06-03T17:26:40.309275Z",
     "start_time": "2020-06-03T17:26:40.305287Z"
    }
   },
   "outputs": [
    {
     "name": "stdout",
     "output_type": "stream",
     "text": [
      "ANDRE\n",
      "Um pouco mais de JOAO\n"
     ]
    }
   ],
   "source": [
    "grite('ANDRE','JOAO')"
   ]
  },
  {
   "cell_type": "code",
   "execution_count": 42,
   "metadata": {
    "ExecuteTime": {
     "end_time": "2020-06-03T17:28:21.145183Z",
     "start_time": "2020-06-03T17:28:21.140197Z"
    }
   },
   "outputs": [
    {
     "ename": "SyntaxError",
     "evalue": "non-default argument follows default argument (<ipython-input-42-f8fb801d2536>, line 2)",
     "output_type": "error",
     "traceback": [
      "\u001b[1;36m  File \u001b[1;32m\"<ipython-input-42-f8fb801d2536>\"\u001b[1;36m, line \u001b[1;32m2\u001b[0m\n\u001b[1;33m    def grite(x='OPCIONAL', y):\u001b[0m\n\u001b[1;37m             ^\u001b[0m\n\u001b[1;31mSyntaxError\u001b[0m\u001b[1;31m:\u001b[0m non-default argument follows default argument\n"
     ]
    }
   ],
   "source": [
    "# não é permitido!\n",
    "def grite(x='OPCIONAL', y):\n",
    "    \n",
    "    print(f'{x}')\n",
    "    print(f'Um pouco mais de {y}')"
   ]
  },
  {
   "cell_type": "code",
   "execution_count": 29,
   "metadata": {
    "ExecuteTime": {
     "end_time": "2020-06-03T17:24:34.574284Z",
     "start_time": "2020-06-03T17:24:34.242217Z"
    }
   },
   "outputs": [],
   "source": [
    "import pandas as pd"
   ]
  },
  {
   "cell_type": "code",
   "execution_count": null,
   "metadata": {},
   "outputs": [],
   "source": [
    "pd.read_csv()"
   ]
  },
  {
   "cell_type": "code",
   "execution_count": null,
   "metadata": {},
   "outputs": [],
   "source": [
    "# snake_case"
   ]
  },
  {
   "cell_type": "code",
   "execution_count": 45,
   "metadata": {
    "ExecuteTime": {
     "end_time": "2020-06-03T17:28:47.697191Z",
     "start_time": "2020-06-03T17:28:47.693177Z"
    }
   },
   "outputs": [],
   "source": [
    "def grite(x='OPCIONAL', y='DEFAULT'):\n",
    " \n",
    "  print(f'{x}')\n",
    "  print(f'Um pouco mais de {y}')"
   ]
  },
  {
   "cell_type": "code",
   "execution_count": 46,
   "metadata": {
    "ExecuteTime": {
     "end_time": "2020-06-03T17:28:48.041268Z",
     "start_time": "2020-06-03T17:28:48.039279Z"
    }
   },
   "outputs": [
    {
     "name": "stdout",
     "output_type": "stream",
     "text": [
      "OPCIONAL\n",
      "Um pouco mais de DEFAULT\n"
     ]
    }
   ],
   "source": [
    "grite()"
   ]
  },
  {
   "cell_type": "code",
   "execution_count": 60,
   "metadata": {
    "ExecuteTime": {
     "end_time": "2020-06-03T17:31:00.625845Z",
     "start_time": "2020-06-03T17:31:00.621882Z"
    }
   },
   "outputs": [],
   "source": [
    "def grite(x='OPCIONAL', y='DEFAULT'):\n",
    "    \n",
    "    print(f'{x}')\n",
    "    print(f'Um pouco mais de {y}')\n",
    "    \n",
    "    # não colocar return significa:\n",
    "    return None"
   ]
  },
  {
   "cell_type": "code",
   "execution_count": 62,
   "metadata": {
    "ExecuteTime": {
     "end_time": "2020-06-03T17:31:07.454227Z",
     "start_time": "2020-06-03T17:31:07.451208Z"
    }
   },
   "outputs": [
    {
     "name": "stdout",
     "output_type": "stream",
     "text": [
      "OPCIONAL\n",
      "Um pouco mais de DEFAULT\n"
     ]
    }
   ],
   "source": [
    "variable = grite()"
   ]
  },
  {
   "cell_type": "code",
   "execution_count": 64,
   "metadata": {
    "ExecuteTime": {
     "end_time": "2020-06-03T17:31:28.956614Z",
     "start_time": "2020-06-03T17:31:28.950630Z"
    }
   },
   "outputs": [
    {
     "name": "stdout",
     "output_type": "stream",
     "text": [
      "OPCIONAL\n",
      "Um pouco mais de DEFAULT\n",
      "OPCIONAL\n",
      "Um pouco mais de DEFAULT\n",
      "OPCIONAL\n",
      "Um pouco mais de DEFAULT\n",
      "OPCIONAL\n",
      "Um pouco mais de DEFAULT\n",
      "OPCIONAL\n",
      "Um pouco mais de DEFAULT\n",
      "OPCIONAL\n",
      "Um pouco mais de DEFAULT\n",
      "OPCIONAL\n",
      "Um pouco mais de DEFAULT\n",
      "OPCIONAL\n",
      "Um pouco mais de DEFAULT\n",
      "OPCIONAL\n",
      "Um pouco mais de DEFAULT\n",
      "OPCIONAL\n",
      "Um pouco mais de DEFAULT\n"
     ]
    },
    {
     "data": {
      "text/plain": [
       "[None, None, None, None, None, None, None, None, None, None]"
      ]
     },
     "execution_count": 64,
     "metadata": {},
     "output_type": "execute_result"
    }
   ],
   "source": [
    "[grite() for item in range(10)]"
   ]
  },
  {
   "cell_type": "code",
   "execution_count": 57,
   "metadata": {
    "ExecuteTime": {
     "end_time": "2020-06-03T17:30:38.901866Z",
     "start_time": "2020-06-03T17:30:38.898874Z"
    }
   },
   "outputs": [],
   "source": [
    "def grite(x='OPCIONAL', y='DEFAULT'):\n",
    "    \n",
    "    print(f'{x}')\n",
    "    print(f'Um pouco mais de {y}')\n",
    "    \n",
    "    return x + ' Andre'"
   ]
  },
  {
   "cell_type": "code",
   "execution_count": 58,
   "metadata": {
    "ExecuteTime": {
     "end_time": "2020-06-03T17:30:40.520962Z",
     "start_time": "2020-06-03T17:30:40.518001Z"
    }
   },
   "outputs": [
    {
     "name": "stdout",
     "output_type": "stream",
     "text": [
      "JOAO\n",
      "Um pouco mais de DEFAULT\n"
     ]
    }
   ],
   "source": [
    "variable = grite('JOAO')"
   ]
  },
  {
   "cell_type": "code",
   "execution_count": 59,
   "metadata": {
    "ExecuteTime": {
     "end_time": "2020-06-03T17:30:43.529194Z",
     "start_time": "2020-06-03T17:30:43.525206Z"
    }
   },
   "outputs": [
    {
     "data": {
      "text/plain": [
       "'JOAO Andre'"
      ]
     },
     "execution_count": 59,
     "metadata": {},
     "output_type": "execute_result"
    }
   ],
   "source": [
    "variable"
   ]
  },
  {
   "cell_type": "code",
   "execution_count": 69,
   "metadata": {
    "ExecuteTime": {
     "end_time": "2020-06-03T17:33:49.067027Z",
     "start_time": "2020-06-03T17:33:49.064035Z"
    }
   },
   "outputs": [],
   "source": [
    "def get_square(x):\n",
    "    \"\"\"\n",
    "    This function returns the square of the number inputted.\n",
    "    \"\"\"\n",
    "    return x**2"
   ]
  },
  {
   "cell_type": "code",
   "execution_count": 70,
   "metadata": {
    "ExecuteTime": {
     "end_time": "2020-06-03T17:36:52.651153Z",
     "start_time": "2020-06-03T17:36:52.648161Z"
    }
   },
   "outputs": [],
   "source": [
    "def get_inadimplencia():\n",
    "    \"\"\"\n",
    "    This function returns the number of defaulters in the dataset.\n",
    "    \"\"\"\n",
    "    \n",
    "    pass\n"
   ]
  },
  {
   "cell_type": "code",
   "execution_count": null,
   "metadata": {},
   "outputs": [],
   "source": [
    "get_inadimplencia()"
   ]
  },
  {
   "cell_type": "code",
   "execution_count": 67,
   "metadata": {
    "ExecuteTime": {
     "end_time": "2020-06-03T17:32:29.583179Z",
     "start_time": "2020-06-03T17:32:29.579158Z"
    }
   },
   "outputs": [],
   "source": [
    "result = get_square(10)"
   ]
  },
  {
   "cell_type": "code",
   "execution_count": 68,
   "metadata": {
    "ExecuteTime": {
     "end_time": "2020-06-03T17:32:31.064058Z",
     "start_time": "2020-06-03T17:32:31.059071Z"
    }
   },
   "outputs": [
    {
     "data": {
      "text/plain": [
       "100"
      ]
     },
     "execution_count": 68,
     "metadata": {},
     "output_type": "execute_result"
    }
   ],
   "source": [
    "result"
   ]
  },
  {
   "cell_type": "code",
   "execution_count": null,
   "metadata": {},
   "outputs": [],
   "source": [
    "get_square"
   ]
  },
  {
   "cell_type": "code",
   "execution_count": null,
   "metadata": {},
   "outputs": [],
   "source": [
    "get_square"
   ]
  },
  {
   "cell_type": "markdown",
   "metadata": {},
   "source": [
    "# Function Syntax: \n",
    "\n",
    "`def`\n",
    "\n",
    "`function_name`\n",
    "\n",
    "```python\n",
    "def function_name\n",
    "```\n",
    "\n",
    "`parentheses`\n",
    "\n",
    "`[OPTIONAL] list of arguments`\n",
    "\n",
    "```python\n",
    "def function_name(x,y,z)\n",
    "```\n",
    "\n",
    "`required vs optional arguments`\n",
    "\n",
    "`:`\n",
    "\n",
    "`indented code block`\n",
    "\n",
    "```python\n",
    "def function_name(x,y,z):\n",
    "    k = x + y + z\n",
    "    \n",
    "```\n",
    "\n",
    "`[docstring]`\n",
    "\n",
    "```python\n",
    "def function_name(x,y,z):\n",
    "    \"\"\"Documentation comes here\"\"\"\n",
    "    k = x + y + z\n",
    "    \n",
    "```\n",
    "\n",
    "`return statement` \n",
    "\n",
    "```python\n",
    "def function_name(x,y,z):\n",
    "    \"\"\"Documentation comes here\"\"\"\n",
    "    k = x + y + z\n",
    "    \n",
    "    return k\n",
    "    \n",
    "```\n",
    "\n",
    "`functions are Callables!`"
   ]
  },
  {
   "cell_type": "code",
   "execution_count": 71,
   "metadata": {
    "ExecuteTime": {
     "end_time": "2020-06-03T17:44:42.723582Z",
     "start_time": "2020-06-03T17:44:42.719592Z"
    }
   },
   "outputs": [
    {
     "name": "stdout",
     "output_type": "stream",
     "text": [
      "OPCIONAL\n",
      "Um pouco mais de DEFAULT\n"
     ]
    }
   ],
   "source": [
    "grite()"
   ]
  },
  {
   "cell_type": "code",
   "execution_count": 75,
   "metadata": {
    "ExecuteTime": {
     "end_time": "2020-06-03T17:46:06.815316Z",
     "start_time": "2020-06-03T17:46:06.811354Z"
    }
   },
   "outputs": [
    {
     "data": {
      "text/plain": [
       "<function __main__.grite(x='OPCIONAL', y='DEFAULT')>"
      ]
     },
     "execution_count": 75,
     "metadata": {},
     "output_type": "execute_result"
    }
   ],
   "source": [
    "grite"
   ]
  },
  {
   "cell_type": "code",
   "execution_count": 73,
   "metadata": {
    "ExecuteTime": {
     "end_time": "2020-06-03T17:45:24.105829Z",
     "start_time": "2020-06-03T17:45:24.102837Z"
    }
   },
   "outputs": [],
   "source": [
    "outro_nome = grite"
   ]
  },
  {
   "cell_type": "code",
   "execution_count": 74,
   "metadata": {
    "ExecuteTime": {
     "end_time": "2020-06-03T17:45:28.269195Z",
     "start_time": "2020-06-03T17:45:28.266203Z"
    }
   },
   "outputs": [
    {
     "name": "stdout",
     "output_type": "stream",
     "text": [
      "OPCIONAL\n",
      "Um pouco mais de DEFAULT\n"
     ]
    }
   ],
   "source": [
    "outro_nome()"
   ]
  },
  {
   "cell_type": "code",
   "execution_count": null,
   "metadata": {},
   "outputs": [],
   "source": [
    "## exemplo"
   ]
  },
  {
   "cell_type": "code",
   "execution_count": 76,
   "metadata": {
    "ExecuteTime": {
     "end_time": "2020-06-03T17:46:26.352006Z",
     "start_time": "2020-06-03T17:46:26.348986Z"
    }
   },
   "outputs": [],
   "source": [
    "import os"
   ]
  },
  {
   "cell_type": "code",
   "execution_count": 78,
   "metadata": {
    "ExecuteTime": {
     "end_time": "2020-06-03T17:46:56.718470Z",
     "start_time": "2020-06-03T17:46:56.714454Z"
    }
   },
   "outputs": [
    {
     "data": {
      "text/plain": [
       "<function nt.listdir(path=None)>"
      ]
     },
     "execution_count": 78,
     "metadata": {},
     "output_type": "execute_result"
    }
   ],
   "source": [
    "os.listdir"
   ]
  },
  {
   "cell_type": "code",
   "execution_count": 79,
   "metadata": {
    "ExecuteTime": {
     "end_time": "2020-06-03T17:47:22.857667Z",
     "start_time": "2020-06-03T17:47:22.852680Z"
    }
   },
   "outputs": [
    {
     "data": {
      "text/plain": [
       "['.ipynb_checkpoints', 'functions-class.ipynb']"
      ]
     },
     "execution_count": 79,
     "metadata": {},
     "output_type": "execute_result"
    }
   ],
   "source": [
    "os.listdir()"
   ]
  },
  {
   "cell_type": "code",
   "execution_count": 83,
   "metadata": {
    "ExecuteTime": {
     "end_time": "2020-06-03T17:48:42.237376Z",
     "start_time": "2020-06-03T17:48:42.230395Z"
    }
   },
   "outputs": [
    {
     "ename": "TypeError",
     "evalue": "'list' object is not callable",
     "output_type": "error",
     "traceback": [
      "\u001b[1;31m---------------------------------------------------------------------------\u001b[0m",
      "\u001b[1;31mTypeError\u001b[0m                                 Traceback (most recent call last)",
      "\u001b[1;32m<ipython-input-83-ac1d55bb851f>\u001b[0m in \u001b[0;36m<module>\u001b[1;34m\u001b[0m\n\u001b[1;32m----> 1\u001b[1;33m \u001b[0mos\u001b[0m\u001b[1;33m.\u001b[0m\u001b[0msys\u001b[0m\u001b[1;33m.\u001b[0m\u001b[0mpath\u001b[0m\u001b[1;33m(\u001b[0m\u001b[1;33m)\u001b[0m\u001b[1;33m\u001b[0m\u001b[1;33m\u001b[0m\u001b[0m\n\u001b[0m",
      "\u001b[1;31mTypeError\u001b[0m: 'list' object is not callable"
     ]
    }
   ],
   "source": [
    "os.sys.path()"
   ]
  },
  {
   "cell_type": "code",
   "execution_count": 84,
   "metadata": {
    "ExecuteTime": {
     "end_time": "2020-06-03T17:48:46.544996Z",
     "start_time": "2020-06-03T17:48:46.541007Z"
    }
   },
   "outputs": [
    {
     "data": {
      "text/plain": [
       "['C:\\\\Users\\\\andreaguiar\\\\Desktop\\\\usr\\\\dev\\\\ironhack\\\\ft202006\\\\classes\\\\week1\\\\5_functions_python',\n",
       " 'c:\\\\programas\\\\anaconda3\\\\python37.zip',\n",
       " 'c:\\\\programas\\\\anaconda3\\\\DLLs',\n",
       " 'c:\\\\programas\\\\anaconda3\\\\lib',\n",
       " 'c:\\\\programas\\\\anaconda3',\n",
       " '',\n",
       " 'C:\\\\Users\\\\andreaguiar\\\\AppData\\\\Roaming\\\\Python\\\\Python37\\\\site-packages',\n",
       " 'C:\\\\Users\\\\andreaguiar\\\\AppData\\\\Roaming\\\\Python\\\\Python37\\\\site-packages\\\\ironhack-0.0.1-py3.7.egg',\n",
       " 'C:\\\\Users\\\\andreaguiar\\\\AppData\\\\Roaming\\\\Python\\\\Python37\\\\site-packages\\\\termcolor-1.1.0-py3.7.egg',\n",
       " 'c:\\\\programas\\\\anaconda3\\\\lib\\\\site-packages',\n",
       " 'c:\\\\programas\\\\anaconda3\\\\lib\\\\site-packages\\\\pyvis-0.1.6.0-py3.7.egg',\n",
       " 'c:\\\\programas\\\\anaconda3\\\\lib\\\\site-packages\\\\win32',\n",
       " 'c:\\\\programas\\\\anaconda3\\\\lib\\\\site-packages\\\\win32\\\\lib',\n",
       " 'c:\\\\programas\\\\anaconda3\\\\lib\\\\site-packages\\\\Pythonwin',\n",
       " 'C:\\\\Users\\\\andreaguiar\\\\AppData\\\\Roaming\\\\Python\\\\Python37\\\\site-packages\\\\IPython\\\\extensions',\n",
       " 'C:\\\\Users\\\\andreaguiar\\\\.ipython']"
      ]
     },
     "execution_count": 84,
     "metadata": {},
     "output_type": "execute_result"
    }
   ],
   "source": [
    "os.sys.path"
   ]
  },
  {
   "cell_type": "markdown",
   "metadata": {},
   "source": [
    "# Functions"
   ]
  },
  {
   "cell_type": "code",
   "execution_count": 85,
   "metadata": {
    "ExecuteTime": {
     "end_time": "2020-06-03T17:49:06.177777Z",
     "start_time": "2020-06-03T17:49:06.173789Z"
    }
   },
   "outputs": [],
   "source": [
    "def qualquer_coisa():\n",
    "    # do something here\n",
    "    print('oi')"
   ]
  },
  {
   "cell_type": "code",
   "execution_count": 86,
   "metadata": {
    "ExecuteTime": {
     "end_time": "2020-06-03T17:49:08.169029Z",
     "start_time": "2020-06-03T17:49:08.167007Z"
    }
   },
   "outputs": [],
   "source": [
    "def qualquer_coisa_return():\n",
    "    # do something here\n",
    "    return 'oi'\n"
   ]
  },
  {
   "cell_type": "code",
   "execution_count": 88,
   "metadata": {
    "ExecuteTime": {
     "end_time": "2020-06-03T17:49:17.981848Z",
     "start_time": "2020-06-03T17:49:17.977832Z"
    }
   },
   "outputs": [
    {
     "data": {
      "text/plain": [
       "'oi'"
      ]
     },
     "execution_count": 88,
     "metadata": {},
     "output_type": "execute_result"
    }
   ],
   "source": [
    "qualquer_coisa_return()"
   ]
  },
  {
   "cell_type": "code",
   "execution_count": 89,
   "metadata": {
    "ExecuteTime": {
     "end_time": "2020-06-03T17:49:28.273635Z",
     "start_time": "2020-06-03T17:49:28.269646Z"
    }
   },
   "outputs": [
    {
     "name": "stdout",
     "output_type": "stream",
     "text": [
      "oi\n"
     ]
    }
   ],
   "source": [
    "print(qualquer_coisa_return())\n",
    "\n",
    "a = 2\n",
    "a"
   ]
  },
  {
   "cell_type": "code",
   "execution_count": 92,
   "metadata": {
    "ExecuteTime": {
     "end_time": "2020-06-03T17:50:10.575427Z",
     "start_time": "2020-06-03T17:50:10.572434Z"
    }
   },
   "outputs": [],
   "source": [
    "def qualquer_coisa_return_x(x):\n",
    "    # do something here\n",
    "    return x**2\n"
   ]
  },
  {
   "cell_type": "code",
   "execution_count": 96,
   "metadata": {
    "ExecuteTime": {
     "end_time": "2020-06-03T17:50:27.149553Z",
     "start_time": "2020-06-03T17:50:27.147559Z"
    }
   },
   "outputs": [],
   "source": [
    "x = qualquer_coisa_return_x(16)"
   ]
  },
  {
   "cell_type": "code",
   "execution_count": 97,
   "metadata": {
    "ExecuteTime": {
     "end_time": "2020-06-03T17:50:33.511941Z",
     "start_time": "2020-06-03T17:50:33.507952Z"
    }
   },
   "outputs": [],
   "source": [
    "def qualquer_coisa_print(x):\n",
    "    # do something here\n",
    "    return print(x)\n"
   ]
  },
  {
   "cell_type": "code",
   "execution_count": 98,
   "metadata": {
    "ExecuteTime": {
     "end_time": "2020-06-03T17:50:36.375000Z",
     "start_time": "2020-06-03T17:50:36.371011Z"
    }
   },
   "outputs": [
    {
     "name": "stdout",
     "output_type": "stream",
     "text": [
      "10\n"
     ]
    }
   ],
   "source": [
    "x = qualquer_coisa_print(10)"
   ]
  },
  {
   "cell_type": "code",
   "execution_count": 104,
   "metadata": {
    "ExecuteTime": {
     "end_time": "2020-06-03T17:51:38.499733Z",
     "start_time": "2020-06-03T17:51:38.496715Z"
    }
   },
   "outputs": [],
   "source": [
    "def outra_funcao(x):\n",
    "    return x**2"
   ]
  },
  {
   "cell_type": "code",
   "execution_count": 106,
   "metadata": {
    "ExecuteTime": {
     "end_time": "2020-06-03T17:51:49.272485Z",
     "start_time": "2020-06-03T17:51:49.268496Z"
    }
   },
   "outputs": [],
   "source": [
    "def qualquer_coisa(x):\n",
    "    # do something here\n",
    "    return outra_funcao(x)"
   ]
  },
  {
   "cell_type": "code",
   "execution_count": 107,
   "metadata": {
    "ExecuteTime": {
     "end_time": "2020-06-03T17:52:30.456947Z",
     "start_time": "2020-06-03T17:52:30.452959Z"
    }
   },
   "outputs": [
    {
     "data": {
      "text/plain": [
       "100"
      ]
     },
     "execution_count": 107,
     "metadata": {},
     "output_type": "execute_result"
    }
   ],
   "source": [
    "qualquer_coisa(10)"
   ]
  },
  {
   "cell_type": "code",
   "execution_count": 110,
   "metadata": {
    "ExecuteTime": {
     "end_time": "2020-06-03T17:53:02.678531Z",
     "start_time": "2020-06-03T17:53:02.675590Z"
    }
   },
   "outputs": [],
   "source": [
    "def qualquer_coisa_none(x):\n",
    "    a = 2\n",
    "    # quando voce nao retorna nada, o def adiciona um 'return None'\n"
   ]
  },
  {
   "cell_type": "code",
   "execution_count": 111,
   "metadata": {
    "ExecuteTime": {
     "end_time": "2020-06-03T17:53:03.089474Z",
     "start_time": "2020-06-03T17:53:03.087468Z"
    }
   },
   "outputs": [],
   "source": [
    "y = qualquer_coisa_none(10)"
   ]
  },
  {
   "cell_type": "code",
   "execution_count": 113,
   "metadata": {
    "ExecuteTime": {
     "end_time": "2020-06-03T17:53:10.118771Z",
     "start_time": "2020-06-03T17:53:10.115780Z"
    }
   },
   "outputs": [],
   "source": [
    "y"
   ]
  },
  {
   "cell_type": "code",
   "execution_count": 112,
   "metadata": {
    "ExecuteTime": {
     "end_time": "2020-06-03T17:53:04.783191Z",
     "start_time": "2020-06-03T17:53:04.780199Z"
    }
   },
   "outputs": [
    {
     "name": "stdout",
     "output_type": "stream",
     "text": [
      "None\n"
     ]
    }
   ],
   "source": [
    "print(y)"
   ]
  },
  {
   "cell_type": "markdown",
   "metadata": {},
   "source": [
    "# Functions are `callables`"
   ]
  },
  {
   "cell_type": "code",
   "execution_count": 114,
   "metadata": {
    "ExecuteTime": {
     "end_time": "2020-06-03T17:53:23.903064Z",
     "start_time": "2020-06-03T17:53:23.899075Z"
    }
   },
   "outputs": [
    {
     "data": {
      "text/plain": [
       "<function __main__.my_function()>"
      ]
     },
     "execution_count": 114,
     "metadata": {},
     "output_type": "execute_result"
    }
   ],
   "source": [
    "my_function"
   ]
  },
  {
   "cell_type": "code",
   "execution_count": 115,
   "metadata": {
    "ExecuteTime": {
     "end_time": "2020-06-03T17:53:33.318341Z",
     "start_time": "2020-06-03T17:53:33.315349Z"
    }
   },
   "outputs": [],
   "source": [
    "f = my_function"
   ]
  },
  {
   "cell_type": "markdown",
   "metadata": {},
   "source": [
    "Para chamar a função tenho que colocar `()`"
   ]
  },
  {
   "cell_type": "code",
   "execution_count": 117,
   "metadata": {
    "ExecuteTime": {
     "end_time": "2020-06-03T17:53:45.314475Z",
     "start_time": "2020-06-03T17:53:45.311513Z"
    }
   },
   "outputs": [
    {
     "name": "stdout",
     "output_type": "stream",
     "text": [
      "Oi\n"
     ]
    }
   ],
   "source": [
    "my_function()"
   ]
  },
  {
   "cell_type": "code",
   "execution_count": 118,
   "metadata": {
    "ExecuteTime": {
     "end_time": "2020-06-03T17:53:48.414118Z",
     "start_time": "2020-06-03T17:53:48.411126Z"
    }
   },
   "outputs": [
    {
     "name": "stdout",
     "output_type": "stream",
     "text": [
      "Oi\n"
     ]
    }
   ],
   "source": [
    "f()"
   ]
  },
  {
   "cell_type": "code",
   "execution_count": 119,
   "metadata": {
    "ExecuteTime": {
     "end_time": "2020-06-03T17:54:09.741704Z",
     "start_time": "2020-06-03T17:54:09.738742Z"
    }
   },
   "outputs": [],
   "source": [
    "x = 18382"
   ]
  },
  {
   "cell_type": "code",
   "execution_count": 121,
   "metadata": {
    "ExecuteTime": {
     "end_time": "2020-06-03T17:54:21.221186Z",
     "start_time": "2020-06-03T17:54:21.217199Z"
    }
   },
   "outputs": [
    {
     "data": {
      "text/plain": [
       "function"
      ]
     },
     "execution_count": 121,
     "metadata": {},
     "output_type": "execute_result"
    }
   ],
   "source": [
    "type(my_function)"
   ]
  },
  {
   "cell_type": "code",
   "execution_count": 125,
   "metadata": {
    "ExecuteTime": {
     "end_time": "2020-06-03T17:54:46.860849Z",
     "start_time": "2020-06-03T17:54:46.856856Z"
    }
   },
   "outputs": [
    {
     "data": {
      "text/plain": [
       "int"
      ]
     },
     "execution_count": 125,
     "metadata": {},
     "output_type": "execute_result"
    }
   ],
   "source": [
    "type(x)"
   ]
  },
  {
   "cell_type": "code",
   "execution_count": 126,
   "metadata": {
    "ExecuteTime": {
     "end_time": "2020-06-03T17:54:56.587048Z",
     "start_time": "2020-06-03T17:54:56.580067Z"
    }
   },
   "outputs": [
    {
     "ename": "TypeError",
     "evalue": "'int' object is not callable",
     "output_type": "error",
     "traceback": [
      "\u001b[1;31m---------------------------------------------------------------------------\u001b[0m",
      "\u001b[1;31mTypeError\u001b[0m                                 Traceback (most recent call last)",
      "\u001b[1;32m<ipython-input-126-08f9d0828de0>\u001b[0m in \u001b[0;36m<module>\u001b[1;34m\u001b[0m\n\u001b[1;32m----> 1\u001b[1;33m \u001b[0mx\u001b[0m\u001b[1;33m(\u001b[0m\u001b[1;33m)\u001b[0m\u001b[1;33m\u001b[0m\u001b[1;33m\u001b[0m\u001b[0m\n\u001b[0m",
      "\u001b[1;31mTypeError\u001b[0m: 'int' object is not callable"
     ]
    }
   ],
   "source": [
    "x()"
   ]
  },
  {
   "cell_type": "code",
   "execution_count": 127,
   "metadata": {
    "ExecuteTime": {
     "end_time": "2020-06-03T17:55:04.094835Z",
     "start_time": "2020-06-03T17:55:04.088878Z"
    }
   },
   "outputs": [
    {
     "ename": "TypeError",
     "evalue": "'int' object is not callable",
     "output_type": "error",
     "traceback": [
      "\u001b[1;31m---------------------------------------------------------------------------\u001b[0m",
      "\u001b[1;31mTypeError\u001b[0m                                 Traceback (most recent call last)",
      "\u001b[1;32m<ipython-input-127-81d36aa9d3ee>\u001b[0m in \u001b[0;36m<module>\u001b[1;34m\u001b[0m\n\u001b[1;32m----> 1\u001b[1;33m \u001b[1;36m329888\u001b[0m\u001b[1;33m(\u001b[0m\u001b[1;33m)\u001b[0m\u001b[1;33m\u001b[0m\u001b[1;33m\u001b[0m\u001b[0m\n\u001b[0m",
      "\u001b[1;31mTypeError\u001b[0m: 'int' object is not callable"
     ]
    }
   ],
   "source": [
    "329888()"
   ]
  },
  {
   "cell_type": "code",
   "execution_count": 128,
   "metadata": {
    "ExecuteTime": {
     "end_time": "2020-06-03T17:55:17.846974Z",
     "start_time": "2020-06-03T17:55:17.840990Z"
    }
   },
   "outputs": [
    {
     "ename": "TypeError",
     "evalue": "'str' object is not callable",
     "output_type": "error",
     "traceback": [
      "\u001b[1;31m---------------------------------------------------------------------------\u001b[0m",
      "\u001b[1;31mTypeError\u001b[0m                                 Traceback (most recent call last)",
      "\u001b[1;32m<ipython-input-128-29217aac6365>\u001b[0m in \u001b[0;36m<module>\u001b[1;34m\u001b[0m\n\u001b[1;32m----> 1\u001b[1;33m \u001b[1;34m'asdsd'\u001b[0m\u001b[1;33m(\u001b[0m\u001b[1;33m)\u001b[0m\u001b[1;33m\u001b[0m\u001b[1;33m\u001b[0m\u001b[0m\n\u001b[0m",
      "\u001b[1;31mTypeError\u001b[0m: 'str' object is not callable"
     ]
    }
   ],
   "source": [
    "'asdsd'()"
   ]
  },
  {
   "cell_type": "code",
   "execution_count": null,
   "metadata": {},
   "outputs": [],
   "source": [
    "## dunder : double underline\n",
    "# dunder doc -> function.__doc__"
   ]
  },
  {
   "cell_type": "code",
   "execution_count": 131,
   "metadata": {
    "ExecuteTime": {
     "end_time": "2020-06-03T17:56:52.337300Z",
     "start_time": "2020-06-03T17:56:52.333311Z"
    }
   },
   "outputs": [
    {
     "data": {
      "text/plain": [
       "'\\n    This function returns the number of defaulters in the dataset.\\n    '"
      ]
     },
     "execution_count": 131,
     "metadata": {},
     "output_type": "execute_result"
    }
   ],
   "source": [
    "get_inadimplencia.__doc__"
   ]
  },
  {
   "cell_type": "code",
   "execution_count": 135,
   "metadata": {
    "ExecuteTime": {
     "end_time": "2020-06-03T17:58:50.176251Z",
     "start_time": "2020-06-03T17:58:50.172262Z"
    }
   },
   "outputs": [
    {
     "name": "stdout",
     "output_type": "stream",
     "text": [
      "<function get_inadimplencia at 0x0000029B57048730>\n"
     ]
    }
   ],
   "source": [
    "print(get_inadimplencia)"
   ]
  },
  {
   "cell_type": "code",
   "execution_count": 133,
   "metadata": {
    "ExecuteTime": {
     "end_time": "2020-06-03T17:58:32.386930Z",
     "start_time": "2020-06-03T17:58:32.382941Z"
    }
   },
   "outputs": [
    {
     "data": {
      "text/plain": [
       "'<function get_inadimplencia at 0x0000029B57048730>'"
      ]
     },
     "execution_count": 133,
     "metadata": {},
     "output_type": "execute_result"
    }
   ],
   "source": [
    "get_inadimplencia.__repr__()"
   ]
  },
  {
   "cell_type": "code",
   "execution_count": 138,
   "metadata": {
    "ExecuteTime": {
     "end_time": "2020-06-03T17:59:40.055194Z",
     "start_time": "2020-06-03T17:59:40.050208Z"
    }
   },
   "outputs": [
    {
     "data": {
      "text/plain": [
       "<code object get_inadimplencia at 0x0000029B57043D20, file \"<ipython-input-70-f1c8a14fa5cb>\", line 1>"
      ]
     },
     "execution_count": 138,
     "metadata": {},
     "output_type": "execute_result"
    }
   ],
   "source": [
    "get_inadimplencia.__code__"
   ]
  },
  {
   "cell_type": "markdown",
   "metadata": {},
   "source": [
    "# Functions can receive arguments"
   ]
  },
  {
   "cell_type": "code",
   "execution_count": 147,
   "metadata": {
    "ExecuteTime": {
     "end_time": "2020-06-03T18:00:47.730872Z",
     "start_time": "2020-06-03T18:00:47.727881Z"
    }
   },
   "outputs": [],
   "source": [
    "# required arguments\n",
    "def my_function_with_args(username, greeting):\n",
    "    print(f'Hello, {username} , From My Function!, I wish you {greeting}')"
   ]
  },
  {
   "cell_type": "code",
   "execution_count": 148,
   "metadata": {
    "ExecuteTime": {
     "end_time": "2020-06-03T18:00:53.622272Z",
     "start_time": "2020-06-03T18:00:53.615264Z"
    }
   },
   "outputs": [
    {
     "ename": "TypeError",
     "evalue": "my_function_with_args() missing 2 required positional arguments: 'username' and 'greeting'",
     "output_type": "error",
     "traceback": [
      "\u001b[1;31m---------------------------------------------------------------------------\u001b[0m",
      "\u001b[1;31mTypeError\u001b[0m                                 Traceback (most recent call last)",
      "\u001b[1;32m<ipython-input-148-da7210d45f42>\u001b[0m in \u001b[0;36m<module>\u001b[1;34m\u001b[0m\n\u001b[1;32m----> 1\u001b[1;33m \u001b[0mmy_function_with_args\u001b[0m\u001b[1;33m(\u001b[0m\u001b[1;33m)\u001b[0m\u001b[1;33m\u001b[0m\u001b[1;33m\u001b[0m\u001b[0m\n\u001b[0m",
      "\u001b[1;31mTypeError\u001b[0m: my_function_with_args() missing 2 required positional arguments: 'username' and 'greeting'"
     ]
    }
   ],
   "source": [
    "my_function_with_args()"
   ]
  },
  {
   "cell_type": "code",
   "execution_count": 149,
   "metadata": {
    "ExecuteTime": {
     "end_time": "2020-06-03T18:01:29.611398Z",
     "start_time": "2020-06-03T18:01:29.608408Z"
    }
   },
   "outputs": [
    {
     "name": "stdout",
     "output_type": "stream",
     "text": [
      "Hello, Andre , From My Function!, I wish you Merry Christmas\n"
     ]
    }
   ],
   "source": [
    "my_function_with_args('Andre', 'Merry Christmas')"
   ]
  },
  {
   "cell_type": "code",
   "execution_count": 150,
   "metadata": {
    "ExecuteTime": {
     "end_time": "2020-06-03T18:01:38.610127Z",
     "start_time": "2020-06-03T18:01:38.607164Z"
    }
   },
   "outputs": [
    {
     "name": "stdout",
     "output_type": "stream",
     "text": [
      "Hello, Andre , From My Function!, I wish you Merry Christmas\n"
     ]
    }
   ],
   "source": [
    "my_function_with_args(username='Andre', greeting='Merry Christmas')"
   ]
  },
  {
   "cell_type": "code",
   "execution_count": 154,
   "metadata": {
    "ExecuteTime": {
     "end_time": "2020-06-03T18:02:44.969446Z",
     "start_time": "2020-06-03T18:02:44.966454Z"
    }
   },
   "outputs": [],
   "source": [
    "my_string = 'example bla'"
   ]
  },
  {
   "cell_type": "code",
   "execution_count": 155,
   "metadata": {
    "ExecuteTime": {
     "end_time": "2020-06-03T18:02:45.492048Z",
     "start_time": "2020-06-03T18:02:45.488059Z"
    }
   },
   "outputs": [
    {
     "data": {
      "text/plain": [
       "['example', 'bla']"
      ]
     },
     "execution_count": 155,
     "metadata": {},
     "output_type": "execute_result"
    }
   ],
   "source": [
    "my_string.split()"
   ]
  },
  {
   "cell_type": "code",
   "execution_count": 157,
   "metadata": {
    "ExecuteTime": {
     "end_time": "2020-06-03T18:03:07.910708Z",
     "start_time": "2020-06-03T18:03:07.905722Z"
    }
   },
   "outputs": [
    {
     "data": {
      "text/plain": [
       "['exam', 'le bla']"
      ]
     },
     "execution_count": 157,
     "metadata": {},
     "output_type": "execute_result"
    }
   ],
   "source": [
    "my_string.split('p')"
   ]
  },
  {
   "cell_type": "code",
   "execution_count": 159,
   "metadata": {
    "ExecuteTime": {
     "end_time": "2020-06-03T18:04:08.488522Z",
     "start_time": "2020-06-03T18:04:08.480543Z"
    }
   },
   "outputs": [
    {
     "ename": "TypeError",
     "evalue": "insert() takes no keyword arguments",
     "output_type": "error",
     "traceback": [
      "\u001b[1;31m---------------------------------------------------------------------------\u001b[0m",
      "\u001b[1;31mTypeError\u001b[0m                                 Traceback (most recent call last)",
      "\u001b[1;32m<ipython-input-159-c7af2049b6a6>\u001b[0m in \u001b[0;36m<module>\u001b[1;34m\u001b[0m\n\u001b[1;32m----> 1\u001b[1;33m \u001b[0mmy_list\u001b[0m\u001b[1;33m.\u001b[0m\u001b[0minsert\u001b[0m\u001b[1;33m(\u001b[0m\u001b[0mindex\u001b[0m\u001b[1;33m=\u001b[0m\u001b[1;36m0\u001b[0m\u001b[1;33m,\u001b[0m \u001b[0mobject\u001b[0m\u001b[1;33m=\u001b[0m\u001b[1;36m10\u001b[0m\u001b[1;33m)\u001b[0m\u001b[1;33m\u001b[0m\u001b[1;33m\u001b[0m\u001b[0m\n\u001b[0m",
      "\u001b[1;31mTypeError\u001b[0m: insert() takes no keyword arguments"
     ]
    }
   ],
   "source": [
    "my_list.insert(index=0, object=10)"
   ]
  },
  {
   "cell_type": "code",
   "execution_count": 160,
   "metadata": {
    "ExecuteTime": {
     "end_time": "2020-06-03T18:04:23.479926Z",
     "start_time": "2020-06-03T18:04:23.476934Z"
    }
   },
   "outputs": [],
   "source": [
    "my_list.insert(0, 10)"
   ]
  },
  {
   "cell_type": "code",
   "execution_count": 161,
   "metadata": {
    "ExecuteTime": {
     "end_time": "2020-06-03T18:04:26.947116Z",
     "start_time": "2020-06-03T18:04:26.942130Z"
    }
   },
   "outputs": [
    {
     "data": {
      "text/plain": [
       "[10, 1, 3]"
      ]
     },
     "execution_count": 161,
     "metadata": {},
     "output_type": "execute_result"
    }
   ],
   "source": [
    "my_list"
   ]
  },
  {
   "cell_type": "code",
   "execution_count": 166,
   "metadata": {
    "ExecuteTime": {
     "end_time": "2020-06-03T18:05:40.851048Z",
     "start_time": "2020-06-03T18:05:40.848056Z"
    }
   },
   "outputs": [
    {
     "name": "stdout",
     "output_type": "stream",
     "text": [
      "Hello, Andre , From My Function!, I wish you [10, 1, 3]\n"
     ]
    }
   ],
   "source": [
    "my_function_with_args(username='Andre', greeting=my_list)"
   ]
  },
  {
   "cell_type": "code",
   "execution_count": null,
   "metadata": {},
   "outputs": [],
   "source": [
    "# camelCase myFunctionWithArgs\n",
    "# snake_case my_function_with_args"
   ]
  },
  {
   "cell_type": "code",
   "execution_count": 168,
   "metadata": {
    "ExecuteTime": {
     "end_time": "2020-06-03T18:06:02.532081Z",
     "start_time": "2020-06-03T18:06:02.528092Z"
    }
   },
   "outputs": [
    {
     "ename": "SyntaxError",
     "evalue": "invalid syntax (<ipython-input-168-ca858594f1e6>, line 1)",
     "output_type": "error",
     "traceback": [
      "\u001b[1;36m  File \u001b[1;32m\"<ipython-input-168-ca858594f1e6>\"\u001b[1;36m, line \u001b[1;32m1\u001b[0m\n\u001b[1;33m    def 3qualquer():\u001b[0m\n\u001b[1;37m        ^\u001b[0m\n\u001b[1;31mSyntaxError\u001b[0m\u001b[1;31m:\u001b[0m invalid syntax\n"
     ]
    }
   ],
   "source": [
    "def 3qualquer():\n",
    "    print('Nao vai dar')"
   ]
  },
  {
   "cell_type": "code",
   "execution_count": 175,
   "metadata": {
    "ExecuteTime": {
     "end_time": "2020-06-03T18:07:50.761630Z",
     "start_time": "2020-06-03T18:07:50.757641Z"
    }
   },
   "outputs": [],
   "source": [
    "def _qualquer():\n",
    "    print('Usualmente, colocar o nome de uma função com _ no inicio, representa que você quer que o usuário não use essa função... ou seja, representa uma função privada')"
   ]
  },
  {
   "cell_type": "code",
   "execution_count": 176,
   "metadata": {
    "ExecuteTime": {
     "end_time": "2020-06-03T18:07:51.521840Z",
     "start_time": "2020-06-03T18:07:51.517851Z"
    }
   },
   "outputs": [
    {
     "name": "stdout",
     "output_type": "stream",
     "text": [
      "Usualmente, colocar o nome de uma função com _ no inicio, representa que você quer que o usuário não use essa função... ou seja, representa uma função privada\n"
     ]
    }
   ],
   "source": [
    "_qualquer()"
   ]
  },
  {
   "cell_type": "markdown",
   "metadata": {},
   "source": [
    "# Functions can receive `OPTIONAL` arguments"
   ]
  },
  {
   "cell_type": "code",
   "execution_count": 177,
   "metadata": {
    "ExecuteTime": {
     "end_time": "2020-06-03T18:08:25.132981Z",
     "start_time": "2020-06-03T18:08:25.125971Z"
    }
   },
   "outputs": [
    {
     "ename": "TypeError",
     "evalue": "my_function_with_args_optional() missing 1 required positional argument: 'username'",
     "output_type": "error",
     "traceback": [
      "\u001b[1;31m---------------------------------------------------------------------------\u001b[0m",
      "\u001b[1;31mTypeError\u001b[0m                                 Traceback (most recent call last)",
      "\u001b[1;32m<ipython-input-177-8fd460c332bd>\u001b[0m in \u001b[0;36m<module>\u001b[1;34m\u001b[0m\n\u001b[0;32m      2\u001b[0m     \u001b[0mprint\u001b[0m\u001b[1;33m(\u001b[0m\u001b[1;34mf'Hello, {username} , From My Function!, I wish you {greeting}'\u001b[0m\u001b[1;33m)\u001b[0m\u001b[1;33m\u001b[0m\u001b[1;33m\u001b[0m\u001b[0m\n\u001b[0;32m      3\u001b[0m \u001b[1;33m\u001b[0m\u001b[0m\n\u001b[1;32m----> 4\u001b[1;33m \u001b[0mmy_function_with_args_optional\u001b[0m\u001b[1;33m(\u001b[0m\u001b[1;33m)\u001b[0m\u001b[1;33m\u001b[0m\u001b[1;33m\u001b[0m\u001b[0m\n\u001b[0m",
      "\u001b[1;31mTypeError\u001b[0m: my_function_with_args_optional() missing 1 required positional argument: 'username'"
     ]
    }
   ],
   "source": [
    "def my_function_with_args_optional(username, greeting='NOTHING!'):\n",
    "    print(f'Hello, {username} , From My Function!, I wish you {greeting}')\n",
    "    \n",
    "my_function_with_args_optional()"
   ]
  },
  {
   "cell_type": "code",
   "execution_count": 178,
   "metadata": {
    "ExecuteTime": {
     "end_time": "2020-06-03T18:08:32.260296Z",
     "start_time": "2020-06-03T18:08:32.256306Z"
    }
   },
   "outputs": [
    {
     "name": "stdout",
     "output_type": "stream",
     "text": [
      "Hello, Andre , From My Function!, I wish you NOTHING!\n"
     ]
    }
   ],
   "source": [
    "my_function_with_args_optional('Andre')"
   ]
  },
  {
   "cell_type": "code",
   "execution_count": 179,
   "metadata": {
    "ExecuteTime": {
     "end_time": "2020-06-03T18:08:32.752950Z",
     "start_time": "2020-06-03T18:08:32.748962Z"
    }
   },
   "outputs": [
    {
     "name": "stdout",
     "output_type": "stream",
     "text": [
      "Hello, Andre , From My Function!, I wish you Merry Christmas\n"
     ]
    }
   ],
   "source": [
    "my_function_with_args_optional('Andre', 'Merry Christmas')"
   ]
  },
  {
   "cell_type": "code",
   "execution_count": 180,
   "metadata": {
    "ExecuteTime": {
     "end_time": "2020-06-03T18:08:38.597270Z",
     "start_time": "2020-06-03T18:08:38.593312Z"
    }
   },
   "outputs": [
    {
     "ename": "SyntaxError",
     "evalue": "non-default argument follows default argument (<ipython-input-180-3e3e0aefb6c4>, line 2)",
     "output_type": "error",
     "traceback": [
      "\u001b[1;36m  File \u001b[1;32m\"<ipython-input-180-3e3e0aefb6c4>\"\u001b[1;36m, line \u001b[1;32m2\u001b[0m\n\u001b[1;33m    def my_function_with_args_optional_improper_order(username, greeting='NOTHING!', password):\u001b[0m\n\u001b[1;37m                                                     ^\u001b[0m\n\u001b[1;31mSyntaxError\u001b[0m\u001b[1;31m:\u001b[0m non-default argument follows default argument\n"
     ]
    }
   ],
   "source": [
    "# order matters - can't have optional in front of required args\n",
    "def my_function_with_args_optional_improper_order(username, greeting='NOTHING!', password):\n",
    "    print(f'Hello, {username} , From My Function!, I wish you {greeting}: {password}')\n",
    "    \n",
    "#my_function_with_args_optional_improper_order()"
   ]
  },
  {
   "cell_type": "code",
   "execution_count": 181,
   "metadata": {
    "ExecuteTime": {
     "end_time": "2020-06-03T18:08:42.454316Z",
     "start_time": "2020-06-03T18:08:42.450327Z"
    }
   },
   "outputs": [
    {
     "name": "stdout",
     "output_type": "stream",
     "text": [
      "Hello, Andre , From My Function!, I wish you MERRY CHRISTMAS: 12345\n"
     ]
    }
   ],
   "source": [
    "def my_function_with_args_optional_proper_order(username, password, greeting='NOTHING!'):\n",
    "    print(f'Hello, {username} , From My Function!, I wish you {greeting}: {password}')\n",
    "    \n",
    "my_function_with_args_optional_proper_order('Andre','12345','MERRY CHRISTMAS')"
   ]
  },
  {
   "cell_type": "code",
   "execution_count": 183,
   "metadata": {
    "ExecuteTime": {
     "end_time": "2020-06-03T18:08:55.242800Z",
     "start_time": "2020-06-03T18:08:55.239809Z"
    }
   },
   "outputs": [
    {
     "name": "stdout",
     "output_type": "stream",
     "text": [
      "Hello, Andre , From My Function!, I wish you NOTHING!: 12345\n"
     ]
    }
   ],
   "source": [
    "my_function_with_args_optional_proper_order('Andre','12345')"
   ]
  },
  {
   "cell_type": "code",
   "execution_count": null,
   "metadata": {},
   "outputs": [],
   "source": [
    "# default arguments\n",
    "# order of optional arguments matter\n",
    "# required arguments (positional vs named)"
   ]
  },
  {
   "cell_type": "markdown",
   "metadata": {},
   "source": [
    "# Functions can return 1 or more values"
   ]
  },
  {
   "cell_type": "code",
   "execution_count": 184,
   "metadata": {
    "ExecuteTime": {
     "end_time": "2020-06-03T18:09:12.103764Z",
     "start_time": "2020-06-03T18:09:12.100772Z"
    }
   },
   "outputs": [],
   "source": [
    "def sum_two_numbers(a, b=0):\n",
    "    return a + b"
   ]
  },
  {
   "cell_type": "code",
   "execution_count": 186,
   "metadata": {
    "ExecuteTime": {
     "end_time": "2020-06-03T18:09:22.277103Z",
     "start_time": "2020-06-03T18:09:22.272116Z"
    }
   },
   "outputs": [
    {
     "data": {
      "text/plain": [
       "13"
      ]
     },
     "execution_count": 186,
     "metadata": {},
     "output_type": "execute_result"
    }
   ],
   "source": [
    "sum_two_numbers(10, 3)"
   ]
  },
  {
   "cell_type": "code",
   "execution_count": 189,
   "metadata": {
    "ExecuteTime": {
     "end_time": "2020-06-03T18:09:55.248368Z",
     "start_time": "2020-06-03T18:09:55.245376Z"
    }
   },
   "outputs": [],
   "source": [
    "def sum_and_diff_two_numbers(a, b=0):\n",
    "    return a + b, a - b"
   ]
  },
  {
   "cell_type": "code",
   "execution_count": 190,
   "metadata": {
    "ExecuteTime": {
     "end_time": "2020-06-03T18:09:56.230583Z",
     "start_time": "2020-06-03T18:09:56.226592Z"
    }
   },
   "outputs": [
    {
     "data": {
      "text/plain": [
       "(18, 8)"
      ]
     },
     "execution_count": 190,
     "metadata": {},
     "output_type": "execute_result"
    }
   ],
   "source": [
    "sum_and_diff_two_numbers(13, 5)"
   ]
  },
  {
   "cell_type": "code",
   "execution_count": 192,
   "metadata": {
    "ExecuteTime": {
     "end_time": "2020-06-03T18:10:21.987014Z",
     "start_time": "2020-06-03T18:10:21.984023Z"
    }
   },
   "outputs": [],
   "source": [
    "resultado = sum_and_diff_two_numbers(13, 5)"
   ]
  },
  {
   "cell_type": "code",
   "execution_count": 193,
   "metadata": {
    "ExecuteTime": {
     "end_time": "2020-06-03T18:10:23.347033Z",
     "start_time": "2020-06-03T18:10:23.342047Z"
    }
   },
   "outputs": [
    {
     "data": {
      "text/plain": [
       "(18, 8)"
      ]
     },
     "execution_count": 193,
     "metadata": {},
     "output_type": "execute_result"
    }
   ],
   "source": [
    "resultado"
   ]
  },
  {
   "cell_type": "code",
   "execution_count": 194,
   "metadata": {
    "ExecuteTime": {
     "end_time": "2020-06-03T18:10:31.435385Z",
     "start_time": "2020-06-03T18:10:31.431397Z"
    }
   },
   "outputs": [],
   "source": [
    "soma, subt = sum_and_diff_two_numbers(13, 5)"
   ]
  },
  {
   "cell_type": "code",
   "execution_count": 195,
   "metadata": {
    "ExecuteTime": {
     "end_time": "2020-06-03T18:10:33.127654Z",
     "start_time": "2020-06-03T18:10:33.123666Z"
    }
   },
   "outputs": [
    {
     "data": {
      "text/plain": [
       "18"
      ]
     },
     "execution_count": 195,
     "metadata": {},
     "output_type": "execute_result"
    }
   ],
   "source": [
    "soma"
   ]
  },
  {
   "cell_type": "code",
   "execution_count": 196,
   "metadata": {
    "ExecuteTime": {
     "end_time": "2020-06-03T18:10:36.119023Z",
     "start_time": "2020-06-03T18:10:36.116031Z"
    }
   },
   "outputs": [
    {
     "data": {
      "text/plain": [
       "8"
      ]
     },
     "execution_count": 196,
     "metadata": {},
     "output_type": "execute_result"
    }
   ],
   "source": [
    "subt"
   ]
  },
  {
   "cell_type": "markdown",
   "metadata": {},
   "source": [
    "## Reserved Keywords"
   ]
  },
  {
   "cell_type": "code",
   "execution_count": null,
   "metadata": {},
   "outputs": [],
   "source": [
    "list\n",
    "type\n",
    "int\n",
    "tuple"
   ]
  },
  {
   "cell_type": "code",
   "execution_count": 197,
   "metadata": {
    "ExecuteTime": {
     "end_time": "2020-06-03T18:11:49.634099Z",
     "start_time": "2020-06-03T18:11:49.630110Z"
    }
   },
   "outputs": [
    {
     "data": {
      "text/plain": [
       "[10, 3]"
      ]
     },
     "execution_count": 197,
     "metadata": {},
     "output_type": "execute_result"
    }
   ],
   "source": [
    "list((10,3))"
   ]
  },
  {
   "cell_type": "code",
   "execution_count": 198,
   "metadata": {
    "ExecuteTime": {
     "end_time": "2020-06-03T18:12:07.047694Z",
     "start_time": "2020-06-03T18:12:07.043730Z"
    }
   },
   "outputs": [
    {
     "data": {
      "text/plain": [
       "3"
      ]
     },
     "execution_count": 198,
     "metadata": {},
     "output_type": "execute_result"
    }
   ],
   "source": [
    "int(3.1415)"
   ]
  },
  {
   "cell_type": "code",
   "execution_count": 199,
   "metadata": {
    "ExecuteTime": {
     "end_time": "2020-06-03T18:12:24.713945Z",
     "start_time": "2020-06-03T18:12:24.710953Z"
    }
   },
   "outputs": [],
   "source": [
    "def int(x):\n",
    "    print('MUAHUAHUA')\n",
    "    \n",
    "    return"
   ]
  },
  {
   "cell_type": "code",
   "execution_count": 201,
   "metadata": {
    "ExecuteTime": {
     "end_time": "2020-06-03T18:13:03.422295Z",
     "start_time": "2020-06-03T18:13:03.418307Z"
    }
   },
   "outputs": [],
   "source": [
    "def list(x):\n",
    "    print('MUAHUAHUA')\n",
    "    \n",
    "    return"
   ]
  },
  {
   "cell_type": "code",
   "execution_count": 202,
   "metadata": {
    "ExecuteTime": {
     "end_time": "2020-06-03T18:13:04.800720Z",
     "start_time": "2020-06-03T18:13:04.797729Z"
    }
   },
   "outputs": [
    {
     "name": "stdout",
     "output_type": "stream",
     "text": [
      "MUAHUAHUA\n"
     ]
    }
   ],
   "source": [
    "list((10,3))"
   ]
  },
  {
   "cell_type": "code",
   "execution_count": 200,
   "metadata": {
    "ExecuteTime": {
     "end_time": "2020-06-03T18:12:30.320439Z",
     "start_time": "2020-06-03T18:12:30.317447Z"
    }
   },
   "outputs": [
    {
     "name": "stdout",
     "output_type": "stream",
     "text": [
      "MUAHUAHUA\n"
     ]
    }
   ],
   "source": [
    "int(3.1415)"
   ]
  },
  {
   "cell_type": "code",
   "execution_count": null,
   "metadata": {},
   "outputs": [],
   "source": [
    "int('8')"
   ]
  },
  {
   "cell_type": "code",
   "execution_count": null,
   "metadata": {},
   "outputs": [],
   "source": [
    "# remember you'll have to store it in a variable afterwards"
   ]
  },
  {
   "cell_type": "code",
   "execution_count": 203,
   "metadata": {
    "ExecuteTime": {
     "end_time": "2020-06-03T18:14:54.777550Z",
     "start_time": "2020-06-03T18:14:54.772564Z"
    }
   },
   "outputs": [
    {
     "data": {
      "text/plain": [
       "'Andre Aguiar'"
      ]
     },
     "execution_count": 203,
     "metadata": {},
     "output_type": "execute_result"
    }
   ],
   "source": [
    "' '.join(['Andre','Aguiar'])"
   ]
  },
  {
   "cell_type": "code",
   "execution_count": null,
   "metadata": {},
   "outputs": [],
   "source": []
  },
  {
   "cell_type": "code",
   "execution_count": 204,
   "metadata": {
    "ExecuteTime": {
     "end_time": "2020-06-03T18:15:01.696342Z",
     "start_time": "2020-06-03T18:15:01.692353Z"
    }
   },
   "outputs": [],
   "source": [
    "def list_to_string(lst, sep=' '):\n",
    "    'This functions gets a list and concatenates it using the sep character.'\n",
    "    joined_string = sep.join(lst)\n",
    "    \n",
    "    return joined_string"
   ]
  },
  {
   "cell_type": "code",
   "execution_count": 205,
   "metadata": {
    "ExecuteTime": {
     "end_time": "2020-06-03T18:15:14.299611Z",
     "start_time": "2020-06-03T18:15:14.294625Z"
    }
   },
   "outputs": [
    {
     "data": {
      "text/plain": [
       "'Andre Aguiar'"
      ]
     },
     "execution_count": 205,
     "metadata": {},
     "output_type": "execute_result"
    }
   ],
   "source": [
    "list_to_string(['Andre','Aguiar'], sep=' ')"
   ]
  },
  {
   "cell_type": "code",
   "execution_count": 206,
   "metadata": {
    "ExecuteTime": {
     "end_time": "2020-06-03T18:15:56.802701Z",
     "start_time": "2020-06-03T18:15:56.797715Z"
    }
   },
   "outputs": [
    {
     "data": {
      "text/plain": [
       "'John was a man of many talents'"
      ]
     },
     "execution_count": 206,
     "metadata": {},
     "output_type": "execute_result"
    }
   ],
   "source": [
    "to_string = ['John', 'was', 'a', 'man', 'of', 'many', 'talents']\n",
    "list_to_string(to_string)"
   ]
  },
  {
   "cell_type": "code",
   "execution_count": 207,
   "metadata": {
    "ExecuteTime": {
     "end_time": "2020-06-03T18:16:00.844146Z",
     "start_time": "2020-06-03T18:16:00.839159Z"
    }
   },
   "outputs": [
    {
     "data": {
      "text/plain": [
       "'John,was,a,man,of,many,talents'"
      ]
     },
     "execution_count": 207,
     "metadata": {},
     "output_type": "execute_result"
    }
   ],
   "source": [
    "to_string = ['John', 'was', 'a', 'man', 'of', 'many', 'talents']\n",
    "list_to_string(to_string, sep=',')"
   ]
  },
  {
   "cell_type": "code",
   "execution_count": 208,
   "metadata": {
    "ExecuteTime": {
     "end_time": "2020-06-03T18:16:02.488318Z",
     "start_time": "2020-06-03T18:16:02.484317Z"
    }
   },
   "outputs": [
    {
     "data": {
      "text/plain": [
       "'John, was, a, man, of, many, talents'"
      ]
     },
     "execution_count": 208,
     "metadata": {},
     "output_type": "execute_result"
    }
   ],
   "source": [
    "list_to_string(to_string, ', ')"
   ]
  },
  {
   "cell_type": "markdown",
   "metadata": {},
   "source": [
    "# Scope"
   ]
  },
  {
   "cell_type": "markdown",
   "metadata": {},
   "source": [
    "Global vs Local"
   ]
  },
  {
   "cell_type": "markdown",
   "metadata": {},
   "source": [
    "Variables that are defined inside a function body have a local scope, and those defined outside have a global scope."
   ]
  },
  {
   "cell_type": "code",
   "execution_count": 209,
   "metadata": {
    "ExecuteTime": {
     "end_time": "2020-06-03T18:17:14.454816Z",
     "start_time": "2020-06-03T18:17:14.450826Z"
    }
   },
   "outputs": [],
   "source": [
    "a = 9\n",
    "b = 10"
   ]
  },
  {
   "cell_type": "code",
   "execution_count": 210,
   "metadata": {
    "ExecuteTime": {
     "end_time": "2020-06-03T18:17:23.681870Z",
     "start_time": "2020-06-03T18:17:23.677881Z"
    }
   },
   "outputs": [
    {
     "data": {
      "text/plain": [
       "10"
      ]
     },
     "execution_count": 210,
     "metadata": {},
     "output_type": "execute_result"
    }
   ],
   "source": [
    "b"
   ]
  },
  {
   "cell_type": "code",
   "execution_count": 211,
   "metadata": {
    "ExecuteTime": {
     "end_time": "2020-06-03T18:17:59.573733Z",
     "start_time": "2020-06-03T18:17:59.568745Z"
    }
   },
   "outputs": [
    {
     "data": {
      "text/plain": [
       "20"
      ]
     },
     "execution_count": 211,
     "metadata": {},
     "output_type": "execute_result"
    }
   ],
   "source": [
    "def multiply(number, multiplier=2):\n",
    "    b = number * multiplier\n",
    "    return b\n",
    "\n",
    "multiply(10)\n",
    "    "
   ]
  },
  {
   "cell_type": "code",
   "execution_count": 213,
   "metadata": {
    "ExecuteTime": {
     "end_time": "2020-06-03T18:23:39.981546Z",
     "start_time": "2020-06-03T18:23:39.976527Z"
    }
   },
   "outputs": [
    {
     "data": {
      "text/plain": [
       "20"
      ]
     },
     "execution_count": 213,
     "metadata": {},
     "output_type": "execute_result"
    }
   ],
   "source": [
    "x = 10\n",
    "def multiply(number, multiplier=2):\n",
    "    b = number * multiplier\n",
    "    number = 1\n",
    "    return b\n",
    "\n",
    "multiply(x)\n",
    "    "
   ]
  },
  {
   "cell_type": "code",
   "execution_count": 217,
   "metadata": {
    "ExecuteTime": {
     "end_time": "2020-06-03T18:26:21.782463Z",
     "start_time": "2020-06-03T18:26:21.779445Z"
    }
   },
   "outputs": [
    {
     "data": {
      "text/plain": [
       "9"
      ]
     },
     "execution_count": 217,
     "metadata": {},
     "output_type": "execute_result"
    }
   ],
   "source": [
    "a"
   ]
  },
  {
   "cell_type": "code",
   "execution_count": 215,
   "metadata": {
    "ExecuteTime": {
     "end_time": "2020-06-03T18:25:42.550534Z",
     "start_time": "2020-06-03T18:25:42.546546Z"
    }
   },
   "outputs": [
    {
     "data": {
      "text/plain": [
       "10"
      ]
     },
     "execution_count": 215,
     "metadata": {},
     "output_type": "execute_result"
    }
   ],
   "source": [
    "b "
   ]
  },
  {
   "cell_type": "code",
   "execution_count": 219,
   "metadata": {
    "ExecuteTime": {
     "end_time": "2020-06-03T18:26:54.220581Z",
     "start_time": "2020-06-03T18:26:54.215594Z"
    }
   },
   "outputs": [
    {
     "name": "stdout",
     "output_type": "stream",
     "text": [
      "9\n"
     ]
    },
    {
     "data": {
      "text/plain": [
       "10"
      ]
     },
     "execution_count": 219,
     "metadata": {},
     "output_type": "execute_result"
    }
   ],
   "source": [
    "def multiply(number, multiplier=2):\n",
    "    \n",
    "    b = number * multiplier\n",
    "    print(a)\n",
    "    new_variable = 10\n",
    "    return b\n",
    "\n",
    "multiply(10)\n",
    "b"
   ]
  },
  {
   "cell_type": "code",
   "execution_count": 220,
   "metadata": {
    "ExecuteTime": {
     "end_time": "2020-06-03T18:26:57.377578Z",
     "start_time": "2020-06-03T18:26:57.369599Z"
    }
   },
   "outputs": [
    {
     "ename": "NameError",
     "evalue": "name 'new_variable' is not defined",
     "output_type": "error",
     "traceback": [
      "\u001b[1;31m---------------------------------------------------------------------------\u001b[0m",
      "\u001b[1;31mNameError\u001b[0m                                 Traceback (most recent call last)",
      "\u001b[1;32m<ipython-input-220-a22a888b0e87>\u001b[0m in \u001b[0;36m<module>\u001b[1;34m\u001b[0m\n\u001b[1;32m----> 1\u001b[1;33m \u001b[0mnew_variable\u001b[0m\u001b[1;33m\u001b[0m\u001b[1;33m\u001b[0m\u001b[0m\n\u001b[0m",
      "\u001b[1;31mNameError\u001b[0m: name 'new_variable' is not defined"
     ]
    }
   ],
   "source": [
    "new_variable"
   ]
  },
  {
   "cell_type": "code",
   "execution_count": 221,
   "metadata": {
    "ExecuteTime": {
     "end_time": "2020-06-03T18:27:47.585068Z",
     "start_time": "2020-06-03T18:27:47.581078Z"
    }
   },
   "outputs": [
    {
     "data": {
      "text/plain": [
       "10"
      ]
     },
     "execution_count": 221,
     "metadata": {},
     "output_type": "execute_result"
    }
   ],
   "source": [
    "b"
   ]
  },
  {
   "cell_type": "code",
   "execution_count": 222,
   "metadata": {
    "ExecuteTime": {
     "end_time": "2020-06-03T18:28:14.404751Z",
     "start_time": "2020-06-03T18:28:14.399765Z"
    }
   },
   "outputs": [
    {
     "name": "stdout",
     "output_type": "stream",
     "text": [
      "9\n"
     ]
    },
    {
     "data": {
      "text/plain": [
       "10"
      ]
     },
     "execution_count": 222,
     "metadata": {},
     "output_type": "execute_result"
    }
   ],
   "source": [
    "def multiply(number, multiplier=2):\n",
    "    global new_variable\n",
    "    \n",
    "    b = number * multiplier\n",
    "    print(a)\n",
    "    new_variable = 10\n",
    "    return b\n",
    "\n",
    "multiply(10)\n",
    "b"
   ]
  },
  {
   "cell_type": "code",
   "execution_count": 223,
   "metadata": {
    "ExecuteTime": {
     "end_time": "2020-06-03T18:28:17.363826Z",
     "start_time": "2020-06-03T18:28:17.359838Z"
    }
   },
   "outputs": [
    {
     "data": {
      "text/plain": [
       "10"
      ]
     },
     "execution_count": 223,
     "metadata": {},
     "output_type": "execute_result"
    }
   ],
   "source": [
    "new_variable"
   ]
  },
  {
   "cell_type": "code",
   "execution_count": 224,
   "metadata": {
    "ExecuteTime": {
     "end_time": "2020-06-03T18:28:45.557704Z",
     "start_time": "2020-06-03T18:28:45.553715Z"
    }
   },
   "outputs": [
    {
     "data": {
      "text/plain": [
       "[10, 1, 3]"
      ]
     },
     "execution_count": 224,
     "metadata": {},
     "output_type": "execute_result"
    }
   ],
   "source": [
    "my_list"
   ]
  },
  {
   "cell_type": "code",
   "execution_count": 227,
   "metadata": {
    "ExecuteTime": {
     "end_time": "2020-06-03T18:29:20.677457Z",
     "start_time": "2020-06-03T18:29:20.674470Z"
    }
   },
   "outputs": [],
   "source": [
    "# pass the argument by reference\n",
    "def my_append(x):\n",
    "    \n",
    "    x[0] = 7\n",
    "    \n",
    "    return"
   ]
  },
  {
   "cell_type": "code",
   "execution_count": 228,
   "metadata": {
    "ExecuteTime": {
     "end_time": "2020-06-03T18:29:21.677587Z",
     "start_time": "2020-06-03T18:29:21.675546Z"
    }
   },
   "outputs": [],
   "source": [
    "my_append(my_list)"
   ]
  },
  {
   "cell_type": "code",
   "execution_count": 229,
   "metadata": {
    "ExecuteTime": {
     "end_time": "2020-06-03T18:29:24.577078Z",
     "start_time": "2020-06-03T18:29:24.573089Z"
    }
   },
   "outputs": [
    {
     "data": {
      "text/plain": [
       "[7, 1, 3]"
      ]
     },
     "execution_count": 229,
     "metadata": {},
     "output_type": "execute_result"
    }
   ],
   "source": [
    "my_list"
   ]
  },
  {
   "cell_type": "markdown",
   "metadata": {},
   "source": [
    "# Little more tricky."
   ]
  },
  {
   "cell_type": "code",
   "execution_count": 230,
   "metadata": {
    "ExecuteTime": {
     "end_time": "2020-06-03T18:35:55.031926Z",
     "start_time": "2020-06-03T18:35:55.027910Z"
    }
   },
   "outputs": [],
   "source": [
    "\n",
    "total = 0; # This is global variable.\n",
    "\n",
    "def my_sum( arg1, arg2 ):\n",
    "    total = arg1 + arg2;\n",
    "    \n",
    "    print(\"Inside the function local total : \", total)\n",
    "    return total;\n"
   ]
  },
  {
   "cell_type": "code",
   "execution_count": 231,
   "metadata": {
    "ExecuteTime": {
     "end_time": "2020-06-03T18:35:55.844026Z",
     "start_time": "2020-06-03T18:35:55.841035Z"
    }
   },
   "outputs": [],
   "source": [
    "a = 2\n",
    "b = 3"
   ]
  },
  {
   "cell_type": "code",
   "execution_count": 232,
   "metadata": {
    "ExecuteTime": {
     "end_time": "2020-06-03T18:35:56.192095Z",
     "start_time": "2020-06-03T18:35:56.188106Z"
    }
   },
   "outputs": [
    {
     "name": "stdout",
     "output_type": "stream",
     "text": [
      "Inside the function local total :  5\n"
     ]
    },
    {
     "data": {
      "text/plain": [
       "5"
      ]
     },
     "execution_count": 232,
     "metadata": {},
     "output_type": "execute_result"
    }
   ],
   "source": [
    "my_sum(a, b)"
   ]
  },
  {
   "cell_type": "code",
   "execution_count": 233,
   "metadata": {
    "ExecuteTime": {
     "end_time": "2020-06-03T18:36:01.968480Z",
     "start_time": "2020-06-03T18:36:01.965488Z"
    }
   },
   "outputs": [
    {
     "name": "stdout",
     "output_type": "stream",
     "text": [
      "Inside the function local total :  30\n",
      "Outside the function global total :  0\n"
     ]
    }
   ],
   "source": [
    "my_sum( 10, 20 )\n",
    "\n",
    "print(\"Outside the function global total : \", total)"
   ]
  },
  {
   "cell_type": "code",
   "execution_count": 234,
   "metadata": {
    "ExecuteTime": {
     "end_time": "2020-06-03T18:36:25.864783Z",
     "start_time": "2020-06-03T18:36:25.860794Z"
    }
   },
   "outputs": [],
   "source": [
    "\n",
    "total = 0; # This is global variable.\n",
    "\n",
    "def my_sum( arg1, arg2 ):\n",
    "    global total\n",
    "    total = arg1 + arg2;\n",
    "    \n",
    "    print(\"Inside the function local total : \", total)\n",
    "    return total;\n"
   ]
  },
  {
   "cell_type": "code",
   "execution_count": 235,
   "metadata": {
    "ExecuteTime": {
     "end_time": "2020-06-03T18:36:28.113118Z",
     "start_time": "2020-06-03T18:36:28.109129Z"
    }
   },
   "outputs": [
    {
     "name": "stdout",
     "output_type": "stream",
     "text": [
      "Inside the function local total :  30\n",
      "Outside the function global total :  30\n"
     ]
    }
   ],
   "source": [
    "my_sum( 10, 20 )\n",
    "\n",
    "print(\"Outside the function global total : \", total)"
   ]
  },
  {
   "cell_type": "markdown",
   "metadata": {},
   "source": [
    "# Exercise \n",
    "\n",
    "1. Add a function named `list_benefits()` that returns the following list of strings: \"More organized code\", \"More readable code\", \"Easier code reuse\", \"Allowing programmers to share and connect code together\"\n",
    "\n",
    "\n",
    "2. Add a function named `build_sentence(info)` which receives a single argument containing a string and returns a sentence starting with the given string and ending with the string \" is a benefit of functions!\""
   ]
  },
  {
   "cell_type": "code",
   "execution_count": 236,
   "metadata": {
    "ExecuteTime": {
     "end_time": "2020-06-03T18:37:22.155923Z",
     "start_time": "2020-06-03T18:37:22.151934Z"
    }
   },
   "outputs": [],
   "source": [
    "def list_benefits():    \n",
    "    return [\"More organized code\", \n",
    "            \"More readable code\", \n",
    "            \"Easier code reuse\", \n",
    "            \"Allowing programmers to share and connect code together\"]"
   ]
  },
  {
   "cell_type": "code",
   "execution_count": 240,
   "metadata": {
    "ExecuteTime": {
     "end_time": "2020-06-03T18:38:45.481569Z",
     "start_time": "2020-06-03T18:38:45.477580Z"
    }
   },
   "outputs": [],
   "source": [
    "def build_sentence(info):\n",
    "    \"\"\"\n",
    "    Gets a list and append a text.\n",
    "    \"\"\"\n",
    "    return [ item +  ' is a benefit of functions!' for item in info]"
   ]
  },
  {
   "cell_type": "code",
   "execution_count": 242,
   "metadata": {
    "ExecuteTime": {
     "end_time": "2020-06-03T18:39:24.135688Z",
     "start_time": "2020-06-03T18:39:24.131699Z"
    }
   },
   "outputs": [
    {
     "data": {
      "text/plain": [
       "['More organized code is a benefit of functions!',\n",
       " 'More readable code is a benefit of functions!',\n",
       " 'Easier code reuse is a benefit of functions!',\n",
       " 'Allowing programmers to share and connect code together is a benefit of functions!']"
      ]
     },
     "execution_count": 242,
     "metadata": {},
     "output_type": "execute_result"
    }
   ],
   "source": [
    "build_sentence(list_benefits())"
   ]
  }
 ],
 "metadata": {
  "kernelspec": {
   "display_name": "Python 3",
   "language": "python",
   "name": "python3"
  },
  "language_info": {
   "codemirror_mode": {
    "name": "ipython",
    "version": 3
   },
   "file_extension": ".py",
   "mimetype": "text/x-python",
   "name": "python",
   "nbconvert_exporter": "python",
   "pygments_lexer": "ipython3",
   "version": "3.7.3"
  },
  "toc": {
   "base_numbering": 1,
   "nav_menu": {},
   "number_sections": true,
   "sideBar": true,
   "skip_h1_title": false,
   "title_cell": "Table of Contents",
   "title_sidebar": "Contents",
   "toc_cell": false,
   "toc_position": {},
   "toc_section_display": true,
   "toc_window_display": false
  }
 },
 "nbformat": 4,
 "nbformat_minor": 2
}
