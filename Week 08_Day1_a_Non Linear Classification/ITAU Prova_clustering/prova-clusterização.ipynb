{
 "cells": [
  {
   "cell_type": "markdown",
   "metadata": {},
   "source": [
    "# Prova Itaú\n",
    "\n",
    "## Clustering"
   ]
  },
  {
   "cell_type": "markdown",
   "metadata": {},
   "source": [
    "<b>Questão 1) </b> Considerando os dados presentes no arquivo clus01.csv, execute o algoritmo K-Means com o posicionamento inicial dos centroides sendo: [1, 1, 1, 1], [-1, -1, -1, -1] e [1, -1, 1, -1]. Qual é o posicionamento final de cada centroide após 10 iterações?"
   ]
  },
  {
   "cell_type": "code",
   "execution_count": 1,
   "metadata": {},
   "outputs": [],
   "source": [
    "import pandas as pd\n",
    "import numpy as np\n",
    "import matplotlib.pyplot as plt\n",
    "import seaborn as sns"
   ]
  },
  {
   "cell_type": "code",
   "execution_count": 8,
   "metadata": {},
   "outputs": [
    {
     "data": {
      "text/html": [
       "<div>\n",
       "<style scoped>\n",
       "    .dataframe tbody tr th:only-of-type {\n",
       "        vertical-align: middle;\n",
       "    }\n",
       "\n",
       "    .dataframe tbody tr th {\n",
       "        vertical-align: top;\n",
       "    }\n",
       "\n",
       "    .dataframe thead th {\n",
       "        text-align: right;\n",
       "    }\n",
       "</style>\n",
       "<table border=\"1\" class=\"dataframe\">\n",
       "  <thead>\n",
       "    <tr style=\"text-align: right;\">\n",
       "      <th></th>\n",
       "      <th>x0</th>\n",
       "      <th>x1</th>\n",
       "      <th>x2</th>\n",
       "      <th>x3</th>\n",
       "    </tr>\n",
       "  </thead>\n",
       "  <tbody>\n",
       "    <tr>\n",
       "      <th>0</th>\n",
       "      <td>-0.450370</td>\n",
       "      <td>-2.244377</td>\n",
       "      <td>-0.499678</td>\n",
       "      <td>-1.163607</td>\n",
       "    </tr>\n",
       "    <tr>\n",
       "      <th>1</th>\n",
       "      <td>1.866159</td>\n",
       "      <td>-1.180407</td>\n",
       "      <td>1.898348</td>\n",
       "      <td>-1.072512</td>\n",
       "    </tr>\n",
       "    <tr>\n",
       "      <th>2</th>\n",
       "      <td>-1.731385</td>\n",
       "      <td>0.248746</td>\n",
       "      <td>0.177045</td>\n",
       "      <td>-1.618708</td>\n",
       "    </tr>\n",
       "    <tr>\n",
       "      <th>3</th>\n",
       "      <td>-2.211184</td>\n",
       "      <td>-0.066280</td>\n",
       "      <td>0.748191</td>\n",
       "      <td>-0.967796</td>\n",
       "    </tr>\n",
       "    <tr>\n",
       "      <th>4</th>\n",
       "      <td>0.739455</td>\n",
       "      <td>1.762124</td>\n",
       "      <td>2.319210</td>\n",
       "      <td>2.080270</td>\n",
       "    </tr>\n",
       "    <tr>\n",
       "      <th>...</th>\n",
       "      <td>...</td>\n",
       "      <td>...</td>\n",
       "      <td>...</td>\n",
       "      <td>...</td>\n",
       "    </tr>\n",
       "    <tr>\n",
       "      <th>2995</th>\n",
       "      <td>1.692026</td>\n",
       "      <td>-1.266796</td>\n",
       "      <td>1.422599</td>\n",
       "      <td>-0.018950</td>\n",
       "    </tr>\n",
       "    <tr>\n",
       "      <th>2996</th>\n",
       "      <td>-0.631424</td>\n",
       "      <td>-1.334187</td>\n",
       "      <td>-1.454879</td>\n",
       "      <td>-0.941082</td>\n",
       "    </tr>\n",
       "    <tr>\n",
       "      <th>2997</th>\n",
       "      <td>0.593961</td>\n",
       "      <td>-1.864158</td>\n",
       "      <td>-1.722376</td>\n",
       "      <td>-1.308181</td>\n",
       "    </tr>\n",
       "    <tr>\n",
       "      <th>2998</th>\n",
       "      <td>0.153214</td>\n",
       "      <td>1.419950</td>\n",
       "      <td>2.071526</td>\n",
       "      <td>1.853133</td>\n",
       "    </tr>\n",
       "    <tr>\n",
       "      <th>2999</th>\n",
       "      <td>0.960248</td>\n",
       "      <td>-1.623305</td>\n",
       "      <td>0.604997</td>\n",
       "      <td>-1.414892</td>\n",
       "    </tr>\n",
       "  </tbody>\n",
       "</table>\n",
       "<p>3000 rows × 4 columns</p>\n",
       "</div>"
      ],
      "text/plain": [
       "            x0        x1        x2        x3\n",
       "0    -0.450370 -2.244377 -0.499678 -1.163607\n",
       "1     1.866159 -1.180407  1.898348 -1.072512\n",
       "2    -1.731385  0.248746  0.177045 -1.618708\n",
       "3    -2.211184 -0.066280  0.748191 -0.967796\n",
       "4     0.739455  1.762124  2.319210  2.080270\n",
       "...        ...       ...       ...       ...\n",
       "2995  1.692026 -1.266796  1.422599 -0.018950\n",
       "2996 -0.631424 -1.334187 -1.454879 -0.941082\n",
       "2997  0.593961 -1.864158 -1.722376 -1.308181\n",
       "2998  0.153214  1.419950  2.071526  1.853133\n",
       "2999  0.960248 -1.623305  0.604997 -1.414892\n",
       "\n",
       "[3000 rows x 4 columns]"
      ]
     },
     "execution_count": 8,
     "metadata": {},
     "output_type": "execute_result"
    }
   ],
   "source": [
    "X = pd.read_csv('clus01.csv')\n",
    "X"
   ]
  },
  {
   "cell_type": "code",
   "execution_count": 3,
   "metadata": {},
   "outputs": [
    {
     "data": {
      "text/plain": [
       "array([[ 1,  1,  1,  1],\n",
       "       [-1, -1, -1, -1],\n",
       "       [ 1, -1,  1, -1]])"
      ]
     },
     "execution_count": 3,
     "metadata": {},
     "output_type": "execute_result"
    }
   ],
   "source": [
    "guess_centers = np.array([[1, 1, 1, 1], [-1, -1, -1, -1], [1, -1, 1, -1]])\n",
    "guess_centers"
   ]
  },
  {
   "cell_type": "code",
   "execution_count": 4,
   "metadata": {},
   "outputs": [
    {
     "data": {
      "text/plain": [
       "KMeans(algorithm='auto', copy_x=True,\n",
       "       init=array([[ 1,  1,  1,  1],\n",
       "       [-1, -1, -1, -1],\n",
       "       [ 1, -1,  1, -1]]),\n",
       "       max_iter=10, n_clusters=3, n_init=1, n_jobs=None,\n",
       "       precompute_distances='auto', random_state=None, tol=0.0001, verbose=0)"
      ]
     },
     "execution_count": 4,
     "metadata": {},
     "output_type": "execute_result"
    }
   ],
   "source": [
    "from sklearn.cluster import KMeans\n",
    "kmeans = KMeans(n_clusters=3, init=guess_centers, max_iter=10, n_init=1)\n",
    "kmeans.fit(X)"
   ]
  },
  {
   "cell_type": "code",
   "execution_count": 5,
   "metadata": {},
   "outputs": [
    {
     "data": {
      "text/plain": [
       "array([[ 1.01800532,  1.02487255,  0.99716299,  1.02820958],\n",
       "       [-1.00267381, -1.04904824, -1.03936684, -1.01122186],\n",
       "       [ 1.01319407, -1.01061948,  0.97309582, -0.99640045]])"
      ]
     },
     "execution_count": 5,
     "metadata": {},
     "output_type": "execute_result"
    }
   ],
   "source": [
    "kmeans.cluster_centers_"
   ]
  },
  {
   "cell_type": "code",
   "execution_count": 6,
   "metadata": {},
   "outputs": [
    {
     "data": {
      "text/plain": [
       "array([1, 2, 1, ..., 1, 0, 2])"
      ]
     },
     "execution_count": 6,
     "metadata": {},
     "output_type": "execute_result"
    }
   ],
   "source": [
    "kmeans.predict(X)"
   ]
  },
  {
   "cell_type": "code",
   "execution_count": 7,
   "metadata": {},
   "outputs": [
    {
     "data": {
      "text/plain": [
       "5766.298851554992"
      ]
     },
     "execution_count": 7,
     "metadata": {},
     "output_type": "execute_result"
    }
   ],
   "source": [
    "kmeans.inertia_"
   ]
  },
  {
   "cell_type": "markdown",
   "metadata": {},
   "source": [
    "<b>Questão 2)</b> Assinale as alternativas com V ou F para Verdadeiro ou Falso respectivamente. Atente para o fato que uma questão errada anula uma certa. Em caso de dúvidas deixe em branco.\n",
    "\n",
    "( ) O número mínimo de grupos no algoritmo K-Means é igual à raiz quadrada do número de elementos da base."
   ]
  },
  {
   "cell_type": "markdown",
   "metadata": {},
   "source": [
    "( ) Devido à inicialização aleatória, o resultado final do K-Means sempre será o mesmo independentemente do critério de convergência."
   ]
  },
  {
   "cell_type": "markdown",
   "metadata": {},
   "source": [
    "( ) O algoritmo K-Median é mais sensível a outliers do que os algoritmos K-Means, K-Mode e K-Medoid."
   ]
  },
  {
   "cell_type": "markdown",
   "metadata": {},
   "source": [
    "( ) O algoritmos Single-Linkage, Complete-Linkage e Average-Linkage são exemplos de algoritmos hierárquicos."
   ]
  },
  {
   "cell_type": "markdown",
   "metadata": {},
   "source": [
    "( ) Não é possível identificar outliers com algoritmos hierárquicos e, por este motivo, tais algoritmos requerem que os outliers sejam removidos numa etapa necessária de pré-processamento."
   ]
  },
  {
   "cell_type": "markdown",
   "metadata": {},
   "source": [
    "( ) Para conjuntos de dados com milhões de linhas é aconselhada a utilização de algoritmos hierárquicos em vez de algoritmos particionais pois aqueles calculam somente uma única matriz de distância."
   ]
  },
  {
   "cell_type": "markdown",
   "metadata": {},
   "source": [
    "( ) O Rand Index pode ser utilizado para mensurar a aderência entre o agrupamento obtido e um agrupamento de referência (por exemplo, dado por um especialista do domínio)."
   ]
  },
  {
   "cell_type": "markdown",
   "metadata": {},
   "source": [
    "( ) O DBScan é um exemplo de algoritmo de agrupamento baseado em densidade."
   ]
  },
  {
   "cell_type": "markdown",
   "metadata": {},
   "source": [
    "( ) Para acelerar o tempo de processamento dos algoritmos de agrupamento baseados em densidade, pode-se calcular a distância de cada elemento para o centroide de cada um dos grupos."
   ]
  },
  {
   "cell_type": "markdown",
   "metadata": {},
   "source": [
    "( ) O número mínimo de variáveis necessárias para realizar um agrupamento é 1."
   ]
  },
  {
   "cell_type": "markdown",
   "metadata": {},
   "source": [
    "## Prova 2"
   ]
  },
  {
   "cell_type": "markdown",
   "metadata": {},
   "source": [
    "<b>Questão 1)</b> Considerando os dados do arquivo agrupamento_Q1.csv, execute o algoritmo K-means com 10 iterações tendo como posiçãoo inicial dos centroides de cada cluster as K primeiras linhas do arquivo agrup_centroides_Q1.csv. Por exemplo, para executar o algoritmo com 3 clusters considere os centroides determinados pelas 3 primeiras linhas do arquivo.\n",
    "\n",
    "Qual a quantidade ideal de clusters? Qual o posicionamento final dos centroides do caso ideal?"
   ]
  },
  {
   "cell_type": "code",
   "execution_count": null,
   "metadata": {},
   "outputs": [],
   "source": []
  },
  {
   "cell_type": "markdown",
   "metadata": {},
   "source": [
    "<b>Questão 2)</b> Assinale as alternativas com V ou F para Verdadeiro ou Falso respectivamente. Atente para o fato que uma questão errada anula uma certa. Em caso de dúvidas deixe em branco."
   ]
  },
  {
   "cell_type": "markdown",
   "metadata": {},
   "source": [
    "( ) O algoritmo K-means se baseia num processo iterativo que minimiza a soma das distâncias entre os centroides e os pontos dentro de cada agrupamento."
   ]
  },
  {
   "cell_type": "markdown",
   "metadata": {},
   "source": [
    "( ) O algoritmo K-means é pouco sensível a inicialização dos centroides e resulta sempre nos mesmos agrupamentos."
   ]
  },
  {
   "cell_type": "markdown",
   "metadata": {},
   "source": [
    "( ) Os centroides determinados pelo algoritmo K-means necessariamente pertencem ao conjunto de dados analisados"
   ]
  },
  {
   "cell_type": "markdown",
   "metadata": {},
   "source": [
    "( ) O algoritmo K-median é mais sensível a outliers do que o algoritmo K-means."
   ]
  },
  {
   "cell_type": "markdown",
   "metadata": {},
   "source": [
    "( ) O algoritmo GMM (Gaussian Mixture Models) presume que os dados a serem agrupados provém de uma distribuição unimodal."
   ]
  },
  {
   "cell_type": "markdown",
   "metadata": {},
   "source": [
    "( ) Não é possível identificar outliers com algoritmos hierárquicos e, por este motivo, tais algoritmos requerem que os outliers sejam tratados em uma etapa necessária de pré-processamento."
   ]
  },
  {
   "cell_type": "markdown",
   "metadata": {},
   "source": [
    "( ) Algoritmos particionais são tipicamente mais eficientes computacionalmente do que algoritmos hierárquicos."
   ]
  },
  {
   "cell_type": "markdown",
   "metadata": {},
   "source": [
    "( ) Diferentemente do K-means, o DBScan é um algoritmo capaz de identificar agrupamentos com fomato de anéis concêntricos."
   ]
  },
  {
   "cell_type": "markdown",
   "metadata": {},
   "source": [
    "( ) Uma maneira eficaz de mensurar a semelhança entre dois vetores unitários de alta dimensão é calcular o produto interno entre os dois."
   ]
  }
 ],
 "metadata": {
  "kernelspec": {
   "display_name": "Python 3",
   "language": "python",
   "name": "python3"
  },
  "language_info": {
   "codemirror_mode": {
    "name": "ipython",
    "version": 3
   },
   "file_extension": ".py",
   "mimetype": "text/x-python",
   "name": "python",
   "nbconvert_exporter": "python",
   "pygments_lexer": "ipython3",
   "version": "3.7.6"
  },
  "toc": {
   "base_numbering": 1,
   "nav_menu": {},
   "number_sections": true,
   "sideBar": true,
   "skip_h1_title": false,
   "title_cell": "Table of Contents",
   "title_sidebar": "Contents",
   "toc_cell": false,
   "toc_position": {},
   "toc_section_display": true,
   "toc_window_display": false
  },
  "varInspector": {
   "cols": {
    "lenName": 16,
    "lenType": 16,
    "lenVar": 40
   },
   "kernels_config": {
    "python": {
     "delete_cmd_postfix": "",
     "delete_cmd_prefix": "del ",
     "library": "var_list.py",
     "varRefreshCmd": "print(var_dic_list())"
    },
    "r": {
     "delete_cmd_postfix": ") ",
     "delete_cmd_prefix": "rm(",
     "library": "var_list.r",
     "varRefreshCmd": "cat(var_dic_list()) "
    }
   },
   "types_to_exclude": [
    "module",
    "function",
    "builtin_function_or_method",
    "instance",
    "_Feature"
   ],
   "window_display": false
  }
 },
 "nbformat": 4,
 "nbformat_minor": 2
}
