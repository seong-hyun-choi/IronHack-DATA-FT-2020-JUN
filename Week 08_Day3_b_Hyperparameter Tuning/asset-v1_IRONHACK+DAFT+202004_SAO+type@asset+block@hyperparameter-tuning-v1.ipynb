{
 "cells": [
  {
   "cell_type": "markdown",
   "metadata": {},
   "source": [
    "import seaborn as sns\n",
    "# ^^^ pyforest auto-imports - don't write above this line\n",
    "# HyperParameter Tuning"
   ]
  },
  {
   "cell_type": "code",
   "execution_count": 43,
   "metadata": {
    "ExecuteTime": {
     "end_time": "2020-07-22T11:43:46.074034Z",
     "start_time": "2020-07-22T11:43:46.071063Z"
    }
   },
   "outputs": [],
   "source": [
    "import matplotlib.pyplot as plt\n",
    "import seaborn as sns\n",
    "import numpy as np\n",
    "\n",
    "import matplotlib.pyplot as plt\n",
    "import seaborn as sns\n",
    "import numpy as np\n",
    "import pandas as pd"
   ]
  },
  {
   "cell_type": "code",
   "execution_count": 44,
   "metadata": {
    "ExecuteTime": {
     "end_time": "2020-07-22T11:43:46.405183Z",
     "start_time": "2020-07-22T11:43:46.245148Z"
    }
   },
   "outputs": [],
   "source": [
    "from yellowbrick.datasets import load_credit\n",
    "\n",
    "X = load_credit()[0]\n",
    "y = load_credit()[1]"
   ]
  },
  {
   "cell_type": "code",
   "execution_count": 45,
   "metadata": {
    "ExecuteTime": {
     "end_time": "2020-07-22T11:43:46.419175Z",
     "start_time": "2020-07-22T11:43:46.406145Z"
    },
    "scrolled": true
   },
   "outputs": [
    {
     "data": {
      "text/html": [
       "<div>\n",
       "<style scoped>\n",
       "    .dataframe tbody tr th:only-of-type {\n",
       "        vertical-align: middle;\n",
       "    }\n",
       "\n",
       "    .dataframe tbody tr th {\n",
       "        vertical-align: top;\n",
       "    }\n",
       "\n",
       "    .dataframe thead th {\n",
       "        text-align: right;\n",
       "    }\n",
       "</style>\n",
       "<table border=\"1\" class=\"dataframe\">\n",
       "  <thead>\n",
       "    <tr style=\"text-align: right;\">\n",
       "      <th></th>\n",
       "      <th>limit</th>\n",
       "      <th>sex</th>\n",
       "      <th>edu</th>\n",
       "      <th>married</th>\n",
       "      <th>age</th>\n",
       "      <th>apr_delay</th>\n",
       "      <th>may_delay</th>\n",
       "      <th>jun_delay</th>\n",
       "      <th>jul_delay</th>\n",
       "      <th>aug_delay</th>\n",
       "      <th>...</th>\n",
       "      <th>jun_bill</th>\n",
       "      <th>jul_bill</th>\n",
       "      <th>aug_bill</th>\n",
       "      <th>sep_bill</th>\n",
       "      <th>apr_pay</th>\n",
       "      <th>may_pay</th>\n",
       "      <th>jun_pay</th>\n",
       "      <th>jul_pay</th>\n",
       "      <th>aug_pay</th>\n",
       "      <th>sep_pay</th>\n",
       "    </tr>\n",
       "  </thead>\n",
       "  <tbody>\n",
       "    <tr>\n",
       "      <th>0</th>\n",
       "      <td>20000</td>\n",
       "      <td>2</td>\n",
       "      <td>2</td>\n",
       "      <td>1</td>\n",
       "      <td>24</td>\n",
       "      <td>2</td>\n",
       "      <td>2</td>\n",
       "      <td>-1</td>\n",
       "      <td>-1</td>\n",
       "      <td>-2</td>\n",
       "      <td>...</td>\n",
       "      <td>689</td>\n",
       "      <td>0</td>\n",
       "      <td>0</td>\n",
       "      <td>0</td>\n",
       "      <td>0</td>\n",
       "      <td>689</td>\n",
       "      <td>0</td>\n",
       "      <td>0</td>\n",
       "      <td>0</td>\n",
       "      <td>0</td>\n",
       "    </tr>\n",
       "    <tr>\n",
       "      <th>1</th>\n",
       "      <td>120000</td>\n",
       "      <td>2</td>\n",
       "      <td>2</td>\n",
       "      <td>2</td>\n",
       "      <td>26</td>\n",
       "      <td>-1</td>\n",
       "      <td>2</td>\n",
       "      <td>0</td>\n",
       "      <td>0</td>\n",
       "      <td>0</td>\n",
       "      <td>...</td>\n",
       "      <td>2682</td>\n",
       "      <td>3272</td>\n",
       "      <td>3455</td>\n",
       "      <td>3261</td>\n",
       "      <td>0</td>\n",
       "      <td>1000</td>\n",
       "      <td>1000</td>\n",
       "      <td>1000</td>\n",
       "      <td>0</td>\n",
       "      <td>2000</td>\n",
       "    </tr>\n",
       "    <tr>\n",
       "      <th>2</th>\n",
       "      <td>90000</td>\n",
       "      <td>2</td>\n",
       "      <td>2</td>\n",
       "      <td>2</td>\n",
       "      <td>34</td>\n",
       "      <td>0</td>\n",
       "      <td>0</td>\n",
       "      <td>0</td>\n",
       "      <td>0</td>\n",
       "      <td>0</td>\n",
       "      <td>...</td>\n",
       "      <td>13559</td>\n",
       "      <td>14331</td>\n",
       "      <td>14948</td>\n",
       "      <td>15549</td>\n",
       "      <td>1518</td>\n",
       "      <td>1500</td>\n",
       "      <td>1000</td>\n",
       "      <td>1000</td>\n",
       "      <td>1000</td>\n",
       "      <td>5000</td>\n",
       "    </tr>\n",
       "    <tr>\n",
       "      <th>3</th>\n",
       "      <td>50000</td>\n",
       "      <td>2</td>\n",
       "      <td>2</td>\n",
       "      <td>1</td>\n",
       "      <td>37</td>\n",
       "      <td>0</td>\n",
       "      <td>0</td>\n",
       "      <td>0</td>\n",
       "      <td>0</td>\n",
       "      <td>0</td>\n",
       "      <td>...</td>\n",
       "      <td>49291</td>\n",
       "      <td>28314</td>\n",
       "      <td>28959</td>\n",
       "      <td>29547</td>\n",
       "      <td>2000</td>\n",
       "      <td>2019</td>\n",
       "      <td>1200</td>\n",
       "      <td>1100</td>\n",
       "      <td>1069</td>\n",
       "      <td>1000</td>\n",
       "    </tr>\n",
       "    <tr>\n",
       "      <th>4</th>\n",
       "      <td>50000</td>\n",
       "      <td>1</td>\n",
       "      <td>2</td>\n",
       "      <td>1</td>\n",
       "      <td>57</td>\n",
       "      <td>-1</td>\n",
       "      <td>0</td>\n",
       "      <td>-1</td>\n",
       "      <td>0</td>\n",
       "      <td>0</td>\n",
       "      <td>...</td>\n",
       "      <td>35835</td>\n",
       "      <td>20940</td>\n",
       "      <td>19146</td>\n",
       "      <td>19131</td>\n",
       "      <td>2000</td>\n",
       "      <td>36681</td>\n",
       "      <td>10000</td>\n",
       "      <td>9000</td>\n",
       "      <td>689</td>\n",
       "      <td>679</td>\n",
       "    </tr>\n",
       "  </tbody>\n",
       "</table>\n",
       "<p>5 rows × 23 columns</p>\n",
       "</div>"
      ],
      "text/plain": [
       "    limit  sex  edu  married  age  apr_delay  may_delay  jun_delay  jul_delay  \\\n",
       "0   20000    2    2        1   24          2          2         -1         -1   \n",
       "1  120000    2    2        2   26         -1          2          0          0   \n",
       "2   90000    2    2        2   34          0          0          0          0   \n",
       "3   50000    2    2        1   37          0          0          0          0   \n",
       "4   50000    1    2        1   57         -1          0         -1          0   \n",
       "\n",
       "   aug_delay  ...  jun_bill  jul_bill  aug_bill  sep_bill  apr_pay  may_pay  \\\n",
       "0         -2  ...       689         0         0         0        0      689   \n",
       "1          0  ...      2682      3272      3455      3261        0     1000   \n",
       "2          0  ...     13559     14331     14948     15549     1518     1500   \n",
       "3          0  ...     49291     28314     28959     29547     2000     2019   \n",
       "4          0  ...     35835     20940     19146     19131     2000    36681   \n",
       "\n",
       "   jun_pay  jul_pay  aug_pay  sep_pay  \n",
       "0        0        0        0        0  \n",
       "1     1000     1000        0     2000  \n",
       "2     1000     1000     1000     5000  \n",
       "3     1200     1100     1069     1000  \n",
       "4    10000     9000      689      679  \n",
       "\n",
       "[5 rows x 23 columns]"
      ]
     },
     "execution_count": 45,
     "metadata": {},
     "output_type": "execute_result"
    }
   ],
   "source": [
    "X.head()"
   ]
  },
  {
   "cell_type": "code",
   "execution_count": 46,
   "metadata": {
    "ExecuteTime": {
     "end_time": "2020-07-22T11:43:46.569781Z",
     "start_time": "2020-07-22T11:43:46.566781Z"
    }
   },
   "outputs": [],
   "source": [
    "from sklearn.model_selection import train_test_split"
   ]
  },
  {
   "cell_type": "code",
   "execution_count": 47,
   "metadata": {
    "ExecuteTime": {
     "end_time": "2020-07-22T11:43:46.879831Z",
     "start_time": "2020-07-22T11:43:46.861805Z"
    }
   },
   "outputs": [],
   "source": [
    "X_train, X_test, y_train, y_test = train_test_split(X, y, stratify=y)"
   ]
  },
  {
   "cell_type": "code",
   "execution_count": 48,
   "metadata": {
    "ExecuteTime": {
     "end_time": "2020-07-22T11:43:47.130829Z",
     "start_time": "2020-07-22T11:43:47.128829Z"
    }
   },
   "outputs": [],
   "source": [
    "from sklearn.linear_model import LogisticRegression\n",
    "\n",
    "model = LogisticRegression(max_iter=3000)"
   ]
  },
  {
   "cell_type": "code",
   "execution_count": 49,
   "metadata": {
    "ExecuteTime": {
     "end_time": "2020-07-22T11:43:47.544692Z",
     "start_time": "2020-07-22T11:43:47.521680Z"
    }
   },
   "outputs": [],
   "source": [
    "from sklearn.preprocessing import StandardScaler\n",
    "\n",
    "scaler = StandardScaler()\n",
    "\n",
    "X_train = scaler.fit_transform(X_train)\n",
    "\n",
    "X_test = scaler.transform(X_test)"
   ]
  },
  {
   "cell_type": "code",
   "execution_count": 50,
   "metadata": {
    "ExecuteTime": {
     "end_time": "2020-07-22T11:43:48.037904Z",
     "start_time": "2020-07-22T11:43:48.033905Z"
    }
   },
   "outputs": [],
   "source": [
    "from sklearn.model_selection import cross_val_score, KFold"
   ]
  },
  {
   "cell_type": "code",
   "execution_count": 51,
   "metadata": {
    "ExecuteTime": {
     "end_time": "2020-07-22T11:43:48.859131Z",
     "start_time": "2020-07-22T11:43:48.506099Z"
    }
   },
   "outputs": [
    {
     "data": {
      "text/plain": [
       "array([0.73616326, 0.7116514 , 0.70723116, 0.70950817, 0.73383078])"
      ]
     },
     "execution_count": 51,
     "metadata": {},
     "output_type": "execute_result"
    }
   ],
   "source": [
    "cross_val_score(model, X_train , y_train, scoring='roc_auc')"
   ]
  },
  {
   "cell_type": "code",
   "execution_count": 52,
   "metadata": {
    "ExecuteTime": {
     "end_time": "2020-07-22T11:43:49.918033Z",
     "start_time": "2020-07-22T11:43:49.822034Z"
    }
   },
   "outputs": [
    {
     "data": {
      "text/plain": [
       "LogisticRegression(max_iter=3000)"
      ]
     },
     "execution_count": 52,
     "metadata": {},
     "output_type": "execute_result"
    }
   ],
   "source": [
    "model.fit(X_train, y_train)"
   ]
  },
  {
   "cell_type": "code",
   "execution_count": 53,
   "metadata": {
    "ExecuteTime": {
     "end_time": "2020-07-22T11:43:50.096352Z",
     "start_time": "2020-07-22T11:43:50.089322Z"
    }
   },
   "outputs": [
    {
     "data": {
      "text/plain": [
       "0.7283728056094502"
      ]
     },
     "execution_count": 53,
     "metadata": {},
     "output_type": "execute_result"
    }
   ],
   "source": [
    "from sklearn.metrics import roc_auc_score\n",
    "roc_auc_score(y_test, model.predict_proba(X_test)[:, 1])"
   ]
  },
  {
   "cell_type": "markdown",
   "metadata": {},
   "source": [
    "# Grid Search:"
   ]
  },
  {
   "cell_type": "markdown",
   "metadata": {},
   "source": [
    "![grid_vs_random.png](grid_vs_random.png)"
   ]
  },
  {
   "cell_type": "markdown",
   "metadata": {},
   "source": [
    "Grid search just keeps testing all combinations in your `search space` until you obtain the best possible result."
   ]
  },
  {
   "cell_type": "code",
   "execution_count": 59,
   "metadata": {
    "ExecuteTime": {
     "end_time": "2020-07-22T11:44:55.389520Z",
     "start_time": "2020-07-22T11:44:52.030490Z"
    },
    "scrolled": true
   },
   "outputs": [
    {
     "name": "stdout",
     "output_type": "stream",
     "text": [
      "[0.71871263 0.72771395 0.716017   0.71917046 0.71690135]\n",
      "[0.73274948 0.71814384 0.71552533 0.72225964 0.71252483]\n",
      "[0.71466414 0.7281316  0.72018406 0.72051602 0.71819124]\n",
      "[0.72034582 0.70625216 0.71870822 0.72913095 0.72784405]\n",
      "[0.71673335 0.71773331 0.72267983 0.72809374 0.71595683]\n",
      "[0.73531876 0.70368225 0.70851762 0.73672655 0.71830124]\n",
      "[0.70199863 0.72623329 0.71354469 0.73941029 0.72038638]\n",
      "[0.72809884 0.71490834 0.71553913 0.72804108 0.71422092]\n",
      "[0.72749566 0.71861427 0.73370132 0.71206492 0.70653804]\n",
      "[0.73525328 0.71788243 0.71355329 0.71133354 0.72373995]\n"
     ]
    }
   ],
   "source": [
    "for parameter in [0.1,0.2,0.5, 0.6, 0.8, 0.9, 1, 2, 4, 6]:\n",
    "    \n",
    "    #print(parameter) \n",
    "    model = LogisticRegression(C=parameter)\n",
    "    \n",
    "    print(cross_val_score(model, \n",
    "                    X_train, \n",
    "                    y_train, \n",
    "                    cv=KFold(5, shuffle=True), \n",
    "                    scoring='roc_auc'))\n",
    "    \n",
    "    "
   ]
  },
  {
   "cell_type": "markdown",
   "metadata": {},
   "source": [
    "You don't need to loop though, you can use a package for it."
   ]
  },
  {
   "cell_type": "code",
   "execution_count": 60,
   "metadata": {
    "ExecuteTime": {
     "end_time": "2020-07-22T11:45:01.448547Z",
     "start_time": "2020-07-22T11:45:01.445545Z"
    }
   },
   "outputs": [],
   "source": [
    "from sklearn.model_selection import GridSearchCV"
   ]
  },
  {
   "cell_type": "code",
   "execution_count": 61,
   "metadata": {
    "ExecuteTime": {
     "end_time": "2020-07-22T11:45:02.519802Z",
     "start_time": "2020-07-22T11:45:02.515801Z"
    }
   },
   "outputs": [
    {
     "data": {
      "text/plain": [
       "LogisticRegression(C=6)"
      ]
     },
     "execution_count": 61,
     "metadata": {},
     "output_type": "execute_result"
    }
   ],
   "source": [
    "model"
   ]
  },
  {
   "cell_type": "code",
   "execution_count": 62,
   "metadata": {
    "ExecuteTime": {
     "end_time": "2020-07-22T11:45:14.937492Z",
     "start_time": "2020-07-22T11:45:14.933490Z"
    },
    "scrolled": true
   },
   "outputs": [],
   "source": [
    "model = LogisticRegression()\n",
    "\n",
    "search_space = [{\n",
    "    'C': [0.1,0.2,0.5, 0.6, 0.8, 0.9, 1, 2, 4, 6]\n",
    "}]\n",
    "\n",
    "grid_search = GridSearchCV(model, \n",
    "                           search_space, \n",
    "                           cv=KFold(3), \n",
    "                           scoring='roc_auc', \n",
    "                           n_jobs=-1, \n",
    "                           verbose=True)"
   ]
  },
  {
   "cell_type": "code",
   "execution_count": 63,
   "metadata": {
    "ExecuteTime": {
     "end_time": "2020-07-22T11:45:17.895717Z",
     "start_time": "2020-07-22T11:45:15.779716Z"
    }
   },
   "outputs": [
    {
     "name": "stdout",
     "output_type": "stream",
     "text": [
      "Fitting 3 folds for each of 10 candidates, totalling 30 fits\n"
     ]
    },
    {
     "name": "stderr",
     "output_type": "stream",
     "text": [
      "[Parallel(n_jobs=-1)]: Using backend LokyBackend with 6 concurrent workers.\n",
      "[Parallel(n_jobs=-1)]: Done  30 out of  30 | elapsed:    1.9s finished\n"
     ]
    },
    {
     "data": {
      "text/plain": [
       "GridSearchCV(cv=KFold(n_splits=3, random_state=None, shuffle=False),\n",
       "             estimator=LogisticRegression(), n_jobs=-1,\n",
       "             param_grid=[{'C': [0.1, 0.2, 0.5, 0.6, 0.8, 0.9, 1, 2, 4, 6]}],\n",
       "             scoring='roc_auc', verbose=True)"
      ]
     },
     "execution_count": 63,
     "metadata": {},
     "output_type": "execute_result"
    }
   ],
   "source": [
    "grid_search.fit(X_train, y_train)"
   ]
  },
  {
   "cell_type": "code",
   "execution_count": 64,
   "metadata": {
    "ExecuteTime": {
     "end_time": "2020-07-22T11:45:22.955144Z",
     "start_time": "2020-07-22T11:45:22.951143Z"
    }
   },
   "outputs": [
    {
     "data": {
      "text/plain": [
       "LogisticRegression(C=4)"
      ]
     },
     "execution_count": 64,
     "metadata": {},
     "output_type": "execute_result"
    }
   ],
   "source": [
    "grid_search.best_estimator_"
   ]
  },
  {
   "cell_type": "code",
   "execution_count": 65,
   "metadata": {
    "ExecuteTime": {
     "end_time": "2020-07-22T11:45:23.914125Z",
     "start_time": "2020-07-22T11:45:23.910125Z"
    }
   },
   "outputs": [
    {
     "data": {
      "text/plain": [
       "{'C': 4}"
      ]
     },
     "execution_count": 65,
     "metadata": {},
     "output_type": "execute_result"
    }
   ],
   "source": [
    "grid_search.best_params_"
   ]
  },
  {
   "cell_type": "code",
   "execution_count": 66,
   "metadata": {
    "ExecuteTime": {
     "end_time": "2020-07-22T11:45:37.526694Z",
     "start_time": "2020-07-22T11:45:37.522694Z"
    }
   },
   "outputs": [
    {
     "data": {
      "text/plain": [
       "0.7197131510302922"
      ]
     },
     "execution_count": 66,
     "metadata": {},
     "output_type": "execute_result"
    }
   ],
   "source": [
    "grid_search.best_score_"
   ]
  },
  {
   "cell_type": "markdown",
   "metadata": {},
   "source": [
    "## We could search more features in our search space"
   ]
  },
  {
   "cell_type": "code",
   "execution_count": 67,
   "metadata": {
    "ExecuteTime": {
     "end_time": "2020-07-22T11:45:53.828572Z",
     "start_time": "2020-07-22T11:45:53.824572Z"
    }
   },
   "outputs": [
    {
     "data": {
      "text/plain": [
       "LogisticRegression()"
      ]
     },
     "execution_count": 67,
     "metadata": {},
     "output_type": "execute_result"
    }
   ],
   "source": [
    "LogisticRegression()"
   ]
  },
  {
   "cell_type": "markdown",
   "metadata": {},
   "source": [
    "### And also, we can fix some parameters"
   ]
  },
  {
   "cell_type": "code",
   "execution_count": 68,
   "metadata": {
    "ExecuteTime": {
     "end_time": "2020-07-22T11:46:07.929382Z",
     "start_time": "2020-07-22T11:46:07.927381Z"
    }
   },
   "outputs": [],
   "source": [
    "model = LogisticRegression(solver='saga')"
   ]
  },
  {
   "cell_type": "code",
   "execution_count": 69,
   "metadata": {
    "ExecuteTime": {
     "end_time": "2020-07-22T11:46:17.721072Z",
     "start_time": "2020-07-22T11:46:09.941071Z"
    }
   },
   "outputs": [
    {
     "name": "stdout",
     "output_type": "stream",
     "text": [
      "Fitting 3 folds for each of 20 candidates, totalling 60 fits\n"
     ]
    },
    {
     "name": "stderr",
     "output_type": "stream",
     "text": [
      "[Parallel(n_jobs=-1)]: Using backend LokyBackend with 6 concurrent workers.\n",
      "[Parallel(n_jobs=-1)]: Done  38 tasks      | elapsed:    4.5s\n",
      "[Parallel(n_jobs=-1)]: Done  60 out of  60 | elapsed:    6.8s finished\n",
      "C:\\Users\\andreaguiar\\AppData\\Roaming\\Python\\Python37\\site-packages\\sklearn\\linear_model\\_sag.py:330: ConvergenceWarning: The max_iter was reached which means the coef_ did not converge\n",
      "  \"the coef_ did not converge\", ConvergenceWarning)\n"
     ]
    },
    {
     "data": {
      "text/plain": [
       "GridSearchCV(cv=KFold(n_splits=3, random_state=None, shuffle=False),\n",
       "             estimator=LogisticRegression(solver='saga'), n_jobs=-1,\n",
       "             param_grid=[{'C': [0.1, 0.2, 0.5, 0.6, 0.8, 0.9, 1, 2, 4, 6],\n",
       "                          'penalty': ['l1', 'l2']}],\n",
       "             scoring='roc_auc', verbose=True)"
      ]
     },
     "execution_count": 69,
     "metadata": {},
     "output_type": "execute_result"
    }
   ],
   "source": [
    "search_space = [{\n",
    "    'penalty':['l1','l2'],\n",
    "    'C': [0.1,0.2,0.5, 0.6, 0.8, 0.9, 1, 2, 4, 6]\n",
    "}]\n",
    "\n",
    "grid_search = GridSearchCV(model, \n",
    "                           search_space, \n",
    "                           cv=KFold(3), \n",
    "                           scoring='roc_auc', \n",
    "                           n_jobs=-1, \n",
    "                           verbose=True)\n",
    "\n",
    "grid_search.fit(X_train, y_train)"
   ]
  },
  {
   "cell_type": "code",
   "execution_count": 70,
   "metadata": {
    "ExecuteTime": {
     "end_time": "2020-07-22T11:46:20.724524Z",
     "start_time": "2020-07-22T11:46:20.721549Z"
    }
   },
   "outputs": [
    {
     "data": {
      "text/plain": [
       "{'C': 0.9, 'penalty': 'l1'}"
      ]
     },
     "execution_count": 70,
     "metadata": {},
     "output_type": "execute_result"
    }
   ],
   "source": [
    "grid_search.best_params_"
   ]
  },
  {
   "cell_type": "code",
   "execution_count": 71,
   "metadata": {
    "ExecuteTime": {
     "end_time": "2020-07-22T11:46:21.768665Z",
     "start_time": "2020-07-22T11:46:21.764664Z"
    }
   },
   "outputs": [
    {
     "data": {
      "text/plain": [
       "0.7196787382648943"
      ]
     },
     "execution_count": 71,
     "metadata": {},
     "output_type": "execute_result"
    }
   ],
   "source": [
    "grid_search.best_score_"
   ]
  },
  {
   "cell_type": "code",
   "execution_count": 72,
   "metadata": {
    "ExecuteTime": {
     "end_time": "2020-07-22T11:46:22.674040Z",
     "start_time": "2020-07-22T11:46:22.670038Z"
    }
   },
   "outputs": [
    {
     "data": {
      "text/plain": [
       "array([0.14872069, 0.16492517, 0.01421244, ..., 0.14074145, 0.07216105,\n",
       "       0.02683043])"
      ]
     },
     "execution_count": 72,
     "metadata": {},
     "output_type": "execute_result"
    }
   ],
   "source": [
    "grid_search.best_estimator_.predict_proba(X_test)[:, 1]"
   ]
  },
  {
   "cell_type": "markdown",
   "metadata": {},
   "source": [
    "### Decision Tree"
   ]
  },
  {
   "cell_type": "code",
   "execution_count": 73,
   "metadata": {
    "ExecuteTime": {
     "end_time": "2020-07-22T11:46:54.820451Z",
     "start_time": "2020-07-22T11:46:44.374481Z"
    }
   },
   "outputs": [
    {
     "name": "stdout",
     "output_type": "stream",
     "text": [
      "Fitting 3 folds for each of 240 candidates, totalling 720 fits\n"
     ]
    },
    {
     "name": "stderr",
     "output_type": "stream",
     "text": [
      "[Parallel(n_jobs=-1)]: Using backend LokyBackend with 6 concurrent workers.\n",
      "[Parallel(n_jobs=-1)]: Done  92 tasks      | elapsed:    0.9s\n",
      "[Parallel(n_jobs=-1)]: Done 689 tasks      | elapsed:    9.8s\n",
      "[Parallel(n_jobs=-1)]: Done 709 out of 720 | elapsed:   10.1s remaining:    0.1s\n",
      "[Parallel(n_jobs=-1)]: Done 720 out of 720 | elapsed:   10.3s finished\n"
     ]
    },
    {
     "data": {
      "text/plain": [
       "GridSearchCV(cv=KFold(n_splits=3, random_state=None, shuffle=False),\n",
       "             estimator=DecisionTreeClassifier(), n_jobs=-1,\n",
       "             param_grid=[{'ccp_alpha': [0.01, 0.02, 0.04],\n",
       "                          'max_depth': [1, 2, 3, 4, 5, 6, 7, 8],\n",
       "                          'min_samples_split': [5, 10, 15, 20, 25, 30, 35, 40,\n",
       "                                                45, 50]}],\n",
       "             scoring='roc_auc', verbose=True)"
      ]
     },
     "execution_count": 73,
     "metadata": {},
     "output_type": "execute_result"
    }
   ],
   "source": [
    "from sklearn.tree import DecisionTreeClassifier\n",
    "\n",
    "model = DecisionTreeClassifier()\n",
    "\n",
    "search_space = [{\n",
    "    'max_depth':[1, 2, 3, 4, 5, 6, 7, 8],\n",
    "    'min_samples_split': [5, 10, 15, 20, 25, 30, 35, 40, 45, 50],\n",
    "    'ccp_alpha': [0.01, 0.02, 0.04, ]\n",
    "}]\n",
    "\n",
    "grid_search = GridSearchCV(model, \n",
    "                           search_space, \n",
    "                           cv=KFold(3), \n",
    "                           scoring='roc_auc', \n",
    "                           n_jobs=-1, \n",
    "                           verbose=True)\n",
    "\n",
    "grid_search.fit(X_train, y_train)"
   ]
  },
  {
   "cell_type": "markdown",
   "metadata": {},
   "source": [
    "## Conclusion:\n",
    "\n",
    "Grid search can be really time consuming."
   ]
  },
  {
   "cell_type": "markdown",
   "metadata": {},
   "source": [
    "- Hyperopt: https://towardsdatascience.com/an-introductory-example-of-bayesian-optimization-in-python-with-hyperopt-aae40fff4ff0"
   ]
  },
  {
   "cell_type": "markdown",
   "metadata": {},
   "source": [
    "# Randomized Search"
   ]
  },
  {
   "cell_type": "markdown",
   "metadata": {},
   "source": [
    "Instead of taking **all** combinations, what iff we give the algorithm some direction?"
   ]
  },
  {
   "cell_type": "code",
   "execution_count": 3,
   "metadata": {
    "ExecuteTime": {
     "end_time": "2020-07-22T11:43:11.003394Z",
     "start_time": "2020-07-22T11:43:11.001392Z"
    }
   },
   "outputs": [],
   "source": [
    "from scipy.stats import uniform, gamma, beta, randint\n",
    "from sklearn.model_selection import RandomizedSearchCV"
   ]
  },
  {
   "cell_type": "code",
   "execution_count": 4,
   "metadata": {
    "ExecuteTime": {
     "end_time": "2020-07-22T11:43:12.222044Z",
     "start_time": "2020-07-22T11:43:11.332015Z"
    }
   },
   "outputs": [
    {
     "name": "stderr",
     "output_type": "stream",
     "text": [
      "c:\\programas\\anaconda3\\lib\\importlib\\_bootstrap.py:219: RuntimeWarning: numpy.ufunc size changed, may indicate binary incompatibility. Expected 192 from C header, got 216 from PyObject\n",
      "  return f(*args, **kwds)\n",
      "c:\\programas\\anaconda3\\lib\\importlib\\_bootstrap.py:219: RuntimeWarning: numpy.ufunc size changed, may indicate binary incompatibility. Expected 192 from C header, got 216 from PyObject\n",
      "  return f(*args, **kwds)\n"
     ]
    },
    {
     "data": {
      "application/javascript": [
       "\n",
       "        if (window._pyforest_update_imports_cell) { window._pyforest_update_imports_cell('import seaborn as sns'); }\n",
       "    "
      ],
      "text/plain": [
       "<IPython.core.display.Javascript object>"
      ]
     },
     "metadata": {},
     "output_type": "display_data"
    },
    {
     "data": {
      "text/plain": [
       "<matplotlib.axes._subplots.AxesSubplot at 0x24b2c79a978>"
      ]
     },
     "execution_count": 4,
     "metadata": {},
     "output_type": "execute_result"
    },
    {
     "data": {
      "image/png": "[encoded data removed]",
      "text/plain": [
       "<Figure size 432x288 with 1 Axes>"
      ]
     },
     "metadata": {
      "needs_background": "light"
     },
     "output_type": "display_data"
    }
   ],
   "source": [
    "sns.distplot(beta(2, 1, loc=0, scale=1).rvs(size=1000))"
   ]
  },
  {
   "cell_type": "code",
   "execution_count": 5,
   "metadata": {
    "ExecuteTime": {
     "end_time": "2020-07-22T11:43:12.346040Z",
     "start_time": "2020-07-22T11:43:12.224017Z"
    }
   },
   "outputs": [
    {
     "data": {
      "application/javascript": [
       "\n",
       "        if (window._pyforest_update_imports_cell) { window._pyforest_update_imports_cell('import seaborn as sns'); }\n",
       "    "
      ],
      "text/plain": [
       "<IPython.core.display.Javascript object>"
      ]
     },
     "metadata": {},
     "output_type": "display_data"
    },
    {
     "data": {
      "text/plain": [
       "<matplotlib.axes._subplots.AxesSubplot at 0x24b2e8d98d0>"
      ]
     },
     "execution_count": 5,
     "metadata": {},
     "output_type": "execute_result"
    },
    {
     "data": {
      "image/png": "[encoded data removed]",
      "text/plain": [
       "<Figure size 432x288 with 1 Axes>"
      ]
     },
     "metadata": {
      "needs_background": "light"
     },
     "output_type": "display_data"
    }
   ],
   "source": [
    "# uniform distrtibution\n",
    "sns.distplot(randint(2,16).rvs(size=10000))"
   ]
  },
  {
   "cell_type": "code",
   "execution_count": 6,
   "metadata": {
    "ExecuteTime": {
     "end_time": "2020-07-22T11:43:12.510015Z",
     "start_time": "2020-07-22T11:43:12.347016Z"
    }
   },
   "outputs": [
    {
     "data": {
      "application/javascript": [
       "\n",
       "        if (window._pyforest_update_imports_cell) { window._pyforest_update_imports_cell('import seaborn as sns'); }\n",
       "    "
      ],
      "text/plain": [
       "<IPython.core.display.Javascript object>"
      ]
     },
     "metadata": {},
     "output_type": "display_data"
    },
    {
     "data": {
      "text/plain": [
       "<matplotlib.axes._subplots.AxesSubplot at 0x24b2e989358>"
      ]
     },
     "execution_count": 6,
     "metadata": {},
     "output_type": "execute_result"
    },
    {
     "data": {
      "image/png": "[encoded data removed]",
      "text/plain": [
       "<Figure size 432x288 with 1 Axes>"
      ]
     },
     "metadata": {
      "needs_background": "light"
     },
     "output_type": "display_data"
    }
   ],
   "source": [
    "# gamma distribution\n",
    "sns.distplot(gamma(1, loc=0, scale=0.1).rvs(size=1000))"
   ]
  },
  {
   "cell_type": "code",
   "execution_count": 7,
   "metadata": {
    "ExecuteTime": {
     "end_time": "2020-07-22T11:43:12.945260Z",
     "start_time": "2020-07-22T11:43:12.831261Z"
    }
   },
   "outputs": [
    {
     "data": {
      "application/javascript": [
       "\n",
       "        if (window._pyforest_update_imports_cell) { window._pyforest_update_imports_cell('import seaborn as sns'); }\n",
       "    "
      ],
      "text/plain": [
       "<IPython.core.display.Javascript object>"
      ]
     },
     "metadata": {},
     "output_type": "display_data"
    },
    {
     "data": {
      "text/plain": [
       "<matplotlib.axes._subplots.AxesSubplot at 0x24b2ea38c50>"
      ]
     },
     "execution_count": 7,
     "metadata": {},
     "output_type": "execute_result"
    },
    {
     "data": {
      "image/png": "[encoded data removed]",
      "text/plain": [
       "<Figure size 432x288 with 1 Axes>"
      ]
     },
     "metadata": {
      "needs_background": "light"
     },
     "output_type": "display_data"
    }
   ],
   "source": [
    "# beta distribution\n",
    "sns.distplot(beta(2, 1, loc=0, scale=1).rvs(size=1000))"
   ]
  },
  {
   "cell_type": "markdown",
   "metadata": {},
   "source": [
    "# Random Forest"
   ]
  },
  {
   "cell_type": "code",
   "execution_count": 1,
   "metadata": {
    "ExecuteTime": {
     "end_time": "2020-07-22T11:40:16.089671Z",
     "start_time": "2020-07-22T11:40:16.085671Z"
    }
   },
   "outputs": [],
   "source": [
    "from sklearn.ensemble import RandomForestClassifier\n",
    "\n",
    "model = RandomForestClassifier()"
   ]
  },
  {
   "cell_type": "code",
   "execution_count": null,
   "metadata": {},
   "outputs": [],
   "source": []
  },
  {
   "cell_type": "code",
   "execution_count": null,
   "metadata": {},
   "outputs": [],
   "source": [
    "# specify parameters and distributions to sample from\n",
    "\n",
    "param_dist = {'n_estimators': randint(10,200),\n",
    "              'max_depth': randint(1,3),\n",
    "              'ccp_alpha': gamma(1, loc=0, scale=0.1),\n",
    "              'min_samples_split': randint(10,50),\n",
    "              'max_features': beta(2, 1, loc=0, scale=1),\n",
    "             }\n",
    "\n",
    "n_iter_search = 10000\n",
    "random_search = RandomizedSearchCV(model, \n",
    "                                   param_distributions=param_dist,\n",
    "                                   n_iter=n_iter_search, \n",
    "                                   verbose=True, \n",
    "                                   cv=KFold(n_splits=5, shuffle=True),\n",
    "                                   scoring='roc_auc',\n",
    "                                   n_jobs=-1)\n",
    "\n",
    "random_search.fit(X_train, y_train)"
   ]
  }
 ],
 "metadata": {
  "kernelspec": {
   "display_name": "Python 3",
   "language": "python",
   "name": "python3"
  },
  "language_info": {
   "codemirror_mode": {
    "name": "ipython",
    "version": 3
   },
   "file_extension": ".py",
   "mimetype": "text/x-python",
   "name": "python",
   "nbconvert_exporter": "python",
   "pygments_lexer": "ipython3",
   "version": "3.7.6"
  },
  "toc": {
   "base_numbering": 1,
   "nav_menu": {},
   "number_sections": true,
   "sideBar": true,
   "skip_h1_title": false,
   "title_cell": "Table of Contents",
   "title_sidebar": "Contents",
   "toc_cell": false,
   "toc_position": {
    "height": "calc(100% - 180px)",
    "left": "10px",
    "top": "150px",
    "width": "307.2px"
   },
   "toc_section_display": true,
   "toc_window_display": true
  },
  "varInspector": {
   "cols": {
    "lenName": 16,
    "lenType": 16,
    "lenVar": 40
   },
   "kernels_config": {
    "python": {
     "delete_cmd_postfix": "",
     "delete_cmd_prefix": "del ",
     "library": "var_list.py",
     "varRefreshCmd": "print(var_dic_list())"
    },
    "r": {
     "delete_cmd_postfix": ") ",
     "delete_cmd_prefix": "rm(",
     "library": "var_list.r",
     "varRefreshCmd": "cat(var_dic_list()) "
    }
   },
   "types_to_exclude": [
    "module",
    "function",
    "builtin_function_or_method",
    "instance",
    "_Feature"
   ],
   "window_display": false
  }
 },
 "nbformat": 4,
 "nbformat_minor": 2
}
