{
 "cells": [
  {
   "cell_type": "markdown",
   "metadata": {},
   "source": [
    "import numpy as np\n",
    "import matplotlib.pyplot as plt\n",
    "# ^^^ pyforest auto-imports - don't write above this line\n",
    "## Different Distance measures\n",
    "\n",
    "Minkowski Distance"
   ]
  },
  {
   "cell_type": "markdown",
   "metadata": {},
   "source": [
    "<font size=\"7\">\n",
    "$$ \\left(\\sum_i^n|x_i - y_i|^p\\right)^\\frac{1}{p} $$\n",
    "</font>\n",
    "\n"
   ]
  },
  {
   "cell_type": "markdown",
   "metadata": {},
   "source": [
    "<b> Manhattan distance (cityblock): p = 1 </b>\n",
    "$$ \\sum_i^n|x_i - y_i| $$\n",
    "\n",
    "\n",
    "<b> Euclidean Distance: p = 2 </b>\n",
    "$$ \\sqrt{\\sum_i^n|x_i - y_i|^2} $$\n",
    "\n",
    "<b> Chebychev Distance: p $\\rightarrow \\infty$  </b>\n",
    "$$ \\left(\\sum_i^n|x_i - y_i|^\\infty\\right)^\\frac{1}{\\infty} \\rightarrow max(|x_i - y_i|)$$\n"
   ]
  },
  {
   "cell_type": "markdown",
   "metadata": {},
   "source": [
    "## Manhattan distance:"
   ]
  },
  {
   "cell_type": "code",
   "execution_count": 1,
   "metadata": {
    "ExecuteTime": {
     "end_time": "2020-07-09T17:06:13.984711Z",
     "start_time": "2020-07-09T17:06:13.980727Z"
    }
   },
   "outputs": [],
   "source": [
    "x1, y1 = (1, 5)\n",
    "x2, y2 = (5, 2)\n",
    "\n",
    "\n",
    "a = [x1, y1]\n",
    "b = [x2, y2]"
   ]
  },
  {
   "cell_type": "code",
   "execution_count": 2,
   "metadata": {
    "ExecuteTime": {
     "end_time": "2020-07-09T17:06:14.779776Z",
     "start_time": "2020-07-09T17:06:14.369393Z"
    }
   },
   "outputs": [
    {
     "name": "stderr",
     "output_type": "stream",
     "text": [
      "c:\\programas\\anaconda3\\lib\\site-packages\\numpy\\_distributor_init.py:32: UserWarning: loaded more than 1 DLL from .libs:\n",
      "c:\\programas\\anaconda3\\lib\\site-packages\\numpy\\.libs\\libopenblas.PYQHXLVVQ7VESDPUVUADXEVJOBGHJPAY.gfortran-win_amd64.dll\n",
      "c:\\programas\\anaconda3\\lib\\site-packages\\numpy\\.libs\\libopenblas.TXA6YQSD3GCQQC22GEQ54J2UDCXDXHWN.gfortran-win_amd64.dll\n",
      "  stacklevel=1)\n"
     ]
    },
    {
     "data": {
      "application/javascript": [
       "\n",
       "        if (window._pyforest_update_imports_cell) { window._pyforest_update_imports_cell('import matplotlib.pyplot as plt'); }\n",
       "    "
      ],
      "text/plain": [
       "<IPython.core.display.Javascript object>"
      ]
     },
     "metadata": {},
     "output_type": "display_data"
    },
    {
     "data": {
      "application/javascript": [
       "\n",
       "        if (window._pyforest_update_imports_cell) { window._pyforest_update_imports_cell('import matplotlib.pyplot as plt'); }\n",
       "    "
      ],
      "text/plain": [
       "<IPython.core.display.Javascript object>"
      ]
     },
     "metadata": {},
     "output_type": "display_data"
    },
    {
     "data": {
      "application/javascript": [
       "\n",
       "        if (window._pyforest_update_imports_cell) { window._pyforest_update_imports_cell('import matplotlib.pyplot as plt'); }\n",
       "    "
      ],
      "text/plain": [
       "<IPython.core.display.Javascript object>"
      ]
     },
     "metadata": {},
     "output_type": "display_data"
    },
    {
     "data": {
      "application/javascript": [
       "\n",
       "        if (window._pyforest_update_imports_cell) { window._pyforest_update_imports_cell('import matplotlib.pyplot as plt'); }\n",
       "    "
      ],
      "text/plain": [
       "<IPython.core.display.Javascript object>"
      ]
     },
     "metadata": {},
     "output_type": "display_data"
    },
    {
     "data": {
      "application/javascript": [
       "\n",
       "        if (window._pyforest_update_imports_cell) { window._pyforest_update_imports_cell('import matplotlib.pyplot as plt'); }\n",
       "    "
      ],
      "text/plain": [
       "<IPython.core.display.Javascript object>"
      ]
     },
     "metadata": {},
     "output_type": "display_data"
    },
    {
     "data": {
      "application/javascript": [
       "\n",
       "        if (window._pyforest_update_imports_cell) { window._pyforest_update_imports_cell('import matplotlib.pyplot as plt'); }\n",
       "    "
      ],
      "text/plain": [
       "<IPython.core.display.Javascript object>"
      ]
     },
     "metadata": {},
     "output_type": "display_data"
    },
    {
     "data": {
      "application/javascript": [
       "\n",
       "        if (window._pyforest_update_imports_cell) { window._pyforest_update_imports_cell('import matplotlib.pyplot as plt'); }\n",
       "    "
      ],
      "text/plain": [
       "<IPython.core.display.Javascript object>"
      ]
     },
     "metadata": {},
     "output_type": "display_data"
    },
    {
     "data": {
      "application/javascript": [
       "\n",
       "        if (window._pyforest_update_imports_cell) { window._pyforest_update_imports_cell('import matplotlib.pyplot as plt'); }\n",
       "    "
      ],
      "text/plain": [
       "<IPython.core.display.Javascript object>"
      ]
     },
     "metadata": {},
     "output_type": "display_data"
    },
    {
     "data": {
      "application/javascript": [
       "\n",
       "        if (window._pyforest_update_imports_cell) { window._pyforest_update_imports_cell('import matplotlib.pyplot as plt'); }\n",
       "    "
      ],
      "text/plain": [
       "<IPython.core.display.Javascript object>"
      ]
     },
     "metadata": {},
     "output_type": "display_data"
    },
    {
     "data": {
      "application/javascript": [
       "\n",
       "        if (window._pyforest_update_imports_cell) { window._pyforest_update_imports_cell('import matplotlib.pyplot as plt'); }\n",
       "    "
      ],
      "text/plain": [
       "<IPython.core.display.Javascript object>"
      ]
     },
     "metadata": {},
     "output_type": "display_data"
    },
    {
     "name": "stdout",
     "output_type": "stream",
     "text": [
      "Manhattan distance: 7\n"
     ]
    },
    {
     "data": {
      "image/png": "[encoded data removed]",
      "text/plain": [
       "<Figure size 432x288 with 1 Axes>"
      ]
     },
     "metadata": {
      "needs_background": "light"
     },
     "output_type": "display_data"
    }
   ],
   "source": [
    "plt.scatter(x1, y1, color='k', s=50)\n",
    "plt.scatter(x2, y2, color='k', s=50)\n",
    "plt.grid()\n",
    "plt.xlim([0, 6])\n",
    "plt.ylim([0, 6])\n",
    "\n",
    "# higher distance\n",
    "plt.vlines(max(x1, x2), min(y2,y1), max(y1,y2), color='red')\n",
    "plt.hlines(max(y1, y2), min(x1,x2), max(x1,x2), color='red')\n",
    "\n",
    "k = 1\n",
    "plt.vlines(max(x1, x2), min(y2,y1), max(y1,y2)-k, color='blue', alpha=0.5)\n",
    "plt.hlines(max(y1,y2)-k, min(x1,x2), max(x1,x2), color='blue', alpha=0.5)\n",
    "plt.vlines(min(x1,x2), max(y2,y1)-k, max(y1,y2), color='blue', alpha=0.5)\n",
    "\n",
    "print(f'Manhattan distance: {abs(x2-x1) + abs(y2-y1)}')"
   ]
  },
  {
   "cell_type": "markdown",
   "metadata": {},
   "source": [
    "## Cosine Distance"
   ]
  },
  {
   "cell_type": "code",
   "execution_count": 3,
   "metadata": {
    "ExecuteTime": {
     "end_time": "2020-07-09T17:06:17.048441Z",
     "start_time": "2020-07-09T17:06:17.044451Z"
    }
   },
   "outputs": [],
   "source": [
    "x1, y1 = (1, 5)\n",
    "x2, y2 = (4, 2)\n",
    "\n",
    "a = [x1, y1]\n",
    "b = [x2, y2]"
   ]
  },
  {
   "cell_type": "code",
   "execution_count": 4,
   "metadata": {
    "ExecuteTime": {
     "end_time": "2020-07-09T17:06:17.673647Z",
     "start_time": "2020-07-09T17:06:17.541001Z"
    }
   },
   "outputs": [
    {
     "data": {
      "application/javascript": [
       "\n",
       "        if (window._pyforest_update_imports_cell) { window._pyforest_update_imports_cell('import matplotlib.pyplot as plt'); }\n",
       "    "
      ],
      "text/plain": [
       "<IPython.core.display.Javascript object>"
      ]
     },
     "metadata": {},
     "output_type": "display_data"
    },
    {
     "data": {
      "application/javascript": [
       "\n",
       "        if (window._pyforest_update_imports_cell) { window._pyforest_update_imports_cell('import matplotlib.pyplot as plt'); }\n",
       "    "
      ],
      "text/plain": [
       "<IPython.core.display.Javascript object>"
      ]
     },
     "metadata": {},
     "output_type": "display_data"
    },
    {
     "data": {
      "application/javascript": [
       "\n",
       "        if (window._pyforest_update_imports_cell) { window._pyforest_update_imports_cell('import matplotlib.pyplot as plt'); }\n",
       "    "
      ],
      "text/plain": [
       "<IPython.core.display.Javascript object>"
      ]
     },
     "metadata": {},
     "output_type": "display_data"
    },
    {
     "data": {
      "application/javascript": [
       "\n",
       "        if (window._pyforest_update_imports_cell) { window._pyforest_update_imports_cell('import matplotlib.pyplot as plt'); }\n",
       "    "
      ],
      "text/plain": [
       "<IPython.core.display.Javascript object>"
      ]
     },
     "metadata": {},
     "output_type": "display_data"
    },
    {
     "data": {
      "application/javascript": [
       "\n",
       "        if (window._pyforest_update_imports_cell) { window._pyforest_update_imports_cell('import matplotlib.pyplot as plt'); }\n",
       "    "
      ],
      "text/plain": [
       "<IPython.core.display.Javascript object>"
      ]
     },
     "metadata": {},
     "output_type": "display_data"
    },
    {
     "data": {
      "application/javascript": [
       "\n",
       "        if (window._pyforest_update_imports_cell) { window._pyforest_update_imports_cell('import matplotlib.pyplot as plt'); }\n",
       "    "
      ],
      "text/plain": [
       "<IPython.core.display.Javascript object>"
      ]
     },
     "metadata": {},
     "output_type": "display_data"
    },
    {
     "data": {
      "application/javascript": [
       "\n",
       "        if (window._pyforest_update_imports_cell) { window._pyforest_update_imports_cell('import matplotlib.pyplot as plt'); }\n",
       "    "
      ],
      "text/plain": [
       "<IPython.core.display.Javascript object>"
      ]
     },
     "metadata": {},
     "output_type": "display_data"
    },
    {
     "data": {
      "application/javascript": [
       "\n",
       "        if (window._pyforest_update_imports_cell) { window._pyforest_update_imports_cell('import matplotlib.pyplot as plt'); }\n",
       "    "
      ],
      "text/plain": [
       "<IPython.core.display.Javascript object>"
      ]
     },
     "metadata": {},
     "output_type": "display_data"
    },
    {
     "data": {
      "application/javascript": [
       "\n",
       "        if (window._pyforest_update_imports_cell) { window._pyforest_update_imports_cell('import numpy as np\\nimport matplotlib.pyplot as plt'); }\n",
       "    "
      ],
      "text/plain": [
       "<IPython.core.display.Javascript object>"
      ]
     },
     "metadata": {},
     "output_type": "display_data"
    },
    {
     "data": {
      "application/javascript": [
       "\n",
       "        if (window._pyforest_update_imports_cell) { window._pyforest_update_imports_cell('import numpy as np\\nimport matplotlib.pyplot as plt'); }\n",
       "    "
      ],
      "text/plain": [
       "<IPython.core.display.Javascript object>"
      ]
     },
     "metadata": {},
     "output_type": "display_data"
    },
    {
     "data": {
      "application/javascript": [
       "\n",
       "        if (window._pyforest_update_imports_cell) { window._pyforest_update_imports_cell('import numpy as np\\nimport matplotlib.pyplot as plt'); }\n",
       "    "
      ],
      "text/plain": [
       "<IPython.core.display.Javascript object>"
      ]
     },
     "metadata": {},
     "output_type": "display_data"
    },
    {
     "data": {
      "application/javascript": [
       "\n",
       "        if (window._pyforest_update_imports_cell) { window._pyforest_update_imports_cell('import numpy as np\\nimport matplotlib.pyplot as plt'); }\n",
       "    "
      ],
      "text/plain": [
       "<IPython.core.display.Javascript object>"
      ]
     },
     "metadata": {},
     "output_type": "display_data"
    },
    {
     "data": {
      "application/javascript": [
       "\n",
       "        if (window._pyforest_update_imports_cell) { window._pyforest_update_imports_cell('import numpy as np\\nimport matplotlib.pyplot as plt'); }\n",
       "    "
      ],
      "text/plain": [
       "<IPython.core.display.Javascript object>"
      ]
     },
     "metadata": {},
     "output_type": "display_data"
    },
    {
     "name": "stdout",
     "output_type": "stream",
     "text": [
      "Cosine distance: 0.38605938648507954\n"
     ]
    },
    {
     "data": {
      "image/png": "[encoded data removed]",
      "text/plain": [
       "<Figure size 432x288 with 1 Axes>"
      ]
     },
     "metadata": {
      "needs_background": "light"
     },
     "output_type": "display_data"
    }
   ],
   "source": [
    "fig = plt.figure()\n",
    "\n",
    "plt.scatter(x1, y1, color='k', s=50)\n",
    "plt.scatter(x2, y2, color='k', s=50)\n",
    "plt.grid()\n",
    "plt.xlim([0, 6])\n",
    "plt.ylim([0, 6])\n",
    "\n",
    "\n",
    "plt.annotate('', xy=(x1,y1), xytext=(0, 0), arrowprops=dict(facecolor='black', \n",
    "                                                            \n",
    "                                                            headlength=10))\n",
    "\n",
    "plt.annotate('', xy=(x2,y2), xytext=(0, 0), arrowprops=dict(facecolor='black', \n",
    "                                                            \n",
    "                                                            headlength=10))\n",
    "\n",
    "print(f'Cosine distance: {1 - np.dot(a, b) / (np.sqrt(np.dot(a,a)) * np.sqrt(np.dot(b,b)))}')"
   ]
  },
  {
   "cell_type": "code",
   "execution_count": null,
   "metadata": {
    "ExecuteTime": {
     "end_time": "2020-07-09T16:30:59.776539Z",
     "start_time": "2020-07-09T16:30:59.654865Z"
    }
   },
   "outputs": [],
   "source": [
    "fig = plt.figure()\n",
    "\n",
    "plt.scatter(x1, y1, color='k', s=50)\n",
    "plt.scatter(x2, y2, color='k', s=50)\n",
    "plt.grid()\n",
    "plt.xlim([-2, 6])\n",
    "plt.ylim([-2, 6])\n",
    "\n",
    "\n",
    "plt.annotate('', xy=(x1,y1), xytext=(0, 0), arrowprops=dict(facecolor='black', \n",
    "                                                            \n",
    "                                                            headlength=10))\n",
    "\n",
    "plt.annotate('', xy=(x2,y2), xytext=(0, 0), arrowprops=dict(facecolor='black', \n",
    "                                                            \n",
    "                                                            headlength=10))\n",
    "\n",
    "print(f'Cosine distance: {1 - np.dot(a, b) / (np.sqrt(np.dot(a,a)) * np.sqrt(np.dot(b,b)))}')"
   ]
  },
  {
   "cell_type": "code",
   "execution_count": null,
   "metadata": {
    "ExecuteTime": {
     "end_time": "2020-07-09T16:30:59.905222Z",
     "start_time": "2020-07-09T16:30:59.777536Z"
    }
   },
   "outputs": [],
   "source": [
    "fig = plt.figure()\n",
    "\n",
    "plt.scatter(x1, y1, color='k', s=50)\n",
    "plt.scatter(x2, y2, color='k', s=50)\n",
    "plt.grid()\n",
    "plt.xlim([-2, 6])\n",
    "plt.ylim([-2, 6])\n",
    "cosine_similarity = np.dot(a, b) / (np.sqrt(np.dot(a,a)) * np.sqrt(np.dot(b,b)))\n",
    "\n",
    "plt.annotate('', xy=(x1,y1), xytext=(0, 0), arrowprops=dict(facecolor='black', \n",
    "                                                            shrink=0,\n",
    "                                                            headlength=10))\n",
    "\n",
    "plt.annotate('', xy=(x2,y2), xytext=(0, 0), arrowprops=dict(facecolor='black', \n",
    "                                                            shrink=0,\n",
    "                                                            headlength=10))\n",
    "\n",
    "plt.annotate('', xy=(x2 * cosine_similarity * (np.dot(a,a)**.5/np.dot(b,b)**.5),  \n",
    "                     y2 * cosine_similarity * (np.dot(a,a)**.5/np.dot(b,b)**.5)), xytext=(0, 0), \n",
    "                                            arrowprops=dict(facecolor='red', \n",
    "                                                            shrink=0,\n",
    "                                                            headlength=10))\n",
    "\n",
    "\n",
    "plt.annotate('', xy=(x2 * cosine_similarity * (np.dot(a,a)**.5/np.dot(b,b)**.5),\n",
    "                     y2 * cosine_similarity * (np.dot(a,a)**.5/np.dot(b,b)**.5)), xytext=(x1, y1), \n",
    "             arrowprops={\"arrowstyle\" : \"-\", \"linestyle\" : \"--\", \"linewidth\" : 2, \"shrinkA\": 0, \"shrinkB\": 0})\n"
   ]
  }
 ],
 "metadata": {
  "kernelspec": {
   "display_name": "Python 3",
   "language": "python",
   "name": "python3"
  },
  "language_info": {
   "codemirror_mode": {
    "name": "ipython",
    "version": 3
   },
   "file_extension": ".py",
   "mimetype": "text/x-python",
   "name": "python",
   "nbconvert_exporter": "python",
   "pygments_lexer": "ipython3",
   "version": "3.7.3"
  },
  "toc": {
   "base_numbering": 1,
   "nav_menu": {},
   "number_sections": true,
   "sideBar": true,
   "skip_h1_title": false,
   "title_cell": "Table of Contents",
   "title_sidebar": "Contents",
   "toc_cell": false,
   "toc_position": {},
   "toc_section_display": true,
   "toc_window_display": false
  }
 },
 "nbformat": 4,
 "nbformat_minor": 2
}
