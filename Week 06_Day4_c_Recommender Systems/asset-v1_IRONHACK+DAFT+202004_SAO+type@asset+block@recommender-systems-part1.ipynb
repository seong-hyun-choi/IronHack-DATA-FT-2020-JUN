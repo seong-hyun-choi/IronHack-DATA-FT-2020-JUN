{
 "cells": [
  {
   "cell_type": "code",
   "execution_count": 1,
   "metadata": {
    "ExecuteTime": {
     "end_time": "2020-07-09T16:30:58.071171Z",
     "start_time": "2020-07-09T16:30:57.530497Z"
    }
   },
   "outputs": [],
   "source": [
    "import pandas as pd\n",
    "import matplotlib.pyplot as plt\n",
    "import numpy as np"
   ]
  },
  {
   "cell_type": "markdown",
   "metadata": {},
   "source": [
    "# Recommendation Systems"
   ]
  },
  {
   "cell_type": "markdown",
   "metadata": {},
   "source": [
    "## Content Based Recommendation Systems"
   ]
  },
  {
   "cell_type": "markdown",
   "metadata": {
    "ExecuteTime": {
     "end_time": "2020-04-15T22:43:11.559238Z",
     "start_time": "2020-04-15T22:43:11.541290Z"
    }
   },
   "source": [
    "![content_based](content_based.png)"
   ]
  },
  {
   "cell_type": "markdown",
   "metadata": {},
   "source": [
    "# Collaborative Filtering Systems#"
   ]
  },
  {
   "cell_type": "markdown",
   "metadata": {
    "ExecuteTime": {
     "end_time": "2020-04-15T22:44:00.483669Z",
     "start_time": "2020-04-15T22:44:00.466715Z"
    }
   },
   "source": [
    "![collaborative_filtering](collaborative_filtering.png)"
   ]
  },
  {
   "cell_type": "code",
   "execution_count": 2,
   "metadata": {
    "ExecuteTime": {
     "end_time": "2020-07-09T16:30:58.076095Z",
     "start_time": "2020-07-09T16:30:58.073075Z"
    }
   },
   "outputs": [],
   "source": [
    "x1, y1 = (1, 5)\n",
    "x2, y2 = (5, 2)\n",
    "\n",
    "\n",
    "a = [x1, y1]\n",
    "b = [x2, y2]"
   ]
  },
  {
   "cell_type": "markdown",
   "metadata": {},
   "source": [
    "## Euclidean distance"
   ]
  },
  {
   "cell_type": "code",
   "execution_count": 3,
   "metadata": {
    "ExecuteTime": {
     "end_time": "2020-07-09T16:30:58.190783Z",
     "start_time": "2020-07-09T16:30:58.077064Z"
    }
   },
   "outputs": [
    {
     "name": "stdout",
     "output_type": "stream",
     "text": [
      "Euclidean distance: 5.0\n"
     ]
    },
    {
     "data": {
      "image/png": "[encoded data removed]",
      "text/plain": [
       "<Figure size 432x288 with 1 Axes>"
      ]
     },
     "metadata": {
      "needs_background": "light"
     },
     "output_type": "display_data"
    }
   ],
   "source": [
    "plt.scatter(x1, y1, color='k', s=50)\n",
    "plt.scatter(x2, y2, color='k', s=50)\n",
    "plt.grid()\n",
    "plt.xlim([0, 6])\n",
    "plt.ylim([0, 6])\n",
    "\n",
    "# higher distance\n",
    "plt.vlines(max(x1, x2), min(y2,y1), max(y1,y2), color='red')\n",
    "plt.hlines(max(y1, y2), min(x1,x2), max(x1,x2), color='red')\n",
    "\n",
    "plt.annotate('', xy=(x1,y1), xytext=(x2, y2), arrowprops=dict(facecolor='black', \n",
    "                                                              shrink=0,\n",
    "                                                              headlength=0.0001))\n",
    "\n",
    "print(f'Euclidean distance: {np.sqrt((x2-x1)**2 + (y2-y1)**2)}')"
   ]
  },
  {
   "cell_type": "code",
   "execution_count": 5,
   "metadata": {
    "ExecuteTime": {
     "end_time": "2020-07-09T16:30:58.205721Z",
     "start_time": "2020-07-09T16:30:58.191757Z"
    }
   },
   "outputs": [
    {
     "data": {
      "text/html": [
       "<div>\n",
       "<style scoped>\n",
       "    .dataframe tbody tr th:only-of-type {\n",
       "        vertical-align: middle;\n",
       "    }\n",
       "\n",
       "    .dataframe tbody tr th {\n",
       "        vertical-align: top;\n",
       "    }\n",
       "\n",
       "    .dataframe thead th {\n",
       "        text-align: right;\n",
       "    }\n",
       "</style>\n",
       "<table border=\"1\" class=\"dataframe\">\n",
       "  <thead>\n",
       "    <tr style=\"text-align: right;\">\n",
       "      <th>Movie</th>\n",
       "      <th>Aquaman</th>\n",
       "      <th>Avengers: Infinity War</th>\n",
       "      <th>Black Panther</th>\n",
       "      <th>Bohemian Rhapsody</th>\n",
       "      <th>Deadpool 2</th>\n",
       "      <th>Fantastic Beasts: The Crimes of Grindelwald</th>\n",
       "      <th>Incredibles 2</th>\n",
       "      <th>Jurassic World: Fallen Kingdom</th>\n",
       "      <th>Mission: Impossible – Fallout</th>\n",
       "      <th>Venom</th>\n",
       "    </tr>\n",
       "  </thead>\n",
       "  <tbody>\n",
       "    <tr>\n",
       "      <th>Brandon</th>\n",
       "      <td>4</td>\n",
       "      <td>2</td>\n",
       "      <td>5</td>\n",
       "      <td>2</td>\n",
       "      <td>3</td>\n",
       "      <td>5</td>\n",
       "      <td>4</td>\n",
       "      <td>2</td>\n",
       "      <td>5</td>\n",
       "      <td>4</td>\n",
       "    </tr>\n",
       "    <tr>\n",
       "      <th>Emily</th>\n",
       "      <td>1</td>\n",
       "      <td>5</td>\n",
       "      <td>2</td>\n",
       "      <td>3</td>\n",
       "      <td>2</td>\n",
       "      <td>4</td>\n",
       "      <td>2</td>\n",
       "      <td>3</td>\n",
       "      <td>5</td>\n",
       "      <td>1</td>\n",
       "    </tr>\n",
       "    <tr>\n",
       "      <th>Cleo</th>\n",
       "      <td>2</td>\n",
       "      <td>2</td>\n",
       "      <td>5</td>\n",
       "      <td>4</td>\n",
       "      <td>4</td>\n",
       "      <td>1</td>\n",
       "      <td>3</td>\n",
       "      <td>5</td>\n",
       "      <td>4</td>\n",
       "      <td>4</td>\n",
       "    </tr>\n",
       "    <tr>\n",
       "      <th>Rusty</th>\n",
       "      <td>2</td>\n",
       "      <td>5</td>\n",
       "      <td>1</td>\n",
       "      <td>4</td>\n",
       "      <td>5</td>\n",
       "      <td>2</td>\n",
       "      <td>4</td>\n",
       "      <td>4</td>\n",
       "      <td>3</td>\n",
       "      <td>5</td>\n",
       "    </tr>\n",
       "    <tr>\n",
       "      <th>Samantha</th>\n",
       "      <td>2</td>\n",
       "      <td>5</td>\n",
       "      <td>1</td>\n",
       "      <td>1</td>\n",
       "      <td>1</td>\n",
       "      <td>5</td>\n",
       "      <td>4</td>\n",
       "      <td>5</td>\n",
       "      <td>2</td>\n",
       "      <td>2</td>\n",
       "    </tr>\n",
       "  </tbody>\n",
       "</table>\n",
       "</div>"
      ],
      "text/plain": [
       "Movie     Aquaman  Avengers: Infinity War  Black Panther  Bohemian Rhapsody  \\\n",
       "Brandon         4                       2              5                  2   \n",
       "Emily           1                       5              2                  3   \n",
       "Cleo            2                       2              5                  4   \n",
       "Rusty           2                       5              1                  4   \n",
       "Samantha        2                       5              1                  1   \n",
       "\n",
       "Movie     Deadpool 2  Fantastic Beasts: The Crimes of Grindelwald  \\\n",
       "Brandon            3                                            5   \n",
       "Emily              2                                            4   \n",
       "Cleo               4                                            1   \n",
       "Rusty              5                                            2   \n",
       "Samantha           1                                            5   \n",
       "\n",
       "Movie     Incredibles 2  Jurassic World: Fallen Kingdom  \\\n",
       "Brandon               4                               2   \n",
       "Emily                 2                               3   \n",
       "Cleo                  3                               5   \n",
       "Rusty                 4                               4   \n",
       "Samantha              4                               5   \n",
       "\n",
       "Movie     Mission: Impossible – Fallout  Venom  \n",
       "Brandon                               5      4  \n",
       "Emily                                 5      1  \n",
       "Cleo                                  4      4  \n",
       "Rusty                                 3      5  \n",
       "Samantha                              2      2  "
      ]
     },
     "execution_count": 5,
     "metadata": {},
     "output_type": "execute_result"
    }
   ],
   "source": [
    "ratings = pd.read_csv('./data/movie_ratings.csv').set_index('Movie').T\n",
    "ratings.head()"
   ]
  },
  {
   "cell_type": "code",
   "execution_count": 6,
   "metadata": {
    "ExecuteTime": {
     "end_time": "2020-07-09T16:30:58.213716Z",
     "start_time": "2020-07-09T16:30:58.207714Z"
    }
   },
   "outputs": [],
   "source": [
    "\n",
    "def ratings_scatter(movie1, movie2):\n",
    "    x = ratings.loc[:, movie1]\n",
    "    y = ratings.loc[:, movie2]\n",
    "    n = list(ratings.index)\n",
    "\n",
    "    fig, ax = plt.subplots(figsize=(8, 6))\n",
    "    ax.scatter(x, y, s=50, marker='x')\n",
    "    plt.title(f\"Preference Space for {movie1} vs. {movie2}\", fontsize=20)\n",
    "    plt.grid()\n",
    "    ax.set_xlabel(movie1, fontsize=16)\n",
    "    ax.set_ylabel(movie2, fontsize=16) \n",
    "\n",
    "    for i, txt in enumerate(n):\n",
    "        \n",
    "        ax.annotate(txt, (x[i], y[i]), fontsize=12)"
   ]
  },
  {
   "cell_type": "code",
   "execution_count": 7,
   "metadata": {
    "ExecuteTime": {
     "end_time": "2020-07-09T16:30:58.361318Z",
     "start_time": "2020-07-09T16:30:58.215694Z"
    }
   },
   "outputs": [
    {
     "data": {
      "image/png": "[encoded data removed]",
      "text/plain": [
       "<Figure size 576x432 with 1 Axes>"
      ]
     },
     "metadata": {
      "needs_background": "light"
     },
     "output_type": "display_data"
    }
   ],
   "source": [
    "ratings_scatter('Venom', 'Incredibles 2')"
   ]
  },
  {
   "cell_type": "markdown",
   "metadata": {},
   "source": [
    "# Measuring distances in python\n",
    "\n",
    "`scipy.spatial.distance.pdist`<br>\n",
    "`sklearn.metrics   pdist, squareform`"
   ]
  },
  {
   "cell_type": "markdown",
   "metadata": {},
   "source": [
    "## Toy problem"
   ]
  },
  {
   "cell_type": "code",
   "execution_count": 8,
   "metadata": {
    "ExecuteTime": {
     "end_time": "2020-07-09T16:30:58.365317Z",
     "start_time": "2020-07-09T16:30:58.362301Z"
    }
   },
   "outputs": [],
   "source": [
    "a = (x1,y1)\n",
    "b = (x2, y2)"
   ]
  },
  {
   "cell_type": "code",
   "execution_count": 9,
   "metadata": {
    "ExecuteTime": {
     "end_time": "2020-07-09T16:30:58.374269Z",
     "start_time": "2020-07-09T16:30:58.366291Z"
    }
   },
   "outputs": [
    {
     "data": {
      "text/plain": [
       "(1, 5)"
      ]
     },
     "execution_count": 9,
     "metadata": {},
     "output_type": "execute_result"
    }
   ],
   "source": [
    "a"
   ]
  },
  {
   "cell_type": "code",
   "execution_count": 10,
   "metadata": {
    "ExecuteTime": {
     "end_time": "2020-07-09T16:30:58.379285Z",
     "start_time": "2020-07-09T16:30:58.375266Z"
    }
   },
   "outputs": [
    {
     "data": {
      "text/plain": [
       "(5, 2)"
      ]
     },
     "execution_count": 10,
     "metadata": {},
     "output_type": "execute_result"
    }
   ],
   "source": [
    "b"
   ]
  },
  {
   "cell_type": "code",
   "execution_count": 11,
   "metadata": {
    "ExecuteTime": {
     "end_time": "2020-07-09T16:30:58.504654Z",
     "start_time": "2020-07-09T16:30:58.380253Z"
    }
   },
   "outputs": [
    {
     "data": {
      "image/png": "[encoded data removed]",
      "text/plain": [
       "<Figure size 432x288 with 1 Axes>"
      ]
     },
     "metadata": {
      "needs_background": "light"
     },
     "output_type": "display_data"
    }
   ],
   "source": [
    "fig = plt.figure()\n",
    "\n",
    "plt.scatter(x1, y1, color='k', marker='s', s=100)\n",
    "plt.scatter(x2, y2, color='k', marker='s', s=100)\n",
    "plt.grid()\n",
    "plt.xlim([0, 6])\n",
    "plt.ylim([0, 6])\n",
    "\n",
    "plt.annotate('a',np.array(a) + (0.15, 0.15));\n",
    "plt.annotate('b',np.array(b) + (0.15, 0.15));"
   ]
  },
  {
   "cell_type": "code",
   "execution_count": 12,
   "metadata": {
    "ExecuteTime": {
     "end_time": "2020-07-09T16:30:58.873953Z",
     "start_time": "2020-07-09T16:30:58.505611Z"
    }
   },
   "outputs": [
    {
     "data": {
      "text/plain": [
       "array([[0., 5.],\n",
       "       [5., 0.]])"
      ]
     },
     "execution_count": 12,
     "metadata": {},
     "output_type": "execute_result"
    }
   ],
   "source": [
    "from sklearn.metrics import pairwise_distances\n",
    "\n",
    "pairwise_distances([a, b])"
   ]
  },
  {
   "cell_type": "code",
   "execution_count": 13,
   "metadata": {
    "ExecuteTime": {
     "end_time": "2020-07-09T16:30:58.878940Z",
     "start_time": "2020-07-09T16:30:58.874950Z"
    },
    "scrolled": false
   },
   "outputs": [
    {
     "data": {
      "text/plain": [
       "array([[0., 5.],\n",
       "       [5., 0.]])"
      ]
     },
     "execution_count": 13,
     "metadata": {},
     "output_type": "execute_result"
    }
   ],
   "source": [
    "from sklearn.metrics import pairwise_distances\n",
    "\n",
    "pairwise_distances([a,b])"
   ]
  },
  {
   "cell_type": "code",
   "execution_count": null,
   "metadata": {
    "ExecuteTime": {
     "end_time": "2020-07-09T16:30:58.889910Z",
     "start_time": "2020-07-09T16:30:58.879937Z"
    }
   },
   "outputs": [],
   "source": [
    "from scipy.spatial.distance import pdist, squareform\n",
    "\n",
    "pdist([a,b])"
   ]
  },
  {
   "cell_type": "code",
   "execution_count": null,
   "metadata": {
    "ExecuteTime": {
     "end_time": "2020-07-09T16:30:58.895894Z",
     "start_time": "2020-07-09T16:30:58.890907Z"
    }
   },
   "outputs": [],
   "source": [
    "squareform(pdist([a, b]))"
   ]
  },
  {
   "cell_type": "code",
   "execution_count": null,
   "metadata": {
    "ExecuteTime": {
     "end_time": "2020-07-09T16:30:58.906865Z",
     "start_time": "2020-07-09T16:30:58.896891Z"
    }
   },
   "outputs": [],
   "source": [
    "pd.DataFrame(squareform(pdist([a, b])), \n",
    "             index=['a','b'], \n",
    "             columns=['a','b'])"
   ]
  },
  {
   "cell_type": "markdown",
   "metadata": {},
   "source": [
    "## Real application: Measuring distance in terms of movie ratings"
   ]
  },
  {
   "cell_type": "code",
   "execution_count": null,
   "metadata": {
    "ExecuteTime": {
     "end_time": "2020-07-09T16:30:58.919830Z",
     "start_time": "2020-07-09T16:30:58.907862Z"
    }
   },
   "outputs": [],
   "source": [
    "ratings = pd.read_csv('movie_ratings.csv').set_index('Movie').T\n",
    "ratings.head()"
   ]
  },
  {
   "cell_type": "code",
   "execution_count": null,
   "metadata": {
    "ExecuteTime": {
     "end_time": "2020-07-09T16:30:59.052475Z",
     "start_time": "2020-07-09T16:30:58.920828Z"
    }
   },
   "outputs": [],
   "source": [
    "ratings_scatter('Venom', 'Incredibles 2')"
   ]
  },
  {
   "cell_type": "code",
   "execution_count": null,
   "metadata": {
    "ExecuteTime": {
     "end_time": "2020-07-09T16:30:59.187115Z",
     "start_time": "2020-07-09T16:30:59.053473Z"
    }
   },
   "outputs": [],
   "source": [
    "ratings_scatter('Bohemian Rhapsody', 'Jurassic World: Fallen Kingdom')"
   ]
  },
  {
   "cell_type": "code",
   "execution_count": null,
   "metadata": {
    "ExecuteTime": {
     "end_time": "2020-07-09T16:30:59.194097Z",
     "start_time": "2020-07-09T16:30:59.188112Z"
    }
   },
   "outputs": [],
   "source": [
    "# pairwise distance\n",
    "distance = squareform(pdist(ratings[['Venom', 'Incredibles 2']]))\n",
    "distance"
   ]
  },
  {
   "cell_type": "markdown",
   "metadata": {},
   "source": [
    "## What happens if we calculated the distance for the whole dataset, then?\n",
    "\n",
    "It considers all columns as dimensions. And it will calculate the distance in that big dimension."
   ]
  },
  {
   "cell_type": "code",
   "execution_count": null,
   "metadata": {
    "ExecuteTime": {
     "end_time": "2020-07-09T16:30:59.201078Z",
     "start_time": "2020-07-09T16:30:59.195093Z"
    }
   },
   "outputs": [],
   "source": [
    "# pairwise distance\n",
    "distance = pdist(ratings)\n",
    "distance"
   ]
  },
  {
   "cell_type": "code",
   "execution_count": null,
   "metadata": {
    "ExecuteTime": {
     "end_time": "2020-07-09T16:30:59.211051Z",
     "start_time": "2020-07-09T16:30:59.202076Z"
    }
   },
   "outputs": [],
   "source": [
    "squareform(distance)"
   ]
  },
  {
   "cell_type": "code",
   "execution_count": null,
   "metadata": {
    "ExecuteTime": {
     "end_time": "2020-07-09T16:30:59.222022Z",
     "start_time": "2020-07-09T16:30:59.212049Z"
    }
   },
   "outputs": [],
   "source": [
    "distance_matrix = pd.DataFrame(squareform(distance), \n",
    "                               index=ratings.index, \n",
    "                               columns=ratings.index)\n",
    "distance_matrix"
   ]
  },
  {
   "cell_type": "code",
   "execution_count": null,
   "metadata": {
    "ExecuteTime": {
     "end_time": "2020-07-09T16:30:59.226011Z",
     "start_time": "2020-07-09T16:30:59.223019Z"
    }
   },
   "outputs": [],
   "source": [
    "# inverse of distance is how similar: 1/squareform(distance)\n",
    "# but I want to put the most similar as 1: 1/(1 + squareform(distance))\n"
   ]
  },
  {
   "cell_type": "code",
   "execution_count": null,
   "metadata": {
    "ExecuteTime": {
     "end_time": "2020-07-09T16:30:59.238977Z",
     "start_time": "2020-07-09T16:30:59.227008Z"
    }
   },
   "outputs": [],
   "source": [
    "similarity_index = pd.DataFrame(1/(1 + squareform(distance)), \n",
    "                                index=ratings.index, \n",
    "                                columns=ratings.index)\n",
    "similarity_index"
   ]
  },
  {
   "cell_type": "code",
   "execution_count": null,
   "metadata": {
    "ExecuteTime": {
     "end_time": "2020-07-09T16:30:59.245957Z",
     "start_time": "2020-07-09T16:30:59.240973Z"
    }
   },
   "outputs": [],
   "source": [
    "def create_similarity(dataframe, metric='euclidean'):\n",
    "    \"\"\"\n",
    "    Given a dataframe, return its similarity matrix \n",
    "    \"\"\"\n",
    "    distance_vector = pdist(dataframe, metric)\n",
    "    distance_matrix = squareform(distance_vector)\n",
    "    similarities = 1 / (1 + distance_matrix)\n",
    "    \n",
    "    similarity_index = pd.DataFrame(similarities, \n",
    "                                    index=dataframe.index, \n",
    "                                    columns=dataframe.index)\n",
    "    return similarity_index"
   ]
  },
  {
   "cell_type": "code",
   "execution_count": null,
   "metadata": {
    "ExecuteTime": {
     "end_time": "2020-07-09T16:30:59.255931Z",
     "start_time": "2020-07-09T16:30:59.246955Z"
    }
   },
   "outputs": [],
   "source": [
    "create_similarity(ratings)"
   ]
  },
  {
   "cell_type": "code",
   "execution_count": null,
   "metadata": {
    "ExecuteTime": {
     "end_time": "2020-07-09T16:30:59.264907Z",
     "start_time": "2020-07-09T16:30:59.256929Z"
    }
   },
   "outputs": [],
   "source": [
    "new_person = {'Aquaman': 2,\n",
    "              'Avengers: Infinity War': 1,\n",
    "              'Black Panther': 5,\n",
    "              'Bohemian Rhapsody': 5,\n",
    "              'Deadpool 2': 2,\n",
    "              'Fantastic Beasts: The Crimes of Grindelwald': 3,\n",
    "              'Incredibles 2': 3,\n",
    "              'Jurassic World: Fallen Kingdom': 4,\n",
    "              'Mission: Impossible – Fallout': 3,\n",
    "              'Venom': 3}"
   ]
  },
  {
   "cell_type": "code",
   "execution_count": null,
   "metadata": {
    "ExecuteTime": {
     "end_time": "2020-07-09T16:30:59.275877Z",
     "start_time": "2020-07-09T16:30:59.265904Z"
    }
   },
   "outputs": [],
   "source": [
    "ratings"
   ]
  },
  {
   "cell_type": "code",
   "execution_count": null,
   "metadata": {
    "ExecuteTime": {
     "end_time": "2020-07-09T16:30:59.286849Z",
     "start_time": "2020-07-09T16:30:59.276875Z"
    }
   },
   "outputs": [],
   "source": [
    "person = pd.DataFrame(pd.Series(new_person, name='Andre')).T\n",
    "person"
   ]
  },
  {
   "cell_type": "code",
   "execution_count": null,
   "metadata": {
    "ExecuteTime": {
     "end_time": "2020-07-09T16:30:59.300812Z",
     "start_time": "2020-07-09T16:30:59.287846Z"
    }
   },
   "outputs": [],
   "source": [
    "merged_dataframe = pd.concat([ratings, person], axis=0)\n",
    "merged_dataframe"
   ]
  },
  {
   "cell_type": "code",
   "execution_count": null,
   "metadata": {
    "ExecuteTime": {
     "end_time": "2020-07-09T16:30:59.311782Z",
     "start_time": "2020-07-09T16:30:59.302806Z"
    }
   },
   "outputs": [],
   "source": [
    "similarities = create_similarity(merged_dataframe)\n",
    "similarities"
   ]
  },
  {
   "cell_type": "code",
   "execution_count": null,
   "metadata": {
    "ExecuteTime": {
     "end_time": "2020-07-09T16:30:59.320758Z",
     "start_time": "2020-07-09T16:30:59.315771Z"
    }
   },
   "outputs": [],
   "source": [
    "similarities['Andre']"
   ]
  },
  {
   "cell_type": "code",
   "execution_count": null,
   "metadata": {
    "ExecuteTime": {
     "end_time": "2020-07-09T16:30:59.328736Z",
     "start_time": "2020-07-09T16:30:59.322752Z"
    }
   },
   "outputs": [],
   "source": [
    "similarities['Andre'].drop('Andre')"
   ]
  },
  {
   "cell_type": "code",
   "execution_count": null,
   "metadata": {
    "ExecuteTime": {
     "end_time": "2020-07-09T16:30:59.340704Z",
     "start_time": "2020-07-09T16:30:59.329734Z"
    }
   },
   "outputs": [],
   "source": [
    "new_ratings = pd.read_csv('movie_ratings2.csv').set_index('Movie')\n",
    "new_ratings.head()"
   ]
  },
  {
   "cell_type": "code",
   "execution_count": null,
   "metadata": {
    "ExecuteTime": {
     "end_time": "2020-07-09T16:30:59.356661Z",
     "start_time": "2020-07-09T16:30:59.341702Z"
    }
   },
   "outputs": [],
   "source": [
    "recommendations = new_ratings.copy()\n",
    "recommendations.head()"
   ]
  },
  {
   "cell_type": "code",
   "execution_count": null,
   "metadata": {
    "ExecuteTime": {
     "end_time": "2020-07-09T16:30:59.363643Z",
     "start_time": "2020-07-09T16:30:59.357659Z"
    }
   },
   "outputs": [],
   "source": [
    "similarities['Andre'].drop('Andre')"
   ]
  },
  {
   "cell_type": "code",
   "execution_count": null,
   "metadata": {
    "ExecuteTime": {
     "end_time": "2020-07-09T16:30:59.383590Z",
     "start_time": "2020-07-09T16:30:59.365638Z"
    }
   },
   "outputs": [],
   "source": [
    "for name, score in dict(similarities['Andre'].drop('Andre')).items():\n",
    "    # contribuição de todos os meus amigos, \n",
    "    # ponderados pela distância deles para mim (score)\n",
    "    recommendations[name] = recommendations[name] * score\n",
    "\n",
    "recommendations.head()"
   ]
  },
  {
   "cell_type": "code",
   "execution_count": null,
   "metadata": {
    "ExecuteTime": {
     "end_time": "2020-07-09T16:30:59.395557Z",
     "start_time": "2020-07-09T16:30:59.384587Z"
    }
   },
   "outputs": [],
   "source": [
    "recommendations['Total'] = recommendations.sum(axis=1)\n",
    "recommendations.sort_values('Total', ascending=False)"
   ]
  },
  {
   "cell_type": "code",
   "execution_count": null,
   "metadata": {},
   "outputs": [],
   "source": []
  },
  {
   "cell_type": "code",
   "execution_count": null,
   "metadata": {},
   "outputs": [],
   "source": []
  },
  {
   "cell_type": "code",
   "execution_count": null,
   "metadata": {},
   "outputs": [],
   "source": []
  },
  {
   "cell_type": "markdown",
   "metadata": {},
   "source": [
    "## Different Distance measures\n",
    "\n",
    "Minkowski Distance"
   ]
  },
  {
   "cell_type": "markdown",
   "metadata": {},
   "source": [
    "<font size=\"7\">\n",
    "$$ \\left(\\sum_i^n|x_i - y_i|^p\\right)^\\frac{1}{p} $$\n",
    "</font>\n",
    "\n"
   ]
  },
  {
   "cell_type": "markdown",
   "metadata": {},
   "source": [
    "<b> Manhattan distance (cityblock): p = 1 </b>\n",
    "$$ \\sum_i^n|x_i - y_i| $$\n",
    "\n",
    "\n",
    "<b> Euclidean Distance: p = 2 </b>\n",
    "$$ \\sqrt{\\sum_i^n|x_i - y_i|^2} $$\n",
    "\n",
    "<b> Chebychev Distance: p $\\rightarrow \\infty$  </b>\n",
    "$$ \\left(\\sum_i^n|x_i - y_i|^\\infty\\right)^\\frac{1}{\\infty} \\rightarrow max(|x_i - y_i|)$$\n"
   ]
  },
  {
   "cell_type": "markdown",
   "metadata": {},
   "source": [
    "## Manhattan distance:"
   ]
  },
  {
   "cell_type": "code",
   "execution_count": null,
   "metadata": {
    "ExecuteTime": {
     "end_time": "2020-07-09T16:30:59.508256Z",
     "start_time": "2020-07-09T16:30:59.396555Z"
    }
   },
   "outputs": [],
   "source": [
    "plt.scatter(x1, y1, color='k', s=50)\n",
    "plt.scatter(x2, y2, color='k', s=50)\n",
    "plt.grid()\n",
    "plt.xlim([0, 6])\n",
    "plt.ylim([0, 6])\n",
    "\n",
    "# higher distance\n",
    "plt.vlines(max(x1, x2), min(y2,y1), max(y1,y2), color='red')\n",
    "plt.hlines(max(y1, y2), min(x1,x2), max(x1,x2), color='red')\n",
    "\n",
    "k = 1\n",
    "plt.vlines(max(x1, x2), min(y2,y1), max(y1,y2)-k, color='blue', alpha=0.5)\n",
    "plt.hlines(max(y1,y2)-k, min(x1,x2), max(x1,x2), color='blue', alpha=0.5)\n",
    "plt.vlines(min(x1,x2), max(y2,y1)-k, max(y1,y2), color='blue', alpha=0.5)\n",
    "\n",
    "print(f'Manhattan distance: {abs(x2-x1) + abs(y2-y1)}')"
   ]
  },
  {
   "cell_type": "markdown",
   "metadata": {},
   "source": [
    "## Cosine Distance"
   ]
  },
  {
   "cell_type": "code",
   "execution_count": null,
   "metadata": {
    "ExecuteTime": {
     "end_time": "2020-07-09T16:30:59.513242Z",
     "start_time": "2020-07-09T16:30:59.509254Z"
    }
   },
   "outputs": [],
   "source": [
    "x1, y1 = (1, 5)\n",
    "x2, y2 = (4, 2)\n",
    "\n",
    "a = [x1, y1]\n",
    "b = [x2, y2]"
   ]
  },
  {
   "cell_type": "code",
   "execution_count": null,
   "metadata": {
    "ExecuteTime": {
     "end_time": "2020-07-09T16:30:59.653867Z",
     "start_time": "2020-07-09T16:30:59.514240Z"
    }
   },
   "outputs": [],
   "source": [
    "fig = plt.figure()\n",
    "\n",
    "plt.scatter(x1, y1, color='k', s=50)\n",
    "plt.scatter(x2, y2, color='k', s=50)\n",
    "plt.grid()\n",
    "plt.xlim([0, 6])\n",
    "plt.ylim([0, 6])\n",
    "\n",
    "\n",
    "plt.annotate('', xy=(x1,y1), xytext=(0, 0), arrowprops=dict(facecolor='black', \n",
    "                                                            \n",
    "                                                            headlength=10))\n",
    "\n",
    "plt.annotate('', xy=(x2,y2), xytext=(0, 0), arrowprops=dict(facecolor='black', \n",
    "                                                            \n",
    "                                                            headlength=10))\n",
    "\n",
    "print(f'Cosine distance: {1 - np.dot(a, b) / (np.sqrt(np.dot(a,a)) * np.sqrt(np.dot(b,b)))}')"
   ]
  },
  {
   "cell_type": "code",
   "execution_count": null,
   "metadata": {
    "ExecuteTime": {
     "end_time": "2020-07-09T16:30:59.776539Z",
     "start_time": "2020-07-09T16:30:59.654865Z"
    }
   },
   "outputs": [],
   "source": [
    "fig = plt.figure()\n",
    "\n",
    "plt.scatter(x1, y1, color='k', s=50)\n",
    "plt.scatter(x2, y2, color='k', s=50)\n",
    "plt.grid()\n",
    "plt.xlim([-2, 6])\n",
    "plt.ylim([-2, 6])\n",
    "\n",
    "\n",
    "plt.annotate('', xy=(x1,y1), xytext=(0, 0), arrowprops=dict(facecolor='black', \n",
    "                                                            \n",
    "                                                            headlength=10))\n",
    "\n",
    "plt.annotate('', xy=(x2,y2), xytext=(0, 0), arrowprops=dict(facecolor='black', \n",
    "                                                            \n",
    "                                                            headlength=10))\n",
    "\n",
    "print(f'Cosine distance: {1 - np.dot(a, b) / (np.sqrt(np.dot(a,a)) * np.sqrt(np.dot(b,b)))}')"
   ]
  },
  {
   "cell_type": "code",
   "execution_count": null,
   "metadata": {
    "ExecuteTime": {
     "end_time": "2020-07-09T16:30:59.905222Z",
     "start_time": "2020-07-09T16:30:59.777536Z"
    }
   },
   "outputs": [],
   "source": [
    "fig = plt.figure()\n",
    "\n",
    "plt.scatter(x1, y1, color='k', s=50)\n",
    "plt.scatter(x2, y2, color='k', s=50)\n",
    "plt.grid()\n",
    "plt.xlim([-2, 6])\n",
    "plt.ylim([-2, 6])\n",
    "cosine_similarity = np.dot(a, b) / (np.sqrt(np.dot(a,a)) * np.sqrt(np.dot(b,b)))\n",
    "\n",
    "plt.annotate('', xy=(x1,y1), xytext=(0, 0), arrowprops=dict(facecolor='black', \n",
    "                                                            shrink=0,\n",
    "                                                            headlength=10))\n",
    "\n",
    "plt.annotate('', xy=(x2,y2), xytext=(0, 0), arrowprops=dict(facecolor='black', \n",
    "                                                            shrink=0,\n",
    "                                                            headlength=10))\n",
    "\n",
    "plt.annotate('', xy=(x2 * cosine_similarity * (np.dot(a,a)**.5/np.dot(b,b)**.5),  \n",
    "                     y2 * cosine_similarity * (np.dot(a,a)**.5/np.dot(b,b)**.5)), xytext=(0, 0), \n",
    "                                            arrowprops=dict(facecolor='red', \n",
    "                                                            shrink=0,\n",
    "                                                            headlength=10))\n",
    "\n",
    "\n",
    "plt.annotate('', xy=(x2 * cosine_similarity * (np.dot(a,a)**.5/np.dot(b,b)**.5),\n",
    "                     y2 * cosine_similarity * (np.dot(a,a)**.5/np.dot(b,b)**.5)), xytext=(x1, y1), \n",
    "             arrowprops={\"arrowstyle\" : \"-\", \"linestyle\" : \"--\", \"linewidth\" : 2, \"shrinkA\": 0, \"shrinkB\": 0})\n"
   ]
  }
 ],
 "metadata": {
  "kernelspec": {
   "display_name": "Python 3",
   "language": "python",
   "name": "python3"
  },
  "language_info": {
   "codemirror_mode": {
    "name": "ipython",
    "version": 3
   },
   "file_extension": ".py",
   "mimetype": "text/x-python",
   "name": "python",
   "nbconvert_exporter": "python",
   "pygments_lexer": "ipython3",
   "version": "3.7.6"
  },
  "toc": {
   "base_numbering": 1,
   "nav_menu": {},
   "number_sections": true,
   "sideBar": true,
   "skip_h1_title": false,
   "title_cell": "Table of Contents",
   "title_sidebar": "Contents",
   "toc_cell": false,
   "toc_position": {},
   "toc_section_display": true,
   "toc_window_display": false
  },
  "varInspector": {
   "cols": {
    "lenName": 16,
    "lenType": 16,
    "lenVar": 40
   },
   "kernels_config": {
    "python": {
     "delete_cmd_postfix": "",
     "delete_cmd_prefix": "del ",
     "library": "var_list.py",
     "varRefreshCmd": "print(var_dic_list())"
    },
    "r": {
     "delete_cmd_postfix": ") ",
     "delete_cmd_prefix": "rm(",
     "library": "var_list.r",
     "varRefreshCmd": "cat(var_dic_list()) "
    }
   },
   "types_to_exclude": [
    "module",
    "function",
    "builtin_function_or_method",
    "instance",
    "_Feature"
   ],
   "window_display": false
  }
 },
 "nbformat": 4,
 "nbformat_minor": 2
}
