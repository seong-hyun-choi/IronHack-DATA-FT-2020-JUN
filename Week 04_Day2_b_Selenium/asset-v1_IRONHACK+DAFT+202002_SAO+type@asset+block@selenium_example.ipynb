{
 "cells": [
  {
   "cell_type": "code",
   "execution_count": 5,
   "metadata": {
    "ExecuteTime": {
     "end_time": "2020-03-20T20:00:10.302560Z",
     "start_time": "2020-03-20T20:00:10.299542Z"
    }
   },
   "outputs": [],
   "source": [
    "import pandas as pd\n",
    "from selenium import webdriver\n",
    "from selenium.webdriver.common.keys import Keys"
   ]
  },
  {
   "cell_type": "code",
   "execution_count": 6,
   "metadata": {},
   "outputs": [],
   "source": [
    "#webdriver.Chrome()C:\\IronHack\\[DATA_PYTHON]\\[2020 JUN DATA FT]\\[MODULE 01]\\Week 04_Day2_b_Selenium\\chromedriver"
   ]
  },
  {
   "cell_type": "code",
   "execution_count": 11,
   "metadata": {},
   "outputs": [],
   "source": [
    "# open the chrome browser\n",
    "# driver = webdriver.Chrome(executable_path='./chromdriver/chromdriver')"
   ]
  },
  {
   "cell_type": "code",
   "execution_count": 13,
   "metadata": {
    "ExecuteTime": {
     "end_time": "2020-03-20T20:00:14.858835Z",
     "start_time": "2020-03-20T20:00:10.494899Z"
    }
   },
   "outputs": [],
   "source": [
    "# open the chrome browser\n",
    "driver = webdriver.Chrome(executable_path='.\\chromedriver\\chromedriver')\n",
    "\n",
    "# navigate to webpage\n",
    "driver.get(\"http://testing-ground.scraping.pro/login\")"
   ]
  },
  {
   "cell_type": "code",
   "execution_count": 6,
   "metadata": {},
   "outputs": [],
   "source": [
    "elem = driver.find_element_by_id('usr')"
   ]
  },
  {
   "cell_type": "code",
   "execution_count": 7,
   "metadata": {},
   "outputs": [],
   "source": [
    "elem.send_keys('admin')"
   ]
  },
  {
   "cell_type": "code",
   "execution_count": 8,
   "metadata": {},
   "outputs": [],
   "source": [
    "elem.clear()"
   ]
  },
  {
   "cell_type": "code",
   "execution_count": null,
   "metadata": {},
   "outputs": [],
   "source": []
  },
  {
   "cell_type": "code",
   "execution_count": 9,
   "metadata": {
    "ExecuteTime": {
     "end_time": "2020-03-20T20:00:14.881792Z",
     "start_time": "2020-03-20T20:00:14.860828Z"
    }
   },
   "outputs": [],
   "source": [
    "# selecting elements by\n",
    "elem = driver.find_element_by_id('usr')\n",
    "elem = driver.find_element_by_name('usr')\n",
    "elem = driver.find_element_by_xpath('/html/body/div[2]/div[2]/form/input[1]')"
   ]
  },
  {
   "cell_type": "code",
   "execution_count": 10,
   "metadata": {
    "ExecuteTime": {
     "end_time": "2020-03-20T20:00:14.923680Z",
     "start_time": "2020-03-20T20:00:14.882786Z"
    }
   },
   "outputs": [],
   "source": [
    "elem.send_keys('admin')"
   ]
  },
  {
   "cell_type": "code",
   "execution_count": null,
   "metadata": {
    "ExecuteTime": {
     "end_time": "2020-03-20T20:00:14.937642Z",
     "start_time": "2020-03-20T20:00:14.924674Z"
    }
   },
   "outputs": [],
   "source": [
    "from selenium.webdriver.common.keys import Keys\n",
    "elem.send_keys(Keys.TAB)"
   ]
  },
  {
   "cell_type": "code",
   "execution_count": null,
   "metadata": {
    "ExecuteTime": {
     "end_time": "2020-03-20T20:00:14.950605Z",
     "start_time": "2020-03-20T20:00:14.939634Z"
    }
   },
   "outputs": [],
   "source": [
    "elem = driver.find_element_by_id('pwd')"
   ]
  },
  {
   "cell_type": "code",
   "execution_count": null,
   "metadata": {
    "ExecuteTime": {
     "end_time": "2020-03-20T20:00:14.975555Z",
     "start_time": "2020-03-20T20:00:14.951602Z"
    }
   },
   "outputs": [],
   "source": [
    "elem.send_keys('12345')"
   ]
  },
  {
   "cell_type": "code",
   "execution_count": 24,
   "metadata": {
    "ExecuteTime": {
     "end_time": "2020-03-20T20:00:15.426025Z",
     "start_time": "2020-03-20T20:00:14.976553Z"
    }
   },
   "outputs": [],
   "source": [
    "elem.send_keys(Keys.RETURN)"
   ]
  },
  {
   "cell_type": "code",
   "execution_count": 238,
   "metadata": {
    "ExecuteTime": {
     "end_time": "2020-03-20T20:00:15.438991Z",
     "start_time": "2020-03-20T20:00:15.427023Z"
    }
   },
   "outputs": [
    {
     "data": {
      "text/plain": [
       "<selenium.webdriver.remote.webelement.WebElement (session=\"70feb3aa7a37fced848431d0378e3f7a\", element=\"08880987-faaa-4842-88c7-b367e04cf13d\")>"
      ]
     },
     "execution_count": 238,
     "metadata": {},
     "output_type": "execute_result"
    }
   ],
   "source": [
    "driver.find_element_by_tag_name('h3')"
   ]
  },
  {
   "cell_type": "code",
   "execution_count": 26,
   "metadata": {
    "ExecuteTime": {
     "end_time": "2020-03-20T20:00:15.461929Z",
     "start_time": "2020-03-20T20:00:15.439987Z"
    }
   },
   "outputs": [
    {
     "data": {
      "text/plain": [
       "'WELCOME :)'"
      ]
     },
     "execution_count": 26,
     "metadata": {},
     "output_type": "execute_result"
    }
   ],
   "source": [
    "driver.find_element_by_tag_name('h3').text"
   ]
  },
  {
   "cell_type": "code",
   "execution_count": 11,
   "metadata": {},
   "outputs": [
    {
     "data": {
      "text/plain": [
       "'WELCOME :)'"
      ]
     },
     "execution_count": 11,
     "metadata": {},
     "output_type": "execute_result"
    }
   ],
   "source": [
    "# open the chrome browser\n",
    "driver = webdriver.Chrome(executable_path='D:\\[DATA_PYTHON]\\[2020 JUN DATA FT]\\[MODULE 01]\\Week 04_Day2_b_Selenium\\chromedriver\\chromedriver')\n",
    "\n",
    "# navigate to webpage\n",
    "driver.get(\"http://testing-ground.scraping.pro/login\")\n",
    "\n",
    "elem = driver.find_element_by_id('usr')\n",
    "elem.send_keys('admin')\n",
    "\n",
    "elem = driver.find_element_by_id('pwd')\n",
    "elem.send_keys('12345')\n",
    "\n",
    "# press enter\n",
    "elem.send_keys(Keys.RETURN)\n",
    "\n",
    "\n",
    "driver.find_element_by_tag_name('h3').text"
   ]
  },
  {
   "cell_type": "code",
   "execution_count": 28,
   "metadata": {},
   "outputs": [
    {
     "data": {
      "text/plain": [
       "'WELCOME :)'"
      ]
     },
     "execution_count": 28,
     "metadata": {},
     "output_type": "execute_result"
    }
   ],
   "source": [
    "# open the chrome browser\n",
    "driver = webdriver.Chrome(executable_path='/Users/andreaguiar/Desktop/selenium/chromedriver')\n",
    "\n",
    "# navigate to webpage\n",
    "driver.get(\"http://testing-ground.scraping.pro/login\")\n",
    "\n",
    "elem = driver.find_element_by_id('usr')\n",
    "elem.send_keys('admin')\n",
    "\n",
    "elem = driver.find_element_by_id('pwd')\n",
    "elem.send_keys('12345')\n",
    "\n",
    "# clicking login\n",
    "elem = driver.find_element_by_xpath('/html/body/div[2]/div[2]/form/input[3]')\n",
    "elem.click()\n",
    "\n",
    "\n",
    "driver.find_element_by_tag_name('h3').text"
   ]
  },
  {
   "cell_type": "code",
   "execution_count": 12,
   "metadata": {},
   "outputs": [
    {
     "data": {
      "text/plain": [
       "'<html class=\" js flexbox canvas canvastext webgl no-touch geolocation postmessage websqldatabase indexeddb hashchange history draganddrop websockets rgba hsla multiplebgs backgroundsize borderimage borderradius boxshadow textshadow opacity cssanimations csscolumns cssgradients cssreflections csstransforms csstransforms3d csstransitions fontface generatedcontent video audio localstorage sessionstorage webworkers no-applicationcache svg inlinesvg smil svgclippaths\"><!--<![endif]--><head>\\n        <meta charset=\"utf-8\">\\n        <meta http-equiv=\"X-UA-Compatible\" content=\"IE=edge,chrome=1\">\\n        <title>Web Scraper Testing Ground</title>\\n        <meta name=\"description\" content=\"\">\\n        <meta name=\"viewport\" content=\"width=device-width\">\\n        <link rel=\"stylesheet\" href=\"/css/normalize.css\">\\n        <link rel=\"stylesheet\" href=\"/css/main.css\">\\n        <script type=\"text/javascript\" async=\"\" src=\"http://www.google-analytics.com/ga.js\"></script><script src=\"/js/vendor/modernizr-2.6.1.min.js\"></script>\\n        <script src=\"/js/vendor/jquery-1.9.1.min.js\"></script>\\n        <script src=\"/js/vendor/jquery-ui-1.10.2.min.js\"></script>\\n        <script src=\"/js/plugins.js\"></script>\\n        <script src=\"/js/main.js\"></script>\\n\\n        <link rel=\"stylesheet\" href=\"/css/QapTcha.jquery.css\">\\n        <script src=\"/js/QapTcha.jquery.js\"></script>\\n        \\n        <link rel=\"stylesheet\" href=\"/fancy-captcha/captcha.css\">\\n        <script src=\"/fancy-captcha/jquery.captcha.js\"></script>\\n\\n    </head>\\n    <body>\\n\\t\\t<script type=\"text/javascript\">\\n\\t\\t\\n\\t\\t  var _gaq = _gaq || [];\\n\\t\\t  _gaq.push([\\'_setAccount\\', \\'UA-4436411-8\\']);\\n\\t\\t  _gaq.push([\\'_setDomainName\\', \\'extract-web-data.com\\']);\\n\\t\\t  _gaq.push([\\'_trackPageview\\']);\\n\\t\\t\\n\\t\\t  (function() {\\n\\t\\t    var ga = document.createElement(\\'script\\'); ga.type = \\'text/javascript\\'; ga.async = true;\\n\\t\\t    ga.src = (\\'https:\\' == document.location.protocol ? \\'https://ssl\\' : \\'http://www\\') + \\'.google-analytics.com/ga.js\\';\\n\\t\\t    var s = document.getElementsByTagName(\\'script\\')[0]; s.parentNode.insertBefore(ga, s);\\n\\t\\t  })();\\n\\t\\t\\n\\t\\t</script>\\n        <!--[if lt IE 7]>\\n            <p class=\"chromeframe\">You are using an outdated browser. <a href=\"http://browsehappy.com/\">Upgrade your browser today</a> or <a href=\"http://www.google.com/chromeframe/?redirect=true\">install Google Chrome Frame</a> to better experience this site.</p>\\n        <![endif]-->\\n        <div id=\"topbar\"></div>\\n\\t\\t<a href=\"/\" style=\"text-decoration: none\">\\n\\t\\t    <div id=\"title\">WEB SCRAPER TESTING GROUND</div>\\n\\t\\t    <div id=\"logo\"></div>\\n\\t\\t</a>\\n\\t\\t<div id=\"content\">\\n<h1>LOGIN</h1>\\n<div id=\"caseinfo\">Often in order to reach the desired information you need to be logged in to the website. Most of today\\'s websites use so-called form-based authentication which implies sending user credentials using POST method, authenticating it on the server and storing user\\'s session in a cookie.<p></p>\\n<p>This simple test shows scraper\\'s ability to:</p>\\n\\t<ol>\\n\\t\\t<li>Send user credentials via POST method</li>\\n\\t\\t<li>Receive, Keep and Return a session cookie</li>\\n\\t\\t<li>Process HTTP redirect (302)</li>\\n\\t</ol>\\n<p>How to test:</p>\\n    <ol>\\n        <li>Enter <b>admin</b> and <b>12345</b> in the form below and press <b>Login</b></li>\\n        <li>If you see <span class=\"success\">WELCOME :)</span> then the user credentials were sent, the cookie was passed and HTTP redirect was processed</li>\\n        <li>If you see <span class=\"error\">ACCESS DENIED!</span> then either you entered wrong credentials or they were not sent to the server properly</li>\\n        <li>If you see <span class=\"error\">THE SESSION COOKIE IS MISSING OR HAS A WRONG VALUE!</span> then the user credentials were properly sent but the session cookie was not properly stored or passed</li>\\n        <li>If you see <span class=\"success\">REDIRECTING...</span> then the user credentials were properly sent but HTTP redirection was not processed</li>\\n        <li>Click <b>GO BACK</b> to start again</li>\\n    </ol>\\n</div>\\n\\n<hr>\\n\\n<div id=\"case_login\">\\n<h3 class=\"success\">WELCOME :)</h3><a href=\"login\">&lt;&lt;&nbsp;GO BACK</a></div>\\n<br><br><br>\\n\\t\\t</div>\\n    \\n</body></html>'"
      ]
     },
     "execution_count": 12,
     "metadata": {},
     "output_type": "execute_result"
    }
   ],
   "source": [
    "driver.page_source"
   ]
  },
  {
   "cell_type": "code",
   "execution_count": 31,
   "metadata": {
    "ExecuteTime": {
     "end_time": "2020-03-20T18:39:58.307479Z",
     "start_time": "2020-03-20T18:39:58.298503Z"
    }
   },
   "outputs": [],
   "source": [
    "from bs4 import BeautifulSoup\n",
    "\n",
    "soup = BeautifulSoup(driver.page_source)"
   ]
  },
  {
   "cell_type": "code",
   "execution_count": 36,
   "metadata": {
    "ExecuteTime": {
     "end_time": "2020-03-20T18:39:58.312466Z",
     "start_time": "2020-03-20T18:39:58.308475Z"
    }
   },
   "outputs": [
    {
     "data": {
      "text/plain": [
       "'WELCOME :)'"
      ]
     },
     "execution_count": 36,
     "metadata": {},
     "output_type": "execute_result"
    }
   ],
   "source": [
    "soup.find_all('h3')[0].text"
   ]
  },
  {
   "cell_type": "code",
   "execution_count": null,
   "metadata": {},
   "outputs": [],
   "source": []
  },
  {
   "cell_type": "code",
   "execution_count": null,
   "metadata": {},
   "outputs": [],
   "source": []
  },
  {
   "cell_type": "code",
   "execution_count": null,
   "metadata": {},
   "outputs": [],
   "source": []
  },
  {
   "cell_type": "markdown",
   "metadata": {},
   "source": [
    "# Forms"
   ]
  },
  {
   "cell_type": "code",
   "execution_count": null,
   "metadata": {},
   "outputs": [],
   "source": []
  },
  {
   "cell_type": "code",
   "execution_count": 39,
   "metadata": {},
   "outputs": [],
   "source": [
    "# open the chrome browser\n",
    "driver = webdriver.Chrome(executable_path='/Users/andreaguiar/Desktop/selenium/chromedriver')\n",
    "\n",
    "# navigate to webpage\n",
    "driver.get(\"https://forms.gle/v1jzZRf6LTATd2eX6\")\n",
    "\n",
    "elem = driver.find_element_by_class_name('quantumWizTextinputPaperinputInput')\n",
    "\n",
    "elem.send_keys('Andre')"
   ]
  },
  {
   "cell_type": "code",
   "execution_count": null,
   "metadata": {},
   "outputs": [],
   "source": [
    "driver"
   ]
  },
  {
   "cell_type": "code",
   "execution_count": null,
   "metadata": {},
   "outputs": [],
   "source": []
  },
  {
   "cell_type": "code",
   "execution_count": null,
   "metadata": {},
   "outputs": [],
   "source": []
  },
  {
   "cell_type": "code",
   "execution_count": null,
   "metadata": {},
   "outputs": [],
   "source": []
  },
  {
   "cell_type": "code",
   "execution_count": null,
   "metadata": {},
   "outputs": [],
   "source": []
  },
  {
   "cell_type": "code",
   "execution_count": 1,
   "metadata": {
    "ExecuteTime": {
     "end_time": "2020-03-21T01:41:21.762721Z",
     "start_time": "2020-03-21T01:41:21.759729Z"
    }
   },
   "outputs": [],
   "source": [
    "from selenium import webdriver\n",
    "from selenium.webdriver.common.keys import Keys\n",
    "from selenium.webdriver.chrome.options import Options"
   ]
  },
  {
   "cell_type": "code",
   "execution_count": 2,
   "metadata": {},
   "outputs": [],
   "source": [
    "from selenium.webdriver.chrome.options import Options\n",
    "chrome_options = Options()  \n",
    "chrome_options.add_argument(\"--headless\")\n",
    "chrome_options.add_argument('--disable-gpu')\n",
    "chrome_options.add_argument('--no-sandbox')\n"
   ]
  },
  {
   "cell_type": "code",
   "execution_count": 4,
   "metadata": {
    "ExecuteTime": {
     "end_time": "2020-03-21T01:41:36.797219Z",
     "start_time": "2020-03-21T01:41:33.543183Z"
    }
   },
   "outputs": [],
   "source": [
    "# open the chrome browser\n",
    "driver = webdriver.Chrome(executable_path='.\\chromedriver\\chromedriver')\n",
    "\n",
    "# navigate to webpage\n",
    "driver.get(\"https://forms.gle/v1jzZRf6LTATd2eX6\")\n"
   ]
  },
  {
   "cell_type": "code",
   "execution_count": 5,
   "metadata": {
    "ExecuteTime": {
     "end_time": "2020-03-21T01:41:36.877973Z",
     "start_time": "2020-03-21T01:41:36.799184Z"
    }
   },
   "outputs": [],
   "source": [
    "# input name\n",
    "elem = driver.find_element_by_class_name('quantumWizTextinputPaperinputInput')\n",
    "elem.send_keys('Joao')"
   ]
  },
  {
   "cell_type": "code",
   "execution_count": 44,
   "metadata": {
    "ExecuteTime": {
     "end_time": "2020-03-21T01:41:36.999676Z",
     "start_time": "2020-03-21T01:41:36.878995Z"
    }
   },
   "outputs": [
    {
     "name": "stdout",
     "output_type": "stream",
     "text": [
      ">=25 and < 30\n"
     ]
    }
   ],
   "source": [
    "elems = driver.find_elements_by_class_name('freebirdFormviewerViewItemsRadioLabel')\n",
    "for elem in elems:\n",
    "    if '< 30' in elem.text:\n",
    "        print(elem.text)\n",
    "        elem.click()"
   ]
  },
  {
   "cell_type": "code",
   "execution_count": 45,
   "metadata": {
    "ExecuteTime": {
     "end_time": "2020-03-21T01:41:37.013638Z",
     "start_time": "2020-03-21T01:41:37.000645Z"
    }
   },
   "outputs": [],
   "source": [
    "elems = driver.find_elements_by_class_name('freebirdMaterialScalecontentLabel')"
   ]
  },
  {
   "cell_type": "code",
   "execution_count": 47,
   "metadata": {
    "ExecuteTime": {
     "end_time": "2020-03-21T01:41:37.174180Z",
     "start_time": "2020-03-21T01:41:37.015605Z"
    }
   },
   "outputs": [],
   "source": [
    "my_grade = 9\n",
    "for i in range(my_grade + 1):\n",
    "    elems[i].click()"
   ]
  },
  {
   "cell_type": "code",
   "execution_count": 48,
   "metadata": {
    "ExecuteTime": {
     "end_time": "2020-03-21T01:41:37.190138Z",
     "start_time": "2020-03-21T01:41:37.175202Z"
    }
   },
   "outputs": [],
   "source": [
    "elem = driver.find_element_by_class_name('appsMaterialWizButtonPaperbuttonLabel')"
   ]
  },
  {
   "cell_type": "code",
   "execution_count": 49,
   "metadata": {
    "ExecuteTime": {
     "end_time": "2020-03-21T01:41:37.726832Z",
     "start_time": "2020-03-21T01:41:37.191137Z"
    }
   },
   "outputs": [],
   "source": [
    "elem.click()"
   ]
  },
  {
   "cell_type": "code",
   "execution_count": 52,
   "metadata": {
    "ExecuteTime": {
     "end_time": "2020-03-20T19:04:13.009293Z",
     "start_time": "2020-03-20T19:04:12.999291Z"
    }
   },
   "outputs": [],
   "source": [
    "def answer_form(name, age, grade):\n",
    "    # access the form\n",
    "    form = 'https://forms.gle/xXLiESYZWkgV2Yuf7'\n",
    "    driver = webdriver.Chrome(executable_path='/Users/andreaguiar/Desktop/selenium/chromedriver')\n",
    "    driver.get(form)\n",
    "    \n",
    "    # write the person's name\n",
    "    elem = driver.find_element_by_class_name('quantumWizTextinputPaperinputInput')\n",
    "    elem.send_keys(name)\n",
    "    \n",
    "    # select your age based on the range you've chosen\n",
    "    elems = driver.find_elements_by_class_name('freebirdFormviewerViewItemsRadioLabel')\n",
    "    for elem in elems:\n",
    "        if f'< {age}' in elem.text:\n",
    "            print(elem.text)\n",
    "            elem.click()\n",
    "        \n",
    "    # give the grade by clicking the n-th radio button\n",
    "    elems = driver.find_elements_by_class_name('freebirdMaterialScalecontentLabel')\n",
    "    if grade not in range(11):\n",
    "        raise ValueError('Grade not within correct range')\n",
    "        \n",
    "        \n",
    "    my_grade = grade\n",
    "    for i in range(my_grade + 1):\n",
    "        elems[i].click()\n",
    "        \n",
    "    # click 'send button'\n",
    "    elem = driver.find_element_by_class_name('appsMaterialWizButtonPaperbuttonLabel')\n",
    "    elem.click()"
   ]
  },
  {
   "cell_type": "code",
   "execution_count": 54,
   "metadata": {},
   "outputs": [],
   "source": [
    "answer_form('Eveline2', '<20', 6)"
   ]
  },
  {
   "cell_type": "markdown",
   "metadata": {},
   "source": [
    "# CS GO"
   ]
  },
  {
   "cell_type": "code",
   "execution_count": 23,
   "metadata": {
    "ExecuteTime": {
     "end_time": "2020-03-20T20:03:03.982732Z",
     "start_time": "2020-03-20T20:02:59.281091Z"
    }
   },
   "outputs": [],
   "source": [
    "driver = webdriver.Chrome(executable_path='D:\\[DATA_PYTHON]\\[2020 JUN DATA FT]\\[MODULE 01]\\Week 04_Day2_b_Selenium\\chromedriver\\chromedriver')\n",
    "driver.get('https://www.hltv.org/results?offset=100')"
   ]
  },
  {
   "cell_type": "code",
   "execution_count": 15,
   "metadata": {
    "ExecuteTime": {
     "end_time": "2020-03-20T20:03:03.998690Z",
     "start_time": "2020-03-20T20:03:03.983733Z"
    }
   },
   "outputs": [],
   "source": [
    "elems = driver.find_elements_by_class_name('result-con')"
   ]
  },
  {
   "cell_type": "code",
   "execution_count": 16,
   "metadata": {
    "ExecuteTime": {
     "end_time": "2020-03-20T20:04:15.462613Z",
     "start_time": "2020-03-20T20:04:15.458624Z"
    }
   },
   "outputs": [
    {
     "data": {
      "text/plain": [
       "100"
      ]
     },
     "execution_count": 16,
     "metadata": {},
     "output_type": "execute_result"
    }
   ],
   "source": [
    "len(elems)"
   ]
  },
  {
   "cell_type": "code",
   "execution_count": null,
   "metadata": {},
   "outputs": [],
   "source": []
  },
  {
   "cell_type": "code",
   "execution_count": 17,
   "metadata": {
    "ExecuteTime": {
     "end_time": "2020-03-20T19:22:26.637660Z",
     "start_time": "2020-03-20T19:22:19.569766Z"
    }
   },
   "outputs": [],
   "source": [
    "team_a = [elem.find_elements_by_class_name('team-cell')[0].text for elem in elems]\n",
    "team_b = [elem.find_elements_by_class_name('team-cell')[1].text for elem in elems]\n",
    "score_a = [elem.find_elements_by_tag_name('span')[0].text for elem in elems]\n",
    "score_b = [elem.find_elements_by_tag_name('span')[1].text for elem in elems]"
   ]
  },
  {
   "cell_type": "code",
   "execution_count": 20,
   "metadata": {
    "ExecuteTime": {
     "end_time": "2020-03-20T19:22:26.643642Z",
     "start_time": "2020-03-20T19:22:26.638633Z"
    }
   },
   "outputs": [],
   "source": [
    "df = pd.DataFrame(data={'team_a': team_a, 'score_a': score_a, 'score_b': score_b, 'team_b': team_b})"
   ]
  },
  {
   "cell_type": "code",
   "execution_count": 21,
   "metadata": {
    "ExecuteTime": {
     "end_time": "2020-03-20T19:22:26.663567Z",
     "start_time": "2020-03-20T19:22:26.645614Z"
    },
    "scrolled": true
   },
   "outputs": [
    {
     "data": {
      "text/html": [
       "<div>\n",
       "<style scoped>\n",
       "    .dataframe tbody tr th:only-of-type {\n",
       "        vertical-align: middle;\n",
       "    }\n",
       "\n",
       "    .dataframe tbody tr th {\n",
       "        vertical-align: top;\n",
       "    }\n",
       "\n",
       "    .dataframe thead th {\n",
       "        text-align: right;\n",
       "    }\n",
       "</style>\n",
       "<table border=\"1\" class=\"dataframe\">\n",
       "  <thead>\n",
       "    <tr style=\"text-align: right;\">\n",
       "      <th></th>\n",
       "      <th>team_a</th>\n",
       "      <th>score_a</th>\n",
       "      <th>score_b</th>\n",
       "      <th>team_b</th>\n",
       "    </tr>\n",
       "  </thead>\n",
       "  <tbody>\n",
       "    <tr>\n",
       "      <th>0</th>\n",
       "      <td>Overt</td>\n",
       "      <td>13</td>\n",
       "      <td>16</td>\n",
       "      <td>Incept</td>\n",
       "    </tr>\n",
       "    <tr>\n",
       "      <th>1</th>\n",
       "      <td>HZ</td>\n",
       "      <td>0</td>\n",
       "      <td>3</td>\n",
       "      <td>Invictus</td>\n",
       "    </tr>\n",
       "    <tr>\n",
       "      <th>2</th>\n",
       "      <td>Rooster</td>\n",
       "      <td>2</td>\n",
       "      <td>0</td>\n",
       "      <td>TRUCKERS WITH ATTITUDE</td>\n",
       "    </tr>\n",
       "    <tr>\n",
       "      <th>3</th>\n",
       "      <td>Nordavind</td>\n",
       "      <td>2</td>\n",
       "      <td>0</td>\n",
       "      <td>PACT</td>\n",
       "    </tr>\n",
       "    <tr>\n",
       "      <th>4</th>\n",
       "      <td>Mazaalai</td>\n",
       "      <td>0</td>\n",
       "      <td>2</td>\n",
       "      <td>Beyond</td>\n",
       "    </tr>\n",
       "    <tr>\n",
       "      <th>...</th>\n",
       "      <td>...</td>\n",
       "      <td>...</td>\n",
       "      <td>...</td>\n",
       "      <td>...</td>\n",
       "    </tr>\n",
       "    <tr>\n",
       "      <th>95</th>\n",
       "      <td>AA</td>\n",
       "      <td>14</td>\n",
       "      <td>16</td>\n",
       "      <td>blood, sweat, and tears</td>\n",
       "    </tr>\n",
       "    <tr>\n",
       "      <th>96</th>\n",
       "      <td>MIBR</td>\n",
       "      <td>0</td>\n",
       "      <td>2</td>\n",
       "      <td>Evil Geniuses</td>\n",
       "    </tr>\n",
       "    <tr>\n",
       "      <th>97</th>\n",
       "      <td>9z</td>\n",
       "      <td>2</td>\n",
       "      <td>0</td>\n",
       "      <td>Ultimate</td>\n",
       "    </tr>\n",
       "    <tr>\n",
       "      <th>98</th>\n",
       "      <td>Complexity</td>\n",
       "      <td>2</td>\n",
       "      <td>1</td>\n",
       "      <td>Vitality</td>\n",
       "    </tr>\n",
       "    <tr>\n",
       "      <th>99</th>\n",
       "      <td>TheDice</td>\n",
       "      <td>2</td>\n",
       "      <td>1</td>\n",
       "      <td>Apologis</td>\n",
       "    </tr>\n",
       "  </tbody>\n",
       "</table>\n",
       "<p>100 rows × 4 columns</p>\n",
       "</div>"
      ],
      "text/plain": [
       "        team_a score_a score_b                   team_b\n",
       "0        Overt      13      16                   Incept\n",
       "1           HZ       0       3                 Invictus\n",
       "2      Rooster       2       0   TRUCKERS WITH ATTITUDE\n",
       "3    Nordavind       2       0                     PACT\n",
       "4     Mazaalai       0       2                   Beyond\n",
       "..         ...     ...     ...                      ...\n",
       "95          AA      14      16  blood, sweat, and tears\n",
       "96        MIBR       0       2            Evil Geniuses\n",
       "97          9z       2       0                 Ultimate\n",
       "98  Complexity       2       1                 Vitality\n",
       "99     TheDice       2       1                 Apologis\n",
       "\n",
       "[100 rows x 4 columns]"
      ]
     },
     "execution_count": 21,
     "metadata": {},
     "output_type": "execute_result"
    }
   ],
   "source": [
    "df"
   ]
  },
  {
   "cell_type": "code",
   "execution_count": 27,
   "metadata": {
    "ExecuteTime": {
     "end_time": "2020-03-20T19:28:38.341021Z",
     "start_time": "2020-03-20T19:28:38.329080Z"
    }
   },
   "outputs": [
    {
     "data": {
      "text/plain": [
       "<selenium.webdriver.remote.webelement.WebElement (session=\"6bb748171e7c7032eb914d8f127cf80d\", element=\"07f539e9-e7d6-4b9f-9b9f-438749ce6849\")>"
      ]
     },
     "execution_count": 27,
     "metadata": {},
     "output_type": "execute_result"
    }
   ],
   "source": [
    "elem = driver.find_element_by_class_name('pagination-next')\n",
    "elem"
   ]
  },
  {
   "cell_type": "code",
   "execution_count": null,
   "metadata": {},
   "outputs": [],
   "source": [
    "/html/body/div[3]/div/div[2]/div[1]/div[2]/div[6]/div[2]/span"
   ]
  },
  {
   "cell_type": "code",
   "execution_count": 28,
   "metadata": {
    "ExecuteTime": {
     "end_time": "2020-03-20T19:31:35.918711Z",
     "start_time": "2020-03-20T19:31:16.977849Z"
    }
   },
   "outputs": [
    {
     "ename": "NoSuchElementException",
     "evalue": "Message: no such element: Unable to locate element: {\"method\":\"xpath\",\"selector\":\"/html/body/div[2]/div/div[2]/div[1]/div/div[1]/span\"}\n  (Session info: chrome=83.0.4103.116)\n",
     "output_type": "error",
     "traceback": [
      "\u001b[1;31m---------------------------------------------------------------------------\u001b[0m",
      "\u001b[1;31mNoSuchElementException\u001b[0m                    Traceback (most recent call last)",
      "\u001b[1;32m<ipython-input-28-78362958d388>\u001b[0m in \u001b[0;36m<module>\u001b[1;34m\u001b[0m\n\u001b[1;32m----> 1\u001b[1;33m \u001b[1;32mwhile\u001b[0m \u001b[1;34m'1500'\u001b[0m \u001b[1;32mnot\u001b[0m \u001b[1;32min\u001b[0m \u001b[0mdriver\u001b[0m\u001b[1;33m.\u001b[0m\u001b[0mfind_element_by_xpath\u001b[0m\u001b[1;33m(\u001b[0m\u001b[1;34m'/html/body/div[2]/div/div[2]/div[1]/div/div[1]/span'\u001b[0m\u001b[1;33m)\u001b[0m\u001b[1;33m.\u001b[0m\u001b[0mtext\u001b[0m\u001b[1;33m:\u001b[0m\u001b[1;33m\u001b[0m\u001b[1;33m\u001b[0m\u001b[0m\n\u001b[0m\u001b[0;32m      2\u001b[0m     \u001b[0melem\u001b[0m \u001b[1;33m=\u001b[0m \u001b[0mdriver\u001b[0m\u001b[1;33m.\u001b[0m\u001b[0mfind_element_by_xpath\u001b[0m\u001b[1;33m(\u001b[0m\u001b[1;34m'/html/body/div[2]/div/div[2]/div[1]/div/div[1]/a[2]'\u001b[0m\u001b[1;33m)\u001b[0m\u001b[1;33m\u001b[0m\u001b[1;33m\u001b[0m\u001b[0m\n\u001b[0;32m      3\u001b[0m     \u001b[0melem\u001b[0m\u001b[1;33m.\u001b[0m\u001b[0mclick\u001b[0m\u001b[1;33m(\u001b[0m\u001b[1;33m)\u001b[0m\u001b[1;33m\u001b[0m\u001b[1;33m\u001b[0m\u001b[0m\n",
      "\u001b[1;32mC:\\Anaconda3\\lib\\site-packages\\selenium\\webdriver\\remote\\webdriver.py\u001b[0m in \u001b[0;36mfind_element_by_xpath\u001b[1;34m(self, xpath)\u001b[0m\n\u001b[0;32m    392\u001b[0m             \u001b[0melement\u001b[0m \u001b[1;33m=\u001b[0m \u001b[0mdriver\u001b[0m\u001b[1;33m.\u001b[0m\u001b[0mfind_element_by_xpath\u001b[0m\u001b[1;33m(\u001b[0m\u001b[1;34m'//div/td[1]'\u001b[0m\u001b[1;33m)\u001b[0m\u001b[1;33m\u001b[0m\u001b[1;33m\u001b[0m\u001b[0m\n\u001b[0;32m    393\u001b[0m         \"\"\"\n\u001b[1;32m--> 394\u001b[1;33m         \u001b[1;32mreturn\u001b[0m \u001b[0mself\u001b[0m\u001b[1;33m.\u001b[0m\u001b[0mfind_element\u001b[0m\u001b[1;33m(\u001b[0m\u001b[0mby\u001b[0m\u001b[1;33m=\u001b[0m\u001b[0mBy\u001b[0m\u001b[1;33m.\u001b[0m\u001b[0mXPATH\u001b[0m\u001b[1;33m,\u001b[0m \u001b[0mvalue\u001b[0m\u001b[1;33m=\u001b[0m\u001b[0mxpath\u001b[0m\u001b[1;33m)\u001b[0m\u001b[1;33m\u001b[0m\u001b[1;33m\u001b[0m\u001b[0m\n\u001b[0m\u001b[0;32m    395\u001b[0m \u001b[1;33m\u001b[0m\u001b[0m\n\u001b[0;32m    396\u001b[0m     \u001b[1;32mdef\u001b[0m \u001b[0mfind_elements_by_xpath\u001b[0m\u001b[1;33m(\u001b[0m\u001b[0mself\u001b[0m\u001b[1;33m,\u001b[0m \u001b[0mxpath\u001b[0m\u001b[1;33m)\u001b[0m\u001b[1;33m:\u001b[0m\u001b[1;33m\u001b[0m\u001b[1;33m\u001b[0m\u001b[0m\n",
      "\u001b[1;32mC:\\Anaconda3\\lib\\site-packages\\selenium\\webdriver\\remote\\webdriver.py\u001b[0m in \u001b[0;36mfind_element\u001b[1;34m(self, by, value)\u001b[0m\n\u001b[0;32m    976\u001b[0m         return self.execute(Command.FIND_ELEMENT, {\n\u001b[0;32m    977\u001b[0m             \u001b[1;34m'using'\u001b[0m\u001b[1;33m:\u001b[0m \u001b[0mby\u001b[0m\u001b[1;33m,\u001b[0m\u001b[1;33m\u001b[0m\u001b[1;33m\u001b[0m\u001b[0m\n\u001b[1;32m--> 978\u001b[1;33m             'value': value})['value']\n\u001b[0m\u001b[0;32m    979\u001b[0m \u001b[1;33m\u001b[0m\u001b[0m\n\u001b[0;32m    980\u001b[0m     \u001b[1;32mdef\u001b[0m \u001b[0mfind_elements\u001b[0m\u001b[1;33m(\u001b[0m\u001b[0mself\u001b[0m\u001b[1;33m,\u001b[0m \u001b[0mby\u001b[0m\u001b[1;33m=\u001b[0m\u001b[0mBy\u001b[0m\u001b[1;33m.\u001b[0m\u001b[0mID\u001b[0m\u001b[1;33m,\u001b[0m \u001b[0mvalue\u001b[0m\u001b[1;33m=\u001b[0m\u001b[1;32mNone\u001b[0m\u001b[1;33m)\u001b[0m\u001b[1;33m:\u001b[0m\u001b[1;33m\u001b[0m\u001b[1;33m\u001b[0m\u001b[0m\n",
      "\u001b[1;32mC:\\Anaconda3\\lib\\site-packages\\selenium\\webdriver\\remote\\webdriver.py\u001b[0m in \u001b[0;36mexecute\u001b[1;34m(self, driver_command, params)\u001b[0m\n\u001b[0;32m    319\u001b[0m         \u001b[0mresponse\u001b[0m \u001b[1;33m=\u001b[0m \u001b[0mself\u001b[0m\u001b[1;33m.\u001b[0m\u001b[0mcommand_executor\u001b[0m\u001b[1;33m.\u001b[0m\u001b[0mexecute\u001b[0m\u001b[1;33m(\u001b[0m\u001b[0mdriver_command\u001b[0m\u001b[1;33m,\u001b[0m \u001b[0mparams\u001b[0m\u001b[1;33m)\u001b[0m\u001b[1;33m\u001b[0m\u001b[1;33m\u001b[0m\u001b[0m\n\u001b[0;32m    320\u001b[0m         \u001b[1;32mif\u001b[0m \u001b[0mresponse\u001b[0m\u001b[1;33m:\u001b[0m\u001b[1;33m\u001b[0m\u001b[1;33m\u001b[0m\u001b[0m\n\u001b[1;32m--> 321\u001b[1;33m             \u001b[0mself\u001b[0m\u001b[1;33m.\u001b[0m\u001b[0merror_handler\u001b[0m\u001b[1;33m.\u001b[0m\u001b[0mcheck_response\u001b[0m\u001b[1;33m(\u001b[0m\u001b[0mresponse\u001b[0m\u001b[1;33m)\u001b[0m\u001b[1;33m\u001b[0m\u001b[1;33m\u001b[0m\u001b[0m\n\u001b[0m\u001b[0;32m    322\u001b[0m             response['value'] = self._unwrap_value(\n\u001b[0;32m    323\u001b[0m                 response.get('value', None))\n",
      "\u001b[1;32mC:\\Anaconda3\\lib\\site-packages\\selenium\\webdriver\\remote\\errorhandler.py\u001b[0m in \u001b[0;36mcheck_response\u001b[1;34m(self, response)\u001b[0m\n\u001b[0;32m    240\u001b[0m                 \u001b[0malert_text\u001b[0m \u001b[1;33m=\u001b[0m \u001b[0mvalue\u001b[0m\u001b[1;33m[\u001b[0m\u001b[1;34m'alert'\u001b[0m\u001b[1;33m]\u001b[0m\u001b[1;33m.\u001b[0m\u001b[0mget\u001b[0m\u001b[1;33m(\u001b[0m\u001b[1;34m'text'\u001b[0m\u001b[1;33m)\u001b[0m\u001b[1;33m\u001b[0m\u001b[1;33m\u001b[0m\u001b[0m\n\u001b[0;32m    241\u001b[0m             \u001b[1;32mraise\u001b[0m \u001b[0mexception_class\u001b[0m\u001b[1;33m(\u001b[0m\u001b[0mmessage\u001b[0m\u001b[1;33m,\u001b[0m \u001b[0mscreen\u001b[0m\u001b[1;33m,\u001b[0m \u001b[0mstacktrace\u001b[0m\u001b[1;33m,\u001b[0m \u001b[0malert_text\u001b[0m\u001b[1;33m)\u001b[0m\u001b[1;33m\u001b[0m\u001b[1;33m\u001b[0m\u001b[0m\n\u001b[1;32m--> 242\u001b[1;33m         \u001b[1;32mraise\u001b[0m \u001b[0mexception_class\u001b[0m\u001b[1;33m(\u001b[0m\u001b[0mmessage\u001b[0m\u001b[1;33m,\u001b[0m \u001b[0mscreen\u001b[0m\u001b[1;33m,\u001b[0m \u001b[0mstacktrace\u001b[0m\u001b[1;33m)\u001b[0m\u001b[1;33m\u001b[0m\u001b[1;33m\u001b[0m\u001b[0m\n\u001b[0m\u001b[0;32m    243\u001b[0m \u001b[1;33m\u001b[0m\u001b[0m\n\u001b[0;32m    244\u001b[0m     \u001b[1;32mdef\u001b[0m \u001b[0m_value_or_default\u001b[0m\u001b[1;33m(\u001b[0m\u001b[0mself\u001b[0m\u001b[1;33m,\u001b[0m \u001b[0mobj\u001b[0m\u001b[1;33m,\u001b[0m \u001b[0mkey\u001b[0m\u001b[1;33m,\u001b[0m \u001b[0mdefault\u001b[0m\u001b[1;33m)\u001b[0m\u001b[1;33m:\u001b[0m\u001b[1;33m\u001b[0m\u001b[1;33m\u001b[0m\u001b[0m\n",
      "\u001b[1;31mNoSuchElementException\u001b[0m: Message: no such element: Unable to locate element: {\"method\":\"xpath\",\"selector\":\"/html/body/div[2]/div/div[2]/div[1]/div/div[1]/span\"}\n  (Session info: chrome=83.0.4103.116)\n"
     ]
    }
   ],
   "source": [
    "while '1500' not in driver.find_element_by_xpath('/html/body/div[2]/div/div[2]/div[1]/div/div[1]/span').text:\n",
    "    elem = driver.find_element_by_xpath('/html/body/div[2]/div/div[2]/div[1]/div/div[1]/a[2]')\n",
    "    elem.click()"
   ]
  },
  {
   "cell_type": "code",
   "execution_count": 208,
   "metadata": {
    "ExecuteTime": {
     "end_time": "2020-03-20T19:31:01.833610Z",
     "start_time": "2020-03-20T19:31:01.807656Z"
    }
   },
   "outputs": [
    {
     "data": {
      "text/plain": [
       "'301 - 400 of 51924'"
      ]
     },
     "execution_count": 208,
     "metadata": {},
     "output_type": "execute_result"
    }
   ],
   "source": []
  }
 ],
 "metadata": {
  "kernelspec": {
   "display_name": "Python 3",
   "language": "python",
   "name": "python3"
  },
  "toc": {
   "base_numbering": 1,
   "nav_menu": {},
   "number_sections": true,
   "sideBar": true,
   "skip_h1_title": false,
   "title_cell": "Table of Contents",
   "title_sidebar": "Contents",
   "toc_cell": false,
   "toc_position": {},
   "toc_section_display": true,
   "toc_window_display": false
  },
  "varInspector": {
   "cols": {
    "lenName": 16,
    "lenType": 16,
    "lenVar": 40
   },
   "kernels_config": {
    "python": {
     "delete_cmd_postfix": "",
     "delete_cmd_prefix": "del ",
     "library": "var_list.py",
     "varRefreshCmd": "print(var_dic_list())"
    },
    "r": {
     "delete_cmd_postfix": ") ",
     "delete_cmd_prefix": "rm(",
     "library": "var_list.r",
     "varRefreshCmd": "cat(var_dic_list()) "
    }
   },
   "types_to_exclude": [
    "module",
    "function",
    "builtin_function_or_method",
    "instance",
    "_Feature"
   ],
   "window_display": false
  }
 },
 "nbformat": 4,
 "nbformat_minor": 2
}
