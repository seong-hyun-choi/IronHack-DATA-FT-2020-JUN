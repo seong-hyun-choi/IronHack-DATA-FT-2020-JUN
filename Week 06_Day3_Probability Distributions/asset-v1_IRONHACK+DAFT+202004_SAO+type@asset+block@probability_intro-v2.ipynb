{
 "cells": [
  {
   "cell_type": "markdown",
   "metadata": {},
   "source": [
    "\n",
    "# Probability"
   ]
  },
  {
   "cell_type": "markdown",
   "metadata": {},
   "source": [
    "## Key Concepts:\n",
    "\n",
    "### Sample Space"
   ]
  },
  {
   "cell_type": "markdown",
   "metadata": {
    "ExecuteTime": {
     "end_time": "2020-04-09T19:24:34.049973Z",
     "start_time": "2020-04-09T19:24:34.044986Z"
    }
   },
   "source": [
    "All the possible outcomes of an experiment. Examples:\n",
    "    - Flip of a coin: Ω = {'Cara','Coroa'}\n",
    "    - Roll of a dice: Ω = {1,2,3,4,5,6}\n",
    "    \n",
    "Omega is the nomenclature for a sample space: <b> Ω = {} </b>"
   ]
  },
  {
   "cell_type": "markdown",
   "metadata": {},
   "source": [
    "### Event\n",
    "\n"
   ]
  },
  {
   "cell_type": "markdown",
   "metadata": {},
   "source": [
    "Subset of our sample space:\n",
    "- even number of dice $\\rightarrow $ <b> A = {2, 4, 6} </b>\n",
    "    "
   ]
  },
  {
   "cell_type": "markdown",
   "metadata": {},
   "source": [
    "### Probability"
   ]
  },
  {
   "cell_type": "markdown",
   "metadata": {},
   "source": [
    "The probability of an event to happen is: \n",
    "\n",
    "$$P(event) = \\frac{\\text{number of outcomes of an event}}{\\text{number of outcomes of the sample space}}$$"
   ]
  },
  {
   "cell_type": "markdown",
   "metadata": {
    "ExecuteTime": {
     "end_time": "2020-04-09T19:35:04.548226Z",
     "start_time": "2020-04-09T19:35:04.543240Z"
    }
   },
   "source": [
    "$$P(A) = \\frac{len(A)}{len(Ω)} = \\frac{3}{6} = \\frac{1}{2} = 50\\% $$"
   ]
  },
  {
   "cell_type": "markdown",
   "metadata": {
    "ExecuteTime": {
     "end_time": "2020-04-10T13:20:01.470804Z",
     "start_time": "2020-04-10T13:20:01.467812Z"
    },
    "collapsed": true
   },
   "source": [
    "### What is the probability of the entire sample space?"
   ]
  },
  {
   "cell_type": "markdown",
   "metadata": {},
   "source": [
    "$$P(A) = \\frac{len(Ω)}{len(Ω)} = 1 = 100\\% $$"
   ]
  },
  {
   "cell_type": "markdown",
   "metadata": {},
   "source": [
    "## Simulating scenarios"
   ]
  },
  {
   "cell_type": "code",
   "execution_count": 1,
   "metadata": {
    "ExecuteTime": {
     "end_time": "2020-04-29T22:47:04.210771Z",
     "start_time": "2020-04-29T22:47:04.140788Z"
    }
   },
   "outputs": [],
   "source": [
    "import numpy as np"
   ]
  },
  {
   "cell_type": "code",
   "execution_count": 2,
   "metadata": {
    "ExecuteTime": {
     "end_time": "2020-04-29T22:47:04.745314Z",
     "start_time": "2020-04-29T22:47:04.212738Z"
    }
   },
   "outputs": [
    {
     "name": "stdout",
     "output_type": "stream",
     "text": [
      "50.0%\n"
     ]
    }
   ],
   "source": [
    "def is_even(x):\n",
    "    if x % 2 == 0:\n",
    "        return True\n",
    "    else:\n",
    "        return False\n",
    "    \n",
    "dice = [1, 2, 3, 4, 5, 6]\n",
    "\n",
    "dice_rolls = np.random.choice(dice, size=1000000)\n",
    "\n",
    "count_events = len([item for item in dice_rolls if is_even(item)])\n",
    "count_rolls  = len(dice_rolls)\n",
    "\n",
    "print(f'{count_events / count_rolls *100:.1f}%')"
   ]
  },
  {
   "cell_type": "markdown",
   "metadata": {},
   "source": [
    "## Union\n",
    "\n",
    "Event: \n",
    "\n",
    "A = even = {2, 4, 6}<br>\n",
    "B = greater than 4 = {5, 6}\n",
    "\n",
    "A U B = {2, 4, 5, 6}"
   ]
  },
  {
   "cell_type": "markdown",
   "metadata": {},
   "source": [
    "### Mutual Exclusivity\n",
    "\n",
    "Events that have no intersection: \n",
    "\n",
    "Events: even and odd numbers of dice\n",
    "\n",
    "A = {1, 3, 5}<br>\n",
    "B = {2, 4, 6}\n",
    "\n",
    "$ A ∩ B = \\{\\} $"
   ]
  },
  {
   "cell_type": "code",
   "execution_count": null,
   "metadata": {
    "ExecuteTime": {
     "end_time": "2020-04-29T22:47:04.749328Z",
     "start_time": "2020-04-29T22:47:04.746312Z"
    }
   },
   "outputs": [],
   "source": [
    "# What is the sum of the probability of all mutual exclusive events ?\n",
    "\n",
    "# P(1) + P(2) + P(3) + ... + P(6) = 100%"
   ]
  },
  {
   "cell_type": "markdown",
   "metadata": {},
   "source": [
    "Event: \n",
    "\n",
    "A = even = {2, 4, 6} <br>\n",
    "C = less than 4 = {1, 2, 3}\n",
    "\n",
    "Are they mutually exclusive?\n",
    "\n",
    "No, because 𝐴∩C = {2}"
   ]
  },
  {
   "cell_type": "markdown",
   "metadata": {
    "ExecuteTime": {
     "end_time": "2020-04-09T20:14:37.283320Z",
     "start_time": "2020-04-09T20:14:37.281327Z"
    }
   },
   "source": [
    "### Conditional Probability"
   ]
  },
  {
   "cell_type": "markdown",
   "metadata": {},
   "source": [
    "P(A|B) $\\rightarrow$ Probability of event A to happen given that event B happens"
   ]
  },
  {
   "cell_type": "markdown",
   "metadata": {
    "ExecuteTime": {
     "end_time": "2020-04-09T20:16:19.542584Z",
     "start_time": "2020-04-09T20:16:19.538570Z"
    }
   },
   "source": [
    "$$ P(A|B) = \\frac{P(𝐴∩𝐵)}{P(B)} $$"
   ]
  },
  {
   "cell_type": "markdown",
   "metadata": {},
   "source": [
    "Example:\n",
    "\n",
    "The probability that a die roll is less than 3 given that it is odd"
   ]
  },
  {
   "cell_type": "markdown",
   "metadata": {},
   "source": [
    "Sample Space = {1,2,3,4,5,6}\n",
    "\n",
    "Events:\n",
    "- A = less than 3 = {1,2}\n",
    "- B = odd = {1,3,5}\n",
    "\n",
    "- A ∩ B = {1}\n",
    "\n",
    "$$ P(A|B) = \\frac{P(𝐴∩𝐵)}{P(B)} = \\frac{1}{3} $$"
   ]
  },
  {
   "cell_type": "markdown",
   "metadata": {},
   "source": [
    "-----"
   ]
  },
  {
   "cell_type": "markdown",
   "metadata": {},
   "source": [
    "## Mounty Hall Problem"
   ]
  },
  {
   "cell_type": "code",
   "execution_count": null,
   "metadata": {
    "ExecuteTime": {
     "end_time": "2020-04-29T22:47:04.756329Z",
     "start_time": "2020-04-29T22:47:04.751299Z"
    }
   },
   "outputs": [],
   "source": [
    "def mounty_hall(decision):\n",
    "    choices = [1,2,3]\n",
    "    your_choice = np.random.choice(choices)\n",
    "    premium = np.random.choice(choices)\n",
    "    #print(choices, premium)\n",
    "    # open a door\n",
    "    cabras = [item for item in choices if item != premium]\n",
    "    #print(cabras)\n",
    "    \n",
    "    # select a cabra from a subset that is not your choice\n",
    "    door_to_open = np.random.choice([door for door in cabras if door != your_choice])\n",
    "    \n",
    "    # remove cabra from choices\n",
    "    choices.remove(door_to_open)\n",
    "    doors_remaining = choices\n",
    "    \n",
    "    #print(your_choice, premium,  choices, door_to_open)\n",
    "    \n",
    "    # switch choices\n",
    "    doors_remaining.remove(your_choice)\n",
    "    \n",
    "    if decision == 'switch':\n",
    "        final_choice = doors_remaining\n",
    "    else:\n",
    "        final_choice = your_choice\n",
    "        \n",
    "    #print(final_choice, premium)\n",
    "    if final_choice == premium:\n",
    "        return True\n",
    "    else:\n",
    "        return False"
   ]
  },
  {
   "cell_type": "code",
   "execution_count": null,
   "metadata": {
    "ExecuteTime": {
     "end_time": "2020-04-29T22:47:06.159165Z",
     "start_time": "2020-04-29T22:47:04.758280Z"
    }
   },
   "outputs": [],
   "source": [
    "import numpy as np\n",
    "np.mean([mounty_hall('not switch') for i in range(100000)])"
   ]
  },
  {
   "cell_type": "markdown",
   "metadata": {},
   "source": [
    "# DISCRETE PROBABILITY DISTRIBUTIONS"
   ]
  },
  {
   "cell_type": "code",
   "execution_count": null,
   "metadata": {
    "ExecuteTime": {
     "end_time": "2020-04-30T00:07:55.911627Z",
     "start_time": "2020-04-30T00:07:55.907638Z"
    }
   },
   "outputs": [],
   "source": [
    "import numpy as np\n",
    "import seaborn as sns\n",
    "import pandas as pd\n",
    "import matplotlib.pyplot as plt"
   ]
  },
  {
   "cell_type": "markdown",
   "metadata": {},
   "source": [
    "## Random Variables"
   ]
  },
  {
   "cell_type": "markdown",
   "metadata": {},
   "source": [
    "The map of <b>outcomes $\\rightarrow$ numbers</b>"
   ]
  },
  {
   "cell_type": "markdown",
   "metadata": {},
   "source": [
    "Discrete vs Continuous Distributions:\n",
    "\n",
    "Discrete\n",
    "- Dice roll\n",
    "- Nome escolhido aleatoriamente\n",
    "\n",
    "Continuous\n",
    "- Renda de um cliente aleatorio\n",
    "- Peso de um animal do meu dataset"
   ]
  },
  {
   "cell_type": "markdown",
   "metadata": {},
   "source": [
    "### Discrete Uniform Distribution"
   ]
  },
  {
   "cell_type": "code",
   "execution_count": null,
   "metadata": {
    "ExecuteTime": {
     "end_time": "2020-04-29T22:47:07.455458Z",
     "start_time": "2020-04-29T22:47:07.257987Z"
    }
   },
   "outputs": [],
   "source": [
    "sns.distplot(np.random.randint(0, 100, size=100), kde=False, bins = 100)"
   ]
  },
  {
   "cell_type": "code",
   "execution_count": null,
   "metadata": {
    "ExecuteTime": {
     "end_time": "2020-04-30T00:13:57.118676Z",
     "start_time": "2020-04-30T00:13:56.657534Z"
    }
   },
   "outputs": [],
   "source": [
    "sns.distplot(np.random.randint(0, 100, size=10000000), kde=False, bins = 100)"
   ]
  },
  {
   "cell_type": "code",
   "execution_count": null,
   "metadata": {
    "ExecuteTime": {
     "end_time": "2020-04-30T00:14:48.232951Z",
     "start_time": "2020-04-30T00:14:47.622648Z"
    }
   },
   "outputs": [],
   "source": [
    "megasena = pd.read_csv(\"https://gist.githubusercontent.com/ikkebr/ce0b74f6d0dbf5a42015/raw/7f5120491feba60906946b56f5b88fb44382f11a/megasena.csv\", sep=';')\n",
    "megasena.head()"
   ]
  },
  {
   "cell_type": "code",
   "execution_count": null,
   "metadata": {
    "ExecuteTime": {
     "end_time": "2020-04-30T00:15:27.573262Z",
     "start_time": "2020-04-30T00:15:27.447598Z"
    }
   },
   "outputs": [],
   "source": [
    "numeros = pd.concat([megasena.D1, \n",
    "                     megasena.D2, \n",
    "                     megasena.D3, \n",
    "                     megasena.D4, \n",
    "                     megasena.D5, \n",
    "                     megasena.D6]).reset_index(drop=True)\n",
    "numeros\n",
    "numeros.hist(bins=20)"
   ]
  },
  {
   "cell_type": "code",
   "execution_count": null,
   "metadata": {
    "ExecuteTime": {
     "end_time": "2020-04-30T00:15:56.052286Z",
     "start_time": "2020-04-30T00:15:56.045304Z"
    },
    "scrolled": true
   },
   "outputs": [],
   "source": [
    "numeros.value_counts(normalize=True).sort_values(ascending=False)"
   ]
  },
  {
   "cell_type": "code",
   "execution_count": null,
   "metadata": {
    "ExecuteTime": {
     "end_time": "2020-04-30T00:18:48.835287Z",
     "start_time": "2020-04-30T00:18:48.411420Z"
    }
   },
   "outputs": [],
   "source": [
    "sns.countplot(x=numeros, color='green', orient='h');"
   ]
  },
  {
   "cell_type": "markdown",
   "metadata": {},
   "source": [
    "### Bernoulli Distribution\n"
   ]
  },
  {
   "cell_type": "markdown",
   "metadata": {},
   "source": [
    "The distribution for 0 and 1 outcomes. If the probability of an event being true is p, then the probability of it being false will be 1-p (because it has to sum 1, remember?)"
   ]
  },
  {
   "attachments": {
    "image.png": {
     "image/png": "[encoded data removed]"
    }
   },
   "cell_type": "markdown",
   "metadata": {},
   "source": [
    "![image.png](attachment:image.png)"
   ]
  },
  {
   "cell_type": "markdown",
   "metadata": {},
   "source": [
    "example:\n",
    "\n",
    "- biased coin"
   ]
  },
  {
   "cell_type": "markdown",
   "metadata": {},
   "source": [
    "### Binomial Distribution\n"
   ]
  },
  {
   "cell_type": "markdown",
   "metadata": {},
   "source": [
    "This is the same as before, except it is now a <b>sequence</b> of events. For instance, imagine you flip a coin twice. \n",
    "The binomial distribution represents the probability of obtaining exactly <b>k</b> successes flipping the coin <b>n</b> times."
   ]
  },
  {
   "cell_type": "markdown",
   "metadata": {},
   "source": [
    "### The Binomial Distribution in Python\n"
   ]
  },
  {
   "cell_type": "markdown",
   "metadata": {},
   "source": [
    "<b>Example: </b>The probability of a biased coin with a 30% chance of heads, being heads 5 times in 10 flips"
   ]
  },
  {
   "cell_type": "markdown",
   "metadata": {},
   "source": [
    "### PROBABILITY MASS FUNCTION (PMF)"
   ]
  },
  {
   "cell_type": "markdown",
   "metadata": {},
   "source": [
    "A function that gives the probability that a discrete random variable is <b> exactly </b> equal a  specific value."
   ]
  },
  {
   "cell_type": "markdown",
   "metadata": {},
   "source": [
    "For binomial distribution, you create it given:\n",
    "    $$ binom(n, p)$$ "
   ]
  },
  {
   "cell_type": "code",
   "execution_count": null,
   "metadata": {
    "ExecuteTime": {
     "end_time": "2020-04-30T00:40:23.467908Z",
     "start_time": "2020-04-30T00:40:23.463891Z"
    }
   },
   "outputs": [],
   "source": [
    "from scipy.stats import binom\n",
    "\n",
    "# 10 flips\n",
    "# 0.3 chance of success\n",
    "\n",
    "dist = binom(10, 0.3)"
   ]
  },
  {
   "cell_type": "code",
   "execution_count": null,
   "metadata": {
    "ExecuteTime": {
     "end_time": "2020-04-30T00:40:25.319397Z",
     "start_time": "2020-04-30T00:40:25.314438Z"
    }
   },
   "outputs": [],
   "source": [
    "# probability of obtaining exactly 5 successes (exactly 5 times == 'HEADS')\n",
    "dist.pmf(5)"
   ]
  },
  {
   "cell_type": "code",
   "execution_count": null,
   "metadata": {
    "ExecuteTime": {
     "end_time": "2020-04-30T00:40:25.948939Z",
     "start_time": "2020-04-30T00:40:25.835591Z"
    }
   },
   "outputs": [],
   "source": [
    "sns.barplot(x=np.arange(0,11), \n",
    "            y=dist.pmf(np.arange(0,11)),\n",
    "            color='blue')"
   ]
  },
  {
   "cell_type": "markdown",
   "metadata": {},
   "source": [
    "OR you can simulate this game."
   ]
  },
  {
   "cell_type": "code",
   "execution_count": null,
   "metadata": {
    "ExecuteTime": {
     "end_time": "2020-04-30T00:40:27.668147Z",
     "start_time": "2020-04-30T00:40:27.664158Z"
    }
   },
   "outputs": [],
   "source": [
    "np.random.choice([0, 1], p=[0.7, 0.3], size=10).sum() == 5"
   ]
  },
  {
   "cell_type": "code",
   "execution_count": null,
   "metadata": {
    "ExecuteTime": {
     "end_time": "2020-04-30T00:40:28.289485Z",
     "start_time": "2020-04-30T00:40:27.941417Z"
    }
   },
   "outputs": [],
   "source": [
    "np.mean([(np.random.choice([0, 1], p=[0.7, 0.3], size=10).sum() == 5) for i in range(10000)])"
   ]
  },
  {
   "cell_type": "code",
   "execution_count": null,
   "metadata": {
    "ExecuteTime": {
     "end_time": "2020-04-30T00:40:32.970160Z",
     "start_time": "2020-04-30T00:40:32.966201Z"
    }
   },
   "outputs": [],
   "source": [
    "from collections import Counter"
   ]
  },
  {
   "cell_type": "code",
   "execution_count": null,
   "metadata": {
    "ExecuteTime": {
     "end_time": "2020-04-30T00:40:47.614737Z",
     "start_time": "2020-04-30T00:40:43.060792Z"
    }
   },
   "outputs": [],
   "source": [
    "# using numpy\n",
    "np.mean([Counter(np.random.choice(['HEADS','TAILS'], p=[0.3, 0.7], size=10) )['HEADS'] == 5 for j in range(100000)])"
   ]
  },
  {
   "cell_type": "code",
   "execution_count": null,
   "metadata": {
    "ExecuteTime": {
     "end_time": "2020-04-30T00:42:39.632491Z",
     "start_time": "2020-04-30T00:42:39.627504Z"
    }
   },
   "outputs": [],
   "source": [
    "(np.random.binomial(10, 0.3))"
   ]
  },
  {
   "cell_type": "code",
   "execution_count": null,
   "metadata": {
    "ExecuteTime": {
     "end_time": "2020-04-29T22:47:13.428056Z",
     "start_time": "2020-04-29T22:47:13.423069Z"
    }
   },
   "outputs": [],
   "source": [
    "(np.random.binomial(10, 0.3, size=100))"
   ]
  },
  {
   "cell_type": "code",
   "execution_count": null,
   "metadata": {
    "ExecuteTime": {
     "end_time": "2020-04-29T22:47:13.434040Z",
     "start_time": "2020-04-29T22:47:13.429054Z"
    }
   },
   "outputs": [],
   "source": [
    "(np.random.binomial(10, 0.3, size=100) == 5)"
   ]
  },
  {
   "cell_type": "code",
   "execution_count": null,
   "metadata": {
    "ExecuteTime": {
     "end_time": "2020-04-29T22:47:13.472936Z",
     "start_time": "2020-04-29T22:47:13.435037Z"
    }
   },
   "outputs": [],
   "source": [
    "(np.random.binomial(10, 0.3, size=1000000) == 5).mean()"
   ]
  },
  {
   "cell_type": "code",
   "execution_count": null,
   "metadata": {
    "ExecuteTime": {
     "end_time": "2020-04-30T00:42:46.685568Z",
     "start_time": "2020-04-30T00:42:46.454215Z"
    }
   },
   "outputs": [],
   "source": [
    "# plot\n",
    "\n",
    "sns.distplot(np.random.binomial(10, 0.3, size=1000000), kde=False)"
   ]
  },
  {
   "cell_type": "markdown",
   "metadata": {},
   "source": [
    "### Geometric Distribution\n"
   ]
  },
  {
   "cell_type": "markdown",
   "metadata": {},
   "source": [
    "The geometric distribution describes how many trials are needed before we get an outcome of success (where only 2 outcomes exist - success and failure)."
   ]
  },
  {
   "cell_type": "markdown",
   "metadata": {},
   "source": [
    "### The Geometric Distribution in Python\n"
   ]
  },
  {
   "cell_type": "markdown",
   "metadata": {},
   "source": [
    "<b>Example:</b> The probability that it will take exactly 5 trials to get a first success for a 80% biased coin."
   ]
  },
  {
   "cell_type": "code",
   "execution_count": null,
   "metadata": {
    "ExecuteTime": {
     "end_time": "2020-04-30T00:52:48.220339Z",
     "start_time": "2020-04-30T00:52:48.215353Z"
    }
   },
   "outputs": [],
   "source": [
    "from scipy.stats import geom\n",
    "dist = geom(0.8)\n",
    "\n",
    "dist.pmf(3)"
   ]
  },
  {
   "cell_type": "code",
   "execution_count": null,
   "metadata": {
    "ExecuteTime": {
     "end_time": "2020-04-30T00:54:44.207391Z",
     "start_time": "2020-04-30T00:54:44.084694Z"
    }
   },
   "outputs": [],
   "source": [
    "dist = geom(0.4)\n",
    "\n",
    "sns.barplot(x=np.arange(0,11), \n",
    "            y=dist.pmf(np.arange(0,11)),\n",
    "            color='blue')"
   ]
  },
  {
   "cell_type": "code",
   "execution_count": null,
   "metadata": {
    "ExecuteTime": {
     "end_time": "2020-04-30T00:56:45.223784Z",
     "start_time": "2020-04-30T00:56:44.927576Z"
    }
   },
   "outputs": [],
   "source": [
    "(np.random.geometric(0.4, size=10000000) == 1).mean()"
   ]
  },
  {
   "cell_type": "code",
   "execution_count": null,
   "metadata": {
    "ExecuteTime": {
     "end_time": "2020-04-30T00:56:50.401569Z",
     "start_time": "2020-04-30T00:56:50.264322Z"
    }
   },
   "outputs": [],
   "source": [
    "sns.distplot(np.random.geometric(0.4, size=1000), kde=False);"
   ]
  },
  {
   "cell_type": "code",
   "execution_count": null,
   "metadata": {},
   "outputs": [],
   "source": []
  },
  {
   "cell_type": "markdown",
   "metadata": {},
   "source": [
    "# Poisson Distributions"
   ]
  },
  {
   "cell_type": "markdown",
   "metadata": {},
   "source": [
    "The Poisson distribution is popular for modeling the number of times an event occurs in an interval of time or space."
   ]
  },
  {
   "cell_type": "markdown",
   "metadata": {},
   "source": [
    "\n",
    "<b> Example </b>: Imagine you have a dataset and discover that the average number of clients in a fast food is ~5 a minute. \n",
    "What is the probability of the fast food receiving 7 new clients on the next minute? \n",
    "\n",
    "Conditions for Poisson Distribution:\n",
    "\n",
    "* An event can occur any number of times during a time period.\n",
    "* Events occur independently. \n",
    "* The rate of occurrence is constant; that is, the rate does not change based on time.\n",
    "* The probability of an event occurring is proportional to the length of the time period. "
   ]
  },
  {
   "cell_type": "code",
   "execution_count": null,
   "metadata": {
    "ExecuteTime": {
     "end_time": "2020-04-30T01:14:55.804241Z",
     "start_time": "2020-04-30T01:14:55.800253Z"
    }
   },
   "outputs": [],
   "source": [
    "from scipy.stats import poisson"
   ]
  },
  {
   "cell_type": "code",
   "execution_count": null,
   "metadata": {
    "ExecuteTime": {
     "end_time": "2020-04-30T01:15:26.132575Z",
     "start_time": "2020-04-30T01:15:26.129584Z"
    }
   },
   "outputs": [],
   "source": [
    "average = 5\n",
    "dist = poisson(average)"
   ]
  },
  {
   "cell_type": "code",
   "execution_count": null,
   "metadata": {
    "ExecuteTime": {
     "end_time": "2020-04-30T01:16:34.574921Z",
     "start_time": "2020-04-30T01:16:34.570905Z"
    }
   },
   "outputs": [],
   "source": [
    "dist.pmf(5)"
   ]
  },
  {
   "cell_type": "code",
   "execution_count": null,
   "metadata": {
    "ExecuteTime": {
     "end_time": "2020-04-30T01:17:07.531814Z",
     "start_time": "2020-04-30T01:17:07.526827Z"
    }
   },
   "outputs": [],
   "source": [
    "dist.pmf(10)"
   ]
  },
  {
   "cell_type": "code",
   "execution_count": null,
   "metadata": {
    "ExecuteTime": {
     "end_time": "2020-04-30T01:17:15.621571Z",
     "start_time": "2020-04-30T01:17:15.402130Z"
    }
   },
   "outputs": [],
   "source": [
    "plt.bar(range(11), dist.pmf(range(11)))"
   ]
  },
  {
   "cell_type": "markdown",
   "metadata": {},
   "source": [
    "## Example 2"
   ]
  },
  {
   "cell_type": "markdown",
   "metadata": {},
   "source": [
    "A call center receives an average of 4.5 calls every 5 minutes. Each agent can handle one of these calls over the 5 minute period. If a call is received, but no agent is available to take it, then that caller will be placed on hold. Assuming that the calls follow a Poisson distribution, what is the minimum number of agents needed on duty so that calls are placed on hold at most 10% of the time?"
   ]
  },
  {
   "cell_type": "code",
   "execution_count": null,
   "metadata": {
    "ExecuteTime": {
     "end_time": "2020-04-30T01:21:51.476064Z",
     "start_time": "2020-04-30T01:21:51.472074Z"
    }
   },
   "outputs": [],
   "source": [
    "average = 4.5\n",
    "dist = poisson(average)"
   ]
  },
  {
   "cell_type": "markdown",
   "metadata": {},
   "source": [
    "$ P(\\text{numero de ligacoes} > \\text{telefonistas}) \\le 10\\% $\n",
    "\n",
    "OU\n",
    "\n",
    "$ P(\\text{numero de ligacoes} \\le \\text{telefonistas}) > 90\\% $"
   ]
  },
  {
   "cell_type": "markdown",
   "metadata": {},
   "source": [
    "Probabilidade do número de ligações ser igual a zero:"
   ]
  },
  {
   "cell_type": "code",
   "execution_count": null,
   "metadata": {
    "ExecuteTime": {
     "end_time": "2020-04-30T01:23:29.036772Z",
     "start_time": "2020-04-30T01:23:29.031784Z"
    }
   },
   "outputs": [],
   "source": [
    "dist.pmf(0)"
   ]
  },
  {
   "cell_type": "markdown",
   "metadata": {},
   "source": [
    "$P(X = 0) = 0.011$<br>"
   ]
  },
  {
   "cell_type": "markdown",
   "metadata": {},
   "source": [
    "Probabilidade do número de ligações ser igual a 1:\n",
    "    "
   ]
  },
  {
   "cell_type": "code",
   "execution_count": null,
   "metadata": {
    "ExecuteTime": {
     "end_time": "2020-04-30T01:24:09.509030Z",
     "start_time": "2020-04-30T01:24:09.504044Z"
    }
   },
   "outputs": [],
   "source": [
    "dist.pmf(1)"
   ]
  },
  {
   "cell_type": "markdown",
   "metadata": {},
   "source": [
    "$P(X = 1) = 0.050$"
   ]
  },
  {
   "cell_type": "markdown",
   "metadata": {},
   "source": [
    "Qual a probabilidade então do número de ligações ser $\\le$ 1"
   ]
  },
  {
   "cell_type": "code",
   "execution_count": null,
   "metadata": {
    "ExecuteTime": {
     "end_time": "2020-04-30T01:26:56.365076Z",
     "start_time": "2020-04-30T01:26:56.359091Z"
    }
   },
   "outputs": [],
   "source": [
    "dist.pmf(0) + dist.pmf(1) + dist.pmf(2) + dist.pmf(3)"
   ]
  },
  {
   "cell_type": "code",
   "execution_count": null,
   "metadata": {
    "ExecuteTime": {
     "end_time": "2020-04-30T01:27:10.021731Z",
     "start_time": "2020-04-30T01:27:10.017740Z"
    }
   },
   "outputs": [],
   "source": [
    "dist.cdf(7)"
   ]
  },
  {
   "cell_type": "markdown",
   "metadata": {
    "ExecuteTime": {
     "end_time": "2020-04-10T15:24:59.902631Z",
     "start_time": "2020-04-10T15:24:59.899638Z"
    }
   },
   "source": [
    "$P(X = 0) = 0.011$<br>\n",
    "$P(X = 1) = 0.050  \\rightarrow P(X \\le 1) = 0.066 $<br>\n",
    "$P(X = 2) = 0.112  \\rightarrow P(X \\le 2) = 0.173 $<br>\n",
    "$P(X = 3) = 0.168  \\rightarrow P(X \\le 3) = 0.342 $<br>\n",
    "$P(X = 4) = 0.190  \\rightarrow P(X \\le 4) = 0.532 $<br>\n",
    "$P(X = 5) = 0.170  \\rightarrow P(X \\le 5) = 0.703 $<br>\n",
    "$P(X = 6) = 0.128  \\rightarrow P(X \\le 6) = 0.831 $<br>\n",
    "$P(X = 7) = 0.082  \\rightarrow P(X \\le 7) = 0.913 $<br>"
   ]
  },
  {
   "cell_type": "markdown",
   "metadata": {},
   "source": [
    "# Cumulative distribution function"
   ]
  },
  {
   "cell_type": "code",
   "execution_count": null,
   "metadata": {
    "ExecuteTime": {
     "end_time": "2020-04-29T23:59:07.473546Z",
     "start_time": "2020-04-29T23:59:07.468560Z"
    }
   },
   "outputs": [],
   "source": [
    "average = 4.5\n",
    "dist = poisson(average)\n",
    "\n",
    "# cumulative distribution function\n",
    "dist.cdf(10)"
   ]
  },
  {
   "cell_type": "markdown",
   "metadata": {},
   "source": [
    "# Normal Distribution"
   ]
  },
  {
   "cell_type": "code",
   "execution_count": null,
   "metadata": {
    "ExecuteTime": {
     "end_time": "2020-04-30T01:31:11.862498Z",
     "start_time": "2020-04-30T01:31:11.858510Z"
    }
   },
   "outputs": [],
   "source": [
    "from scipy.stats import norm\n",
    "\n",
    "dist = norm()"
   ]
  },
  {
   "cell_type": "code",
   "execution_count": null,
   "metadata": {
    "ExecuteTime": {
     "end_time": "2020-04-29T23:59:11.835683Z",
     "start_time": "2020-04-29T23:59:11.830671Z"
    }
   },
   "outputs": [],
   "source": [
    "dist.pdf(0)"
   ]
  },
  {
   "cell_type": "code",
   "execution_count": null,
   "metadata": {
    "ExecuteTime": {
     "end_time": "2020-04-30T01:31:27.300005Z",
     "start_time": "2020-04-30T01:31:27.296016Z"
    }
   },
   "outputs": [],
   "source": [
    "dist.cdf(0)"
   ]
  },
  {
   "cell_type": "code",
   "execution_count": null,
   "metadata": {
    "ExecuteTime": {
     "end_time": "2020-04-30T01:31:48.627204Z",
     "start_time": "2020-04-30T01:31:48.623212Z"
    }
   },
   "outputs": [],
   "source": [
    "dist.cdf(1)"
   ]
  },
  {
   "cell_type": "code",
   "execution_count": null,
   "metadata": {
    "ExecuteTime": {
     "end_time": "2020-04-30T01:32:20.269373Z",
     "start_time": "2020-04-30T01:32:20.264385Z"
    }
   },
   "outputs": [],
   "source": [
    "dist.cdf(1) - dist.cdf(-1)"
   ]
  },
  {
   "cell_type": "code",
   "execution_count": null,
   "metadata": {
    "ExecuteTime": {
     "end_time": "2020-04-30T01:32:33.954941Z",
     "start_time": "2020-04-30T01:32:33.949955Z"
    }
   },
   "outputs": [],
   "source": [
    "dist.cdf(2) - dist.cdf(-2)"
   ]
  },
  {
   "cell_type": "code",
   "execution_count": null,
   "metadata": {
    "ExecuteTime": {
     "end_time": "2020-04-30T01:32:34.281070Z",
     "start_time": "2020-04-30T01:32:34.277081Z"
    }
   },
   "outputs": [],
   "source": [
    "dist.cdf(3) - dist.cdf(-3)"
   ]
  },
  {
   "cell_type": "code",
   "execution_count": null,
   "metadata": {},
   "outputs": [],
   "source": []
  },
  {
   "cell_type": "code",
   "execution_count": null,
   "metadata": {},
   "outputs": [],
   "source": []
  },
  {
   "cell_type": "code",
   "execution_count": null,
   "metadata": {},
   "outputs": [],
   "source": []
  },
  {
   "cell_type": "code",
   "execution_count": null,
   "metadata": {},
   "outputs": [],
   "source": []
  },
  {
   "cell_type": "code",
   "execution_count": null,
   "metadata": {},
   "outputs": [],
   "source": []
  },
  {
   "cell_type": "markdown",
   "metadata": {},
   "source": [
    "# Example World Cup"
   ]
  },
  {
   "cell_type": "code",
   "execution_count": null,
   "metadata": {
    "ExecuteTime": {
     "end_time": "2020-04-30T01:30:02.966907Z",
     "start_time": "2020-04-30T01:30:02.951918Z"
    }
   },
   "outputs": [],
   "source": [
    "## Probabilidade de se fazer 7 gols em 1 jogo de copa do mundo?\n",
    "df = pd.read_csv('WorldCupMatches.csv')"
   ]
  },
  {
   "cell_type": "code",
   "execution_count": null,
   "metadata": {
    "ExecuteTime": {
     "end_time": "2020-04-30T01:30:03.186920Z",
     "start_time": "2020-04-30T01:30:03.163982Z"
    }
   },
   "outputs": [],
   "source": [
    "df.dropna().query('Year == 2014.0').query('`Away Team Name` == \"Brazil\"')"
   ]
  },
  {
   "cell_type": "code",
   "execution_count": null,
   "metadata": {
    "ExecuteTime": {
     "end_time": "2020-04-30T01:30:05.349185Z",
     "start_time": "2020-04-30T01:30:05.331206Z"
    }
   },
   "outputs": [],
   "source": [
    "df.sample(10)"
   ]
  },
  {
   "cell_type": "code",
   "execution_count": null,
   "metadata": {
    "ExecuteTime": {
     "end_time": "2020-04-29T23:59:08.810971Z",
     "start_time": "2020-04-29T23:59:08.799971Z"
    }
   },
   "outputs": [],
   "source": [
    "df = df.drop_duplicates()"
   ]
  },
  {
   "cell_type": "code",
   "execution_count": null,
   "metadata": {
    "ExecuteTime": {
     "end_time": "2020-04-29T23:59:09.061822Z",
     "start_time": "2020-04-29T23:59:09.057779Z"
    }
   },
   "outputs": [],
   "source": [
    "df['total_goals'] = df['Away Team Goals'] + df['Home Team Goals']"
   ]
  },
  {
   "cell_type": "code",
   "execution_count": null,
   "metadata": {
    "ExecuteTime": {
     "end_time": "2020-04-29T23:59:09.580491Z",
     "start_time": "2020-04-29T23:59:09.574507Z"
    }
   },
   "outputs": [],
   "source": [
    "df['Away Team Goals']"
   ]
  },
  {
   "cell_type": "code",
   "execution_count": null,
   "metadata": {
    "ExecuteTime": {
     "end_time": "2020-04-29T23:59:09.770887Z",
     "start_time": "2020-04-29T23:59:09.767901Z"
    }
   },
   "outputs": [],
   "source": [
    "team_name = 'Brazil'\n",
    "\n",
    "other_team = 'Germany'"
   ]
  },
  {
   "cell_type": "code",
   "execution_count": null,
   "metadata": {
    "ExecuteTime": {
     "end_time": "2020-04-29T23:59:09.953401Z",
     "start_time": "2020-04-29T23:59:09.930434Z"
    }
   },
   "outputs": [],
   "source": [
    "df.query(f'`Home Team Name` == \"{team_name}\" and `Away Team Name` == \"{other_team}\"')"
   ]
  },
  {
   "cell_type": "code",
   "execution_count": null,
   "metadata": {
    "ExecuteTime": {
     "end_time": "2020-04-29T23:59:10.102510Z",
     "start_time": "2020-04-29T23:59:10.089515Z"
    }
   },
   "outputs": [],
   "source": [
    " pd.concat([df.query(f'`Home Team Name` == \"{team_name}\" and `Away Team Name` == \"{other_team}\"')['Home Team Goals'], \n",
    "                     df.query(f'`Away Team Name` == \"{team_name}\" and `Home Team Name` == \"{other_team}\"')['Away Team Goals']])"
   ]
  },
  {
   "cell_type": "code",
   "execution_count": null,
   "metadata": {
    "ExecuteTime": {
     "end_time": "2020-04-29T23:59:10.257176Z",
     "start_time": "2020-04-29T23:59:10.246180Z"
    }
   },
   "outputs": [],
   "source": [
    "average = pd.concat([df.query(f'`Home Team Name` == \"{team_name}\" and `Away Team Name` == \"{other_team}\"')['Home Team Goals'], \n",
    "                     df.query(f'`Away Team Name` == \"{team_name}\" and `Home Team Name` == \"{other_team}\"')['Away Team Goals']]).mean()\n",
    "average"
   ]
  },
  {
   "cell_type": "code",
   "execution_count": null,
   "metadata": {
    "ExecuteTime": {
     "end_time": "2020-04-29T23:59:10.404038Z",
     "start_time": "2020-04-29T23:59:10.399025Z"
    }
   },
   "outputs": [],
   "source": [
    "average"
   ]
  },
  {
   "cell_type": "code",
   "execution_count": null,
   "metadata": {
    "ExecuteTime": {
     "end_time": "2020-04-29T23:59:10.557708Z",
     "start_time": "2020-04-29T23:59:10.553719Z"
    }
   },
   "outputs": [],
   "source": [
    "dist = poisson(average)"
   ]
  },
  {
   "cell_type": "code",
   "execution_count": null,
   "metadata": {
    "ExecuteTime": {
     "end_time": "2020-04-29T23:59:10.705314Z",
     "start_time": "2020-04-29T23:59:10.701324Z"
    }
   },
   "outputs": [],
   "source": [
    "# de quantos em quantos jogos eu faço 7 gols\n",
    "\n",
    "100 / (dist.pmf(7) * 100)"
   ]
  },
  {
   "cell_type": "code",
   "execution_count": null,
   "metadata": {
    "ExecuteTime": {
     "end_time": "2020-04-29T23:59:10.860960Z",
     "start_time": "2020-04-29T23:59:10.854977Z"
    }
   },
   "outputs": [],
   "source": [
    "(dist.pmf(7) * 100)"
   ]
  },
  {
   "cell_type": "markdown",
   "metadata": {},
   "source": [
    "Of course, we're breaking some of the hypothesis. But that gives us an idea.\n"
   ]
  },
  {
   "cell_type": "markdown",
   "metadata": {},
   "source": [
    "Listen to this podcast to hear some interesting applications of the Poisson distribution!\n",
    "\n",
    "http://lineardigressions.com/episodes/2018/10/21/better-know-a-distribution-the-poisson-distribution"
   ]
  }
 ],
 "metadata": {
  "kernelspec": {
   "display_name": "Python 3",
   "language": "python",
   "name": "python3"
  },
  "language_info": {
   "codemirror_mode": {
    "name": "ipython",
    "version": 3
   },
   "file_extension": ".py",
   "mimetype": "text/x-python",
   "name": "python",
   "nbconvert_exporter": "python",
   "pygments_lexer": "ipython3",
   "version": "3.7.6"
  },
  "toc": {
   "base_numbering": 1,
   "nav_menu": {},
   "number_sections": true,
   "sideBar": true,
   "skip_h1_title": false,
   "title_cell": "Table of Contents",
   "title_sidebar": "Contents",
   "toc_cell": false,
   "toc_position": {},
   "toc_section_display": true,
   "toc_window_display": true
  },
  "varInspector": {
   "cols": {
    "lenName": 16,
    "lenType": 16,
    "lenVar": 40
   },
   "kernels_config": {
    "python": {
     "delete_cmd_postfix": "",
     "delete_cmd_prefix": "del ",
     "library": "var_list.py",
     "varRefreshCmd": "print(var_dic_list())"
    },
    "r": {
     "delete_cmd_postfix": ") ",
     "delete_cmd_prefix": "rm(",
     "library": "var_list.r",
     "varRefreshCmd": "cat(var_dic_list()) "
    }
   },
   "types_to_exclude": [
    "module",
    "function",
    "builtin_function_or_method",
    "instance",
    "_Feature"
   ],
   "window_display": false
  }
 },
 "nbformat": 4,
 "nbformat_minor": 2
}
