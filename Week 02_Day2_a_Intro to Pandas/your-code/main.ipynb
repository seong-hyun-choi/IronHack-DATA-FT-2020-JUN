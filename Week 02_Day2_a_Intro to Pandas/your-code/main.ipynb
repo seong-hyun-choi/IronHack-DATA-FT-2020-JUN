{
 "cells": [
  {
   "cell_type": "markdown",
   "metadata": {
    "colab_type": "text",
    "id": "YE3unUd1OcTs"
   },
   "source": [
    "![Ironhack logo](https://i.imgur.com/1QgrNNw.png)\n",
    "\n",
    "# Lab | Introduction to Pandas\n",
    "\n",
    "## Introduction\n",
    "\n",
    "In the Introduction to Pandas lesson, we learned about the two main data structures in Pandas (Series and DataFrames), how to work with them, how to obtain them from other data structures, and how to perform basic calculations with them.\n",
    "\n",
    "The goal of this lab is to help you practice the concepts you learned in the lesson and provide you with some hands-on experience working with Pandas.\n",
    "\n",
    "## Getting Started\n",
    "\n",
    "Read the instructions for each cell and provide your answers. Make sure to test your answers in each cell and save. Jupyter Notebook should automatically save your work progress. But it's a good idea to periodically save your work manually just in case.\n",
    "\n",
    "## Resources\n",
    "\n",
    "- [Pandas Documentation](https://pandas.pydata.org/pandas-docs/stable/)\n",
    "- [Intro to Pandas Data Structures](https://pandas.pydata.org/pandas-docs/stable/dsintro.html)\n",
    "- [Descriptive Statistics for Pandas DataFrame](https://chrisalbon.com/python/data_wrangling/pandas_dataframe_descriptive_stats/)"
   ]
  },
  {
   "cell_type": "markdown",
   "metadata": {
    "colab_type": "text",
    "id": "yjGkOvNMOajh"
   },
   "source": [
    "# Introduction to Pandas\n",
    "\n",
    "Complete the following set of exercises to solidify your knowledge of Pandas fundamentals."
   ]
  },
  {
   "cell_type": "markdown",
   "metadata": {
    "colab_type": "text",
    "id": "wBPxNR9QOajj"
   },
   "source": [
    "#### 1. Import Numpy and Pandas and alias them to `np` and `pd` respectively."
   ]
  },
  {
   "cell_type": "code",
   "execution_count": 1,
   "metadata": {
    "colab": {},
    "colab_type": "code",
    "id": "iH3FotJGOajk"
   },
   "outputs": [],
   "source": [
    "import pandas as pd\n",
    "import numpy as np"
   ]
  },
  {
   "cell_type": "markdown",
   "metadata": {
    "colab_type": "text",
    "id": "Lx1LrDcHOajp"
   },
   "source": [
    "#### 2. Create a Pandas Series containing the elements of the list below.\n",
    "\n",
    "Expected output:\n",
    "\n",
    "````python\n",
    "            0     5.7\n",
    "            1    75.2\n",
    "            2    74.4\n",
    "            3    84.0\n",
    "            4    66.5\n",
    "            5    66.3\n",
    "            6    55.8\n",
    "            7    75.7\n",
    "            8    29.1\n",
    "            9    43.7\n",
    "            dtype: float64\n",
    "    \n",
    "````"
   ]
  },
  {
   "cell_type": "code",
   "execution_count": 2,
   "metadata": {
    "colab": {},
    "colab_type": "code",
    "id": "bx1BubQVOajq"
   },
   "outputs": [],
   "source": [
    "lst = [5.7, 75.2, 74.4, 84.0, 66.5, 66.3, 55.8, 75.7, 29.1, 43.7]"
   ]
  },
  {
   "cell_type": "code",
   "execution_count": 3,
   "metadata": {
    "colab": {},
    "colab_type": "code",
    "id": "jDIb1LZDOaju"
   },
   "outputs": [],
   "source": [
    "data = pd.Series(lst)"
   ]
  },
  {
   "cell_type": "markdown",
   "metadata": {
    "colab_type": "text",
    "id": "D5asOdE0Oajy"
   },
   "source": [
    "#### 3. Use indexing to return the third value in the Series above.\n",
    "\n",
    "*Hint: Remember that indexing begins at 0.*"
   ]
  },
  {
   "cell_type": "code",
   "execution_count": 4,
   "metadata": {
    "colab": {},
    "colab_type": "code",
    "id": "Nd8JObixOajz"
   },
   "outputs": [
    {
     "data": {
      "text/plain": [
       "75.7"
      ]
     },
     "execution_count": 4,
     "metadata": {},
     "output_type": "execute_result"
    }
   ],
   "source": [
    "# the first index is 0, followed by 1, and then 2\n",
    "data[7]"
   ]
  },
  {
   "cell_type": "markdown",
   "metadata": {
    "colab_type": "text",
    "id": "M06z_OPLOaj3"
   },
   "source": [
    "#### 4. Create a Pandas DataFrame from the list of lists below. Each sublist should be represented as a row.\n",
    "\n",
    "Expected output:\n",
    "\n",
    "|    |    0 |    1 |    2 |    3 |    4 |\n",
    "|---:|-----:|-----:|-----:|-----:|-----:|\n",
    "|  0 | 53.1 | 95   | 67.5 | 35   | 78.4 |\n",
    "|  1 | 61.3 | 40.8 | 30.8 | 37.8 | 87.6 |\n",
    "|  2 | 20.6 | 73.2 | 44.2 | 14.6 | 91.8 |\n",
    "|  3 | 57.4 |  0.1 | 96.1 |  4.2 | 69.5 |\n",
    "|  4 | 83.6 | 20.5 | 85.4 | 22.8 | 35.9 |\n",
    "|  5 | 49   | 69   |  0.1 | 31.8 | 89.1 |\n",
    "|  6 | 23.3 | 40.7 | 95   | 83.8 | 26.9 |\n",
    "|  7 | 27.6 | 26.4 | 53.8 | 88.8 | 68.5 |\n",
    "|  8 | 96.6 | 96.4 | 53.4 | 72.4 | 50.1 |\n",
    "|  9 | 73.7 | 39   | 43.2 | 81.6 | 34.7 |"
   ]
  },
  {
   "cell_type": "code",
   "execution_count": 5,
   "metadata": {
    "colab": {},
    "colab_type": "code",
    "id": "TJ2X7jXvOaj5"
   },
   "outputs": [],
   "source": [
    "b = [[53.1, 95.0, 67.5, 35.0, 78.4],\n",
    "     [61.3, 40.8, 30.8, 37.8, 87.6],\n",
    "     [20.6, 73.2, 44.2, 14.6, 91.8],\n",
    "     [57.4, 0.1, 96.1, 4.2, 69.5],\n",
    "     [83.6, 20.5, 85.4, 22.8, 35.9],\n",
    "     [49.0, 69.0, 0.1, 31.8, 89.1],\n",
    "     [23.3, 40.7, 95.0, 83.8, 26.9],\n",
    "     [27.6, 26.4, 53.8, 88.8, 68.5],\n",
    "     [96.6, 96.4, 53.4, 72.4, 50.1],\n",
    "     [73.7, 39.0, 43.2, 81.6, 34.7]]"
   ]
  },
  {
   "cell_type": "code",
   "execution_count": 6,
   "metadata": {
    "colab": {},
    "colab_type": "code",
    "id": "uAjXmK9VOakA"
   },
   "outputs": [],
   "source": [
    "data1=pd.DataFrame(b)"
   ]
  },
  {
   "cell_type": "markdown",
   "metadata": {
    "colab_type": "text",
    "id": "unMpXDeYOakG"
   },
   "source": [
    "#### 5. Rename the data frame columns based on the names in the list below.\n",
    "\n",
    "Expected output:\n",
    "\n",
    "|    |   Score_1 |   Score_2 |   Score_3 |   Score_4 |   Score_5 |\n",
    "|---:|----------:|----------:|----------:|----------:|----------:|\n",
    "|  0 |      53.1 |      95   |      67.5 |      35   |      78.4 |\n",
    "|  1 |      61.3 |      40.8 |      30.8 |      37.8 |      87.6 |\n",
    "|  2 |      20.6 |      73.2 |      44.2 |      14.6 |      91.8 |\n",
    "|  3 |      57.4 |       0.1 |      96.1 |       4.2 |      69.5 |\n",
    "|  4 |      83.6 |      20.5 |      85.4 |      22.8 |      35.9 |\n",
    "|  5 |      49   |      69   |       0.1 |      31.8 |      89.1 |\n",
    "|  6 |      23.3 |      40.7 |      95   |      83.8 |      26.9 |\n",
    "|  7 |      27.6 |      26.4 |      53.8 |      88.8 |      68.5 |\n",
    "|  8 |      96.6 |      96.4 |      53.4 |      72.4 |      50.1 |\n",
    "|  9 |      73.7 |      39   |      43.2 |      81.6 |      34.7 |"
   ]
  },
  {
   "cell_type": "code",
   "execution_count": 7,
   "metadata": {
    "colab": {},
    "colab_type": "code",
    "id": "CR6Od3jCOakH"
   },
   "outputs": [],
   "source": [
    "colnames = ['Score_1', 'Score_2', 'Score_3', 'Score_4', 'Score_5']"
   ]
  },
  {
   "cell_type": "code",
   "execution_count": 8,
   "metadata": {},
   "outputs": [
    {
     "data": {
      "text/plain": [
       "RangeIndex(start=0, stop=5, step=1)"
      ]
     },
     "execution_count": 8,
     "metadata": {},
     "output_type": "execute_result"
    }
   ],
   "source": [
    "data1.columns"
   ]
  },
  {
   "cell_type": "code",
   "execution_count": 9,
   "metadata": {
    "colab": {},
    "colab_type": "code",
    "id": "4IGnjLB_OakL"
   },
   "outputs": [
    {
     "data": {
      "text/plain": [
       "Index(['Score_1', 'Score_2', 'Score_3', 'Score_4', 'Score_5'], dtype='object')"
      ]
     },
     "execution_count": 9,
     "metadata": {},
     "output_type": "execute_result"
    }
   ],
   "source": [
    "data1.columns = colnames\n",
    "data1.columns"
   ]
  },
  {
   "cell_type": "code",
   "execution_count": 10,
   "metadata": {},
   "outputs": [
    {
     "data": {
      "text/html": [
       "<div>\n",
       "<style scoped>\n",
       "    .dataframe tbody tr th:only-of-type {\n",
       "        vertical-align: middle;\n",
       "    }\n",
       "\n",
       "    .dataframe tbody tr th {\n",
       "        vertical-align: top;\n",
       "    }\n",
       "\n",
       "    .dataframe thead th {\n",
       "        text-align: right;\n",
       "    }\n",
       "</style>\n",
       "<table border=\"1\" class=\"dataframe\">\n",
       "  <thead>\n",
       "    <tr style=\"text-align: right;\">\n",
       "      <th></th>\n",
       "      <th>Score_1</th>\n",
       "      <th>Score_2</th>\n",
       "      <th>Score_3</th>\n",
       "      <th>Score_4</th>\n",
       "      <th>Score_5</th>\n",
       "    </tr>\n",
       "  </thead>\n",
       "  <tbody>\n",
       "    <tr>\n",
       "      <th>0</th>\n",
       "      <td>53.1</td>\n",
       "      <td>95.0</td>\n",
       "      <td>67.5</td>\n",
       "      <td>35.0</td>\n",
       "      <td>78.4</td>\n",
       "    </tr>\n",
       "    <tr>\n",
       "      <th>1</th>\n",
       "      <td>61.3</td>\n",
       "      <td>40.8</td>\n",
       "      <td>30.8</td>\n",
       "      <td>37.8</td>\n",
       "      <td>87.6</td>\n",
       "    </tr>\n",
       "    <tr>\n",
       "      <th>2</th>\n",
       "      <td>20.6</td>\n",
       "      <td>73.2</td>\n",
       "      <td>44.2</td>\n",
       "      <td>14.6</td>\n",
       "      <td>91.8</td>\n",
       "    </tr>\n",
       "    <tr>\n",
       "      <th>3</th>\n",
       "      <td>57.4</td>\n",
       "      <td>0.1</td>\n",
       "      <td>96.1</td>\n",
       "      <td>4.2</td>\n",
       "      <td>69.5</td>\n",
       "    </tr>\n",
       "    <tr>\n",
       "      <th>4</th>\n",
       "      <td>83.6</td>\n",
       "      <td>20.5</td>\n",
       "      <td>85.4</td>\n",
       "      <td>22.8</td>\n",
       "      <td>35.9</td>\n",
       "    </tr>\n",
       "    <tr>\n",
       "      <th>5</th>\n",
       "      <td>49.0</td>\n",
       "      <td>69.0</td>\n",
       "      <td>0.1</td>\n",
       "      <td>31.8</td>\n",
       "      <td>89.1</td>\n",
       "    </tr>\n",
       "    <tr>\n",
       "      <th>6</th>\n",
       "      <td>23.3</td>\n",
       "      <td>40.7</td>\n",
       "      <td>95.0</td>\n",
       "      <td>83.8</td>\n",
       "      <td>26.9</td>\n",
       "    </tr>\n",
       "    <tr>\n",
       "      <th>7</th>\n",
       "      <td>27.6</td>\n",
       "      <td>26.4</td>\n",
       "      <td>53.8</td>\n",
       "      <td>88.8</td>\n",
       "      <td>68.5</td>\n",
       "    </tr>\n",
       "    <tr>\n",
       "      <th>8</th>\n",
       "      <td>96.6</td>\n",
       "      <td>96.4</td>\n",
       "      <td>53.4</td>\n",
       "      <td>72.4</td>\n",
       "      <td>50.1</td>\n",
       "    </tr>\n",
       "    <tr>\n",
       "      <th>9</th>\n",
       "      <td>73.7</td>\n",
       "      <td>39.0</td>\n",
       "      <td>43.2</td>\n",
       "      <td>81.6</td>\n",
       "      <td>34.7</td>\n",
       "    </tr>\n",
       "  </tbody>\n",
       "</table>\n",
       "</div>"
      ],
      "text/plain": [
       "   Score_1  Score_2  Score_3  Score_4  Score_5\n",
       "0     53.1     95.0     67.5     35.0     78.4\n",
       "1     61.3     40.8     30.8     37.8     87.6\n",
       "2     20.6     73.2     44.2     14.6     91.8\n",
       "3     57.4      0.1     96.1      4.2     69.5\n",
       "4     83.6     20.5     85.4     22.8     35.9\n",
       "5     49.0     69.0      0.1     31.8     89.1\n",
       "6     23.3     40.7     95.0     83.8     26.9\n",
       "7     27.6     26.4     53.8     88.8     68.5\n",
       "8     96.6     96.4     53.4     72.4     50.1\n",
       "9     73.7     39.0     43.2     81.6     34.7"
      ]
     },
     "execution_count": 10,
     "metadata": {},
     "output_type": "execute_result"
    }
   ],
   "source": [
    "data1"
   ]
  },
  {
   "cell_type": "markdown",
   "metadata": {
    "colab_type": "text",
    "id": "BSSlC9sHOakQ"
   },
   "source": [
    "#### 6. Create a subset of this data frame that contains only the Score 1, 3, and 5 columns.\n",
    "\n",
    "Expected output:\n",
    "\n",
    "|    |   Score_1 |   Score_3 |   Score_5 |\n",
    "|---:|----------:|----------:|----------:|\n",
    "|  0 |      53.1 |      67.5 |      78.4 |\n",
    "|  1 |      61.3 |      30.8 |      87.6 |\n",
    "|  2 |      20.6 |      44.2 |      91.8 |\n",
    "|  3 |      57.4 |      96.1 |      69.5 |\n",
    "|  4 |      83.6 |      85.4 |      35.9 |\n",
    "|  5 |      49   |       0.1 |      89.1 |\n",
    "|  6 |      23.3 |      95   |      26.9 |\n",
    "|  7 |      27.6 |      53.8 |      68.5 |\n",
    "|  8 |      96.6 |      53.4 |      50.1 |\n",
    "|  9 |      73.7 |      43.2 |      34.7 |"
   ]
  },
  {
   "cell_type": "code",
   "execution_count": 11,
   "metadata": {
    "colab": {},
    "colab_type": "code",
    "id": "vAyr7_cpOakR"
   },
   "outputs": [
    {
     "data": {
      "text/html": [
       "<div>\n",
       "<style scoped>\n",
       "    .dataframe tbody tr th:only-of-type {\n",
       "        vertical-align: middle;\n",
       "    }\n",
       "\n",
       "    .dataframe tbody tr th {\n",
       "        vertical-align: top;\n",
       "    }\n",
       "\n",
       "    .dataframe thead th {\n",
       "        text-align: right;\n",
       "    }\n",
       "</style>\n",
       "<table border=\"1\" class=\"dataframe\">\n",
       "  <thead>\n",
       "    <tr style=\"text-align: right;\">\n",
       "      <th></th>\n",
       "      <th>Score_1</th>\n",
       "      <th>Score_3</th>\n",
       "      <th>Score_5</th>\n",
       "    </tr>\n",
       "  </thead>\n",
       "  <tbody>\n",
       "    <tr>\n",
       "      <th>0</th>\n",
       "      <td>53.1</td>\n",
       "      <td>67.5</td>\n",
       "      <td>78.4</td>\n",
       "    </tr>\n",
       "    <tr>\n",
       "      <th>1</th>\n",
       "      <td>61.3</td>\n",
       "      <td>30.8</td>\n",
       "      <td>87.6</td>\n",
       "    </tr>\n",
       "    <tr>\n",
       "      <th>2</th>\n",
       "      <td>20.6</td>\n",
       "      <td>44.2</td>\n",
       "      <td>91.8</td>\n",
       "    </tr>\n",
       "    <tr>\n",
       "      <th>3</th>\n",
       "      <td>57.4</td>\n",
       "      <td>96.1</td>\n",
       "      <td>69.5</td>\n",
       "    </tr>\n",
       "    <tr>\n",
       "      <th>4</th>\n",
       "      <td>83.6</td>\n",
       "      <td>85.4</td>\n",
       "      <td>35.9</td>\n",
       "    </tr>\n",
       "    <tr>\n",
       "      <th>5</th>\n",
       "      <td>49.0</td>\n",
       "      <td>0.1</td>\n",
       "      <td>89.1</td>\n",
       "    </tr>\n",
       "    <tr>\n",
       "      <th>6</th>\n",
       "      <td>23.3</td>\n",
       "      <td>95.0</td>\n",
       "      <td>26.9</td>\n",
       "    </tr>\n",
       "    <tr>\n",
       "      <th>7</th>\n",
       "      <td>27.6</td>\n",
       "      <td>53.8</td>\n",
       "      <td>68.5</td>\n",
       "    </tr>\n",
       "    <tr>\n",
       "      <th>8</th>\n",
       "      <td>96.6</td>\n",
       "      <td>53.4</td>\n",
       "      <td>50.1</td>\n",
       "    </tr>\n",
       "    <tr>\n",
       "      <th>9</th>\n",
       "      <td>73.7</td>\n",
       "      <td>43.2</td>\n",
       "      <td>34.7</td>\n",
       "    </tr>\n",
       "  </tbody>\n",
       "</table>\n",
       "</div>"
      ],
      "text/plain": [
       "   Score_1  Score_3  Score_5\n",
       "0     53.1     67.5     78.4\n",
       "1     61.3     30.8     87.6\n",
       "2     20.6     44.2     91.8\n",
       "3     57.4     96.1     69.5\n",
       "4     83.6     85.4     35.9\n",
       "5     49.0      0.1     89.1\n",
       "6     23.3     95.0     26.9\n",
       "7     27.6     53.8     68.5\n",
       "8     96.6     53.4     50.1\n",
       "9     73.7     43.2     34.7"
      ]
     },
     "execution_count": 11,
     "metadata": {},
     "output_type": "execute_result"
    }
   ],
   "source": [
    "data1[['Score_1','Score_3','Score_5']]"
   ]
  },
  {
   "cell_type": "markdown",
   "metadata": {
    "colab_type": "text",
    "id": "miFKTP45OakV"
   },
   "source": [
    "#### 7. From the original data frame, calculate the average Score_3 value.\n",
    "\n",
    "Expected output:\n",
    "\n",
    "````python\n",
    "            56.95\n",
    "````"
   ]
  },
  {
   "cell_type": "code",
   "execution_count": 12,
   "metadata": {
    "colab": {},
    "colab_type": "code",
    "id": "MtfW8kfjOakW"
   },
   "outputs": [
    {
     "data": {
      "text/plain": [
       "56.95000000000001"
      ]
     },
     "execution_count": 12,
     "metadata": {},
     "output_type": "execute_result"
    }
   ],
   "source": [
    "data1['Score_3'].mean()"
   ]
  },
  {
   "cell_type": "markdown",
   "metadata": {
    "colab_type": "text",
    "id": "6_0HFCAMOakb"
   },
   "source": [
    "#### 8. From the original data frame, calculate the maximum Score_4 value.\n",
    "\n",
    "Expected output:\n",
    "\n",
    "````python\n",
    "            88.8\n",
    "````"
   ]
  },
  {
   "cell_type": "code",
   "execution_count": 13,
   "metadata": {
    "colab": {},
    "colab_type": "code",
    "id": "nafpPRIaOakc"
   },
   "outputs": [
    {
     "data": {
      "text/plain": [
       "88.8"
      ]
     },
     "execution_count": 13,
     "metadata": {},
     "output_type": "execute_result"
    }
   ],
   "source": [
    "data1['Score_4'].max()"
   ]
  },
  {
   "cell_type": "markdown",
   "metadata": {
    "colab_type": "text",
    "id": "hEBEuc8NOakg"
   },
   "source": [
    "#### 9. From the original data frame, calculate the median Score 2 value.\n",
    "\n",
    "Expected output:\n",
    "\n",
    "````python\n",
    "            40.75\n",
    "````"
   ]
  },
  {
   "cell_type": "code",
   "execution_count": 14,
   "metadata": {
    "colab": {},
    "colab_type": "code",
    "id": "zn1IpKxuOakh"
   },
   "outputs": [
    {
     "data": {
      "text/plain": [
       "40.75"
      ]
     },
     "execution_count": 14,
     "metadata": {},
     "output_type": "execute_result"
    }
   ],
   "source": [
    "data1['Score_2'].median()"
   ]
  },
  {
   "cell_type": "markdown",
   "metadata": {
    "colab_type": "text",
    "id": "LxoUIsIBOakl"
   },
   "source": [
    "#### 10. Create a Pandas DataFrame from the dictionary of product orders below.\n",
    "\n",
    "Expected output:\n",
    "\n",
    "|    | Description                       |   Quantity |   UnitPrice |   Revenue |\n",
    "|---:|:----------------------------------|-----------:|------------:|----------:|\n",
    "|  0 | LUNCH BAG APPLE DESIGN            |          1 |        1.65 |      1.65 |\n",
    "|  1 | SET OF 60 VINTAGE LEAF CAKE CASES |         24 |        0.55 |     13.2  |\n",
    "|  2 | RIBBON REEL STRIPES DESIGN        |          1 |        1.65 |      1.65 |\n",
    "|  3 | WORLD WAR 2 GLIDERS ASSTD DESIGNS |       2880 |        0.18 |    518.4  |\n",
    "|  4 | PLAYING CARDS JUBILEE UNION JACK  |          2 |        1.25 |      2.5  |\n",
    "|  5 | POPCORN HOLDER                    |          7 |        0.85 |      5.95 |\n",
    "|  6 | BOX OF VINTAGE ALPHABET BLOCKS    |          1 |       11.95 |     11.95 |\n",
    "|  7 | PARTY BUNTING                     |          4 |        4.95 |     19.8  |\n",
    "|  8 | JAZZ HEARTS ADDRESS BOOK          |         10 |        0.19 |      1.9  |\n",
    "|  9 | SET OF 4 SANTA PLACE SETTINGS     |         48 |        1.25 |     60    |"
   ]
  },
  {
   "cell_type": "code",
   "execution_count": 15,
   "metadata": {
    "colab": {},
    "colab_type": "code",
    "id": "-w5XVN-aOakl"
   },
   "outputs": [],
   "source": [
    "orders = {'Description': ['LUNCH BAG APPLE DESIGN',\n",
    "  'SET OF 60 VINTAGE LEAF CAKE CASES ',\n",
    "  'RIBBON REEL STRIPES DESIGN ',\n",
    "  'WORLD WAR 2 GLIDERS ASSTD DESIGNS',\n",
    "  'PLAYING CARDS JUBILEE UNION JACK',\n",
    "  'POPCORN HOLDER',\n",
    "  'BOX OF VINTAGE ALPHABET BLOCKS',\n",
    "  'PARTY BUNTING',\n",
    "  'JAZZ HEARTS ADDRESS BOOK',\n",
    "  'SET OF 4 SANTA PLACE SETTINGS'],\n",
    " 'Quantity': [1, 24, 1, 2880, 2, 7, 1, 4, 10, 48],\n",
    " 'UnitPrice': [1.65, 0.55, 1.65, 0.18, 1.25, 0.85, 11.95, 4.95, 0.19, 1.25],\n",
    " 'Revenue': [1.65, 13.2, 1.65, 518.4, 2.5, 5.95, 11.95, 19.8, 1.9, 60.0]}"
   ]
  },
  {
   "cell_type": "code",
   "execution_count": 16,
   "metadata": {
    "colab": {},
    "colab_type": "code",
    "id": "EBy90Me3Oakp"
   },
   "outputs": [
    {
     "data": {
      "text/html": [
       "<div>\n",
       "<style scoped>\n",
       "    .dataframe tbody tr th:only-of-type {\n",
       "        vertical-align: middle;\n",
       "    }\n",
       "\n",
       "    .dataframe tbody tr th {\n",
       "        vertical-align: top;\n",
       "    }\n",
       "\n",
       "    .dataframe thead th {\n",
       "        text-align: right;\n",
       "    }\n",
       "</style>\n",
       "<table border=\"1\" class=\"dataframe\">\n",
       "  <thead>\n",
       "    <tr style=\"text-align: right;\">\n",
       "      <th></th>\n",
       "      <th>Description</th>\n",
       "      <th>Quantity</th>\n",
       "      <th>UnitPrice</th>\n",
       "      <th>Revenue</th>\n",
       "    </tr>\n",
       "  </thead>\n",
       "  <tbody>\n",
       "    <tr>\n",
       "      <th>0</th>\n",
       "      <td>LUNCH BAG APPLE DESIGN</td>\n",
       "      <td>1</td>\n",
       "      <td>1.65</td>\n",
       "      <td>1.65</td>\n",
       "    </tr>\n",
       "    <tr>\n",
       "      <th>1</th>\n",
       "      <td>SET OF 60 VINTAGE LEAF CAKE CASES</td>\n",
       "      <td>24</td>\n",
       "      <td>0.55</td>\n",
       "      <td>13.20</td>\n",
       "    </tr>\n",
       "    <tr>\n",
       "      <th>2</th>\n",
       "      <td>RIBBON REEL STRIPES DESIGN</td>\n",
       "      <td>1</td>\n",
       "      <td>1.65</td>\n",
       "      <td>1.65</td>\n",
       "    </tr>\n",
       "    <tr>\n",
       "      <th>3</th>\n",
       "      <td>WORLD WAR 2 GLIDERS ASSTD DESIGNS</td>\n",
       "      <td>2880</td>\n",
       "      <td>0.18</td>\n",
       "      <td>518.40</td>\n",
       "    </tr>\n",
       "    <tr>\n",
       "      <th>4</th>\n",
       "      <td>PLAYING CARDS JUBILEE UNION JACK</td>\n",
       "      <td>2</td>\n",
       "      <td>1.25</td>\n",
       "      <td>2.50</td>\n",
       "    </tr>\n",
       "    <tr>\n",
       "      <th>5</th>\n",
       "      <td>POPCORN HOLDER</td>\n",
       "      <td>7</td>\n",
       "      <td>0.85</td>\n",
       "      <td>5.95</td>\n",
       "    </tr>\n",
       "    <tr>\n",
       "      <th>6</th>\n",
       "      <td>BOX OF VINTAGE ALPHABET BLOCKS</td>\n",
       "      <td>1</td>\n",
       "      <td>11.95</td>\n",
       "      <td>11.95</td>\n",
       "    </tr>\n",
       "    <tr>\n",
       "      <th>7</th>\n",
       "      <td>PARTY BUNTING</td>\n",
       "      <td>4</td>\n",
       "      <td>4.95</td>\n",
       "      <td>19.80</td>\n",
       "    </tr>\n",
       "    <tr>\n",
       "      <th>8</th>\n",
       "      <td>JAZZ HEARTS ADDRESS BOOK</td>\n",
       "      <td>10</td>\n",
       "      <td>0.19</td>\n",
       "      <td>1.90</td>\n",
       "    </tr>\n",
       "    <tr>\n",
       "      <th>9</th>\n",
       "      <td>SET OF 4 SANTA PLACE SETTINGS</td>\n",
       "      <td>48</td>\n",
       "      <td>1.25</td>\n",
       "      <td>60.00</td>\n",
       "    </tr>\n",
       "  </tbody>\n",
       "</table>\n",
       "</div>"
      ],
      "text/plain": [
       "                          Description  Quantity  UnitPrice  Revenue\n",
       "0              LUNCH BAG APPLE DESIGN         1       1.65     1.65\n",
       "1  SET OF 60 VINTAGE LEAF CAKE CASES         24       0.55    13.20\n",
       "2         RIBBON REEL STRIPES DESIGN          1       1.65     1.65\n",
       "3   WORLD WAR 2 GLIDERS ASSTD DESIGNS      2880       0.18   518.40\n",
       "4    PLAYING CARDS JUBILEE UNION JACK         2       1.25     2.50\n",
       "5                      POPCORN HOLDER         7       0.85     5.95\n",
       "6      BOX OF VINTAGE ALPHABET BLOCKS         1      11.95    11.95\n",
       "7                       PARTY BUNTING         4       4.95    19.80\n",
       "8            JAZZ HEARTS ADDRESS BOOK        10       0.19     1.90\n",
       "9       SET OF 4 SANTA PLACE SETTINGS        48       1.25    60.00"
      ]
     },
     "execution_count": 16,
     "metadata": {},
     "output_type": "execute_result"
    }
   ],
   "source": [
    "# In dictionary above, the key is column and the values (in the list) are values\n",
    "df = pd.DataFrame(orders)\n",
    "df"
   ]
  },
  {
   "cell_type": "markdown",
   "metadata": {
    "colab_type": "text",
    "id": "9ssXX6XPOakt"
   },
   "source": [
    "#### 11. Calculate the total quantity ordered and revenue generated from these orders.\n",
    "\n",
    "Expected output:\n",
    "\n",
    "````python\n",
    "            Quantity    2978.0\n",
    "            Revenue      637.0\n",
    "````"
   ]
  },
  {
   "cell_type": "code",
   "execution_count": 17,
   "metadata": {},
   "outputs": [],
   "source": [
    "qty = df['Quantity'].sum(axis=0)\n",
    "rev = df['Revenue'].sum(axis=0)"
   ]
  },
  {
   "cell_type": "code",
   "execution_count": 18,
   "metadata": {
    "colab": {},
    "colab_type": "code",
    "id": "YitrlNafOaku"
   },
   "outputs": [
    {
     "name": "stdout",
     "output_type": "stream",
     "text": [
      "Total Quantity ordered:  2978.0\n",
      "Total Revenue generated:  637.0\n"
     ]
    }
   ],
   "source": [
    "print(f'Total Quantity ordered:  {qty:.1f}')\n",
    "print(f'Total Revenue generated:  {rev:.1f}')"
   ]
  },
  {
   "cell_type": "markdown",
   "metadata": {
    "colab_type": "text",
    "id": "GlSWl9TZOakz"
   },
   "source": [
    "#### 12. Obtain the prices of the most expensive and least expensive items ordered and print the difference.\n",
    "Expected output:\n",
    "\n",
    "````python\n",
    "            Most expensive:  11.95\n",
    "            Least expensive:  0.18\n",
    "            Difference:  11.77\n",
    "````"
   ]
  },
  {
   "cell_type": "code",
   "execution_count": 19,
   "metadata": {
    "colab": {},
    "colab_type": "code",
    "id": "c1r8EZT6Oak0"
   },
   "outputs": [],
   "source": [
    "expensive = df['UnitPrice'].max()\n",
    "cheap = df['UnitPrice'].min()\n",
    "diff = df['UnitPrice'].max() - df['UnitPrice'].min()"
   ]
  },
  {
   "cell_type": "code",
   "execution_count": 20,
   "metadata": {},
   "outputs": [
    {
     "name": "stdout",
     "output_type": "stream",
     "text": [
      "Most  Expensive:  11.95\n",
      "Least Expensive:   0.18\n",
      "Difference     :  11.77\n"
     ]
    }
   ],
   "source": [
    "print(f'Most  Expensive:  {expensive:.2f}')\n",
    "print(f'Least Expensive:   {cheap:.2f}')\n",
    "print(f'Difference     :  {diff:.2f}')"
   ]
  },
  {
   "cell_type": "markdown",
   "metadata": {
    "colab_type": "text",
    "id": "RweZ9QLBOak3"
   },
   "source": [
    "# BONUS"
   ]
  },
  {
   "cell_type": "markdown",
   "metadata": {
    "colab_type": "text",
    "id": "1w9-ZnH6Oak4"
   },
   "source": [
    "#### 1 Create a random dataframe containing 3 columns and 10 rows. \n",
    "\n",
    "*Hint: You'll have to use a `numpy.random` method to create random observations*\n",
    "\n",
    "**Example of output:**\n",
    "\n",
    "|    |         0 |        1 |        2 |\n",
    "|---:|----------:|---------:|---------:|\n",
    "|  0 | 0.0883504 | 0.867054 | 0.977949 |\n",
    "|  1 | 0.819555  | 0.643927 | 0.122975 |\n",
    "|  2 | 0.484618  | 0.515125 | 0.807791 |\n",
    "|  3 | 0.539583  | 0.620799 | 0.926963 |\n",
    "|  4 | 0.0479896 | 0.772282 | 0.621921 |\n",
    "|  5 | 0.1398    | 0.767678 | 0.678816 |\n",
    "|  6 | 0.0895157 | 0.242867 | 0.887941 |\n",
    "|  7 | 0.160186  | 0.750576 | 0.439416 |\n",
    "|  8 | 0.982747  | 0.652903 | 0.575518 |\n",
    "|  9 | 0.646373  | 0.523237 | 0.700222 |"
   ]
  },
  {
   "cell_type": "code",
   "execution_count": 21,
   "metadata": {
    "colab": {},
    "colab_type": "code",
    "id": "ucxwFx9TOak5"
   },
   "outputs": [
    {
     "data": {
      "text/html": [
       "<div>\n",
       "<style scoped>\n",
       "    .dataframe tbody tr th:only-of-type {\n",
       "        vertical-align: middle;\n",
       "    }\n",
       "\n",
       "    .dataframe tbody tr th {\n",
       "        vertical-align: top;\n",
       "    }\n",
       "\n",
       "    .dataframe thead th {\n",
       "        text-align: right;\n",
       "    }\n",
       "</style>\n",
       "<table border=\"1\" class=\"dataframe\">\n",
       "  <thead>\n",
       "    <tr style=\"text-align: right;\">\n",
       "      <th></th>\n",
       "      <th>0</th>\n",
       "      <th>1</th>\n",
       "      <th>2</th>\n",
       "    </tr>\n",
       "  </thead>\n",
       "  <tbody>\n",
       "    <tr>\n",
       "      <th>0</th>\n",
       "      <td>0.576122</td>\n",
       "      <td>0.610431</td>\n",
       "      <td>0.277550</td>\n",
       "    </tr>\n",
       "    <tr>\n",
       "      <th>1</th>\n",
       "      <td>0.261194</td>\n",
       "      <td>0.185422</td>\n",
       "      <td>0.035125</td>\n",
       "    </tr>\n",
       "    <tr>\n",
       "      <th>2</th>\n",
       "      <td>0.030638</td>\n",
       "      <td>0.695683</td>\n",
       "      <td>0.781877</td>\n",
       "    </tr>\n",
       "    <tr>\n",
       "      <th>3</th>\n",
       "      <td>0.464990</td>\n",
       "      <td>0.386909</td>\n",
       "      <td>0.398131</td>\n",
       "    </tr>\n",
       "    <tr>\n",
       "      <th>4</th>\n",
       "      <td>0.933438</td>\n",
       "      <td>0.489333</td>\n",
       "      <td>0.944987</td>\n",
       "    </tr>\n",
       "    <tr>\n",
       "      <th>5</th>\n",
       "      <td>0.686106</td>\n",
       "      <td>0.648423</td>\n",
       "      <td>0.331256</td>\n",
       "    </tr>\n",
       "    <tr>\n",
       "      <th>6</th>\n",
       "      <td>0.017085</td>\n",
       "      <td>0.332166</td>\n",
       "      <td>0.973556</td>\n",
       "    </tr>\n",
       "    <tr>\n",
       "      <th>7</th>\n",
       "      <td>0.941585</td>\n",
       "      <td>0.997857</td>\n",
       "      <td>0.899674</td>\n",
       "    </tr>\n",
       "    <tr>\n",
       "      <th>8</th>\n",
       "      <td>0.038974</td>\n",
       "      <td>0.554298</td>\n",
       "      <td>0.913597</td>\n",
       "    </tr>\n",
       "    <tr>\n",
       "      <th>9</th>\n",
       "      <td>0.880121</td>\n",
       "      <td>0.461072</td>\n",
       "      <td>0.873047</td>\n",
       "    </tr>\n",
       "  </tbody>\n",
       "</table>\n",
       "</div>"
      ],
      "text/plain": [
       "          0         1         2\n",
       "0  0.576122  0.610431  0.277550\n",
       "1  0.261194  0.185422  0.035125\n",
       "2  0.030638  0.695683  0.781877\n",
       "3  0.464990  0.386909  0.398131\n",
       "4  0.933438  0.489333  0.944987\n",
       "5  0.686106  0.648423  0.331256\n",
       "6  0.017085  0.332166  0.973556\n",
       "7  0.941585  0.997857  0.899674\n",
       "8  0.038974  0.554298  0.913597\n",
       "9  0.880121  0.461072  0.873047"
      ]
     },
     "execution_count": 21,
     "metadata": {},
     "output_type": "execute_result"
    }
   ],
   "source": [
    "df_random= pd.DataFrame(np.random.random(size=(10,3)))\n",
    "df_random"
   ]
  },
  {
   "cell_type": "markdown",
   "metadata": {
    "colab_type": "text",
    "id": "clFAoNoYOak8"
   },
   "source": [
    "#### 2 Create a random dataframe containing 3 columns and 10 rows with specific column names. \n",
    "\n",
    "Use `['column1', 'column2', 'column3']` as the column names.\n",
    "\n",
    "**Example of output:**\n",
    "\n",
    "|    |   column1 |   column2 |   column3 |\n",
    "|---:|----------:|----------:|----------:|\n",
    "|  0 |        10 |        21 |        45 |\n",
    "|  1 |        32 |        87 |        39 |\n",
    "|  2 |        93 |        53 |         8 |\n",
    "|  3 |        52 |        77 |        41 |\n",
    "|  4 |        72 |        50 |        31 |\n",
    "|  5 |        16 |         6 |        41 |\n",
    "|  6 |        66 |        33 |        62 |\n",
    "|  7 |        97 |        50 |        92 |\n",
    "|  8 |        21 |        71 |        42 |\n",
    "|  9 |        91 |        97 |        32 |"
   ]
  },
  {
   "cell_type": "code",
   "execution_count": 22,
   "metadata": {
    "colab": {},
    "colab_type": "code",
    "id": "4VaCdj95Oak9"
   },
   "outputs": [
    {
     "data": {
      "text/html": [
       "<div>\n",
       "<style scoped>\n",
       "    .dataframe tbody tr th:only-of-type {\n",
       "        vertical-align: middle;\n",
       "    }\n",
       "\n",
       "    .dataframe tbody tr th {\n",
       "        vertical-align: top;\n",
       "    }\n",
       "\n",
       "    .dataframe thead th {\n",
       "        text-align: right;\n",
       "    }\n",
       "</style>\n",
       "<table border=\"1\" class=\"dataframe\">\n",
       "  <thead>\n",
       "    <tr style=\"text-align: right;\">\n",
       "      <th></th>\n",
       "      <th>column1</th>\n",
       "      <th>column2</th>\n",
       "      <th>column3</th>\n",
       "    </tr>\n",
       "  </thead>\n",
       "  <tbody>\n",
       "    <tr>\n",
       "      <th>0</th>\n",
       "      <td>0.576122</td>\n",
       "      <td>0.610431</td>\n",
       "      <td>0.277550</td>\n",
       "    </tr>\n",
       "    <tr>\n",
       "      <th>1</th>\n",
       "      <td>0.261194</td>\n",
       "      <td>0.185422</td>\n",
       "      <td>0.035125</td>\n",
       "    </tr>\n",
       "    <tr>\n",
       "      <th>2</th>\n",
       "      <td>0.030638</td>\n",
       "      <td>0.695683</td>\n",
       "      <td>0.781877</td>\n",
       "    </tr>\n",
       "    <tr>\n",
       "      <th>3</th>\n",
       "      <td>0.464990</td>\n",
       "      <td>0.386909</td>\n",
       "      <td>0.398131</td>\n",
       "    </tr>\n",
       "    <tr>\n",
       "      <th>4</th>\n",
       "      <td>0.933438</td>\n",
       "      <td>0.489333</td>\n",
       "      <td>0.944987</td>\n",
       "    </tr>\n",
       "    <tr>\n",
       "      <th>5</th>\n",
       "      <td>0.686106</td>\n",
       "      <td>0.648423</td>\n",
       "      <td>0.331256</td>\n",
       "    </tr>\n",
       "    <tr>\n",
       "      <th>6</th>\n",
       "      <td>0.017085</td>\n",
       "      <td>0.332166</td>\n",
       "      <td>0.973556</td>\n",
       "    </tr>\n",
       "    <tr>\n",
       "      <th>7</th>\n",
       "      <td>0.941585</td>\n",
       "      <td>0.997857</td>\n",
       "      <td>0.899674</td>\n",
       "    </tr>\n",
       "    <tr>\n",
       "      <th>8</th>\n",
       "      <td>0.038974</td>\n",
       "      <td>0.554298</td>\n",
       "      <td>0.913597</td>\n",
       "    </tr>\n",
       "    <tr>\n",
       "      <th>9</th>\n",
       "      <td>0.880121</td>\n",
       "      <td>0.461072</td>\n",
       "      <td>0.873047</td>\n",
       "    </tr>\n",
       "  </tbody>\n",
       "</table>\n",
       "</div>"
      ],
      "text/plain": [
       "    column1   column2   column3\n",
       "0  0.576122  0.610431  0.277550\n",
       "1  0.261194  0.185422  0.035125\n",
       "2  0.030638  0.695683  0.781877\n",
       "3  0.464990  0.386909  0.398131\n",
       "4  0.933438  0.489333  0.944987\n",
       "5  0.686106  0.648423  0.331256\n",
       "6  0.017085  0.332166  0.973556\n",
       "7  0.941585  0.997857  0.899674\n",
       "8  0.038974  0.554298  0.913597\n",
       "9  0.880121  0.461072  0.873047"
      ]
     },
     "execution_count": 22,
     "metadata": {},
     "output_type": "execute_result"
    }
   ],
   "source": [
    "col=['column1', 'column2', 'column3']\n",
    "df_random.columns = col\n",
    "\n",
    "df_random"
   ]
  },
  {
   "cell_type": "markdown",
   "metadata": {
    "colab_type": "text",
    "id": "t7SMOQNkOalA"
   },
   "source": [
    "#### 3 Create a random dataframe containing N columns and M rows with specific column names.\n",
    "\n",
    "For this task you'll have to name the columns as `['column1', 'column2', 'column3', ...,'columnN']`. You can use a list comprehension to do that."
   ]
  },
  {
   "cell_type": "code",
   "execution_count": 23,
   "metadata": {
    "colab": {},
    "colab_type": "code",
    "id": "y6o68u5HOalB"
   },
   "outputs": [
    {
     "name": "stdout",
     "output_type": "stream",
     "text": [
      "['column1', 'column2', 'column3', 'column4', 'column5', 'column6', 'column7', 'column8', 'column9', 'column10']\n"
     ]
    }
   ],
   "source": [
    "N = 10 # ncols\n",
    "M = 30 # nrows\n",
    "\n",
    "# list comprehention of name of columns\n",
    "ncols = ['column'+ str(i) for i in range(1,N+1)]\n",
    "print(ncols)"
   ]
  },
  {
   "cell_type": "code",
   "execution_count": 24,
   "metadata": {},
   "outputs": [
    {
     "data": {
      "text/html": [
       "<div>\n",
       "<style scoped>\n",
       "    .dataframe tbody tr th:only-of-type {\n",
       "        vertical-align: middle;\n",
       "    }\n",
       "\n",
       "    .dataframe tbody tr th {\n",
       "        vertical-align: top;\n",
       "    }\n",
       "\n",
       "    .dataframe thead th {\n",
       "        text-align: right;\n",
       "    }\n",
       "</style>\n",
       "<table border=\"1\" class=\"dataframe\">\n",
       "  <thead>\n",
       "    <tr style=\"text-align: right;\">\n",
       "      <th></th>\n",
       "      <th>column1</th>\n",
       "      <th>column2</th>\n",
       "      <th>column3</th>\n",
       "      <th>column4</th>\n",
       "      <th>column5</th>\n",
       "      <th>column6</th>\n",
       "      <th>column7</th>\n",
       "      <th>column8</th>\n",
       "      <th>column9</th>\n",
       "      <th>column10</th>\n",
       "    </tr>\n",
       "  </thead>\n",
       "  <tbody>\n",
       "    <tr>\n",
       "      <th>0</th>\n",
       "      <td>0.976870</td>\n",
       "      <td>0.249096</td>\n",
       "      <td>0.702204</td>\n",
       "      <td>0.617437</td>\n",
       "      <td>0.036967</td>\n",
       "      <td>0.806404</td>\n",
       "      <td>0.078455</td>\n",
       "      <td>0.265332</td>\n",
       "      <td>0.930520</td>\n",
       "      <td>0.883172</td>\n",
       "    </tr>\n",
       "    <tr>\n",
       "      <th>1</th>\n",
       "      <td>0.832900</td>\n",
       "      <td>0.384399</td>\n",
       "      <td>0.011876</td>\n",
       "      <td>0.049564</td>\n",
       "      <td>0.218771</td>\n",
       "      <td>0.915619</td>\n",
       "      <td>0.002726</td>\n",
       "      <td>0.710726</td>\n",
       "      <td>0.761790</td>\n",
       "      <td>0.861860</td>\n",
       "    </tr>\n",
       "    <tr>\n",
       "      <th>2</th>\n",
       "      <td>0.789149</td>\n",
       "      <td>0.654641</td>\n",
       "      <td>0.597499</td>\n",
       "      <td>0.332555</td>\n",
       "      <td>0.940068</td>\n",
       "      <td>0.760346</td>\n",
       "      <td>0.634156</td>\n",
       "      <td>0.040246</td>\n",
       "      <td>0.928457</td>\n",
       "      <td>0.252144</td>\n",
       "    </tr>\n",
       "    <tr>\n",
       "      <th>3</th>\n",
       "      <td>0.064700</td>\n",
       "      <td>0.424258</td>\n",
       "      <td>0.404585</td>\n",
       "      <td>0.182294</td>\n",
       "      <td>0.321765</td>\n",
       "      <td>0.123483</td>\n",
       "      <td>0.649316</td>\n",
       "      <td>0.497091</td>\n",
       "      <td>0.617995</td>\n",
       "      <td>0.374331</td>\n",
       "    </tr>\n",
       "    <tr>\n",
       "      <th>4</th>\n",
       "      <td>0.746626</td>\n",
       "      <td>0.382267</td>\n",
       "      <td>0.506667</td>\n",
       "      <td>0.495235</td>\n",
       "      <td>0.654108</td>\n",
       "      <td>0.729980</td>\n",
       "      <td>0.762438</td>\n",
       "      <td>0.435758</td>\n",
       "      <td>0.309492</td>\n",
       "      <td>0.538159</td>\n",
       "    </tr>\n",
       "    <tr>\n",
       "      <th>5</th>\n",
       "      <td>0.877935</td>\n",
       "      <td>0.459588</td>\n",
       "      <td>0.154488</td>\n",
       "      <td>0.320550</td>\n",
       "      <td>0.496930</td>\n",
       "      <td>0.230830</td>\n",
       "      <td>0.811222</td>\n",
       "      <td>0.163619</td>\n",
       "      <td>0.893008</td>\n",
       "      <td>0.470219</td>\n",
       "    </tr>\n",
       "    <tr>\n",
       "      <th>6</th>\n",
       "      <td>0.968265</td>\n",
       "      <td>0.837446</td>\n",
       "      <td>0.388959</td>\n",
       "      <td>0.542429</td>\n",
       "      <td>0.248720</td>\n",
       "      <td>0.407739</td>\n",
       "      <td>0.193527</td>\n",
       "      <td>0.127433</td>\n",
       "      <td>0.983181</td>\n",
       "      <td>0.348698</td>\n",
       "    </tr>\n",
       "    <tr>\n",
       "      <th>7</th>\n",
       "      <td>0.362318</td>\n",
       "      <td>0.493303</td>\n",
       "      <td>0.760980</td>\n",
       "      <td>0.962670</td>\n",
       "      <td>0.317367</td>\n",
       "      <td>0.842652</td>\n",
       "      <td>0.589984</td>\n",
       "      <td>0.690495</td>\n",
       "      <td>0.226168</td>\n",
       "      <td>0.801640</td>\n",
       "    </tr>\n",
       "    <tr>\n",
       "      <th>8</th>\n",
       "      <td>0.031031</td>\n",
       "      <td>0.704029</td>\n",
       "      <td>0.963802</td>\n",
       "      <td>0.849534</td>\n",
       "      <td>0.498745</td>\n",
       "      <td>0.506190</td>\n",
       "      <td>0.480574</td>\n",
       "      <td>0.051364</td>\n",
       "      <td>0.718268</td>\n",
       "      <td>0.858302</td>\n",
       "    </tr>\n",
       "    <tr>\n",
       "      <th>9</th>\n",
       "      <td>0.326929</td>\n",
       "      <td>0.494593</td>\n",
       "      <td>0.761996</td>\n",
       "      <td>0.124941</td>\n",
       "      <td>0.241879</td>\n",
       "      <td>0.234305</td>\n",
       "      <td>0.019777</td>\n",
       "      <td>0.602842</td>\n",
       "      <td>0.399481</td>\n",
       "      <td>0.631553</td>\n",
       "    </tr>\n",
       "    <tr>\n",
       "      <th>10</th>\n",
       "      <td>0.210784</td>\n",
       "      <td>0.118728</td>\n",
       "      <td>0.054607</td>\n",
       "      <td>0.351463</td>\n",
       "      <td>0.973226</td>\n",
       "      <td>0.774438</td>\n",
       "      <td>0.086129</td>\n",
       "      <td>0.570205</td>\n",
       "      <td>0.879756</td>\n",
       "      <td>0.881551</td>\n",
       "    </tr>\n",
       "    <tr>\n",
       "      <th>11</th>\n",
       "      <td>0.761802</td>\n",
       "      <td>0.338953</td>\n",
       "      <td>0.880782</td>\n",
       "      <td>0.421579</td>\n",
       "      <td>0.644753</td>\n",
       "      <td>0.644822</td>\n",
       "      <td>0.922693</td>\n",
       "      <td>0.589848</td>\n",
       "      <td>0.158448</td>\n",
       "      <td>0.698873</td>\n",
       "    </tr>\n",
       "    <tr>\n",
       "      <th>12</th>\n",
       "      <td>0.660434</td>\n",
       "      <td>0.808847</td>\n",
       "      <td>0.620481</td>\n",
       "      <td>0.780953</td>\n",
       "      <td>0.819512</td>\n",
       "      <td>0.793394</td>\n",
       "      <td>0.342902</td>\n",
       "      <td>0.446370</td>\n",
       "      <td>0.579719</td>\n",
       "      <td>0.666481</td>\n",
       "    </tr>\n",
       "    <tr>\n",
       "      <th>13</th>\n",
       "      <td>0.085823</td>\n",
       "      <td>0.601181</td>\n",
       "      <td>0.325419</td>\n",
       "      <td>0.135595</td>\n",
       "      <td>0.468030</td>\n",
       "      <td>0.638628</td>\n",
       "      <td>0.911239</td>\n",
       "      <td>0.007498</td>\n",
       "      <td>0.547002</td>\n",
       "      <td>0.439586</td>\n",
       "    </tr>\n",
       "    <tr>\n",
       "      <th>14</th>\n",
       "      <td>0.992452</td>\n",
       "      <td>0.771574</td>\n",
       "      <td>0.333639</td>\n",
       "      <td>0.296583</td>\n",
       "      <td>0.172623</td>\n",
       "      <td>0.197165</td>\n",
       "      <td>0.343036</td>\n",
       "      <td>0.012406</td>\n",
       "      <td>0.958961</td>\n",
       "      <td>0.057823</td>\n",
       "    </tr>\n",
       "    <tr>\n",
       "      <th>15</th>\n",
       "      <td>0.209672</td>\n",
       "      <td>0.520833</td>\n",
       "      <td>0.291012</td>\n",
       "      <td>0.997186</td>\n",
       "      <td>0.050279</td>\n",
       "      <td>0.763742</td>\n",
       "      <td>0.974382</td>\n",
       "      <td>0.383743</td>\n",
       "      <td>0.424556</td>\n",
       "      <td>0.409716</td>\n",
       "    </tr>\n",
       "    <tr>\n",
       "      <th>16</th>\n",
       "      <td>0.519181</td>\n",
       "      <td>0.777098</td>\n",
       "      <td>0.244167</td>\n",
       "      <td>0.610635</td>\n",
       "      <td>0.261830</td>\n",
       "      <td>0.515569</td>\n",
       "      <td>0.031075</td>\n",
       "      <td>0.201229</td>\n",
       "      <td>0.214673</td>\n",
       "      <td>0.927351</td>\n",
       "    </tr>\n",
       "    <tr>\n",
       "      <th>17</th>\n",
       "      <td>0.349683</td>\n",
       "      <td>0.802587</td>\n",
       "      <td>0.288787</td>\n",
       "      <td>0.743303</td>\n",
       "      <td>0.921857</td>\n",
       "      <td>0.001804</td>\n",
       "      <td>0.584794</td>\n",
       "      <td>0.624030</td>\n",
       "      <td>0.586304</td>\n",
       "      <td>0.525801</td>\n",
       "    </tr>\n",
       "    <tr>\n",
       "      <th>18</th>\n",
       "      <td>0.543727</td>\n",
       "      <td>0.557464</td>\n",
       "      <td>0.178514</td>\n",
       "      <td>0.871290</td>\n",
       "      <td>0.509240</td>\n",
       "      <td>0.376743</td>\n",
       "      <td>0.045451</td>\n",
       "      <td>0.728116</td>\n",
       "      <td>0.295000</td>\n",
       "      <td>0.361009</td>\n",
       "    </tr>\n",
       "    <tr>\n",
       "      <th>19</th>\n",
       "      <td>0.883545</td>\n",
       "      <td>0.189606</td>\n",
       "      <td>0.760265</td>\n",
       "      <td>0.448498</td>\n",
       "      <td>0.735427</td>\n",
       "      <td>0.401200</td>\n",
       "      <td>0.802918</td>\n",
       "      <td>0.702005</td>\n",
       "      <td>0.447195</td>\n",
       "      <td>0.887901</td>\n",
       "    </tr>\n",
       "    <tr>\n",
       "      <th>20</th>\n",
       "      <td>0.864008</td>\n",
       "      <td>0.182260</td>\n",
       "      <td>0.586587</td>\n",
       "      <td>0.848026</td>\n",
       "      <td>0.617952</td>\n",
       "      <td>0.764847</td>\n",
       "      <td>0.440204</td>\n",
       "      <td>0.303467</td>\n",
       "      <td>0.929382</td>\n",
       "      <td>0.397788</td>\n",
       "    </tr>\n",
       "    <tr>\n",
       "      <th>21</th>\n",
       "      <td>0.402896</td>\n",
       "      <td>0.104846</td>\n",
       "      <td>0.639871</td>\n",
       "      <td>0.058510</td>\n",
       "      <td>0.452602</td>\n",
       "      <td>0.470535</td>\n",
       "      <td>0.508071</td>\n",
       "      <td>0.978452</td>\n",
       "      <td>0.888211</td>\n",
       "      <td>0.603658</td>\n",
       "    </tr>\n",
       "    <tr>\n",
       "      <th>22</th>\n",
       "      <td>0.718400</td>\n",
       "      <td>0.222986</td>\n",
       "      <td>0.283991</td>\n",
       "      <td>0.979649</td>\n",
       "      <td>0.235935</td>\n",
       "      <td>0.754848</td>\n",
       "      <td>0.048272</td>\n",
       "      <td>0.118569</td>\n",
       "      <td>0.200739</td>\n",
       "      <td>0.602520</td>\n",
       "    </tr>\n",
       "    <tr>\n",
       "      <th>23</th>\n",
       "      <td>0.576253</td>\n",
       "      <td>0.718478</td>\n",
       "      <td>0.732897</td>\n",
       "      <td>0.879172</td>\n",
       "      <td>0.291367</td>\n",
       "      <td>0.598170</td>\n",
       "      <td>0.707180</td>\n",
       "      <td>0.775625</td>\n",
       "      <td>0.532832</td>\n",
       "      <td>0.193101</td>\n",
       "    </tr>\n",
       "    <tr>\n",
       "      <th>24</th>\n",
       "      <td>0.814754</td>\n",
       "      <td>0.849352</td>\n",
       "      <td>0.447508</td>\n",
       "      <td>0.358351</td>\n",
       "      <td>0.052362</td>\n",
       "      <td>0.128072</td>\n",
       "      <td>0.350211</td>\n",
       "      <td>0.898586</td>\n",
       "      <td>0.153833</td>\n",
       "      <td>0.798187</td>\n",
       "    </tr>\n",
       "    <tr>\n",
       "      <th>25</th>\n",
       "      <td>0.384408</td>\n",
       "      <td>0.472424</td>\n",
       "      <td>0.373930</td>\n",
       "      <td>0.537564</td>\n",
       "      <td>0.638473</td>\n",
       "      <td>0.447770</td>\n",
       "      <td>0.672130</td>\n",
       "      <td>0.853804</td>\n",
       "      <td>0.464963</td>\n",
       "      <td>0.532028</td>\n",
       "    </tr>\n",
       "    <tr>\n",
       "      <th>26</th>\n",
       "      <td>0.737862</td>\n",
       "      <td>0.285383</td>\n",
       "      <td>0.524556</td>\n",
       "      <td>0.123755</td>\n",
       "      <td>0.368155</td>\n",
       "      <td>0.105025</td>\n",
       "      <td>0.004082</td>\n",
       "      <td>0.758779</td>\n",
       "      <td>0.647232</td>\n",
       "      <td>0.466626</td>\n",
       "    </tr>\n",
       "    <tr>\n",
       "      <th>27</th>\n",
       "      <td>0.052182</td>\n",
       "      <td>0.425505</td>\n",
       "      <td>0.142734</td>\n",
       "      <td>0.923803</td>\n",
       "      <td>0.122844</td>\n",
       "      <td>0.240886</td>\n",
       "      <td>0.670716</td>\n",
       "      <td>0.004465</td>\n",
       "      <td>0.540895</td>\n",
       "      <td>0.624486</td>\n",
       "    </tr>\n",
       "    <tr>\n",
       "      <th>28</th>\n",
       "      <td>0.279258</td>\n",
       "      <td>0.945364</td>\n",
       "      <td>0.549807</td>\n",
       "      <td>0.533223</td>\n",
       "      <td>0.343189</td>\n",
       "      <td>0.879703</td>\n",
       "      <td>0.982332</td>\n",
       "      <td>0.921682</td>\n",
       "      <td>0.242836</td>\n",
       "      <td>0.977108</td>\n",
       "    </tr>\n",
       "    <tr>\n",
       "      <th>29</th>\n",
       "      <td>0.474253</td>\n",
       "      <td>0.362261</td>\n",
       "      <td>0.555588</td>\n",
       "      <td>0.497342</td>\n",
       "      <td>0.122437</td>\n",
       "      <td>0.919450</td>\n",
       "      <td>0.622425</td>\n",
       "      <td>0.576460</td>\n",
       "      <td>0.331305</td>\n",
       "      <td>0.088198</td>\n",
       "    </tr>\n",
       "  </tbody>\n",
       "</table>\n",
       "</div>"
      ],
      "text/plain": [
       "     column1   column2   column3   column4   column5   column6   column7  \\\n",
       "0   0.976870  0.249096  0.702204  0.617437  0.036967  0.806404  0.078455   \n",
       "1   0.832900  0.384399  0.011876  0.049564  0.218771  0.915619  0.002726   \n",
       "2   0.789149  0.654641  0.597499  0.332555  0.940068  0.760346  0.634156   \n",
       "3   0.064700  0.424258  0.404585  0.182294  0.321765  0.123483  0.649316   \n",
       "4   0.746626  0.382267  0.506667  0.495235  0.654108  0.729980  0.762438   \n",
       "5   0.877935  0.459588  0.154488  0.320550  0.496930  0.230830  0.811222   \n",
       "6   0.968265  0.837446  0.388959  0.542429  0.248720  0.407739  0.193527   \n",
       "7   0.362318  0.493303  0.760980  0.962670  0.317367  0.842652  0.589984   \n",
       "8   0.031031  0.704029  0.963802  0.849534  0.498745  0.506190  0.480574   \n",
       "9   0.326929  0.494593  0.761996  0.124941  0.241879  0.234305  0.019777   \n",
       "10  0.210784  0.118728  0.054607  0.351463  0.973226  0.774438  0.086129   \n",
       "11  0.761802  0.338953  0.880782  0.421579  0.644753  0.644822  0.922693   \n",
       "12  0.660434  0.808847  0.620481  0.780953  0.819512  0.793394  0.342902   \n",
       "13  0.085823  0.601181  0.325419  0.135595  0.468030  0.638628  0.911239   \n",
       "14  0.992452  0.771574  0.333639  0.296583  0.172623  0.197165  0.343036   \n",
       "15  0.209672  0.520833  0.291012  0.997186  0.050279  0.763742  0.974382   \n",
       "16  0.519181  0.777098  0.244167  0.610635  0.261830  0.515569  0.031075   \n",
       "17  0.349683  0.802587  0.288787  0.743303  0.921857  0.001804  0.584794   \n",
       "18  0.543727  0.557464  0.178514  0.871290  0.509240  0.376743  0.045451   \n",
       "19  0.883545  0.189606  0.760265  0.448498  0.735427  0.401200  0.802918   \n",
       "20  0.864008  0.182260  0.586587  0.848026  0.617952  0.764847  0.440204   \n",
       "21  0.402896  0.104846  0.639871  0.058510  0.452602  0.470535  0.508071   \n",
       "22  0.718400  0.222986  0.283991  0.979649  0.235935  0.754848  0.048272   \n",
       "23  0.576253  0.718478  0.732897  0.879172  0.291367  0.598170  0.707180   \n",
       "24  0.814754  0.849352  0.447508  0.358351  0.052362  0.128072  0.350211   \n",
       "25  0.384408  0.472424  0.373930  0.537564  0.638473  0.447770  0.672130   \n",
       "26  0.737862  0.285383  0.524556  0.123755  0.368155  0.105025  0.004082   \n",
       "27  0.052182  0.425505  0.142734  0.923803  0.122844  0.240886  0.670716   \n",
       "28  0.279258  0.945364  0.549807  0.533223  0.343189  0.879703  0.982332   \n",
       "29  0.474253  0.362261  0.555588  0.497342  0.122437  0.919450  0.622425   \n",
       "\n",
       "     column8   column9  column10  \n",
       "0   0.265332  0.930520  0.883172  \n",
       "1   0.710726  0.761790  0.861860  \n",
       "2   0.040246  0.928457  0.252144  \n",
       "3   0.497091  0.617995  0.374331  \n",
       "4   0.435758  0.309492  0.538159  \n",
       "5   0.163619  0.893008  0.470219  \n",
       "6   0.127433  0.983181  0.348698  \n",
       "7   0.690495  0.226168  0.801640  \n",
       "8   0.051364  0.718268  0.858302  \n",
       "9   0.602842  0.399481  0.631553  \n",
       "10  0.570205  0.879756  0.881551  \n",
       "11  0.589848  0.158448  0.698873  \n",
       "12  0.446370  0.579719  0.666481  \n",
       "13  0.007498  0.547002  0.439586  \n",
       "14  0.012406  0.958961  0.057823  \n",
       "15  0.383743  0.424556  0.409716  \n",
       "16  0.201229  0.214673  0.927351  \n",
       "17  0.624030  0.586304  0.525801  \n",
       "18  0.728116  0.295000  0.361009  \n",
       "19  0.702005  0.447195  0.887901  \n",
       "20  0.303467  0.929382  0.397788  \n",
       "21  0.978452  0.888211  0.603658  \n",
       "22  0.118569  0.200739  0.602520  \n",
       "23  0.775625  0.532832  0.193101  \n",
       "24  0.898586  0.153833  0.798187  \n",
       "25  0.853804  0.464963  0.532028  \n",
       "26  0.758779  0.647232  0.466626  \n",
       "27  0.004465  0.540895  0.624486  \n",
       "28  0.921682  0.242836  0.977108  \n",
       "29  0.576460  0.331305  0.088198  "
      ]
     },
     "execution_count": 24,
     "metadata": {},
     "output_type": "execute_result"
    }
   ],
   "source": [
    "def random_dataframe(nrows, ncols):\n",
    "    '''\n",
    "    A function that creates a random dataframe \n",
    "    containing N columns and M rows \n",
    "    with specific column names.\n",
    "    '''\n",
    "    df_random = pd.DataFrame(np.random.random(size=(nrows,ncols)))\n",
    "    \n",
    "    # list comprehention of name of columns\n",
    "    column_names = ['column'+ str(i) for i in range(1, ncols+1)]\n",
    "    df_random.columns = column_names\n",
    "    \n",
    "    return df_random\n",
    "\n",
    "\n",
    "N = 10 # ncols\n",
    "M = 30 # nrows\n",
    "random_dataframe(M,N)\n",
    "    "
   ]
  }
 ],
 "metadata": {
  "colab": {
   "collapsed_sections": [],
   "name": "main.ipynb",
   "provenance": []
  },
  "kernelspec": {
   "display_name": "Python 3",
   "language": "python",
   "name": "python3"
  },
  "language_info": {
   "codemirror_mode": {
    "name": "ipython",
    "version": 3
   },
   "file_extension": ".py",
   "mimetype": "text/x-python",
   "name": "python",
   "nbconvert_exporter": "python",
   "pygments_lexer": "ipython3",
   "version": "3.7.6"
  },
  "toc": {
   "base_numbering": 1,
   "nav_menu": {},
   "number_sections": true,
   "sideBar": true,
   "skip_h1_title": false,
   "title_cell": "Table of Contents",
   "title_sidebar": "Contents",
   "toc_cell": false,
   "toc_position": {},
   "toc_section_display": true,
   "toc_window_display": false
  },
  "varInspector": {
   "cols": {
    "lenName": 16,
    "lenType": 16,
    "lenVar": 40
   },
   "kernels_config": {
    "python": {
     "delete_cmd_postfix": "",
     "delete_cmd_prefix": "del ",
     "library": "var_list.py",
     "varRefreshCmd": "print(var_dic_list())"
    },
    "r": {
     "delete_cmd_postfix": ") ",
     "delete_cmd_prefix": "rm(",
     "library": "var_list.r",
     "varRefreshCmd": "cat(var_dic_list()) "
    }
   },
   "types_to_exclude": [
    "module",
    "function",
    "builtin_function_or_method",
    "instance",
    "_Feature"
   ],
   "window_display": false
  }
 },
 "nbformat": 4,
 "nbformat_minor": 1
}
