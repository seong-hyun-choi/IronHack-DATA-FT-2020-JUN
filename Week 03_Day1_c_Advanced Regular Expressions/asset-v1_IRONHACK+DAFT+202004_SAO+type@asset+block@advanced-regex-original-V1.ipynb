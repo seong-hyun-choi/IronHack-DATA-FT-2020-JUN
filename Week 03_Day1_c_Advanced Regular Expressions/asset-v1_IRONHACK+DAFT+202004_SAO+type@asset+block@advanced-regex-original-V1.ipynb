{
 "cells": [
  {
   "cell_type": "code",
   "execution_count": 3,
   "metadata": {
    "ExecuteTime": {
     "end_time": "2020-06-15T19:10:40.375821Z",
     "start_time": "2020-06-15T19:10:40.372801Z"
    }
   },
   "outputs": [],
   "source": [
    "import re\n",
    "import pandas as pd\n",
    "import numpy as np"
   ]
  },
  {
   "cell_type": "markdown",
   "metadata": {},
   "source": [
    "# Finding patterns in text - Regular Expression (RegEx)"
   ]
  },
  {
   "cell_type": "markdown",
   "metadata": {},
   "source": [
    "## Regex Review"
   ]
  },
  {
   "cell_type": "markdown",
   "metadata": {},
   "source": [
    "https://regexper.com/#%28%5E%7C%5C%28%29%3F"
   ]
  },
  {
   "cell_type": "code",
   "execution_count": 4,
   "metadata": {
    "ExecuteTime": {
     "end_time": "2020-06-15T19:11:26.682147Z",
     "start_time": "2020-06-15T19:11:26.679154Z"
    }
   },
   "outputs": [],
   "source": [
    "import re"
   ]
  },
  {
   "cell_type": "code",
   "execution_count": 8,
   "metadata": {
    "ExecuteTime": {
     "end_time": "2020-06-15T19:14:43.595208Z",
     "start_time": "2020-06-15T19:14:43.591219Z"
    }
   },
   "outputs": [
    {
     "data": {
      "text/plain": [
       "'joao Andre aguiar'"
      ]
     },
     "execution_count": 8,
     "metadata": {},
     "output_type": "execute_result"
    }
   ],
   "source": [
    "'andre Andre aguiar'.replace('andre', 'joao')"
   ]
  },
  {
   "cell_type": "code",
   "execution_count": 18,
   "metadata": {
    "ExecuteTime": {
     "end_time": "2020-06-15T19:16:58.216949Z",
     "start_time": "2020-06-15T19:16:58.212960Z"
    }
   },
   "outputs": [
    {
     "data": {
      "text/plain": [
       "'the{7}'"
      ]
     },
     "execution_count": 18,
     "metadata": {},
     "output_type": "execute_result"
    }
   ],
   "source": [
    "'th{\\w+}e{7}'.replace('{\\w+}','')"
   ]
  },
  {
   "cell_type": "code",
   "execution_count": 19,
   "metadata": {
    "ExecuteTime": {
     "end_time": "2020-06-15T19:17:08.083849Z",
     "start_time": "2020-06-15T19:17:08.080857Z"
    }
   },
   "outputs": [],
   "source": [
    "text = \"That person wears marvelous trousers.\""
   ]
  },
  {
   "cell_type": "code",
   "execution_count": 20,
   "metadata": {
    "ExecuteTime": {
     "end_time": "2020-06-15T19:18:18.435732Z",
     "start_time": "2020-06-15T19:18:18.430746Z"
    }
   },
   "outputs": [
    {
     "data": {
      "text/plain": [
       "['person']"
      ]
     },
     "execution_count": 20,
     "metadata": {},
     "output_type": "execute_result"
    }
   ],
   "source": [
    "pattern = 'person'\n",
    "re.findall(pattern, text)"
   ]
  },
  {
   "cell_type": "code",
   "execution_count": 21,
   "metadata": {
    "ExecuteTime": {
     "end_time": "2020-06-15T19:18:41.878847Z",
     "start_time": "2020-06-15T19:18:41.874908Z"
    }
   },
   "outputs": [
    {
     "data": {
      "text/plain": [
       "'That  wears marvelous trousers.'"
      ]
     },
     "execution_count": 21,
     "metadata": {},
     "output_type": "execute_result"
    }
   ],
   "source": [
    "re.sub(pattern,'', text)"
   ]
  },
  {
   "cell_type": "code",
   "execution_count": 22,
   "metadata": {
    "ExecuteTime": {
     "end_time": "2020-06-15T19:19:03.075306Z",
     "start_time": "2020-06-15T19:19:03.071316Z"
    }
   },
   "outputs": [
    {
     "data": {
      "text/plain": [
       "[]"
      ]
     },
     "execution_count": 22,
     "metadata": {},
     "output_type": "execute_result"
    }
   ],
   "source": [
    "pattern = 'persona'\n",
    "re.findall(pattern, text)"
   ]
  },
  {
   "cell_type": "code",
   "execution_count": 23,
   "metadata": {
    "ExecuteTime": {
     "end_time": "2020-06-15T19:19:17.616640Z",
     "start_time": "2020-06-15T19:19:17.612651Z"
    }
   },
   "outputs": [
    {
     "data": {
      "text/plain": [
       "'That person wears marvelous trousers.'"
      ]
     },
     "execution_count": 23,
     "metadata": {},
     "output_type": "execute_result"
    }
   ],
   "source": [
    "re.sub(pattern,'', text)"
   ]
  },
  {
   "cell_type": "code",
   "execution_count": 24,
   "metadata": {
    "ExecuteTime": {
     "end_time": "2020-06-15T19:19:55.944087Z",
     "start_time": "2020-06-15T19:19:55.940099Z"
    },
    "collapsed": true
   },
   "outputs": [
    {
     "data": {
      "text/plain": [
       "['p',\n",
       " 'e',\n",
       " 'r',\n",
       " 's',\n",
       " 'o',\n",
       " 'n',\n",
       " 'e',\n",
       " 'r',\n",
       " 's',\n",
       " 'r',\n",
       " 'e',\n",
       " 'o',\n",
       " 's',\n",
       " 'r',\n",
       " 'o',\n",
       " 's',\n",
       " 'e',\n",
       " 'r',\n",
       " 's']"
      ]
     },
     "execution_count": 24,
     "metadata": {},
     "output_type": "execute_result"
    }
   ],
   "source": [
    "# sets\n",
    "pattern = '[person]'\n",
    "re.findall(pattern, text)"
   ]
  },
  {
   "cell_type": "code",
   "execution_count": 25,
   "metadata": {
    "ExecuteTime": {
     "end_time": "2020-06-15T19:20:58.264682Z",
     "start_time": "2020-06-15T19:20:58.260692Z"
    }
   },
   "outputs": [
    {
     "data": {
      "text/plain": [
       "['andre', 'Andre']"
      ]
     },
     "execution_count": 25,
     "metadata": {},
     "output_type": "execute_result"
    }
   ],
   "source": [
    "text = 'andre Andre aguiar'\n",
    "\n",
    "pattern = '[Aa]ndre'\n",
    "re.findall(pattern, text)"
   ]
  },
  {
   "cell_type": "code",
   "execution_count": 31,
   "metadata": {
    "ExecuteTime": {
     "end_time": "2020-06-15T19:30:01.784813Z",
     "start_time": "2020-06-15T19:30:01.780823Z"
    }
   },
   "outputs": [
    {
     "data": {
      "text/plain": [
       "['andre', 'Andre', 'andrE']"
      ]
     },
     "execution_count": 31,
     "metadata": {},
     "output_type": "execute_result"
    }
   ],
   "source": [
    "text = 'andre Andre andrE aguiar'\n",
    "\n",
    "pattern = 'andre'\n",
    "re.findall(pattern, text, flags=re.I)"
   ]
  },
  {
   "cell_type": "code",
   "execution_count": 26,
   "metadata": {
    "ExecuteTime": {
     "end_time": "2020-06-15T19:21:10.789413Z",
     "start_time": "2020-06-15T19:21:10.785423Z"
    }
   },
   "outputs": [
    {
     "data": {
      "text/plain": [
       "'joao joao aguiar'"
      ]
     },
     "execution_count": 26,
     "metadata": {},
     "output_type": "execute_result"
    }
   ],
   "source": [
    "re.sub(pattern, 'joao', text)"
   ]
  },
  {
   "cell_type": "code",
   "execution_count": 34,
   "metadata": {
    "ExecuteTime": {
     "end_time": "2020-06-15T19:30:55.410711Z",
     "start_time": "2020-06-15T19:30:55.405724Z"
    }
   },
   "outputs": [
    {
     "data": {
      "text/plain": [
       "['São Paulo',\n",
       " 'Sao Paulo',\n",
       " 'Sáo Paulo',\n",
       " 'Sun Paulo',\n",
       " 'seu paulo',\n",
       " 'san paolo',\n",
       " 'sao paulo',\n",
       " 'são paolo',\n",
       " 'sAo Paolo',\n",
       " 'sao_paulo']"
      ]
     },
     "execution_count": 34,
     "metadata": {},
     "output_type": "execute_result"
    }
   ],
   "source": [
    "text = 'São Paulo Sao Paulo Sáo Paulo Sun Paulo seu paulo san paolo sao paulo são paolo sAo Paolo sao_paulo'\n",
    "\n",
    "pattern = '[Ss][ãaáàâAÃÁÀâeu][oun][ _][Pp]a[uo]lo'\n",
    "re.findall(pattern, text)"
   ]
  },
  {
   "cell_type": "code",
   "execution_count": 35,
   "metadata": {
    "ExecuteTime": {
     "end_time": "2020-06-15T19:30:56.742038Z",
     "start_time": "2020-06-15T19:30:56.738048Z"
    }
   },
   "outputs": [
    {
     "data": {
      "text/plain": [
       "['São Paulo',\n",
       " 'Sao Paulo',\n",
       " 'Sáo Paulo',\n",
       " 'Sun Paulo',\n",
       " 'seu paulo',\n",
       " 'san paolo',\n",
       " 'sao paulo',\n",
       " 'são paolo',\n",
       " 'sAo Paolo',\n",
       " 'sao_paulo']"
      ]
     },
     "execution_count": 35,
     "metadata": {},
     "output_type": "execute_result"
    }
   ],
   "source": [
    "pattern = 's[ãaáàââeu][oun][ _]pa[uo]lo'\n",
    "\n",
    "re.findall(pattern, text, flags=re.I)"
   ]
  },
  {
   "cell_type": "markdown",
   "metadata": {},
   "source": [
    "## Finding the pattern `paulo`"
   ]
  },
  {
   "cell_type": "code",
   "execution_count": 36,
   "metadata": {
    "ExecuteTime": {
     "end_time": "2020-06-15T19:31:06.097816Z",
     "start_time": "2020-06-15T19:31:06.093800Z"
    },
    "scrolled": true
   },
   "outputs": [
    {
     "data": {
      "text/plain": [
       "['paulo', 'paulo', 'paulo']"
      ]
     },
     "execution_count": 36,
     "metadata": {},
     "output_type": "execute_result"
    }
   ],
   "source": [
    "pattern = 'paulo'\n",
    "re.findall(pattern, text)"
   ]
  },
  {
   "cell_type": "markdown",
   "metadata": {},
   "source": [
    "## Finding the pattern `p` or the pattern `a` or the pattern `u` or ..."
   ]
  },
  {
   "cell_type": "code",
   "execution_count": 37,
   "metadata": {
    "ExecuteTime": {
     "end_time": "2020-06-15T19:31:15.858581Z",
     "start_time": "2020-06-15T19:31:15.853594Z"
    },
    "scrolled": true
   },
   "outputs": [
    {
     "data": {
      "text/plain": [
       "['o',\n",
       " 'a',\n",
       " 'u',\n",
       " 'l',\n",
       " 'o',\n",
       " 'a',\n",
       " 'o',\n",
       " 'a',\n",
       " 'u',\n",
       " 'l',\n",
       " 'o',\n",
       " 'o',\n",
       " 'a',\n",
       " 'u',\n",
       " 'l',\n",
       " 'o',\n",
       " 'u',\n",
       " 'a',\n",
       " 'u',\n",
       " 'l',\n",
       " 'o',\n",
       " 'u',\n",
       " 'p',\n",
       " 'a',\n",
       " 'u',\n",
       " 'l',\n",
       " 'o',\n",
       " 'a',\n",
       " 'p',\n",
       " 'a',\n",
       " 'o',\n",
       " 'l',\n",
       " 'o',\n",
       " 'a',\n",
       " 'o',\n",
       " 'p',\n",
       " 'a',\n",
       " 'u',\n",
       " 'l',\n",
       " 'o',\n",
       " 'o',\n",
       " 'p',\n",
       " 'a',\n",
       " 'o',\n",
       " 'l',\n",
       " 'o',\n",
       " 'o',\n",
       " 'a',\n",
       " 'o',\n",
       " 'l',\n",
       " 'o',\n",
       " 'a',\n",
       " 'o',\n",
       " 'p',\n",
       " 'a',\n",
       " 'u',\n",
       " 'l',\n",
       " 'o']"
      ]
     },
     "execution_count": 37,
     "metadata": {},
     "output_type": "execute_result"
    }
   ],
   "source": [
    "pattern = '[paulo]'\n",
    "re.findall(pattern, text)"
   ]
  },
  {
   "cell_type": "markdown",
   "metadata": {},
   "source": [
    "## Use case"
   ]
  },
  {
   "cell_type": "code",
   "execution_count": 38,
   "metadata": {
    "ExecuteTime": {
     "end_time": "2020-06-15T19:31:27.851320Z",
     "start_time": "2020-06-15T19:31:27.847331Z"
    }
   },
   "outputs": [
    {
     "data": {
      "text/plain": [
       "['gray', 'grey']"
      ]
     },
     "execution_count": 38,
     "metadata": {},
     "output_type": "execute_result"
    }
   ],
   "source": [
    "text = \"Is it spelled gray or grey?\"\n",
    "\n",
    "pattern = 'gr[ae]y'\n",
    "re.findall(pattern, text)"
   ]
  },
  {
   "cell_type": "markdown",
   "metadata": {},
   "source": [
    "> So brackets [ ] are considered `sets` in RegEx. A set of patterns you want to find. "
   ]
  },
  {
   "cell_type": "markdown",
   "metadata": {},
   "source": [
    "## Since it is a set, you can make it a complete set\n",
    "\n",
    "For example: The set of upper-case letters from A to F."
   ]
  },
  {
   "cell_type": "code",
   "execution_count": 40,
   "metadata": {
    "ExecuteTime": {
     "end_time": "2020-06-15T19:32:36.007409Z",
     "start_time": "2020-06-15T19:32:36.003903Z"
    }
   },
   "outputs": [
    {
     "data": {
      "text/plain": [
       "['A', 'B', 'C', 'E', 'F']"
      ]
     },
     "execution_count": 40,
     "metadata": {},
     "output_type": "execute_result"
    }
   ],
   "source": [
    "text = \"This is an A and B conversation, so C your way out of it, or Even F but not G.\"\n",
    "\n",
    "# pattern = '[ABCDEF]'\n",
    "pattern = '[A-F]'\n",
    "re.findall(pattern, text)"
   ]
  },
  {
   "cell_type": "code",
   "execution_count": 41,
   "metadata": {
    "ExecuteTime": {
     "end_time": "2020-06-15T19:32:41.975191Z",
     "start_time": "2020-06-15T19:32:41.971202Z"
    }
   },
   "outputs": [
    {
     "data": {
      "text/plain": [
       "['T', 'A', 'B', 'C', 'E', 'F', 'G']"
      ]
     },
     "execution_count": 41,
     "metadata": {},
     "output_type": "execute_result"
    }
   ],
   "source": [
    "pattern = '[A-Z]'\n",
    "re.findall(pattern, text)"
   ]
  },
  {
   "cell_type": "code",
   "execution_count": 43,
   "metadata": {
    "ExecuteTime": {
     "end_time": "2020-06-15T19:33:14.547508Z",
     "start_time": "2020-06-15T19:33:14.542521Z"
    }
   },
   "outputs": [
    {
     "data": {
      "text/plain": [
       "['1', '2', '3', '3']"
      ]
     },
     "execution_count": 43,
     "metadata": {},
     "output_type": "execute_result"
    }
   ],
   "source": [
    "text = \"I'm not going to 0A the party because 1) Karen is going, 2) I don't like her, and 3) 3B I already have a headache but not 4 times.\"\n",
    "\n",
    "pattern = '[1-3]'\n",
    "re.findall(pattern, text)"
   ]
  },
  {
   "cell_type": "code",
   "execution_count": 46,
   "metadata": {
    "ExecuteTime": {
     "end_time": "2020-06-15T19:33:45.297673Z",
     "start_time": "2020-06-15T19:33:45.293684Z"
    }
   },
   "outputs": [
    {
     "data": {
      "text/plain": [
       "['I', '0', 'A', '1', 'K', '2', 'I', '3', '3', 'B', 'I', '4']"
      ]
     },
     "execution_count": 46,
     "metadata": {},
     "output_type": "execute_result"
    }
   ],
   "source": [
    "pattern = '[0-9A-Z]'\n",
    "re.findall(pattern, text)"
   ]
  },
  {
   "cell_type": "code",
   "execution_count": null,
   "metadata": {},
   "outputs": [],
   "source": [
    "# pattern = '[0123456789ABCDEFG..]'\n",
    "# re.findall(pattern, text)"
   ]
  },
  {
   "cell_type": "code",
   "execution_count": 48,
   "metadata": {
    "ExecuteTime": {
     "end_time": "2020-06-15T19:34:21.418736Z",
     "start_time": "2020-06-15T19:34:21.415761Z"
    }
   },
   "outputs": [
    {
     "data": {
      "text/plain": [
       "\"I'm not going to 0A the party because 1) Karen is going, 2) I don't like her, and 3) 3B I already have a headache but not 4 times.\""
      ]
     },
     "execution_count": 48,
     "metadata": {},
     "output_type": "execute_result"
    }
   ],
   "source": [
    "text"
   ]
  },
  {
   "cell_type": "code",
   "execution_count": 47,
   "metadata": {
    "ExecuteTime": {
     "end_time": "2020-06-15T19:34:09.856869Z",
     "start_time": "2020-06-15T19:34:09.852863Z"
    }
   },
   "outputs": [
    {
     "data": {
      "text/plain": [
       "['0A', '3B']"
      ]
     },
     "execution_count": 47,
     "metadata": {},
     "output_type": "execute_result"
    }
   ],
   "source": [
    "pattern = '[0-9][A-Z]'\n",
    "re.findall(pattern, text)"
   ]
  },
  {
   "cell_type": "markdown",
   "metadata": {},
   "source": [
    "Some useful sets: \n",
    "\n",
    "* [a-z]: Any lowercase letter between a and z.\n",
    "* [A-Z]: Any uppercase letter between A and Z.\n",
    "* [0-9]: Any numeric character between 0 and 9."
   ]
  },
  {
   "cell_type": "markdown",
   "metadata": {},
   "source": [
    "# Meta characters - They mean something different than the character they represent."
   ]
  },
  {
   "cell_type": "markdown",
   "metadata": {},
   "source": [
    "* `.` : Match **any character** except newline (\\n)\n",
    "* `^` : If used within a `set`, negates the condition (similar to `~` in python)\n",
    "    * Careful, this pattern also represents another thing: If used outside a `set`, it represents `match if at the beginning of the line`\n",
    "* `$` : Match if at end of the line\n",
    "* `|` : \"OR\" operator"
   ]
  },
  {
   "cell_type": "code",
   "execution_count": 50,
   "metadata": {
    "ExecuteTime": {
     "end_time": "2020-06-15T19:38:39.294973Z",
     "start_time": "2020-06-15T19:38:39.290015Z"
    }
   },
   "outputs": [
    {
     "data": {
      "text/plain": [
       "['I', \"'\", 'A', ')', 'K', ',', ')', 'I', \"'\", ',', ')', 'B', 'I', '.']"
      ]
     },
     "execution_count": 50,
     "metadata": {},
     "output_type": "execute_result"
    }
   ],
   "source": [
    "pattern = '[^0-9 a-z]' # this set, only that not\n",
    "re.findall(pattern, text)"
   ]
  },
  {
   "cell_type": "markdown",
   "metadata": {},
   "source": [
    "## OR"
   ]
  },
  {
   "cell_type": "code",
   "execution_count": 56,
   "metadata": {
    "ExecuteTime": {
     "end_time": "2020-06-15T19:41:05.386987Z",
     "start_time": "2020-06-15T19:41:05.383995Z"
    }
   },
   "outputs": [],
   "source": [
    "text = 'Andre andre AndrE'"
   ]
  },
  {
   "cell_type": "code",
   "execution_count": 57,
   "metadata": {
    "ExecuteTime": {
     "end_time": "2020-06-15T19:41:06.191342Z",
     "start_time": "2020-06-15T19:41:06.187354Z"
    }
   },
   "outputs": [
    {
     "data": {
      "text/plain": [
       "['A', 'a', 'A']"
      ]
     },
     "execution_count": 57,
     "metadata": {},
     "output_type": "execute_result"
    }
   ],
   "source": [
    "pattern = '[Aa]'\n",
    "re.findall(pattern, text)"
   ]
  },
  {
   "cell_type": "code",
   "execution_count": 58,
   "metadata": {
    "ExecuteTime": {
     "end_time": "2020-06-15T19:41:07.390997Z",
     "start_time": "2020-06-15T19:41:07.386010Z"
    }
   },
   "outputs": [
    {
     "data": {
      "text/plain": [
       "['Andre', 'andre']"
      ]
     },
     "execution_count": 58,
     "metadata": {},
     "output_type": "execute_result"
    }
   ],
   "source": [
    "pattern = 'Andre|andre'\n",
    "re.findall(pattern, text)"
   ]
  },
  {
   "cell_type": "markdown",
   "metadata": {},
   "source": [
    "## Match any character"
   ]
  },
  {
   "cell_type": "code",
   "execution_count": 59,
   "metadata": {
    "ExecuteTime": {
     "end_time": "2020-06-15T19:41:41.052931Z",
     "start_time": "2020-06-15T19:41:41.049939Z"
    }
   },
   "outputs": [
    {
     "name": "stdout",
     "output_type": "stream",
     "text": [
      "['M', 'y', ' ', 'b', 'o', 's', 's', ' ', 'a', 's', 'k', 'e', 'd', ' ', 'm', 'e', ' ', 't', 'o', ' ', 't', 'u', 'r', 'n', ' ', 'i', 'n', ' ', 'm', 'y', ' ', 'T', 'P', 'S', ' ', 'r', 'e', 'p', 'o', 'r', 't', 's', '.', ' ', 'I', ' ', 't', 'o', 'l', 'd', ' ', 'h', 'i', 'm', ' ', 't', 'h', 'e', 'y', ' ', 'w', 'e', 'r', 'e', ' ', 'd', 'o', 'n', 'e', ',', ' ', 'b', 'u', 't', ' ', 't', 'h', 'e', 'y', ' ', 'a', 'r', 'e', ' ', 'n', 'o', 't', '.']\n"
     ]
    }
   ],
   "source": [
    "text = \"\"\"My boss asked me to turn in my TPS reports. \n",
    "I told him they were done, but they are not.\"\"\"\n",
    "\n",
    "pattern = '.'\n",
    "print(re.findall(pattern, text))"
   ]
  },
  {
   "cell_type": "markdown",
   "metadata": {},
   "source": [
    "## Match everything not in specific set"
   ]
  },
  {
   "cell_type": "code",
   "execution_count": 60,
   "metadata": {
    "ExecuteTime": {
     "end_time": "2020-06-15T19:42:23.731032Z",
     "start_time": "2020-06-15T19:42:23.728040Z"
    }
   },
   "outputs": [],
   "source": [
    "text = \"\"\"My boss asked me to turn in my TPS reports. \n",
    "I told him they were done, but they are not.\"\"\""
   ]
  },
  {
   "cell_type": "code",
   "execution_count": 61,
   "metadata": {
    "ExecuteTime": {
     "end_time": "2020-06-15T19:42:26.134021Z",
     "start_time": "2020-06-15T19:42:26.130031Z"
    }
   },
   "outputs": [
    {
     "name": "stdout",
     "output_type": "stream",
     "text": [
      "['M', 'y', ' ', 'o', 's', 's', ' ', 's', ' ', ' ', 't', 'o', ' ', 't', 'u', 'r', 'n', ' ', 'n', ' ', 'y', ' ', 'T', 'P', 'S', ' ', 'r', 'p', 'o', 'r', 't', 's', '.', ' ', '\\n', 'I', ' ', 't', 'o', ' ', ' ', 't', 'y', ' ', 'w', 'r', ' ', 'o', 'n', ',', ' ', 'u', 't', ' ', 't', 'y', ' ', 'r', ' ', 'n', 'o', 't', '.']\n"
     ]
    }
   ],
   "source": [
    "pattern = '[^a-m]'\n",
    "print(re.findall(pattern, text))"
   ]
  },
  {
   "cell_type": "code",
   "execution_count": 63,
   "metadata": {
    "ExecuteTime": {
     "end_time": "2020-06-15T19:43:17.235837Z",
     "start_time": "2020-06-15T19:43:17.231848Z"
    }
   },
   "outputs": [
    {
     "data": {
      "text/plain": [
       "'   b    a ked me         i  m       e            ld him  he   e e d  e  b    he  a e     '"
      ]
     },
     "execution_count": 63,
     "metadata": {},
     "output_type": "execute_result"
    }
   ],
   "source": [
    "re.sub('[^a-m]', ' ', text)"
   ]
  },
  {
   "cell_type": "markdown",
   "metadata": {},
   "source": [
    "## Match sentences beginning with `pattern`"
   ]
  },
  {
   "cell_type": "code",
   "execution_count": 64,
   "metadata": {
    "ExecuteTime": {
     "end_time": "2020-06-15T19:43:39.595999Z",
     "start_time": "2020-06-15T19:43:39.591986Z"
    }
   },
   "outputs": [],
   "source": [
    "text = '''My boss asked me to turn in my TPS reports. \n",
    "The boss told him they were done, but they are not.'''"
   ]
  },
  {
   "cell_type": "code",
   "execution_count": 65,
   "metadata": {
    "ExecuteTime": {
     "end_time": "2020-06-15T19:44:05.188817Z",
     "start_time": "2020-06-15T19:44:05.185798Z"
    }
   },
   "outputs": [
    {
     "name": "stdout",
     "output_type": "stream",
     "text": [
      "['M']\n"
     ]
    }
   ],
   "source": [
    "pattern = '^[My boss]' # if it begins with\n",
    "print(re.findall(pattern, text))"
   ]
  },
  {
   "cell_type": "code",
   "execution_count": 67,
   "metadata": {
    "ExecuteTime": {
     "end_time": "2020-06-15T19:47:54.036338Z",
     "start_time": "2020-06-15T19:47:54.033364Z"
    }
   },
   "outputs": [
    {
     "name": "stdout",
     "output_type": "stream",
     "text": [
      "[]\n"
     ]
    }
   ],
   "source": [
    "pattern = '^[The boss]'\n",
    "print(re.findall(pattern, text))"
   ]
  },
  {
   "cell_type": "code",
   "execution_count": 68,
   "metadata": {
    "ExecuteTime": {
     "end_time": "2020-06-15T19:47:54.924509Z",
     "start_time": "2020-06-15T19:47:54.921518Z"
    }
   },
   "outputs": [
    {
     "name": "stdout",
     "output_type": "stream",
     "text": [
      "[]\n"
     ]
    }
   ],
   "source": [
    "pattern = '^turn'\n",
    "print(re.findall(pattern, text))"
   ]
  },
  {
   "cell_type": "markdown",
   "metadata": {
    "ExecuteTime": {
     "end_time": "2020-06-15T19:48:17.009451Z",
     "start_time": "2020-06-15T19:48:17.006458Z"
    }
   },
   "source": [
    "## Match sentences that end with pattern"
   ]
  },
  {
   "cell_type": "code",
   "execution_count": 81,
   "metadata": {
    "ExecuteTime": {
     "end_time": "2020-06-15T19:54:08.576685Z",
     "start_time": "2020-06-15T19:54:08.573693Z"
    }
   },
   "outputs": [],
   "source": [
    "text = '''My boss asked me to turn in my TPS reports. \n",
    "The boss told him they were done, but they are not™'''"
   ]
  },
  {
   "cell_type": "code",
   "execution_count": 82,
   "metadata": {
    "ExecuteTime": {
     "end_time": "2020-06-15T19:54:08.873231Z",
     "start_time": "2020-06-15T19:54:08.869242Z"
    }
   },
   "outputs": [
    {
     "name": "stdout",
     "output_type": "stream",
     "text": [
      "[]\n"
     ]
    }
   ],
   "source": [
    "pattern = 'reports\\.$'\n",
    "print(re.findall(pattern, text))"
   ]
  },
  {
   "cell_type": "code",
   "execution_count": 85,
   "metadata": {
    "ExecuteTime": {
     "end_time": "2020-06-15T19:54:17.678005Z",
     "start_time": "2020-06-15T19:54:17.675013Z"
    }
   },
   "outputs": [
    {
     "name": "stdout",
     "output_type": "stream",
     "text": [
      "[]\n"
     ]
    }
   ],
   "source": [
    "pattern = 'are not\\.$'\n",
    "print(re.findall(pattern, text))"
   ]
  },
  {
   "cell_type": "code",
   "execution_count": 80,
   "metadata": {
    "ExecuteTime": {
     "end_time": "2020-06-15T19:53:34.316718Z",
     "start_time": "2020-06-15T19:53:34.313726Z"
    }
   },
   "outputs": [
    {
     "name": "stdout",
     "output_type": "stream",
     "text": [
      "['A', 'n', 'd', 'r', 'e', ' ', 'a', 'n', 'd', 'r', 'e', ' ', 'a', 'o', 'i', 'j', 'o', ' ', '(', ' ', ' ', '$', ' ', 'p', ' ', 'i', 'o', ' ', 'x', ' ', '-', 'o', ' ', '=', ' ', '3', '2', '3', '2', ' ', '1', '3', ' ', '™', '¡', '¡', '™', '£', '¡', 'Ω', 'å']\n"
     ]
    }
   ],
   "source": [
    "text = 'Andre andre aoijo (  $ p io x -o = 3232 13 ™¡¡™£¡Ωå'\n",
    "\n",
    "pattern = '.'\n",
    "print(re.findall(pattern, text))"
   ]
  },
  {
   "cell_type": "code",
   "execution_count": 88,
   "metadata": {
    "ExecuteTime": {
     "end_time": "2020-06-15T19:55:12.526333Z",
     "start_time": "2020-06-15T19:55:12.522343Z"
    }
   },
   "outputs": [
    {
     "data": {
      "text/plain": [
       "'the'"
      ]
     },
     "execution_count": 88,
     "metadata": {},
     "output_type": "execute_result"
    }
   ],
   "source": [
    "re.sub('{\\w+}', '', 'the{bla}')"
   ]
  },
  {
   "cell_type": "markdown",
   "metadata": {},
   "source": [
    "## Meta characters\n",
    "\n",
    "* \\d --> numeric characters\n",
    "* \\w --> alphanumeric characters \n",
    "* \\s --> spaces\n",
    "\n",
    "* \\D --> not numeric characters"
   ]
  },
  {
   "cell_type": "code",
   "execution_count": 90,
   "metadata": {
    "ExecuteTime": {
     "end_time": "2020-06-15T19:56:09.173209Z",
     "start_time": "2020-06-15T19:56:09.169218Z"
    }
   },
   "outputs": [
    {
     "name": "stdout",
     "output_type": "stream",
     "text": [
      "['3', '2', '3', '2', '1', '3', '3', '1']\n"
     ]
    }
   ],
   "source": [
    "text = 'Andre andre aoijo (  $ p io x -o = 3232 13 ™¡¡™£¡Ωå 3.1 áéóãà'\n",
    "\n",
    "pattern = '\\d'\n",
    "print(re.findall(pattern, text))"
   ]
  },
  {
   "cell_type": "code",
   "execution_count": 95,
   "metadata": {
    "ExecuteTime": {
     "end_time": "2020-06-15T19:56:41.096279Z",
     "start_time": "2020-06-15T19:56:41.092290Z"
    }
   },
   "outputs": [
    {
     "name": "stdout",
     "output_type": "stream",
     "text": [
      "['A', 'n', 'd', 'r', 'e', ' ', 'a', 'n', 'd', 'r', 'e', ' ', 'a', 'o', 'i', 'j', 'o', ' ', '(', ' ', ' ', '$', ' ', 'p', ' ', 'i', 'o', ' ', 'x', ' ', '-', 'o', ' ', '=', ' ', ' ', ' ', '™', '¡', '¡', '™', '£', '¡', 'Ω', 'å', ' ', '.', ' ', 'á', 'é', 'ó', 'ã', 'à']\n"
     ]
    }
   ],
   "source": [
    "pattern = '[^\\d]'\n",
    "# pattern = '\\D'\n",
    "\n",
    "print(re.findall(pattern, text))"
   ]
  },
  {
   "cell_type": "code",
   "execution_count": 100,
   "metadata": {
    "ExecuteTime": {
     "end_time": "2020-06-15T19:56:56.001277Z",
     "start_time": "2020-06-15T19:56:55.996290Z"
    }
   },
   "outputs": [
    {
     "name": "stdout",
     "output_type": "stream",
     "text": [
      "[' ', ' ', ' ', '(', ' ', ' ', '$', ' ', ' ', ' ', ' ', '-', ' ', '=', ' ', ' ', ' ', '™', '¡', '¡', '™', '£', '¡', ' ', '.', ' ']\n"
     ]
    }
   ],
   "source": [
    "pattern = '[\\w]'\n",
    "\n",
    "print(re.findall(pattern, text))"
   ]
  },
  {
   "cell_type": "markdown",
   "metadata": {},
   "source": [
    "# Quantifiers "
   ]
  },
  {
   "cell_type": "markdown",
   "metadata": {},
   "source": [
    "* *: Matches previous character 0 or more times\n",
    "* +: Matches previous character 1 or more times\n",
    "* ?: Matches previous character 0 or 1 times (optional)\n",
    "* {}: Matches previous characters however many times specified within:\n",
    "* {n} : Exactly n times\n",
    "* {n,} : At least n times\n",
    "* {n,m} : Between n and m times"
   ]
  },
  {
   "cell_type": "code",
   "execution_count": 124,
   "metadata": {
    "ExecuteTime": {
     "end_time": "2020-06-15T20:15:14.618370Z",
     "start_time": "2020-06-15T20:15:14.614354Z"
    }
   },
   "outputs": [
    {
     "data": {
      "text/plain": [
       "'oi bom dia oi robo'"
      ]
     },
     "execution_count": 124,
     "metadata": {},
     "output_type": "execute_result"
    }
   ],
   "source": [
    "text = 'ooooooooi bom diaaaaaaaaaa robo'\n",
    "\n",
    "pattern = 'o+i'\n",
    "re.sub('dia+', 'dia', re.sub('o+i', 'oi', text))"
   ]
  },
  {
   "cell_type": "code",
   "execution_count": 132,
   "metadata": {
    "ExecuteTime": {
     "end_time": "2020-06-15T20:16:20.774579Z",
     "start_time": "2020-06-15T20:16:20.770590Z"
    }
   },
   "outputs": [
    {
     "data": {
      "text/plain": [
       "['ooooooooi', 'i', 'oooi']"
      ]
     },
     "execution_count": 132,
     "metadata": {},
     "output_type": "execute_result"
    }
   ],
   "source": [
    "text = 'ooooooooi bom diaaaaaaaaaa oooi robo'\n",
    "\n",
    "pattern = 'o{0,}i'\n",
    "re.findall(pattern, text)"
   ]
  },
  {
   "cell_type": "code",
   "execution_count": 136,
   "metadata": {
    "ExecuteTime": {
     "end_time": "2020-06-15T20:17:49.806111Z",
     "start_time": "2020-06-15T20:17:49.803120Z"
    }
   },
   "outputs": [
    {
     "name": "stdout",
     "output_type": "stream",
     "text": [
      "['9', '4129', '13', '3.1415', '4.']\n"
     ]
    }
   ],
   "source": [
    "text = 'Andre andre aoijo (  $ p io x -o = 9 4129 13 3.1415 4. áéóãà'\n",
    "\n",
    "pattern = '\\d+\\.?\\d{0,}'\n",
    "print(re.findall(pattern, text))"
   ]
  },
  {
   "cell_type": "code",
   "execution_count": 137,
   "metadata": {
    "ExecuteTime": {
     "end_time": "2020-06-15T20:17:50.353710Z",
     "start_time": "2020-06-15T20:17:50.349721Z"
    }
   },
   "outputs": [
    {
     "name": "stdout",
     "output_type": "stream",
     "text": [
      "['9', '4129', '13', '3.1415']\n"
     ]
    }
   ],
   "source": [
    "text = 'Andre andre aoijo (  $ p io x -o = 9 4129 13 3.1415 áéóãà'\n",
    "\n",
    "pattern = '\\d+\\.?\\d*'\n",
    "print(re.findall(pattern, text))"
   ]
  },
  {
   "cell_type": "markdown",
   "metadata": {},
   "source": [
    "## Application of previous example of `$` using one of the most useful quantifiers `*`"
   ]
  },
  {
   "cell_type": "code",
   "execution_count": 138,
   "metadata": {
    "ExecuteTime": {
     "end_time": "2020-06-15T20:18:24.463587Z",
     "start_time": "2020-06-15T20:18:24.460594Z"
    }
   },
   "outputs": [],
   "source": [
    "text = '''My boss asked me to turn in my TPS reports. \n",
    "My boss told him they were done, but they are not.'''"
   ]
  },
  {
   "cell_type": "code",
   "execution_count": 139,
   "metadata": {
    "ExecuteTime": {
     "end_time": "2020-06-15T20:18:49.746386Z",
     "start_time": "2020-06-15T20:18:49.742397Z"
    }
   },
   "outputs": [
    {
     "name": "stdout",
     "output_type": "stream",
     "text": [
      "['are not.']\n"
     ]
    }
   ],
   "source": [
    "pattern = 'are not\\.$'\n",
    "print(re.findall(pattern, text))"
   ]
  },
  {
   "cell_type": "code",
   "execution_count": 140,
   "metadata": {
    "ExecuteTime": {
     "end_time": "2020-06-15T20:21:09.617897Z",
     "start_time": "2020-06-15T20:21:09.614874Z"
    }
   },
   "outputs": [
    {
     "name": "stdout",
     "output_type": "stream",
     "text": [
      "[' are not.']\n"
     ]
    }
   ],
   "source": [
    "pattern = '.are not\\.$'\n",
    "print(re.findall(pattern, text))"
   ]
  },
  {
   "cell_type": "code",
   "execution_count": 141,
   "metadata": {
    "ExecuteTime": {
     "end_time": "2020-06-15T20:22:01.450580Z",
     "start_time": "2020-06-15T20:22:01.447588Z"
    }
   },
   "outputs": [
    {
     "name": "stdout",
     "output_type": "stream",
     "text": [
      "['My boss told him they were done, but they are not.']\n"
     ]
    }
   ],
   "source": [
    "pattern = '.*are not\\.$'\n",
    "print(re.findall(pattern, text))"
   ]
  },
  {
   "cell_type": "code",
   "execution_count": 142,
   "metadata": {
    "ExecuteTime": {
     "end_time": "2020-06-15T20:22:54.059264Z",
     "start_time": "2020-06-15T20:22:54.055274Z"
    }
   },
   "outputs": [
    {
     "data": {
      "text/plain": [
       "'My boss asked me to turn in my TPS reports. \\nMy boss told him they were done, but they are not.'"
      ]
     },
     "execution_count": 142,
     "metadata": {},
     "output_type": "execute_result"
    }
   ],
   "source": [
    "text"
   ]
  },
  {
   "cell_type": "code",
   "execution_count": 144,
   "metadata": {
    "ExecuteTime": {
     "end_time": "2020-06-15T20:23:09.066524Z",
     "start_time": "2020-06-15T20:23:09.062535Z"
    }
   },
   "outputs": [
    {
     "name": "stdout",
     "output_type": "stream",
     "text": [
      "[', but they are not.']\n"
     ]
    }
   ],
   "source": [
    "pattern = ',.*are not\\.$'\n",
    "print(re.findall(pattern, text))"
   ]
  },
  {
   "cell_type": "code",
   "execution_count": 174,
   "metadata": {
    "ExecuteTime": {
     "end_time": "2020-06-15T20:33:33.894792Z",
     "start_time": "2020-06-15T20:33:33.891776Z"
    }
   },
   "outputs": [],
   "source": [
    "text = '''My boss asked, me to turn in my TPS reports. \n",
    "My boss told, him they were done, but they are not.'''"
   ]
  },
  {
   "cell_type": "code",
   "execution_count": 177,
   "metadata": {
    "ExecuteTime": {
     "end_time": "2020-06-15T20:34:06.957002Z",
     "start_time": "2020-06-15T20:34:06.954006Z"
    }
   },
   "outputs": [
    {
     "name": "stdout",
     "output_type": "stream",
     "text": [
      "[', but they are not.']\n"
     ]
    }
   ],
   "source": [
    "pattern = ', \\w+ ?\\w* are not\\.$'\n",
    "print(re.findall(pattern, text))"
   ]
  },
  {
   "cell_type": "code",
   "execution_count": 178,
   "metadata": {
    "ExecuteTime": {
     "end_time": "2020-06-15T20:34:43.534891Z",
     "start_time": "2020-06-15T20:34:43.531926Z"
    }
   },
   "outputs": [],
   "source": [
    "text = '''My boss asked, me to turn in my TPS reports. \n",
    "My boss (told him they) were done (but they) are not.'''"
   ]
  },
  {
   "cell_type": "code",
   "execution_count": 181,
   "metadata": {
    "ExecuteTime": {
     "end_time": "2020-06-15T20:39:17.542091Z",
     "start_time": "2020-06-15T20:39:17.538101Z"
    }
   },
   "outputs": [
    {
     "name": "stdout",
     "output_type": "stream",
     "text": [
      "['(told him they)', '(but they)']\n"
     ]
    }
   ],
   "source": [
    "pattern = '\\(.*?\\)'\n",
    "print(re.findall(pattern, text))"
   ]
  },
  {
   "cell_type": "markdown",
   "metadata": {},
   "source": [
    "## re.sub"
   ]
  },
  {
   "cell_type": "code",
   "execution_count": 185,
   "metadata": {
    "ExecuteTime": {
     "end_time": "2020-06-15T20:40:55.890338Z",
     "start_time": "2020-06-15T20:40:55.887346Z"
    }
   },
   "outputs": [],
   "source": [
    "text = 'Oi, meu nome é Andre, meu telefone é 93333-3333 ou 9333333338, meu e-mail é andre.aguiar@ironhack.com'"
   ]
  },
  {
   "cell_type": "code",
   "execution_count": 186,
   "metadata": {
    "ExecuteTime": {
     "end_time": "2020-06-15T20:40:56.515451Z",
     "start_time": "2020-06-15T20:40:56.511433Z"
    }
   },
   "outputs": [
    {
     "data": {
      "text/plain": [
       "['9333', '3333', '9333', '3333']"
      ]
     },
     "execution_count": 186,
     "metadata": {},
     "output_type": "execute_result"
    }
   ],
   "source": [
    "re.findall('\\d{4}', text)"
   ]
  },
  {
   "cell_type": "code",
   "execution_count": 187,
   "metadata": {
    "ExecuteTime": {
     "end_time": "2020-06-15T20:40:57.169480Z",
     "start_time": "2020-06-15T20:40:57.165491Z"
    }
   },
   "outputs": [
    {
     "data": {
      "text/plain": [
       "['93333', '93333', '33338']"
      ]
     },
     "execution_count": 187,
     "metadata": {},
     "output_type": "execute_result"
    }
   ],
   "source": [
    "re.findall('\\d{5}', text)"
   ]
  },
  {
   "cell_type": "code",
   "execution_count": 188,
   "metadata": {
    "ExecuteTime": {
     "end_time": "2020-06-15T20:41:19.297032Z",
     "start_time": "2020-06-15T20:41:19.293014Z"
    }
   },
   "outputs": [
    {
     "data": {
      "text/plain": [
       "'Oi, meu nome é Andre, meu telefone é 1003-100 ou 10010038, meu e-mail é andre.aguiar@ironhack.com'"
      ]
     },
     "execution_count": 188,
     "metadata": {},
     "output_type": "execute_result"
    }
   ],
   "source": [
    "re.sub('\\d{4}', '100', text)"
   ]
  },
  {
   "cell_type": "markdown",
   "metadata": {},
   "source": [
    "## Capturing group!"
   ]
  },
  {
   "cell_type": "markdown",
   "metadata": {},
   "source": [
    "What if I wanted to capture only things up until the comma (`,`), however, not include the comma?\n",
    "\n",
    "I would have to use a capturing group to specify what specifically I want to capture."
   ]
  },
  {
   "cell_type": "code",
   "execution_count": 191,
   "metadata": {
    "ExecuteTime": {
     "end_time": "2020-06-15T20:42:31.986247Z",
     "start_time": "2020-06-15T20:42:31.982258Z"
    }
   },
   "outputs": [
    {
     "name": "stdout",
     "output_type": "stream",
     "text": [
      "[', but they are not.']\n"
     ]
    }
   ],
   "source": [
    "text = '''My boss asked, me to turn in my TPS are not. \n",
    "My boss told him they were done, but they are not.'''\n",
    "\n",
    "pattern = ',.*are not\\.$'\n",
    "print(re.findall(pattern, text))"
   ]
  },
  {
   "cell_type": "code",
   "execution_count": 193,
   "metadata": {
    "ExecuteTime": {
     "end_time": "2020-06-15T20:43:03.392731Z",
     "start_time": "2020-06-15T20:43:03.388743Z"
    }
   },
   "outputs": [
    {
     "name": "stdout",
     "output_type": "stream",
     "text": [
      "[' but they ']\n"
     ]
    }
   ],
   "source": [
    "pattern = ',(.*)are not\\.$'\n",
    "print(re.findall(pattern, text))"
   ]
  },
  {
   "cell_type": "code",
   "execution_count": 194,
   "metadata": {
    "ExecuteTime": {
     "end_time": "2020-06-15T20:43:23.932668Z",
     "start_time": "2020-06-15T20:43:23.928679Z"
    }
   },
   "outputs": [
    {
     "name": "stdout",
     "output_type": "stream",
     "text": [
      "[' but they are not.']\n"
     ]
    }
   ],
   "source": [
    "pattern = ',(.*are not\\.$)'\n",
    "print(re.findall(pattern, text))"
   ]
  },
  {
   "cell_type": "markdown",
   "metadata": {},
   "source": [
    "### How would I remove first space?"
   ]
  },
  {
   "cell_type": "code",
   "execution_count": 195,
   "metadata": {
    "ExecuteTime": {
     "end_time": "2020-06-15T20:43:37.692204Z",
     "start_time": "2020-06-15T20:43:37.688215Z"
    }
   },
   "outputs": [
    {
     "name": "stdout",
     "output_type": "stream",
     "text": [
      "['but they are not.']\n"
     ]
    }
   ],
   "source": [
    "pattern = ', (.*are not.$)'\n",
    "print(re.findall(pattern, text))"
   ]
  },
  {
   "cell_type": "code",
   "execution_count": 236,
   "metadata": {
    "ExecuteTime": {
     "end_time": "2020-06-15T21:00:55.109659Z",
     "start_time": "2020-06-15T21:00:55.106695Z"
    }
   },
   "outputs": [],
   "source": [
    "x = '8the{78} and bla4{93}'"
   ]
  },
  {
   "cell_type": "code",
   "execution_count": 226,
   "metadata": {
    "ExecuteTime": {
     "end_time": "2020-06-15T20:53:29.892386Z",
     "start_time": "2020-06-15T20:53:29.887400Z"
    }
   },
   "outputs": [
    {
     "data": {
      "text/plain": [
       "['the', 'bla']"
      ]
     },
     "execution_count": 226,
     "metadata": {},
     "output_type": "execute_result"
    }
   ],
   "source": [
    "re.findall('([a-z]+)\\d?{\\d+}', x)"
   ]
  },
  {
   "cell_type": "code",
   "execution_count": 241,
   "metadata": {
    "ExecuteTime": {
     "end_time": "2020-06-15T21:02:01.762809Z",
     "start_time": "2020-06-15T21:02:01.757822Z"
    }
   },
   "outputs": [
    {
     "data": {
      "text/plain": [
       "['4{93}']"
      ]
     },
     "execution_count": 241,
     "metadata": {},
     "output_type": "execute_result"
    }
   ],
   "source": [
    "re.findall('\\d+{\\d+}', x)"
   ]
  },
  {
   "cell_type": "code",
   "execution_count": null,
   "metadata": {},
   "outputs": [],
   "source": []
  },
  {
   "cell_type": "code",
   "execution_count": null,
   "metadata": {},
   "outputs": [],
   "source": []
  },
  {
   "cell_type": "markdown",
   "metadata": {},
   "source": [
    "## So getting back to quantifiers\n",
    "\n",
    "> `*` matches **0 or more** times"
   ]
  },
  {
   "cell_type": "code",
   "execution_count": null,
   "metadata": {},
   "outputs": [],
   "source": [
    "text = \"The cacat complicit cat interacted with the other cats exactly as we expected caaaat.\"\n",
    "\n",
    "pattern = \"ca?\\w*t\"\n",
    "print(re.findall(pattern, text))"
   ]
  },
  {
   "cell_type": "code",
   "execution_count": null,
   "metadata": {},
   "outputs": [],
   "source": [
    "pattern = \"ca+t\"\n",
    "print(re.findall(pattern, text))"
   ]
  },
  {
   "cell_type": "markdown",
   "metadata": {},
   "source": [
    "> `?` checks if the previous character matches _ or _ times"
   ]
  },
  {
   "cell_type": "code",
   "execution_count": null,
   "metadata": {},
   "outputs": [],
   "source": [
    "text = \"The colonel likes the color blue\"\n",
    "\n",
    "pattern = \"colou?r\"\n",
    "print(re.findall(pattern, text))"
   ]
  },
  {
   "cell_type": "markdown",
   "metadata": {},
   "source": [
    "How the Regex engine works?"
   ]
  },
  {
   "cell_type": "code",
   "execution_count": null,
   "metadata": {},
   "outputs": [],
   "source": [
    "text = \"Is the correct spelling color, colour, or colr?\"\n",
    "\n",
    "pattern = \"colou?r\"\n",
    "print(re.findall(pattern, text))"
   ]
  },
  {
   "cell_type": "markdown",
   "metadata": {},
   "source": [
    "# Important Regex Concept: Greediness\n"
   ]
  },
  {
   "cell_type": "markdown",
   "metadata": {},
   "source": [
    "What will this match?"
   ]
  },
  {
   "cell_type": "code",
   "execution_count": null,
   "metadata": {},
   "outputs": [],
   "source": [
    "text = 'You are yelling! So I will yell too! Let me yell!.'\n",
    "\n",
    "# anything up to exclamation point\n",
    "pattern = \".*!\"\n",
    "print(re.findall(pattern, text))"
   ]
  },
  {
   "cell_type": "code",
   "execution_count": null,
   "metadata": {},
   "outputs": [],
   "source": [
    "# To make the quantifier non-greedy, you'd have to use the ?\n",
    "# In this case, the ? does not mean exactly 'match one or zero times'\n",
    "\n",
    "pattern = \".*?!\"\n",
    "re.findall(pattern, text)"
   ]
  },
  {
   "cell_type": "markdown",
   "metadata": {},
   "source": [
    "# Character Patterns"
   ]
  },
  {
   "cell_type": "markdown",
   "metadata": {},
   "source": [
    "* \\w: Any alphanumeric character.\n",
    "* \\W: Any non-alphanumeric character.\n",
    "* \\d: Any numeric character.\n",
    "* \\D: Any non-numeric character.\n",
    "* \\s: Any whitespace characters.\n",
    "* \\S: Any non-whitespace characters."
   ]
  },
  {
   "cell_type": "code",
   "execution_count": null,
   "metadata": {},
   "outputs": [],
   "source": [
    "text = \"Th1s is going to_be a weird sentence with @ bunch-of-$tuff in it <3.\"\n",
    "\n",
    "pattern = '\\w'\n",
    "print(re.findall(pattern, text))\n"
   ]
  },
  {
   "cell_type": "code",
   "execution_count": null,
   "metadata": {},
   "outputs": [],
   "source": [
    "text = \"Th1s is going to_be a weird sentence with @ bunch-of-$tuff in it <3.\"\n",
    "\n",
    "pattern = '\\W'\n",
    "print(re.findall(pattern, text))\n"
   ]
  },
  {
   "cell_type": "code",
   "execution_count": null,
   "metadata": {},
   "outputs": [],
   "source": [
    "text = \"Th1s is going to_be a weird sentence with @ bunch-of-$tuff in it <3.\"\n",
    "pattern = '\\d'\n",
    "print(re.findall(pattern, text))"
   ]
  },
  {
   "cell_type": "code",
   "execution_count": null,
   "metadata": {},
   "outputs": [],
   "source": [
    "text = \"Th1s is going to_be a weird sentence with @ bunch-of-$tuff in it <3.\"\n",
    "pattern = '\\D'\n",
    "print(re.findall(pattern, text))"
   ]
  },
  {
   "cell_type": "code",
   "execution_count": null,
   "metadata": {},
   "outputs": [],
   "source": [
    "text = \"If you tell the truth 1 time, you don't have to remember anything 2 times.\"\n",
    "\n",
    "pattern = '\\w+'\n",
    "print(re.findall(pattern, text))"
   ]
  },
  {
   "cell_type": "code",
   "execution_count": null,
   "metadata": {},
   "outputs": [],
   "source": [
    "## word length\n",
    "pattern = '\\w{4,}'\n",
    "print(re.findall(pattern, text))"
   ]
  },
  {
   "cell_type": "code",
   "execution_count": null,
   "metadata": {},
   "outputs": [],
   "source": [
    "text = \"TerraPower, a nuclear-energy company founded by Bill Gates, is unlikely to follow through on building a demonstration reactor in China, due largely to the Trump administration’s crackdown on the country.\"\n",
    "\n",
    "pattern = '[A-Z][a-z]+'\n",
    "print(re.findall(pattern, text))"
   ]
  },
  {
   "cell_type": "code",
   "execution_count": null,
   "metadata": {},
   "outputs": [],
   "source": [
    "text = \"TerraPower, a nuclear-energy company founded by Bill Gates, is unlikely to follow through on building a demonstration reactor in China, due largely to the Trump administration’s crackdown on the country.\"\n",
    "\n",
    "pattern = '[A-Z][a-zA-Z]+'\n",
    "print(re.findall(pattern, text))\n",
    "\n"
   ]
  },
  {
   "cell_type": "markdown",
   "metadata": {},
   "source": [
    "# Find phone number patterns"
   ]
  },
  {
   "cell_type": "code",
   "execution_count": null,
   "metadata": {},
   "outputs": [],
   "source": [
    "text = \"\"\"\n",
    "Aeromexico 800-237-6639\n",
    "Air Canada 888-247-2262\n",
    "Air Canada Rouge 888-247-2262\n",
    "Air Creebec 800-567-6567\n",
    "Minha casa +55 11 92319-2323\n",
    "Andre +55 021 92319-2323\n",
    "Andre 21 92319-2323\n",
    "Joao +55 11 92319-2323\n",
    "Air Inuit 800-361-2965\n",
    "Air North 800-661-0407\n",
    "Air Tindi 888-545-6794\n",
    "Air Transat 866-847-1112\n",
    "Alaska Airlines 800-426-0333, 866-516-1685\"\"\""
   ]
  },
  {
   "cell_type": "code",
   "execution_count": null,
   "metadata": {},
   "outputs": [],
   "source": [
    "re.findall(pattern, text)"
   ]
  },
  {
   "cell_type": "markdown",
   "metadata": {},
   "source": [
    "https://phoneregex.com/"
   ]
  },
  {
   "cell_type": "markdown",
   "metadata": {},
   "source": [
    "# Apply regex using lambdas:"
   ]
  },
  {
   "cell_type": "code",
   "execution_count": 242,
   "metadata": {
    "ExecuteTime": {
     "end_time": "2020-06-15T21:03:17.335459Z",
     "start_time": "2020-06-15T21:03:16.886122Z"
    }
   },
   "outputs": [],
   "source": [
    "df = pd.read_csv('https://raw.githubusercontent.com/rfordatascience/tidytuesday/36076a70755470f23a5fe886a0348391c940b4e2/data/2020/2020-04-21/gdpr_text.tsv', sep='\\t')"
   ]
  },
  {
   "cell_type": "code",
   "execution_count": 243,
   "metadata": {
    "ExecuteTime": {
     "end_time": "2020-06-15T21:03:17.352420Z",
     "start_time": "2020-06-15T21:03:17.336424Z"
    }
   },
   "outputs": [
    {
     "data": {
      "text/html": [
       "<div>\n",
       "<style scoped>\n",
       "    .dataframe tbody tr th:only-of-type {\n",
       "        vertical-align: middle;\n",
       "    }\n",
       "\n",
       "    .dataframe tbody tr th {\n",
       "        vertical-align: top;\n",
       "    }\n",
       "\n",
       "    .dataframe thead th {\n",
       "        text-align: right;\n",
       "    }\n",
       "</style>\n",
       "<table border=\"1\" class=\"dataframe\">\n",
       "  <thead>\n",
       "    <tr style=\"text-align: right;\">\n",
       "      <th></th>\n",
       "      <th>chapter</th>\n",
       "      <th>chapter_title</th>\n",
       "      <th>article</th>\n",
       "      <th>article_title</th>\n",
       "      <th>sub_article</th>\n",
       "      <th>gdpr_text</th>\n",
       "      <th>href</th>\n",
       "    </tr>\n",
       "  </thead>\n",
       "  <tbody>\n",
       "    <tr>\n",
       "      <th>0</th>\n",
       "      <td>1</td>\n",
       "      <td>General provisions</td>\n",
       "      <td>1</td>\n",
       "      <td>Subject-matter and objectives</td>\n",
       "      <td>1</td>\n",
       "      <td>This Regulation lays down rules relating to th...</td>\n",
       "      <td>http://gdpr-info.eu/art-1-gdpr/</td>\n",
       "    </tr>\n",
       "    <tr>\n",
       "      <th>1</th>\n",
       "      <td>1</td>\n",
       "      <td>General provisions</td>\n",
       "      <td>1</td>\n",
       "      <td>Subject-matter and objectives</td>\n",
       "      <td>2</td>\n",
       "      <td>This Regulation protects fundamental rights an...</td>\n",
       "      <td>http://gdpr-info.eu/art-1-gdpr/</td>\n",
       "    </tr>\n",
       "    <tr>\n",
       "      <th>2</th>\n",
       "      <td>1</td>\n",
       "      <td>General provisions</td>\n",
       "      <td>1</td>\n",
       "      <td>Subject-matter and objectives</td>\n",
       "      <td>3</td>\n",
       "      <td>The free movement of personal data within the ...</td>\n",
       "      <td>http://gdpr-info.eu/art-1-gdpr/</td>\n",
       "    </tr>\n",
       "    <tr>\n",
       "      <th>3</th>\n",
       "      <td>1</td>\n",
       "      <td>General provisions</td>\n",
       "      <td>2</td>\n",
       "      <td>Material scope</td>\n",
       "      <td>1</td>\n",
       "      <td>This Regulation applies to the processing of p...</td>\n",
       "      <td>http://gdpr-info.eu/art-2-gdpr/</td>\n",
       "    </tr>\n",
       "    <tr>\n",
       "      <th>4</th>\n",
       "      <td>1</td>\n",
       "      <td>General provisions</td>\n",
       "      <td>2</td>\n",
       "      <td>Material scope</td>\n",
       "      <td>2</td>\n",
       "      <td>This Regulation does not apply to the processi...</td>\n",
       "      <td>http://gdpr-info.eu/art-2-gdpr/</td>\n",
       "    </tr>\n",
       "    <tr>\n",
       "      <th>...</th>\n",
       "      <td>...</td>\n",
       "      <td>...</td>\n",
       "      <td>...</td>\n",
       "      <td>...</td>\n",
       "      <td>...</td>\n",
       "      <td>...</td>\n",
       "      <td>...</td>\n",
       "    </tr>\n",
       "    <tr>\n",
       "      <th>420</th>\n",
       "      <td>11</td>\n",
       "      <td>Final provisions</td>\n",
       "      <td>97</td>\n",
       "      <td>Commission reports</td>\n",
       "      <td>4</td>\n",
       "      <td>In carrying out the evaluations and reviews re...</td>\n",
       "      <td>http://gdpr-info.eu/art-97-gdpr/</td>\n",
       "    </tr>\n",
       "    <tr>\n",
       "      <th>421</th>\n",
       "      <td>11</td>\n",
       "      <td>Final provisions</td>\n",
       "      <td>97</td>\n",
       "      <td>Commission reports</td>\n",
       "      <td>5</td>\n",
       "      <td>The Commission shall, if necessary, submit app...</td>\n",
       "      <td>http://gdpr-info.eu/art-97-gdpr/</td>\n",
       "    </tr>\n",
       "    <tr>\n",
       "      <th>422</th>\n",
       "      <td>11</td>\n",
       "      <td>Final provisions</td>\n",
       "      <td>98</td>\n",
       "      <td>Review of other Union legal acts on data prote...</td>\n",
       "      <td>1</td>\n",
       "      <td>The Commission shall, if appropriate, submit l...</td>\n",
       "      <td>http://gdpr-info.eu/art-98-gdpr/</td>\n",
       "    </tr>\n",
       "    <tr>\n",
       "      <th>423</th>\n",
       "      <td>11</td>\n",
       "      <td>Final provisions</td>\n",
       "      <td>99</td>\n",
       "      <td>Entry into force and application</td>\n",
       "      <td>1</td>\n",
       "      <td>This Regulation shall enter into force on the ...</td>\n",
       "      <td>http://gdpr-info.eu/art-99-gdpr/</td>\n",
       "    </tr>\n",
       "    <tr>\n",
       "      <th>424</th>\n",
       "      <td>11</td>\n",
       "      <td>Final provisions</td>\n",
       "      <td>99</td>\n",
       "      <td>Entry into force and application</td>\n",
       "      <td>2</td>\n",
       "      <td>It shall apply from 25 May 2018.</td>\n",
       "      <td>http://gdpr-info.eu/art-99-gdpr/</td>\n",
       "    </tr>\n",
       "  </tbody>\n",
       "</table>\n",
       "<p>425 rows × 7 columns</p>\n",
       "</div>"
      ],
      "text/plain": [
       "     chapter       chapter_title  article  \\\n",
       "0          1  General provisions        1   \n",
       "1          1  General provisions        1   \n",
       "2          1  General provisions        1   \n",
       "3          1  General provisions        2   \n",
       "4          1  General provisions        2   \n",
       "..       ...                 ...      ...   \n",
       "420       11    Final provisions       97   \n",
       "421       11    Final provisions       97   \n",
       "422       11    Final provisions       98   \n",
       "423       11    Final provisions       99   \n",
       "424       11    Final provisions       99   \n",
       "\n",
       "                                         article_title  sub_article  \\\n",
       "0                        Subject-matter and objectives            1   \n",
       "1                        Subject-matter and objectives            2   \n",
       "2                        Subject-matter and objectives            3   \n",
       "3                                       Material scope            1   \n",
       "4                                       Material scope            2   \n",
       "..                                                 ...          ...   \n",
       "420                                 Commission reports            4   \n",
       "421                                 Commission reports            5   \n",
       "422  Review of other Union legal acts on data prote...            1   \n",
       "423                   Entry into force and application            1   \n",
       "424                   Entry into force and application            2   \n",
       "\n",
       "                                             gdpr_text  \\\n",
       "0    This Regulation lays down rules relating to th...   \n",
       "1    This Regulation protects fundamental rights an...   \n",
       "2    The free movement of personal data within the ...   \n",
       "3    This Regulation applies to the processing of p...   \n",
       "4    This Regulation does not apply to the processi...   \n",
       "..                                                 ...   \n",
       "420  In carrying out the evaluations and reviews re...   \n",
       "421  The Commission shall, if necessary, submit app...   \n",
       "422  The Commission shall, if appropriate, submit l...   \n",
       "423  This Regulation shall enter into force on the ...   \n",
       "424                   It shall apply from 25 May 2018.   \n",
       "\n",
       "                                 href  \n",
       "0     http://gdpr-info.eu/art-1-gdpr/  \n",
       "1     http://gdpr-info.eu/art-1-gdpr/  \n",
       "2     http://gdpr-info.eu/art-1-gdpr/  \n",
       "3     http://gdpr-info.eu/art-2-gdpr/  \n",
       "4     http://gdpr-info.eu/art-2-gdpr/  \n",
       "..                                ...  \n",
       "420  http://gdpr-info.eu/art-97-gdpr/  \n",
       "421  http://gdpr-info.eu/art-97-gdpr/  \n",
       "422  http://gdpr-info.eu/art-98-gdpr/  \n",
       "423  http://gdpr-info.eu/art-99-gdpr/  \n",
       "424  http://gdpr-info.eu/art-99-gdpr/  \n",
       "\n",
       "[425 rows x 7 columns]"
      ]
     },
     "execution_count": 243,
     "metadata": {},
     "output_type": "execute_result"
    }
   ],
   "source": [
    "df"
   ]
  },
  {
   "cell_type": "code",
   "execution_count": 251,
   "metadata": {
    "ExecuteTime": {
     "end_time": "2020-06-15T21:05:05.886269Z",
     "start_time": "2020-06-15T21:05:05.881281Z"
    }
   },
   "outputs": [
    {
     "data": {
      "text/plain": [
       "'Where the processing for a purpose other than that for which the personal data have been collected is not based on the data subject’s consent or on a Union or Member State law which constitutes a necessary and proportionate measure in a democratic society to safeguard the objectives referred to in Article 23(1), the controller shall, in order to ascertain whether processing for another purpose is compatible with the purpose for which the personal data are initially collected, take into account, inter alia\\nany link between the purposes for which the personal data have been collected and the purposes of the intended further processing\\nthe context in which the personal data have been collected, in particular regarding the relationship between data subjects and the controller\\nthe nature of the personal data, in particular whether special categories of personal data are processed, pursuant to Article 9, or whether personal data related to criminal convictions and offences are processed, pursuant to Article 10\\nthe possible consequences of the intended further processing for data subjects\\nthe existence of appropriate safeguards, which may include encryption or pseudonymisation.'"
      ]
     },
     "execution_count": 251,
     "metadata": {},
     "output_type": "execute_result"
    }
   ],
   "source": [
    "df.gdpr_text.head(30).loc[25]"
   ]
  },
  {
   "cell_type": "code",
   "execution_count": 253,
   "metadata": {
    "ExecuteTime": {
     "end_time": "2020-06-15T21:06:38.587406Z",
     "start_time": "2020-06-15T21:06:38.577460Z"
    },
    "scrolled": false
   },
   "outputs": [
    {
     "data": {
      "text/plain": [
       "0                                         []\n",
       "1                                         []\n",
       "2                                         []\n",
       "3                                         []\n",
       "4                                         []\n",
       "5                               [Article 98]\n",
       "6                                         []\n",
       "7                                         []\n",
       "8                                         []\n",
       "9                                         []\n",
       "10                                        []\n",
       "11                                        []\n",
       "12                  [Article 27, Article 51]\n",
       "13                                        []\n",
       "14                                        []\n",
       "15                                        []\n",
       "16                            [Article 1(1)]\n",
       "17            [Article 89(1), Article 89(1)]\n",
       "18                                        []\n",
       "19                                        []\n",
       "20                                        []\n",
       "21                                        []\n",
       "22                                        []\n",
       "23                                        []\n",
       "24                                        []\n",
       "25    [Article 23(1), Article 9, Article 10]\n",
       "26                                        []\n",
       "27                                        []\n",
       "28                                        []\n",
       "29                                        []\n",
       "Name: gdpr_text, dtype: object"
      ]
     },
     "execution_count": 253,
     "metadata": {},
     "output_type": "execute_result"
    }
   ],
   "source": [
    "df.gdpr_text.apply(lambda x : re.findall('[Aa]rticle \\d+\\(?\\d*\\)?', x)).head(30)"
   ]
  }
 ],
 "metadata": {
  "kernelspec": {
   "display_name": "Python 3",
   "language": "python",
   "name": "python3"
  },
  "language_info": {
   "codemirror_mode": {
    "name": "ipython",
    "version": 3
   },
   "file_extension": ".py",
   "mimetype": "text/x-python",
   "name": "python",
   "nbconvert_exporter": "python",
   "pygments_lexer": "ipython3",
   "version": "3.7.6"
  },
  "toc": {
   "base_numbering": 1,
   "nav_menu": {},
   "number_sections": true,
   "sideBar": true,
   "skip_h1_title": false,
   "title_cell": "Table of Contents",
   "title_sidebar": "Contents",
   "toc_cell": false,
   "toc_position": {},
   "toc_section_display": true,
   "toc_window_display": false
  },
  "varInspector": {
   "cols": {
    "lenName": 16,
    "lenType": 16,
    "lenVar": 40
   },
   "kernels_config": {
    "python": {
     "delete_cmd_postfix": "",
     "delete_cmd_prefix": "del ",
     "library": "var_list.py",
     "varRefreshCmd": "print(var_dic_list())"
    },
    "r": {
     "delete_cmd_postfix": ") ",
     "delete_cmd_prefix": "rm(",
     "library": "var_list.r",
     "varRefreshCmd": "cat(var_dic_list()) "
    }
   },
   "types_to_exclude": [
    "module",
    "function",
    "builtin_function_or_method",
    "instance",
    "_Feature"
   ],
   "window_display": false
  }
 },
 "nbformat": 4,
 "nbformat_minor": 2
}
