{
 "cells": [
  {
   "cell_type": "markdown",
   "metadata": {},
   "source": [
    "# Plotting in multiple axes"
   ]
  },
  {
   "cell_type": "code",
   "execution_count": null,
   "metadata": {
    "ExecuteTime": {
     "end_time": "2020-04-07T22:51:19.683230Z",
     "start_time": "2020-04-07T22:51:18.914305Z"
    }
   },
   "outputs": [],
   "source": [
    "import numpy as np\n",
    "import matplotlib.pyplot as plt\n",
    "import seaborn as sns\n",
    "import pandas as pd"
   ]
  },
  {
   "cell_type": "markdown",
   "metadata": {},
   "source": [
    "# Let's stop using plt.plot to gain more control."
   ]
  },
  {
   "cell_type": "markdown",
   "metadata": {},
   "source": [
    "## Reading dataframe"
   ]
  },
  {
   "cell_type": "code",
   "execution_count": null,
   "metadata": {
    "ExecuteTime": {
     "end_time": "2020-04-07T22:53:51.221990Z",
     "start_time": "2020-04-07T22:53:51.210027Z"
    }
   },
   "outputs": [],
   "source": [
    "df = pd.read_csv('data/exams.csv')\n",
    "df.head()"
   ]
  },
  {
   "cell_type": "code",
   "execution_count": null,
   "metadata": {
    "ExecuteTime": {
     "end_time": "2020-04-04T14:31:15.877951Z",
     "start_time": "2020-04-04T14:31:15.778218Z"
    }
   },
   "outputs": [],
   "source": [
    "plt.scatter(df['reading score'], df['writing score'])"
   ]
  },
  {
   "cell_type": "code",
   "execution_count": null,
   "metadata": {
    "ExecuteTime": {
     "end_time": "2020-04-07T22:54:47.990320Z",
     "start_time": "2020-04-07T22:54:47.881611Z"
    }
   },
   "outputs": [],
   "source": [
    "sns.scatterplot(df['reading score'], df['writing score'])"
   ]
  },
  {
   "cell_type": "code",
   "execution_count": null,
   "metadata": {
    "ExecuteTime": {
     "end_time": "2020-04-07T22:55:21.070863Z",
     "start_time": "2020-04-07T22:55:20.960136Z"
    }
   },
   "outputs": [],
   "source": [
    "sns.distplot(df['reading score'])"
   ]
  },
  {
   "cell_type": "markdown",
   "metadata": {},
   "source": [
    "## Figures, Subplots, Axes and Ticks"
   ]
  },
  {
   "cell_type": "markdown",
   "metadata": {},
   "source": [
    "When you call plt.plot, it implicitly creates an axes."
   ]
  },
  {
   "cell_type": "markdown",
   "metadata": {},
   "source": [
    "### Subplots"
   ]
  },
  {
   "cell_type": "code",
   "execution_count": null,
   "metadata": {
    "ExecuteTime": {
     "end_time": "2020-04-07T22:56:12.967553Z",
     "start_time": "2020-04-07T22:56:12.860838Z"
    }
   },
   "outputs": [],
   "source": [
    "fig, ax = plt.subplots(figsize=(12,8))"
   ]
  },
  {
   "cell_type": "markdown",
   "metadata": {},
   "source": [
    "## Como eu ploto no eixo que eu chamei de ax?"
   ]
  },
  {
   "cell_type": "code",
   "execution_count": null,
   "metadata": {
    "ExecuteTime": {
     "end_time": "2020-04-07T22:56:57.779217Z",
     "start_time": "2020-04-07T22:56:57.624630Z"
    }
   },
   "outputs": [],
   "source": [
    "fig, ax = plt.subplots()\n",
    "\n",
    "ax.scatter(df['reading score'], df['writing score'])"
   ]
  },
  {
   "cell_type": "markdown",
   "metadata": {},
   "source": [
    "#### More than 1 subplot.\n",
    "\n",
    "You can specify how many rows and columns"
   ]
  },
  {
   "cell_type": "code",
   "execution_count": null,
   "metadata": {},
   "outputs": [],
   "source": [
    "%matplotlib inline"
   ]
  },
  {
   "cell_type": "code",
   "execution_count": null,
   "metadata": {
    "ExecuteTime": {
     "end_time": "2020-04-07T23:03:13.316203Z",
     "start_time": "2020-04-07T23:03:13.160590Z"
    }
   },
   "outputs": [],
   "source": [
    "fig, axes = plt.subplots(nrows=1, ncols=2)\n",
    "\n",
    "axes[1].scatter(df['reading score'], df['writing score'])\n",
    "\n",
    "axes[0].scatter(df['math score'], df['writing score'])\n"
   ]
  },
  {
   "cell_type": "code",
   "execution_count": null,
   "metadata": {
    "ExecuteTime": {
     "end_time": "2020-04-07T23:03:24.163393Z",
     "start_time": "2020-04-07T23:03:24.007724Z"
    }
   },
   "outputs": [],
   "source": [
    "fig, axes = plt.subplots(nrows=1, ncols=2)\n",
    "\n",
    "axes[1].scatter(df['reading score'], df['writing score'])"
   ]
  },
  {
   "cell_type": "code",
   "execution_count": null,
   "metadata": {
    "ExecuteTime": {
     "end_time": "2020-04-07T23:03:38.073347Z",
     "start_time": "2020-04-07T23:03:37.919758Z"
    }
   },
   "outputs": [],
   "source": [
    "fig, axes = plt.subplots(nrows=2, ncols=1)\n",
    "\n",
    "axes[0].scatter(df['reading score'], df['writing score'])"
   ]
  },
  {
   "cell_type": "code",
   "execution_count": null,
   "metadata": {
    "ExecuteTime": {
     "end_time": "2020-04-07T23:03:43.571236Z",
     "start_time": "2020-04-07T23:03:43.420643Z"
    }
   },
   "outputs": [],
   "source": [
    "fig, axes = plt.subplots(nrows=2, ncols=1)\n",
    "\n",
    "axes[0].scatter(df['reading score'], df['writing score'])\n",
    "\n",
    "axes[1].scatter(df['math score'], df['writing score'])\n",
    "\n"
   ]
  },
  {
   "cell_type": "markdown",
   "metadata": {},
   "source": [
    "#### Figsize \n",
    "\n",
    "Tuple containing the value of the size of the (x,y) "
   ]
  },
  {
   "cell_type": "code",
   "execution_count": null,
   "metadata": {
    "ExecuteTime": {
     "end_time": "2020-04-07T23:06:44.159096Z",
     "start_time": "2020-04-07T23:06:43.970601Z"
    }
   },
   "outputs": [],
   "source": [
    "fig, axes = plt.subplots(nrows=1, ncols=2, figsize=(12,4))\n",
    "\n",
    "axes[0].scatter(df['reading score'], df['writing score'])\n",
    "axes[1].scatter(df['math score'], df['writing score'])\n",
    "\n",
    "axes[0].set_xlabel('My label x')\n",
    "axes[0].set_ylabel('My label y')\n",
    "axes[0].set_title('My title');\n",
    "\n",
    "axes[1].set_xlabel('My label x')\n",
    "axes[1].set_ylabel('My label y')\n",
    "axes[1].set_title('My title');"
   ]
  },
  {
   "cell_type": "code",
   "execution_count": null,
   "metadata": {
    "ExecuteTime": {
     "end_time": "2020-04-07T23:07:16.996092Z",
     "start_time": "2020-04-07T23:07:16.794656Z"
    }
   },
   "outputs": [],
   "source": [
    "fig, (ax1, ax2) = plt.subplots(nrows=1, ncols=2, figsize=(12,8))\n",
    "\n",
    "ax1.scatter(df['reading score'], df['writing score'])\n",
    "ax2.scatter(df['math score'], df['writing score'])\n",
    "\n",
    "ax1.set_xlabel('X')\n",
    "ax2.set_ylabel('Y LABEL do eixo 2')"
   ]
  },
  {
   "cell_type": "code",
   "execution_count": null,
   "metadata": {
    "ExecuteTime": {
     "end_time": "2020-04-07T23:07:42.040592Z",
     "start_time": "2020-04-07T23:07:42.036603Z"
    }
   },
   "outputs": [],
   "source": [
    "x = np.array([1,2,3,4,5,6,7])"
   ]
  },
  {
   "cell_type": "code",
   "execution_count": null,
   "metadata": {
    "ExecuteTime": {
     "end_time": "2020-04-07T23:09:27.590586Z",
     "start_time": "2020-04-07T23:09:27.274431Z"
    }
   },
   "outputs": [],
   "source": [
    "fig, axes = plt.subplots(nrows=2, ncols=2, figsize=(12,8))\n",
    "\n",
    "axes[0,0].scatter(x, x)\n",
    "axes[1,1].scatter(x, x**2)"
   ]
  },
  {
   "cell_type": "code",
   "execution_count": null,
   "metadata": {
    "ExecuteTime": {
     "end_time": "2020-04-07T23:11:55.839792Z",
     "start_time": "2020-04-07T23:11:55.709146Z"
    }
   },
   "outputs": [],
   "source": [
    "fig = plt.figure()\n",
    "\n",
    "fig.add_subplot(2,2, 1)\n",
    "plt.plot(x, x)\n",
    "\n",
    "fig.add_subplot(2,2, 4)\n",
    "plt.plot(x, x**2)"
   ]
  },
  {
   "cell_type": "markdown",
   "metadata": {},
   "source": [
    "## Axes"
   ]
  },
  {
   "cell_type": "code",
   "execution_count": null,
   "metadata": {
    "ExecuteTime": {
     "end_time": "2020-04-07T23:16:44.117754Z",
     "start_time": "2020-04-07T23:16:43.969869Z"
    }
   },
   "outputs": [],
   "source": [
    "fig = plt.figure()\n",
    "\n",
    "# [left, bottom, width, height]\n",
    "ax1 = fig.add_axes([0, 0, 1.0, .4])\n",
    "\n",
    "ax2 = fig.add_axes([0, 0.5, 0.4, 0.4])\n",
    "\n"
   ]
  },
  {
   "cell_type": "code",
   "execution_count": null,
   "metadata": {
    "ExecuteTime": {
     "end_time": "2020-04-07T23:17:37.502776Z",
     "start_time": "2020-04-07T23:17:37.291677Z"
    }
   },
   "outputs": [],
   "source": [
    "fig = plt.figure(figsize=(6,3))\n",
    "\n",
    "ax1 = fig.add_axes([0, 0.5, 1.0, 0.4])\n",
    "ax2 = fig.add_axes([0, 0, 0.8, 0.4])\n",
    "ax3 = fig.add_axes([0, 0.2, 0.5, 0.4])\n",
    "\n",
    "x = np.arange(0, 3, 0.1)\n",
    "\n",
    "ax1.plot(x, np.sin(x))\n",
    "ax2.plot(x, np.exp(x))\n",
    "ax3.plot(x, x**2)\n",
    "plt.show()"
   ]
  },
  {
   "cell_type": "markdown",
   "metadata": {},
   "source": [
    "### Setting parameters"
   ]
  },
  {
   "cell_type": "code",
   "execution_count": null,
   "metadata": {
    "ExecuteTime": {
     "end_time": "2020-04-07T23:19:34.498049Z",
     "start_time": "2020-04-07T23:19:34.329499Z"
    }
   },
   "outputs": [],
   "source": [
    "fig = plt.figure()\n",
    "\n",
    "ax1 = fig.add_axes([0, 0.6, 1.2, 0.4])\n",
    "ax2 = fig.add_axes([0, 0, 0.8, 0.4])\n",
    "\n",
    "\n",
    "x = np.arange(0, 3, 0.1)\n",
    "\n",
    "ax1.plot(x, np.sin(x))\n",
    "ax2.plot(x, np.exp(x))\n",
    "\n",
    "ax1.set_xlabel('x', fontsize=15, color='red')\n",
    "ax1.set_ylabel('y', fontsize=15, color='red')\n",
    "ax1.set_title('sin(x)', fontsize=15, color='red')"
   ]
  },
  {
   "cell_type": "markdown",
   "metadata": {},
   "source": [
    "# Using pandas plotting "
   ]
  },
  {
   "cell_type": "code",
   "execution_count": null,
   "metadata": {
    "ExecuteTime": {
     "end_time": "2020-04-07T23:20:04.514570Z",
     "start_time": "2020-04-07T23:20:04.506582Z"
    }
   },
   "outputs": [],
   "source": [
    "df.head()"
   ]
  },
  {
   "cell_type": "code",
   "execution_count": null,
   "metadata": {
    "ExecuteTime": {
     "end_time": "2020-04-07T23:20:23.118864Z",
     "start_time": "2020-04-07T23:20:23.012149Z"
    }
   },
   "outputs": [],
   "source": [
    "plt.hist(df['math score'])"
   ]
  },
  {
   "cell_type": "code",
   "execution_count": null,
   "metadata": {
    "ExecuteTime": {
     "end_time": "2020-04-07T23:20:48.661708Z",
     "start_time": "2020-04-07T23:20:48.545021Z"
    }
   },
   "outputs": [],
   "source": [
    "df['math score'].plot(kind='hist')"
   ]
  },
  {
   "cell_type": "code",
   "execution_count": null,
   "metadata": {
    "ExecuteTime": {
     "end_time": "2020-04-07T23:21:52.077553Z",
     "start_time": "2020-04-07T23:21:51.944117Z"
    }
   },
   "outputs": [],
   "source": [
    "df.plot(kind='kde')"
   ]
  },
  {
   "cell_type": "code",
   "execution_count": null,
   "metadata": {
    "ExecuteTime": {
     "end_time": "2020-04-07T23:21:32.950697Z",
     "start_time": "2020-04-07T23:21:32.849967Z"
    }
   },
   "outputs": [],
   "source": [
    "df['math score'].plot(kind='kde')"
   ]
  },
  {
   "cell_type": "markdown",
   "metadata": {},
   "source": [
    "### Adding pandas plotting to subplots"
   ]
  },
  {
   "cell_type": "code",
   "execution_count": null,
   "metadata": {
    "ExecuteTime": {
     "end_time": "2020-04-07T23:23:29.638278Z",
     "start_time": "2020-04-07T23:23:29.432828Z"
    }
   },
   "outputs": [],
   "source": [
    "fig, axes = plt.subplots(1, 2, figsize=(12,5))\n",
    "\n",
    "df['math score'].plot(kind='kde', ax=axes[0])\n",
    "df['math score'].plot(kind='hist', ax=axes[1])"
   ]
  },
  {
   "cell_type": "markdown",
   "metadata": {},
   "source": [
    "# Adding axes wherever I want."
   ]
  },
  {
   "cell_type": "code",
   "execution_count": null,
   "metadata": {
    "ExecuteTime": {
     "end_time": "2020-04-07T23:23:54.484368Z",
     "start_time": "2020-04-07T23:23:54.304210Z"
    }
   },
   "outputs": [],
   "source": [
    "fig = plt.figure()\n",
    "\n",
    "ax1 = fig.add_axes([0, 0.6, 1.2, 0.4])\n",
    "ax2 = fig.add_axes([0, 0, 0.8, 0.4])\n",
    "\n",
    "df['math score'].plot(kind='kde', ax=ax1)\n",
    "df['math score'].plot(kind='hist', ax=ax2)"
   ]
  },
  {
   "cell_type": "code",
   "execution_count": null,
   "metadata": {
    "ExecuteTime": {
     "end_time": "2020-04-07T23:24:26.108607Z",
     "start_time": "2020-04-07T23:24:25.925099Z"
    }
   },
   "outputs": [],
   "source": [
    "fig = plt.figure()\n",
    "\n",
    "ax1 = fig.add_axes([0, 0.6, 1.2, 0.4])\n",
    "df['math score'].plot(kind='kde')\n",
    "\n",
    "ax2 = fig.add_axes([0, 0, 0.8, 0.4])\n",
    "df['math score'].plot(kind='hist')"
   ]
  },
  {
   "cell_type": "code",
   "execution_count": null,
   "metadata": {
    "ExecuteTime": {
     "end_time": "2020-04-07T23:24:45.070236Z",
     "start_time": "2020-04-07T23:24:44.890716Z"
    }
   },
   "outputs": [],
   "source": [
    "fig, axes = plt.subplots(1, 2)\n",
    "\n",
    "df['math score'].plot(kind='kde', ax=axes[0])\n",
    "df['math score'].plot(kind='hist', ax=axes[1])"
   ]
  },
  {
   "cell_type": "markdown",
   "metadata": {},
   "source": [
    "## Practical examples"
   ]
  },
  {
   "cell_type": "markdown",
   "metadata": {
    "ExecuteTime": {
     "end_time": "2020-03-25T04:44:34.622694Z",
     "start_time": "2020-03-25T04:44:34.618704Z"
    }
   },
   "source": [
    "The closing price of 10 stocks on the first trading day of each month from Jan 2007 to Jan 2017."
   ]
  },
  {
   "cell_type": "code",
   "execution_count": null,
   "metadata": {
    "ExecuteTime": {
     "end_time": "2020-04-07T23:24:54.953040Z",
     "start_time": "2020-04-07T23:24:54.939052Z"
    }
   },
   "outputs": [],
   "source": [
    "stock_data = pd.read_csv('data/stocks.csv')\n",
    "stock_data.head()"
   ]
  },
  {
   "cell_type": "code",
   "execution_count": null,
   "metadata": {
    "ExecuteTime": {
     "end_time": "2020-04-07T23:25:49.615235Z",
     "start_time": "2020-04-07T23:25:49.595289Z"
    }
   },
   "outputs": [],
   "source": [
    "stock_data['Date'] = pd.to_datetime(stock_data['Date'])\n",
    "stock_data.head()"
   ]
  },
  {
   "cell_type": "markdown",
   "metadata": {},
   "source": [
    "\n",
    "\n",
    "\n",
    "### Compare prices from AAPL, GOOG, MSFT and NFLX"
   ]
  },
  {
   "cell_type": "code",
   "execution_count": null,
   "metadata": {
    "ExecuteTime": {
     "end_time": "2020-04-07T23:27:28.473103Z",
     "start_time": "2020-04-07T23:27:28.381322Z"
    }
   },
   "outputs": [],
   "source": [
    "#stock_data[['AAPL']].plot()\n",
    "plt.plot(stock_data['AAPL'])"
   ]
  },
  {
   "cell_type": "code",
   "execution_count": null,
   "metadata": {
    "ExecuteTime": {
     "end_time": "2020-04-07T23:40:25.463099Z",
     "start_time": "2020-04-07T23:40:25.118963Z"
    }
   },
   "outputs": [],
   "source": [
    "figure, axes = plt.subplots(2, 2, figsize=(15, 9))\n",
    "\n",
    "axes[0,1].plot(stock_data['AAPL'])\n",
    "axes[0,1].set_title('AAPL')\n",
    "\n",
    "\n",
    "stock_data['MSFT'].plot(ax=axes[0,0])\n",
    "axes[0,0].set_title('MSFT')\n",
    "\n",
    "\n",
    "axes[1,0].plot(stock_data['MDLZ'])\n",
    "axes[1,0].set_title('MDLZ')\n",
    "\n",
    "stock_data['NFLX'].plot(ax=axes[1,1])\n",
    "axes[1,1].set_title('NFLX')\n",
    "\n",
    "for row in range(axes.shape[0]):\n",
    "    for col in range(axes.shape[1]):\n",
    "        axes[row,col].set_ylim([0, 150])"
   ]
  }
 ],
 "metadata": {
  "kernelspec": {
   "display_name": "Python 3",
   "language": "python",
   "name": "python3"
  },
  "language_info": {
   "codemirror_mode": {
    "name": "ipython",
    "version": 3
   },
   "file_extension": ".py",
   "mimetype": "text/x-python",
   "name": "python",
   "nbconvert_exporter": "python",
   "pygments_lexer": "ipython3",
   "version": "3.7.6"
  },
  "toc": {
   "base_numbering": 1,
   "nav_menu": {},
   "number_sections": true,
   "sideBar": true,
   "skip_h1_title": false,
   "title_cell": "Table of Contents",
   "title_sidebar": "Contents",
   "toc_cell": false,
   "toc_position": {},
   "toc_section_display": true,
   "toc_window_display": false
  },
  "varInspector": {
   "cols": {
    "lenName": 16,
    "lenType": 16,
    "lenVar": 40
   },
   "kernels_config": {
    "python": {
     "delete_cmd_postfix": "",
     "delete_cmd_prefix": "del ",
     "library": "var_list.py",
     "varRefreshCmd": "print(var_dic_list())"
    },
    "r": {
     "delete_cmd_postfix": ") ",
     "delete_cmd_prefix": "rm(",
     "library": "var_list.r",
     "varRefreshCmd": "cat(var_dic_list()) "
    }
   },
   "types_to_exclude": [
    "module",
    "function",
    "builtin_function_or_method",
    "instance",
    "_Feature"
   ],
   "window_display": false
  }
 },
 "nbformat": 4,
 "nbformat_minor": 2
}
