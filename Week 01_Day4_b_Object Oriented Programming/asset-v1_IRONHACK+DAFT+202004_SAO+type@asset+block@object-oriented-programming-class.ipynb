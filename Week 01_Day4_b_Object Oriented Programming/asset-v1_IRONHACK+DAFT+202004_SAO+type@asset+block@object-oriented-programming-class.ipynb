{
 "cells": [
  {
   "cell_type": "markdown",
   "metadata": {},
   "source": [
    "# Imperative paradigm"
   ]
  },
  {
   "cell_type": "code",
   "execution_count": 1,
   "metadata": {
    "ExecuteTime": {
     "end_time": "2020-06-04T17:25:41.480929Z",
     "start_time": "2020-06-04T17:25:41.476968Z"
    }
   },
   "outputs": [],
   "source": [
    "def build_sentences():\n",
    "    pass\n",
    "\n",
    "def clean_sentences(sentences):\n",
    "    pass"
   ]
  },
  {
   "cell_type": "code",
   "execution_count": null,
   "metadata": {},
   "outputs": [],
   "source": [
    "build_sentences()\n",
    "\n",
    "clean_sentences()"
   ]
  },
  {
   "cell_type": "code",
   "execution_count": null,
   "metadata": {},
   "outputs": [],
   "source": [
    "def acelerate(car):\n",
    "    pass"
   ]
  },
  {
   "cell_type": "code",
   "execution_count": null,
   "metadata": {},
   "outputs": [],
   "source": [
    "acelerate(car)"
   ]
  },
  {
   "cell_type": "code",
   "execution_count": null,
   "metadata": {},
   "outputs": [],
   "source": [
    "car.acelerate()"
   ]
  },
  {
   "cell_type": "markdown",
   "metadata": {},
   "source": [
    "# Object-Oriented Class"
   ]
  },
  {
   "cell_type": "markdown",
   "metadata": {},
   "source": [
    "Introduction to object-oriented computer paradigm"
   ]
  },
  {
   "cell_type": "code",
   "execution_count": 2,
   "metadata": {
    "ExecuteTime": {
     "end_time": "2020-06-04T17:30:20.423850Z",
     "start_time": "2020-06-04T17:30:20.420886Z"
    }
   },
   "outputs": [],
   "source": [
    "my_list = [1,2,3]"
   ]
  },
  {
   "cell_type": "code",
   "execution_count": 3,
   "metadata": {
    "ExecuteTime": {
     "end_time": "2020-06-04T17:30:36.473596Z",
     "start_time": "2020-06-04T17:30:36.470632Z"
    }
   },
   "outputs": [],
   "source": [
    "my_list.append(4)"
   ]
  },
  {
   "cell_type": "code",
   "execution_count": 4,
   "metadata": {
    "ExecuteTime": {
     "end_time": "2020-06-04T17:32:04.454368Z",
     "start_time": "2020-06-04T17:32:04.445392Z"
    }
   },
   "outputs": [
    {
     "data": {
      "text/plain": [
       "[1, 2, 3, 4]"
      ]
     },
     "execution_count": 4,
     "metadata": {},
     "output_type": "execute_result"
    }
   ],
   "source": [
    "my_list"
   ]
  },
  {
   "cell_type": "code",
   "execution_count": 5,
   "metadata": {
    "ExecuteTime": {
     "end_time": "2020-06-04T17:36:23.756621Z",
     "start_time": "2020-06-04T17:36:23.752607Z"
    },
    "collapsed": true
   },
   "outputs": [
    {
     "data": {
      "text/plain": [
       "['C:\\\\Users\\\\andreaguiar\\\\Desktop\\\\usr\\\\dev\\\\ironhack\\\\ft202006\\\\classes\\\\week1\\\\7_Object_Oriented_Design',\n",
       " 'c:\\\\programas\\\\anaconda3\\\\python37.zip',\n",
       " 'c:\\\\programas\\\\anaconda3\\\\DLLs',\n",
       " 'c:\\\\programas\\\\anaconda3\\\\lib',\n",
       " 'c:\\\\programas\\\\anaconda3',\n",
       " '',\n",
       " 'C:\\\\Users\\\\andreaguiar\\\\AppData\\\\Roaming\\\\Python\\\\Python37\\\\site-packages',\n",
       " 'C:\\\\Users\\\\andreaguiar\\\\AppData\\\\Roaming\\\\Python\\\\Python37\\\\site-packages\\\\ironhack-0.0.1-py3.7.egg',\n",
       " 'C:\\\\Users\\\\andreaguiar\\\\AppData\\\\Roaming\\\\Python\\\\Python37\\\\site-packages\\\\termcolor-1.1.0-py3.7.egg',\n",
       " 'c:\\\\programas\\\\anaconda3\\\\lib\\\\site-packages',\n",
       " 'c:\\\\programas\\\\anaconda3\\\\lib\\\\site-packages\\\\pyvis-0.1.6.0-py3.7.egg',\n",
       " 'c:\\\\programas\\\\anaconda3\\\\lib\\\\site-packages\\\\win32',\n",
       " 'c:\\\\programas\\\\anaconda3\\\\lib\\\\site-packages\\\\win32\\\\lib',\n",
       " 'c:\\\\programas\\\\anaconda3\\\\lib\\\\site-packages\\\\Pythonwin',\n",
       " 'C:\\\\Users\\\\andreaguiar\\\\AppData\\\\Roaming\\\\Python\\\\Python37\\\\site-packages\\\\IPython\\\\extensions',\n",
       " 'C:\\\\Users\\\\andreaguiar\\\\.ipython']"
      ]
     },
     "execution_count": 5,
     "metadata": {},
     "output_type": "execute_result"
    }
   ],
   "source": [
    "import os\n",
    "\n",
    "os.sys.path # attribute"
   ]
  },
  {
   "cell_type": "markdown",
   "metadata": {},
   "source": [
    "## Classes"
   ]
  },
  {
   "cell_type": "markdown",
   "metadata": {},
   "source": [
    "### What is a class"
   ]
  },
  {
   "cell_type": "markdown",
   "metadata": {},
   "source": [
    "> A data structure to gather together both data and functions. Inside of classes, functions are called `methods` and data information is called `attribute`."
   ]
  },
  {
   "cell_type": "markdown",
   "metadata": {},
   "source": [
    "### Creating a simple class"
   ]
  },
  {
   "cell_type": "code",
   "execution_count": 6,
   "metadata": {
    "ExecuteTime": {
     "end_time": "2020-06-04T17:37:11.637313Z",
     "start_time": "2020-06-04T17:37:11.634295Z"
    }
   },
   "outputs": [],
   "source": [
    "# function definition: \n",
    "\n",
    "\n",
    "def nome_da_funcao():\n",
    "    return\n",
    "\n",
    "# snake_case"
   ]
  },
  {
   "cell_type": "code",
   "execution_count": 7,
   "metadata": {
    "ExecuteTime": {
     "end_time": "2020-06-04T17:38:09.894025Z",
     "start_time": "2020-06-04T17:38:09.891061Z"
    }
   },
   "outputs": [],
   "source": [
    "class NomeDaClasse:\n",
    "    pass"
   ]
  },
  {
   "cell_type": "code",
   "execution_count": 8,
   "metadata": {
    "ExecuteTime": {
     "end_time": "2020-06-04T17:38:23.917425Z",
     "start_time": "2020-06-04T17:38:23.911413Z"
    }
   },
   "outputs": [
    {
     "name": "stdout",
     "output_type": "stream",
     "text": [
      "Criando uma pessoa\n"
     ]
    }
   ],
   "source": [
    "class Person:\n",
    "    print('Criando uma pessoa')"
   ]
  },
  {
   "cell_type": "code",
   "execution_count": 12,
   "metadata": {
    "ExecuteTime": {
     "end_time": "2020-06-04T17:38:49.272520Z",
     "start_time": "2020-06-04T17:38:49.268532Z"
    }
   },
   "outputs": [
    {
     "data": {
      "text/plain": [
       "str"
      ]
     },
     "execution_count": 12,
     "metadata": {},
     "output_type": "execute_result"
    }
   ],
   "source": [
    "type('23')"
   ]
  },
  {
   "cell_type": "code",
   "execution_count": 9,
   "metadata": {
    "ExecuteTime": {
     "end_time": "2020-06-04T17:38:40.016762Z",
     "start_time": "2020-06-04T17:38:40.012801Z"
    }
   },
   "outputs": [
    {
     "data": {
      "text/plain": [
       "type"
      ]
     },
     "execution_count": 9,
     "metadata": {},
     "output_type": "execute_result"
    }
   ],
   "source": [
    "type(Person)"
   ]
  },
  {
   "cell_type": "code",
   "execution_count": 15,
   "metadata": {
    "ExecuteTime": {
     "end_time": "2020-06-04T17:39:58.313932Z",
     "start_time": "2020-06-04T17:39:58.309943Z"
    }
   },
   "outputs": [
    {
     "data": {
      "text/plain": [
       "type"
      ]
     },
     "execution_count": 15,
     "metadata": {},
     "output_type": "execute_result"
    }
   ],
   "source": [
    "type(str)"
   ]
  },
  {
   "cell_type": "code",
   "execution_count": 16,
   "metadata": {
    "ExecuteTime": {
     "end_time": "2020-06-04T17:40:02.640679Z",
     "start_time": "2020-06-04T17:40:02.637688Z"
    }
   },
   "outputs": [],
   "source": [
    "my_string = ''"
   ]
  },
  {
   "cell_type": "code",
   "execution_count": 62,
   "metadata": {
    "ExecuteTime": {
     "end_time": "2020-06-04T18:01:51.199738Z",
     "start_time": "2020-06-04T18:01:51.194783Z"
    }
   },
   "outputs": [],
   "source": [
    "class Person:\n",
    "    \n",
    "    # attributes\n",
    "    age = 20\n",
    "    height = 175\n",
    "    weight = 70\n",
    "    eye_color = 'preto'\n",
    "    is_man = True\n",
    "    hobbies = ['jogar bola','video-game']\n",
    "    \n",
    "    # methods\n",
    "    def engordar(kg):\n",
    "        '...'\n",
    "        Person.weight = Person.weight + kg\n",
    "        \n",
    "    def learn_hobby(hobby):\n",
    "        Person.hobbies.append(hobby)\n",
    "        \n",
    "    def work(hours):\n",
    "        print('Estou trabalhando viu ...')\n",
    "        "
   ]
  },
  {
   "cell_type": "code",
   "execution_count": 63,
   "metadata": {
    "ExecuteTime": {
     "end_time": "2020-06-04T18:01:51.391226Z",
     "start_time": "2020-06-04T18:01:51.388235Z"
    }
   },
   "outputs": [],
   "source": [
    "andre = Person"
   ]
  },
  {
   "cell_type": "code",
   "execution_count": 64,
   "metadata": {
    "ExecuteTime": {
     "end_time": "2020-06-04T18:01:51.573738Z",
     "start_time": "2020-06-04T18:01:51.569749Z"
    }
   },
   "outputs": [
    {
     "data": {
      "text/plain": [
       "70"
      ]
     },
     "execution_count": 64,
     "metadata": {},
     "output_type": "execute_result"
    }
   ],
   "source": [
    "andre.weight"
   ]
  },
  {
   "cell_type": "code",
   "execution_count": 65,
   "metadata": {
    "ExecuteTime": {
     "end_time": "2020-06-04T18:01:51.747598Z",
     "start_time": "2020-06-04T18:01:51.743609Z"
    }
   },
   "outputs": [
    {
     "data": {
      "text/plain": [
       "20"
      ]
     },
     "execution_count": 65,
     "metadata": {},
     "output_type": "execute_result"
    }
   ],
   "source": [
    "andre.age"
   ]
  },
  {
   "cell_type": "code",
   "execution_count": 66,
   "metadata": {
    "ExecuteTime": {
     "end_time": "2020-06-04T18:01:51.930110Z",
     "start_time": "2020-06-04T18:01:51.923129Z"
    }
   },
   "outputs": [
    {
     "ename": "TypeError",
     "evalue": "'type' object is not subscriptable",
     "output_type": "error",
     "traceback": [
      "\u001b[1;31m---------------------------------------------------------------------------\u001b[0m",
      "\u001b[1;31mTypeError\u001b[0m                                 Traceback (most recent call last)",
      "\u001b[1;32m<ipython-input-66-2307aa910ac8>\u001b[0m in \u001b[0;36m<module>\u001b[1;34m\u001b[0m\n\u001b[1;32m----> 1\u001b[1;33m \u001b[0mandre\u001b[0m\u001b[1;33m[\u001b[0m\u001b[1;34m'age'\u001b[0m\u001b[1;33m]\u001b[0m\u001b[1;33m\u001b[0m\u001b[1;33m\u001b[0m\u001b[0m\n\u001b[0m",
      "\u001b[1;31mTypeError\u001b[0m: 'type' object is not subscriptable"
     ]
    }
   ],
   "source": [
    "andre['age']"
   ]
  },
  {
   "cell_type": "code",
   "execution_count": 67,
   "metadata": {
    "ExecuteTime": {
     "end_time": "2020-06-04T18:01:52.113619Z",
     "start_time": "2020-06-04T18:01:52.107635Z"
    }
   },
   "outputs": [
    {
     "ename": "NameError",
     "evalue": "name 'age' is not defined",
     "output_type": "error",
     "traceback": [
      "\u001b[1;31m---------------------------------------------------------------------------\u001b[0m",
      "\u001b[1;31mNameError\u001b[0m                                 Traceback (most recent call last)",
      "\u001b[1;32m<ipython-input-67-110b738a7fde>\u001b[0m in \u001b[0;36m<module>\u001b[1;34m\u001b[0m\n\u001b[1;32m----> 1\u001b[1;33m \u001b[0mandre\u001b[0m\u001b[1;33m[\u001b[0m\u001b[0mage\u001b[0m\u001b[1;33m]\u001b[0m\u001b[1;33m\u001b[0m\u001b[1;33m\u001b[0m\u001b[0m\n\u001b[0m",
      "\u001b[1;31mNameError\u001b[0m: name 'age' is not defined"
     ]
    }
   ],
   "source": [
    "andre[age]"
   ]
  },
  {
   "cell_type": "code",
   "execution_count": 68,
   "metadata": {
    "ExecuteTime": {
     "end_time": "2020-06-04T18:01:52.325559Z",
     "start_time": "2020-06-04T18:01:52.321570Z"
    }
   },
   "outputs": [
    {
     "data": {
      "text/plain": [
       "['jogar bola', 'video-game']"
      ]
     },
     "execution_count": 68,
     "metadata": {},
     "output_type": "execute_result"
    }
   ],
   "source": [
    "andre.hobbies"
   ]
  },
  {
   "cell_type": "code",
   "execution_count": 70,
   "metadata": {
    "ExecuteTime": {
     "end_time": "2020-06-04T18:01:59.240399Z",
     "start_time": "2020-06-04T18:01:59.237379Z"
    }
   },
   "outputs": [],
   "source": [
    "andre.learn_hobby('cozinhar')"
   ]
  },
  {
   "cell_type": "code",
   "execution_count": 71,
   "metadata": {
    "ExecuteTime": {
     "end_time": "2020-06-04T18:02:01.806577Z",
     "start_time": "2020-06-04T18:02:01.802589Z"
    }
   },
   "outputs": [
    {
     "data": {
      "text/plain": [
       "['jogar bola', 'video-game', 'cozinhar']"
      ]
     },
     "execution_count": 71,
     "metadata": {},
     "output_type": "execute_result"
    }
   ],
   "source": [
    "andre.hobbies"
   ]
  },
  {
   "cell_type": "code",
   "execution_count": 50,
   "metadata": {
    "ExecuteTime": {
     "end_time": "2020-06-04T17:50:55.981575Z",
     "start_time": "2020-06-04T17:50:55.978583Z"
    }
   },
   "outputs": [
    {
     "name": "stdout",
     "output_type": "stream",
     "text": [
      "Estou trabalhando viu ...\n"
     ]
    }
   ],
   "source": [
    "andre.work(20)"
   ]
  },
  {
   "cell_type": "code",
   "execution_count": 51,
   "metadata": {
    "ExecuteTime": {
     "end_time": "2020-06-04T17:50:56.295735Z",
     "start_time": "2020-06-04T17:50:56.291746Z"
    }
   },
   "outputs": [],
   "source": [
    "andre.engordar(10)"
   ]
  },
  {
   "cell_type": "code",
   "execution_count": 52,
   "metadata": {
    "ExecuteTime": {
     "end_time": "2020-06-04T17:50:57.106425Z",
     "start_time": "2020-06-04T17:50:57.102437Z"
    }
   },
   "outputs": [
    {
     "data": {
      "text/plain": [
       "80"
      ]
     },
     "execution_count": 52,
     "metadata": {},
     "output_type": "execute_result"
    }
   ],
   "source": [
    "andre.weight"
   ]
  },
  {
   "cell_type": "markdown",
   "metadata": {},
   "source": [
    "## Attributes"
   ]
  },
  {
   "cell_type": "code",
   "execution_count": 53,
   "metadata": {
    "ExecuteTime": {
     "end_time": "2020-06-04T17:51:33.746389Z",
     "start_time": "2020-06-04T17:51:33.742399Z"
    }
   },
   "outputs": [],
   "source": [
    "class Person:\n",
    "    nome = 'Andre'\n",
    "    cor_cabelo = 'preto'\n",
    "    oculos = True\n",
    "    altura = 1.75\n",
    "    peso = 80\n",
    "    cor_olhos = 'verde'"
   ]
  },
  {
   "cell_type": "markdown",
   "metadata": {},
   "source": [
    "`Person.<TAB>`"
   ]
  },
  {
   "cell_type": "code",
   "execution_count": 54,
   "metadata": {
    "ExecuteTime": {
     "end_time": "2020-06-04T17:51:42.252675Z",
     "start_time": "2020-06-04T17:51:42.248686Z"
    }
   },
   "outputs": [],
   "source": [
    "andre = Person"
   ]
  },
  {
   "cell_type": "markdown",
   "metadata": {},
   "source": [
    "## Methods"
   ]
  },
  {
   "cell_type": "code",
   "execution_count": 55,
   "metadata": {
    "ExecuteTime": {
     "end_time": "2020-06-04T17:52:01.656774Z",
     "start_time": "2020-06-04T17:52:01.653784Z"
    }
   },
   "outputs": [],
   "source": [
    "class Person:\n",
    "\n",
    "    def say_hi():\n",
    "        print('Oooooiiii')"
   ]
  },
  {
   "cell_type": "markdown",
   "metadata": {},
   "source": [
    "`Person.<TAB>`"
   ]
  },
  {
   "cell_type": "code",
   "execution_count": 56,
   "metadata": {
    "ExecuteTime": {
     "end_time": "2020-06-04T17:52:12.003517Z",
     "start_time": "2020-06-04T17:52:12.000526Z"
    }
   },
   "outputs": [],
   "source": [
    "andre= Person"
   ]
  },
  {
   "cell_type": "code",
   "execution_count": 57,
   "metadata": {
    "ExecuteTime": {
     "end_time": "2020-06-04T17:52:16.016027Z",
     "start_time": "2020-06-04T17:52:16.012038Z"
    }
   },
   "outputs": [
    {
     "name": "stdout",
     "output_type": "stream",
     "text": [
      "Oooooiiii\n"
     ]
    }
   ],
   "source": [
    "andre.say_hi()"
   ]
  },
  {
   "cell_type": "code",
   "execution_count": 58,
   "metadata": {
    "ExecuteTime": {
     "end_time": "2020-06-04T17:52:27.360304Z",
     "start_time": "2020-06-04T17:52:27.354320Z"
    }
   },
   "outputs": [
    {
     "ename": "NameError",
     "evalue": "name 'say_hi' is not defined",
     "output_type": "error",
     "traceback": [
      "\u001b[1;31m---------------------------------------------------------------------------\u001b[0m",
      "\u001b[1;31mNameError\u001b[0m                                 Traceback (most recent call last)",
      "\u001b[1;32m<ipython-input-58-c55923c7eea5>\u001b[0m in \u001b[0;36m<module>\u001b[1;34m\u001b[0m\n\u001b[0;32m      1\u001b[0m \u001b[1;31m# say_hi only exists inside the Person\u001b[0m\u001b[1;33m\u001b[0m\u001b[1;33m\u001b[0m\u001b[1;33m\u001b[0m\u001b[0m\n\u001b[1;32m----> 2\u001b[1;33m \u001b[0msay_hi\u001b[0m\u001b[1;33m(\u001b[0m\u001b[1;33m)\u001b[0m\u001b[1;33m\u001b[0m\u001b[1;33m\u001b[0m\u001b[0m\n\u001b[0m",
      "\u001b[1;31mNameError\u001b[0m: name 'say_hi' is not defined"
     ]
    }
   ],
   "source": [
    "# say_hi only exists inside the Person\n",
    "say_hi()"
   ]
  },
  {
   "cell_type": "code",
   "execution_count": 59,
   "metadata": {
    "ExecuteTime": {
     "end_time": "2020-06-04T17:52:34.354302Z",
     "start_time": "2020-06-04T17:52:34.351313Z"
    }
   },
   "outputs": [],
   "source": [
    "def say_hi():\n",
    "    print('Tchaaaau')"
   ]
  },
  {
   "cell_type": "code",
   "execution_count": 60,
   "metadata": {
    "ExecuteTime": {
     "end_time": "2020-06-04T17:52:37.760494Z",
     "start_time": "2020-06-04T17:52:37.756507Z"
    }
   },
   "outputs": [
    {
     "name": "stdout",
     "output_type": "stream",
     "text": [
      "Tchaaaau\n"
     ]
    }
   ],
   "source": [
    "say_hi()"
   ]
  },
  {
   "cell_type": "code",
   "execution_count": 61,
   "metadata": {
    "ExecuteTime": {
     "end_time": "2020-06-04T17:52:43.088373Z",
     "start_time": "2020-06-04T17:52:43.084383Z"
    }
   },
   "outputs": [
    {
     "name": "stdout",
     "output_type": "stream",
     "text": [
      "Oooooiiii\n"
     ]
    }
   ],
   "source": [
    "Person.say_hi()"
   ]
  },
  {
   "cell_type": "markdown",
   "metadata": {},
   "source": [
    "## Mixing attributes and methods"
   ]
  },
  {
   "cell_type": "code",
   "execution_count": null,
   "metadata": {},
   "outputs": [],
   "source": [
    "class Person:\n",
    "    nome = 'Andre'\n",
    "    cor_cabelo = 'preto'\n",
    "    oculos = True\n",
    "    altura = 1.75\n",
    "    peso = 80\n",
    "    cor_olhos = 'verde'\n",
    "    \n",
    "    def say_hi():\n",
    "        print('Oooooiiii') "
   ]
  },
  {
   "cell_type": "markdown",
   "metadata": {},
   "source": [
    "`Person.<TAB>`"
   ]
  },
  {
   "cell_type": "code",
   "execution_count": null,
   "metadata": {},
   "outputs": [],
   "source": [
    "Person."
   ]
  },
  {
   "cell_type": "markdown",
   "metadata": {},
   "source": [
    "## Objects"
   ]
  },
  {
   "cell_type": "code",
   "execution_count": 72,
   "metadata": {
    "ExecuteTime": {
     "end_time": "2020-06-04T18:02:47.520311Z",
     "start_time": "2020-06-04T18:02:47.517319Z"
    }
   },
   "outputs": [],
   "source": [
    "my_list = [1, 2, 3]"
   ]
  },
  {
   "cell_type": "code",
   "execution_count": 73,
   "metadata": {
    "ExecuteTime": {
     "end_time": "2020-06-04T18:03:40.585885Z",
     "start_time": "2020-06-04T18:03:40.581897Z"
    }
   },
   "outputs": [],
   "source": [
    "my_another_list = [1,2,3,4,5]"
   ]
  },
  {
   "cell_type": "markdown",
   "metadata": {},
   "source": [
    "### What is an object?"
   ]
  },
  {
   "cell_type": "markdown",
   "metadata": {},
   "source": [
    "An instance --> um exemplo"
   ]
  },
  {
   "cell_type": "code",
   "execution_count": 74,
   "metadata": {
    "ExecuteTime": {
     "end_time": "2020-06-04T18:05:27.873871Z",
     "start_time": "2020-06-04T18:05:27.870879Z"
    }
   },
   "outputs": [],
   "source": [
    "my_person = Person"
   ]
  },
  {
   "cell_type": "code",
   "execution_count": 76,
   "metadata": {
    "ExecuteTime": {
     "end_time": "2020-06-04T18:05:32.922564Z",
     "start_time": "2020-06-04T18:05:32.918575Z"
    }
   },
   "outputs": [
    {
     "data": {
      "text/plain": [
       "20"
      ]
     },
     "execution_count": 76,
     "metadata": {},
     "output_type": "execute_result"
    }
   ],
   "source": [
    "my_person.age"
   ]
  },
  {
   "cell_type": "code",
   "execution_count": null,
   "metadata": {},
   "outputs": [],
   "source": [
    "andre = Person(idade=20)\n",
    "\n",
    "marcus = Person(age=21)"
   ]
  },
  {
   "cell_type": "code",
   "execution_count": null,
   "metadata": {},
   "outputs": [],
   "source": [
    "# class Tabela:\n",
    "#     \n",
    "#     def __init__(self, n_linhas, n_colunas):\n",
    "#         self.n_linhas = n_linhas\n",
    "#         self.n_colunas = n_colunas\n",
    "#         \n",
    "#         \n",
    "#     def mean():\n",
    "#         return soma_valores / n_linhas"
   ]
  },
  {
   "cell_type": "markdown",
   "metadata": {},
   "source": [
    "## Instantiating objects"
   ]
  },
  {
   "cell_type": "markdown",
   "metadata": {},
   "source": [
    "`my_example_person.<TAB>` shows methods and attributes of your objects."
   ]
  },
  {
   "cell_type": "markdown",
   "metadata": {},
   "source": [
    "### Obs: \n",
    "\n",
    "Classes são como **moldes** que criam uma **instância** ou um **exemplo** de um objeto que compartilham propriedades (como `nome`,`cor_cabelo`, etc) entre si, porém, se diferenciam pelo valor que estas propriedades tomam (como `nome = 'Andre'` vs `nome = 'Fernanda'`)"
   ]
  },
  {
   "cell_type": "markdown",
   "metadata": {},
   "source": [
    "## Instantiating an object"
   ]
  },
  {
   "cell_type": "markdown",
   "metadata": {},
   "source": [
    "# How can I, then, differentiate them?"
   ]
  },
  {
   "cell_type": "markdown",
   "metadata": {},
   "source": [
    "## Special Functions\n",
    "\n",
    "That's when the special function `__init__` comes in.\n",
    "\n",
    "`__init__` is the method that runs when you `call` a class."
   ]
  },
  {
   "cell_type": "markdown",
   "metadata": {},
   "source": [
    "## However, until now, we haven't given the name as an argument\n",
    "\n",
    "In order to call a class with an argument, just add the argument to the `__init__` method."
   ]
  },
  {
   "cell_type": "markdown",
   "metadata": {},
   "source": [
    "## We can now use the `name attribute` everywhere in our class by assessing it on the `object itself`."
   ]
  },
  {
   "cell_type": "markdown",
   "metadata": {},
   "source": [
    "> Note that the name `self` is just a standard, but you could call it `abobrinha` if you want.\n"
   ]
  },
  {
   "cell_type": "code",
   "execution_count": 115,
   "metadata": {
    "ExecuteTime": {
     "end_time": "2020-06-04T18:32:26.348269Z",
     "start_time": "2020-06-04T18:32:26.344304Z"
    }
   },
   "outputs": [],
   "source": [
    "class Person:\n",
    "    \"\"\"\n",
    "    Docstring da classe\n",
    "    \"\"\"\n",
    "    \n",
    "    def __init__(self, idade , altura, is_homem, peso, cor_olho, meus_hobbies = []):\n",
    "        \"\"\"\n",
    "        Docstring do __init__\n",
    "        \"\"\"\n",
    "        # attributes\n",
    "        self.age = idade\n",
    "        self.height = altura\n",
    "        self.weight = peso\n",
    "        self.eye_color = cor_olho\n",
    "        self.is_man = is_homem\n",
    "        self.hobbies = meus_hobbies\n",
    "        \n",
    "        \n",
    "        print('Criei uma pessoinha ...')\n",
    "        \n",
    "        "
   ]
  },
  {
   "cell_type": "markdown",
   "metadata": {},
   "source": [
    "## But to instantiate an object, i.e., in order to create our example of Person, we have to `call` the class.\n"
   ]
  },
  {
   "cell_type": "code",
   "execution_count": null,
   "metadata": {},
   "outputs": [],
   "source": [
    "my_example_person = Person()"
   ]
  },
  {
   "cell_type": "markdown",
   "metadata": {},
   "source": [
    "In order to `call` our class, we see that 1 parameter is always given. We'll soon see that this first argument is always the `object itself`. Why would it pass itself? In that manner, you always are allowed to access all your objects attributes and methods everywhere.\n",
    "\n",
    "So let's add an argument to the `__init__` method"
   ]
  },
  {
   "cell_type": "markdown",
   "metadata": {},
   "source": [
    "When you run `my_example_person.engordar()`, you are effectively running `engordar(my_example_person, )`"
   ]
  },
  {
   "cell_type": "markdown",
   "metadata": {},
   "source": [
    "> As soon as you include the `self` variable in the `__init__()` method, you start to always pass the object it**self** as an argument of all methods."
   ]
  },
  {
   "cell_type": "code",
   "execution_count": 114,
   "metadata": {
    "ExecuteTime": {
     "end_time": "2020-06-04T18:31:48.488881Z",
     "start_time": "2020-06-04T18:31:48.484892Z"
    }
   },
   "outputs": [
    {
     "name": "stdout",
     "output_type": "stream",
     "text": [
      "Criei uma pessoinha ...\n"
     ]
    }
   ],
   "source": [
    "andre = Person(\n",
    "            # self = andre,\n",
    "            idade=28,\n",
    "            altura=175,\n",
    "            is_homem=True,\n",
    "            peso=80,\n",
    "            cor_olho='verde',\n",
    "            meus_hobbies=['jogar pebolim'])"
   ]
  },
  {
   "cell_type": "code",
   "execution_count": 116,
   "metadata": {
    "ExecuteTime": {
     "end_time": "2020-06-04T18:35:04.025861Z",
     "start_time": "2020-06-04T18:35:04.021843Z"
    }
   },
   "outputs": [
    {
     "name": "stdout",
     "output_type": "stream",
     "text": [
      "Criei uma pessoinha ...\n"
     ]
    }
   ],
   "source": [
    "camila = Person(\n",
    "            # self = camila,\n",
    "            idade=28,\n",
    "            altura=175,\n",
    "            is_homem=False,\n",
    "            peso=80,\n",
    "            cor_olho='verde',\n",
    "            meus_hobbies=['jogar futebol'])"
   ]
  },
  {
   "cell_type": "code",
   "execution_count": 117,
   "metadata": {
    "ExecuteTime": {
     "end_time": "2020-06-04T18:35:21.876046Z",
     "start_time": "2020-06-04T18:35:21.872031Z"
    }
   },
   "outputs": [],
   "source": [
    "andre.profissao = 'Professor'"
   ]
  },
  {
   "cell_type": "code",
   "execution_count": 118,
   "metadata": {
    "ExecuteTime": {
     "end_time": "2020-06-04T18:35:23.593467Z",
     "start_time": "2020-06-04T18:35:23.589505Z"
    }
   },
   "outputs": [
    {
     "data": {
      "text/plain": [
       "<__main__.Person at 0x25197bfada0>"
      ]
     },
     "execution_count": 118,
     "metadata": {},
     "output_type": "execute_result"
    }
   ],
   "source": [
    "andre."
   ]
  },
  {
   "cell_type": "code",
   "execution_count": 112,
   "metadata": {
    "ExecuteTime": {
     "end_time": "2020-06-04T18:29:45.560930Z",
     "start_time": "2020-06-04T18:29:45.556941Z"
    }
   },
   "outputs": [
    {
     "data": {
      "text/plain": [
       "__main__.Person"
      ]
     },
     "execution_count": 112,
     "metadata": {},
     "output_type": "execute_result"
    }
   ],
   "source": [
    "type(camila)"
   ]
  },
  {
   "cell_type": "code",
   "execution_count": 102,
   "metadata": {
    "ExecuteTime": {
     "end_time": "2020-06-04T18:20:29.871121Z",
     "start_time": "2020-06-04T18:20:29.867131Z"
    }
   },
   "outputs": [
    {
     "data": {
      "text/plain": [
       "['jogar pebolim']"
      ]
     },
     "execution_count": 102,
     "metadata": {},
     "output_type": "execute_result"
    }
   ],
   "source": [
    "andre.hobbies"
   ]
  },
  {
   "cell_type": "code",
   "execution_count": 103,
   "metadata": {
    "ExecuteTime": {
     "end_time": "2020-06-04T18:20:30.766599Z",
     "start_time": "2020-06-04T18:20:30.761612Z"
    }
   },
   "outputs": [
    {
     "data": {
      "text/plain": [
       "['jogar futebol']"
      ]
     },
     "execution_count": 103,
     "metadata": {},
     "output_type": "execute_result"
    }
   ],
   "source": [
    "camila.hobbies"
   ]
  },
  {
   "cell_type": "markdown",
   "metadata": {},
   "source": [
    "## Methods"
   ]
  },
  {
   "cell_type": "markdown",
   "metadata": {},
   "source": [
    "So if you want `engordar` to be available on all instances (examples) of your class, you also have to give it an argument (`self`)."
   ]
  },
  {
   "cell_type": "code",
   "execution_count": 243,
   "metadata": {
    "ExecuteTime": {
     "end_time": "2020-06-04T19:09:25.059560Z",
     "start_time": "2020-06-04T19:09:25.054572Z"
    }
   },
   "outputs": [],
   "source": [
    "class Person:\n",
    "    \"\"\"\n",
    "    Docstring da classe\n",
    "    \"\"\"\n",
    "    \n",
    "    def __init__(self, \n",
    "                 idade = None, \n",
    "                 altura = None, \n",
    "                 is_homem = None, \n",
    "                 peso = None, \n",
    "                 cor_olho = None, \n",
    "                 meus_hobbies = []):\n",
    "        \"\"\"\n",
    "        Docstring do __init__\n",
    "        \"\"\"\n",
    "        # attributes\n",
    "        self.age = idade\n",
    "        self.height = altura\n",
    "        self.weight = peso\n",
    "        self.eye_color = cor_olho\n",
    "        self.is_man = is_homem\n",
    "        self.hobbies = meus_hobbies\n",
    "        self.peso_inicial = peso\n",
    "        self.historico_peso = [peso]\n",
    "        \n",
    "        print('Criei uma pessoinha ...')\n",
    "    \n",
    "    def engordar(self, kg):\n",
    "        self.weight = self.weight + kg\n",
    "        self.historico_peso.append(self.weight)\n",
    "            "
   ]
  },
  {
   "cell_type": "code",
   "execution_count": 244,
   "metadata": {
    "ExecuteTime": {
     "end_time": "2020-06-04T19:09:26.531514Z",
     "start_time": "2020-06-04T19:09:26.527559Z"
    }
   },
   "outputs": [
    {
     "name": "stdout",
     "output_type": "stream",
     "text": [
      "Criei uma pessoinha ...\n"
     ]
    }
   ],
   "source": [
    "andre = Person(\n",
    "            # self = andre,\n",
    "            idade=28,\n",
    "            altura=175,\n",
    "            is_homem=True,\n",
    "            peso=80,\n",
    "            cor_olho='verde',\n",
    "            meus_hobbies=['jogar pebolim'])"
   ]
  },
  {
   "cell_type": "code",
   "execution_count": 245,
   "metadata": {
    "ExecuteTime": {
     "end_time": "2020-06-04T19:09:33.942073Z",
     "start_time": "2020-06-04T19:09:33.939053Z"
    }
   },
   "outputs": [
    {
     "name": "stdout",
     "output_type": "stream",
     "text": [
      "Criei uma pessoinha ...\n"
     ]
    }
   ],
   "source": [
    "andre2 = Person()"
   ]
  },
  {
   "cell_type": "code",
   "execution_count": 247,
   "metadata": {
    "ExecuteTime": {
     "end_time": "2020-06-04T19:09:44.568231Z",
     "start_time": "2020-06-04T19:09:44.565240Z"
    }
   },
   "outputs": [],
   "source": [
    "andre2.age"
   ]
  },
  {
   "cell_type": "code",
   "execution_count": 212,
   "metadata": {
    "ExecuteTime": {
     "end_time": "2020-06-04T18:53:38.794841Z",
     "start_time": "2020-06-04T18:53:38.790852Z"
    }
   },
   "outputs": [],
   "source": [
    "andre.engordar(10)"
   ]
  },
  {
   "cell_type": "code",
   "execution_count": 213,
   "metadata": {
    "ExecuteTime": {
     "end_time": "2020-06-04T18:53:40.724430Z",
     "start_time": "2020-06-04T18:53:40.720441Z"
    }
   },
   "outputs": [
    {
     "data": {
      "text/plain": [
       "90"
      ]
     },
     "execution_count": 213,
     "metadata": {},
     "output_type": "execute_result"
    }
   ],
   "source": [
    "andre.weight"
   ]
  },
  {
   "cell_type": "code",
   "execution_count": 214,
   "metadata": {
    "ExecuteTime": {
     "end_time": "2020-06-04T18:53:43.764626Z",
     "start_time": "2020-06-04T18:53:43.760638Z"
    }
   },
   "outputs": [
    {
     "data": {
      "text/plain": [
       "[80, 90]"
      ]
     },
     "execution_count": 214,
     "metadata": {},
     "output_type": "execute_result"
    }
   ],
   "source": [
    "andre.historico_peso"
   ]
  },
  {
   "cell_type": "code",
   "execution_count": 215,
   "metadata": {
    "ExecuteTime": {
     "end_time": "2020-06-04T18:53:46.427493Z",
     "start_time": "2020-06-04T18:53:46.423504Z"
    }
   },
   "outputs": [
    {
     "name": "stdout",
     "output_type": "stream",
     "text": [
      "Criei uma pessoinha ...\n"
     ]
    }
   ],
   "source": [
    "camila = Person(\n",
    "            # self = camila,\n",
    "            idade=28,\n",
    "            altura=175,\n",
    "            is_homem=False,\n",
    "            peso=80,\n",
    "            cor_olho='verde',\n",
    "            meus_hobbies=['jogar futebol'])"
   ]
  },
  {
   "cell_type": "code",
   "execution_count": 216,
   "metadata": {
    "ExecuteTime": {
     "end_time": "2020-06-04T18:53:47.736457Z",
     "start_time": "2020-06-04T18:53:47.732468Z"
    }
   },
   "outputs": [
    {
     "data": {
      "text/plain": [
       "80"
      ]
     },
     "execution_count": 216,
     "metadata": {},
     "output_type": "execute_result"
    }
   ],
   "source": [
    "camila.weight"
   ]
  },
  {
   "cell_type": "code",
   "execution_count": 223,
   "metadata": {
    "ExecuteTime": {
     "end_time": "2020-06-04T18:53:50.602223Z",
     "start_time": "2020-06-04T18:53:50.599232Z"
    }
   },
   "outputs": [],
   "source": [
    "camila.engordar(\n",
    "    #self=camila,\n",
    "    kg=-3)"
   ]
  },
  {
   "cell_type": "code",
   "execution_count": 224,
   "metadata": {
    "ExecuteTime": {
     "end_time": "2020-06-04T18:53:51.521628Z",
     "start_time": "2020-06-04T18:53:51.516642Z"
    }
   },
   "outputs": [
    {
     "data": {
      "text/plain": [
       "59"
      ]
     },
     "execution_count": 224,
     "metadata": {},
     "output_type": "execute_result"
    }
   ],
   "source": [
    "camila.weight"
   ]
  },
  {
   "cell_type": "code",
   "execution_count": 225,
   "metadata": {
    "ExecuteTime": {
     "end_time": "2020-06-04T18:53:55.118895Z",
     "start_time": "2020-06-04T18:53:55.114906Z"
    }
   },
   "outputs": [
    {
     "data": {
      "text/plain": [
       "[80, 77, 74, 71, 68, 65, 62, 59]"
      ]
     },
     "execution_count": 225,
     "metadata": {},
     "output_type": "execute_result"
    }
   ],
   "source": [
    "camila.historico_peso"
   ]
  },
  {
   "cell_type": "code",
   "execution_count": 189,
   "metadata": {
    "ExecuteTime": {
     "end_time": "2020-06-04T18:49:15.519055Z",
     "start_time": "2020-06-04T18:49:15.515066Z"
    }
   },
   "outputs": [
    {
     "data": {
      "text/plain": [
       "80"
      ]
     },
     "execution_count": 189,
     "metadata": {},
     "output_type": "execute_result"
    }
   ],
   "source": [
    "camila.peso_inicial"
   ]
  },
  {
   "cell_type": "code",
   "execution_count": 190,
   "metadata": {
    "ExecuteTime": {
     "end_time": "2020-06-04T18:49:15.880090Z",
     "start_time": "2020-06-04T18:49:15.876101Z"
    }
   },
   "outputs": [
    {
     "data": {
      "text/plain": [
       "77"
      ]
     },
     "execution_count": 190,
     "metadata": {},
     "output_type": "execute_result"
    }
   ],
   "source": [
    "camila.weight"
   ]
  },
  {
   "cell_type": "code",
   "execution_count": 191,
   "metadata": {
    "ExecuteTime": {
     "end_time": "2020-06-04T18:49:16.144813Z",
     "start_time": "2020-06-04T18:49:16.140824Z"
    }
   },
   "outputs": [
    {
     "data": {
      "text/plain": [
       "90"
      ]
     },
     "execution_count": 191,
     "metadata": {},
     "output_type": "execute_result"
    }
   ],
   "source": [
    "andre.weight"
   ]
  },
  {
   "cell_type": "code",
   "execution_count": 192,
   "metadata": {
    "ExecuteTime": {
     "end_time": "2020-06-04T18:49:16.543438Z",
     "start_time": "2020-06-04T18:49:16.539450Z"
    }
   },
   "outputs": [],
   "source": [
    "pesos_camila = []\n",
    "\n",
    "for i in range(10):\n",
    "    camila.engordar(-3)\n",
    "    pesos_camila.append(camila.weight)"
   ]
  },
  {
   "cell_type": "code",
   "execution_count": 193,
   "metadata": {
    "ExecuteTime": {
     "end_time": "2020-06-04T18:49:18.904504Z",
     "start_time": "2020-06-04T18:49:18.900515Z"
    }
   },
   "outputs": [
    {
     "data": {
      "text/plain": [
       "[74, 71, 68, 65, 62, 59, 56, 53, 50, 47]"
      ]
     },
     "execution_count": 193,
     "metadata": {},
     "output_type": "execute_result"
    }
   ],
   "source": [
    "pesos_camila"
   ]
  },
  {
   "cell_type": "code",
   "execution_count": 194,
   "metadata": {
    "ExecuteTime": {
     "end_time": "2020-06-04T18:49:21.874476Z",
     "start_time": "2020-06-04T18:49:21.870485Z"
    }
   },
   "outputs": [],
   "source": [
    "camila.historico_peso = []"
   ]
  },
  {
   "cell_type": "code",
   "execution_count": 195,
   "metadata": {
    "ExecuteTime": {
     "end_time": "2020-06-04T18:49:22.280390Z",
     "start_time": "2020-06-04T18:49:22.276401Z"
    }
   },
   "outputs": [],
   "source": [
    "for i in range(10):\n",
    "    camila.engordar(-3)\n",
    "    camila.historico_peso.append(camila.weight)"
   ]
  },
  {
   "cell_type": "markdown",
   "metadata": {},
   "source": [
    "## Sneaky peak - plot"
   ]
  },
  {
   "cell_type": "code",
   "execution_count": 202,
   "metadata": {
    "ExecuteTime": {
     "end_time": "2020-06-04T18:50:18.356725Z",
     "start_time": "2020-06-04T18:50:18.263844Z"
    }
   },
   "outputs": [
    {
     "data": {
      "text/plain": [
       "[<matplotlib.lines.Line2D at 0x251a4e4bb38>]"
      ]
     },
     "execution_count": 202,
     "metadata": {},
     "output_type": "execute_result"
    },
    {
     "data": {
      "image/png": "[encoded data removed]",
      "text/plain": [
       "<Figure size 432x288 with 1 Axes>"
      ]
     },
     "metadata": {
      "needs_background": "light"
     },
     "output_type": "display_data"
    }
   ],
   "source": [
    "import matplotlib.pyplot as plt\n",
    "\n",
    "plt.plot(camila.historico_peso, color='red')"
   ]
  },
  {
   "cell_type": "markdown",
   "metadata": {},
   "source": [
    "# Class Inheritence - Herança"
   ]
  },
  {
   "cell_type": "markdown",
   "metadata": {},
   "source": [
    "Imagine you have created a `Person class` and now you want to create a `Student class`.\n",
    "\n",
    "Students are a kind of specific `Person` and, hence, they share the same attributes and methods. \n",
    "\n",
    "However, they have their own different attributes and methods. How can I reuse the classes I have and just make a better class?"
   ]
  },
  {
   "cell_type": "code",
   "execution_count": null,
   "metadata": {},
   "outputs": [],
   "source": [
    "class Person:\n",
    "    pass"
   ]
  },
  {
   "cell_type": "code",
   "execution_count": 263,
   "metadata": {
    "ExecuteTime": {
     "end_time": "2020-06-04T19:16:13.391300Z",
     "start_time": "2020-06-04T19:16:13.388298Z"
    }
   },
   "outputs": [],
   "source": [
    "class Student(Person):\n",
    "    \n",
    "    def create_id(self):\n",
    "        self.id_student = 1\n",
    "    \n",
    "    def estudar(self):\n",
    "        print(f'zzzZzzZz {self.weight}')"
   ]
  },
  {
   "cell_type": "code",
   "execution_count": 264,
   "metadata": {
    "ExecuteTime": {
     "end_time": "2020-06-04T19:16:14.324337Z",
     "start_time": "2020-06-04T19:16:14.320349Z"
    }
   },
   "outputs": [
    {
     "name": "stdout",
     "output_type": "stream",
     "text": [
      "Criei uma pessoinha ...\n"
     ]
    }
   ],
   "source": [
    "marcus = Student(30, 180, True, 80, 'verde')"
   ]
  },
  {
   "cell_type": "code",
   "execution_count": 265,
   "metadata": {
    "ExecuteTime": {
     "end_time": "2020-06-04T19:16:18.060768Z",
     "start_time": "2020-06-04T19:16:18.057804Z"
    }
   },
   "outputs": [
    {
     "name": "stdout",
     "output_type": "stream",
     "text": [
      "zzzZzzZz 80\n"
     ]
    }
   ],
   "source": [
    "marcus.estudar()"
   ]
  },
  {
   "cell_type": "code",
   "execution_count": null,
   "metadata": {},
   "outputs": [],
   "source": [
    "marcus.engordar"
   ]
  },
  {
   "cell_type": "code",
   "execution_count": 232,
   "metadata": {
    "ExecuteTime": {
     "end_time": "2020-06-04T19:02:40.024542Z",
     "start_time": "2020-06-04T19:02:39.751301Z"
    }
   },
   "outputs": [],
   "source": [
    "import pandas as pd"
   ]
  },
  {
   "cell_type": "code",
   "execution_count": 239,
   "metadata": {
    "ExecuteTime": {
     "end_time": "2020-06-04T19:04:24.137383Z",
     "start_time": "2020-06-04T19:04:24.133393Z"
    }
   },
   "outputs": [],
   "source": [
    "class MyTable(pd.DataFrame):\n",
    "    \n",
    "    def pprint(self):\n",
    "        print('oi')"
   ]
  },
  {
   "cell_type": "code",
   "execution_count": 240,
   "metadata": {
    "ExecuteTime": {
     "end_time": "2020-06-04T19:04:25.706943Z",
     "start_time": "2020-06-04T19:04:25.702954Z"
    }
   },
   "outputs": [],
   "source": [
    "minha_tabelinha = MyTable()"
   ]
  },
  {
   "cell_type": "code",
   "execution_count": 241,
   "metadata": {
    "ExecuteTime": {
     "end_time": "2020-06-04T19:04:29.200118Z",
     "start_time": "2020-06-04T19:04:29.197094Z"
    }
   },
   "outputs": [
    {
     "name": "stdout",
     "output_type": "stream",
     "text": [
      "oi\n"
     ]
    }
   ],
   "source": [
    "minha_tabelinha.pprint()"
   ]
  },
  {
   "cell_type": "code",
   "execution_count": 197,
   "metadata": {},
   "outputs": [
    {
     "name": "stdout",
     "output_type": "stream",
     "text": [
      "zzzZzzZz 42\n"
     ]
    }
   ],
   "source": [
    "my_student.estudar()"
   ]
  },
  {
   "cell_type": "code",
   "execution_count": 242,
   "metadata": {
    "ExecuteTime": {
     "end_time": "2020-06-04T19:08:28.477126Z",
     "start_time": "2020-06-04T19:08:28.471142Z"
    }
   },
   "outputs": [
    {
     "data": {
      "text/html": [
       "<div>\n",
       "<style scoped>\n",
       "    .dataframe tbody tr th:only-of-type {\n",
       "        vertical-align: middle;\n",
       "    }\n",
       "\n",
       "    .dataframe tbody tr th {\n",
       "        vertical-align: top;\n",
       "    }\n",
       "\n",
       "    .dataframe thead th {\n",
       "        text-align: right;\n",
       "    }\n",
       "</style>\n",
       "<table border=\"1\" class=\"dataframe\">\n",
       "  <thead>\n",
       "    <tr style=\"text-align: right;\">\n",
       "      <th></th>\n",
       "    </tr>\n",
       "  </thead>\n",
       "  <tbody>\n",
       "  </tbody>\n",
       "</table>\n",
       "</div>"
      ],
      "text/plain": [
       "Empty DataFrame\n",
       "Columns: []\n",
       "Index: []"
      ]
     },
     "execution_count": 242,
     "metadata": {},
     "output_type": "execute_result"
    }
   ],
   "source": [
    "pd.read_csv()"
   ]
  },
  {
   "cell_type": "markdown",
   "metadata": {},
   "source": [
    "## When you want to add another argument to Student, things start to get more complicated."
   ]
  },
  {
   "cell_type": "code",
   "execution_count": 259,
   "metadata": {
    "ExecuteTime": {
     "end_time": "2020-06-04T19:13:10.274413Z",
     "start_time": "2020-06-04T19:13:10.269426Z"
    }
   },
   "outputs": [],
   "source": [
    "class Student(Person):\n",
    "    \n",
    "    def __init__(self, \n",
    "                 idade = None, \n",
    "                 altura = None, \n",
    "                 is_homem = None, \n",
    "                 peso = None, \n",
    "                 cor_olho = None, \n",
    "                 meus_hobbies = [], \n",
    "                 classroom = None):\n",
    "        \n",
    "        super().__init__(idade=age, ) # you'd had to add all arguments here\n",
    "        \n",
    "        self.classroom = classroom\n",
    "\n",
    "    def create_id(self):\n",
    "        self.id_student = 1\n",
    "    \n",
    "    def estudar(self):\n",
    "        print(f'zzzZzzZz {self.weight}')\n"
   ]
  }
 ],
 "metadata": {
  "kernelspec": {
   "display_name": "Python 3",
   "language": "python",
   "name": "python3"
  },
  "language_info": {
   "codemirror_mode": {
    "name": "ipython",
    "version": 3
   },
   "file_extension": ".py",
   "mimetype": "text/x-python",
   "name": "python",
   "nbconvert_exporter": "python",
   "pygments_lexer": "ipython3",
   "version": "3.7.6"
  },
  "toc": {
   "base_numbering": 1,
   "nav_menu": {},
   "number_sections": true,
   "sideBar": true,
   "skip_h1_title": false,
   "title_cell": "Table of Contents",
   "title_sidebar": "Contents",
   "toc_cell": false,
   "toc_position": {},
   "toc_section_display": true,
   "toc_window_display": false
  },
  "varInspector": {
   "cols": {
    "lenName": 16,
    "lenType": 16,
    "lenVar": 40
   },
   "kernels_config": {
    "python": {
     "delete_cmd_postfix": "",
     "delete_cmd_prefix": "del ",
     "library": "var_list.py",
     "varRefreshCmd": "print(var_dic_list())"
    },
    "r": {
     "delete_cmd_postfix": ") ",
     "delete_cmd_prefix": "rm(",
     "library": "var_list.r",
     "varRefreshCmd": "cat(var_dic_list()) "
    }
   },
   "types_to_exclude": [
    "module",
    "function",
    "builtin_function_or_method",
    "instance",
    "_Feature"
   ],
   "window_display": false
  }
 },
 "nbformat": 4,
 "nbformat_minor": 2
}
