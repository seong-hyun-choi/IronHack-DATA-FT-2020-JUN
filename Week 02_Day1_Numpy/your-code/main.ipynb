{
 "cells": [
  {
   "cell_type": "markdown",
   "metadata": {
    "colab_type": "text",
    "id": "mN9kpE7hMEP-"
   },
   "source": [
    "![Ironhack logo](https://i.imgur.com/1QgrNNw.png)\n",
    "\n",
    "# Lab | Numpy\n",
    "\n",
    "## Introduction\n",
    "\n",
    "An important ability of a data scientist/data engineer is to know where and how to find information that helps you to accomplish your work. In the exercise, you will both practice the Numpy features we discussed in the lesson and learn new features by looking up documentations and references. You will work on your own but remember the teaching staff is at your service whenever you encounter problems.\n",
    "\n",
    "## Getting Started\n",
    "There are a bunch of comments which instruct what you are supposed to do step by step. Follow the order of the instructions from top to bottom. Read each instruction carefully and provide your answer beneath it. You should also test your answers to make sure your responses are correct. If one of your responses is incorrect, you may not be able to proceed because later responses may depend upon previous responses.\n",
    "\n",
    "\n",
    "## Resources\n",
    "\n",
    "Some of the questions in the assignment are not covered in our lesson. You will learn how to efficiently look up the information on your own. Below are some resources you can find the information you need.\n",
    "\n",
    "[Numpy User Guide](https://docs.scipy.org/doc/numpy/user/index.html)\n",
    "\n",
    "[Numpy Reference](https://docs.scipy.org/doc/numpy/reference/)\n",
    "\n",
    "[Google Search](https://www.google.com/search?q=how+to+use+numpy)\n",
    "\n"
   ]
  },
  {
   "cell_type": "markdown",
   "metadata": {
    "colab_type": "text",
    "id": "-we_8UVrwCc1"
   },
   "source": [
    "# Intrduction to NumPy\n",
    "\n",
    "\n",
    "#### 1. Import NumPy under the name np."
   ]
  },
  {
   "cell_type": "code",
   "execution_count": 1,
   "metadata": {},
   "outputs": [
    {
     "name": "stdout",
     "output_type": "stream",
     "text": [
      "Requirement already up-to-date: numpy in c:\\users\\shcle\\appdata\\roaming\\python\\python37\\site-packages (1.18.5)\n"
     ]
    }
   ],
   "source": [
    "!pip install numpy --upgrade --user"
   ]
  },
  {
   "cell_type": "code",
   "execution_count": 2,
   "metadata": {
    "colab": {},
    "colab_type": "code",
    "id": "3fRJ8mtHwCc5"
   },
   "outputs": [],
   "source": [
    "import numpy as np"
   ]
  },
  {
   "cell_type": "markdown",
   "metadata": {
    "colab_type": "text",
    "id": "8Xtbl_EvwCc9"
   },
   "source": [
    "#### 2. Print your NumPy version."
   ]
  },
  {
   "cell_type": "code",
   "execution_count": 3,
   "metadata": {
    "colab": {},
    "colab_type": "code",
    "id": "BlegxuJVwCc-"
   },
   "outputs": [
    {
     "data": {
      "text/plain": [
       "'1.18.5'"
      ]
     },
     "execution_count": 3,
     "metadata": {},
     "output_type": "execute_result"
    }
   ],
   "source": [
    "np.__version__"
   ]
  },
  {
   "cell_type": "markdown",
   "metadata": {
    "colab_type": "text",
    "id": "FpKgyatowCdC"
   },
   "source": [
    "#### 3. Generate a 3x2x5 3-dimensional array with random values. Assign the array to variable *a*.\n",
    "**Challenge**: there are at least three easy ways that use numpy to generate random arrays. How many ways can you find?\n",
    "\n",
    "**Example of output**:\n",
    "````python\n",
    "[[[0.29932768, 0.85812686, 0.75266145, 0.09278988, 0.78358352],\n",
    "  [0.13437453, 0.65695946, 0.82047594, 0.09764179, 0.52230096]],\n",
    " \n",
    " [[0.54248247, 0.06431281, 0.65902257, 0.92736679, 0.3302839 ],\n",
    "  [0.86867236, 0.33960592, 0.62295821, 0.74563567, 0.24351584]],\n",
    " \n",
    " [[0.21276812, 0.06917533, 0.35106591, 0.82273425, 0.7910178 ],\n",
    "  [0.37768961, 0.56107736, 0.99965953, 0.97615549, 0.2445537 ]]]\n",
    "````"
   ]
  },
  {
   "cell_type": "code",
   "execution_count": 4,
   "metadata": {
    "colab": {},
    "colab_type": "code",
    "id": "609Z4Zn3wCdD"
   },
   "outputs": [
    {
     "data": {
      "text/plain": [
       "array([[[0.63131549, 0.86466053, 0.54718164, 0.55899052, 0.40201374],\n",
       "        [0.99818757, 0.91526968, 0.2499162 , 0.95107085, 0.46316482]],\n",
       "\n",
       "       [[0.80407886, 0.9867449 , 0.95910554, 0.56338864, 0.54489734],\n",
       "        [0.81995348, 0.68079327, 0.47926141, 0.08197315, 0.6494385 ]],\n",
       "\n",
       "       [[0.91863423, 0.87443887, 0.17841802, 0.21345031, 0.45761625],\n",
       "        [0.81531385, 0.44121037, 0.75371992, 0.36206328, 0.99315307]]])"
      ]
     },
     "execution_count": 4,
     "metadata": {},
     "output_type": "execute_result"
    }
   ],
   "source": [
    "# Method 1\n",
    "a = np.random.random(size=(3,2,5))\n",
    "a"
   ]
  },
  {
   "cell_type": "code",
   "execution_count": 5,
   "metadata": {
    "colab": {},
    "colab_type": "code",
    "id": "q6dKJNO4wCdH"
   },
   "outputs": [
    {
     "data": {
      "text/plain": [
       "array([[[16,  3,  6, 10, 11],\n",
       "        [ 2,  5, 10,  2, 16]],\n",
       "\n",
       "       [[ 8,  8,  9,  2, 10],\n",
       "        [16,  8,  9, 18, 13]],\n",
       "\n",
       "       [[19,  9, 15,  1, 12],\n",
       "        [16,  8,  1, 10, 14]]])"
      ]
     },
     "execution_count": 5,
     "metadata": {},
     "output_type": "execute_result"
    }
   ],
   "source": [
    "# Method 2\n",
    "a = np.random.randint(1,20,size=(3,2,5))\n",
    "a"
   ]
  },
  {
   "cell_type": "code",
   "execution_count": 6,
   "metadata": {
    "colab": {},
    "colab_type": "code",
    "id": "xILn36GWwCdK"
   },
   "outputs": [
    {
     "data": {
      "text/plain": [
       "array([[[0.28830171, 0.76638545, 0.78366185, 0.16105664, 0.34914714],\n",
       "        [0.17005055, 0.35084144, 0.15840016, 0.52523907, 0.79636335]],\n",
       "\n",
       "       [[0.24131766, 0.22132747, 0.47719533, 0.00672019, 0.96268522],\n",
       "        [0.09704316, 0.81939395, 0.97298392, 0.51985184, 0.56774563]],\n",
       "\n",
       "       [[0.82698018, 0.55989667, 0.14690625, 0.40967054, 0.21010993],\n",
       "        [0.34166183, 0.61165489, 0.37845614, 0.59543237, 0.3961828 ]]])"
      ]
     },
     "execution_count": 6,
     "metadata": {},
     "output_type": "execute_result"
    }
   ],
   "source": [
    "# Method 3\n",
    "a = np.random.random_sample(size=(3,2,5))\n",
    "a"
   ]
  },
  {
   "cell_type": "markdown",
   "metadata": {
    "colab_type": "text",
    "id": "aMHxBSCDwCdP"
   },
   "source": [
    "#### 4. Print *a*.\n"
   ]
  },
  {
   "cell_type": "code",
   "execution_count": 7,
   "metadata": {
    "colab": {},
    "colab_type": "code",
    "id": "N_NYL3pHwCdQ"
   },
   "outputs": [
    {
     "name": "stdout",
     "output_type": "stream",
     "text": [
      "[[[0.28830171 0.76638545 0.78366185 0.16105664 0.34914714]\n",
      "  [0.17005055 0.35084144 0.15840016 0.52523907 0.79636335]]\n",
      "\n",
      " [[0.24131766 0.22132747 0.47719533 0.00672019 0.96268522]\n",
      "  [0.09704316 0.81939395 0.97298392 0.51985184 0.56774563]]\n",
      "\n",
      " [[0.82698018 0.55989667 0.14690625 0.40967054 0.21010993]\n",
      "  [0.34166183 0.61165489 0.37845614 0.59543237 0.3961828 ]]]\n"
     ]
    }
   ],
   "source": [
    "print(a)"
   ]
  },
  {
   "cell_type": "markdown",
   "metadata": {
    "colab_type": "text",
    "id": "kws-mAPSwCdU"
   },
   "source": [
    "#### 5. Create a 5x2x3 3-dimensional array with all values equaling 1. Assign the array to variable *b*."
   ]
  },
  {
   "cell_type": "markdown",
   "metadata": {
    "colab_type": "text",
    "id": "SMAUJKLwJS-8"
   },
   "source": [
    "Expected output:\n",
    "\n",
    "````python\n",
    "      [[[1, 1, 1],\n",
    "        [1, 1, 1]],\n",
    "\n",
    "       [[1, 1, 1],\n",
    "        [1, 1, 1]],\n",
    "\n",
    "       [[1, 1, 1],\n",
    "        [1, 1, 1]],\n",
    "\n",
    "       [[1, 1, 1],\n",
    "        [1, 1, 1]],\n",
    "\n",
    "       [[1, 1, 1],\n",
    "        [1, 1, 1]]]\n",
    "````"
   ]
  },
  {
   "cell_type": "code",
   "execution_count": 8,
   "metadata": {
    "colab": {},
    "colab_type": "code",
    "id": "anCmbtrtwCdW"
   },
   "outputs": [],
   "source": [
    "b = np.ones(shape=(5,2,3))"
   ]
  },
  {
   "cell_type": "markdown",
   "metadata": {
    "colab_type": "text",
    "id": "FsYdwPxPwCdZ"
   },
   "source": [
    "#### 6. Print *b*.\n"
   ]
  },
  {
   "cell_type": "code",
   "execution_count": 9,
   "metadata": {
    "colab": {},
    "colab_type": "code",
    "id": "Y3rcPurpwCda"
   },
   "outputs": [
    {
     "name": "stdout",
     "output_type": "stream",
     "text": [
      "[[[1. 1. 1.]\n",
      "  [1. 1. 1.]]\n",
      "\n",
      " [[1. 1. 1.]\n",
      "  [1. 1. 1.]]\n",
      "\n",
      " [[1. 1. 1.]\n",
      "  [1. 1. 1.]]\n",
      "\n",
      " [[1. 1. 1.]\n",
      "  [1. 1. 1.]]\n",
      "\n",
      " [[1. 1. 1.]\n",
      "  [1. 1. 1.]]]\n"
     ]
    }
   ],
   "source": [
    "print(b)"
   ]
  },
  {
   "cell_type": "markdown",
   "metadata": {
    "colab_type": "text",
    "id": "hGblsnk5wCde"
   },
   "source": [
    "#### 7. Do *a* and *b* have the same size? How do you prove that in Python code?"
   ]
  },
  {
   "cell_type": "code",
   "execution_count": 10,
   "metadata": {
    "colab": {},
    "colab_type": "code",
    "id": "YmKeIpGWwCdf"
   },
   "outputs": [
    {
     "name": "stdout",
     "output_type": "stream",
     "text": [
      "Size of array a: (3, 2, 5)\n",
      "Size of array b: (5, 2, 3)\n"
     ]
    }
   ],
   "source": [
    "print(f'Size of array a: {a.shape}')\n",
    "print(f'Size of array b: {b.shape}')"
   ]
  },
  {
   "cell_type": "code",
   "execution_count": 11,
   "metadata": {},
   "outputs": [
    {
     "data": {
      "text/plain": [
       "False"
      ]
     },
     "execution_count": 11,
     "metadata": {},
     "output_type": "execute_result"
    }
   ],
   "source": [
    "a.shape == b.shape"
   ]
  },
  {
   "cell_type": "markdown",
   "metadata": {
    "colab_type": "text",
    "id": "o9UzXk9IwCdi"
   },
   "source": [
    "#### 8. Are you able to add *a* and *b*? Why or why not?\n"
   ]
  },
  {
   "cell_type": "code",
   "execution_count": 12,
   "metadata": {
    "colab": {},
    "colab_type": "code",
    "id": "drdAyKPywCdj"
   },
   "outputs": [
    {
     "name": "stdout",
     "output_type": "stream",
     "text": [
      "ERROR!: Two matrices may be added or subtracted only if they have the same dimension\n"
     ]
    }
   ],
   "source": [
    "# Two matrices may be added or subtracted only if they have the same dimension\n",
    "# As shown above, a and b have different dimensions which are 5x2x3 and 3x2X5,\n",
    "# ann then unable to add a and b\n",
    "\n",
    "\n",
    "def add_array(x, y):\n",
    "    if x.shape != y.shape:\n",
    "        print(\"ERROR!: Two matrices may be added or subtracted only if they have the same dimension\")\n",
    "    else:\n",
    "        print(\"Two arrays show same shapes, and then, the result of addtion of two arrays below:\")\n",
    "        print(\"\\n\")\n",
    "        print (x + y)\n",
    "              \n",
    "add_array(a, b)"
   ]
  },
  {
   "cell_type": "markdown",
   "metadata": {
    "colab_type": "text",
    "id": "DTsSOpvYwCdm"
   },
   "source": [
    "#### 9. Reshape *b* so that it has the same structure of *a* (i.e. become a 3x2x5 array). Assign the reshaped array to variable *c*.\n",
    "\n",
    "Expected output:\n",
    "\n",
    "````python\n",
    "      [[[1, 1, 1, 1, 1],\n",
    "        [1, 1, 1, 1, 1]],\n",
    "\n",
    "       [[1, 1, 1, 1, 1],\n",
    "        [1, 1, 1, 1, 1]],\n",
    "\n",
    "       [[1, 1, 1, 1, 1],\n",
    "        [1, 1, 1, 1, 1]]]\n",
    "````"
   ]
  },
  {
   "cell_type": "code",
   "execution_count": 13,
   "metadata": {
    "colab": {},
    "colab_type": "code",
    "id": "DjLlRJUtwCdn"
   },
   "outputs": [
    {
     "data": {
      "text/plain": [
       "array([[[1., 1., 1., 1., 1.],\n",
       "        [1., 1., 1., 1., 1.]],\n",
       "\n",
       "       [[1., 1., 1., 1., 1.],\n",
       "        [1., 1., 1., 1., 1.]],\n",
       "\n",
       "       [[1., 1., 1., 1., 1.],\n",
       "        [1., 1., 1., 1., 1.]]])"
      ]
     },
     "execution_count": 13,
     "metadata": {},
     "output_type": "execute_result"
    }
   ],
   "source": [
    "c = b.reshape((3,2,5))\n",
    "c"
   ]
  },
  {
   "cell_type": "markdown",
   "metadata": {
    "colab_type": "text",
    "id": "fvHocQ9EwCdq"
   },
   "source": [
    "#### 10. Try to add *a* and *c*. Now it should work. Assign the sum to variable *d*. But why does it work now?"
   ]
  },
  {
   "cell_type": "code",
   "execution_count": 14,
   "metadata": {
    "colab": {},
    "colab_type": "code",
    "id": "Ohf5yh5ZwCdr"
   },
   "outputs": [
    {
     "data": {
      "text/plain": [
       "array([[[1.28830171, 1.76638545, 1.78366185, 1.16105664, 1.34914714],\n",
       "        [1.17005055, 1.35084144, 1.15840016, 1.52523907, 1.79636335]],\n",
       "\n",
       "       [[1.24131766, 1.22132747, 1.47719533, 1.00672019, 1.96268522],\n",
       "        [1.09704316, 1.81939395, 1.97298392, 1.51985184, 1.56774563]],\n",
       "\n",
       "       [[1.82698018, 1.55989667, 1.14690625, 1.40967054, 1.21010993],\n",
       "        [1.34166183, 1.61165489, 1.37845614, 1.59543237, 1.3961828 ]]])"
      ]
     },
     "execution_count": 14,
     "metadata": {},
     "output_type": "execute_result"
    }
   ],
   "source": [
    "d = a + c\n",
    "d"
   ]
  },
  {
   "cell_type": "code",
   "execution_count": 15,
   "metadata": {},
   "outputs": [
    {
     "data": {
      "text/plain": [
       "True"
      ]
     },
     "execution_count": 15,
     "metadata": {},
     "output_type": "execute_result"
    }
   ],
   "source": [
    "a.shape == c.shape"
   ]
  },
  {
   "cell_type": "code",
   "execution_count": 16,
   "metadata": {},
   "outputs": [
    {
     "name": "stdout",
     "output_type": "stream",
     "text": [
      "Two arrays show same shapes, and then, the result of addtion of two arrays below:\n",
      "\n",
      "\n",
      "[[[1.28830171 1.76638545 1.78366185 1.16105664 1.34914714]\n",
      "  [1.17005055 1.35084144 1.15840016 1.52523907 1.79636335]]\n",
      "\n",
      " [[1.24131766 1.22132747 1.47719533 1.00672019 1.96268522]\n",
      "  [1.09704316 1.81939395 1.97298392 1.51985184 1.56774563]]\n",
      "\n",
      " [[1.82698018 1.55989667 1.14690625 1.40967054 1.21010993]\n",
      "  [1.34166183 1.61165489 1.37845614 1.59543237 1.3961828 ]]]\n"
     ]
    }
   ],
   "source": [
    "add_array(a,c)"
   ]
  },
  {
   "cell_type": "markdown",
   "metadata": {
    "colab_type": "text",
    "id": "DuQBMzQBwCdw"
   },
   "source": [
    "#### 11. Print *a* and *d*. Notice the difference and relation of the two array in terms of the values? Explain."
   ]
  },
  {
   "cell_type": "code",
   "execution_count": 17,
   "metadata": {
    "colab": {},
    "colab_type": "code",
    "id": "gEuh7iv1wCdx"
   },
   "outputs": [
    {
     "name": "stdout",
     "output_type": "stream",
     "text": [
      "[[[0.28830171 0.76638545 0.78366185 0.16105664 0.34914714]\n",
      "  [0.17005055 0.35084144 0.15840016 0.52523907 0.79636335]]\n",
      "\n",
      " [[0.24131766 0.22132747 0.47719533 0.00672019 0.96268522]\n",
      "  [0.09704316 0.81939395 0.97298392 0.51985184 0.56774563]]\n",
      "\n",
      " [[0.82698018 0.55989667 0.14690625 0.40967054 0.21010993]\n",
      "  [0.34166183 0.61165489 0.37845614 0.59543237 0.3961828 ]]]\n",
      "[[[1.28830171 1.76638545 1.78366185 1.16105664 1.34914714]\n",
      "  [1.17005055 1.35084144 1.15840016 1.52523907 1.79636335]]\n",
      "\n",
      " [[1.24131766 1.22132747 1.47719533 1.00672019 1.96268522]\n",
      "  [1.09704316 1.81939395 1.97298392 1.51985184 1.56774563]]\n",
      "\n",
      " [[1.82698018 1.55989667 1.14690625 1.40967054 1.21010993]\n",
      "  [1.34166183 1.61165489 1.37845614 1.59543237 1.3961828 ]]]\n"
     ]
    },
    {
     "data": {
      "text/plain": [
       "array([[[1., 1., 1., 1., 1.],\n",
       "        [1., 1., 1., 1., 1.]],\n",
       "\n",
       "       [[1., 1., 1., 1., 1.],\n",
       "        [1., 1., 1., 1., 1.]],\n",
       "\n",
       "       [[1., 1., 1., 1., 1.],\n",
       "        [1., 1., 1., 1., 1.]]])"
      ]
     },
     "execution_count": 17,
     "metadata": {},
     "output_type": "execute_result"
    }
   ],
   "source": [
    "print(a)\n",
    "print(d)\n",
    "\n",
    "d - a  # the resulto fo subtraction of two arrays  is array c (array ones)"
   ]
  },
  {
   "cell_type": "markdown",
   "metadata": {
    "colab_type": "text",
    "id": "Ka1popJ3wCd0"
   },
   "source": [
    "#### 12. Multiply *a* and *c*. Assign the result to *e*."
   ]
  },
  {
   "cell_type": "code",
   "execution_count": 18,
   "metadata": {
    "colab": {},
    "colab_type": "code",
    "id": "hLeCMiSEwCd1",
    "scrolled": true
   },
   "outputs": [
    {
     "data": {
      "text/plain": [
       "array([[[0.28830171, 0.76638545, 0.78366185, 0.16105664, 0.34914714],\n",
       "        [0.17005055, 0.35084144, 0.15840016, 0.52523907, 0.79636335]],\n",
       "\n",
       "       [[0.24131766, 0.22132747, 0.47719533, 0.00672019, 0.96268522],\n",
       "        [0.09704316, 0.81939395, 0.97298392, 0.51985184, 0.56774563]],\n",
       "\n",
       "       [[0.82698018, 0.55989667, 0.14690625, 0.40967054, 0.21010993],\n",
       "        [0.34166183, 0.61165489, 0.37845614, 0.59543237, 0.3961828 ]]])"
      ]
     },
     "execution_count": 18,
     "metadata": {},
     "output_type": "execute_result"
    }
   ],
   "source": [
    "e = a * c\n",
    "e"
   ]
  },
  {
   "cell_type": "markdown",
   "metadata": {
    "colab_type": "text",
    "id": "1QCqP6lMwCd5"
   },
   "source": [
    "#### 13. Does *e* equal to *a*? Why or why not?\n"
   ]
  },
  {
   "cell_type": "code",
   "execution_count": 19,
   "metadata": {
    "colab": {},
    "colab_type": "code",
    "id": "oxoat0cbwCd6"
   },
   "outputs": [
    {
     "data": {
      "text/plain": [
       "array([[[ True,  True,  True,  True,  True],\n",
       "        [ True,  True,  True,  True,  True]],\n",
       "\n",
       "       [[ True,  True,  True,  True,  True],\n",
       "        [ True,  True,  True,  True,  True]],\n",
       "\n",
       "       [[ True,  True,  True,  True,  True],\n",
       "        [ True,  True,  True,  True,  True]]])"
      ]
     },
     "execution_count": 19,
     "metadata": {},
     "output_type": "execute_result"
    }
   ],
   "source": [
    "e == a # array c is np.ones which pro"
   ]
  },
  {
   "cell_type": "markdown",
   "metadata": {
    "colab_type": "text",
    "id": "b7ceZMcswCd9"
   },
   "source": [
    "#### 14. Identify the max, min, and mean values in *d*. Assign those values to variables *d_max*, *d_min* and *d_mean*."
   ]
  },
  {
   "cell_type": "code",
   "execution_count": 20,
   "metadata": {
    "colab": {},
    "colab_type": "code",
    "id": "ljd7J4ucwCd-"
   },
   "outputs": [
    {
     "name": "stdout",
     "output_type": "stream",
     "text": [
      "size of array: (3, 2, 5)\n",
      "Max value in array:  1.97\n",
      "Min value in array:  1.01\n",
      "Mean value in array: 1.46\n"
     ]
    }
   ],
   "source": [
    "def calc_array (x):\n",
    "    '''\n",
    "    A function is that to identify the max, min, and mean values in array \n",
    "    '''\n",
    "    print(f'size of array: {x.shape}')\n",
    "    print(f'Max value in array:  {x.max():0.2f}')\n",
    "    print(f'Min value in array:  {x.min():0.2f}')\n",
    "    print(f'Mean value in array: {x.mean():0.2f}')\n",
    "    \n",
    "calc_array(d)"
   ]
  },
  {
   "cell_type": "markdown",
   "metadata": {
    "colab_type": "text",
    "id": "bBmZ1bg3wCeC"
   },
   "source": [
    "#### 15. Now we want to label the values in *d*. First create an empty array *f* with the same shape (i.e. 3x2x5) as *d* using `np.empty`.\n"
   ]
  },
  {
   "cell_type": "code",
   "execution_count": 21,
   "metadata": {
    "colab": {},
    "colab_type": "code",
    "id": "GVU7znV7wCeD"
   },
   "outputs": [
    {
     "data": {
      "text/plain": [
       "array([[[0.28830171, 0.76638545, 0.78366185, 0.16105664, 0.34914714],\n",
       "        [0.17005055, 0.35084144, 0.15840016, 0.52523907, 0.79636335]],\n",
       "\n",
       "       [[0.24131766, 0.22132747, 0.47719533, 0.00672019, 0.96268522],\n",
       "        [0.09704316, 0.81939395, 0.97298392, 0.51985184, 0.56774563]],\n",
       "\n",
       "       [[0.82698018, 0.55989667, 0.14690625, 0.40967054, 0.21010993],\n",
       "        [0.34166183, 0.61165489, 0.37845614, 0.59543237, 0.3961828 ]]])"
      ]
     },
     "execution_count": 21,
     "metadata": {},
     "output_type": "execute_result"
    }
   ],
   "source": [
    "f = np.empty(shape=(3,2,5))\n",
    "f"
   ]
  },
  {
   "cell_type": "markdown",
   "metadata": {
    "colab_type": "text",
    "id": "cwZMaPTawCeG"
   },
   "source": [
    "#### 16. Populate the values in *f*. \n",
    "\n",
    "For each value in *d*, \n",
    "\n",
    "* if it's larger than *d_min* but smaller than *d_mean*, assign 25 to the corresponding value in *f*. \n",
    "* If a value in *d* is larger than *d_mean* but smaller than *d_max*, assign 75 to the corresponding value in *f*. \n",
    "* If a value equals to *d_mean*, assign 50 to the corresponding value in *f*. \n",
    "* Assign 0 to the corresponding value(s) in *f* for *d_min* in *d*. \n",
    "* Assign 100 to the corresponding value(s) in *f* for *d_max* in *d*. \n",
    "* In the end, f should have only the following values: 0, 25, 50, 75, and 100.\n",
    "\n",
    "**Note**: you don't have to use Numpy in this question."
   ]
  },
  {
   "cell_type": "code",
   "execution_count": 22,
   "metadata": {
    "colab": {},
    "colab_type": "code",
    "id": "He3bA8_vwCeI"
   },
   "outputs": [
    {
     "name": "stdout",
     "output_type": "stream",
     "text": [
      "(3, 2, 5)\n"
     ]
    },
    {
     "data": {
      "text/plain": [
       "array([[[1.28830171, 1.76638545, 1.78366185, 1.16105664, 1.34914714],\n",
       "        [1.17005055, 1.35084144, 1.15840016, 1.52523907, 1.79636335]],\n",
       "\n",
       "       [[1.24131766, 1.22132747, 1.47719533, 1.00672019, 1.96268522],\n",
       "        [1.09704316, 1.81939395, 1.97298392, 1.51985184, 1.56774563]],\n",
       "\n",
       "       [[1.82698018, 1.55989667, 1.14690625, 1.40967054, 1.21010993],\n",
       "        [1.34166183, 1.61165489, 1.37845614, 1.59543237, 1.3961828 ]]])"
      ]
     },
     "execution_count": 22,
     "metadata": {},
     "output_type": "execute_result"
    }
   ],
   "source": [
    "print(d.shape)\n",
    "d"
   ]
  },
  {
   "cell_type": "code",
   "execution_count": 23,
   "metadata": {},
   "outputs": [
    {
     "name": "stdout",
     "output_type": "stream",
     "text": [
      "Mean: 1.4570887786582432\n",
      "Max:  1.9729839227999184\n",
      "Min:  1.006720188280794 \n",
      "\n",
      "[[[ 25.  75.  75.  25.  25.]\n",
      "  [ 25.  25.  25.  75.  75.]]\n",
      "\n",
      " [[ 25.  25.  75.   0.  75.]\n",
      "  [ 25.  75. 100.  75.  75.]]\n",
      "\n",
      " [[ 75.  75.  25.  25.  25.]\n",
      "  [ 25.  75.  25.  75.  25.]]]\n"
     ]
    }
   ],
   "source": [
    "print(f'Mean: {d.mean()}')\n",
    "print(f'Max:  {d.max()}')\n",
    "print(f'Min:  {d.min()}', '\\n')\n",
    "\n",
    "for i in range(d.shape[0]):\n",
    "    for j in range(d.shape[1]):\n",
    "        for k in range(d.shape[2]):\n",
    "\n",
    "            if (d[i][j][k] > d.min() and d[i][j][k] < d.mean()):\n",
    "                f[i][j][k] = 25\n",
    "\n",
    "            elif(d[i][j][k] > d.mean() and d[i][j][k] < d.max()):\n",
    "                f[i][j][k] = 75\n",
    "\n",
    "            elif(d[i][j][k] == d.mean()):\n",
    "                f[i][j][k] = 50\n",
    "\n",
    "            elif(d[i][j][k] == d.min()):\n",
    "                f[i][j][k] = 0\n",
    "                \n",
    "            elif(d[i][j][k] == d.max()):\n",
    "                f[i][j][k] = 100\n",
    "print(f)"
   ]
  },
  {
   "cell_type": "markdown",
   "metadata": {
    "colab_type": "text",
    "id": "DtXatajMwCeM"
   },
   "source": [
    "#### 17. Print *d* and *f*. Do you have your expected *f*?\n",
    "For instance, if your *d* is:\n",
    "```python\n",
    "[[[1.85836099, 1.67064465, 1.62576044, 1.40243961, 1.88454931],\n",
    "  [1.75354326, 1.69403643, 1.36729252, 1.61415071, 1.12104981]],\n",
    "\n",
    "[[1.72201435, 1.1862918 , 1.87078449, 1.7726778 , 1.88180042],\n",
    "  [1.44747908, 1.31673383, 1.02000951, 1.52218947, 1.97066381]],\n",
    "\n",
    "[[1.79129243, 1.74983003, 1.96028037, 1.85166831, 1.65450881],\n",
    " [1.18068344, 1.9587381 , 1.00656599, 1.93402165, 1.73514584]]]\n",
    "```\n",
    "Your *f* should be:\n",
    "```python\n",
    "[[[ 75.  75.  75.  25.  75.]\n",
    "  [ 75.  75.  25.  25.  25.]]\n",
    "\n",
    " [[ 75.  25.  75.  75.  75.]\n",
    "  [ 25.  25.  25.  25. 100.]]\n",
    "\n",
    " [[ 75.  75.  75.  75.  75.]\n",
    "  [ 25.  75.   0.  75.  75.]]]\n",
    "```"
   ]
  },
  {
   "cell_type": "markdown",
   "metadata": {
    "colab_type": "text",
    "id": "ppRoFFJBwCeS"
   },
   "source": [
    "#### 18. Bonus question: instead of using numbers (i.e. 0, 25, 50, 75, and 100), use string values  (\"A\", \"B\", \"C\", \"D\", and \"E\") to label the array elements. For the example above, the expected result is:\n",
    "\n",
    "```python\n",
    "[[['D' 'D' 'D' 'B' 'D']\n",
    "  ['D' 'D' 'B' 'B' 'B']]\n",
    "\n",
    " [['D' 'B' 'D' 'D' 'D']\n",
    "  ['B' 'B' 'B' 'B' 'E']]\n",
    "\n",
    " [['D' 'D' 'D' 'D' 'D']\n",
    "  ['B' 'D' 'A' 'D' 'D']]]\n",
    "```\n",
    "**Note**: you don't have to use Numpy in this question."
   ]
  },
  {
   "cell_type": "code",
   "execution_count": 24,
   "metadata": {
    "colab": {},
    "colab_type": "code",
    "id": "xbBNSrnCwCeU"
   },
   "outputs": [
    {
     "name": "stdout",
     "output_type": "stream",
     "text": [
      "[[[ 25.  75.  75.  25.  25.]\n",
      "  [ 25.  25.  25.  75.  75.]]\n",
      "\n",
      " [[ 25.  25.  75.   0.  75.]\n",
      "  [ 25.  75. 100.  75.  75.]]\n",
      "\n",
      " [[ 75.  75.  25.  25.  25.]\n",
      "  [ 25.  75.  25.  75.  25.]]]\n",
      "\n",
      "\n",
      "[[['B' 'D' 'D' 'B' 'B']\n",
      "  ['B' 'B' 'B' 'D' 'D']]\n",
      "\n",
      " [['B' 'B' 'D' 'A' 'D']\n",
      "  ['B' 'D' 'E' 'D' 'D']]\n",
      "\n",
      " [['D' 'D' 'B' 'B' 'B']\n",
      "  ['B' 'D' 'B' 'D' 'B']]]\n"
     ]
    }
   ],
   "source": [
    "g = np.empty((3, 2, 5))\n",
    "\n",
    "# Change data type of given numpy array: .astype()\n",
    "g = g.astype('str')\n",
    "\n",
    "for i in range(d.shape[0]):\n",
    "    for j in range(d.shape[1]):\n",
    "        for k in range(d.shape[2]):\n",
    "\n",
    "            if (d[i][j][k] > d.min() and d[i][j][k] < d.mean()):\n",
    "                g[i][j][k] = 'B'\n",
    "\n",
    "            elif(d[i][j][k] > d.mean() and d[i][j][k] < d.max()):\n",
    "                g[i][j][k] = 'D'\n",
    "\n",
    "            elif(d[i][j][k] == d.mean()):\n",
    "                g[i][j][k] = 'C'\n",
    "\n",
    "            elif(d[i][j][k] == d.min()):\n",
    "                g[i][j][k] = 'A'\n",
    "\n",
    "            elif(d[i][j][k] == d.max()):\n",
    "                g[i][j][k] = 'E'\n",
    "print(f)\n",
    "print('\\n')\n",
    "print(g)"
   ]
  },
  {
   "cell_type": "markdown",
   "metadata": {
    "colab_type": "text",
    "id": "QzJyLQiFMsyT"
   },
   "source": [
    "## Additional Challenges for the Nerds\n",
    "\n",
    "If you are way ahead of your classmates and willing to accept some tough challenges about Numpy, take one or several of the following Codewar *katas*. \tYou need to already possess a good amount of knowledge in Python and statistics because you will need to write Python functions, do loops, write conditionals, and deal with matrices.\n",
    "\n",
    "* [Insert dashes](https://www.codewars.com/kata/insert-dashes)\n",
    "* [Thinkful - Logic Drills: Red and bumpy](https://www.codewars.com/kata/thinkful-logic-drills-red-and-bumpy)"
   ]
  },
  {
   "cell_type": "markdown",
   "metadata": {},
   "source": [
    "> <b>Insert dashes</b>\n",
    ">\n",
    ">Write a function insertDash(num)/InsertDash(int num) that will insert dashes ('-') between each two odd numbers in num. \n",
    ">For example: if num is 454793 the output should be 4547-9-3. Don't count zero as an odd number.\n",
    ">Note that the number will always be non-negative (>= 0)."
   ]
  },
  {
   "cell_type": "code",
   "execution_count": 25,
   "metadata": {
    "colab": {},
    "colab_type": "code",
    "id": "fy2EwolQMtfJ"
   },
   "outputs": [
    {
     "name": "stdout",
     "output_type": "stream",
     "text": [
      "4547-9-3\n",
      "6468767-9-1-7-1\n"
     ]
    }
   ],
   "source": [
    "def insert_dash (num: int):\n",
    "    '''\n",
    "    Function that will insert dashes('-') between each two odd number in num\n",
    "    '''\n",
    "    # Checking condition of number\n",
    "    if num >= 0:\n",
    "        # converting to list of string        \n",
    "        str_num = list(str(num))\n",
    "    else:\n",
    "        return print('The number should be an integer number')\n",
    "    \n",
    "    # Checking the condition to add dash ('-') in that component.\n",
    "    for i in range(len(str_num)-1):\n",
    "        if ((int(str_num[i]) % 2 != 0) and (int(str_num[i+1]) % 2 != 0)):\n",
    "            str_num[i] = str_num[i] + '-'\n",
    "        else:\n",
    "            str_num[i] = str_num[i]\n",
    "            \n",
    "    return(\"\".join(str_num))    \n",
    "\n",
    "\n",
    "print(insert_dash (454793))\n",
    "print(insert_dash (64687679171))\n"
   ]
  },
  {
   "cell_type": "code",
   "execution_count": 27,
   "metadata": {},
   "outputs": [
    {
     "name": "stdout",
     "output_type": "stream",
     "text": [
      "['4', '5', '4', '7', '9', '3']\n",
      "4\n"
     ]
    }
   ],
   "source": [
    "# Note:\n",
    "num=454793\n",
    "print(list(str(num)))\n",
    "print(str(num)[0])\n"
   ]
  },
  {
   "cell_type": "markdown",
   "metadata": {},
   "source": [
    "><b>Thinkful - Logic Drills: Red and bumpy</b>\n",
    ">\n",
    ">You're playing a game with a friend involving a bag of marbles. In the bag are ten marbles:\n",
    "> \n",
    "> 1 smooth red marble \\\n",
    "> 4 bumpy red marbles \\\n",
    "> 2 bumpy yellow marbles \\\n",
    "> 1 smooth yellow marble \\\n",
    "> 1 bumpy green marble \\\n",
    "> 1 smooth green marble \n",
    ">\n",
    "> You can see that \n",
    ">the probability of picking a smooth red marble from the bag is 1 / 10 or 0.10 and \\\n",
    ">the probability of picking a bumpy yellow marble is 2 / 10 or 0.20.\n",
    "\n",
    "> The game works like this: \n",
    "> your friend puts her hand in the bag, chooses a marble (without looking at it) and \n",
    "> tells you whether it's bumpy or smooth. \n",
    "> Then you have to guess which color it is before she pulls it out and reveals whether you're correct or not.\n",
    ">\n",
    "> You know that the information about \n",
    "> whether the marble is bumpy or smooth changes the probability of what color it is, and \n",
    "> you want some help with your guesses.\n",
    ">\n",
    "> Write a function color_probability() that takes two arguments: \n",
    "> a color ('red', 'yellow', or 'green') and a texture ('bumpy' or 'smooth') \n",
    "> and \n",
    "> returns the probability as a decimal fraction accurate to two places.\n",
    "\n",
    "> The probability should be a string and should discard any digits after the 100ths place. \n",
    "> For example, 2 / 3 or 0.6666666666666666 would become the string '0.66'. \n",
    "> Note this is different from rounding.\n",
    "\n",
    "> As a complete example, color_probability('red', 'bumpy') should return the string '0.57'.\n"
   ]
  },
  {
   "cell_type": "code",
   "execution_count": 28,
   "metadata": {},
   "outputs": [
    {
     "name": "stdout",
     "output_type": "stream",
     "text": [
      "0.57\n",
      "0.33\n"
     ]
    }
   ],
   "source": [
    "def color_probability(color:str, touch:str):\n",
    "    '''\n",
    "    A function that return the value of probability (only 2 digits) of choosen colors in string format\n",
    "    within smooth and bumpy marbles.\n",
    "    '''\n",
    "    # probability of colors for smooth marble\n",
    "    if touch == 'smooth':\n",
    "        if color =='red':\n",
    "            prob = str(1/3)\n",
    "            return prob[:4]\n",
    "        \n",
    "        elif color == 'yellow':\n",
    "            prob = str(1/3)\n",
    "            return prob[:4]\n",
    "        \n",
    "        elif color == 'green':\n",
    "            prob = str(1/3)\n",
    "            return prob[:4]\n",
    "        \n",
    "    # probability of colors for dumby marble\n",
    "    elif touch == 'bumpy':\n",
    "        if color =='red':\n",
    "            prob = str(4/7)\n",
    "            return prob[:4]\n",
    "        \n",
    "        elif color == 'yellow':\n",
    "            prob = str(2/7)\n",
    "            return prob[:4]\n",
    "        \n",
    "        elif color == 'green':\n",
    "            prob = str(1/7)\n",
    "            return prob[:4]\n",
    "        \n",
    "print(color_probability('red', 'bumpy'))   \n",
    "print(color_probability('red', 'smooth')) "
   ]
  }
 ],
 "metadata": {
  "colab": {
   "collapsed_sections": [],
   "name": "main.ipynb",
   "provenance": []
  },
  "kernelspec": {
   "display_name": "Python 3",
   "language": "python",
   "name": "python3"
  },
  "language_info": {
   "codemirror_mode": {
    "name": "ipython",
    "version": 3
   },
   "file_extension": ".py",
   "mimetype": "text/x-python",
   "name": "python",
   "nbconvert_exporter": "python",
   "pygments_lexer": "ipython3",
   "version": "3.7.6"
  },
  "toc": {
   "base_numbering": 1,
   "nav_menu": {},
   "number_sections": true,
   "sideBar": true,
   "skip_h1_title": false,
   "title_cell": "Table of Contents",
   "title_sidebar": "Contents",
   "toc_cell": false,
   "toc_position": {},
   "toc_section_display": true,
   "toc_window_display": false
  },
  "varInspector": {
   "cols": {
    "lenName": 16,
    "lenType": 16,
    "lenVar": 40
   },
   "kernels_config": {
    "python": {
     "delete_cmd_postfix": "",
     "delete_cmd_prefix": "del ",
     "library": "var_list.py",
     "varRefreshCmd": "print(var_dic_list())"
    },
    "r": {
     "delete_cmd_postfix": ") ",
     "delete_cmd_prefix": "rm(",
     "library": "var_list.r",
     "varRefreshCmd": "cat(var_dic_list()) "
    }
   },
   "types_to_exclude": [
    "module",
    "function",
    "builtin_function_or_method",
    "instance",
    "_Feature"
   ],
   "window_display": false
  }
 },
 "nbformat": 4,
 "nbformat_minor": 1
}
