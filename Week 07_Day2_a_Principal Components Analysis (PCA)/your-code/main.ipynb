{
 "cells": [
  {
   "cell_type": "markdown",
   "metadata": {},
   "source": [
    "- Comment as much as you can and use the resources\n",
    "- Happy learning!"
   ]
  },
  {
   "cell_type": "code",
   "execution_count": 1,
   "metadata": {},
   "outputs": [],
   "source": [
    "import pandas as pd\n",
    "import numpy as np\n",
    "import matplotlib.pyplot as plt"
   ]
  },
  {
   "cell_type": "markdown",
   "metadata": {},
   "source": [
    "# Challenge 1 - Reading and Standardizing the Data\n",
    "\n",
    "In this challenge we will work with image data and reduce the dimensions of the data to create a 2 dimensional plot. While we have not worked much with image data before, it can be represented as a numpy array where each pixel is assigned a numeric value. In this lesson, we will look at a dataset of cats and a dataset of dogs and see whether reducing them to two dimensions allows us to see if the data is separable. We will start by loading and processing the data. Run the cell below to load the two csv files and convert them into numpy arrays."
   ]
  },
  {
   "cell_type": "markdown",
   "metadata": {},
   "source": [
    "## Read the files into dataframes named `dogs` and `cats`"
   ]
  },
  {
   "cell_type": "code",
   "execution_count": 2,
   "metadata": {},
   "outputs": [
    {
     "data": {
      "text/html": [
       "<div>\n",
       "<style scoped>\n",
       "    .dataframe tbody tr th:only-of-type {\n",
       "        vertical-align: middle;\n",
       "    }\n",
       "\n",
       "    .dataframe tbody tr th {\n",
       "        vertical-align: top;\n",
       "    }\n",
       "\n",
       "    .dataframe thead th {\n",
       "        text-align: right;\n",
       "    }\n",
       "</style>\n",
       "<table border=\"1\" class=\"dataframe\">\n",
       "  <thead>\n",
       "    <tr style=\"text-align: right;\">\n",
       "      <th></th>\n",
       "      <th>0</th>\n",
       "      <th>1</th>\n",
       "      <th>2</th>\n",
       "      <th>3</th>\n",
       "      <th>4</th>\n",
       "      <th>5</th>\n",
       "      <th>6</th>\n",
       "      <th>7</th>\n",
       "      <th>8</th>\n",
       "      <th>9</th>\n",
       "      <th>...</th>\n",
       "      <th>4086</th>\n",
       "      <th>4087</th>\n",
       "      <th>4088</th>\n",
       "      <th>4089</th>\n",
       "      <th>4090</th>\n",
       "      <th>4091</th>\n",
       "      <th>4092</th>\n",
       "      <th>4093</th>\n",
       "      <th>4094</th>\n",
       "      <th>4095</th>\n",
       "    </tr>\n",
       "  </thead>\n",
       "  <tbody>\n",
       "    <tr>\n",
       "      <th>0</th>\n",
       "      <td>64</td>\n",
       "      <td>64</td>\n",
       "      <td>64</td>\n",
       "      <td>64</td>\n",
       "      <td>64</td>\n",
       "      <td>77</td>\n",
       "      <td>77</td>\n",
       "      <td>64</td>\n",
       "      <td>64</td>\n",
       "      <td>77</td>\n",
       "      <td>...</td>\n",
       "      <td>22</td>\n",
       "      <td>36</td>\n",
       "      <td>36</td>\n",
       "      <td>36</td>\n",
       "      <td>47</td>\n",
       "      <td>77</td>\n",
       "      <td>64</td>\n",
       "      <td>61</td>\n",
       "      <td>61</td>\n",
       "      <td>61</td>\n",
       "    </tr>\n",
       "    <tr>\n",
       "      <th>1</th>\n",
       "      <td>23</td>\n",
       "      <td>23</td>\n",
       "      <td>20</td>\n",
       "      <td>23</td>\n",
       "      <td>23</td>\n",
       "      <td>31</td>\n",
       "      <td>23</td>\n",
       "      <td>23</td>\n",
       "      <td>23</td>\n",
       "      <td>23</td>\n",
       "      <td>...</td>\n",
       "      <td>101</td>\n",
       "      <td>101</td>\n",
       "      <td>101</td>\n",
       "      <td>101</td>\n",
       "      <td>89</td>\n",
       "      <td>83</td>\n",
       "      <td>65</td>\n",
       "      <td>51</td>\n",
       "      <td>31</td>\n",
       "      <td>9</td>\n",
       "    </tr>\n",
       "    <tr>\n",
       "      <th>2</th>\n",
       "      <td>250</td>\n",
       "      <td>250</td>\n",
       "      <td>244</td>\n",
       "      <td>244</td>\n",
       "      <td>244</td>\n",
       "      <td>232</td>\n",
       "      <td>228</td>\n",
       "      <td>244</td>\n",
       "      <td>244</td>\n",
       "      <td>244</td>\n",
       "      <td>...</td>\n",
       "      <td>232</td>\n",
       "      <td>232</td>\n",
       "      <td>232</td>\n",
       "      <td>232</td>\n",
       "      <td>232</td>\n",
       "      <td>232</td>\n",
       "      <td>232</td>\n",
       "      <td>244</td>\n",
       "      <td>232</td>\n",
       "      <td>244</td>\n",
       "    </tr>\n",
       "    <tr>\n",
       "      <th>3</th>\n",
       "      <td>137</td>\n",
       "      <td>137</td>\n",
       "      <td>137</td>\n",
       "      <td>144</td>\n",
       "      <td>137</td>\n",
       "      <td>124</td>\n",
       "      <td>124</td>\n",
       "      <td>124</td>\n",
       "      <td>124</td>\n",
       "      <td>124</td>\n",
       "      <td>...</td>\n",
       "      <td>53</td>\n",
       "      <td>55</td>\n",
       "      <td>66</td>\n",
       "      <td>66</td>\n",
       "      <td>53</td>\n",
       "      <td>55</td>\n",
       "      <td>74</td>\n",
       "      <td>78</td>\n",
       "      <td>102</td>\n",
       "      <td>124</td>\n",
       "    </tr>\n",
       "    <tr>\n",
       "      <th>4</th>\n",
       "      <td>55</td>\n",
       "      <td>55</td>\n",
       "      <td>55</td>\n",
       "      <td>55</td>\n",
       "      <td>55</td>\n",
       "      <td>55</td>\n",
       "      <td>55</td>\n",
       "      <td>55</td>\n",
       "      <td>55</td>\n",
       "      <td>55</td>\n",
       "      <td>...</td>\n",
       "      <td>146</td>\n",
       "      <td>134</td>\n",
       "      <td>134</td>\n",
       "      <td>103</td>\n",
       "      <td>64</td>\n",
       "      <td>52</td>\n",
       "      <td>45</td>\n",
       "      <td>52</td>\n",
       "      <td>45</td>\n",
       "      <td>52</td>\n",
       "    </tr>\n",
       "  </tbody>\n",
       "</table>\n",
       "<p>5 rows × 4096 columns</p>\n",
       "</div>"
      ],
      "text/plain": [
       "     0    1    2    3    4    5    6    7    8    9  ...  4086  4087  4088  \\\n",
       "0   64   64   64   64   64   77   77   64   64   77  ...    22    36    36   \n",
       "1   23   23   20   23   23   31   23   23   23   23  ...   101   101   101   \n",
       "2  250  250  244  244  244  232  228  244  244  244  ...   232   232   232   \n",
       "3  137  137  137  144  137  124  124  124  124  124  ...    53    55    66   \n",
       "4   55   55   55   55   55   55   55   55   55   55  ...   146   134   134   \n",
       "\n",
       "   4089  4090  4091  4092  4093  4094  4095  \n",
       "0    36    47    77    64    61    61    61  \n",
       "1   101    89    83    65    51    31     9  \n",
       "2   232   232   232   232   244   232   244  \n",
       "3    66    53    55    74    78   102   124  \n",
       "4   103    64    52    45    52    45    52  \n",
       "\n",
       "[5 rows x 4096 columns]"
      ]
     },
     "execution_count": 2,
     "metadata": {},
     "output_type": "execute_result"
    }
   ],
   "source": [
    "cats = pd.read_csv('../data/cats.csv')\n",
    "cats.head()"
   ]
  },
  {
   "cell_type": "code",
   "execution_count": 3,
   "metadata": {},
   "outputs": [
    {
     "data": {
      "text/html": [
       "<div>\n",
       "<style scoped>\n",
       "    .dataframe tbody tr th:only-of-type {\n",
       "        vertical-align: middle;\n",
       "    }\n",
       "\n",
       "    .dataframe tbody tr th {\n",
       "        vertical-align: top;\n",
       "    }\n",
       "\n",
       "    .dataframe thead th {\n",
       "        text-align: right;\n",
       "    }\n",
       "</style>\n",
       "<table border=\"1\" class=\"dataframe\">\n",
       "  <thead>\n",
       "    <tr style=\"text-align: right;\">\n",
       "      <th></th>\n",
       "      <th>0</th>\n",
       "      <th>1</th>\n",
       "      <th>2</th>\n",
       "      <th>3</th>\n",
       "      <th>4</th>\n",
       "      <th>5</th>\n",
       "      <th>6</th>\n",
       "      <th>7</th>\n",
       "      <th>8</th>\n",
       "      <th>9</th>\n",
       "      <th>...</th>\n",
       "      <th>4086</th>\n",
       "      <th>4087</th>\n",
       "      <th>4088</th>\n",
       "      <th>4089</th>\n",
       "      <th>4090</th>\n",
       "      <th>4091</th>\n",
       "      <th>4092</th>\n",
       "      <th>4093</th>\n",
       "      <th>4094</th>\n",
       "      <th>4095</th>\n",
       "    </tr>\n",
       "  </thead>\n",
       "  <tbody>\n",
       "    <tr>\n",
       "      <th>0</th>\n",
       "      <td>224</td>\n",
       "      <td>224</td>\n",
       "      <td>224</td>\n",
       "      <td>218</td>\n",
       "      <td>213</td>\n",
       "      <td>213</td>\n",
       "      <td>213</td>\n",
       "      <td>204</td>\n",
       "      <td>224</td>\n",
       "      <td>213</td>\n",
       "      <td>...</td>\n",
       "      <td>130</td>\n",
       "      <td>123</td>\n",
       "      <td>113</td>\n",
       "      <td>100</td>\n",
       "      <td>100</td>\n",
       "      <td>100</td>\n",
       "      <td>100</td>\n",
       "      <td>106</td>\n",
       "      <td>100</td>\n",
       "      <td>100</td>\n",
       "    </tr>\n",
       "    <tr>\n",
       "      <th>1</th>\n",
       "      <td>131</td>\n",
       "      <td>124</td>\n",
       "      <td>131</td>\n",
       "      <td>134</td>\n",
       "      <td>173</td>\n",
       "      <td>242</td>\n",
       "      <td>242</td>\n",
       "      <td>206</td>\n",
       "      <td>96</td>\n",
       "      <td>96</td>\n",
       "      <td>...</td>\n",
       "      <td>104</td>\n",
       "      <td>96</td>\n",
       "      <td>89</td>\n",
       "      <td>96</td>\n",
       "      <td>110</td>\n",
       "      <td>124</td>\n",
       "      <td>81</td>\n",
       "      <td>54</td>\n",
       "      <td>104</td>\n",
       "      <td>124</td>\n",
       "    </tr>\n",
       "    <tr>\n",
       "      <th>2</th>\n",
       "      <td>127</td>\n",
       "      <td>136</td>\n",
       "      <td>136</td>\n",
       "      <td>136</td>\n",
       "      <td>136</td>\n",
       "      <td>127</td>\n",
       "      <td>136</td>\n",
       "      <td>127</td>\n",
       "      <td>115</td>\n",
       "      <td>104</td>\n",
       "      <td>...</td>\n",
       "      <td>136</td>\n",
       "      <td>144</td>\n",
       "      <td>161</td>\n",
       "      <td>161</td>\n",
       "      <td>144</td>\n",
       "      <td>136</td>\n",
       "      <td>115</td>\n",
       "      <td>104</td>\n",
       "      <td>89</td>\n",
       "      <td>104</td>\n",
       "    </tr>\n",
       "    <tr>\n",
       "      <th>3</th>\n",
       "      <td>126</td>\n",
       "      <td>125</td>\n",
       "      <td>125</td>\n",
       "      <td>107</td>\n",
       "      <td>94</td>\n",
       "      <td>94</td>\n",
       "      <td>107</td>\n",
       "      <td>94</td>\n",
       "      <td>93</td>\n",
       "      <td>94</td>\n",
       "      <td>...</td>\n",
       "      <td>125</td>\n",
       "      <td>126</td>\n",
       "      <td>136</td>\n",
       "      <td>136</td>\n",
       "      <td>107</td>\n",
       "      <td>94</td>\n",
       "      <td>93</td>\n",
       "      <td>93</td>\n",
       "      <td>93</td>\n",
       "      <td>93</td>\n",
       "    </tr>\n",
       "    <tr>\n",
       "      <th>4</th>\n",
       "      <td>136</td>\n",
       "      <td>122</td>\n",
       "      <td>122</td>\n",
       "      <td>127</td>\n",
       "      <td>122</td>\n",
       "      <td>114</td>\n",
       "      <td>122</td>\n",
       "      <td>114</td>\n",
       "      <td>114</td>\n",
       "      <td>114</td>\n",
       "      <td>...</td>\n",
       "      <td>94</td>\n",
       "      <td>127</td>\n",
       "      <td>147</td>\n",
       "      <td>173</td>\n",
       "      <td>162</td>\n",
       "      <td>147</td>\n",
       "      <td>147</td>\n",
       "      <td>136</td>\n",
       "      <td>114</td>\n",
       "      <td>108</td>\n",
       "    </tr>\n",
       "  </tbody>\n",
       "</table>\n",
       "<p>5 rows × 4096 columns</p>\n",
       "</div>"
      ],
      "text/plain": [
       "     0    1    2    3    4    5    6    7    8    9  ...  4086  4087  4088  \\\n",
       "0  224  224  224  218  213  213  213  204  224  213  ...   130   123   113   \n",
       "1  131  124  131  134  173  242  242  206   96   96  ...   104    96    89   \n",
       "2  127  136  136  136  136  127  136  127  115  104  ...   136   144   161   \n",
       "3  126  125  125  107   94   94  107   94   93   94  ...   125   126   136   \n",
       "4  136  122  122  127  122  114  122  114  114  114  ...    94   127   147   \n",
       "\n",
       "   4089  4090  4091  4092  4093  4094  4095  \n",
       "0   100   100   100   100   106   100   100  \n",
       "1    96   110   124    81    54   104   124  \n",
       "2   161   144   136   115   104    89   104  \n",
       "3   136   107    94    93    93    93    93  \n",
       "4   173   162   147   147   136   114   108  \n",
       "\n",
       "[5 rows x 4096 columns]"
      ]
     },
     "execution_count": 3,
     "metadata": {},
     "output_type": "execute_result"
    }
   ],
   "source": [
    "dogs = pd.read_csv('../data/dogs.csv')\n",
    "dogs.head()"
   ]
  },
  {
   "cell_type": "markdown",
   "metadata": {},
   "source": [
    "Next, we'll examine the shape of both the cats and the dogs arrays. Print out both shapes below."
   ]
  },
  {
   "cell_type": "code",
   "execution_count": 4,
   "metadata": {},
   "outputs": [
    {
     "name": "stdout",
     "output_type": "stream",
     "text": [
      "(80, 4096)\n",
      "(80, 4096)\n"
     ]
    }
   ],
   "source": [
    "print(cats.shape)\n",
    "print(dogs.shape)"
   ]
  },
  {
   "cell_type": "markdown",
   "metadata": {},
   "source": [
    "What this means is that both arrays contain 80 images each (the number of rows). Each image is comprised of 64x64 pixels (so a total of 4096 pixels per image). The images have been flattened such that all 4096 are in a single row.\n",
    "\n",
    "Print out row 0 of the cats dataframe to see what the pixels values look like."
   ]
  },
  {
   "cell_type": "code",
   "execution_count": 5,
   "metadata": {},
   "outputs": [
    {
     "data": {
      "text/plain": [
       "array([64, 64, 64, ..., 61, 61, 61], dtype=int64)"
      ]
     },
     "execution_count": 5,
     "metadata": {},
     "output_type": "execute_result"
    }
   ],
   "source": [
    "np.array(cats.loc[0,:])"
   ]
  },
  {
   "cell_type": "markdown",
   "metadata": {},
   "source": [
    "Using `matplotlib` we can plot a single cat or a single dog. We do this by reshaping the observation vector back to a squared image and then using the `imshow` function.\n",
    "\n",
    "Plot the image of the first cat and dog of your dataframes\n",
    "\n",
    "_Extra: you can play with `imshow`'s argument `cmap` to see which colors are suitable for visualization_"
   ]
  },
  {
   "cell_type": "code",
   "execution_count": 6,
   "metadata": {},
   "outputs": [
    {
     "data": {
      "text/plain": [
       "<matplotlib.image.AxesImage at 0x21286075108>"
      ]
     },
     "execution_count": 6,
     "metadata": {},
     "output_type": "execute_result"
    },
    {
     "data": {
      "image/png": "[encoded data removed]",
      "text/plain": [
       "<Figure size 432x288 with 1 Axes>"
      ]
     },
     "metadata": {
      "needs_background": "light"
     },
     "output_type": "display_data"
    }
   ],
   "source": [
    "plt.imshow(np.array(cats.loc[0,:]).reshape(64,64))"
   ]
  },
  {
   "cell_type": "code",
   "execution_count": 7,
   "metadata": {},
   "outputs": [
    {
     "data": {
      "text/plain": [
       "<matplotlib.image.AxesImage at 0x21286749ac8>"
      ]
     },
     "execution_count": 7,
     "metadata": {},
     "output_type": "execute_result"
    },
    {
     "data": {
      "image/png": "[encoded data removed]",
      "text/plain": [
       "<Figure size 432x288 with 1 Axes>"
      ]
     },
     "metadata": {
      "needs_background": "light"
     },
     "output_type": "display_data"
    }
   ],
   "source": [
    "plt.imshow(np.array(dogs.loc[0,:]).reshape(64,64))"
   ]
  },
  {
   "cell_type": "markdown",
   "metadata": {},
   "source": [
    "Now concatenate the cats and dogs dataframes. Make sure to put dogs first. This should result in a dataframe containing 160 observations and 4096 dimensions."
   ]
  },
  {
   "cell_type": "code",
   "execution_count": 8,
   "metadata": {},
   "outputs": [
    {
     "data": {
      "text/html": [
       "<div>\n",
       "<style scoped>\n",
       "    .dataframe tbody tr th:only-of-type {\n",
       "        vertical-align: middle;\n",
       "    }\n",
       "\n",
       "    .dataframe tbody tr th {\n",
       "        vertical-align: top;\n",
       "    }\n",
       "\n",
       "    .dataframe thead th {\n",
       "        text-align: right;\n",
       "    }\n",
       "</style>\n",
       "<table border=\"1\" class=\"dataframe\">\n",
       "  <thead>\n",
       "    <tr style=\"text-align: right;\">\n",
       "      <th></th>\n",
       "      <th>0</th>\n",
       "      <th>1</th>\n",
       "      <th>2</th>\n",
       "      <th>3</th>\n",
       "      <th>4</th>\n",
       "      <th>5</th>\n",
       "      <th>6</th>\n",
       "      <th>7</th>\n",
       "      <th>8</th>\n",
       "      <th>9</th>\n",
       "      <th>...</th>\n",
       "      <th>4086</th>\n",
       "      <th>4087</th>\n",
       "      <th>4088</th>\n",
       "      <th>4089</th>\n",
       "      <th>4090</th>\n",
       "      <th>4091</th>\n",
       "      <th>4092</th>\n",
       "      <th>4093</th>\n",
       "      <th>4094</th>\n",
       "      <th>4095</th>\n",
       "    </tr>\n",
       "  </thead>\n",
       "  <tbody>\n",
       "    <tr>\n",
       "      <th>0</th>\n",
       "      <td>224</td>\n",
       "      <td>224</td>\n",
       "      <td>224</td>\n",
       "      <td>218</td>\n",
       "      <td>213</td>\n",
       "      <td>213</td>\n",
       "      <td>213</td>\n",
       "      <td>204</td>\n",
       "      <td>224</td>\n",
       "      <td>213</td>\n",
       "      <td>...</td>\n",
       "      <td>130</td>\n",
       "      <td>123</td>\n",
       "      <td>113</td>\n",
       "      <td>100</td>\n",
       "      <td>100</td>\n",
       "      <td>100</td>\n",
       "      <td>100</td>\n",
       "      <td>106</td>\n",
       "      <td>100</td>\n",
       "      <td>100</td>\n",
       "    </tr>\n",
       "    <tr>\n",
       "      <th>1</th>\n",
       "      <td>131</td>\n",
       "      <td>124</td>\n",
       "      <td>131</td>\n",
       "      <td>134</td>\n",
       "      <td>173</td>\n",
       "      <td>242</td>\n",
       "      <td>242</td>\n",
       "      <td>206</td>\n",
       "      <td>96</td>\n",
       "      <td>96</td>\n",
       "      <td>...</td>\n",
       "      <td>104</td>\n",
       "      <td>96</td>\n",
       "      <td>89</td>\n",
       "      <td>96</td>\n",
       "      <td>110</td>\n",
       "      <td>124</td>\n",
       "      <td>81</td>\n",
       "      <td>54</td>\n",
       "      <td>104</td>\n",
       "      <td>124</td>\n",
       "    </tr>\n",
       "    <tr>\n",
       "      <th>2</th>\n",
       "      <td>127</td>\n",
       "      <td>136</td>\n",
       "      <td>136</td>\n",
       "      <td>136</td>\n",
       "      <td>136</td>\n",
       "      <td>127</td>\n",
       "      <td>136</td>\n",
       "      <td>127</td>\n",
       "      <td>115</td>\n",
       "      <td>104</td>\n",
       "      <td>...</td>\n",
       "      <td>136</td>\n",
       "      <td>144</td>\n",
       "      <td>161</td>\n",
       "      <td>161</td>\n",
       "      <td>144</td>\n",
       "      <td>136</td>\n",
       "      <td>115</td>\n",
       "      <td>104</td>\n",
       "      <td>89</td>\n",
       "      <td>104</td>\n",
       "    </tr>\n",
       "    <tr>\n",
       "      <th>3</th>\n",
       "      <td>126</td>\n",
       "      <td>125</td>\n",
       "      <td>125</td>\n",
       "      <td>107</td>\n",
       "      <td>94</td>\n",
       "      <td>94</td>\n",
       "      <td>107</td>\n",
       "      <td>94</td>\n",
       "      <td>93</td>\n",
       "      <td>94</td>\n",
       "      <td>...</td>\n",
       "      <td>125</td>\n",
       "      <td>126</td>\n",
       "      <td>136</td>\n",
       "      <td>136</td>\n",
       "      <td>107</td>\n",
       "      <td>94</td>\n",
       "      <td>93</td>\n",
       "      <td>93</td>\n",
       "      <td>93</td>\n",
       "      <td>93</td>\n",
       "    </tr>\n",
       "    <tr>\n",
       "      <th>4</th>\n",
       "      <td>136</td>\n",
       "      <td>122</td>\n",
       "      <td>122</td>\n",
       "      <td>127</td>\n",
       "      <td>122</td>\n",
       "      <td>114</td>\n",
       "      <td>122</td>\n",
       "      <td>114</td>\n",
       "      <td>114</td>\n",
       "      <td>114</td>\n",
       "      <td>...</td>\n",
       "      <td>94</td>\n",
       "      <td>127</td>\n",
       "      <td>147</td>\n",
       "      <td>173</td>\n",
       "      <td>162</td>\n",
       "      <td>147</td>\n",
       "      <td>147</td>\n",
       "      <td>136</td>\n",
       "      <td>114</td>\n",
       "      <td>108</td>\n",
       "    </tr>\n",
       "    <tr>\n",
       "      <th>...</th>\n",
       "      <td>...</td>\n",
       "      <td>...</td>\n",
       "      <td>...</td>\n",
       "      <td>...</td>\n",
       "      <td>...</td>\n",
       "      <td>...</td>\n",
       "      <td>...</td>\n",
       "      <td>...</td>\n",
       "      <td>...</td>\n",
       "      <td>...</td>\n",
       "      <td>...</td>\n",
       "      <td>...</td>\n",
       "      <td>...</td>\n",
       "      <td>...</td>\n",
       "      <td>...</td>\n",
       "      <td>...</td>\n",
       "      <td>...</td>\n",
       "      <td>...</td>\n",
       "      <td>...</td>\n",
       "      <td>...</td>\n",
       "      <td>...</td>\n",
       "    </tr>\n",
       "    <tr>\n",
       "      <th>75</th>\n",
       "      <td>69</td>\n",
       "      <td>69</td>\n",
       "      <td>70</td>\n",
       "      <td>71</td>\n",
       "      <td>71</td>\n",
       "      <td>73</td>\n",
       "      <td>76</td>\n",
       "      <td>78</td>\n",
       "      <td>87</td>\n",
       "      <td>90</td>\n",
       "      <td>...</td>\n",
       "      <td>124</td>\n",
       "      <td>107</td>\n",
       "      <td>104</td>\n",
       "      <td>109</td>\n",
       "      <td>120</td>\n",
       "      <td>110</td>\n",
       "      <td>69</td>\n",
       "      <td>54</td>\n",
       "      <td>59</td>\n",
       "      <td>66</td>\n",
       "    </tr>\n",
       "    <tr>\n",
       "      <th>76</th>\n",
       "      <td>28</td>\n",
       "      <td>26</td>\n",
       "      <td>31</td>\n",
       "      <td>29</td>\n",
       "      <td>27</td>\n",
       "      <td>27</td>\n",
       "      <td>33</td>\n",
       "      <td>32</td>\n",
       "      <td>27</td>\n",
       "      <td>23</td>\n",
       "      <td>...</td>\n",
       "      <td>106</td>\n",
       "      <td>110</td>\n",
       "      <td>120</td>\n",
       "      <td>124</td>\n",
       "      <td>126</td>\n",
       "      <td>128</td>\n",
       "      <td>128</td>\n",
       "      <td>136</td>\n",
       "      <td>139</td>\n",
       "      <td>144</td>\n",
       "    </tr>\n",
       "    <tr>\n",
       "      <th>77</th>\n",
       "      <td>60</td>\n",
       "      <td>47</td>\n",
       "      <td>48</td>\n",
       "      <td>70</td>\n",
       "      <td>71</td>\n",
       "      <td>60</td>\n",
       "      <td>50</td>\n",
       "      <td>61</td>\n",
       "      <td>63</td>\n",
       "      <td>63</td>\n",
       "      <td>...</td>\n",
       "      <td>161</td>\n",
       "      <td>160</td>\n",
       "      <td>149</td>\n",
       "      <td>131</td>\n",
       "      <td>128</td>\n",
       "      <td>135</td>\n",
       "      <td>114</td>\n",
       "      <td>78</td>\n",
       "      <td>84</td>\n",
       "      <td>104</td>\n",
       "    </tr>\n",
       "    <tr>\n",
       "      <th>78</th>\n",
       "      <td>223</td>\n",
       "      <td>223</td>\n",
       "      <td>222</td>\n",
       "      <td>225</td>\n",
       "      <td>227</td>\n",
       "      <td>230</td>\n",
       "      <td>237</td>\n",
       "      <td>231</td>\n",
       "      <td>223</td>\n",
       "      <td>230</td>\n",
       "      <td>...</td>\n",
       "      <td>170</td>\n",
       "      <td>171</td>\n",
       "      <td>177</td>\n",
       "      <td>179</td>\n",
       "      <td>180</td>\n",
       "      <td>181</td>\n",
       "      <td>180</td>\n",
       "      <td>180</td>\n",
       "      <td>178</td>\n",
       "      <td>177</td>\n",
       "    </tr>\n",
       "    <tr>\n",
       "      <th>79</th>\n",
       "      <td>101</td>\n",
       "      <td>102</td>\n",
       "      <td>106</td>\n",
       "      <td>110</td>\n",
       "      <td>113</td>\n",
       "      <td>113</td>\n",
       "      <td>113</td>\n",
       "      <td>111</td>\n",
       "      <td>110</td>\n",
       "      <td>109</td>\n",
       "      <td>...</td>\n",
       "      <td>110</td>\n",
       "      <td>104</td>\n",
       "      <td>121</td>\n",
       "      <td>95</td>\n",
       "      <td>68</td>\n",
       "      <td>76</td>\n",
       "      <td>108</td>\n",
       "      <td>129</td>\n",
       "      <td>120</td>\n",
       "      <td>113</td>\n",
       "    </tr>\n",
       "  </tbody>\n",
       "</table>\n",
       "<p>160 rows × 4096 columns</p>\n",
       "</div>"
      ],
      "text/plain": [
       "      0    1    2    3    4    5    6    7    8    9  ...  4086  4087  4088  \\\n",
       "0   224  224  224  218  213  213  213  204  224  213  ...   130   123   113   \n",
       "1   131  124  131  134  173  242  242  206   96   96  ...   104    96    89   \n",
       "2   127  136  136  136  136  127  136  127  115  104  ...   136   144   161   \n",
       "3   126  125  125  107   94   94  107   94   93   94  ...   125   126   136   \n",
       "4   136  122  122  127  122  114  122  114  114  114  ...    94   127   147   \n",
       "..  ...  ...  ...  ...  ...  ...  ...  ...  ...  ...  ...   ...   ...   ...   \n",
       "75   69   69   70   71   71   73   76   78   87   90  ...   124   107   104   \n",
       "76   28   26   31   29   27   27   33   32   27   23  ...   106   110   120   \n",
       "77   60   47   48   70   71   60   50   61   63   63  ...   161   160   149   \n",
       "78  223  223  222  225  227  230  237  231  223  230  ...   170   171   177   \n",
       "79  101  102  106  110  113  113  113  111  110  109  ...   110   104   121   \n",
       "\n",
       "    4089  4090  4091  4092  4093  4094  4095  \n",
       "0    100   100   100   100   106   100   100  \n",
       "1     96   110   124    81    54   104   124  \n",
       "2    161   144   136   115   104    89   104  \n",
       "3    136   107    94    93    93    93    93  \n",
       "4    173   162   147   147   136   114   108  \n",
       "..   ...   ...   ...   ...   ...   ...   ...  \n",
       "75   109   120   110    69    54    59    66  \n",
       "76   124   126   128   128   136   139   144  \n",
       "77   131   128   135   114    78    84   104  \n",
       "78   179   180   181   180   180   178   177  \n",
       "79    95    68    76   108   129   120   113  \n",
       "\n",
       "[160 rows x 4096 columns]"
      ]
     },
     "execution_count": 8,
     "metadata": {},
     "output_type": "execute_result"
    }
   ],
   "source": [
    "data = pd.concat([dogs, cats])\n",
    "data"
   ]
  },
  {
   "cell_type": "markdown",
   "metadata": {},
   "source": [
    "Next, we would like to standardize our data. \n",
    "\n",
    "In order to do that, we will need to use the `StandardScaler` class from `sklearn.preprocessing` module.\n",
    "\n",
    "Remember, we need to standardize the information for each pixel (which are the dimensions of our dataset) so that they can be compared in the PCA algorithm. Otherwise, the result would be dominated by the variable with the highest scale. \n"
   ]
  },
  {
   "cell_type": "code",
   "execution_count": 9,
   "metadata": {},
   "outputs": [
    {
     "data": {
      "text/plain": [
       "array([ 1.62729443,  1.71734864,  1.69367206, ..., -0.07659167,\n",
       "       -0.12937266, -0.12602345])"
      ]
     },
     "execution_count": 9,
     "metadata": {},
     "output_type": "execute_result"
    }
   ],
   "source": [
    "from sklearn.preprocessing import StandardScaler\n",
    "\n",
    "scaler = StandardScaler()\n",
    "data_std = scaler.fit_transform(data)\n",
    "data_std[0]"
   ]
  },
  {
   "cell_type": "markdown",
   "metadata": {},
   "source": [
    "## Bonus\n",
    "\n",
    "After standardizing your data, try visualizing your image again. Does the standardization changes your original image?"
   ]
  },
  {
   "cell_type": "code",
   "execution_count": 10,
   "metadata": {},
   "outputs": [
    {
     "data": {
      "text/plain": [
       "<matplotlib.image.AxesImage at 0x21287cadf48>"
      ]
     },
     "execution_count": 10,
     "metadata": {},
     "output_type": "execute_result"
    },
    {
     "data": {
      "image/png": "[encoded data removed]",
      "text/plain": [
       "<Figure size 432x288 with 1 Axes>"
      ]
     },
     "metadata": {
      "needs_background": "light"
     },
     "output_type": "display_data"
    }
   ],
   "source": [
    "plt.imshow(data_std[0].reshape(64,64))"
   ]
  },
  {
   "cell_type": "code",
   "execution_count": 11,
   "metadata": {},
   "outputs": [
    {
     "data": {
      "text/plain": [
       "<matplotlib.image.AxesImage at 0x21287d14b48>"
      ]
     },
     "execution_count": 11,
     "metadata": {},
     "output_type": "execute_result"
    },
    {
     "data": {
      "image/png": "[encoded data removed]",
      "text/plain": [
       "<Figure size 432x288 with 1 Axes>"
      ]
     },
     "metadata": {
      "needs_background": "light"
     },
     "output_type": "display_data"
    }
   ],
   "source": [
    "plt.imshow(data_std[80].reshape(64,64))"
   ]
  },
  {
   "cell_type": "markdown",
   "metadata": {},
   "source": [
    "# Challenge 2 - Using PCA\n",
    "\n",
    "Now that we have created a standardized matrix of cats and dogs, we'll find the two most important components in the data. \n",
    "\n",
    "Load the PCA from sklearn (https://scikit-learn.org/stable/modules/generated/sklearn.decomposition.PCA.html) and apply the function to our standarized data. Create a PCA model with two components."
   ]
  },
  {
   "cell_type": "code",
   "execution_count": 12,
   "metadata": {},
   "outputs": [
    {
     "data": {
      "text/plain": [
       "PCA(copy=True, iterated_power='auto', n_components=2, random_state=None,\n",
       "    svd_solver='auto', tol=0.0, whiten=False)"
      ]
     },
     "execution_count": 12,
     "metadata": {},
     "output_type": "execute_result"
    }
   ],
   "source": [
    "from sklearn.decomposition import PCA\n",
    "\n",
    "pca = PCA(n_components=2)\n",
    "pca.fit(data_std)"
   ]
  },
  {
   "cell_type": "markdown",
   "metadata": {},
   "source": [
    "After instantiating the `PCA class` and applying it to the standardized data, the results of your principal component analysis will be stored on the PCA object you've created (from the PCA class). "
   ]
  },
  {
   "cell_type": "markdown",
   "metadata": {},
   "source": [
    "# Challenge 3 - Plotting the Data\n",
    "\n",
    "Now that we have reduced our cats and dogs arrays, we can plot the data in a way that the human eye can understand in 2-D. We can look at this plot to see whether there are differences between the cat and dog images. \n",
    "\n",
    "In the cell below, create a pandas dataframe containing the columns `pc1`, and `pc2` with the results of the first and second components of your results, respectively."
   ]
  },
  {
   "cell_type": "code",
   "execution_count": 13,
   "metadata": {},
   "outputs": [
    {
     "data": {
      "text/html": [
       "<div>\n",
       "<style scoped>\n",
       "    .dataframe tbody tr th:only-of-type {\n",
       "        vertical-align: middle;\n",
       "    }\n",
       "\n",
       "    .dataframe tbody tr th {\n",
       "        vertical-align: top;\n",
       "    }\n",
       "\n",
       "    .dataframe thead th {\n",
       "        text-align: right;\n",
       "    }\n",
       "</style>\n",
       "<table border=\"1\" class=\"dataframe\">\n",
       "  <thead>\n",
       "    <tr style=\"text-align: right;\">\n",
       "      <th></th>\n",
       "      <th>pc1</th>\n",
       "      <th>pc2</th>\n",
       "    </tr>\n",
       "  </thead>\n",
       "  <tbody>\n",
       "    <tr>\n",
       "      <th>0</th>\n",
       "      <td>45.544981</td>\n",
       "      <td>-25.238939</td>\n",
       "    </tr>\n",
       "    <tr>\n",
       "      <th>1</th>\n",
       "      <td>-24.832859</td>\n",
       "      <td>-41.571687</td>\n",
       "    </tr>\n",
       "    <tr>\n",
       "      <th>2</th>\n",
       "      <td>27.469245</td>\n",
       "      <td>11.958186</td>\n",
       "    </tr>\n",
       "    <tr>\n",
       "      <th>3</th>\n",
       "      <td>-22.599855</td>\n",
       "      <td>-9.839362</td>\n",
       "    </tr>\n",
       "    <tr>\n",
       "      <th>4</th>\n",
       "      <td>19.360356</td>\n",
       "      <td>-18.812025</td>\n",
       "    </tr>\n",
       "    <tr>\n",
       "      <th>...</th>\n",
       "      <td>...</td>\n",
       "      <td>...</td>\n",
       "    </tr>\n",
       "    <tr>\n",
       "      <th>155</th>\n",
       "      <td>-0.540205</td>\n",
       "      <td>15.293930</td>\n",
       "    </tr>\n",
       "    <tr>\n",
       "      <th>156</th>\n",
       "      <td>-16.701598</td>\n",
       "      <td>20.898396</td>\n",
       "    </tr>\n",
       "    <tr>\n",
       "      <th>157</th>\n",
       "      <td>-18.718427</td>\n",
       "      <td>20.867385</td>\n",
       "    </tr>\n",
       "    <tr>\n",
       "      <th>158</th>\n",
       "      <td>-14.326408</td>\n",
       "      <td>-14.334384</td>\n",
       "    </tr>\n",
       "    <tr>\n",
       "      <th>159</th>\n",
       "      <td>10.455009</td>\n",
       "      <td>8.366717</td>\n",
       "    </tr>\n",
       "  </tbody>\n",
       "</table>\n",
       "<p>160 rows × 2 columns</p>\n",
       "</div>"
      ],
      "text/plain": [
       "           pc1        pc2\n",
       "0    45.544981 -25.238939\n",
       "1   -24.832859 -41.571687\n",
       "2    27.469245  11.958186\n",
       "3   -22.599855  -9.839362\n",
       "4    19.360356 -18.812025\n",
       "..         ...        ...\n",
       "155  -0.540205  15.293930\n",
       "156 -16.701598  20.898396\n",
       "157 -18.718427  20.867385\n",
       "158 -14.326408 -14.334384\n",
       "159  10.455009   8.366717\n",
       "\n",
       "[160 rows x 2 columns]"
      ]
     },
     "execution_count": 13,
     "metadata": {},
     "output_type": "execute_result"
    }
   ],
   "source": [
    "data_pca = pd.DataFrame(pca.transform(data_std),columns=['pc1','pc2'])\n",
    "data_pca"
   ]
  },
  {
   "cell_type": "markdown",
   "metadata": {},
   "source": [
    "Create a labels list. This list will be of size 160. The first 80 elements in the list will be the word `blue`, and the last 80 elements will be `red`. This will ensure that all dog observations will be colored in blue and all cats will be colored in red. Name this list `colors`."
   ]
  },
  {
   "cell_type": "code",
   "execution_count": 14,
   "metadata": {},
   "outputs": [],
   "source": [
    "colors = ['blue']* 80 + ['red'] * 80"
   ]
  },
  {
   "cell_type": "markdown",
   "metadata": {},
   "source": [
    "Create a scatter plot of `pc1` and `pc2` below. Use the `colors` list above to color the observations by setting `c=colors`."
   ]
  },
  {
   "cell_type": "code",
   "execution_count": 15,
   "metadata": {},
   "outputs": [
    {
     "data": {
      "text/plain": [
       "<matplotlib.collections.PathCollection at 0x212894d3508>"
      ]
     },
     "execution_count": 15,
     "metadata": {},
     "output_type": "execute_result"
    },
    {
     "data": {
      "image/png": "[encoded data removed]",
      "text/plain": [
       "<Figure size 432x288 with 1 Axes>"
      ]
     },
     "metadata": {
      "needs_background": "light"
     },
     "output_type": "display_data"
    }
   ],
   "source": [
    "# Your code here:\n",
    "plt.scatter(data_pca.pc1, data_pca.pc2,  c=colors)"
   ]
  },
  {
   "cell_type": "markdown",
   "metadata": {},
   "source": [
    "Do you see a clear separation between cats and dogs? Write your answer below."
   ]
  },
  {
   "cell_type": "code",
   "execution_count": 16,
   "metadata": {},
   "outputs": [
    {
     "data": {
      "text/plain": [
       "array([[ 0.00505356,  0.00466584,  0.00348487, ..., -0.01012732,\n",
       "        -0.00970182, -0.00890381],\n",
       "       [-0.02133877, -0.02283377, -0.02383968, ..., -0.00147128,\n",
       "        -0.00343634, -0.00480171]])"
      ]
     },
     "execution_count": 16,
     "metadata": {},
     "output_type": "execute_result"
    }
   ],
   "source": [
    "pca.components_"
   ]
  },
  {
   "cell_type": "code",
   "execution_count": 17,
   "metadata": {},
   "outputs": [
    {
     "data": {
      "text/plain": [
       "array([0.25550287, 0.13038508])"
      ]
     },
     "execution_count": 17,
     "metadata": {},
     "output_type": "execute_result"
    }
   ],
   "source": [
    "pca.explained_variance_ratio_"
   ]
  },
  {
   "cell_type": "markdown",
   "metadata": {},
   "source": [
    "# Evaluate the results"
   ]
  },
  {
   "cell_type": "markdown",
   "metadata": {},
   "source": [
    "Calculate how much explained variance do the results of your PCA has lead to.  "
   ]
  },
  {
   "cell_type": "code",
   "execution_count": 18,
   "metadata": {},
   "outputs": [
    {
     "data": {
      "text/plain": [
       "array([1053.12174758,  537.41613915])"
      ]
     },
     "execution_count": 18,
     "metadata": {},
     "output_type": "execute_result"
    }
   ],
   "source": [
    "pca.explained_variance_"
   ]
  },
  {
   "cell_type": "markdown",
   "metadata": {},
   "source": [
    "Explain with your own words what those values represent."
   ]
  },
  {
   "cell_type": "code",
   "execution_count": 19,
   "metadata": {},
   "outputs": [],
   "source": [
    "# your answer here:"
   ]
  },
  {
   "cell_type": "markdown",
   "metadata": {},
   "source": [
    "# Bonus Challenge\n",
    "\n",
    "\n",
    "Recreate your PCA using 20 components. You'll not be able to visualize the results this time, but the idea here is to plot a cumulative sum of your explained variance results. Follow the steps as before (i.e, create a dataframe containing the 20 components and so on)\n",
    "\n",
    "\n",
    "What do you observe? How much of the information is retained after going from 4096 to 20 dimensions?"
   ]
  },
  {
   "cell_type": "code",
   "execution_count": 20,
   "metadata": {},
   "outputs": [
    {
     "data": {
      "text/plain": [
       "array([[ 45.54498136, -25.23893969, -11.78120054, ...,   2.79895659,\n",
       "          0.6495421 ,   1.28407924],\n",
       "       [-24.83285873, -41.57168637,  -1.97310964, ...,   3.82693287,\n",
       "         -1.90099925,  -4.36109921],\n",
       "       [ 27.46924504,  11.95818579,  13.89362534, ...,   4.35976904,\n",
       "         -0.41409982,  -1.99235911],\n",
       "       ...,\n",
       "       [-18.71842728,  20.86738541,   0.64178879, ...,   2.27693962,\n",
       "          2.07355545,  -0.71764545],\n",
       "       [-14.32640827, -14.33438521, -12.78676959, ...,  -3.1533962 ,\n",
       "         -5.72663113,  -2.28958515],\n",
       "       [ 10.45500944,   8.36671657, -10.04036702, ...,  -6.16984559,\n",
       "          1.89050921,  -0.7515505 ]])"
      ]
     },
     "execution_count": 20,
     "metadata": {},
     "output_type": "execute_result"
    }
   ],
   "source": [
    "pca =PCA(n_components=20) \n",
    "pca.fit(data_std)\n",
    "pca.transform(data_std)"
   ]
  },
  {
   "cell_type": "code",
   "execution_count": 21,
   "metadata": {},
   "outputs": [
    {
     "data": {
      "text/html": [
       "<div>\n",
       "<style scoped>\n",
       "    .dataframe tbody tr th:only-of-type {\n",
       "        vertical-align: middle;\n",
       "    }\n",
       "\n",
       "    .dataframe tbody tr th {\n",
       "        vertical-align: top;\n",
       "    }\n",
       "\n",
       "    .dataframe thead th {\n",
       "        text-align: right;\n",
       "    }\n",
       "</style>\n",
       "<table border=\"1\" class=\"dataframe\">\n",
       "  <thead>\n",
       "    <tr style=\"text-align: right;\">\n",
       "      <th></th>\n",
       "      <th>pc1</th>\n",
       "      <th>pc2</th>\n",
       "      <th>pc3</th>\n",
       "      <th>pc4</th>\n",
       "      <th>pc5</th>\n",
       "      <th>pc6</th>\n",
       "      <th>pc7</th>\n",
       "      <th>pc8</th>\n",
       "      <th>pc9</th>\n",
       "      <th>pc10</th>\n",
       "      <th>pc11</th>\n",
       "      <th>pc12</th>\n",
       "      <th>pc13</th>\n",
       "      <th>pc14</th>\n",
       "      <th>pc15</th>\n",
       "      <th>pc16</th>\n",
       "      <th>pc17</th>\n",
       "      <th>pc18</th>\n",
       "      <th>pc19</th>\n",
       "      <th>pc20</th>\n",
       "    </tr>\n",
       "  </thead>\n",
       "  <tbody>\n",
       "    <tr>\n",
       "      <th>0</th>\n",
       "      <td>45.544981</td>\n",
       "      <td>-25.238940</td>\n",
       "      <td>-11.781201</td>\n",
       "      <td>12.423785</td>\n",
       "      <td>15.065666</td>\n",
       "      <td>4.166344</td>\n",
       "      <td>7.310567</td>\n",
       "      <td>-10.366640</td>\n",
       "      <td>15.354076</td>\n",
       "      <td>1.780812</td>\n",
       "      <td>-11.272787</td>\n",
       "      <td>-6.401365</td>\n",
       "      <td>4.964891</td>\n",
       "      <td>10.412196</td>\n",
       "      <td>-2.952959</td>\n",
       "      <td>0.285235</td>\n",
       "      <td>0.933139</td>\n",
       "      <td>2.798957</td>\n",
       "      <td>0.649542</td>\n",
       "      <td>1.284079</td>\n",
       "    </tr>\n",
       "    <tr>\n",
       "      <th>1</th>\n",
       "      <td>-24.832859</td>\n",
       "      <td>-41.571686</td>\n",
       "      <td>-1.973110</td>\n",
       "      <td>7.216352</td>\n",
       "      <td>-2.162610</td>\n",
       "      <td>-16.067323</td>\n",
       "      <td>-13.708374</td>\n",
       "      <td>-26.484932</td>\n",
       "      <td>-0.721967</td>\n",
       "      <td>-10.871194</td>\n",
       "      <td>2.810481</td>\n",
       "      <td>-14.548374</td>\n",
       "      <td>-15.595307</td>\n",
       "      <td>-5.504844</td>\n",
       "      <td>10.937423</td>\n",
       "      <td>3.829883</td>\n",
       "      <td>0.896688</td>\n",
       "      <td>3.826933</td>\n",
       "      <td>-1.900999</td>\n",
       "      <td>-4.361099</td>\n",
       "    </tr>\n",
       "    <tr>\n",
       "      <th>2</th>\n",
       "      <td>27.469245</td>\n",
       "      <td>11.958186</td>\n",
       "      <td>13.893625</td>\n",
       "      <td>5.359911</td>\n",
       "      <td>-1.393299</td>\n",
       "      <td>-3.092514</td>\n",
       "      <td>7.593615</td>\n",
       "      <td>-4.695663</td>\n",
       "      <td>6.207742</td>\n",
       "      <td>-3.915266</td>\n",
       "      <td>-11.942303</td>\n",
       "      <td>-1.381859</td>\n",
       "      <td>-1.461553</td>\n",
       "      <td>-5.579320</td>\n",
       "      <td>4.227771</td>\n",
       "      <td>3.011753</td>\n",
       "      <td>6.981487</td>\n",
       "      <td>4.359769</td>\n",
       "      <td>-0.414100</td>\n",
       "      <td>-1.992359</td>\n",
       "    </tr>\n",
       "    <tr>\n",
       "      <th>3</th>\n",
       "      <td>-22.599855</td>\n",
       "      <td>-9.839362</td>\n",
       "      <td>8.600145</td>\n",
       "      <td>-1.931287</td>\n",
       "      <td>-2.039615</td>\n",
       "      <td>1.335621</td>\n",
       "      <td>-2.717706</td>\n",
       "      <td>0.660438</td>\n",
       "      <td>3.869330</td>\n",
       "      <td>11.658078</td>\n",
       "      <td>4.390573</td>\n",
       "      <td>-8.397435</td>\n",
       "      <td>2.928376</td>\n",
       "      <td>1.818138</td>\n",
       "      <td>8.191527</td>\n",
       "      <td>-5.160891</td>\n",
       "      <td>-12.737987</td>\n",
       "      <td>1.545631</td>\n",
       "      <td>-4.729442</td>\n",
       "      <td>-2.216077</td>\n",
       "    </tr>\n",
       "    <tr>\n",
       "      <th>4</th>\n",
       "      <td>19.360356</td>\n",
       "      <td>-18.812025</td>\n",
       "      <td>-11.399257</td>\n",
       "      <td>-18.441533</td>\n",
       "      <td>-1.340143</td>\n",
       "      <td>4.315504</td>\n",
       "      <td>1.680983</td>\n",
       "      <td>-1.443142</td>\n",
       "      <td>16.132231</td>\n",
       "      <td>-8.650283</td>\n",
       "      <td>4.339865</td>\n",
       "      <td>4.850378</td>\n",
       "      <td>0.462848</td>\n",
       "      <td>6.659518</td>\n",
       "      <td>-7.157751</td>\n",
       "      <td>3.422130</td>\n",
       "      <td>-1.667825</td>\n",
       "      <td>10.127414</td>\n",
       "      <td>-1.399046</td>\n",
       "      <td>2.642740</td>\n",
       "    </tr>\n",
       "    <tr>\n",
       "      <th>...</th>\n",
       "      <td>...</td>\n",
       "      <td>...</td>\n",
       "      <td>...</td>\n",
       "      <td>...</td>\n",
       "      <td>...</td>\n",
       "      <td>...</td>\n",
       "      <td>...</td>\n",
       "      <td>...</td>\n",
       "      <td>...</td>\n",
       "      <td>...</td>\n",
       "      <td>...</td>\n",
       "      <td>...</td>\n",
       "      <td>...</td>\n",
       "      <td>...</td>\n",
       "      <td>...</td>\n",
       "      <td>...</td>\n",
       "      <td>...</td>\n",
       "      <td>...</td>\n",
       "      <td>...</td>\n",
       "      <td>...</td>\n",
       "    </tr>\n",
       "    <tr>\n",
       "      <th>155</th>\n",
       "      <td>-0.540205</td>\n",
       "      <td>15.293931</td>\n",
       "      <td>9.526292</td>\n",
       "      <td>-14.247374</td>\n",
       "      <td>7.560272</td>\n",
       "      <td>5.330948</td>\n",
       "      <td>14.468639</td>\n",
       "      <td>-0.692530</td>\n",
       "      <td>5.754879</td>\n",
       "      <td>2.901776</td>\n",
       "      <td>-1.657705</td>\n",
       "      <td>-1.885982</td>\n",
       "      <td>-2.323366</td>\n",
       "      <td>-3.770312</td>\n",
       "      <td>2.094384</td>\n",
       "      <td>3.042910</td>\n",
       "      <td>-3.130009</td>\n",
       "      <td>-1.190601</td>\n",
       "      <td>-1.822414</td>\n",
       "      <td>0.826504</td>\n",
       "    </tr>\n",
       "    <tr>\n",
       "      <th>156</th>\n",
       "      <td>-16.701598</td>\n",
       "      <td>20.898396</td>\n",
       "      <td>13.354459</td>\n",
       "      <td>-1.922401</td>\n",
       "      <td>4.137853</td>\n",
       "      <td>12.649752</td>\n",
       "      <td>18.088625</td>\n",
       "      <td>-9.272457</td>\n",
       "      <td>10.502285</td>\n",
       "      <td>11.731316</td>\n",
       "      <td>-1.012356</td>\n",
       "      <td>1.688294</td>\n",
       "      <td>-1.675821</td>\n",
       "      <td>1.918301</td>\n",
       "      <td>-4.959835</td>\n",
       "      <td>-4.512694</td>\n",
       "      <td>2.149937</td>\n",
       "      <td>-8.659102</td>\n",
       "      <td>-1.746212</td>\n",
       "      <td>1.324677</td>\n",
       "    </tr>\n",
       "    <tr>\n",
       "      <th>157</th>\n",
       "      <td>-18.718427</td>\n",
       "      <td>20.867385</td>\n",
       "      <td>0.641789</td>\n",
       "      <td>0.462610</td>\n",
       "      <td>-6.693550</td>\n",
       "      <td>8.873295</td>\n",
       "      <td>-6.228486</td>\n",
       "      <td>-1.112011</td>\n",
       "      <td>1.102377</td>\n",
       "      <td>2.660602</td>\n",
       "      <td>0.618345</td>\n",
       "      <td>1.737451</td>\n",
       "      <td>3.578652</td>\n",
       "      <td>2.710795</td>\n",
       "      <td>6.591255</td>\n",
       "      <td>1.676690</td>\n",
       "      <td>0.274695</td>\n",
       "      <td>2.276940</td>\n",
       "      <td>2.073555</td>\n",
       "      <td>-0.717645</td>\n",
       "    </tr>\n",
       "    <tr>\n",
       "      <th>158</th>\n",
       "      <td>-14.326408</td>\n",
       "      <td>-14.334385</td>\n",
       "      <td>-12.786770</td>\n",
       "      <td>-8.715244</td>\n",
       "      <td>2.766221</td>\n",
       "      <td>-0.695115</td>\n",
       "      <td>23.508343</td>\n",
       "      <td>14.866600</td>\n",
       "      <td>-0.943563</td>\n",
       "      <td>-21.226968</td>\n",
       "      <td>-11.544918</td>\n",
       "      <td>10.600982</td>\n",
       "      <td>9.108186</td>\n",
       "      <td>-3.606642</td>\n",
       "      <td>6.330525</td>\n",
       "      <td>1.809906</td>\n",
       "      <td>-1.259169</td>\n",
       "      <td>-3.153396</td>\n",
       "      <td>-5.726631</td>\n",
       "      <td>-2.289585</td>\n",
       "    </tr>\n",
       "    <tr>\n",
       "      <th>159</th>\n",
       "      <td>10.455009</td>\n",
       "      <td>8.366717</td>\n",
       "      <td>-10.040367</td>\n",
       "      <td>-15.303808</td>\n",
       "      <td>3.246503</td>\n",
       "      <td>8.011786</td>\n",
       "      <td>-5.843843</td>\n",
       "      <td>3.848662</td>\n",
       "      <td>-2.626832</td>\n",
       "      <td>-1.715686</td>\n",
       "      <td>-2.010605</td>\n",
       "      <td>6.562159</td>\n",
       "      <td>1.047287</td>\n",
       "      <td>2.593185</td>\n",
       "      <td>0.608878</td>\n",
       "      <td>-1.490540</td>\n",
       "      <td>-4.372185</td>\n",
       "      <td>-6.169846</td>\n",
       "      <td>1.890509</td>\n",
       "      <td>-0.751551</td>\n",
       "    </tr>\n",
       "  </tbody>\n",
       "</table>\n",
       "<p>160 rows × 20 columns</p>\n",
       "</div>"
      ],
      "text/plain": [
       "           pc1        pc2        pc3        pc4        pc5        pc6  \\\n",
       "0    45.544981 -25.238940 -11.781201  12.423785  15.065666   4.166344   \n",
       "1   -24.832859 -41.571686  -1.973110   7.216352  -2.162610 -16.067323   \n",
       "2    27.469245  11.958186  13.893625   5.359911  -1.393299  -3.092514   \n",
       "3   -22.599855  -9.839362   8.600145  -1.931287  -2.039615   1.335621   \n",
       "4    19.360356 -18.812025 -11.399257 -18.441533  -1.340143   4.315504   \n",
       "..         ...        ...        ...        ...        ...        ...   \n",
       "155  -0.540205  15.293931   9.526292 -14.247374   7.560272   5.330948   \n",
       "156 -16.701598  20.898396  13.354459  -1.922401   4.137853  12.649752   \n",
       "157 -18.718427  20.867385   0.641789   0.462610  -6.693550   8.873295   \n",
       "158 -14.326408 -14.334385 -12.786770  -8.715244   2.766221  -0.695115   \n",
       "159  10.455009   8.366717 -10.040367 -15.303808   3.246503   8.011786   \n",
       "\n",
       "           pc7        pc8        pc9       pc10       pc11       pc12  \\\n",
       "0     7.310567 -10.366640  15.354076   1.780812 -11.272787  -6.401365   \n",
       "1   -13.708374 -26.484932  -0.721967 -10.871194   2.810481 -14.548374   \n",
       "2     7.593615  -4.695663   6.207742  -3.915266 -11.942303  -1.381859   \n",
       "3    -2.717706   0.660438   3.869330  11.658078   4.390573  -8.397435   \n",
       "4     1.680983  -1.443142  16.132231  -8.650283   4.339865   4.850378   \n",
       "..         ...        ...        ...        ...        ...        ...   \n",
       "155  14.468639  -0.692530   5.754879   2.901776  -1.657705  -1.885982   \n",
       "156  18.088625  -9.272457  10.502285  11.731316  -1.012356   1.688294   \n",
       "157  -6.228486  -1.112011   1.102377   2.660602   0.618345   1.737451   \n",
       "158  23.508343  14.866600  -0.943563 -21.226968 -11.544918  10.600982   \n",
       "159  -5.843843   3.848662  -2.626832  -1.715686  -2.010605   6.562159   \n",
       "\n",
       "          pc13       pc14       pc15      pc16       pc17       pc18  \\\n",
       "0     4.964891  10.412196  -2.952959  0.285235   0.933139   2.798957   \n",
       "1   -15.595307  -5.504844  10.937423  3.829883   0.896688   3.826933   \n",
       "2    -1.461553  -5.579320   4.227771  3.011753   6.981487   4.359769   \n",
       "3     2.928376   1.818138   8.191527 -5.160891 -12.737987   1.545631   \n",
       "4     0.462848   6.659518  -7.157751  3.422130  -1.667825  10.127414   \n",
       "..         ...        ...        ...       ...        ...        ...   \n",
       "155  -2.323366  -3.770312   2.094384  3.042910  -3.130009  -1.190601   \n",
       "156  -1.675821   1.918301  -4.959835 -4.512694   2.149937  -8.659102   \n",
       "157   3.578652   2.710795   6.591255  1.676690   0.274695   2.276940   \n",
       "158   9.108186  -3.606642   6.330525  1.809906  -1.259169  -3.153396   \n",
       "159   1.047287   2.593185   0.608878 -1.490540  -4.372185  -6.169846   \n",
       "\n",
       "         pc19      pc20  \n",
       "0    0.649542  1.284079  \n",
       "1   -1.900999 -4.361099  \n",
       "2   -0.414100 -1.992359  \n",
       "3   -4.729442 -2.216077  \n",
       "4   -1.399046  2.642740  \n",
       "..        ...       ...  \n",
       "155 -1.822414  0.826504  \n",
       "156 -1.746212  1.324677  \n",
       "157  2.073555 -0.717645  \n",
       "158 -5.726631 -2.289585  \n",
       "159  1.890509 -0.751551  \n",
       "\n",
       "[160 rows x 20 columns]"
      ]
     },
     "execution_count": 21,
     "metadata": {},
     "output_type": "execute_result"
    }
   ],
   "source": [
    "pd.DataFrame(pca.transform(data_std), columns=[f'pc{i}' for i in range(1,21)])"
   ]
  },
  {
   "cell_type": "code",
   "execution_count": 22,
   "metadata": {},
   "outputs": [
    {
     "data": {
      "text/plain": [
       "array([[ 0.00505356,  0.00466584,  0.00348487, ..., -0.01012732,\n",
       "        -0.00970182, -0.00890381],\n",
       "       [-0.02133876, -0.02283377, -0.02383969, ..., -0.00147128,\n",
       "        -0.00343634, -0.00480171],\n",
       "       [-0.03377178, -0.03288908, -0.03205496, ..., -0.01976219,\n",
       "        -0.02015514, -0.01973231],\n",
       "       ...,\n",
       "       [-0.00061142, -0.00302765, -0.00603761, ..., -0.02668158,\n",
       "        -0.02765276, -0.02331435],\n",
       "       [-0.02052666, -0.01563477, -0.0144701 , ..., -0.02136905,\n",
       "        -0.01405935, -0.01324961],\n",
       "       [-0.02316083, -0.02700888, -0.02670986, ..., -0.02795569,\n",
       "        -0.03341204, -0.04269258]])"
      ]
     },
     "execution_count": 22,
     "metadata": {},
     "output_type": "execute_result"
    }
   ],
   "source": [
    "pca.components_"
   ]
  },
  {
   "cell_type": "code",
   "execution_count": 23,
   "metadata": {},
   "outputs": [
    {
     "data": {
      "text/plain": [
       "array([0.25550287, 0.13038508, 0.0760708 , 0.05006292, 0.04331911,\n",
       "       0.03296438, 0.02638495, 0.02310168, 0.01997539, 0.01732058,\n",
       "       0.01564353, 0.01369568, 0.01177936, 0.01068945, 0.01047272,\n",
       "       0.00988371, 0.00929003, 0.0084468 , 0.00812595, 0.0076458 ])"
      ]
     },
     "execution_count": 23,
     "metadata": {},
     "output_type": "execute_result"
    }
   ],
   "source": [
    "pca.explained_variance_ratio_"
   ]
  },
  {
   "cell_type": "markdown",
   "metadata": {},
   "source": [
    "# Bonus Challenge 2"
   ]
  },
  {
   "cell_type": "markdown",
   "metadata": {},
   "source": [
    "Use the `.inverse_transform()` method to the dataframe with the 20 components and store your results. The inverse transform takes the results of the PCA (the reduced dimension space) and take it back to the original space (with 4096 dimensions). This will be helpful for you to visualize how the PCA affected the original data."
   ]
  },
  {
   "cell_type": "code",
   "execution_count": 24,
   "metadata": {},
   "outputs": [
    {
     "data": {
      "text/plain": [
       "array([[ 45.54498136, -25.23893969, -11.78120054, ...,   2.79895659,\n",
       "          0.6495421 ,   1.28407924],\n",
       "       [-24.83285873, -41.57168637,  -1.97310964, ...,   3.82693287,\n",
       "         -1.90099925,  -4.36109921],\n",
       "       [ 27.46924504,  11.95818579,  13.89362534, ...,   4.35976904,\n",
       "         -0.41409982,  -1.99235911],\n",
       "       ...,\n",
       "       [-18.71842728,  20.86738541,   0.64178879, ...,   2.27693962,\n",
       "          2.07355545,  -0.71764545],\n",
       "       [-14.32640827, -14.33438521, -12.78676959, ...,  -3.1533962 ,\n",
       "         -5.72663113,  -2.28958515],\n",
       "       [ 10.45500944,   8.36671657, -10.04036702, ...,  -6.16984559,\n",
       "          1.89050921,  -0.7515505 ]])"
      ]
     },
     "execution_count": 24,
     "metadata": {},
     "output_type": "execute_result"
    }
   ],
   "source": [
    "data_pca_20 = pca.transform(data_std)\n",
    "data_pca_20"
   ]
  },
  {
   "cell_type": "code",
   "execution_count": 25,
   "metadata": {
    "code_folding": []
   },
   "outputs": [
    {
     "data": {
      "text/plain": [
       "array([[ 1.57270502,  1.65607841,  1.6416531 , ...,  0.27387252,\n",
       "         0.34364317,  0.47656566],\n",
       "       [ 0.74969943,  0.81788042,  0.90794671, ...,  0.05523862,\n",
       "         0.34880364,  0.46795262],\n",
       "       [-0.22778065, -0.20048073, -0.17914081, ...,  0.10165961,\n",
       "         0.0545759 ,  0.04057692],\n",
       "       ...,\n",
       "       [-0.79279059, -0.8022509 , -0.76706264, ...,  0.22410052,\n",
       "         0.13863314,  0.09230716],\n",
       "       [ 1.77277151,  1.72141178,  1.69377929, ...,  1.29743884,\n",
       "         1.16186265,  1.08473512],\n",
       "       [ 0.22658946,  0.20557056,  0.19365415, ..., -0.34791132,\n",
       "        -0.42091239, -0.40697239]])"
      ]
     },
     "execution_count": 25,
     "metadata": {},
     "output_type": "execute_result"
    }
   ],
   "source": [
    "data_inverse = pca.inverse_transform(data_pca_20)\n",
    "data_inverse"
   ]
  },
  {
   "cell_type": "markdown",
   "metadata": {},
   "source": [
    "Use the `imshow` to plot the first row of the `inverse_transform` of the results. Compare the results with the original image."
   ]
  },
  {
   "cell_type": "code",
   "execution_count": 26,
   "metadata": {},
   "outputs": [
    {
     "data": {
      "text/plain": [
       "<matplotlib.image.AxesImage at 0x21289553ec8>"
      ]
     },
     "execution_count": 26,
     "metadata": {},
     "output_type": "execute_result"
    },
    {
     "data": {
      "image/png": "[encoded data removed]",
      "text/plain": [
       "<Figure size 432x288 with 1 Axes>"
      ]
     },
     "metadata": {
      "needs_background": "light"
     },
     "output_type": "display_data"
    }
   ],
   "source": [
    "plt.imshow(data_inverse[0].reshape(64,64))"
   ]
  },
  {
   "cell_type": "markdown",
   "metadata": {},
   "source": [
    "Change the value of the components above to have a feeling of the information retained (try 100 components)."
   ]
  },
  {
   "cell_type": "code",
   "execution_count": 27,
   "metadata": {},
   "outputs": [
    {
     "data": {
      "text/plain": [
       "array([[ 45.54498138, -25.23893945, -11.78120282, ...,  -1.98483782,\n",
       "         -0.27663704,  -1.77225193],\n",
       "       [-24.83285872, -41.57168642,  -1.97311081, ...,  -0.5913903 ,\n",
       "          1.39596041,   0.70011269],\n",
       "       [ 27.46924504,  11.95818659,  13.89361938, ...,  -1.76361898,\n",
       "         -0.71408464,  -0.49062108],\n",
       "       ...,\n",
       "       [-18.71842729,  20.86738533,   0.64178819, ...,   0.12444837,\n",
       "          1.82669293,  -3.84140421],\n",
       "       [-14.32640826, -14.33438404, -12.78678336, ...,   2.91338027,\n",
       "         -0.29404628,  -6.045719  ],\n",
       "       [ 10.45500949,   8.36671695, -10.04036422, ...,  -3.456375  ,\n",
       "          3.25389718,   1.20458145]])"
      ]
     },
     "execution_count": 27,
     "metadata": {},
     "output_type": "execute_result"
    }
   ],
   "source": [
    "pca = PCA(n_components =100)\n",
    "pca.fit(data_std)\n",
    "pca.transform(data_std)"
   ]
  },
  {
   "cell_type": "code",
   "execution_count": 28,
   "metadata": {},
   "outputs": [
    {
     "data": {
      "text/plain": [
       "100"
      ]
     },
     "execution_count": 28,
     "metadata": {},
     "output_type": "execute_result"
    }
   ],
   "source": [
    "pca.n_components_"
   ]
  },
  {
   "cell_type": "code",
   "execution_count": 29,
   "metadata": {},
   "outputs": [
    {
     "data": {
      "text/plain": [
       "array([ 0.00505356,  0.00466584,  0.00348487, ..., -0.01012732,\n",
       "       -0.00970182, -0.00890381])"
      ]
     },
     "execution_count": 29,
     "metadata": {},
     "output_type": "execute_result"
    }
   ],
   "source": [
    "pca.components_[0]"
   ]
  },
  {
   "cell_type": "code",
   "execution_count": 30,
   "metadata": {},
   "outputs": [
    {
     "data": {
      "text/plain": [
       "array([0.25550287, 0.13038508, 0.0760708 , 0.05006292, 0.04331911,\n",
       "       0.03296438, 0.02638495, 0.0231017 , 0.0199754 , 0.01732066,\n",
       "       0.01564357, 0.01369602, 0.01178039, 0.01069352, 0.01047473,\n",
       "       0.00988647, 0.00929313, 0.00845159, 0.00813595, 0.00769163,\n",
       "       0.00699746, 0.00673456, 0.00628446, 0.0058432 , 0.00575404,\n",
       "       0.00539904, 0.00530001, 0.0049305 , 0.00483146, 0.00469337,\n",
       "       0.00435906, 0.00433677, 0.00423928, 0.00414633, 0.00375644,\n",
       "       0.00354434, 0.00347389, 0.00342465, 0.00320306, 0.00316573,\n",
       "       0.00306825, 0.00302116, 0.00287223, 0.00283298, 0.00269614,\n",
       "       0.0025722 , 0.00253896, 0.00250445, 0.00237982, 0.00235003,\n",
       "       0.00226353, 0.00220229, 0.00216282, 0.00211591, 0.00204359,\n",
       "       0.00200284, 0.00193537, 0.00190676, 0.00185781, 0.00183705,\n",
       "       0.00178949, 0.00173907, 0.00171652, 0.00168922, 0.00168416,\n",
       "       0.00163702, 0.00156065, 0.00150638, 0.00149235, 0.00143774,\n",
       "       0.00142385, 0.00139783, 0.00139303, 0.00134057, 0.00132373,\n",
       "       0.0013051 , 0.00129448, 0.00123985, 0.00120768, 0.00119572,\n",
       "       0.00116546, 0.00114343, 0.00111169, 0.00110148, 0.00108525,\n",
       "       0.00106051, 0.0010533 , 0.00103959, 0.00099111, 0.0009751 ,\n",
       "       0.00096319, 0.00095628, 0.00092613, 0.00089838, 0.00087574,\n",
       "       0.00086892, 0.000841  , 0.00082519, 0.00081445, 0.00078087])"
      ]
     },
     "execution_count": 30,
     "metadata": {},
     "output_type": "execute_result"
    }
   ],
   "source": [
    "pca.explained_variance_ratio_"
   ]
  },
  {
   "cell_type": "code",
   "execution_count": 31,
   "metadata": {},
   "outputs": [],
   "source": [
    "data_pca_100 = pca.transform(data_std)"
   ]
  },
  {
   "cell_type": "code",
   "execution_count": 32,
   "metadata": {},
   "outputs": [
    {
     "data": {
      "text/plain": [
       "array([[ 1.51886443,  1.54932677,  1.46811963, ..., -0.27362041,\n",
       "        -0.22047154,  0.01597623],\n",
       "       [ 0.49032166,  0.43839163,  0.49502964, ..., -0.80247549,\n",
       "         0.01363769,  0.35561287],\n",
       "       [ 0.41850503,  0.43167148,  0.43514122, ...,  0.36838259,\n",
       "         0.20933352,  0.2379764 ],\n",
       "       ...,\n",
       "       [-0.49583787, -0.57954397, -0.47673481, ...,  0.04087328,\n",
       "         0.10510943,  0.17558374],\n",
       "       [ 1.58729874,  1.66269338,  1.71498112, ...,  1.07890283,\n",
       "         1.11187307,  1.08335844],\n",
       "       [ 0.08576263,  0.1903492 ,  0.33349593, ...,  0.15889991,\n",
       "         0.09681002, -0.02583748]])"
      ]
     },
     "execution_count": 32,
     "metadata": {},
     "output_type": "execute_result"
    }
   ],
   "source": [
    "data_inverse_2 = pca.inverse_transform(data_pca_100)\n",
    "data_inverse_2"
   ]
  },
  {
   "cell_type": "code",
   "execution_count": 33,
   "metadata": {},
   "outputs": [
    {
     "data": {
      "text/plain": [
       "<matplotlib.image.AxesImage at 0x21289947688>"
      ]
     },
     "execution_count": 33,
     "metadata": {},
     "output_type": "execute_result"
    },
    {
     "data": {
      "image/png": "[encoded data removed]",
      "text/plain": [
       "<Figure size 432x288 with 1 Axes>"
      ]
     },
     "metadata": {
      "needs_background": "light"
     },
     "output_type": "display_data"
    }
   ],
   "source": [
    "plt.imshow(data_inverse_2[0].reshape(64,64))"
   ]
  },
  {
   "cell_type": "markdown",
   "metadata": {},
   "source": [
    "The results above demonstrate the power of the PCA analysis. It takes the best combination of your columns in such a way that it preserves the most of its information. So, although you lose some of the information, you effectively reduce the number of dimensions on your dataset. This can be important both for visualization purposes as well as for understanding the importance of each feature."
   ]
  }
 ],
 "metadata": {
  "kernelspec": {
   "display_name": "Python 3",
   "language": "python",
   "name": "python3"
  },
  "language_info": {
   "codemirror_mode": {
    "name": "ipython",
    "version": 3
   },
   "file_extension": ".py",
   "mimetype": "text/x-python",
   "name": "python",
   "nbconvert_exporter": "python",
   "pygments_lexer": "ipython3",
   "version": "3.7.6"
  },
  "toc": {
   "base_numbering": 1,
   "nav_menu": {},
   "number_sections": true,
   "sideBar": true,
   "skip_h1_title": false,
   "title_cell": "Table of Contents",
   "title_sidebar": "Contents",
   "toc_cell": false,
   "toc_position": {},
   "toc_section_display": true,
   "toc_window_display": false
  },
  "varInspector": {
   "cols": {
    "lenName": 16,
    "lenType": 16,
    "lenVar": 40
   },
   "kernels_config": {
    "python": {
     "delete_cmd_postfix": "",
     "delete_cmd_prefix": "del ",
     "library": "var_list.py",
     "varRefreshCmd": "print(var_dic_list())"
    },
    "r": {
     "delete_cmd_postfix": ") ",
     "delete_cmd_prefix": "rm(",
     "library": "var_list.r",
     "varRefreshCmd": "cat(var_dic_list()) "
    }
   },
   "types_to_exclude": [
    "module",
    "function",
    "builtin_function_or_method",
    "instance",
    "_Feature"
   ],
   "window_display": false
  }
 },
 "nbformat": 4,
 "nbformat_minor": 2
}
