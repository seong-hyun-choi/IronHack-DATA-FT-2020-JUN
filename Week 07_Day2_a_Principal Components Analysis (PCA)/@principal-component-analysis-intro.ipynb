{
 "cells": [
  {
   "cell_type": "markdown",
   "metadata": {
    "colab_type": "text",
    "id": "KtjRunb5SNLC"
   },
   "source": [
    "import pandas as pd\n",
    "# ^^^ pyforest auto-imports - don't write above this line\n",
    "# Principal Component Analysis"
   ]
  },
  {
   "cell_type": "markdown",
   "metadata": {
    "colab_type": "text",
    "id": "N7PMjeCTSNLD"
   },
   "source": [
    "PCA is fundamentally a dimensionality reduction algorithm, but it can also be useful as a tool for visualization, for noise filtering, for feature extraction and engineering, and much more.\n"
   ]
  },
  {
   "cell_type": "code",
   "execution_count": 2,
   "metadata": {
    "ExecuteTime": {
     "end_time": "2020-04-20T18:38:06.221426Z",
     "start_time": "2020-04-20T18:38:06.218443Z"
    },
    "colab": {},
    "colab_type": "code",
    "id": "b0AHdhbTSNLE"
   },
   "outputs": [],
   "source": [
    "import numpy as np\n",
    "import matplotlib.pyplot as plt"
   ]
  },
  {
   "cell_type": "markdown",
   "metadata": {},
   "source": [
    "## Using PCA in 2-D (?) to understand its concept."
   ]
  },
  {
   "cell_type": "markdown",
   "metadata": {},
   "source": [
    "Imagine a dataset with the following composition:"
   ]
  },
  {
   "cell_type": "code",
   "execution_count": 3,
   "metadata": {
    "ExecuteTime": {
     "end_time": "2020-04-20T18:38:43.807875Z",
     "start_time": "2020-04-20T18:38:43.707898Z"
    },
    "colab": {},
    "colab_type": "code",
    "id": "qLIOvrnMSNLK",
    "outputId": "973d46e9-ede5-4f6d-e083-d980413da169"
   },
   "outputs": [
    {
     "data": {
      "image/png": "[encoded data removed]",
      "text/plain": [
       "<Figure size 432x288 with 1 Axes>"
      ]
     },
     "metadata": {
      "needs_background": "light"
     },
     "output_type": "display_data"
    }
   ],
   "source": [
    "rng = np.random.RandomState(1)\n",
    "X = np.dot(rng.rand(2, 2), rng.randn(2, 200)).T\n",
    "plt.scatter(X[:, 0], X[:, 1], alpha=1, s=8)\n",
    "plt.axis('equal');"
   ]
  },
  {
   "cell_type": "markdown",
   "metadata": {},
   "source": [
    "This dataset is comprised of two dimensions. The first column is the X[:, 0] (which, in the graph, is represented by the x-axis) and the second column, X[:, 1] (which, in the graph, is represented by the y-axis)."
   ]
  },
  {
   "cell_type": "markdown",
   "metadata": {},
   "source": [
    "If we think about the information contained in this data, we could imagine that the axis where the information is <b>really</b> contained is neighter x nor the y axis. It is, rather, an axis somewhere in between."
   ]
  },
  {
   "cell_type": "code",
   "execution_count": 4,
   "metadata": {
    "ExecuteTime": {
     "end_time": "2020-04-20T18:44:58.181867Z",
     "start_time": "2020-04-20T18:44:58.065152Z"
    }
   },
   "outputs": [
    {
     "data": {
      "image/png": "[encoded data removed]",
      "text/plain": [
       "<Figure size 432x288 with 1 Axes>"
      ]
     },
     "metadata": {
      "needs_background": "light"
     },
     "output_type": "display_data"
    }
   ],
   "source": [
    "# plot data\n",
    "plt.scatter(X[:, 0], X[:, 1], alpha=1)\n",
    "plt.annotate('direction of greater information', xy=(min(X[:,0])+0.1, min(X[:,1])-.05), xytext=(max(X[:,0]), max(X[:,1])+0.3), arrowprops=dict(arrowstyle= '<->', color='red', lw=3.5, ls='-'));"
   ]
  },
  {
   "cell_type": "markdown",
   "metadata": {
    "ExecuteTime": {
     "end_time": "2020-04-20T15:50:36.609862Z",
     "start_time": "2020-04-20T15:50:36.605872Z"
    }
   },
   "source": [
    "Specifically, it seems to be a combination of both the first and second dimensions. Indeed, it is. "
   ]
  },
  {
   "cell_type": "markdown",
   "metadata": {},
   "source": [
    "The PCA algorithm will try to find the directions in which the most information is contained. By information, we always mean to say - variance."
   ]
  },
  {
   "cell_type": "code",
   "execution_count": 5,
   "metadata": {
    "ExecuteTime": {
     "end_time": "2020-04-20T18:45:56.372500Z",
     "start_time": "2020-04-20T18:45:56.368512Z"
    }
   },
   "outputs": [
    {
     "data": {
      "text/plain": [
       "0.678766717934191"
      ]
     },
     "execution_count": 5,
     "metadata": {},
     "output_type": "execute_result"
    }
   ],
   "source": [
    "np.std(X[:, 0]) ** 2"
   ]
  },
  {
   "cell_type": "code",
   "execution_count": 6,
   "metadata": {
    "ExecuteTime": {
     "end_time": "2020-04-20T18:45:59.126457Z",
     "start_time": "2020-04-20T18:45:59.122467Z"
    }
   },
   "outputs": [
    {
     "data": {
      "text/plain": [
       "0.09833763148000234"
      ]
     },
     "execution_count": 6,
     "metadata": {},
     "output_type": "execute_result"
    }
   ],
   "source": [
    "np.std(X[:, 1]) ** 2"
   ]
  },
  {
   "cell_type": "markdown",
   "metadata": {
    "colab_type": "text",
    "id": "2ZsPk2PiSNLO"
   },
   "source": [
    "Rather than attempting to *predict* the y values from the x values, the unsupervised learning problem attempts to learn about the *relationship* between your features (your `X`).\n",
    "\n",
    "In principal component analysis, this relationship is quantified by finding a list of the *principal axes* in the data, and using those axes to describe the dataset."
   ]
  },
  {
   "cell_type": "code",
   "execution_count": 7,
   "metadata": {
    "ExecuteTime": {
     "end_time": "2020-04-20T18:48:46.866594Z",
     "start_time": "2020-04-20T18:48:46.862604Z"
    }
   },
   "outputs": [
    {
     "data": {
      "text/plain": [
       "(200, 2)"
      ]
     },
     "execution_count": 7,
     "metadata": {},
     "output_type": "execute_result"
    }
   ],
   "source": [
    "X.shape"
   ]
  },
  {
   "cell_type": "code",
   "execution_count": 9,
   "metadata": {
    "ExecuteTime": {
     "end_time": "2020-04-20T18:49:52.390452Z",
     "start_time": "2020-04-20T18:49:52.383471Z"
    }
   },
   "outputs": [
    {
     "data": {
      "text/plain": [
       "array([[-6.25301618e-01, -1.70063657e-01],\n",
       "       [ 9.60695033e-01,  5.90900597e-01],\n",
       "       [-5.98543385e-01, -4.02593393e-01],\n",
       "       [-2.22805938e+00, -5.32576740e-01],\n",
       "       [-4.61430060e-01, -4.98867244e-01],\n",
       "       [-9.58929028e-01, -2.69331024e-01],\n",
       "       [-6.73079909e-01, -3.38308547e-01],\n",
       "       [ 1.30501861e+00,  5.91357846e-01],\n",
       "       [ 3.74545597e-01, -9.85442049e-02],\n",
       "       [-1.82628627e+00, -4.06170254e-01],\n",
       "       [ 6.68262284e-01,  3.36877396e-01],\n",
       "       [-5.82646676e-01, -1.77369217e-01],\n",
       "       [-4.18128976e-01, -3.73811389e-01],\n",
       "       [ 1.72209371e-01,  2.64668836e-01],\n",
       "       [ 3.77116687e-01,  1.88442969e-01],\n",
       "       [-6.79396230e-01, -1.31601978e-01],\n",
       "       [ 1.03148960e+00,  4.25550018e-01],\n",
       "       [ 3.36041799e-01,  3.90982721e-02],\n",
       "       [ 7.05745985e-01,  4.88730649e-01],\n",
       "       [ 8.39511547e-01,  1.52125872e-01],\n",
       "       [ 1.49882898e+00,  4.71380809e-01],\n",
       "       [ 2.88356638e-01,  3.31334714e-02],\n",
       "       [-5.02935011e-01, -3.68665426e-01],\n",
       "       [ 1.47921067e+00,  7.40445724e-01],\n",
       "       [-4.44382429e-01, -1.65019364e-01],\n",
       "       [-5.33464228e-01, -6.02221911e-02],\n",
       "       [-6.16229422e-01, -2.11783922e-01],\n",
       "       [ 7.46598965e-02, -6.14321077e-02],\n",
       "       [-1.13637011e-01,  7.32877678e-02],\n",
       "       [-2.00717298e-02,  6.09744586e-02],\n",
       "       [ 1.89582967e-01,  1.99769369e-01],\n",
       "       [ 9.38466103e-01,  5.41731132e-01],\n",
       "       [-3.66697989e-01, -3.64971376e-02],\n",
       "       [-8.93528486e-01, -3.72814013e-01],\n",
       "       [-1.31759571e+00, -3.57581073e-01],\n",
       "       [-3.81802782e-01, -2.01252465e-01],\n",
       "       [-5.13790216e-01, -5.05974086e-01],\n",
       "       [ 9.03737934e-01,  2.49518260e-01],\n",
       "       [-4.38875079e-01, -1.50648130e-01],\n",
       "       [-5.94170907e-01, -9.41224109e-02],\n",
       "       [-3.12943931e-01, -6.57312966e-04],\n",
       "       [-3.00229089e-01, -4.22050272e-01],\n",
       "       [-5.99239320e-01, -2.60398180e-01],\n",
       "       [ 2.20370036e-01,  2.03914415e-01],\n",
       "       [ 5.25164844e-01,  1.87026363e-01],\n",
       "       [ 5.56625011e-01, -1.33745094e-01],\n",
       "       [ 1.35428157e+00,  5.47397422e-01],\n",
       "       [-6.83159806e-01, -3.94693187e-01],\n",
       "       [-1.23325109e-01, -1.04266539e-01],\n",
       "       [-3.13175458e-01, -6.98306619e-02],\n",
       "       [-2.48838277e+00, -8.44571249e-01],\n",
       "       [ 1.24996586e+00,  5.85738115e-01],\n",
       "       [ 1.76764431e-01,  1.10730208e-01],\n",
       "       [-5.07808538e-01, -3.15746300e-01],\n",
       "       [ 1.82738502e+00,  6.20232502e-01],\n",
       "       [ 8.10156740e-01,  1.77171194e-01],\n",
       "       [ 4.28494398e-01,  1.29892407e-01],\n",
       "       [-6.81124709e-02, -1.83414149e-01],\n",
       "       [-2.38085712e-01,  3.20283053e-02],\n",
       "       [-5.76511311e-01, -4.61119558e-01],\n",
       "       [ 7.86579791e-01,  2.40420951e-01],\n",
       "       [-3.94028364e-01, -1.13238995e-01],\n",
       "       [ 3.00281016e-01,  4.05830103e-02],\n",
       "       [ 8.34354492e-01,  3.63411695e-01],\n",
       "       [ 6.77025394e-01,  8.62180588e-02],\n",
       "       [ 8.22858785e-01,  7.95262868e-02],\n",
       "       [ 1.11060226e+00,  8.38447209e-02],\n",
       "       [-1.11056320e+00, -2.21851614e-01],\n",
       "       [-3.25581172e-05,  2.52586287e-01],\n",
       "       [ 9.01346004e-01,  4.66550032e-01],\n",
       "       [ 6.13325282e-01,  2.29429972e-01],\n",
       "       [ 1.00280321e+00,  2.67636970e-01],\n",
       "       [-5.00300647e-01, -2.65194678e-01],\n",
       "       [-1.46839080e+00, -2.62591632e-01],\n",
       "       [-1.16559210e+00, -4.35658777e-01],\n",
       "       [ 1.23290571e+00,  3.72644940e-01],\n",
       "       [-8.71374166e-02, -7.68205362e-02],\n",
       "       [ 1.32611731e+00,  4.23305575e-01],\n",
       "       [-6.55945864e-01, -2.36422799e-01],\n",
       "       [-3.98868969e-01, -1.32296178e-01],\n",
       "       [ 1.46537233e-01,  2.88714500e-02],\n",
       "       [ 8.34743614e-01,  2.78631269e-01],\n",
       "       [ 1.26455201e-01,  1.83894435e-02],\n",
       "       [ 2.01707556e-01,  6.38435019e-02],\n",
       "       [-2.67775720e-01,  4.92011507e-03],\n",
       "       [ 2.85085062e-01,  5.36128031e-02],\n",
       "       [-7.53418549e-01, -3.37531319e-01],\n",
       "       [ 5.29313417e-01,  2.45960831e-02],\n",
       "       [ 3.65577719e-01, -5.62717811e-02],\n",
       "       [ 3.62822350e-02, -1.71587143e-02],\n",
       "       [ 1.98139998e-01,  1.48806454e-01],\n",
       "       [-7.56673772e-01, -2.05864228e-01],\n",
       "       [ 1.15733262e-01, -2.55010922e-02],\n",
       "       [-1.81944537e-01, -8.98933373e-02],\n",
       "       [ 1.57198306e-01,  1.26124661e-01],\n",
       "       [ 5.83470370e-01,  2.37266716e-01],\n",
       "       [-9.46770213e-01, -2.88927090e-01],\n",
       "       [ 7.13140353e-01,  1.77219645e-01],\n",
       "       [ 1.30157187e+00,  6.24502445e-01],\n",
       "       [-5.49063710e-01, -4.44638605e-01],\n",
       "       [-4.29728257e-01, -2.50941856e-01],\n",
       "       [-3.86766308e-01, -2.66159401e-01],\n",
       "       [-6.57643258e-01, -8.45055625e-02],\n",
       "       [ 1.23961415e+00,  4.90659512e-01],\n",
       "       [ 3.18446596e-01,  4.12165000e-03],\n",
       "       [-8.98118949e-01, -2.10137581e-01],\n",
       "       [ 3.36881319e-01,  1.87961004e-01],\n",
       "       [-4.18452911e-01, -1.81336717e-01],\n",
       "       [ 2.36601159e-01,  3.39487039e-01],\n",
       "       [ 3.51319728e-01,  9.23282159e-02],\n",
       "       [ 1.35323942e+00,  4.19970027e-01],\n",
       "       [-8.34819518e-01, -2.00044213e-01],\n",
       "       [ 2.32938600e+00,  9.16366922e-01],\n",
       "       [ 4.67174434e-02,  2.49148699e-01],\n",
       "       [ 4.55373238e-01,  1.97896476e-01],\n",
       "       [-7.10684919e-01, -1.56607387e-02],\n",
       "       [-5.50095165e-02, -2.19243382e-01],\n",
       "       [-4.54554511e-01, -2.62307969e-01],\n",
       "       [-1.08213611e-01, -4.11131904e-02],\n",
       "       [-8.97552407e-01, -2.41129284e-01],\n",
       "       [ 7.34802491e-01,  8.56077609e-02],\n",
       "       [ 2.25266501e-01, -2.49531175e-01],\n",
       "       [-3.27438240e-01,  1.87561024e-01],\n",
       "       [ 1.20422548e+00,  2.89208121e-01],\n",
       "       [ 1.70331974e-01, -2.13212414e-01],\n",
       "       [ 1.00007930e+00,  3.60626507e-01],\n",
       "       [-6.71516563e-01, -7.20747636e-02],\n",
       "       [ 1.19221616e+00,  3.49379904e-01],\n",
       "       [ 2.40174205e-01,  1.32451266e-01],\n",
       "       [ 5.56592389e-01,  3.39247336e-01],\n",
       "       [-1.23113909e+00, -3.01572247e-01],\n",
       "       [ 1.52659926e-01, -3.22243331e-02],\n",
       "       [ 1.37611796e+00,  4.38905019e-01],\n",
       "       [-7.05213114e-01, -1.86923986e-01],\n",
       "       [-1.25035415e+00, -6.15852747e-01],\n",
       "       [-1.87651011e+00, -5.87438869e-01],\n",
       "       [-1.47105690e+00, -7.57686938e-01],\n",
       "       [-1.50346447e+00, -6.39175291e-01],\n",
       "       [-3.74317472e-01, -1.24473266e-01],\n",
       "       [ 8.78524826e-01,  3.86529047e-01],\n",
       "       [ 4.37960653e-02, -1.33600937e-01],\n",
       "       [ 5.45982844e-01,  9.78986853e-02],\n",
       "       [ 1.41569127e-01, -3.31934527e-02],\n",
       "       [ 6.35824494e-02,  2.60037422e-03],\n",
       "       [-8.87046213e-02, -5.08430872e-02],\n",
       "       [ 1.32411808e-01, -5.25896645e-02],\n",
       "       [ 4.29143144e-01,  1.39451520e-01],\n",
       "       [-5.62450166e-01, -3.55459800e-01],\n",
       "       [ 5.98293829e-01,  3.05358879e-01],\n",
       "       [-3.52669474e-01,  2.77872905e-01],\n",
       "       [ 2.92708138e-01, -5.88533723e-02],\n",
       "       [ 1.49216325e+00,  2.43746801e-01],\n",
       "       [-3.21136884e-01, -2.11988784e-01],\n",
       "       [-4.28741839e-01, -1.62431474e-01],\n",
       "       [ 5.56602182e-02,  4.72280460e-02],\n",
       "       [-1.86669080e-01, -5.75236287e-02],\n",
       "       [-3.15976890e-01, -1.35666133e-01],\n",
       "       [-9.52287292e-01, -2.03431276e-01],\n",
       "       [-6.17216871e-01, -1.68607956e-01],\n",
       "       [ 2.60724124e-01,  2.83827268e-01],\n",
       "       [-1.29606872e+00, -5.87501508e-01],\n",
       "       [ 1.30204436e-01,  1.06536600e-01],\n",
       "       [ 3.62026915e-02, -7.14259522e-02],\n",
       "       [ 4.51406829e-01,  2.20021746e-01],\n",
       "       [ 7.82343617e-01,  1.55836343e-01],\n",
       "       [-1.91527940e+00, -8.41226381e-01],\n",
       "       [ 1.33470527e+00,  1.77008275e-01],\n",
       "       [-5.57241554e-01,  9.78217703e-02],\n",
       "       [-2.54030157e-01,  6.53585666e-03],\n",
       "       [ 3.83426415e-02, -1.41592253e-01],\n",
       "       [ 1.66900682e+00,  2.58263884e-01],\n",
       "       [-4.01201302e-01, -1.24900651e-01],\n",
       "       [ 1.33980298e+00,  5.54699895e-01],\n",
       "       [ 3.12160775e-01,  1.70605436e-01],\n",
       "       [ 2.09517683e+00,  6.46487345e-01],\n",
       "       [-6.85653080e-01, -2.37525375e-01],\n",
       "       [-9.81232159e-01, -5.30795733e-01],\n",
       "       [ 3.81516151e-01,  2.16067601e-01],\n",
       "       [ 8.35386181e-02,  2.57654664e-01],\n",
       "       [ 1.56227043e-01,  1.07263711e-02],\n",
       "       [-8.98591326e-01, -4.65169769e-01],\n",
       "       [ 2.16673778e-01, -1.35265391e-01],\n",
       "       [ 3.99091276e-01,  1.86824524e-01],\n",
       "       [-3.90120284e-01, -5.57531130e-02],\n",
       "       [ 1.51136791e-01, -3.50017338e-02],\n",
       "       [-2.59947279e-02, -5.30194271e-02],\n",
       "       [-5.55678088e-01, -2.82320719e-01],\n",
       "       [-4.14437203e-01, -1.61157769e-01],\n",
       "       [-5.43696094e-01, -4.31161457e-01],\n",
       "       [ 1.42759145e+00,  5.34554140e-01],\n",
       "       [ 4.51861867e-01, -1.43502859e-01],\n",
       "       [ 8.07369404e-01,  1.44524192e-01],\n",
       "       [-4.61251208e-01, -3.08874028e-01],\n",
       "       [-1.06359448e-01,  2.40025629e-01],\n",
       "       [-1.09810334e+00, -5.66248687e-01],\n",
       "       [ 8.38408546e-01,  2.78380007e-01],\n",
       "       [ 3.12708310e-01, -1.06001233e-02],\n",
       "       [ 1.95587585e+00,  6.38224114e-01],\n",
       "       [-1.10830352e+00, -3.95053658e-01],\n",
       "       [ 3.98647206e-01,  2.31865526e-02]])"
      ]
     },
     "execution_count": 9,
     "metadata": {},
     "output_type": "execute_result"
    }
   ],
   "source": [
    "X"
   ]
  },
  {
   "cell_type": "code",
   "execution_count": 8,
   "metadata": {
    "ExecuteTime": {
     "end_time": "2020-04-20T18:49:36.044373Z",
     "start_time": "2020-04-20T18:49:35.719647Z"
    },
    "colab": {},
    "colab_type": "code",
    "id": "ej6KqjXbSNLP",
    "outputId": "5b3fd69d-6549-49c8-970f-1655e523920c"
   },
   "outputs": [
    {
     "data": {
      "text/plain": [
       "PCA(copy=True, iterated_power='auto', n_components=2, random_state=None,\n",
       "    svd_solver='auto', tol=0.0, whiten=False)"
      ]
     },
     "execution_count": 8,
     "metadata": {},
     "output_type": "execute_result"
    }
   ],
   "source": [
    "from sklearn.decomposition import PCA\n",
    "\n",
    "pca = PCA(n_components=2)\n",
    "pca.fit(X)"
   ]
  },
  {
   "cell_type": "markdown",
   "metadata": {
    "colab_type": "text",
    "id": "2pdJBp8OSNLR"
   },
   "source": [
    "The <b>fit method</b> learns some quantities from the data, most importantly the \"components\" and \"explained variance\":"
   ]
  },
  {
   "cell_type": "code",
   "execution_count": 11,
   "metadata": {
    "ExecuteTime": {
     "end_time": "2020-04-20T18:51:20.206834Z",
     "start_time": "2020-04-20T18:51:20.202844Z"
    },
    "colab": {},
    "colab_type": "code",
    "id": "Gc4E7aMXSNLS",
    "outputId": "c434c1a3-0ffe-4d28-c48f-e32d5b95bb10"
   },
   "outputs": [
    {
     "data": {
      "text/plain": [
       "array([[-0.94446029, -0.32862557],\n",
       "       [-0.32862557,  0.94446029]])"
      ]
     },
     "execution_count": 11,
     "metadata": {},
     "output_type": "execute_result"
    }
   ],
   "source": [
    "pca.components_"
   ]
  },
  {
   "cell_type": "markdown",
   "metadata": {},
   "source": [
    "What do these components mean?"
   ]
  },
  {
   "cell_type": "markdown",
   "metadata": {},
   "source": [
    "The first component is `pca.components_[0]`"
   ]
  },
  {
   "cell_type": "code",
   "execution_count": 12,
   "metadata": {
    "ExecuteTime": {
     "end_time": "2020-04-20T18:53:26.094391Z",
     "start_time": "2020-04-20T18:53:26.090402Z"
    }
   },
   "outputs": [
    {
     "data": {
      "text/plain": [
       "array([-0.94446029, -0.32862557])"
      ]
     },
     "execution_count": 12,
     "metadata": {},
     "output_type": "execute_result"
    }
   ],
   "source": [
    "pca.components_[0]"
   ]
  },
  {
   "cell_type": "code",
   "execution_count": 20,
   "metadata": {
    "ExecuteTime": {
     "end_time": "2020-04-20T19:03:22.633116Z",
     "start_time": "2020-04-20T19:03:22.624138Z"
    },
    "scrolled": true
   },
   "outputs": [
    {
     "data": {
      "application/javascript": [
       "\n",
       "        if (window._pyforest_update_imports_cell) { window._pyforest_update_imports_cell('import pandas as pd'); }\n",
       "    "
      ],
      "text/plain": [
       "<IPython.core.display.Javascript object>"
      ]
     },
     "metadata": {},
     "output_type": "display_data"
    },
    {
     "data": {
      "text/html": [
       "<div>\n",
       "<style scoped>\n",
       "    .dataframe tbody tr th:only-of-type {\n",
       "        vertical-align: middle;\n",
       "    }\n",
       "\n",
       "    .dataframe tbody tr th {\n",
       "        vertical-align: top;\n",
       "    }\n",
       "\n",
       "    .dataframe thead th {\n",
       "        text-align: right;\n",
       "    }\n",
       "</style>\n",
       "<table border=\"1\" class=\"dataframe\">\n",
       "  <thead>\n",
       "    <tr style=\"text-align: right;\">\n",
       "      <th></th>\n",
       "      <th>componente principal 1</th>\n",
       "    </tr>\n",
       "  </thead>\n",
       "  <tbody>\n",
       "    <tr>\n",
       "      <th>0</th>\n",
       "      <td>0.646460</td>\n",
       "    </tr>\n",
       "    <tr>\n",
       "      <th>1</th>\n",
       "      <td>-1.101523</td>\n",
       "    </tr>\n",
       "    <tr>\n",
       "      <th>2</th>\n",
       "      <td>0.697603</td>\n",
       "    </tr>\n",
       "    <tr>\n",
       "      <th>3</th>\n",
       "      <td>2.279332</td>\n",
       "    </tr>\n",
       "    <tr>\n",
       "      <th>4</th>\n",
       "      <td>0.599743</td>\n",
       "    </tr>\n",
       "    <tr>\n",
       "      <th>...</th>\n",
       "      <td>...</td>\n",
       "    </tr>\n",
       "    <tr>\n",
       "      <th>195</th>\n",
       "      <td>-0.883326</td>\n",
       "    </tr>\n",
       "    <tr>\n",
       "      <th>196</th>\n",
       "      <td>-0.291857</td>\n",
       "    </tr>\n",
       "    <tr>\n",
       "      <th>197</th>\n",
       "      <td>-2.056984</td>\n",
       "    </tr>\n",
       "    <tr>\n",
       "      <th>198</th>\n",
       "      <td>1.176573</td>\n",
       "    </tr>\n",
       "    <tr>\n",
       "      <th>199</th>\n",
       "      <td>-0.384126</td>\n",
       "    </tr>\n",
       "  </tbody>\n",
       "</table>\n",
       "<p>200 rows × 1 columns</p>\n",
       "</div>"
      ],
      "text/plain": [
       "     componente principal 1\n",
       "0                  0.646460\n",
       "1                 -1.101523\n",
       "2                  0.697603\n",
       "3                  2.279332\n",
       "4                  0.599743\n",
       "..                      ...\n",
       "195               -0.883326\n",
       "196               -0.291857\n",
       "197               -2.056984\n",
       "198                1.176573\n",
       "199               -0.384126\n",
       "\n",
       "[200 rows x 1 columns]"
      ]
     },
     "execution_count": 20,
     "metadata": {},
     "output_type": "execute_result"
    }
   ],
   "source": [
    "pd.DataFrame(-0.94446029 * X[:, 0] -0.32862557 * X[:, 1], columns=['componente principal 1'])"
   ]
  },
  {
   "cell_type": "markdown",
   "metadata": {},
   "source": [
    "The first component of a PCA method is always the component that contains the most information. What this component is doing is taking what is called as `a linear combination of the original columns`. In this case, the results show that the PCA decided to take $-0.94$ of the first column (`X[:,0]`) and $-0.32$ of the second dimension (`X[:, 1]`). Let's take a look at the second component `pca.components_[1]`"
   ]
  },
  {
   "cell_type": "code",
   "execution_count": 14,
   "metadata": {
    "ExecuteTime": {
     "end_time": "2020-04-20T18:56:57.595853Z",
     "start_time": "2020-04-20T18:56:57.590866Z"
    }
   },
   "outputs": [
    {
     "data": {
      "text/plain": [
       "array([-0.32862557,  0.94446029])"
      ]
     },
     "execution_count": 14,
     "metadata": {},
     "output_type": "execute_result"
    }
   ],
   "source": [
    "pca.components_[1]"
   ]
  },
  {
   "cell_type": "markdown",
   "metadata": {},
   "source": [
    "This is telling us that the second component of our data (the second most important combination of features) is comprised by taking the first dimension and multiplying it by $-0.32$ and taking the second dimension and multiplying it by $0.94$."
   ]
  },
  {
   "cell_type": "markdown",
   "metadata": {},
   "source": [
    "### Explained Variance"
   ]
  },
  {
   "cell_type": "markdown",
   "metadata": {},
   "source": [
    "Another important aspect of the results is the `explained_variance`. It can be obtained by the `pca.explained_variance` attibute."
   ]
  },
  {
   "cell_type": "code",
   "execution_count": 15,
   "metadata": {
    "ExecuteTime": {
     "end_time": "2020-04-20T18:58:13.762624Z",
     "start_time": "2020-04-20T18:58:13.758635Z"
    }
   },
   "outputs": [
    {
     "data": {
      "text/plain": [
       "array([0.7625315, 0.0184779])"
      ]
     },
     "execution_count": 15,
     "metadata": {},
     "output_type": "execute_result"
    }
   ],
   "source": [
    "pca.explained_variance_"
   ]
  },
  {
   "cell_type": "code",
   "execution_count": 16,
   "metadata": {
    "ExecuteTime": {
     "end_time": "2020-04-20T18:58:52.093650Z",
     "start_time": "2020-04-20T18:58:52.088663Z"
    },
    "colab": {},
    "colab_type": "code",
    "id": "DDwHEir4SNLV",
    "outputId": "dbc39318-90d1-4297-f6ca-e8a2e76e9084"
   },
   "outputs": [
    {
     "name": "stdout",
     "output_type": "stream",
     "text": [
      "[0.97634101 0.02365899]\n"
     ]
    }
   ],
   "source": [
    "print(pca.explained_variance_ratio_)"
   ]
  },
  {
   "cell_type": "code",
   "execution_count": 17,
   "metadata": {
    "ExecuteTime": {
     "end_time": "2020-04-20T18:59:42.283209Z",
     "start_time": "2020-04-20T18:59:42.279221Z"
    }
   },
   "outputs": [
    {
     "data": {
      "text/plain": [
       "array([-0.94446029, -0.32862557])"
      ]
     },
     "execution_count": 17,
     "metadata": {},
     "output_type": "execute_result"
    }
   ],
   "source": [
    "pca.components_[0]"
   ]
  },
  {
   "cell_type": "markdown",
   "metadata": {},
   "source": [
    "For this case, we observe that only 1 component explains ~97% of the variance (information) in our data. It means that you can reduce the number of dimensions to 1, and it will still retain ~97% of its signal."
   ]
  },
  {
   "cell_type": "markdown",
   "metadata": {
    "colab_type": "text",
    "id": "-mLUcaQ4SNLc"
   },
   "source": [
    "To see what these numbers mean, let's visualize them as vectors over the input data, using the \"components\" to define the direction of the vector, and the \"explained variance\" to define the squared-length of the vector:"
   ]
  },
  {
   "cell_type": "code",
   "execution_count": 22,
   "metadata": {
    "ExecuteTime": {
     "end_time": "2020-04-20T19:05:20.833573Z",
     "start_time": "2020-04-20T19:05:20.731246Z"
    }
   },
   "outputs": [
    {
     "name": "stdout",
     "output_type": "stream",
     "text": [
      "[ 0.03351168 -0.00408072] [-2.4406829  -0.86497833]\n",
      "[ 0.03351168 -0.00408072] [-0.10050192  0.38107044]\n"
     ]
    },
    {
     "data": {
      "image/png": "[encoded data removed]",
      "text/plain": [
       "<Figure size 432x288 with 1 Axes>"
      ]
     },
     "metadata": {
      "needs_background": "light"
     },
     "output_type": "display_data"
    }
   ],
   "source": [
    "def draw_vector(v0, v1, ax=None):\n",
    "    ax = ax or plt.gca()\n",
    "    arrowprops=dict(arrowstyle='<->', color='k',\n",
    "                    linewidth=2,\n",
    "                    shrinkA=0, shrinkB=0)\n",
    "    print(v0, v1)\n",
    "    ax.annotate('', v1, v0, arrowprops=arrowprops)\n",
    "\n",
    "# plot data\n",
    "plt.scatter(X[:, 0], X[:, 1], alpha=0.2)\n",
    "for length, vector in zip(pca.explained_variance_, pca.components_):\n",
    "    v = vector * 3 * np.sqrt(length)\n",
    "    draw_vector(pca.mean_, pca.mean_ + v)\n",
    "plt.axis('equal');"
   ]
  },
  {
   "cell_type": "markdown",
   "metadata": {
    "colab_type": "text",
    "id": "UXCkn9O7SNLg"
   },
   "source": [
    "These vectors represent the *principal axes* of the data, and the length of the vector is an indication of how \"important\" that axis is in describing the distribution of the data—more precisely, it is a measure of the variance of the data when projected onto that axis.\n",
    "The projection of each data point onto the principal axes are the \"principal components\" of the data.\n",
    "\n",
    "If we plot these principal components beside the original data, we see the plots shown here:"
   ]
  },
  {
   "cell_type": "code",
   "execution_count": 24,
   "metadata": {
    "ExecuteTime": {
     "end_time": "2020-04-20T19:07:02.608812Z",
     "start_time": "2020-04-20T19:07:02.600861Z"
    },
    "scrolled": true
   },
   "outputs": [
    {
     "data": {
      "text/plain": [
       "array([[ 6.76769235e-01,  5.97386015e-02],\n",
       "       [-1.07121393e+00,  2.57240064e-01],\n",
       "       [ 7.27912364e-01, -1.68669939e-01],\n",
       "       [ 2.30964136e+00,  2.44066575e-01],\n",
       "       [ 6.30052323e-01, -3.04655713e-01],\n",
       "       [ 1.02448887e+00,  7.56230140e-02],\n",
       "       [ 7.77183507e-01, -8.34608477e-02],\n",
       "       [-1.39656414e+00,  1.44518385e-01],\n",
       "       [-2.91049874e-01, -2.01289478e-01],\n",
       "       [ 1.88864221e+00,  2.31419563e-01],\n",
       "       [-7.11544293e-01,  1.13426118e-01],\n",
       "       [ 6.38884130e-01,  3.88212853e-02],\n",
       "       [ 5.48059617e-01, -2.00775267e-01],\n",
       "       [-2.19312436e-01,  2.08243673e-01],\n",
       "       [-3.87789490e-01,  6.89135848e-02],\n",
       "       [ 7.15219956e-01,  1.13841003e-01],\n",
       "       [-1.08373816e+00,  7.78081042e-02],\n",
       "       [-2.99917403e-01, -5.86382919e-02],\n",
       "       [-7.96849021e-01,  2.44527383e-01],\n",
       "       [-8.12568346e-01, -1.17341246e-01],\n",
       "       [-1.54018281e+00, -3.24862050e-02],\n",
       "       [-2.52920476e-01, -4.86012463e-02],\n",
       "       [ 6.26464454e-01, -1.68045678e-01],\n",
       "       [-1.61007571e+00,  2.28082001e-01],\n",
       "       [ 5.04240563e-01,  5.04806457e-03],\n",
       "       [ 5.53935753e-01,  1.33299389e-01],\n",
       "       [ 6.81911252e-01,  1.73541132e-02],\n",
       "       [-2.00157228e-02, -6.76884664e-02],\n",
       "       [ 1.13550833e-01,  1.21428285e-01],\n",
       "       [ 2.92286085e-02,  7.90509091e-02],\n",
       "       [-2.14393483e-01,  1.41239296e-01],\n",
       "       [-1.03406124e+00,  2.18106452e-01],\n",
       "       [ 3.88635004e-01,  1.00903110e-01],\n",
       "       [ 9.96727811e-01, -4.36048501e-02],\n",
       "       [ 1.39223653e+00,  1.10141389e-01],\n",
       "       [ 4.57043694e-01, -4.97379329e-02],\n",
       "       [ 6.81839901e-01, -2.94160957e-01],\n",
       "       [-9.05233246e-01, -4.64644357e-02],\n",
       "       [ 4.94316334e-01,  1.68112686e-02],\n",
       "       [ 6.22411280e-01,  1.21231745e-01],\n",
       "       [ 3.26088548e-01,  1.17087443e-01],\n",
       "       [ 4.52560386e-01, -2.85079894e-01],\n",
       "       [ 6.81840663e-01, -3.41435056e-02],\n",
       "       [-2.44832816e-01,  1.35036709e-01],\n",
       "       [-5.27149562e-01,  1.89232462e-02],\n",
       "       [-4.51448737e-01, -2.94371271e-01],\n",
       "       [-1.42864453e+00,  8.68104419e-02],\n",
       "       [ 8.05233004e-01, -1.33401389e-01],\n",
       "       [ 1.81049742e-01, -4.30809501e-02],\n",
       "       [ 3.49039347e-01,  5.18320475e-02],\n",
       "       [ 2.65803583e+00,  3.49490740e-02],\n",
       "       [-1.34272221e+00,  1.57302515e-01],\n",
       "       [-1.73026340e-01,  6.13578430e-02],\n",
       "       [ 6.13676729e-01, -1.16464100e-01],\n",
       "       [-1.89940741e+00,  1.26393840e-04],\n",
       "       [-7.93074429e-01, -8.40401939e-02],\n",
       "       [-4.17072486e-01, -3.26912551e-03],\n",
       "       [ 1.54913526e-01, -1.35977010e-01],\n",
       "       [ 2.44646603e-01,  1.23357386e-01],\n",
       "       [ 7.26337140e-01, -2.31185881e-01],\n",
       "       [-7.91592424e-01, -1.65553219e-02],\n",
       "       [ 4.39666794e-01,  3.74049336e-02],\n",
       "       [-2.66630687e-01, -4.54841080e-02],\n",
       "       [-8.77131636e-01,  8.39045636e-02],\n",
       "       [-6.37447634e-01, -1.26191453e-01],\n",
       "       [-7.72982393e-01, -1.80436148e-01],\n",
       "       [-1.04616382e+00, -2.70917422e-01],\n",
       "       [ 1.15209837e+00,  1.70296296e-01],\n",
       "       [-5.26661400e-02,  2.53435288e-01],\n",
       "       [-9.74296354e-01,  1.59299503e-01],\n",
       "       [-6.24348505e-01,  2.99999965e-02],\n",
       "       [-1.00475074e+00, -6.19074182e-02],\n",
       "       [ 5.89973268e-01, -7.11873850e-02],\n",
       "       [ 1.50344054e+00,  2.49410266e-01],\n",
       "       [ 1.27433349e+00, -1.35521726e-02],\n",
       "       [-1.25658172e+00, -3.83491260e-02],\n",
       "       [ 1.37852445e-01, -2.90514917e-02],\n",
       "       [-1.36126475e+00, -2.11338817e-02],\n",
       "       [ 7.27518820e-01,  7.13551004e-03],\n",
       "       [ 4.50501231e-01,  2.09969271e-02],\n",
       "       [-1.17577071e-01, -6.02107305e-03],\n",
       "       [-8.49638130e-01,  3.70494278e-03],\n",
       "       [-9.51657336e-02, -9.32144273e-03],\n",
       "       [-1.81175961e-01,  8.87826210e-03],\n",
       "       [ 2.81596080e-01,  1.07511673e-01],\n",
       "       [-2.56560634e-01, -2.81842071e-02],\n",
       "       [ 8.52804745e-01, -5.63254552e-02],\n",
       "       [-4.77688980e-01, -1.35849029e-01],\n",
       "       [-2.96471868e-01, -1.58417778e-01],\n",
       "       [ 1.68108524e-03, -1.32621236e-02],\n",
       "       [-2.05727542e-01,  9.02947875e-02],\n",
       "       [ 8.12610001e-01,  6.90986331e-02],\n",
       "       [-7.06157363e-02, -4.72508076e-02],\n",
       "       [ 2.31690062e-01, -1.02421889e-02],\n",
       "       [-1.59605923e-01,  8.23272207e-02],\n",
       "       [-5.98727081e-01,  4.72125782e-02],\n",
       "       [ 1.01944512e+00,  5.31196102e-02],\n",
       "       [-7.01462226e-01, -5.21123677e-02],\n",
       "       [-1.40420099e+00,  1.76954830e-01],\n",
       "       [ 6.94997907e-01, -2.24640259e-01],\n",
       "       [ 5.18636606e-01, -8.09180525e-02],\n",
       "       [ 4.83061626e-01, -1.09408815e-01],\n",
       "       [ 6.79198052e-01,  1.51173114e-01],\n",
       "       [-1.30170017e+00,  7.09063876e-02],\n",
       "       [-2.71805220e-01, -8.58900888e-02],\n",
       "       [ 9.47603686e-01,  1.11545123e-01],\n",
       "       [-3.49630397e-01,  8.16807591e-02],\n",
       "       [ 4.85113462e-01, -1.88841298e-02],\n",
       "       [-3.04715098e-01,  2.57745706e-01],\n",
       "       [-3.31839520e-01, -1.33854420e-02],\n",
       "       [-1.38578436e+00, -3.31971953e-02],\n",
       "       [ 8.84502948e-01,  1.00276096e-01],\n",
       "       [-2.47084475e+00,  1.14843232e-01],\n",
       "       [-9.56899804e-02,  2.34825376e-01],\n",
       "       [-4.64806358e-01,  5.21249428e-02],\n",
       "       [ 7.06669625e-01,  2.33625162e-01],\n",
       "       [ 1.54312708e-01, -1.74122263e-01],\n",
       "       [ 5.45819213e-01, -8.34943531e-02],\n",
       "       [ 1.46023727e-01,  1.15988548e-02],\n",
       "       [ 9.57253276e-01,  8.20885098e-02],\n",
       "       [-6.91815248e-01, -1.45754887e-01],\n",
       "       [-1.00443516e-01, -2.94833747e-01],\n",
       "       [ 2.77924488e-01,  2.99615388e-01],\n",
       "       [-1.20207491e+00, -1.07726832e-01],\n",
       "       [-6.04953108e-02, -2.42479229e-01],\n",
       "       [-1.03273685e+00,  2.68126535e-02],\n",
       "       [ 6.88215760e-01,  1.67472633e-01],\n",
       "       [-1.21050656e+00, -4.69504001e-02],\n",
       "       [-2.40052449e-01,  6.10344465e-02],\n",
       "       [-6.06855334e-01,  1.52362015e-01],\n",
       "       [ 1.29217575e+00,  1.34627645e-01],\n",
       "       [-1.03282074e-01, -6.57356874e-02],\n",
       "       [-1.41361475e+00, -2.28323173e-02],\n",
       "       [ 7.57783205e-01,  7.00756512e-02],\n",
       "       [ 1.41360423e+00, -1.55883244e-01],\n",
       "       [ 1.99564613e+00,  7.67233940e-02],\n",
       "       [ 1.66865955e+00, -2.17311439e-01],\n",
       "       [ 1.66032125e+00, -9.47319393e-02],\n",
       "       [ 4.24742508e-01,  2.03171071e-02],\n",
       "       [-9.26445715e-01,  9.12224833e-02],\n",
       "       [ 3.28504629e-02, -1.25706416e-01],\n",
       "       [-5.17521702e-01, -7.20956324e-02],\n",
       "       [-9.24887775e-02, -6.30062621e-02],\n",
       "       [-3.05962249e-02, -3.57199779e-03],\n",
       "       [ 1.30795754e-01, -4.00179911e-03],\n",
       "       [-7.74659629e-02, -7.83158849e-02],\n",
       "       [-4.20826569e-01,  5.54588300e-03],\n",
       "       [ 6.78334448e-01, -1.36015287e-01],\n",
       "       [-6.35104074e-01,  1.06651554e-01],\n",
       "       [ 2.72075594e-01,  3.93203001e-01],\n",
       "       [-2.26801066e-01, -1.36909181e-01],\n",
       "       [-1.45908094e+00, -2.45286954e-01],\n",
       "       [ 4.03275391e-01, -7.98143251e-02],\n",
       "       [ 4.88618199e-01,  2.35232561e-03],\n",
       "       [-3.77797862e-02,  4.11805137e-02],\n",
       "       [ 2.25514691e-01,  2.18823208e-02],\n",
       "       [ 3.73320407e-01, -9.42631804e-03],\n",
       "       [ 9.96559672e-01,  1.35680064e-01],\n",
       "       [ 6.68655132e-01,  5.84565987e-02],\n",
       "       [-3.09207055e-01,  1.97249840e-01],\n",
       "       [ 1.44746288e+00, -1.14083649e-01],\n",
       "       [-1.27674147e-01,  7.26979511e-02],\n",
       "       [ 1.95898129e-02, -6.44892347e-02],\n",
       "       [-4.68331172e-01,  7.43248455e-02],\n",
       "       [-7.59794861e-01, -9.50500102e-02],\n",
       "       [ 2.11566325e+00, -1.50228254e-01],\n",
       "       [-1.28843614e+00, -2.56574123e-01],\n",
       "       [ 5.24455206e-01,  2.90379472e-01],\n",
       "       [ 2.68082969e-01,  1.04520533e-01],\n",
       "       [ 4.06271559e-02, -1.31461762e-01],\n",
       "       [-1.63087335e+00, -2.89691466e-01],\n",
       "       [ 4.50273668e-01,  2.87481726e-02],\n",
       "       [-1.41736985e+00,  9.84653747e-02],\n",
       "       [-3.20579341e-01,  7.34129168e-02],\n",
       "       [-2.16095416e+00, -6.30801894e-02],\n",
       "       [ 7.55938440e-01,  1.58567217e-02],\n",
       "       [ 1.13147728e+00, -1.63990641e-01],\n",
       "       [-4.01022769e-01,  9.35581760e-02],\n",
       "       [-1.33261395e-01,  2.30758543e-01],\n",
       "       [-1.20765775e-01, -2.63426989e-02],\n",
       "       [ 1.03185993e+00, -1.29167415e-01],\n",
       "       [-1.29878689e-01, -1.84090463e-01],\n",
       "       [-4.08011754e-01,  6.01636158e-02],\n",
       "       [ 4.17084437e-01,  9.04137707e-02],\n",
       "       [-1.00930809e-01, -6.78582909e-02],\n",
       "       [ 7.22839507e-02, -2.66653403e-02],\n",
       "       [ 6.47903117e-01, -6.91638080e-02],\n",
       "       [ 4.74689466e-01, -1.14557938e-03],\n",
       "       [ 6.85499472e-01, -2.13675563e-01],\n",
       "       [-1.49366216e+00,  5.05889730e-02],\n",
       "       [-3.49297457e-01, -2.69159245e-01],\n",
       "       [-7.79713261e-01, -1.13958001e-01],\n",
       "       [ 5.67446775e-01, -1.25273441e-01],\n",
       "       [ 5.18831382e-02,  2.76513979e-01],\n",
       "       [ 1.25350822e+00, -1.59067690e-01],\n",
       "       [-8.53016941e-01,  2.26324489e-03],\n",
       "       [-2.61547685e-01, -9.79084715e-02],\n",
       "       [-2.02667441e+00, -2.51066183e-02],\n",
       "       [ 1.20688282e+00,  5.97125713e-03],\n",
       "       [-3.53816725e-01, -9.42400167e-02]])"
      ]
     },
     "execution_count": 24,
     "metadata": {},
     "output_type": "execute_result"
    }
   ],
   "source": [
    "pca.transform(X)"
   ]
  },
  {
   "cell_type": "code",
   "execution_count": 28,
   "metadata": {
    "ExecuteTime": {
     "end_time": "2020-04-20T19:08:04.070213Z",
     "start_time": "2020-04-20T19:08:04.066233Z"
    }
   },
   "outputs": [],
   "source": [
    "pc1 = pca.transform(X)[:,0]\n",
    "pc2 = pca.transform(X)[:,1]"
   ]
  },
  {
   "cell_type": "code",
   "execution_count": 29,
   "metadata": {
    "ExecuteTime": {
     "end_time": "2020-04-20T19:08:40.163342Z",
     "start_time": "2020-04-20T19:08:39.784328Z"
    }
   },
   "outputs": [
    {
     "name": "stdout",
     "output_type": "stream",
     "text": [
      "[ 0.03351168 -0.00408072] [-2.4406829  -0.86497833]\n",
      "[ 0.03351168 -0.00408072] [-0.10050192  0.38107044]\n",
      "[0 0] [ 2.61969149e+00 -1.60409840e-16]\n",
      "[0 0] [4.99411294e-17 4.07800269e-01]\n"
     ]
    },
    {
     "data": {
      "image/png": "[encoded data removed]",
      "text/plain": [
       "<Figure size 1152x432 with 2 Axes>"
      ]
     },
     "metadata": {
      "needs_background": "light"
     },
     "output_type": "display_data"
    }
   ],
   "source": [
    "# plot data\n",
    "\n",
    "fig, (ax1, ax2) = plt.subplots(1, 2, figsize=(16,6))\n",
    "\n",
    "ax1.scatter(X[:, 0], X[:, 1], alpha=0.2)\n",
    "\n",
    "for length, vector in zip(pca.explained_variance_, pca.components_):\n",
    "    v = vector * 3 * np.sqrt(length)\n",
    "    draw_vector(pca.mean_, pca.mean_ + v, ax=ax1)\n",
    "ax1.set_ylim([-2,2])\n",
    "\n",
    "\n",
    "ax2.scatter(pc1, pc2, alpha=0.2, )\n",
    "count = 0\n",
    "for length, vector in zip(pca.explained_variance_, pca.components_):\n",
    "    v = vector * 3 * np.sqrt(length)\n",
    "    count += np.pi/2\n",
    "    draw_vector(np.array([0, 0]) , np.array([np.sin(count) * np.sqrt(length) * 3, -np.cos(count) * np.sqrt(length) * 3]) , ax=ax2)\n",
    "    \n",
    "ax1.set_xlabel('$X_1$')\n",
    "ax1.set_ylabel('$X_2$')\n",
    "\n",
    "ax2.set_xlabel('$PC_1$')\n",
    "ax2.set_ylabel('$PC_2$')\n",
    "plt.axis('equal');"
   ]
  },
  {
   "cell_type": "markdown",
   "metadata": {},
   "source": [
    "So what the PCA has done was effectively rotate the original features into a new dimension that was more suitable. Now, you have at the x-axis a variable that contains most of the information, and at the y-axis a variable that contains the following most information (although in this case it is so small)."
   ]
  },
  {
   "cell_type": "markdown",
   "metadata": {},
   "source": [
    "# Applications"
   ]
  },
  {
   "cell_type": "markdown",
   "metadata": {
    "colab_type": "text",
    "id": "JeFmpNzxSNLi"
   },
   "source": [
    "## PCA as dimensionality reduction\n",
    "\n",
    "Example of using PCA as a dimensionality reduction transform: Instead of creating a PCA of two components, we observed we could have created a PCA with only 1 component, and it would still have 97% of our information within. Let's visualize it."
   ]
  },
  {
   "cell_type": "code",
   "execution_count": 31,
   "metadata": {
    "ExecuteTime": {
     "end_time": "2020-04-20T19:19:38.507254Z",
     "start_time": "2020-04-20T19:19:38.502268Z"
    },
    "colab": {},
    "colab_type": "code",
    "id": "bAr3Q4nxSNLj",
    "outputId": "8b1df0aa-2d47-40c5-fb8b-2ad5cf584baa"
   },
   "outputs": [
    {
     "name": "stdout",
     "output_type": "stream",
     "text": [
      "original shape:    (200, 2)\n",
      "transformed shape: (200, 1)\n"
     ]
    }
   ],
   "source": [
    "pca = PCA(n_components=1)\n",
    "pca.fit(X)\n",
    "X_pca = pca.transform(X)\n",
    "print(\"original shape:   \", X.shape)\n",
    "print(\"transformed shape:\", X_pca.shape)"
   ]
  },
  {
   "cell_type": "code",
   "execution_count": 32,
   "metadata": {
    "ExecuteTime": {
     "end_time": "2020-04-20T19:19:56.256672Z",
     "start_time": "2020-04-20T19:19:56.252683Z"
    },
    "scrolled": true
   },
   "outputs": [
    {
     "data": {
      "text/plain": [
       "array([[-0.94446029, -0.32862557]])"
      ]
     },
     "execution_count": 32,
     "metadata": {},
     "output_type": "execute_result"
    }
   ],
   "source": [
    "pca.components_"
   ]
  },
  {
   "cell_type": "code",
   "execution_count": null,
   "metadata": {},
   "outputs": [],
   "source": [
    "pc1 = -0.94446029 * X['coluna1']  -0.32862557 * X['coluna2']"
   ]
  },
  {
   "cell_type": "code",
   "execution_count": 42,
   "metadata": {
    "ExecuteTime": {
     "end_time": "2020-04-20T19:28:59.173678Z",
     "start_time": "2020-04-20T19:28:59.165670Z"
    }
   },
   "outputs": [
    {
     "data": {
      "text/plain": [
       "array([[-6.25301618e-01, -1.70063657e-01],\n",
       "       [ 9.60695033e-01,  5.90900597e-01],\n",
       "       [-5.98543385e-01, -4.02593393e-01],\n",
       "       [-2.22805938e+00, -5.32576740e-01],\n",
       "       [-4.61430060e-01, -4.98867244e-01],\n",
       "       [-9.58929028e-01, -2.69331024e-01],\n",
       "       [-6.73079909e-01, -3.38308547e-01],\n",
       "       [ 1.30501861e+00,  5.91357846e-01],\n",
       "       [ 3.74545597e-01, -9.85442049e-02],\n",
       "       [-1.82628627e+00, -4.06170254e-01],\n",
       "       [ 6.68262284e-01,  3.36877396e-01],\n",
       "       [-5.82646676e-01, -1.77369217e-01],\n",
       "       [-4.18128976e-01, -3.73811389e-01],\n",
       "       [ 1.72209371e-01,  2.64668836e-01],\n",
       "       [ 3.77116687e-01,  1.88442969e-01],\n",
       "       [-6.79396230e-01, -1.31601978e-01],\n",
       "       [ 1.03148960e+00,  4.25550018e-01],\n",
       "       [ 3.36041799e-01,  3.90982721e-02],\n",
       "       [ 7.05745985e-01,  4.88730649e-01],\n",
       "       [ 8.39511547e-01,  1.52125872e-01],\n",
       "       [ 1.49882898e+00,  4.71380809e-01],\n",
       "       [ 2.88356638e-01,  3.31334714e-02],\n",
       "       [-5.02935011e-01, -3.68665426e-01],\n",
       "       [ 1.47921067e+00,  7.40445724e-01],\n",
       "       [-4.44382429e-01, -1.65019364e-01],\n",
       "       [-5.33464228e-01, -6.02221911e-02],\n",
       "       [-6.16229422e-01, -2.11783922e-01],\n",
       "       [ 7.46598965e-02, -6.14321077e-02],\n",
       "       [-1.13637011e-01,  7.32877678e-02],\n",
       "       [-2.00717298e-02,  6.09744586e-02],\n",
       "       [ 1.89582967e-01,  1.99769369e-01],\n",
       "       [ 9.38466103e-01,  5.41731132e-01],\n",
       "       [-3.66697989e-01, -3.64971376e-02],\n",
       "       [-8.93528486e-01, -3.72814013e-01],\n",
       "       [-1.31759571e+00, -3.57581073e-01],\n",
       "       [-3.81802782e-01, -2.01252465e-01],\n",
       "       [-5.13790216e-01, -5.05974086e-01],\n",
       "       [ 9.03737934e-01,  2.49518260e-01],\n",
       "       [-4.38875079e-01, -1.50648130e-01],\n",
       "       [-5.94170907e-01, -9.41224109e-02],\n",
       "       [-3.12943931e-01, -6.57312966e-04],\n",
       "       [-3.00229089e-01, -4.22050272e-01],\n",
       "       [-5.99239320e-01, -2.60398180e-01],\n",
       "       [ 2.20370036e-01,  2.03914415e-01],\n",
       "       [ 5.25164844e-01,  1.87026363e-01],\n",
       "       [ 5.56625011e-01, -1.33745094e-01],\n",
       "       [ 1.35428157e+00,  5.47397422e-01],\n",
       "       [-6.83159806e-01, -3.94693187e-01],\n",
       "       [-1.23325109e-01, -1.04266539e-01],\n",
       "       [-3.13175458e-01, -6.98306619e-02],\n",
       "       [-2.48838277e+00, -8.44571249e-01],\n",
       "       [ 1.24996586e+00,  5.85738115e-01],\n",
       "       [ 1.76764431e-01,  1.10730208e-01],\n",
       "       [-5.07808538e-01, -3.15746300e-01],\n",
       "       [ 1.82738502e+00,  6.20232502e-01],\n",
       "       [ 8.10156740e-01,  1.77171194e-01],\n",
       "       [ 4.28494398e-01,  1.29892407e-01],\n",
       "       [-6.81124709e-02, -1.83414149e-01],\n",
       "       [-2.38085712e-01,  3.20283053e-02],\n",
       "       [-5.76511311e-01, -4.61119558e-01],\n",
       "       [ 7.86579791e-01,  2.40420951e-01],\n",
       "       [-3.94028364e-01, -1.13238995e-01],\n",
       "       [ 3.00281016e-01,  4.05830103e-02],\n",
       "       [ 8.34354492e-01,  3.63411695e-01],\n",
       "       [ 6.77025394e-01,  8.62180588e-02],\n",
       "       [ 8.22858785e-01,  7.95262868e-02],\n",
       "       [ 1.11060226e+00,  8.38447209e-02],\n",
       "       [-1.11056320e+00, -2.21851614e-01],\n",
       "       [-3.25581172e-05,  2.52586287e-01],\n",
       "       [ 9.01346004e-01,  4.66550032e-01],\n",
       "       [ 6.13325282e-01,  2.29429972e-01],\n",
       "       [ 1.00280321e+00,  2.67636970e-01],\n",
       "       [-5.00300647e-01, -2.65194678e-01],\n",
       "       [-1.46839080e+00, -2.62591632e-01],\n",
       "       [-1.16559210e+00, -4.35658777e-01],\n",
       "       [ 1.23290571e+00,  3.72644940e-01],\n",
       "       [-8.71374166e-02, -7.68205362e-02],\n",
       "       [ 1.32611731e+00,  4.23305575e-01],\n",
       "       [-6.55945864e-01, -2.36422799e-01],\n",
       "       [-3.98868969e-01, -1.32296178e-01],\n",
       "       [ 1.46537233e-01,  2.88714500e-02],\n",
       "       [ 8.34743614e-01,  2.78631269e-01],\n",
       "       [ 1.26455201e-01,  1.83894435e-02],\n",
       "       [ 2.01707556e-01,  6.38435019e-02],\n",
       "       [-2.67775720e-01,  4.92011507e-03],\n",
       "       [ 2.85085062e-01,  5.36128031e-02],\n",
       "       [-7.53418549e-01, -3.37531319e-01],\n",
       "       [ 5.29313417e-01,  2.45960831e-02],\n",
       "       [ 3.65577719e-01, -5.62717811e-02],\n",
       "       [ 3.62822350e-02, -1.71587143e-02],\n",
       "       [ 1.98139998e-01,  1.48806454e-01],\n",
       "       [-7.56673772e-01, -2.05864228e-01],\n",
       "       [ 1.15733262e-01, -2.55010922e-02],\n",
       "       [-1.81944537e-01, -8.98933373e-02],\n",
       "       [ 1.57198306e-01,  1.26124661e-01],\n",
       "       [ 5.83470370e-01,  2.37266716e-01],\n",
       "       [-9.46770213e-01, -2.88927090e-01],\n",
       "       [ 7.13140353e-01,  1.77219645e-01],\n",
       "       [ 1.30157187e+00,  6.24502445e-01],\n",
       "       [-5.49063710e-01, -4.44638605e-01],\n",
       "       [-4.29728257e-01, -2.50941856e-01],\n",
       "       [-3.86766308e-01, -2.66159401e-01],\n",
       "       [-6.57643258e-01, -8.45055625e-02],\n",
       "       [ 1.23961415e+00,  4.90659512e-01],\n",
       "       [ 3.18446596e-01,  4.12165000e-03],\n",
       "       [-8.98118949e-01, -2.10137581e-01],\n",
       "       [ 3.36881319e-01,  1.87961004e-01],\n",
       "       [-4.18452911e-01, -1.81336717e-01],\n",
       "       [ 2.36601159e-01,  3.39487039e-01],\n",
       "       [ 3.51319728e-01,  9.23282159e-02],\n",
       "       [ 1.35323942e+00,  4.19970027e-01],\n",
       "       [-8.34819518e-01, -2.00044213e-01],\n",
       "       [ 2.32938600e+00,  9.16366922e-01],\n",
       "       [ 4.67174434e-02,  2.49148699e-01],\n",
       "       [ 4.55373238e-01,  1.97896476e-01],\n",
       "       [-7.10684919e-01, -1.56607387e-02],\n",
       "       [-5.50095165e-02, -2.19243382e-01],\n",
       "       [-4.54554511e-01, -2.62307969e-01],\n",
       "       [-1.08213611e-01, -4.11131904e-02],\n",
       "       [-8.97552407e-01, -2.41129284e-01],\n",
       "       [ 7.34802491e-01,  8.56077609e-02],\n",
       "       [ 2.25266501e-01, -2.49531175e-01],\n",
       "       [-3.27438240e-01,  1.87561024e-01],\n",
       "       [ 1.20422548e+00,  2.89208121e-01],\n",
       "       [ 1.70331974e-01, -2.13212414e-01],\n",
       "       [ 1.00007930e+00,  3.60626507e-01],\n",
       "       [-6.71516563e-01, -7.20747636e-02],\n",
       "       [ 1.19221616e+00,  3.49379904e-01],\n",
       "       [ 2.40174205e-01,  1.32451266e-01],\n",
       "       [ 5.56592389e-01,  3.39247336e-01],\n",
       "       [-1.23113909e+00, -3.01572247e-01],\n",
       "       [ 1.52659926e-01, -3.22243331e-02],\n",
       "       [ 1.37611796e+00,  4.38905019e-01],\n",
       "       [-7.05213114e-01, -1.86923986e-01],\n",
       "       [-1.25035415e+00, -6.15852747e-01],\n",
       "       [-1.87651011e+00, -5.87438869e-01],\n",
       "       [-1.47105690e+00, -7.57686938e-01],\n",
       "       [-1.50346447e+00, -6.39175291e-01],\n",
       "       [-3.74317472e-01, -1.24473266e-01],\n",
       "       [ 8.78524826e-01,  3.86529047e-01],\n",
       "       [ 4.37960653e-02, -1.33600937e-01],\n",
       "       [ 5.45982844e-01,  9.78986853e-02],\n",
       "       [ 1.41569127e-01, -3.31934527e-02],\n",
       "       [ 6.35824494e-02,  2.60037422e-03],\n",
       "       [-8.87046213e-02, -5.08430872e-02],\n",
       "       [ 1.32411808e-01, -5.25896645e-02],\n",
       "       [ 4.29143144e-01,  1.39451520e-01],\n",
       "       [-5.62450166e-01, -3.55459800e-01],\n",
       "       [ 5.98293829e-01,  3.05358879e-01],\n",
       "       [-3.52669474e-01,  2.77872905e-01],\n",
       "       [ 2.92708138e-01, -5.88533723e-02],\n",
       "       [ 1.49216325e+00,  2.43746801e-01],\n",
       "       [-3.21136884e-01, -2.11988784e-01],\n",
       "       [-4.28741839e-01, -1.62431474e-01],\n",
       "       [ 5.56602182e-02,  4.72280460e-02],\n",
       "       [-1.86669080e-01, -5.75236287e-02],\n",
       "       [-3.15976890e-01, -1.35666133e-01],\n",
       "       [-9.52287292e-01, -2.03431276e-01],\n",
       "       [-6.17216871e-01, -1.68607956e-01],\n",
       "       [ 2.60724124e-01,  2.83827268e-01],\n",
       "       [-1.29606872e+00, -5.87501508e-01],\n",
       "       [ 1.30204436e-01,  1.06536600e-01],\n",
       "       [ 3.62026915e-02, -7.14259522e-02],\n",
       "       [ 4.51406829e-01,  2.20021746e-01],\n",
       "       [ 7.82343617e-01,  1.55836343e-01],\n",
       "       [-1.91527940e+00, -8.41226381e-01],\n",
       "       [ 1.33470527e+00,  1.77008275e-01],\n",
       "       [-5.57241554e-01,  9.78217703e-02],\n",
       "       [-2.54030157e-01,  6.53585666e-03],\n",
       "       [ 3.83426415e-02, -1.41592253e-01],\n",
       "       [ 1.66900682e+00,  2.58263884e-01],\n",
       "       [-4.01201302e-01, -1.24900651e-01],\n",
       "       [ 1.33980298e+00,  5.54699895e-01],\n",
       "       [ 3.12160775e-01,  1.70605436e-01],\n",
       "       [ 2.09517683e+00,  6.46487345e-01],\n",
       "       [-6.85653080e-01, -2.37525375e-01],\n",
       "       [-9.81232159e-01, -5.30795733e-01],\n",
       "       [ 3.81516151e-01,  2.16067601e-01],\n",
       "       [ 8.35386181e-02,  2.57654664e-01],\n",
       "       [ 1.56227043e-01,  1.07263711e-02],\n",
       "       [-8.98591326e-01, -4.65169769e-01],\n",
       "       [ 2.16673778e-01, -1.35265391e-01],\n",
       "       [ 3.99091276e-01,  1.86824524e-01],\n",
       "       [-3.90120284e-01, -5.57531130e-02],\n",
       "       [ 1.51136791e-01, -3.50017338e-02],\n",
       "       [-2.59947279e-02, -5.30194271e-02],\n",
       "       [-5.55678088e-01, -2.82320719e-01],\n",
       "       [-4.14437203e-01, -1.61157769e-01],\n",
       "       [-5.43696094e-01, -4.31161457e-01],\n",
       "       [ 1.42759145e+00,  5.34554140e-01],\n",
       "       [ 4.51861867e-01, -1.43502859e-01],\n",
       "       [ 8.07369404e-01,  1.44524192e-01],\n",
       "       [-4.61251208e-01, -3.08874028e-01],\n",
       "       [-1.06359448e-01,  2.40025629e-01],\n",
       "       [-1.09810334e+00, -5.66248687e-01],\n",
       "       [ 8.38408546e-01,  2.78380007e-01],\n",
       "       [ 3.12708310e-01, -1.06001233e-02],\n",
       "       [ 1.95587585e+00,  6.38224114e-01],\n",
       "       [-1.10830352e+00, -3.95053658e-01],\n",
       "       [ 3.98647206e-01,  2.31865526e-02]])"
      ]
     },
     "execution_count": 42,
     "metadata": {},
     "output_type": "execute_result"
    }
   ],
   "source": [
    "X"
   ]
  },
  {
   "cell_type": "code",
   "execution_count": 41,
   "metadata": {
    "ExecuteTime": {
     "end_time": "2020-04-20T19:28:45.303577Z",
     "start_time": "2020-04-20T19:28:45.297545Z"
    },
    "scrolled": true
   },
   "outputs": [
    {
     "data": {
      "text/plain": [
       "array([ 6.76769235e-01, -1.07121393e+00,  7.27912364e-01,  2.30964136e+00,\n",
       "        6.30052323e-01,  1.02448887e+00,  7.77183507e-01, -1.39656414e+00,\n",
       "       -2.91049874e-01,  1.88864221e+00, -7.11544293e-01,  6.38884130e-01,\n",
       "        5.48059617e-01, -2.19312436e-01, -3.87789490e-01,  7.15219956e-01,\n",
       "       -1.08373816e+00, -2.99917403e-01, -7.96849021e-01, -8.12568346e-01,\n",
       "       -1.54018281e+00, -2.52920476e-01,  6.26464454e-01, -1.61007571e+00,\n",
       "        5.04240563e-01,  5.53935753e-01,  6.81911252e-01, -2.00157228e-02,\n",
       "        1.13550833e-01,  2.92286085e-02, -2.14393483e-01, -1.03406124e+00,\n",
       "        3.88635004e-01,  9.96727811e-01,  1.39223653e+00,  4.57043694e-01,\n",
       "        6.81839901e-01, -9.05233246e-01,  4.94316334e-01,  6.22411280e-01,\n",
       "        3.26088548e-01,  4.52560386e-01,  6.81840663e-01, -2.44832816e-01,\n",
       "       -5.27149562e-01, -4.51448737e-01, -1.42864453e+00,  8.05233004e-01,\n",
       "        1.81049742e-01,  3.49039347e-01,  2.65803583e+00, -1.34272221e+00,\n",
       "       -1.73026340e-01,  6.13676729e-01, -1.89940741e+00, -7.93074429e-01,\n",
       "       -4.17072486e-01,  1.54913526e-01,  2.44646603e-01,  7.26337140e-01,\n",
       "       -7.91592424e-01,  4.39666794e-01, -2.66630687e-01, -8.77131636e-01,\n",
       "       -6.37447634e-01, -7.72982393e-01, -1.04616382e+00,  1.15209837e+00,\n",
       "       -5.26661400e-02, -9.74296354e-01, -6.24348505e-01, -1.00475074e+00,\n",
       "        5.89973268e-01,  1.50344054e+00,  1.27433349e+00, -1.25658172e+00,\n",
       "        1.37852445e-01, -1.36126475e+00,  7.27518820e-01,  4.50501231e-01,\n",
       "       -1.17577071e-01, -8.49638130e-01, -9.51657336e-02, -1.81175961e-01,\n",
       "        2.81596080e-01, -2.56560634e-01,  8.52804745e-01, -4.77688980e-01,\n",
       "       -2.96471868e-01,  1.68108524e-03, -2.05727542e-01,  8.12610001e-01,\n",
       "       -7.06157363e-02,  2.31690062e-01, -1.59605923e-01, -5.98727081e-01,\n",
       "        1.01944512e+00, -7.01462226e-01, -1.40420099e+00,  6.94997907e-01,\n",
       "        5.18636606e-01,  4.83061626e-01,  6.79198052e-01, -1.30170017e+00,\n",
       "       -2.71805220e-01,  9.47603686e-01, -3.49630397e-01,  4.85113462e-01,\n",
       "       -3.04715098e-01, -3.31839520e-01, -1.38578436e+00,  8.84502948e-01,\n",
       "       -2.47084475e+00, -9.56899804e-02, -4.64806358e-01,  7.06669625e-01,\n",
       "        1.54312708e-01,  5.45819213e-01,  1.46023727e-01,  9.57253276e-01,\n",
       "       -6.91815248e-01, -1.00443516e-01,  2.77924488e-01, -1.20207491e+00,\n",
       "       -6.04953108e-02, -1.03273685e+00,  6.88215760e-01, -1.21050656e+00,\n",
       "       -2.40052449e-01, -6.06855334e-01,  1.29217575e+00, -1.03282074e-01,\n",
       "       -1.41361475e+00,  7.57783205e-01,  1.41360423e+00,  1.99564613e+00,\n",
       "        1.66865955e+00,  1.66032125e+00,  4.24742508e-01, -9.26445715e-01,\n",
       "        3.28504629e-02, -5.17521702e-01, -9.24887775e-02, -3.05962249e-02,\n",
       "        1.30795754e-01, -7.74659629e-02, -4.20826569e-01,  6.78334448e-01,\n",
       "       -6.35104074e-01,  2.72075594e-01, -2.26801066e-01, -1.45908094e+00,\n",
       "        4.03275391e-01,  4.88618199e-01, -3.77797862e-02,  2.25514691e-01,\n",
       "        3.73320407e-01,  9.96559672e-01,  6.68655132e-01, -3.09207055e-01,\n",
       "        1.44746288e+00, -1.27674147e-01,  1.95898129e-02, -4.68331172e-01,\n",
       "       -7.59794861e-01,  2.11566325e+00, -1.28843614e+00,  5.24455206e-01,\n",
       "        2.68082969e-01,  4.06271559e-02, -1.63087335e+00,  4.50273668e-01,\n",
       "       -1.41736985e+00, -3.20579341e-01, -2.16095416e+00,  7.55938440e-01,\n",
       "        1.13147728e+00, -4.01022769e-01, -1.33261395e-01, -1.20765775e-01,\n",
       "        1.03185993e+00, -1.29878689e-01, -4.08011754e-01,  4.17084437e-01,\n",
       "       -1.00930809e-01,  7.22839507e-02,  6.47903117e-01,  4.74689466e-01,\n",
       "        6.85499472e-01, -1.49366216e+00, -3.49297457e-01, -7.79713261e-01,\n",
       "        5.67446775e-01,  5.18831382e-02,  1.25350822e+00, -8.53016941e-01,\n",
       "       -2.61547685e-01, -2.02667441e+00,  1.20688282e+00, -3.53816725e-01])"
      ]
     },
     "execution_count": 41,
     "metadata": {},
     "output_type": "execute_result"
    }
   ],
   "source": [
    "pca.transform(X)[:, 0]"
   ]
  },
  {
   "cell_type": "code",
   "execution_count": null,
   "metadata": {},
   "outputs": [],
   "source": []
  },
  {
   "cell_type": "code",
   "execution_count": 33,
   "metadata": {
    "ExecuteTime": {
     "end_time": "2020-04-20T19:20:24.151369Z",
     "start_time": "2020-04-20T19:20:24.144358Z"
    }
   },
   "outputs": [
    {
     "data": {
      "text/plain": [
       "array([[-6.25301618e-01, -1.70063657e-01],\n",
       "       [ 9.60695033e-01,  5.90900597e-01],\n",
       "       [-5.98543385e-01, -4.02593393e-01],\n",
       "       [-2.22805938e+00, -5.32576740e-01],\n",
       "       [-4.61430060e-01, -4.98867244e-01],\n",
       "       [-9.58929028e-01, -2.69331024e-01],\n",
       "       [-6.73079909e-01, -3.38308547e-01],\n",
       "       [ 1.30501861e+00,  5.91357846e-01],\n",
       "       [ 3.74545597e-01, -9.85442049e-02],\n",
       "       [-1.82628627e+00, -4.06170254e-01],\n",
       "       [ 6.68262284e-01,  3.36877396e-01],\n",
       "       [-5.82646676e-01, -1.77369217e-01],\n",
       "       [-4.18128976e-01, -3.73811389e-01],\n",
       "       [ 1.72209371e-01,  2.64668836e-01],\n",
       "       [ 3.77116687e-01,  1.88442969e-01],\n",
       "       [-6.79396230e-01, -1.31601978e-01],\n",
       "       [ 1.03148960e+00,  4.25550018e-01],\n",
       "       [ 3.36041799e-01,  3.90982721e-02],\n",
       "       [ 7.05745985e-01,  4.88730649e-01],\n",
       "       [ 8.39511547e-01,  1.52125872e-01],\n",
       "       [ 1.49882898e+00,  4.71380809e-01],\n",
       "       [ 2.88356638e-01,  3.31334714e-02],\n",
       "       [-5.02935011e-01, -3.68665426e-01],\n",
       "       [ 1.47921067e+00,  7.40445724e-01],\n",
       "       [-4.44382429e-01, -1.65019364e-01],\n",
       "       [-5.33464228e-01, -6.02221911e-02],\n",
       "       [-6.16229422e-01, -2.11783922e-01],\n",
       "       [ 7.46598965e-02, -6.14321077e-02],\n",
       "       [-1.13637011e-01,  7.32877678e-02],\n",
       "       [-2.00717298e-02,  6.09744586e-02],\n",
       "       [ 1.89582967e-01,  1.99769369e-01],\n",
       "       [ 9.38466103e-01,  5.41731132e-01],\n",
       "       [-3.66697989e-01, -3.64971376e-02],\n",
       "       [-8.93528486e-01, -3.72814013e-01],\n",
       "       [-1.31759571e+00, -3.57581073e-01],\n",
       "       [-3.81802782e-01, -2.01252465e-01],\n",
       "       [-5.13790216e-01, -5.05974086e-01],\n",
       "       [ 9.03737934e-01,  2.49518260e-01],\n",
       "       [-4.38875079e-01, -1.50648130e-01],\n",
       "       [-5.94170907e-01, -9.41224109e-02],\n",
       "       [-3.12943931e-01, -6.57312966e-04],\n",
       "       [-3.00229089e-01, -4.22050272e-01],\n",
       "       [-5.99239320e-01, -2.60398180e-01],\n",
       "       [ 2.20370036e-01,  2.03914415e-01],\n",
       "       [ 5.25164844e-01,  1.87026363e-01],\n",
       "       [ 5.56625011e-01, -1.33745094e-01],\n",
       "       [ 1.35428157e+00,  5.47397422e-01],\n",
       "       [-6.83159806e-01, -3.94693187e-01],\n",
       "       [-1.23325109e-01, -1.04266539e-01],\n",
       "       [-3.13175458e-01, -6.98306619e-02],\n",
       "       [-2.48838277e+00, -8.44571249e-01],\n",
       "       [ 1.24996586e+00,  5.85738115e-01],\n",
       "       [ 1.76764431e-01,  1.10730208e-01],\n",
       "       [-5.07808538e-01, -3.15746300e-01],\n",
       "       [ 1.82738502e+00,  6.20232502e-01],\n",
       "       [ 8.10156740e-01,  1.77171194e-01],\n",
       "       [ 4.28494398e-01,  1.29892407e-01],\n",
       "       [-6.81124709e-02, -1.83414149e-01],\n",
       "       [-2.38085712e-01,  3.20283053e-02],\n",
       "       [-5.76511311e-01, -4.61119558e-01],\n",
       "       [ 7.86579791e-01,  2.40420951e-01],\n",
       "       [-3.94028364e-01, -1.13238995e-01],\n",
       "       [ 3.00281016e-01,  4.05830103e-02],\n",
       "       [ 8.34354492e-01,  3.63411695e-01],\n",
       "       [ 6.77025394e-01,  8.62180588e-02],\n",
       "       [ 8.22858785e-01,  7.95262868e-02],\n",
       "       [ 1.11060226e+00,  8.38447209e-02],\n",
       "       [-1.11056320e+00, -2.21851614e-01],\n",
       "       [-3.25581172e-05,  2.52586287e-01],\n",
       "       [ 9.01346004e-01,  4.66550032e-01],\n",
       "       [ 6.13325282e-01,  2.29429972e-01],\n",
       "       [ 1.00280321e+00,  2.67636970e-01],\n",
       "       [-5.00300647e-01, -2.65194678e-01],\n",
       "       [-1.46839080e+00, -2.62591632e-01],\n",
       "       [-1.16559210e+00, -4.35658777e-01],\n",
       "       [ 1.23290571e+00,  3.72644940e-01],\n",
       "       [-8.71374166e-02, -7.68205362e-02],\n",
       "       [ 1.32611731e+00,  4.23305575e-01],\n",
       "       [-6.55945864e-01, -2.36422799e-01],\n",
       "       [-3.98868969e-01, -1.32296178e-01],\n",
       "       [ 1.46537233e-01,  2.88714500e-02],\n",
       "       [ 8.34743614e-01,  2.78631269e-01],\n",
       "       [ 1.26455201e-01,  1.83894435e-02],\n",
       "       [ 2.01707556e-01,  6.38435019e-02],\n",
       "       [-2.67775720e-01,  4.92011507e-03],\n",
       "       [ 2.85085062e-01,  5.36128031e-02],\n",
       "       [-7.53418549e-01, -3.37531319e-01],\n",
       "       [ 5.29313417e-01,  2.45960831e-02],\n",
       "       [ 3.65577719e-01, -5.62717811e-02],\n",
       "       [ 3.62822350e-02, -1.71587143e-02],\n",
       "       [ 1.98139998e-01,  1.48806454e-01],\n",
       "       [-7.56673772e-01, -2.05864228e-01],\n",
       "       [ 1.15733262e-01, -2.55010922e-02],\n",
       "       [-1.81944537e-01, -8.98933373e-02],\n",
       "       [ 1.57198306e-01,  1.26124661e-01],\n",
       "       [ 5.83470370e-01,  2.37266716e-01],\n",
       "       [-9.46770213e-01, -2.88927090e-01],\n",
       "       [ 7.13140353e-01,  1.77219645e-01],\n",
       "       [ 1.30157187e+00,  6.24502445e-01],\n",
       "       [-5.49063710e-01, -4.44638605e-01],\n",
       "       [-4.29728257e-01, -2.50941856e-01],\n",
       "       [-3.86766308e-01, -2.66159401e-01],\n",
       "       [-6.57643258e-01, -8.45055625e-02],\n",
       "       [ 1.23961415e+00,  4.90659512e-01],\n",
       "       [ 3.18446596e-01,  4.12165000e-03],\n",
       "       [-8.98118949e-01, -2.10137581e-01],\n",
       "       [ 3.36881319e-01,  1.87961004e-01],\n",
       "       [-4.18452911e-01, -1.81336717e-01],\n",
       "       [ 2.36601159e-01,  3.39487039e-01],\n",
       "       [ 3.51319728e-01,  9.23282159e-02],\n",
       "       [ 1.35323942e+00,  4.19970027e-01],\n",
       "       [-8.34819518e-01, -2.00044213e-01],\n",
       "       [ 2.32938600e+00,  9.16366922e-01],\n",
       "       [ 4.67174434e-02,  2.49148699e-01],\n",
       "       [ 4.55373238e-01,  1.97896476e-01],\n",
       "       [-7.10684919e-01, -1.56607387e-02],\n",
       "       [-5.50095165e-02, -2.19243382e-01],\n",
       "       [-4.54554511e-01, -2.62307969e-01],\n",
       "       [-1.08213611e-01, -4.11131904e-02],\n",
       "       [-8.97552407e-01, -2.41129284e-01],\n",
       "       [ 7.34802491e-01,  8.56077609e-02],\n",
       "       [ 2.25266501e-01, -2.49531175e-01],\n",
       "       [-3.27438240e-01,  1.87561024e-01],\n",
       "       [ 1.20422548e+00,  2.89208121e-01],\n",
       "       [ 1.70331974e-01, -2.13212414e-01],\n",
       "       [ 1.00007930e+00,  3.60626507e-01],\n",
       "       [-6.71516563e-01, -7.20747636e-02],\n",
       "       [ 1.19221616e+00,  3.49379904e-01],\n",
       "       [ 2.40174205e-01,  1.32451266e-01],\n",
       "       [ 5.56592389e-01,  3.39247336e-01],\n",
       "       [-1.23113909e+00, -3.01572247e-01],\n",
       "       [ 1.52659926e-01, -3.22243331e-02],\n",
       "       [ 1.37611796e+00,  4.38905019e-01],\n",
       "       [-7.05213114e-01, -1.86923986e-01],\n",
       "       [-1.25035415e+00, -6.15852747e-01],\n",
       "       [-1.87651011e+00, -5.87438869e-01],\n",
       "       [-1.47105690e+00, -7.57686938e-01],\n",
       "       [-1.50346447e+00, -6.39175291e-01],\n",
       "       [-3.74317472e-01, -1.24473266e-01],\n",
       "       [ 8.78524826e-01,  3.86529047e-01],\n",
       "       [ 4.37960653e-02, -1.33600937e-01],\n",
       "       [ 5.45982844e-01,  9.78986853e-02],\n",
       "       [ 1.41569127e-01, -3.31934527e-02],\n",
       "       [ 6.35824494e-02,  2.60037422e-03],\n",
       "       [-8.87046213e-02, -5.08430872e-02],\n",
       "       [ 1.32411808e-01, -5.25896645e-02],\n",
       "       [ 4.29143144e-01,  1.39451520e-01],\n",
       "       [-5.62450166e-01, -3.55459800e-01],\n",
       "       [ 5.98293829e-01,  3.05358879e-01],\n",
       "       [-3.52669474e-01,  2.77872905e-01],\n",
       "       [ 2.92708138e-01, -5.88533723e-02],\n",
       "       [ 1.49216325e+00,  2.43746801e-01],\n",
       "       [-3.21136884e-01, -2.11988784e-01],\n",
       "       [-4.28741839e-01, -1.62431474e-01],\n",
       "       [ 5.56602182e-02,  4.72280460e-02],\n",
       "       [-1.86669080e-01, -5.75236287e-02],\n",
       "       [-3.15976890e-01, -1.35666133e-01],\n",
       "       [-9.52287292e-01, -2.03431276e-01],\n",
       "       [-6.17216871e-01, -1.68607956e-01],\n",
       "       [ 2.60724124e-01,  2.83827268e-01],\n",
       "       [-1.29606872e+00, -5.87501508e-01],\n",
       "       [ 1.30204436e-01,  1.06536600e-01],\n",
       "       [ 3.62026915e-02, -7.14259522e-02],\n",
       "       [ 4.51406829e-01,  2.20021746e-01],\n",
       "       [ 7.82343617e-01,  1.55836343e-01],\n",
       "       [-1.91527940e+00, -8.41226381e-01],\n",
       "       [ 1.33470527e+00,  1.77008275e-01],\n",
       "       [-5.57241554e-01,  9.78217703e-02],\n",
       "       [-2.54030157e-01,  6.53585666e-03],\n",
       "       [ 3.83426415e-02, -1.41592253e-01],\n",
       "       [ 1.66900682e+00,  2.58263884e-01],\n",
       "       [-4.01201302e-01, -1.24900651e-01],\n",
       "       [ 1.33980298e+00,  5.54699895e-01],\n",
       "       [ 3.12160775e-01,  1.70605436e-01],\n",
       "       [ 2.09517683e+00,  6.46487345e-01],\n",
       "       [-6.85653080e-01, -2.37525375e-01],\n",
       "       [-9.81232159e-01, -5.30795733e-01],\n",
       "       [ 3.81516151e-01,  2.16067601e-01],\n",
       "       [ 8.35386181e-02,  2.57654664e-01],\n",
       "       [ 1.56227043e-01,  1.07263711e-02],\n",
       "       [-8.98591326e-01, -4.65169769e-01],\n",
       "       [ 2.16673778e-01, -1.35265391e-01],\n",
       "       [ 3.99091276e-01,  1.86824524e-01],\n",
       "       [-3.90120284e-01, -5.57531130e-02],\n",
       "       [ 1.51136791e-01, -3.50017338e-02],\n",
       "       [-2.59947279e-02, -5.30194271e-02],\n",
       "       [-5.55678088e-01, -2.82320719e-01],\n",
       "       [-4.14437203e-01, -1.61157769e-01],\n",
       "       [-5.43696094e-01, -4.31161457e-01],\n",
       "       [ 1.42759145e+00,  5.34554140e-01],\n",
       "       [ 4.51861867e-01, -1.43502859e-01],\n",
       "       [ 8.07369404e-01,  1.44524192e-01],\n",
       "       [-4.61251208e-01, -3.08874028e-01],\n",
       "       [-1.06359448e-01,  2.40025629e-01],\n",
       "       [-1.09810334e+00, -5.66248687e-01],\n",
       "       [ 8.38408546e-01,  2.78380007e-01],\n",
       "       [ 3.12708310e-01, -1.06001233e-02],\n",
       "       [ 1.95587585e+00,  6.38224114e-01],\n",
       "       [-1.10830352e+00, -3.95053658e-01],\n",
       "       [ 3.98647206e-01,  2.31865526e-02]])"
      ]
     },
     "execution_count": 33,
     "metadata": {},
     "output_type": "execute_result"
    }
   ],
   "source": [
    "X"
   ]
  },
  {
   "cell_type": "code",
   "execution_count": 34,
   "metadata": {
    "ExecuteTime": {
     "end_time": "2020-04-20T19:20:33.647684Z",
     "start_time": "2020-04-20T19:20:33.640703Z"
    }
   },
   "outputs": [
    {
     "data": {
      "text/plain": [
       "array([[ 6.76769235e-01],\n",
       "       [-1.07121393e+00],\n",
       "       [ 7.27912364e-01],\n",
       "       [ 2.30964136e+00],\n",
       "       [ 6.30052323e-01],\n",
       "       [ 1.02448887e+00],\n",
       "       [ 7.77183507e-01],\n",
       "       [-1.39656414e+00],\n",
       "       [-2.91049874e-01],\n",
       "       [ 1.88864221e+00],\n",
       "       [-7.11544293e-01],\n",
       "       [ 6.38884130e-01],\n",
       "       [ 5.48059617e-01],\n",
       "       [-2.19312436e-01],\n",
       "       [-3.87789490e-01],\n",
       "       [ 7.15219956e-01],\n",
       "       [-1.08373816e+00],\n",
       "       [-2.99917403e-01],\n",
       "       [-7.96849021e-01],\n",
       "       [-8.12568346e-01],\n",
       "       [-1.54018281e+00],\n",
       "       [-2.52920476e-01],\n",
       "       [ 6.26464454e-01],\n",
       "       [-1.61007571e+00],\n",
       "       [ 5.04240563e-01],\n",
       "       [ 5.53935753e-01],\n",
       "       [ 6.81911252e-01],\n",
       "       [-2.00157228e-02],\n",
       "       [ 1.13550833e-01],\n",
       "       [ 2.92286085e-02],\n",
       "       [-2.14393483e-01],\n",
       "       [-1.03406124e+00],\n",
       "       [ 3.88635004e-01],\n",
       "       [ 9.96727811e-01],\n",
       "       [ 1.39223653e+00],\n",
       "       [ 4.57043694e-01],\n",
       "       [ 6.81839901e-01],\n",
       "       [-9.05233246e-01],\n",
       "       [ 4.94316334e-01],\n",
       "       [ 6.22411280e-01],\n",
       "       [ 3.26088548e-01],\n",
       "       [ 4.52560386e-01],\n",
       "       [ 6.81840663e-01],\n",
       "       [-2.44832816e-01],\n",
       "       [-5.27149562e-01],\n",
       "       [-4.51448737e-01],\n",
       "       [-1.42864453e+00],\n",
       "       [ 8.05233004e-01],\n",
       "       [ 1.81049742e-01],\n",
       "       [ 3.49039347e-01],\n",
       "       [ 2.65803583e+00],\n",
       "       [-1.34272221e+00],\n",
       "       [-1.73026340e-01],\n",
       "       [ 6.13676729e-01],\n",
       "       [-1.89940741e+00],\n",
       "       [-7.93074429e-01],\n",
       "       [-4.17072486e-01],\n",
       "       [ 1.54913526e-01],\n",
       "       [ 2.44646603e-01],\n",
       "       [ 7.26337140e-01],\n",
       "       [-7.91592424e-01],\n",
       "       [ 4.39666794e-01],\n",
       "       [-2.66630687e-01],\n",
       "       [-8.77131636e-01],\n",
       "       [-6.37447634e-01],\n",
       "       [-7.72982393e-01],\n",
       "       [-1.04616382e+00],\n",
       "       [ 1.15209837e+00],\n",
       "       [-5.26661400e-02],\n",
       "       [-9.74296354e-01],\n",
       "       [-6.24348505e-01],\n",
       "       [-1.00475074e+00],\n",
       "       [ 5.89973268e-01],\n",
       "       [ 1.50344054e+00],\n",
       "       [ 1.27433349e+00],\n",
       "       [-1.25658172e+00],\n",
       "       [ 1.37852445e-01],\n",
       "       [-1.36126475e+00],\n",
       "       [ 7.27518820e-01],\n",
       "       [ 4.50501231e-01],\n",
       "       [-1.17577071e-01],\n",
       "       [-8.49638130e-01],\n",
       "       [-9.51657336e-02],\n",
       "       [-1.81175961e-01],\n",
       "       [ 2.81596080e-01],\n",
       "       [-2.56560634e-01],\n",
       "       [ 8.52804745e-01],\n",
       "       [-4.77688980e-01],\n",
       "       [-2.96471868e-01],\n",
       "       [ 1.68108524e-03],\n",
       "       [-2.05727542e-01],\n",
       "       [ 8.12610001e-01],\n",
       "       [-7.06157363e-02],\n",
       "       [ 2.31690062e-01],\n",
       "       [-1.59605923e-01],\n",
       "       [-5.98727081e-01],\n",
       "       [ 1.01944512e+00],\n",
       "       [-7.01462226e-01],\n",
       "       [-1.40420099e+00],\n",
       "       [ 6.94997907e-01],\n",
       "       [ 5.18636606e-01],\n",
       "       [ 4.83061626e-01],\n",
       "       [ 6.79198052e-01],\n",
       "       [-1.30170017e+00],\n",
       "       [-2.71805220e-01],\n",
       "       [ 9.47603686e-01],\n",
       "       [-3.49630397e-01],\n",
       "       [ 4.85113462e-01],\n",
       "       [-3.04715098e-01],\n",
       "       [-3.31839520e-01],\n",
       "       [-1.38578436e+00],\n",
       "       [ 8.84502948e-01],\n",
       "       [-2.47084475e+00],\n",
       "       [-9.56899804e-02],\n",
       "       [-4.64806358e-01],\n",
       "       [ 7.06669625e-01],\n",
       "       [ 1.54312708e-01],\n",
       "       [ 5.45819213e-01],\n",
       "       [ 1.46023727e-01],\n",
       "       [ 9.57253276e-01],\n",
       "       [-6.91815248e-01],\n",
       "       [-1.00443516e-01],\n",
       "       [ 2.77924488e-01],\n",
       "       [-1.20207491e+00],\n",
       "       [-6.04953108e-02],\n",
       "       [-1.03273685e+00],\n",
       "       [ 6.88215760e-01],\n",
       "       [-1.21050656e+00],\n",
       "       [-2.40052449e-01],\n",
       "       [-6.06855334e-01],\n",
       "       [ 1.29217575e+00],\n",
       "       [-1.03282074e-01],\n",
       "       [-1.41361475e+00],\n",
       "       [ 7.57783205e-01],\n",
       "       [ 1.41360423e+00],\n",
       "       [ 1.99564613e+00],\n",
       "       [ 1.66865955e+00],\n",
       "       [ 1.66032125e+00],\n",
       "       [ 4.24742508e-01],\n",
       "       [-9.26445715e-01],\n",
       "       [ 3.28504629e-02],\n",
       "       [-5.17521702e-01],\n",
       "       [-9.24887775e-02],\n",
       "       [-3.05962249e-02],\n",
       "       [ 1.30795754e-01],\n",
       "       [-7.74659629e-02],\n",
       "       [-4.20826569e-01],\n",
       "       [ 6.78334448e-01],\n",
       "       [-6.35104074e-01],\n",
       "       [ 2.72075594e-01],\n",
       "       [-2.26801066e-01],\n",
       "       [-1.45908094e+00],\n",
       "       [ 4.03275391e-01],\n",
       "       [ 4.88618199e-01],\n",
       "       [-3.77797862e-02],\n",
       "       [ 2.25514691e-01],\n",
       "       [ 3.73320407e-01],\n",
       "       [ 9.96559672e-01],\n",
       "       [ 6.68655132e-01],\n",
       "       [-3.09207055e-01],\n",
       "       [ 1.44746288e+00],\n",
       "       [-1.27674147e-01],\n",
       "       [ 1.95898129e-02],\n",
       "       [-4.68331172e-01],\n",
       "       [-7.59794861e-01],\n",
       "       [ 2.11566325e+00],\n",
       "       [-1.28843614e+00],\n",
       "       [ 5.24455206e-01],\n",
       "       [ 2.68082969e-01],\n",
       "       [ 4.06271559e-02],\n",
       "       [-1.63087335e+00],\n",
       "       [ 4.50273668e-01],\n",
       "       [-1.41736985e+00],\n",
       "       [-3.20579341e-01],\n",
       "       [-2.16095416e+00],\n",
       "       [ 7.55938440e-01],\n",
       "       [ 1.13147728e+00],\n",
       "       [-4.01022769e-01],\n",
       "       [-1.33261395e-01],\n",
       "       [-1.20765775e-01],\n",
       "       [ 1.03185993e+00],\n",
       "       [-1.29878689e-01],\n",
       "       [-4.08011754e-01],\n",
       "       [ 4.17084437e-01],\n",
       "       [-1.00930809e-01],\n",
       "       [ 7.22839507e-02],\n",
       "       [ 6.47903117e-01],\n",
       "       [ 4.74689466e-01],\n",
       "       [ 6.85499472e-01],\n",
       "       [-1.49366216e+00],\n",
       "       [-3.49297457e-01],\n",
       "       [-7.79713261e-01],\n",
       "       [ 5.67446775e-01],\n",
       "       [ 5.18831382e-02],\n",
       "       [ 1.25350822e+00],\n",
       "       [-8.53016941e-01],\n",
       "       [-2.61547685e-01],\n",
       "       [-2.02667441e+00],\n",
       "       [ 1.20688282e+00],\n",
       "       [-3.53816725e-01]])"
      ]
     },
     "execution_count": 34,
     "metadata": {},
     "output_type": "execute_result"
    }
   ],
   "source": [
    "X_pca"
   ]
  },
  {
   "cell_type": "markdown",
   "metadata": {
    "colab_type": "text",
    "id": "MRDtUURESNLm"
   },
   "source": [
    "The transformed data has been reduced to a single dimension.\n",
    "To understand the effect of this dimensionality reduction, we can perform the inverse transform of this reduced data and plot it along with the original data:"
   ]
  },
  {
   "cell_type": "code",
   "execution_count": 35,
   "metadata": {
    "ExecuteTime": {
     "end_time": "2020-04-20T19:21:17.712621Z",
     "start_time": "2020-04-20T19:21:17.709630Z"
    }
   },
   "outputs": [],
   "source": [
    "X_new = pca.inverse_transform(X_pca)"
   ]
  },
  {
   "cell_type": "code",
   "execution_count": 36,
   "metadata": {
    "ExecuteTime": {
     "end_time": "2020-04-20T19:21:21.032241Z",
     "start_time": "2020-04-20T19:21:21.028251Z"
    }
   },
   "outputs": [
    {
     "data": {
      "text/plain": [
       "(200, 1)"
      ]
     },
     "execution_count": 36,
     "metadata": {},
     "output_type": "execute_result"
    }
   ],
   "source": [
    "X_pca.shape"
   ]
  },
  {
   "cell_type": "code",
   "execution_count": 37,
   "metadata": {
    "ExecuteTime": {
     "end_time": "2020-04-20T19:21:31.386823Z",
     "start_time": "2020-04-20T19:21:31.382834Z"
    }
   },
   "outputs": [
    {
     "data": {
      "text/plain": [
       "(200, 2)"
      ]
     },
     "execution_count": 37,
     "metadata": {},
     "output_type": "execute_result"
    }
   ],
   "source": [
    "X_new.shape"
   ]
  },
  {
   "cell_type": "code",
   "execution_count": 38,
   "metadata": {
    "ExecuteTime": {
     "end_time": "2020-04-20T19:22:03.856922Z",
     "start_time": "2020-04-20T19:22:03.741233Z"
    },
    "colab": {},
    "colab_type": "code",
    "id": "xlT3haa_SNLn",
    "outputId": "3412be12-22a2-4978-e9c9-a09d0c0fec3f"
   },
   "outputs": [
    {
     "data": {
      "text/plain": [
       "<matplotlib.legend.Legend at 0x1c93f3e5780>"
      ]
     },
     "execution_count": 38,
     "metadata": {},
     "output_type": "execute_result"
    },
    {
     "data": {
      "image/png": "[encoded data removed]",
      "text/plain": [
       "<Figure size 432x288 with 1 Axes>"
      ]
     },
     "metadata": {
      "needs_background": "light"
     },
     "output_type": "display_data"
    }
   ],
   "source": [
    "\n",
    "plt.scatter(X[:, 0], X[:, 1], alpha=0.2)\n",
    "plt.scatter(X_new[:, 0], X_new[:, 1], alpha=0.8, s=8, c='k')\n",
    "plt.axis('equal');\n",
    "plt.legend(['Original data','Transformed Data'])"
   ]
  },
  {
   "cell_type": "markdown",
   "metadata": {},
   "source": [
    "The light points are the original data, while the dark points are the projected version."
   ]
  },
  {
   "cell_type": "markdown",
   "metadata": {
    "colab_type": "text",
    "id": "LIZGRbv8SNLp"
   },
   "source": [
    "The information along the least important principal axis or axes is removed, leaving only the component(s) of the data with the highest variance.\n",
    "The fraction of variance that is cut out (proportional to the spread of points about the line formed in this figure) is roughly a measure of how much \"information\" is discarded in this reduction of dimensionality.\n",
    "\n",
    "This reduced-dimension dataset is in some senses \"good enough\" to encode the most important relationships between the points: despite reducing the dimension of the data by 50%, the overall relationship between the data points are mostly preserved."
   ]
  },
  {
   "cell_type": "code",
   "execution_count": 39,
   "metadata": {
    "ExecuteTime": {
     "end_time": "2020-04-20T19:26:58.110808Z",
     "start_time": "2020-04-20T19:26:58.107787Z"
    }
   },
   "outputs": [
    {
     "data": {
      "text/plain": [
       "array([0.97634101])"
      ]
     },
     "execution_count": 39,
     "metadata": {},
     "output_type": "execute_result"
    }
   ],
   "source": [
    "pca.explained_variance_ratio_"
   ]
  },
  {
   "cell_type": "markdown",
   "metadata": {},
   "source": [
    "Of course, real life applications will contain much more columns to reduce from. "
   ]
  },
  {
   "cell_type": "markdown",
   "metadata": {},
   "source": [
    "### PCA for visualization: Iris Dataset"
   ]
  },
  {
   "cell_type": "code",
   "execution_count": 55,
   "metadata": {
    "ExecuteTime": {
     "end_time": "2020-04-20T19:48:59.132782Z",
     "start_time": "2020-04-20T19:48:59.129791Z"
    }
   },
   "outputs": [],
   "source": [
    "from sklearn.datasets import load_iris"
   ]
  },
  {
   "cell_type": "code",
   "execution_count": 57,
   "metadata": {
    "ExecuteTime": {
     "end_time": "2020-04-20T19:49:12.995864Z",
     "start_time": "2020-04-20T19:49:12.990877Z"
    }
   },
   "outputs": [
    {
     "data": {
      "text/plain": [
       "dict_keys(['data', 'target', 'target_names', 'DESCR', 'feature_names', 'filename'])"
      ]
     },
     "execution_count": 57,
     "metadata": {},
     "output_type": "execute_result"
    }
   ],
   "source": [
    "load_iris().keys()"
   ]
  },
  {
   "cell_type": "code",
   "execution_count": 59,
   "metadata": {
    "ExecuteTime": {
     "end_time": "2020-04-20T19:49:30.011348Z",
     "start_time": "2020-04-20T19:49:30.006337Z"
    },
    "scrolled": true
   },
   "outputs": [
    {
     "name": "stdout",
     "output_type": "stream",
     "text": [
      ".. _iris_dataset:\n",
      "\n",
      "Iris plants dataset\n",
      "--------------------\n",
      "\n",
      "**Data Set Characteristics:**\n",
      "\n",
      "    :Number of Instances: 150 (50 in each of three classes)\n",
      "    :Number of Attributes: 4 numeric, predictive attributes and the class\n",
      "    :Attribute Information:\n",
      "        - sepal length in cm\n",
      "        - sepal width in cm\n",
      "        - petal length in cm\n",
      "        - petal width in cm\n",
      "        - class:\n",
      "                - Iris-Setosa\n",
      "                - Iris-Versicolour\n",
      "                - Iris-Virginica\n",
      "                \n",
      "    :Summary Statistics:\n",
      "\n",
      "    ============== ==== ==== ======= ===== ====================\n",
      "                    Min  Max   Mean    SD   Class Correlation\n",
      "    ============== ==== ==== ======= ===== ====================\n",
      "    sepal length:   4.3  7.9   5.84   0.83    0.7826\n",
      "    sepal width:    2.0  4.4   3.05   0.43   -0.4194\n",
      "    petal length:   1.0  6.9   3.76   1.76    0.9490  (high!)\n",
      "    petal width:    0.1  2.5   1.20   0.76    0.9565  (high!)\n",
      "    ============== ==== ==== ======= ===== ====================\n",
      "\n",
      "    :Missing Attribute Values: None\n",
      "    :Class Distribution: 33.3% for each of 3 classes.\n",
      "    :Creator: R.A. Fisher\n",
      "    :Donor: Michael Marshall (MARSHALL%PLU@io.arc.nasa.gov)\n",
      "    :Date: July, 1988\n",
      "\n",
      "The famous Iris database, first used by Sir R.A. Fisher. The dataset is taken\n",
      "from Fisher's paper. Note that it's the same as in R, but not as in the UCI\n",
      "Machine Learning Repository, which has two wrong data points.\n",
      "\n",
      "This is perhaps the best known database to be found in the\n",
      "pattern recognition literature.  Fisher's paper is a classic in the field and\n",
      "is referenced frequently to this day.  (See Duda & Hart, for example.)  The\n",
      "data set contains 3 classes of 50 instances each, where each class refers to a\n",
      "type of iris plant.  One class is linearly separable from the other 2; the\n",
      "latter are NOT linearly separable from each other.\n",
      "\n",
      ".. topic:: References\n",
      "\n",
      "   - Fisher, R.A. \"The use of multiple measurements in taxonomic problems\"\n",
      "     Annual Eugenics, 7, Part II, 179-188 (1936); also in \"Contributions to\n",
      "     Mathematical Statistics\" (John Wiley, NY, 1950).\n",
      "   - Duda, R.O., & Hart, P.E. (1973) Pattern Classification and Scene Analysis.\n",
      "     (Q327.D83) John Wiley & Sons.  ISBN 0-471-22361-1.  See page 218.\n",
      "   - Dasarathy, B.V. (1980) \"Nosing Around the Neighborhood: A New System\n",
      "     Structure and Classification Rule for Recognition in Partially Exposed\n",
      "     Environments\".  IEEE Transactions on Pattern Analysis and Machine\n",
      "     Intelligence, Vol. PAMI-2, No. 1, 67-71.\n",
      "   - Gates, G.W. (1972) \"The Reduced Nearest Neighbor Rule\".  IEEE Transactions\n",
      "     on Information Theory, May 1972, 431-433.\n",
      "   - See also: 1988 MLC Proceedings, 54-64.  Cheeseman et al\"s AUTOCLASS II\n",
      "     conceptual clustering system finds 3 classes in the data.\n",
      "   - Many, many more ...\n"
     ]
    }
   ],
   "source": [
    "print(load_iris()['DESCR'])"
   ]
  },
  {
   "cell_type": "code",
   "execution_count": 62,
   "metadata": {
    "ExecuteTime": {
     "end_time": "2020-04-20T19:51:06.689805Z",
     "start_time": "2020-04-20T19:51:06.684819Z"
    }
   },
   "outputs": [],
   "source": [
    "iris = load_iris()\n",
    "\n",
    "X = iris.data\n",
    "y = iris.target"
   ]
  },
  {
   "cell_type": "code",
   "execution_count": 63,
   "metadata": {
    "ExecuteTime": {
     "end_time": "2020-04-20T19:51:09.723524Z",
     "start_time": "2020-04-20T19:51:09.720533Z"
    }
   },
   "outputs": [],
   "source": [
    "from sklearn.preprocessing import StandardScaler"
   ]
  },
  {
   "cell_type": "code",
   "execution_count": 65,
   "metadata": {
    "ExecuteTime": {
     "end_time": "2020-04-20T19:51:23.844371Z",
     "start_time": "2020-04-20T19:51:23.840365Z"
    }
   },
   "outputs": [
    {
     "data": {
      "text/plain": [
       "(150, 4)"
      ]
     },
     "execution_count": 65,
     "metadata": {},
     "output_type": "execute_result"
    }
   ],
   "source": [
    "X.shape"
   ]
  },
  {
   "cell_type": "code",
   "execution_count": 82,
   "metadata": {
    "ExecuteTime": {
     "end_time": "2020-04-20T19:55:47.829314Z",
     "start_time": "2020-04-20T19:55:47.823330Z"
    }
   },
   "outputs": [
    {
     "data": {
      "text/plain": [
       "PCA(copy=True, iterated_power='auto', n_components=2, random_state=None,\n",
       "    svd_solver='auto', tol=0.0, whiten=False)"
      ]
     },
     "execution_count": 82,
     "metadata": {},
     "output_type": "execute_result"
    }
   ],
   "source": [
    "pca = PCA(n_components=2)\n",
    "\n",
    "scaler = StandardScaler()\n",
    "X_std = scaler.fit_transform(X)\n",
    "\n",
    "pca.fit(X_std)"
   ]
  },
  {
   "cell_type": "code",
   "execution_count": 83,
   "metadata": {
    "ExecuteTime": {
     "end_time": "2020-04-20T19:55:48.036777Z",
     "start_time": "2020-04-20T19:55:48.032787Z"
    }
   },
   "outputs": [
    {
     "data": {
      "text/plain": [
       "(150, 4)"
      ]
     },
     "execution_count": 83,
     "metadata": {},
     "output_type": "execute_result"
    }
   ],
   "source": [
    "X_std.shape"
   ]
  },
  {
   "cell_type": "code",
   "execution_count": 84,
   "metadata": {
    "ExecuteTime": {
     "end_time": "2020-04-20T19:55:48.230260Z",
     "start_time": "2020-04-20T19:55:48.226271Z"
    }
   },
   "outputs": [
    {
     "data": {
      "text/plain": [
       "array([[ 0.52106591, -0.26934744,  0.5804131 ,  0.56485654],\n",
       "       [ 0.37741762,  0.92329566,  0.02449161,  0.06694199]])"
      ]
     },
     "execution_count": 84,
     "metadata": {},
     "output_type": "execute_result"
    }
   ],
   "source": [
    "pca.components_"
   ]
  },
  {
   "cell_type": "code",
   "execution_count": 85,
   "metadata": {
    "ExecuteTime": {
     "end_time": "2020-04-20T19:55:48.447941Z",
     "start_time": "2020-04-20T19:55:48.442954Z"
    }
   },
   "outputs": [
    {
     "data": {
      "text/plain": [
       "['sepal length (cm)',\n",
       " 'sepal width (cm)',\n",
       " 'petal length (cm)',\n",
       " 'petal width (cm)']"
      ]
     },
     "execution_count": 85,
     "metadata": {},
     "output_type": "execute_result"
    }
   ],
   "source": [
    "iris.feature_names"
   ]
  },
  {
   "cell_type": "code",
   "execution_count": 86,
   "metadata": {
    "ExecuteTime": {
     "end_time": "2020-04-20T19:55:48.656936Z",
     "start_time": "2020-04-20T19:55:48.652947Z"
    }
   },
   "outputs": [
    {
     "data": {
      "text/plain": [
       "array([0.72962445, 0.22850762])"
      ]
     },
     "execution_count": 86,
     "metadata": {},
     "output_type": "execute_result"
    }
   ],
   "source": [
    "pca.explained_variance_ratio_"
   ]
  },
  {
   "cell_type": "code",
   "execution_count": 87,
   "metadata": {
    "ExecuteTime": {
     "end_time": "2020-04-20T19:55:48.915280Z",
     "start_time": "2020-04-20T19:55:48.910294Z"
    }
   },
   "outputs": [
    {
     "data": {
      "text/plain": [
       "0.9581320720000164"
      ]
     },
     "execution_count": 87,
     "metadata": {},
     "output_type": "execute_result"
    }
   ],
   "source": [
    "pca.explained_variance_ratio_.sum()"
   ]
  },
  {
   "cell_type": "code",
   "execution_count": 88,
   "metadata": {
    "ExecuteTime": {
     "end_time": "2020-04-20T19:55:49.302690Z",
     "start_time": "2020-04-20T19:55:49.298699Z"
    }
   },
   "outputs": [
    {
     "data": {
      "text/plain": [
       "(150, 4)"
      ]
     },
     "execution_count": 88,
     "metadata": {},
     "output_type": "execute_result"
    }
   ],
   "source": [
    "X_std.shape"
   ]
  },
  {
   "cell_type": "code",
   "execution_count": 89,
   "metadata": {
    "ExecuteTime": {
     "end_time": "2020-04-20T19:55:49.743802Z",
     "start_time": "2020-04-20T19:55:49.736821Z"
    },
    "scrolled": true
   },
   "outputs": [
    {
     "data": {
      "text/plain": [
       "array([[-2.26470281,  0.4800266 ],\n",
       "       [-2.08096115, -0.67413356],\n",
       "       [-2.36422905, -0.34190802],\n",
       "       [-2.29938422, -0.59739451],\n",
       "       [-2.38984217,  0.64683538],\n",
       "       [-2.07563095,  1.48917752],\n",
       "       [-2.44402884,  0.0476442 ],\n",
       "       [-2.23284716,  0.22314807],\n",
       "       [-2.33464048, -1.11532768],\n",
       "       [-2.18432817, -0.46901356],\n",
       "       [-2.1663101 ,  1.04369065],\n",
       "       [-2.32613087,  0.13307834],\n",
       "       [-2.2184509 , -0.72867617],\n",
       "       [-2.6331007 , -0.96150673],\n",
       "       [-2.1987406 ,  1.86005711],\n",
       "       [-2.26221453,  2.68628449],\n",
       "       [-2.2075877 ,  1.48360936],\n",
       "       [-2.19034951,  0.48883832],\n",
       "       [-1.898572  ,  1.40501879],\n",
       "       [-2.34336905,  1.12784938],\n",
       "       [-1.914323  ,  0.40885571],\n",
       "       [-2.20701284,  0.92412143],\n",
       "       [-2.7743447 ,  0.45834367],\n",
       "       [-1.81866953,  0.08555853],\n",
       "       [-2.22716331,  0.13725446],\n",
       "       [-1.95184633, -0.62561859],\n",
       "       [-2.05115137,  0.24216355],\n",
       "       [-2.16857717,  0.52714953],\n",
       "       [-2.13956345,  0.31321781],\n",
       "       [-2.26526149, -0.3377319 ],\n",
       "       [-2.14012214, -0.50454069],\n",
       "       [-1.83159477,  0.42369507],\n",
       "       [-2.61494794,  1.79357586],\n",
       "       [-2.44617739,  2.15072788],\n",
       "       [-2.10997488, -0.46020184],\n",
       "       [-2.2078089 , -0.2061074 ],\n",
       "       [-2.04514621,  0.66155811],\n",
       "       [-2.52733191,  0.59229277],\n",
       "       [-2.42963258, -0.90418004],\n",
       "       [-2.16971071,  0.26887896],\n",
       "       [-2.28647514,  0.44171539],\n",
       "       [-1.85812246, -2.33741516],\n",
       "       [-2.5536384 , -0.47910069],\n",
       "       [-1.96444768,  0.47232667],\n",
       "       [-2.13705901,  1.14222926],\n",
       "       [-2.0697443 , -0.71105273],\n",
       "       [-2.38473317,  1.1204297 ],\n",
       "       [-2.39437631, -0.38624687],\n",
       "       [-2.22944655,  0.99795976],\n",
       "       [-2.20383344,  0.00921636],\n",
       "       [ 1.10178118,  0.86297242],\n",
       "       [ 0.73133743,  0.59461473],\n",
       "       [ 1.24097932,  0.61629765],\n",
       "       [ 0.40748306, -1.75440399],\n",
       "       [ 1.0754747 , -0.20842105],\n",
       "       [ 0.38868734, -0.59328364],\n",
       "       [ 0.74652974,  0.77301931],\n",
       "       [-0.48732274, -1.85242909],\n",
       "       [ 0.92790164,  0.03222608],\n",
       "       [ 0.01142619, -1.03401828],\n",
       "       [-0.11019628, -2.65407282],\n",
       "       [ 0.44069345, -0.06329519],\n",
       "       [ 0.56210831, -1.76472438],\n",
       "       [ 0.71956189, -0.18622461],\n",
       "       [-0.0333547 , -0.43900321],\n",
       "       [ 0.87540719,  0.50906396],\n",
       "       [ 0.35025167, -0.19631173],\n",
       "       [ 0.15881005, -0.79209574],\n",
       "       [ 1.22509363, -1.6222438 ],\n",
       "       [ 0.1649179 , -1.30260923],\n",
       "       [ 0.73768265,  0.39657156],\n",
       "       [ 0.47628719, -0.41732028],\n",
       "       [ 1.2341781 , -0.93332573],\n",
       "       [ 0.6328582 , -0.41638772],\n",
       "       [ 0.70266118, -0.06341182],\n",
       "       [ 0.87427365,  0.25079339],\n",
       "       [ 1.25650912, -0.07725602],\n",
       "       [ 1.35840512,  0.33131168],\n",
       "       [ 0.66480037, -0.22592785],\n",
       "       [-0.04025861, -1.05871855],\n",
       "       [ 0.13079518, -1.56227183],\n",
       "       [ 0.02345269, -1.57247559],\n",
       "       [ 0.24153827, -0.77725638],\n",
       "       [ 1.06109461, -0.63384324],\n",
       "       [ 0.22397877, -0.28777351],\n",
       "       [ 0.42913912,  0.84558224],\n",
       "       [ 1.04872805,  0.5220518 ],\n",
       "       [ 1.04453138, -1.38298872],\n",
       "       [ 0.06958832, -0.21950333],\n",
       "       [ 0.28347724, -1.32932464],\n",
       "       [ 0.27907778, -1.12002852],\n",
       "       [ 0.62456979,  0.02492303],\n",
       "       [ 0.33653037, -0.98840402],\n",
       "       [-0.36218338, -2.01923787],\n",
       "       [ 0.28858624, -0.85573032],\n",
       "       [ 0.09136066, -0.18119213],\n",
       "       [ 0.22771687, -0.38492008],\n",
       "       [ 0.57638829, -0.1548736 ],\n",
       "       [-0.44766702, -1.54379203],\n",
       "       [ 0.25673059, -0.5988518 ],\n",
       "       [ 1.84456887,  0.87042131],\n",
       "       [ 1.15788161, -0.69886986],\n",
       "       [ 2.20526679,  0.56201048],\n",
       "       [ 1.44015066, -0.04698759],\n",
       "       [ 1.86781222,  0.29504482],\n",
       "       [ 2.75187334,  0.8004092 ],\n",
       "       [ 0.36701769, -1.56150289],\n",
       "       [ 2.30243944,  0.42006558],\n",
       "       [ 2.00668647, -0.71143865],\n",
       "       [ 2.25977735,  1.92101038],\n",
       "       [ 1.36417549,  0.69275645],\n",
       "       [ 1.60267867, -0.42170045],\n",
       "       [ 1.8839007 ,  0.41924965],\n",
       "       [ 1.2601151 , -1.16226042],\n",
       "       [ 1.4676452 , -0.44227159],\n",
       "       [ 1.59007732,  0.67624481],\n",
       "       [ 1.47143146,  0.25562182],\n",
       "       [ 2.42632899,  2.55666125],\n",
       "       [ 3.31069558,  0.01778095],\n",
       "       [ 1.26376667, -1.70674538],\n",
       "       [ 2.0377163 ,  0.91046741],\n",
       "       [ 0.97798073, -0.57176432],\n",
       "       [ 2.89765149,  0.41364106],\n",
       "       [ 1.33323218, -0.48181122],\n",
       "       [ 1.7007339 ,  1.01392187],\n",
       "       [ 1.95432671,  1.0077776 ],\n",
       "       [ 1.17510363, -0.31639447],\n",
       "       [ 1.02095055,  0.06434603],\n",
       "       [ 1.78834992, -0.18736121],\n",
       "       [ 1.86364755,  0.56229073],\n",
       "       [ 2.43595373,  0.25928443],\n",
       "       [ 2.30492772,  2.62632347],\n",
       "       [ 1.86270322, -0.17854949],\n",
       "       [ 1.11414774, -0.29292262],\n",
       "       [ 1.2024733 , -0.81131527],\n",
       "       [ 2.79877045,  0.85680333],\n",
       "       [ 1.57625591,  1.06858111],\n",
       "       [ 1.3462921 ,  0.42243061],\n",
       "       [ 0.92482492,  0.0172231 ],\n",
       "       [ 1.85204505,  0.67612817],\n",
       "       [ 2.01481043,  0.61388564],\n",
       "       [ 1.90178409,  0.68957549],\n",
       "       [ 1.15788161, -0.69886986],\n",
       "       [ 2.04055823,  0.8675206 ],\n",
       "       [ 1.9981471 ,  1.04916875],\n",
       "       [ 1.87050329,  0.38696608],\n",
       "       [ 1.56458048, -0.89668681],\n",
       "       [ 1.5211705 ,  0.26906914],\n",
       "       [ 1.37278779,  1.01125442],\n",
       "       [ 0.96065603, -0.02433167]])"
      ]
     },
     "execution_count": 89,
     "metadata": {},
     "output_type": "execute_result"
    }
   ],
   "source": [
    "pca.transform(X_std)"
   ]
  },
  {
   "cell_type": "code",
   "execution_count": 90,
   "metadata": {
    "ExecuteTime": {
     "end_time": "2020-04-20T19:55:50.138869Z",
     "start_time": "2020-04-20T19:55:50.134881Z"
    }
   },
   "outputs": [],
   "source": [
    "pc1 = pca.transform(X_std)[:,0]\n",
    "pc2 = pca.transform(X_std)[:,1]"
   ]
  },
  {
   "cell_type": "code",
   "execution_count": 93,
   "metadata": {
    "ExecuteTime": {
     "end_time": "2020-04-20T19:56:34.901263Z",
     "start_time": "2020-04-20T19:56:34.896276Z"
    }
   },
   "outputs": [
    {
     "data": {
      "text/plain": [
       "array(['setosa', 'versicolor', 'virginica'], dtype='<U10')"
      ]
     },
     "execution_count": 93,
     "metadata": {},
     "output_type": "execute_result"
    }
   ],
   "source": [
    "load_iris().target_names"
   ]
  },
  {
   "cell_type": "code",
   "execution_count": 96,
   "metadata": {
    "ExecuteTime": {
     "end_time": "2020-04-20T19:57:23.737668Z",
     "start_time": "2020-04-20T19:57:23.626964Z"
    },
    "scrolled": true
   },
   "outputs": [
    {
     "data": {
      "text/plain": [
       "Text(0, 0.5, 'PC2')"
      ]
     },
     "execution_count": 96,
     "metadata": {},
     "output_type": "execute_result"
    },
    {
     "data": {
      "image/png": "[encoded data removed]",
      "text/plain": [
       "<Figure size 720x576 with 1 Axes>"
      ]
     },
     "metadata": {
      "needs_background": "light"
     },
     "output_type": "display_data"
    }
   ],
   "source": [
    "plt.figure(figsize=(10,8))\n",
    "plt.scatter(pc1, pc2, c=y, cmap='rainbow')\n",
    "plt.xlabel('PC1')\n",
    "plt.ylabel('PC2')"
   ]
  },
  {
   "cell_type": "code",
   "execution_count": 115,
   "metadata": {
    "ExecuteTime": {
     "end_time": "2020-04-20T20:04:39.891395Z",
     "start_time": "2020-04-20T20:04:39.878434Z"
    },
    "scrolled": true
   },
   "outputs": [
    {
     "data": {
      "application/javascript": [
       "\n",
       "        if (window._pyforest_update_imports_cell) { window._pyforest_update_imports_cell('import pandas as pd'); }\n",
       "    "
      ],
      "text/plain": [
       "<IPython.core.display.Javascript object>"
      ]
     },
     "metadata": {},
     "output_type": "display_data"
    },
    {
     "data": {
      "application/javascript": [
       "\n",
       "        if (window._pyforest_update_imports_cell) { window._pyforest_update_imports_cell('import pandas as pd'); }\n",
       "    "
      ],
      "text/plain": [
       "<IPython.core.display.Javascript object>"
      ]
     },
     "metadata": {},
     "output_type": "display_data"
    },
    {
     "data": {
      "application/javascript": [
       "\n",
       "        if (window._pyforest_update_imports_cell) { window._pyforest_update_imports_cell('import pandas as pd'); }\n",
       "    "
      ],
      "text/plain": [
       "<IPython.core.display.Javascript object>"
      ]
     },
     "metadata": {},
     "output_type": "display_data"
    },
    {
     "data": {
      "text/html": [
       "<div>\n",
       "<style scoped>\n",
       "    .dataframe tbody tr th:only-of-type {\n",
       "        vertical-align: middle;\n",
       "    }\n",
       "\n",
       "    .dataframe tbody tr th {\n",
       "        vertical-align: top;\n",
       "    }\n",
       "\n",
       "    .dataframe thead th {\n",
       "        text-align: right;\n",
       "    }\n",
       "</style>\n",
       "<table border=\"1\" class=\"dataframe\">\n",
       "  <thead>\n",
       "    <tr style=\"text-align: right;\">\n",
       "      <th></th>\n",
       "      <th>sepal length (cm)</th>\n",
       "      <th>sepal width (cm)</th>\n",
       "      <th>petal length (cm)</th>\n",
       "      <th>petal width (cm)</th>\n",
       "    </tr>\n",
       "    <tr>\n",
       "      <th>plant</th>\n",
       "      <th></th>\n",
       "      <th></th>\n",
       "      <th></th>\n",
       "      <th></th>\n",
       "    </tr>\n",
       "  </thead>\n",
       "  <tbody>\n",
       "    <tr>\n",
       "      <th>0</th>\n",
       "      <td>5.006</td>\n",
       "      <td>3.428</td>\n",
       "      <td>1.462</td>\n",
       "      <td>0.246</td>\n",
       "    </tr>\n",
       "    <tr>\n",
       "      <th>1</th>\n",
       "      <td>5.936</td>\n",
       "      <td>2.770</td>\n",
       "      <td>4.260</td>\n",
       "      <td>1.326</td>\n",
       "    </tr>\n",
       "    <tr>\n",
       "      <th>2</th>\n",
       "      <td>6.588</td>\n",
       "      <td>2.974</td>\n",
       "      <td>5.552</td>\n",
       "      <td>2.026</td>\n",
       "    </tr>\n",
       "  </tbody>\n",
       "</table>\n",
       "</div>"
      ],
      "text/plain": [
       "       sepal length (cm)  sepal width (cm)  petal length (cm)  \\\n",
       "plant                                                           \n",
       "0                  5.006             3.428              1.462   \n",
       "1                  5.936             2.770              4.260   \n",
       "2                  6.588             2.974              5.552   \n",
       "\n",
       "       petal width (cm)  \n",
       "plant                    \n",
       "0                 0.246  \n",
       "1                 1.326  \n",
       "2                 2.026  "
      ]
     },
     "execution_count": 115,
     "metadata": {},
     "output_type": "execute_result"
    }
   ],
   "source": [
    "pd.concat([pd.DataFrame(iris.data, columns=iris.feature_names),  \n",
    "           pd.DataFrame(iris.target, columns=['plant'])], axis=1).groupby('plant').mean()"
   ]
  },
  {
   "cell_type": "code",
   "execution_count": 99,
   "metadata": {
    "ExecuteTime": {
     "end_time": "2020-04-20T19:58:26.708606Z",
     "start_time": "2020-04-20T19:58:26.704617Z"
    }
   },
   "outputs": [
    {
     "data": {
      "text/plain": [
       "[(0.5210659146701195, 'sepal length (cm)'),\n",
       " (-0.26934744250594356, 'sepal width (cm)'),\n",
       " (0.5804130957962945, 'petal length (cm)'),\n",
       " (0.5648565357793611, 'petal width (cm)')]"
      ]
     },
     "execution_count": 99,
     "metadata": {},
     "output_type": "execute_result"
    }
   ],
   "source": [
    "list(zip(pca.components_[0], iris.feature_names))"
   ]
  },
  {
   "cell_type": "code",
   "execution_count": 98,
   "metadata": {
    "ExecuteTime": {
     "end_time": "2020-04-20T19:58:09.995942Z",
     "start_time": "2020-04-20T19:58:09.991951Z"
    }
   },
   "outputs": [
    {
     "data": {
      "text/plain": [
       "['sepal length (cm)',\n",
       " 'sepal width (cm)',\n",
       " 'petal length (cm)',\n",
       " 'petal width (cm)']"
      ]
     },
     "execution_count": 98,
     "metadata": {},
     "output_type": "execute_result"
    }
   ],
   "source": [
    "iris.feature_names"
   ]
  },
  {
   "cell_type": "markdown",
   "metadata": {},
   "source": [
    "# Yellowbrick - visualization"
   ]
  },
  {
   "cell_type": "code",
   "execution_count": 117,
   "metadata": {
    "ExecuteTime": {
     "end_time": "2020-04-20T20:07:56.655898Z",
     "start_time": "2020-04-20T20:07:56.514251Z"
    }
   },
   "outputs": [
    {
     "data": {
      "application/javascript": [
       "\n",
       "        if (window._pyforest_update_imports_cell) { window._pyforest_update_imports_cell('import pandas as pd'); }\n",
       "    "
      ],
      "text/plain": [
       "<IPython.core.display.Javascript object>"
      ]
     },
     "metadata": {},
     "output_type": "display_data"
    },
    {
     "data": {
      "image/png": "[encoded data removed]",
      "text/plain": [
       "<Figure size 576x396 with 1 Axes>"
      ]
     },
     "metadata": {},
     "output_type": "display_data"
    },
    {
     "data": {
      "text/plain": [
       "<matplotlib.axes._subplots.AxesSubplot at 0x1c9407c8f60>"
      ]
     },
     "execution_count": 117,
     "metadata": {},
     "output_type": "execute_result"
    }
   ],
   "source": [
    "from yellowbrick.features.pca import PCADecomposition\n",
    "\n",
    "visualizer = PCADecomposition(scale=True, proj_features=True,)\n",
    "visualizer.fit_transform(pd.DataFrame(X_std, columns=iris.feature_names), y)\n",
    "visualizer.show()"
   ]
  },
  {
   "cell_type": "code",
   "execution_count": 118,
   "metadata": {
    "ExecuteTime": {
     "end_time": "2020-04-20T20:09:56.238718Z",
     "start_time": "2020-04-20T20:09:56.234740Z"
    }
   },
   "outputs": [
    {
     "data": {
      "text/plain": [
       "['sepal length (cm)',\n",
       " 'sepal width (cm)',\n",
       " 'petal length (cm)',\n",
       " 'petal width (cm)']"
      ]
     },
     "execution_count": 118,
     "metadata": {},
     "output_type": "execute_result"
    }
   ],
   "source": [
    "iris.feature_names"
   ]
  },
  {
   "cell_type": "code",
   "execution_count": 119,
   "metadata": {
    "ExecuteTime": {
     "end_time": "2020-04-20T20:09:57.903442Z",
     "start_time": "2020-04-20T20:09:57.899453Z"
    }
   },
   "outputs": [
    {
     "data": {
      "text/plain": [
       "array([[ 0.52106591, -0.26934744,  0.5804131 ,  0.56485654],\n",
       "       [ 0.37741762,  0.92329566,  0.02449161,  0.06694199]])"
      ]
     },
     "execution_count": 119,
     "metadata": {},
     "output_type": "execute_result"
    }
   ],
   "source": [
    "pca.components_"
   ]
  },
  {
   "cell_type": "markdown",
   "metadata": {},
   "source": [
    "### 3D"
   ]
  },
  {
   "cell_type": "code",
   "execution_count": 120,
   "metadata": {
    "ExecuteTime": {
     "end_time": "2020-04-20T20:10:20.264358Z",
     "start_time": "2020-04-20T20:10:20.148668Z"
    }
   },
   "outputs": [
    {
     "data": {
      "image/png": "[encoded data removed]",
      "text/plain": [
       "<Figure size 864x576 with 1 Axes>"
      ]
     },
     "metadata": {},
     "output_type": "display_data"
    }
   ],
   "source": [
    "pca = PCA(3)\n",
    "pca.fit(X_std)\n",
    "\n",
    "pc1 = pca.transform(X_std)[:,0]\n",
    "pc2 = pca.transform(X_std)[:,1]\n",
    "pc3 = pca.transform(X_std)[:,2]\n",
    "\n",
    "from mpl_toolkits.mplot3d import Axes3D\n",
    "\n",
    "plt.figure(figsize=(12,8))\n",
    "ax = plt.axes(projection='3d',)\n",
    "ax.scatter3D(pc1, pc2, pc3, c=y, cmap='rainbow');\n"
   ]
  },
  {
   "cell_type": "markdown",
   "metadata": {
    "colab_type": "text",
    "id": "ToCJKm4wSNLr"
   },
   "source": [
    "## PCA for visualization: Hand-written digits\n",
    "\n",
    "The usefulness of the dimensionality reduction may not be entirely apparent in only two dimensions, but becomes much more clear when looking at high-dimensional data. "
   ]
  },
  {
   "cell_type": "code",
   "execution_count": 121,
   "metadata": {
    "ExecuteTime": {
     "end_time": "2020-04-20T20:11:17.874138Z",
     "start_time": "2020-04-20T20:11:17.810313Z"
    },
    "colab": {},
    "colab_type": "code",
    "id": "EALOUOFnSNLs",
    "outputId": "083bde56-75ec-4149-c8ac-4c7fabaa442a"
   },
   "outputs": [
    {
     "data": {
      "text/plain": [
       "(1797, 64)"
      ]
     },
     "execution_count": 121,
     "metadata": {},
     "output_type": "execute_result"
    }
   ],
   "source": [
    "from sklearn.datasets import load_digits\n",
    "digits = load_digits()\n",
    "digits.data.shape"
   ]
  },
  {
   "cell_type": "code",
   "execution_count": 123,
   "metadata": {
    "ExecuteTime": {
     "end_time": "2020-04-20T20:11:46.234054Z",
     "start_time": "2020-04-20T20:11:46.208095Z"
    }
   },
   "outputs": [
    {
     "data": {
      "application/javascript": [
       "\n",
       "        if (window._pyforest_update_imports_cell) { window._pyforest_update_imports_cell('import pandas as pd'); }\n",
       "    "
      ],
      "text/plain": [
       "<IPython.core.display.Javascript object>"
      ]
     },
     "metadata": {},
     "output_type": "display_data"
    },
    {
     "data": {
      "text/html": [
       "<div>\n",
       "<style scoped>\n",
       "    .dataframe tbody tr th:only-of-type {\n",
       "        vertical-align: middle;\n",
       "    }\n",
       "\n",
       "    .dataframe tbody tr th {\n",
       "        vertical-align: top;\n",
       "    }\n",
       "\n",
       "    .dataframe thead th {\n",
       "        text-align: right;\n",
       "    }\n",
       "</style>\n",
       "<table border=\"1\" class=\"dataframe\">\n",
       "  <thead>\n",
       "    <tr style=\"text-align: right;\">\n",
       "      <th></th>\n",
       "      <th>pixel_0</th>\n",
       "      <th>pixel_1</th>\n",
       "      <th>pixel_2</th>\n",
       "      <th>pixel_3</th>\n",
       "      <th>pixel_4</th>\n",
       "      <th>pixel_5</th>\n",
       "      <th>pixel_6</th>\n",
       "      <th>pixel_7</th>\n",
       "      <th>pixel_8</th>\n",
       "      <th>pixel_9</th>\n",
       "      <th>...</th>\n",
       "      <th>pixel_54</th>\n",
       "      <th>pixel_55</th>\n",
       "      <th>pixel_56</th>\n",
       "      <th>pixel_57</th>\n",
       "      <th>pixel_58</th>\n",
       "      <th>pixel_59</th>\n",
       "      <th>pixel_60</th>\n",
       "      <th>pixel_61</th>\n",
       "      <th>pixel_62</th>\n",
       "      <th>pixel_63</th>\n",
       "    </tr>\n",
       "  </thead>\n",
       "  <tbody>\n",
       "    <tr>\n",
       "      <th>0</th>\n",
       "      <td>0.0</td>\n",
       "      <td>0.0</td>\n",
       "      <td>5.0</td>\n",
       "      <td>13.0</td>\n",
       "      <td>9.0</td>\n",
       "      <td>1.0</td>\n",
       "      <td>0.0</td>\n",
       "      <td>0.0</td>\n",
       "      <td>0.0</td>\n",
       "      <td>0.0</td>\n",
       "      <td>...</td>\n",
       "      <td>0.0</td>\n",
       "      <td>0.0</td>\n",
       "      <td>0.0</td>\n",
       "      <td>0.0</td>\n",
       "      <td>6.0</td>\n",
       "      <td>13.0</td>\n",
       "      <td>10.0</td>\n",
       "      <td>0.0</td>\n",
       "      <td>0.0</td>\n",
       "      <td>0.0</td>\n",
       "    </tr>\n",
       "    <tr>\n",
       "      <th>1</th>\n",
       "      <td>0.0</td>\n",
       "      <td>0.0</td>\n",
       "      <td>0.0</td>\n",
       "      <td>12.0</td>\n",
       "      <td>13.0</td>\n",
       "      <td>5.0</td>\n",
       "      <td>0.0</td>\n",
       "      <td>0.0</td>\n",
       "      <td>0.0</td>\n",
       "      <td>0.0</td>\n",
       "      <td>...</td>\n",
       "      <td>0.0</td>\n",
       "      <td>0.0</td>\n",
       "      <td>0.0</td>\n",
       "      <td>0.0</td>\n",
       "      <td>0.0</td>\n",
       "      <td>11.0</td>\n",
       "      <td>16.0</td>\n",
       "      <td>10.0</td>\n",
       "      <td>0.0</td>\n",
       "      <td>0.0</td>\n",
       "    </tr>\n",
       "    <tr>\n",
       "      <th>2</th>\n",
       "      <td>0.0</td>\n",
       "      <td>0.0</td>\n",
       "      <td>0.0</td>\n",
       "      <td>4.0</td>\n",
       "      <td>15.0</td>\n",
       "      <td>12.0</td>\n",
       "      <td>0.0</td>\n",
       "      <td>0.0</td>\n",
       "      <td>0.0</td>\n",
       "      <td>0.0</td>\n",
       "      <td>...</td>\n",
       "      <td>5.0</td>\n",
       "      <td>0.0</td>\n",
       "      <td>0.0</td>\n",
       "      <td>0.0</td>\n",
       "      <td>0.0</td>\n",
       "      <td>3.0</td>\n",
       "      <td>11.0</td>\n",
       "      <td>16.0</td>\n",
       "      <td>9.0</td>\n",
       "      <td>0.0</td>\n",
       "    </tr>\n",
       "    <tr>\n",
       "      <th>3</th>\n",
       "      <td>0.0</td>\n",
       "      <td>0.0</td>\n",
       "      <td>7.0</td>\n",
       "      <td>15.0</td>\n",
       "      <td>13.0</td>\n",
       "      <td>1.0</td>\n",
       "      <td>0.0</td>\n",
       "      <td>0.0</td>\n",
       "      <td>0.0</td>\n",
       "      <td>8.0</td>\n",
       "      <td>...</td>\n",
       "      <td>9.0</td>\n",
       "      <td>0.0</td>\n",
       "      <td>0.0</td>\n",
       "      <td>0.0</td>\n",
       "      <td>7.0</td>\n",
       "      <td>13.0</td>\n",
       "      <td>13.0</td>\n",
       "      <td>9.0</td>\n",
       "      <td>0.0</td>\n",
       "      <td>0.0</td>\n",
       "    </tr>\n",
       "    <tr>\n",
       "      <th>4</th>\n",
       "      <td>0.0</td>\n",
       "      <td>0.0</td>\n",
       "      <td>0.0</td>\n",
       "      <td>1.0</td>\n",
       "      <td>11.0</td>\n",
       "      <td>0.0</td>\n",
       "      <td>0.0</td>\n",
       "      <td>0.0</td>\n",
       "      <td>0.0</td>\n",
       "      <td>0.0</td>\n",
       "      <td>...</td>\n",
       "      <td>0.0</td>\n",
       "      <td>0.0</td>\n",
       "      <td>0.0</td>\n",
       "      <td>0.0</td>\n",
       "      <td>0.0</td>\n",
       "      <td>2.0</td>\n",
       "      <td>16.0</td>\n",
       "      <td>4.0</td>\n",
       "      <td>0.0</td>\n",
       "      <td>0.0</td>\n",
       "    </tr>\n",
       "    <tr>\n",
       "      <th>...</th>\n",
       "      <td>...</td>\n",
       "      <td>...</td>\n",
       "      <td>...</td>\n",
       "      <td>...</td>\n",
       "      <td>...</td>\n",
       "      <td>...</td>\n",
       "      <td>...</td>\n",
       "      <td>...</td>\n",
       "      <td>...</td>\n",
       "      <td>...</td>\n",
       "      <td>...</td>\n",
       "      <td>...</td>\n",
       "      <td>...</td>\n",
       "      <td>...</td>\n",
       "      <td>...</td>\n",
       "      <td>...</td>\n",
       "      <td>...</td>\n",
       "      <td>...</td>\n",
       "      <td>...</td>\n",
       "      <td>...</td>\n",
       "      <td>...</td>\n",
       "    </tr>\n",
       "    <tr>\n",
       "      <th>1792</th>\n",
       "      <td>0.0</td>\n",
       "      <td>0.0</td>\n",
       "      <td>4.0</td>\n",
       "      <td>10.0</td>\n",
       "      <td>13.0</td>\n",
       "      <td>6.0</td>\n",
       "      <td>0.0</td>\n",
       "      <td>0.0</td>\n",
       "      <td>0.0</td>\n",
       "      <td>1.0</td>\n",
       "      <td>...</td>\n",
       "      <td>4.0</td>\n",
       "      <td>0.0</td>\n",
       "      <td>0.0</td>\n",
       "      <td>0.0</td>\n",
       "      <td>2.0</td>\n",
       "      <td>14.0</td>\n",
       "      <td>15.0</td>\n",
       "      <td>9.0</td>\n",
       "      <td>0.0</td>\n",
       "      <td>0.0</td>\n",
       "    </tr>\n",
       "    <tr>\n",
       "      <th>1793</th>\n",
       "      <td>0.0</td>\n",
       "      <td>0.0</td>\n",
       "      <td>6.0</td>\n",
       "      <td>16.0</td>\n",
       "      <td>13.0</td>\n",
       "      <td>11.0</td>\n",
       "      <td>1.0</td>\n",
       "      <td>0.0</td>\n",
       "      <td>0.0</td>\n",
       "      <td>0.0</td>\n",
       "      <td>...</td>\n",
       "      <td>1.0</td>\n",
       "      <td>0.0</td>\n",
       "      <td>0.0</td>\n",
       "      <td>0.0</td>\n",
       "      <td>6.0</td>\n",
       "      <td>16.0</td>\n",
       "      <td>14.0</td>\n",
       "      <td>6.0</td>\n",
       "      <td>0.0</td>\n",
       "      <td>0.0</td>\n",
       "    </tr>\n",
       "    <tr>\n",
       "      <th>1794</th>\n",
       "      <td>0.0</td>\n",
       "      <td>0.0</td>\n",
       "      <td>1.0</td>\n",
       "      <td>11.0</td>\n",
       "      <td>15.0</td>\n",
       "      <td>1.0</td>\n",
       "      <td>0.0</td>\n",
       "      <td>0.0</td>\n",
       "      <td>0.0</td>\n",
       "      <td>0.0</td>\n",
       "      <td>...</td>\n",
       "      <td>0.0</td>\n",
       "      <td>0.0</td>\n",
       "      <td>0.0</td>\n",
       "      <td>0.0</td>\n",
       "      <td>2.0</td>\n",
       "      <td>9.0</td>\n",
       "      <td>13.0</td>\n",
       "      <td>6.0</td>\n",
       "      <td>0.0</td>\n",
       "      <td>0.0</td>\n",
       "    </tr>\n",
       "    <tr>\n",
       "      <th>1795</th>\n",
       "      <td>0.0</td>\n",
       "      <td>0.0</td>\n",
       "      <td>2.0</td>\n",
       "      <td>10.0</td>\n",
       "      <td>7.0</td>\n",
       "      <td>0.0</td>\n",
       "      <td>0.0</td>\n",
       "      <td>0.0</td>\n",
       "      <td>0.0</td>\n",
       "      <td>0.0</td>\n",
       "      <td>...</td>\n",
       "      <td>2.0</td>\n",
       "      <td>0.0</td>\n",
       "      <td>0.0</td>\n",
       "      <td>0.0</td>\n",
       "      <td>5.0</td>\n",
       "      <td>12.0</td>\n",
       "      <td>16.0</td>\n",
       "      <td>12.0</td>\n",
       "      <td>0.0</td>\n",
       "      <td>0.0</td>\n",
       "    </tr>\n",
       "    <tr>\n",
       "      <th>1796</th>\n",
       "      <td>0.0</td>\n",
       "      <td>0.0</td>\n",
       "      <td>10.0</td>\n",
       "      <td>14.0</td>\n",
       "      <td>8.0</td>\n",
       "      <td>1.0</td>\n",
       "      <td>0.0</td>\n",
       "      <td>0.0</td>\n",
       "      <td>0.0</td>\n",
       "      <td>2.0</td>\n",
       "      <td>...</td>\n",
       "      <td>8.0</td>\n",
       "      <td>0.0</td>\n",
       "      <td>0.0</td>\n",
       "      <td>1.0</td>\n",
       "      <td>8.0</td>\n",
       "      <td>12.0</td>\n",
       "      <td>14.0</td>\n",
       "      <td>12.0</td>\n",
       "      <td>1.0</td>\n",
       "      <td>0.0</td>\n",
       "    </tr>\n",
       "  </tbody>\n",
       "</table>\n",
       "<p>1797 rows × 64 columns</p>\n",
       "</div>"
      ],
      "text/plain": [
       "      pixel_0  pixel_1  pixel_2  pixel_3  pixel_4  pixel_5  pixel_6  pixel_7  \\\n",
       "0         0.0      0.0      5.0     13.0      9.0      1.0      0.0      0.0   \n",
       "1         0.0      0.0      0.0     12.0     13.0      5.0      0.0      0.0   \n",
       "2         0.0      0.0      0.0      4.0     15.0     12.0      0.0      0.0   \n",
       "3         0.0      0.0      7.0     15.0     13.0      1.0      0.0      0.0   \n",
       "4         0.0      0.0      0.0      1.0     11.0      0.0      0.0      0.0   \n",
       "...       ...      ...      ...      ...      ...      ...      ...      ...   \n",
       "1792      0.0      0.0      4.0     10.0     13.0      6.0      0.0      0.0   \n",
       "1793      0.0      0.0      6.0     16.0     13.0     11.0      1.0      0.0   \n",
       "1794      0.0      0.0      1.0     11.0     15.0      1.0      0.0      0.0   \n",
       "1795      0.0      0.0      2.0     10.0      7.0      0.0      0.0      0.0   \n",
       "1796      0.0      0.0     10.0     14.0      8.0      1.0      0.0      0.0   \n",
       "\n",
       "      pixel_8  pixel_9  ...  pixel_54  pixel_55  pixel_56  pixel_57  pixel_58  \\\n",
       "0         0.0      0.0  ...       0.0       0.0       0.0       0.0       6.0   \n",
       "1         0.0      0.0  ...       0.0       0.0       0.0       0.0       0.0   \n",
       "2         0.0      0.0  ...       5.0       0.0       0.0       0.0       0.0   \n",
       "3         0.0      8.0  ...       9.0       0.0       0.0       0.0       7.0   \n",
       "4         0.0      0.0  ...       0.0       0.0       0.0       0.0       0.0   \n",
       "...       ...      ...  ...       ...       ...       ...       ...       ...   \n",
       "1792      0.0      1.0  ...       4.0       0.0       0.0       0.0       2.0   \n",
       "1793      0.0      0.0  ...       1.0       0.0       0.0       0.0       6.0   \n",
       "1794      0.0      0.0  ...       0.0       0.0       0.0       0.0       2.0   \n",
       "1795      0.0      0.0  ...       2.0       0.0       0.0       0.0       5.0   \n",
       "1796      0.0      2.0  ...       8.0       0.0       0.0       1.0       8.0   \n",
       "\n",
       "      pixel_59  pixel_60  pixel_61  pixel_62  pixel_63  \n",
       "0         13.0      10.0       0.0       0.0       0.0  \n",
       "1         11.0      16.0      10.0       0.0       0.0  \n",
       "2          3.0      11.0      16.0       9.0       0.0  \n",
       "3         13.0      13.0       9.0       0.0       0.0  \n",
       "4          2.0      16.0       4.0       0.0       0.0  \n",
       "...        ...       ...       ...       ...       ...  \n",
       "1792      14.0      15.0       9.0       0.0       0.0  \n",
       "1793      16.0      14.0       6.0       0.0       0.0  \n",
       "1794       9.0      13.0       6.0       0.0       0.0  \n",
       "1795      12.0      16.0      12.0       0.0       0.0  \n",
       "1796      12.0      14.0      12.0       1.0       0.0  \n",
       "\n",
       "[1797 rows x 64 columns]"
      ]
     },
     "execution_count": 123,
     "metadata": {},
     "output_type": "execute_result"
    }
   ],
   "source": [
    "pd.DataFrame(digits.data, columns=[f'pixel_{i}' for i in range(64)])"
   ]
  },
  {
   "cell_type": "code",
   "execution_count": 128,
   "metadata": {
    "ExecuteTime": {
     "end_time": "2020-04-20T20:17:28.631626Z",
     "start_time": "2020-04-20T20:17:28.627615Z"
    }
   },
   "outputs": [
    {
     "data": {
      "text/plain": [
       "array([[ 0.,  0.,  5., 13.,  9.,  1.,  0.,  0.],\n",
       "       [ 0.,  0., 13., 15., 10., 15.,  5.,  0.],\n",
       "       [ 0.,  3., 15.,  2.,  0., 11.,  8.,  0.],\n",
       "       [ 0.,  4., 12.,  0.,  0.,  8.,  8.,  0.],\n",
       "       [ 0.,  5.,  8.,  0.,  0.,  9.,  8.,  0.],\n",
       "       [ 0.,  4., 11.,  0.,  1., 12.,  7.,  0.],\n",
       "       [ 0.,  2., 14.,  5., 10., 12.,  0.,  0.],\n",
       "       [ 0.,  0.,  6., 13., 10.,  0.,  0.,  0.]])"
      ]
     },
     "execution_count": 128,
     "metadata": {},
     "output_type": "execute_result"
    }
   ],
   "source": [
    "digits.data[0, :].reshape(8,8)"
   ]
  },
  {
   "cell_type": "code",
   "execution_count": 137,
   "metadata": {
    "ExecuteTime": {
     "end_time": "2020-04-20T20:19:30.973898Z",
     "start_time": "2020-04-20T20:19:30.968882Z"
    }
   },
   "outputs": [
    {
     "data": {
      "text/plain": [
       "array([[ 0.,  0.,  0.,  0., 12., 13.,  1.,  0.],\n",
       "       [ 0.,  0.,  0.,  8., 16., 15.,  2.,  0.],\n",
       "       [ 0.,  0., 10., 16., 16., 12.,  0.,  0.],\n",
       "       [ 0.,  4., 16., 16., 16., 13.,  0.,  0.],\n",
       "       [ 0.,  4.,  7.,  4., 16.,  6.,  0.,  0.],\n",
       "       [ 0.,  0.,  0.,  1., 16.,  8.,  0.,  0.],\n",
       "       [ 0.,  0.,  0.,  1., 16.,  8.,  0.,  0.],\n",
       "       [ 0.,  0.,  0.,  0., 12., 12.,  0.,  0.]])"
      ]
     },
     "execution_count": 137,
     "metadata": {},
     "output_type": "execute_result"
    }
   ],
   "source": [
    "digits.data[56, :].reshape(8,8)"
   ]
  },
  {
   "cell_type": "code",
   "execution_count": 136,
   "metadata": {
    "ExecuteTime": {
     "end_time": "2020-04-20T20:19:25.300545Z",
     "start_time": "2020-04-20T20:19:25.189814Z"
    }
   },
   "outputs": [
    {
     "data": {
      "text/plain": [
       "<matplotlib.image.AxesImage at 0x1c941ff1b70>"
      ]
     },
     "execution_count": 136,
     "metadata": {},
     "output_type": "execute_result"
    },
    {
     "data": {
      "image/png": "[encoded data removed]",
      "text/plain": [
       "<Figure size 576x396 with 1 Axes>"
      ]
     },
     "metadata": {},
     "output_type": "display_data"
    }
   ],
   "source": [
    "plt.imshow(digits.data[56, :].reshape(8,8))"
   ]
  },
  {
   "cell_type": "code",
   "execution_count": 144,
   "metadata": {
    "ExecuteTime": {
     "end_time": "2020-04-20T20:21:19.261217Z",
     "start_time": "2020-04-20T20:21:19.152508Z"
    }
   },
   "outputs": [
    {
     "data": {
      "text/plain": [
       "<matplotlib.image.AxesImage at 0x1c94329a780>"
      ]
     },
     "execution_count": 144,
     "metadata": {},
     "output_type": "execute_result"
    },
    {
     "data": {
      "image/png": "[encoded data removed]",
      "text/plain": [
       "<Figure size 576x396 with 1 Axes>"
      ]
     },
     "metadata": {},
     "output_type": "display_data"
    }
   ],
   "source": [
    "import matplotlib.pyplot as plt\n",
    "\n",
    "plt.imshow(np.array(digits.data[123].reshape(8,8)), cmap='Blues')"
   ]
  },
  {
   "cell_type": "code",
   "execution_count": 145,
   "metadata": {
    "ExecuteTime": {
     "end_time": "2020-04-20T20:21:21.386295Z",
     "start_time": "2020-04-20T20:21:21.382307Z"
    }
   },
   "outputs": [
    {
     "data": {
      "text/plain": [
       "8"
      ]
     },
     "execution_count": 145,
     "metadata": {},
     "output_type": "execute_result"
    }
   ],
   "source": [
    "digits.target[123]"
   ]
  },
  {
   "cell_type": "code",
   "execution_count": 146,
   "metadata": {
    "ExecuteTime": {
     "end_time": "2020-04-20T20:21:37.720322Z",
     "start_time": "2020-04-20T20:21:37.700348Z"
    }
   },
   "outputs": [
    {
     "data": {
      "application/javascript": [
       "\n",
       "        if (window._pyforest_update_imports_cell) { window._pyforest_update_imports_cell('import pandas as pd'); }\n",
       "    "
      ],
      "text/plain": [
       "<IPython.core.display.Javascript object>"
      ]
     },
     "metadata": {},
     "output_type": "display_data"
    },
    {
     "data": {
      "text/html": [
       "<div>\n",
       "<style scoped>\n",
       "    .dataframe tbody tr th:only-of-type {\n",
       "        vertical-align: middle;\n",
       "    }\n",
       "\n",
       "    .dataframe tbody tr th {\n",
       "        vertical-align: top;\n",
       "    }\n",
       "\n",
       "    .dataframe thead th {\n",
       "        text-align: right;\n",
       "    }\n",
       "</style>\n",
       "<table border=\"1\" class=\"dataframe\">\n",
       "  <thead>\n",
       "    <tr style=\"text-align: right;\">\n",
       "      <th></th>\n",
       "      <th>pixel_0</th>\n",
       "      <th>pixel_1</th>\n",
       "      <th>pixel_2</th>\n",
       "      <th>pixel_3</th>\n",
       "      <th>pixel_4</th>\n",
       "      <th>pixel_5</th>\n",
       "      <th>pixel_6</th>\n",
       "      <th>pixel_7</th>\n",
       "      <th>pixel_8</th>\n",
       "      <th>pixel_9</th>\n",
       "      <th>...</th>\n",
       "      <th>pixel_54</th>\n",
       "      <th>pixel_55</th>\n",
       "      <th>pixel_56</th>\n",
       "      <th>pixel_57</th>\n",
       "      <th>pixel_58</th>\n",
       "      <th>pixel_59</th>\n",
       "      <th>pixel_60</th>\n",
       "      <th>pixel_61</th>\n",
       "      <th>pixel_62</th>\n",
       "      <th>pixel_63</th>\n",
       "    </tr>\n",
       "  </thead>\n",
       "  <tbody>\n",
       "    <tr>\n",
       "      <th>0</th>\n",
       "      <td>0.0</td>\n",
       "      <td>0.0</td>\n",
       "      <td>5.0</td>\n",
       "      <td>13.0</td>\n",
       "      <td>9.0</td>\n",
       "      <td>1.0</td>\n",
       "      <td>0.0</td>\n",
       "      <td>0.0</td>\n",
       "      <td>0.0</td>\n",
       "      <td>0.0</td>\n",
       "      <td>...</td>\n",
       "      <td>0.0</td>\n",
       "      <td>0.0</td>\n",
       "      <td>0.0</td>\n",
       "      <td>0.0</td>\n",
       "      <td>6.0</td>\n",
       "      <td>13.0</td>\n",
       "      <td>10.0</td>\n",
       "      <td>0.0</td>\n",
       "      <td>0.0</td>\n",
       "      <td>0.0</td>\n",
       "    </tr>\n",
       "    <tr>\n",
       "      <th>1</th>\n",
       "      <td>0.0</td>\n",
       "      <td>0.0</td>\n",
       "      <td>0.0</td>\n",
       "      <td>12.0</td>\n",
       "      <td>13.0</td>\n",
       "      <td>5.0</td>\n",
       "      <td>0.0</td>\n",
       "      <td>0.0</td>\n",
       "      <td>0.0</td>\n",
       "      <td>0.0</td>\n",
       "      <td>...</td>\n",
       "      <td>0.0</td>\n",
       "      <td>0.0</td>\n",
       "      <td>0.0</td>\n",
       "      <td>0.0</td>\n",
       "      <td>0.0</td>\n",
       "      <td>11.0</td>\n",
       "      <td>16.0</td>\n",
       "      <td>10.0</td>\n",
       "      <td>0.0</td>\n",
       "      <td>0.0</td>\n",
       "    </tr>\n",
       "    <tr>\n",
       "      <th>2</th>\n",
       "      <td>0.0</td>\n",
       "      <td>0.0</td>\n",
       "      <td>0.0</td>\n",
       "      <td>4.0</td>\n",
       "      <td>15.0</td>\n",
       "      <td>12.0</td>\n",
       "      <td>0.0</td>\n",
       "      <td>0.0</td>\n",
       "      <td>0.0</td>\n",
       "      <td>0.0</td>\n",
       "      <td>...</td>\n",
       "      <td>5.0</td>\n",
       "      <td>0.0</td>\n",
       "      <td>0.0</td>\n",
       "      <td>0.0</td>\n",
       "      <td>0.0</td>\n",
       "      <td>3.0</td>\n",
       "      <td>11.0</td>\n",
       "      <td>16.0</td>\n",
       "      <td>9.0</td>\n",
       "      <td>0.0</td>\n",
       "    </tr>\n",
       "    <tr>\n",
       "      <th>3</th>\n",
       "      <td>0.0</td>\n",
       "      <td>0.0</td>\n",
       "      <td>7.0</td>\n",
       "      <td>15.0</td>\n",
       "      <td>13.0</td>\n",
       "      <td>1.0</td>\n",
       "      <td>0.0</td>\n",
       "      <td>0.0</td>\n",
       "      <td>0.0</td>\n",
       "      <td>8.0</td>\n",
       "      <td>...</td>\n",
       "      <td>9.0</td>\n",
       "      <td>0.0</td>\n",
       "      <td>0.0</td>\n",
       "      <td>0.0</td>\n",
       "      <td>7.0</td>\n",
       "      <td>13.0</td>\n",
       "      <td>13.0</td>\n",
       "      <td>9.0</td>\n",
       "      <td>0.0</td>\n",
       "      <td>0.0</td>\n",
       "    </tr>\n",
       "    <tr>\n",
       "      <th>4</th>\n",
       "      <td>0.0</td>\n",
       "      <td>0.0</td>\n",
       "      <td>0.0</td>\n",
       "      <td>1.0</td>\n",
       "      <td>11.0</td>\n",
       "      <td>0.0</td>\n",
       "      <td>0.0</td>\n",
       "      <td>0.0</td>\n",
       "      <td>0.0</td>\n",
       "      <td>0.0</td>\n",
       "      <td>...</td>\n",
       "      <td>0.0</td>\n",
       "      <td>0.0</td>\n",
       "      <td>0.0</td>\n",
       "      <td>0.0</td>\n",
       "      <td>0.0</td>\n",
       "      <td>2.0</td>\n",
       "      <td>16.0</td>\n",
       "      <td>4.0</td>\n",
       "      <td>0.0</td>\n",
       "      <td>0.0</td>\n",
       "    </tr>\n",
       "  </tbody>\n",
       "</table>\n",
       "<p>5 rows × 64 columns</p>\n",
       "</div>"
      ],
      "text/plain": [
       "   pixel_0  pixel_1  pixel_2  pixel_3  pixel_4  pixel_5  pixel_6  pixel_7  \\\n",
       "0      0.0      0.0      5.0     13.0      9.0      1.0      0.0      0.0   \n",
       "1      0.0      0.0      0.0     12.0     13.0      5.0      0.0      0.0   \n",
       "2      0.0      0.0      0.0      4.0     15.0     12.0      0.0      0.0   \n",
       "3      0.0      0.0      7.0     15.0     13.0      1.0      0.0      0.0   \n",
       "4      0.0      0.0      0.0      1.0     11.0      0.0      0.0      0.0   \n",
       "\n",
       "   pixel_8  pixel_9  ...  pixel_54  pixel_55  pixel_56  pixel_57  pixel_58  \\\n",
       "0      0.0      0.0  ...       0.0       0.0       0.0       0.0       6.0   \n",
       "1      0.0      0.0  ...       0.0       0.0       0.0       0.0       0.0   \n",
       "2      0.0      0.0  ...       5.0       0.0       0.0       0.0       0.0   \n",
       "3      0.0      8.0  ...       9.0       0.0       0.0       0.0       7.0   \n",
       "4      0.0      0.0  ...       0.0       0.0       0.0       0.0       0.0   \n",
       "\n",
       "   pixel_59  pixel_60  pixel_61  pixel_62  pixel_63  \n",
       "0      13.0      10.0       0.0       0.0       0.0  \n",
       "1      11.0      16.0      10.0       0.0       0.0  \n",
       "2       3.0      11.0      16.0       9.0       0.0  \n",
       "3      13.0      13.0       9.0       0.0       0.0  \n",
       "4       2.0      16.0       4.0       0.0       0.0  \n",
       "\n",
       "[5 rows x 64 columns]"
      ]
     },
     "execution_count": 146,
     "metadata": {},
     "output_type": "execute_result"
    }
   ],
   "source": [
    "X = pd.DataFrame(digits.data, columns=[f'pixel_{i}' for i in range(64)])\n",
    "X.head()"
   ]
  },
  {
   "cell_type": "markdown",
   "metadata": {
    "colab_type": "text",
    "id": "0MtBPgjYSNLv"
   },
   "source": [
    "Recall that the data consists of 8×8 pixel images, meaning that they are 64-dimensional.\n",
    "To gain some intuition into the relationships between these points, we can use PCA to project them to a more manageable number of dimensions, say two:"
   ]
  },
  {
   "cell_type": "code",
   "execution_count": 147,
   "metadata": {
    "ExecuteTime": {
     "end_time": "2020-04-20T20:22:34.857965Z",
     "start_time": "2020-04-20T20:22:34.839017Z"
    }
   },
   "outputs": [
    {
     "data": {
      "text/plain": [
       "21"
      ]
     },
     "execution_count": 147,
     "metadata": {},
     "output_type": "execute_result"
    }
   ],
   "source": [
    "pca = PCA(0.8) \n",
    "\n",
    "scaler = StandardScaler().fit(X)\n",
    "X_std = scaler.transform(X)\n",
    "\n",
    "pca.fit(X_std)\n",
    "pca.n_components_"
   ]
  },
  {
   "cell_type": "code",
   "execution_count": 149,
   "metadata": {
    "ExecuteTime": {
     "end_time": "2020-04-20T20:22:58.638681Z",
     "start_time": "2020-04-20T20:22:58.634692Z"
    }
   },
   "outputs": [
    {
     "data": {
      "text/plain": [
       "0.8066173226822602"
      ]
     },
     "execution_count": 149,
     "metadata": {},
     "output_type": "execute_result"
    }
   ],
   "source": [
    "pca.explained_variance_ratio_.sum()"
   ]
  },
  {
   "cell_type": "code",
   "execution_count": 158,
   "metadata": {
    "ExecuteTime": {
     "end_time": "2020-04-20T20:25:15.510575Z",
     "start_time": "2020-04-20T20:25:15.497607Z"
    }
   },
   "outputs": [
    {
     "data": {
      "text/plain": [
       "2"
      ]
     },
     "execution_count": 158,
     "metadata": {},
     "output_type": "execute_result"
    }
   ],
   "source": [
    "pca = PCA(2) \n",
    "\n",
    "scaler = StandardScaler().fit(X)\n",
    "X_std = scaler.transform(X)\n",
    "\n",
    "pca.fit(X_std)\n",
    "pca.n_components_"
   ]
  },
  {
   "cell_type": "code",
   "execution_count": 159,
   "metadata": {
    "ExecuteTime": {
     "end_time": "2020-04-20T20:25:16.276156Z",
     "start_time": "2020-04-20T20:25:16.273137Z"
    }
   },
   "outputs": [
    {
     "data": {
      "text/plain": [
       "array([0.12033916, 0.09561054])"
      ]
     },
     "execution_count": 159,
     "metadata": {},
     "output_type": "execute_result"
    }
   ],
   "source": [
    "pca.explained_variance_ratio_"
   ]
  },
  {
   "cell_type": "code",
   "execution_count": 160,
   "metadata": {
    "ExecuteTime": {
     "end_time": "2020-04-20T20:25:16.599393Z",
     "start_time": "2020-04-20T20:25:16.595404Z"
    }
   },
   "outputs": [
    {
     "data": {
      "text/plain": [
       "0.21594970488917242"
      ]
     },
     "execution_count": 160,
     "metadata": {},
     "output_type": "execute_result"
    }
   ],
   "source": [
    "pca.explained_variance_ratio_.sum()"
   ]
  },
  {
   "cell_type": "markdown",
   "metadata": {},
   "source": [
    "## Transform from 64 variables to 2 variables"
   ]
  },
  {
   "cell_type": "code",
   "execution_count": 161,
   "metadata": {
    "ExecuteTime": {
     "end_time": "2020-04-20T20:25:17.270702Z",
     "start_time": "2020-04-20T20:25:17.266713Z"
    }
   },
   "outputs": [],
   "source": [
    "pc1 = pca.transform(X_std)[:, 0]\n",
    "pc2 = pca.transform(X_std)[:, 1]"
   ]
  },
  {
   "cell_type": "code",
   "execution_count": 162,
   "metadata": {
    "ExecuteTime": {
     "end_time": "2020-04-20T20:25:18.041646Z",
     "start_time": "2020-04-20T20:25:17.944904Z"
    }
   },
   "outputs": [
    {
     "data": {
      "image/png": "[encoded data removed]",
      "text/plain": [
       "<Figure size 576x396 with 1 Axes>"
      ]
     },
     "metadata": {},
     "output_type": "display_data"
    }
   ],
   "source": [
    "plt.plot(np.cumsum(pca.explained_variance_ratio_), '-o')\n",
    "plt.xlabel('number of components')\n",
    "plt.ylabel('cumulative explained variance');"
   ]
  },
  {
   "cell_type": "code",
   "execution_count": 163,
   "metadata": {
    "ExecuteTime": {
     "end_time": "2020-04-20T20:25:22.045722Z",
     "start_time": "2020-04-20T20:25:22.037744Z"
    }
   },
   "outputs": [
    {
     "data": {
      "text/html": [
       "<div>\n",
       "<style scoped>\n",
       "    .dataframe tbody tr th:only-of-type {\n",
       "        vertical-align: middle;\n",
       "    }\n",
       "\n",
       "    .dataframe tbody tr th {\n",
       "        vertical-align: top;\n",
       "    }\n",
       "\n",
       "    .dataframe thead th {\n",
       "        text-align: right;\n",
       "    }\n",
       "</style>\n",
       "<table border=\"1\" class=\"dataframe\">\n",
       "  <thead>\n",
       "    <tr style=\"text-align: right;\">\n",
       "      <th></th>\n",
       "      <th>pc1</th>\n",
       "      <th>pc2</th>\n",
       "    </tr>\n",
       "  </thead>\n",
       "  <tbody>\n",
       "    <tr>\n",
       "      <th>0</th>\n",
       "      <td>1.914214</td>\n",
       "      <td>-0.954493</td>\n",
       "    </tr>\n",
       "    <tr>\n",
       "      <th>1</th>\n",
       "      <td>0.588980</td>\n",
       "      <td>0.924619</td>\n",
       "    </tr>\n",
       "    <tr>\n",
       "      <th>2</th>\n",
       "      <td>1.302036</td>\n",
       "      <td>-0.317151</td>\n",
       "    </tr>\n",
       "    <tr>\n",
       "      <th>3</th>\n",
       "      <td>-3.020770</td>\n",
       "      <td>-0.868776</td>\n",
       "    </tr>\n",
       "    <tr>\n",
       "      <th>4</th>\n",
       "      <td>4.528948</td>\n",
       "      <td>-1.093449</td>\n",
       "    </tr>\n",
       "  </tbody>\n",
       "</table>\n",
       "</div>"
      ],
      "text/plain": [
       "        pc1       pc2\n",
       "0  1.914214 -0.954493\n",
       "1  0.588980  0.924619\n",
       "2  1.302036 -0.317151\n",
       "3 -3.020770 -0.868776\n",
       "4  4.528948 -1.093449"
      ]
     },
     "execution_count": 163,
     "metadata": {},
     "output_type": "execute_result"
    }
   ],
   "source": [
    "import pandas as pd\n",
    "df = pd.DataFrame({'pc1': pc1, 'pc2':pc2})\n",
    "df.head()"
   ]
  },
  {
   "cell_type": "markdown",
   "metadata": {
    "colab_type": "text",
    "id": "hjXrN2cnSNLz"
   },
   "source": [
    "We can now plot the first two principal components of each point to learn about the data:"
   ]
  },
  {
   "cell_type": "code",
   "execution_count": 164,
   "metadata": {
    "ExecuteTime": {
     "end_time": "2020-04-20T20:25:31.788804Z",
     "start_time": "2020-04-20T20:25:31.676107Z"
    }
   },
   "outputs": [
    {
     "data": {
      "text/plain": [
       "<matplotlib.collections.PathCollection at 0x1c94342c320>"
      ]
     },
     "execution_count": 164,
     "metadata": {},
     "output_type": "execute_result"
    },
    {
     "data": {
      "image/png": "[encoded data removed]",
      "text/plain": [
       "<Figure size 576x396 with 1 Axes>"
      ]
     },
     "metadata": {},
     "output_type": "display_data"
    }
   ],
   "source": [
    "plt.scatter(pc1, pc2)"
   ]
  },
  {
   "cell_type": "code",
   "execution_count": 165,
   "metadata": {
    "ExecuteTime": {
     "end_time": "2020-04-20T20:25:45.446492Z",
     "start_time": "2020-04-20T20:25:45.258376Z"
    }
   },
   "outputs": [
    {
     "data": {
      "text/plain": [
       "<matplotlib.colorbar.Colorbar at 0x1c9434ba668>"
      ]
     },
     "execution_count": 165,
     "metadata": {},
     "output_type": "execute_result"
    },
    {
     "data": {
      "image/png": "[encoded data removed]",
      "text/plain": [
       "<Figure size 576x396 with 2 Axes>"
      ]
     },
     "metadata": {},
     "output_type": "display_data"
    }
   ],
   "source": [
    "plt.scatter(pc1, pc2, c=digits.target, cmap='tab10')\n",
    "plt.colorbar()"
   ]
  },
  {
   "cell_type": "code",
   "execution_count": null,
   "metadata": {},
   "outputs": [],
   "source": []
  },
  {
   "cell_type": "code",
   "execution_count": null,
   "metadata": {},
   "outputs": [],
   "source": []
  },
  {
   "cell_type": "code",
   "execution_count": null,
   "metadata": {},
   "outputs": [],
   "source": []
  },
  {
   "cell_type": "code",
   "execution_count": 166,
   "metadata": {
    "ExecuteTime": {
     "end_time": "2020-04-20T20:28:54.697463Z",
     "start_time": "2020-04-20T20:28:54.510938Z"
    },
    "colab": {},
    "colab_type": "code",
    "id": "cl7Dy8z_SNL0",
    "outputId": "2e33e52b-7e6d-4e87-86f4-5d82fe282a7a"
   },
   "outputs": [
    {
     "data": {
      "image/png": "[encoded data removed]",
      "text/plain": [
       "<Figure size 720x576 with 2 Axes>"
      ]
     },
     "metadata": {},
     "output_type": "display_data"
    }
   ],
   "source": [
    "plt.figure(figsize=(10,8))\n",
    "plt.scatter(df['pc1'], df['pc2'],\n",
    "            c=digits.target, edgecolor='none', alpha=1,\n",
    "            cmap=plt.cm.get_cmap('tab10', 10))\n",
    "plt.xlabel('Principal component 1')\n",
    "plt.ylabel('Principal component 2')\n",
    "plt.colorbar();"
   ]
  },
  {
   "cell_type": "code",
   "execution_count": 168,
   "metadata": {
    "ExecuteTime": {
     "end_time": "2020-04-20T20:29:49.191922Z",
     "start_time": "2020-04-20T20:29:49.187933Z"
    }
   },
   "outputs": [
    {
     "data": {
      "text/plain": [
       "array([ 4.18842329e-18, -1.82234354e-01, -2.85867863e-01, -2.20369426e-01,\n",
       "        2.51691675e-02,  9.49705936e-03,  5.24764099e-02,  6.26948456e-02,\n",
       "       -3.47076342e-02, -2.45534131e-01, -2.29151573e-01,  1.07943718e-01,\n",
       "       -3.62024703e-02, -3.87117353e-02,  8.37806988e-02,  9.27748516e-02,\n",
       "       -1.66991236e-02, -1.36716796e-01,  6.30509572e-02,  1.22879397e-01,\n",
       "       -1.48193496e-01,  2.34842349e-02,  1.71199694e-01,  1.04208318e-01,\n",
       "        3.94924218e-03,  1.16389645e-01,  1.88204884e-01, -6.58599541e-02,\n",
       "       -1.43532321e-01,  1.28207151e-01,  1.80620795e-01,  5.27094235e-02,\n",
       "        0.00000000e+00,  2.38902415e-01,  2.35006063e-01,  5.09135628e-03,\n",
       "        1.31087258e-02,  1.59116140e-01,  1.29394085e-01,  0.00000000e+00,\n",
       "        5.55993236e-02,  1.87157011e-01,  1.53533505e-01,  4.68254830e-02,\n",
       "        1.10892657e-01,  1.07209394e-01, -1.79266929e-02,  2.27269557e-03,\n",
       "        2.88176903e-02, -4.08677782e-02, -1.10270644e-01, -3.18245725e-02,\n",
       "        7.90493170e-02, -6.83216194e-02, -1.21247314e-01, -4.87710819e-02,\n",
       "        1.83598734e-03, -1.60396033e-01, -2.79852915e-01, -1.94448957e-01,\n",
       "       -1.77739198e-02, -1.03198251e-01, -1.19810741e-01, -7.14933922e-02])"
      ]
     },
     "execution_count": 168,
     "metadata": {},
     "output_type": "execute_result"
    }
   ],
   "source": [
    "pca.components_[0]"
   ]
  },
  {
   "cell_type": "code",
   "execution_count": 170,
   "metadata": {
    "ExecuteTime": {
     "end_time": "2020-04-20T20:32:52.775875Z",
     "start_time": "2020-04-20T20:32:52.770889Z"
    }
   },
   "outputs": [
    {
     "data": {
      "text/plain": [
       "array([[ 0.,  0.,  2., 12.,  4.,  0.,  0.,  0.],\n",
       "       [ 0.,  1., 12., 16., 16.,  3.,  0.,  0.],\n",
       "       [ 0.,  7., 16.,  6.,  4., 13.,  0.,  0.],\n",
       "       [ 0.,  8., 16.,  6.,  0., 13.,  5.,  0.],\n",
       "       [ 0.,  1., 16.,  5.,  0.,  7.,  9.,  0.],\n",
       "       [ 0.,  0., 16.,  8.,  0.,  8., 12.,  0.],\n",
       "       [ 0.,  0., 13., 14., 14., 16., 10.,  0.],\n",
       "       [ 0.,  0.,  4., 14., 15.,  7.,  0.,  0.]])"
      ]
     },
     "execution_count": 170,
     "metadata": {},
     "output_type": "execute_result"
    }
   ],
   "source": [
    "np.array(digits.data[150].reshape(8,8))"
   ]
  },
  {
   "cell_type": "markdown",
   "metadata": {
    "colab_type": "text",
    "id": "8OFackEySNL2"
   },
   "source": [
    "Recall what these components mean: the full data is a 64-dimensional point cloud, and these points are the projection of each data point along the directions with the largest variance."
   ]
  },
  {
   "cell_type": "markdown",
   "metadata": {
    "colab_type": "text",
    "id": "GOGWextMSNL9"
   },
   "source": [
    "### Choosing the number of components\n",
    "\n",
    "A vital part of using PCA in practice is the ability to estimate how many components are needed to describe the data.\n",
    "This can be determined by looking at the cumulative *explained variance ratio* as a function of the number of components:"
   ]
  },
  {
   "cell_type": "code",
   "execution_count": 171,
   "metadata": {
    "ExecuteTime": {
     "end_time": "2020-04-20T20:34:09.117808Z",
     "start_time": "2020-04-20T20:34:09.100880Z"
    }
   },
   "outputs": [
    {
     "data": {
      "text/plain": [
       "PCA(copy=True, iterated_power='auto', n_components=0.9, random_state=None,\n",
       "    svd_solver='auto', tol=0.0, whiten=False)"
      ]
     },
     "execution_count": 171,
     "metadata": {},
     "output_type": "execute_result"
    }
   ],
   "source": [
    "pca = PCA(.9)\n",
    "pca.fit(X_std)"
   ]
  },
  {
   "cell_type": "code",
   "execution_count": 172,
   "metadata": {
    "ExecuteTime": {
     "end_time": "2020-04-20T20:34:09.825121Z",
     "start_time": "2020-04-20T20:34:09.821159Z"
    }
   },
   "outputs": [
    {
     "data": {
      "text/plain": [
       "31"
      ]
     },
     "execution_count": 172,
     "metadata": {},
     "output_type": "execute_result"
    }
   ],
   "source": [
    "pca.n_components_"
   ]
  },
  {
   "cell_type": "code",
   "execution_count": 173,
   "metadata": {
    "ExecuteTime": {
     "end_time": "2020-04-20T20:34:10.965021Z",
     "start_time": "2020-04-20T20:34:10.960035Z"
    }
   },
   "outputs": [
    {
     "data": {
      "text/plain": [
       "array([0.12033916, 0.09561054, 0.08444415, 0.06498408, 0.04860155,\n",
       "       0.0421412 , 0.03942083, 0.03389381, 0.02998221, 0.02932003,\n",
       "       0.02781805, 0.02577055, 0.02275303, 0.0222718 , 0.02165229,\n",
       "       0.01914167, 0.01775547, 0.01638069, 0.0159646 , 0.01489191,\n",
       "       0.0134797 , 0.01271931, 0.01165837, 0.01057647, 0.00975316,\n",
       "       0.00944559, 0.00863014, 0.00836643, 0.00797693, 0.00746471,\n",
       "       0.00725582])"
      ]
     },
     "execution_count": 173,
     "metadata": {},
     "output_type": "execute_result"
    }
   ],
   "source": [
    "pca.explained_variance_ratio_"
   ]
  },
  {
   "cell_type": "code",
   "execution_count": 177,
   "metadata": {
    "ExecuteTime": {
     "end_time": "2020-04-20T20:34:43.482431Z",
     "start_time": "2020-04-20T20:34:43.374720Z"
    },
    "colab": {},
    "colab_type": "code",
    "id": "tEWwx0_zSNL-",
    "outputId": "54ad55d6-a403-475a-8b10-f6731bddf7cc"
   },
   "outputs": [
    {
     "data": {
      "image/png": "[encoded data removed]",
      "text/plain": [
       "<Figure size 576x396 with 1 Axes>"
      ]
     },
     "metadata": {},
     "output_type": "display_data"
    }
   ],
   "source": [
    "plt.plot(np.arange(1, pca.n_components_+1), np.cumsum(pca.explained_variance_ratio_), '-o')\n",
    "plt.xlabel('number of components')\n",
    "plt.ylabel('cumulative explained variance');"
   ]
  },
  {
   "cell_type": "markdown",
   "metadata": {
    "colab_type": "text",
    "id": "HIQGsq8gSNMC"
   },
   "source": [
    "## PCA as Noise Filtering\n",
    "\n",
    "PCA can also be used as a filtering approach for noisy data.\n",
    "The idea is this: any components with variance much larger than the effect of the noise should be relatively unaffected by the noise.\n",
    "So if you reconstruct the data using just the largest subset of principal components, you should be preferentially keeping the signal and throwing out the noise.\n",
    "\n",
    "Let's see how this looks with the digits data.\n",
    "First we will plot several of the input noise-free data:"
   ]
  },
  {
   "cell_type": "code",
   "execution_count": 178,
   "metadata": {
    "ExecuteTime": {
     "end_time": "2020-04-20T20:36:27.003326Z",
     "start_time": "2020-04-20T20:36:26.156982Z"
    },
    "colab": {},
    "colab_type": "code",
    "id": "Pk4tmRAtSNMF",
    "outputId": "65677952-16be-49de-a9c4-cf2af93792ee"
   },
   "outputs": [
    {
     "data": {
      "image/png": "[encoded data removed]",
      "text/plain": [
       "<Figure size 720x288 with 40 Axes>"
      ]
     },
     "metadata": {},
     "output_type": "display_data"
    }
   ],
   "source": [
    "def plot_digits(data):\n",
    "    fig, axes = plt.subplots(4, 10, figsize=(10, 4),\n",
    "                             subplot_kw={'xticks':[], 'yticks':[]},\n",
    "                             gridspec_kw=dict(hspace=0.1, wspace=0.1))\n",
    "    for i, ax in enumerate(axes.flat):\n",
    "        ax.imshow(data[i].reshape(8, 8),\n",
    "                  cmap='binary', interpolation='nearest',\n",
    "                  clim=(0, 16))\n",
    "plot_digits(digits.data)"
   ]
  },
  {
   "cell_type": "code",
   "execution_count": 180,
   "metadata": {
    "ExecuteTime": {
     "end_time": "2020-04-20T20:37:05.231041Z",
     "start_time": "2020-04-20T20:37:05.227025Z"
    }
   },
   "outputs": [
    {
     "data": {
      "text/plain": [
       "array([[ 0.,  0.,  5., 13.,  9.,  1.,  0.,  0.],\n",
       "       [ 0.,  0., 13., 15., 10., 15.,  5.,  0.],\n",
       "       [ 0.,  3., 15.,  2.,  0., 11.,  8.,  0.],\n",
       "       [ 0.,  4., 12.,  0.,  0.,  8.,  8.,  0.],\n",
       "       [ 0.,  5.,  8.,  0.,  0.,  9.,  8.,  0.],\n",
       "       [ 0.,  4., 11.,  0.,  1., 12.,  7.,  0.],\n",
       "       [ 0.,  2., 14.,  5., 10., 12.,  0.,  0.],\n",
       "       [ 0.,  0.,  6., 13., 10.,  0.,  0.,  0.]])"
      ]
     },
     "execution_count": 180,
     "metadata": {},
     "output_type": "execute_result"
    }
   ],
   "source": [
    "digits.data[0].reshape(8,8)"
   ]
  },
  {
   "cell_type": "markdown",
   "metadata": {
    "colab_type": "text",
    "id": "VNwMQGrmSNMK"
   },
   "source": [
    "Now lets add some random noise to create a noisy dataset, and re-plot it:"
   ]
  },
  {
   "cell_type": "code",
   "execution_count": 230,
   "metadata": {
    "ExecuteTime": {
     "end_time": "2020-04-20T20:39:12.920354Z",
     "start_time": "2020-04-20T20:39:12.916365Z"
    }
   },
   "outputs": [
    {
     "data": {
      "text/plain": [
       "array([ 0.7631326 , 20.61089845])"
      ]
     },
     "execution_count": 230,
     "metadata": {},
     "output_type": "execute_result"
    }
   ],
   "source": [
    "np.random.normal([0, 20])"
   ]
  },
  {
   "cell_type": "code",
   "execution_count": 231,
   "metadata": {
    "ExecuteTime": {
     "end_time": "2020-04-20T20:39:13.756684Z",
     "start_time": "2020-04-20T20:39:13.747676Z"
    }
   },
   "outputs": [
    {
     "data": {
      "text/plain": [
       "array([[ 0.43565175,  0.25057209,  6.90190091, ...,  1.27412283,\n",
       "        -1.00814575, -1.38874282],\n",
       "       [ 0.22033115, -0.44789487,  0.57974892, ..., 12.11453455,\n",
       "        -2.0258726 ,  0.09082556],\n",
       "       [ 0.13747489, -0.92453386, -1.75166994, ..., 14.75520388,\n",
       "        10.04255627,  2.23146219],\n",
       "       ...,\n",
       "       [-0.0568234 ,  0.22705169,  1.65920711, ...,  6.61220077,\n",
       "         0.64281134,  0.18657036],\n",
       "       [-0.29780854,  0.04115721,  1.30830396, ..., 12.07708377,\n",
       "         1.6051868 , -0.55912599],\n",
       "       [ 1.58679575, -0.37843634,  9.9637649 , ..., 10.72427245,\n",
       "         0.73159901, -0.69045453]])"
      ]
     },
     "execution_count": 231,
     "metadata": {},
     "output_type": "execute_result"
    }
   ],
   "source": [
    "np.random.normal(digits.data, 1)"
   ]
  },
  {
   "cell_type": "code",
   "execution_count": 232,
   "metadata": {
    "ExecuteTime": {
     "end_time": "2020-04-20T20:39:14.163786Z",
     "start_time": "2020-04-20T20:39:14.159795Z"
    }
   },
   "outputs": [
    {
     "data": {
      "text/plain": [
       "array([[ 0.,  0.,  5., ...,  0.,  0.,  0.],\n",
       "       [ 0.,  0.,  0., ..., 10.,  0.,  0.],\n",
       "       [ 0.,  0.,  0., ..., 16.,  9.,  0.],\n",
       "       ...,\n",
       "       [ 0.,  0.,  1., ...,  6.,  0.,  0.],\n",
       "       [ 0.,  0.,  2., ..., 12.,  0.,  0.],\n",
       "       [ 0.,  0., 10., ..., 12.,  1.,  0.]])"
      ]
     },
     "execution_count": 232,
     "metadata": {},
     "output_type": "execute_result"
    }
   ],
   "source": [
    "digits.data"
   ]
  },
  {
   "cell_type": "markdown",
   "metadata": {},
   "source": [
    "## Add noise to our data\n",
    "\n",
    "We'll use `np.random.normal` to create random numbers that follow a normal distribution. That is, if the number is 15 for example, we will switch it by a value picked from a normal distribution that has the mean centered at 15, with a standard deviation specified by us."
   ]
  },
  {
   "cell_type": "code",
   "execution_count": 233,
   "metadata": {
    "ExecuteTime": {
     "end_time": "2020-04-20T20:39:16.938187Z",
     "start_time": "2020-04-20T20:39:16.934228Z"
    }
   },
   "outputs": [
    {
     "data": {
      "text/plain": [
       "0.8953306335087202"
      ]
     },
     "execution_count": 233,
     "metadata": {},
     "output_type": "execute_result"
    }
   ],
   "source": [
    "np.random.normal(loc=0)"
   ]
  },
  {
   "cell_type": "code",
   "execution_count": 237,
   "metadata": {
    "ExecuteTime": {
     "end_time": "2020-04-20T20:39:51.981727Z",
     "start_time": "2020-04-20T20:39:51.097636Z"
    }
   },
   "outputs": [
    {
     "data": {
      "image/png": "[encoded data removed]",
      "text/plain": [
       "<Figure size 720x288 with 40 Axes>"
      ]
     },
     "metadata": {},
     "output_type": "display_data"
    }
   ],
   "source": [
    "plot_digits(digits.data)"
   ]
  },
  {
   "cell_type": "code",
   "execution_count": 239,
   "metadata": {
    "ExecuteTime": {
     "end_time": "2020-04-20T20:40:06.392182Z",
     "start_time": "2020-04-20T20:40:05.594381Z"
    },
    "colab": {},
    "colab_type": "code",
    "id": "rM-C7IMaSNMN",
    "outputId": "d9287e75-1005-4986-a49e-879af7f95a01",
    "scrolled": false
   },
   "outputs": [
    {
     "data": {
      "image/png": "[encoded data removed]",
      "text/plain": [
       "<Figure size 720x288 with 40 Axes>"
      ]
     },
     "metadata": {},
     "output_type": "display_data"
    }
   ],
   "source": [
    "np.random.seed(42)\n",
    "noisy = np.random.normal(loc=digits.data, scale=4)\n",
    "plot_digits(noisy)"
   ]
  },
  {
   "cell_type": "markdown",
   "metadata": {
    "colab_type": "text",
    "id": "GJ2dMnRfSNMQ"
   },
   "source": [
    "It's clear by eye that the images are noisy, and contain spurious pixels.\n",
    "Let's train a PCA on the noisy data, requesting that the projection preserve 50% of the variance:"
   ]
  },
  {
   "cell_type": "code",
   "execution_count": 241,
   "metadata": {
    "ExecuteTime": {
     "end_time": "2020-04-20T20:40:30.453929Z",
     "start_time": "2020-04-20T20:40:30.436974Z"
    },
    "colab": {},
    "colab_type": "code",
    "id": "9gvbAAArSNMR",
    "outputId": "981972ce-1250-407f-992d-3087aa03627d"
   },
   "outputs": [
    {
     "data": {
      "text/plain": [
       "12"
      ]
     },
     "execution_count": 241,
     "metadata": {},
     "output_type": "execute_result"
    }
   ],
   "source": [
    "pca = PCA(0.5).fit(noisy)\n",
    "pca.n_components_"
   ]
  },
  {
   "cell_type": "markdown",
   "metadata": {
    "colab_type": "text",
    "id": "TCqU7dwhSNMT"
   },
   "source": [
    "The results show that 12 components are necessary to preserve 50% of the information.\n",
    "\n",
    "Now we compute these components, and then use the inverse of the transform to reconstruct the filtered digits:"
   ]
  },
  {
   "cell_type": "code",
   "execution_count": 244,
   "metadata": {
    "ExecuteTime": {
     "end_time": "2020-04-20T20:41:40.250862Z",
     "start_time": "2020-04-20T20:41:39.474936Z"
    }
   },
   "outputs": [
    {
     "data": {
      "image/png": "[encoded data removed]",
      "text/plain": [
       "<Figure size 720x288 with 40 Axes>"
      ]
     },
     "metadata": {},
     "output_type": "display_data"
    }
   ],
   "source": [
    "plot_digits(noisy)"
   ]
  },
  {
   "cell_type": "code",
   "execution_count": 243,
   "metadata": {
    "ExecuteTime": {
     "end_time": "2020-04-20T20:41:20.191872Z",
     "start_time": "2020-04-20T20:41:19.296236Z"
    },
    "colab": {},
    "colab_type": "code",
    "id": "4ANXcm2gSNMU",
    "outputId": "c2741d43-8178-4526-d000-06f8b653d3eb"
   },
   "outputs": [
    {
     "data": {
      "image/png": "[encoded data removed]",
      "text/plain": [
       "<Figure size 720x288 with 40 Axes>"
      ]
     },
     "metadata": {},
     "output_type": "display_data"
    }
   ],
   "source": [
    "components = pca.transform(noisy)\n",
    "filtered = pca.inverse_transform(components)\n",
    "plot_digits(filtered)"
   ]
  },
  {
   "cell_type": "markdown",
   "metadata": {
    "colab_type": "text",
    "id": "-uTAMJS0SNMW"
   },
   "source": [
    "This signal preserving/noise filtering property makes PCA a very useful feature selection routine—for example, rather than training a classifier on very high-dimensional data, you might instead train the classifier on the lower-dimensional representation, which will automatically serve to filter out random noise in the inputs."
   ]
  }
 ],
 "metadata": {
  "anaconda-cloud": {},
  "colab": {
   "name": "Copy of 05.09-Principal-Component-Analysis.ipynb",
   "provenance": [
    {
     "file_id": "https://github.com/jakevdp/PythonDataScienceHandbook/blob/master/notebooks/05.09-Principal-Component-Analysis.ipynb",
     "timestamp": 1568842246169
    }
   ]
  },
  "kernelspec": {
   "display_name": "Python 3",
   "language": "python",
   "name": "python3"
  },
  "language_info": {
   "codemirror_mode": {
    "name": "ipython",
    "version": 3
   },
   "file_extension": ".py",
   "mimetype": "text/x-python",
   "name": "python",
   "nbconvert_exporter": "python",
   "pygments_lexer": "ipython3",
   "version": "3.7.6"
  },
  "toc": {
   "base_numbering": 1,
   "nav_menu": {},
   "number_sections": true,
   "sideBar": true,
   "skip_h1_title": false,
   "title_cell": "Table of Contents",
   "title_sidebar": "Contents",
   "toc_cell": false,
   "toc_position": {},
   "toc_section_display": true,
   "toc_window_display": true
  },
  "varInspector": {
   "cols": {
    "lenName": 16,
    "lenType": 16,
    "lenVar": 40
   },
   "kernels_config": {
    "python": {
     "delete_cmd_postfix": "",
     "delete_cmd_prefix": "del ",
     "library": "var_list.py",
     "varRefreshCmd": "print(var_dic_list())"
    },
    "r": {
     "delete_cmd_postfix": ") ",
     "delete_cmd_prefix": "rm(",
     "library": "var_list.r",
     "varRefreshCmd": "cat(var_dic_list()) "
    }
   },
   "types_to_exclude": [
    "module",
    "function",
    "builtin_function_or_method",
    "instance",
    "_Feature"
   ],
   "window_display": false
  }
 },
 "nbformat": 4,
 "nbformat_minor": 1
}
