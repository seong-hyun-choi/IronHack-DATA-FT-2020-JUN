{
 "cells": [
  {
   "cell_type": "markdown",
   "metadata": {},
   "source": [
    "# Principal Components Analysis"
   ]
  },
  {
   "cell_type": "markdown",
   "metadata": {},
   "source": [
    "**`PCA`** is fundamentally **`a dimensionality reduction algorithm`**, <br>\n",
    "<br>\n",
    "but it can also be useful as a tool:<br>\n",
    "* for **visualization**, \n",
    "* for **noise filtering**, \n",
    "* for **feature extraction**\n",
    "* for **engineering**, \n",
    "* and much more."
   ]
  },
  {
   "cell_type": "code",
   "execution_count": 1,
   "metadata": {},
   "outputs": [],
   "source": [
    "import numpy as np\n",
    "import pandas as pd\n",
    "import matplotlib.pyplot as plt\n",
    "import seaborn as sns"
   ]
  },
  {
   "cell_type": "markdown",
   "metadata": {},
   "source": [
    "## Using PCA in 2-D (?) to understand its concept."
   ]
  },
  {
   "cell_type": "markdown",
   "metadata": {},
   "source": [
    "Imagine a dataset with the following composition:"
   ]
  },
  {
   "cell_type": "markdown",
   "metadata": {},
   "source": [
    "`np.random.RandomState()`:\n",
    "* This way, you'll always get the same random number sequence  $\\blacktriangleright$  if you run the same code again, you’ll get the exact same numbers\n",
    "* Create your own instance of `numpy.random.RandomState()` with your chosen seed. Do not use `numpy.random.seed()`\n",
    "* `Pseudo-random numbers` are computer generated numbers that appear random, but are actually predetermined."
   ]
  },
  {
   "cell_type": "code",
   "execution_count": 2,
   "metadata": {},
   "outputs": [
    {
     "data": {
      "text/plain": [
       "array([[4.17022005e-01, 7.20324493e-01],\n",
       "       [1.14374817e-04, 3.02332573e-01]])"
      ]
     },
     "execution_count": 2,
     "metadata": {},
     "output_type": "execute_result"
    }
   ],
   "source": [
    "rng = np.random.RandomState(seed=1)\n",
    "'''\n",
    "Create an array of the given shape and populate it with\n",
    "random samples from a uniform distribution\n",
    "over [0, 1)\n",
    "'''\n",
    "a = rng.rand(2, 2)\n",
    "a"
   ]
  },
  {
   "cell_type": "code",
   "execution_count": 3,
   "metadata": {},
   "outputs": [
    {
     "data": {
      "text/plain": [
       "<matplotlib.axes._subplots.AxesSubplot at 0x27563951988>"
      ]
     },
     "execution_count": 3,
     "metadata": {},
     "output_type": "execute_result"
    },
    {
     "data": {
      "image/png": "[encoded data removed]",
      "text/plain": [
       "<Figure size 432x288 with 1 Axes>"
      ]
     },
     "metadata": {
      "needs_background": "light"
     },
     "output_type": "display_data"
    }
   ],
   "source": [
    "sns.distplot(a)"
   ]
  },
  {
   "cell_type": "code",
   "execution_count": 4,
   "metadata": {},
   "outputs": [],
   "source": [
    "'''\n",
    "random floats sampled from a univariate \"normal\" (Gaussian)\n",
    "distribution of mean 0 and variance 1.\n",
    "'''\n",
    "b = rng.randn(2, 200)"
   ]
  },
  {
   "cell_type": "code",
   "execution_count": 5,
   "metadata": {},
   "outputs": [
    {
     "data": {
      "text/plain": [
       "<matplotlib.axes._subplots.AxesSubplot at 0x27563a45b48>"
      ]
     },
     "execution_count": 5,
     "metadata": {},
     "output_type": "execute_result"
    },
    {
     "data": {
      "image/png": "[encoded data removed]",
      "text/plain": [
       "<Figure size 432x288 with 1 Axes>"
      ]
     },
     "metadata": {
      "needs_background": "light"
     },
     "output_type": "display_data"
    }
   ],
   "source": [
    "sns.distplot(b)"
   ]
  },
  {
   "cell_type": "code",
   "execution_count": 6,
   "metadata": {},
   "outputs": [
    {
     "data": {
      "text/plain": [
       "array([[-6.25301618e-01,  9.60695033e-01, -5.98543385e-01,\n",
       "        -2.22805938e+00, -4.61430060e-01, -9.58929028e-01,\n",
       "        -6.73079909e-01,  1.30501861e+00,  3.74545597e-01,\n",
       "        -1.82628627e+00,  6.68262284e-01, -5.82646676e-01,\n",
       "        -4.18128976e-01,  1.72209371e-01,  3.77116687e-01,\n",
       "        -6.79396230e-01,  1.03148960e+00,  3.36041799e-01,\n",
       "         7.05745985e-01,  8.39511547e-01,  1.49882898e+00,\n",
       "         2.88356638e-01, -5.02935011e-01,  1.47921067e+00,\n",
       "        -4.44382429e-01, -5.33464228e-01, -6.16229422e-01,\n",
       "         7.46598965e-02, -1.13637011e-01, -2.00717298e-02,\n",
       "         1.89582967e-01,  9.38466103e-01, -3.66697989e-01,\n",
       "        -8.93528486e-01, -1.31759571e+00, -3.81802782e-01,\n",
       "        -5.13790216e-01,  9.03737934e-01, -4.38875079e-01,\n",
       "        -5.94170907e-01, -3.12943931e-01, -3.00229089e-01,\n",
       "        -5.99239320e-01,  2.20370036e-01,  5.25164844e-01,\n",
       "         5.56625011e-01,  1.35428157e+00, -6.83159806e-01,\n",
       "        -1.23325109e-01, -3.13175458e-01, -2.48838277e+00,\n",
       "         1.24996586e+00,  1.76764431e-01, -5.07808538e-01,\n",
       "         1.82738502e+00,  8.10156740e-01,  4.28494398e-01,\n",
       "        -6.81124709e-02, -2.38085712e-01, -5.76511311e-01,\n",
       "         7.86579791e-01, -3.94028364e-01,  3.00281016e-01,\n",
       "         8.34354492e-01,  6.77025394e-01,  8.22858785e-01,\n",
       "         1.11060226e+00, -1.11056320e+00, -3.25581172e-05,\n",
       "         9.01346004e-01,  6.13325282e-01,  1.00280321e+00,\n",
       "        -5.00300647e-01, -1.46839080e+00, -1.16559210e+00,\n",
       "         1.23290571e+00, -8.71374166e-02,  1.32611731e+00,\n",
       "        -6.55945864e-01, -3.98868969e-01,  1.46537233e-01,\n",
       "         8.34743614e-01,  1.26455201e-01,  2.01707556e-01,\n",
       "        -2.67775720e-01,  2.85085062e-01, -7.53418549e-01,\n",
       "         5.29313417e-01,  3.65577719e-01,  3.62822350e-02,\n",
       "         1.98139998e-01, -7.56673772e-01,  1.15733262e-01,\n",
       "        -1.81944537e-01,  1.57198306e-01,  5.83470370e-01,\n",
       "        -9.46770213e-01,  7.13140353e-01,  1.30157187e+00,\n",
       "        -5.49063710e-01, -4.29728257e-01, -3.86766308e-01,\n",
       "        -6.57643258e-01,  1.23961415e+00,  3.18446596e-01,\n",
       "        -8.98118949e-01,  3.36881319e-01, -4.18452911e-01,\n",
       "         2.36601159e-01,  3.51319728e-01,  1.35323942e+00,\n",
       "        -8.34819518e-01,  2.32938600e+00,  4.67174434e-02,\n",
       "         4.55373238e-01, -7.10684919e-01, -5.50095165e-02,\n",
       "        -4.54554511e-01, -1.08213611e-01, -8.97552407e-01,\n",
       "         7.34802491e-01,  2.25266501e-01, -3.27438240e-01,\n",
       "         1.20422548e+00,  1.70331974e-01,  1.00007930e+00,\n",
       "        -6.71516563e-01,  1.19221616e+00,  2.40174205e-01,\n",
       "         5.56592389e-01, -1.23113909e+00,  1.52659926e-01,\n",
       "         1.37611796e+00, -7.05213114e-01, -1.25035415e+00,\n",
       "        -1.87651011e+00, -1.47105690e+00, -1.50346447e+00,\n",
       "        -3.74317472e-01,  8.78524826e-01,  4.37960653e-02,\n",
       "         5.45982844e-01,  1.41569127e-01,  6.35824494e-02,\n",
       "        -8.87046213e-02,  1.32411808e-01,  4.29143144e-01,\n",
       "        -5.62450166e-01,  5.98293829e-01, -3.52669474e-01,\n",
       "         2.92708138e-01,  1.49216325e+00, -3.21136884e-01,\n",
       "        -4.28741839e-01,  5.56602182e-02, -1.86669080e-01,\n",
       "        -3.15976890e-01, -9.52287292e-01, -6.17216871e-01,\n",
       "         2.60724124e-01, -1.29606872e+00,  1.30204436e-01,\n",
       "         3.62026915e-02,  4.51406829e-01,  7.82343617e-01,\n",
       "        -1.91527940e+00,  1.33470527e+00, -5.57241554e-01,\n",
       "        -2.54030157e-01,  3.83426415e-02,  1.66900682e+00,\n",
       "        -4.01201302e-01,  1.33980298e+00,  3.12160775e-01,\n",
       "         2.09517683e+00, -6.85653080e-01, -9.81232159e-01,\n",
       "         3.81516151e-01,  8.35386181e-02,  1.56227043e-01,\n",
       "        -8.98591326e-01,  2.16673778e-01,  3.99091276e-01,\n",
       "        -3.90120284e-01,  1.51136791e-01, -2.59947279e-02,\n",
       "        -5.55678088e-01, -4.14437203e-01, -5.43696094e-01,\n",
       "         1.42759145e+00,  4.51861867e-01,  8.07369404e-01,\n",
       "        -4.61251208e-01, -1.06359448e-01, -1.09810334e+00,\n",
       "         8.38408546e-01,  3.12708310e-01,  1.95587585e+00,\n",
       "        -1.10830352e+00,  3.98647206e-01],\n",
       "       [-1.70063657e-01,  5.90900597e-01, -4.02593393e-01,\n",
       "        -5.32576740e-01, -4.98867244e-01, -2.69331024e-01,\n",
       "        -3.38308547e-01,  5.91357846e-01, -9.85442049e-02,\n",
       "        -4.06170254e-01,  3.36877396e-01, -1.77369217e-01,\n",
       "        -3.73811389e-01,  2.64668836e-01,  1.88442969e-01,\n",
       "        -1.31601978e-01,  4.25550018e-01,  3.90982721e-02,\n",
       "         4.88730649e-01,  1.52125872e-01,  4.71380809e-01,\n",
       "         3.31334714e-02, -3.68665426e-01,  7.40445724e-01,\n",
       "        -1.65019364e-01, -6.02221911e-02, -2.11783922e-01,\n",
       "        -6.14321077e-02,  7.32877678e-02,  6.09744586e-02,\n",
       "         1.99769369e-01,  5.41731132e-01, -3.64971376e-02,\n",
       "        -3.72814013e-01, -3.57581073e-01, -2.01252465e-01,\n",
       "        -5.05974086e-01,  2.49518260e-01, -1.50648130e-01,\n",
       "        -9.41224109e-02, -6.57312966e-04, -4.22050272e-01,\n",
       "        -2.60398180e-01,  2.03914415e-01,  1.87026363e-01,\n",
       "        -1.33745094e-01,  5.47397422e-01, -3.94693187e-01,\n",
       "        -1.04266539e-01, -6.98306619e-02, -8.44571249e-01,\n",
       "         5.85738115e-01,  1.10730208e-01, -3.15746300e-01,\n",
       "         6.20232502e-01,  1.77171194e-01,  1.29892407e-01,\n",
       "        -1.83414149e-01,  3.20283053e-02, -4.61119558e-01,\n",
       "         2.40420951e-01, -1.13238995e-01,  4.05830103e-02,\n",
       "         3.63411695e-01,  8.62180588e-02,  7.95262868e-02,\n",
       "         8.38447209e-02, -2.21851614e-01,  2.52586287e-01,\n",
       "         4.66550032e-01,  2.29429972e-01,  2.67636970e-01,\n",
       "        -2.65194678e-01, -2.62591632e-01, -4.35658777e-01,\n",
       "         3.72644940e-01, -7.68205362e-02,  4.23305575e-01,\n",
       "        -2.36422799e-01, -1.32296178e-01,  2.88714500e-02,\n",
       "         2.78631269e-01,  1.83894435e-02,  6.38435019e-02,\n",
       "         4.92011507e-03,  5.36128031e-02, -3.37531319e-01,\n",
       "         2.45960831e-02, -5.62717811e-02, -1.71587143e-02,\n",
       "         1.48806454e-01, -2.05864228e-01, -2.55010922e-02,\n",
       "        -8.98933373e-02,  1.26124661e-01,  2.37266716e-01,\n",
       "        -2.88927090e-01,  1.77219645e-01,  6.24502445e-01,\n",
       "        -4.44638605e-01, -2.50941856e-01, -2.66159401e-01,\n",
       "        -8.45055625e-02,  4.90659512e-01,  4.12165000e-03,\n",
       "        -2.10137581e-01,  1.87961004e-01, -1.81336717e-01,\n",
       "         3.39487039e-01,  9.23282159e-02,  4.19970027e-01,\n",
       "        -2.00044213e-01,  9.16366922e-01,  2.49148699e-01,\n",
       "         1.97896476e-01, -1.56607387e-02, -2.19243382e-01,\n",
       "        -2.62307969e-01, -4.11131904e-02, -2.41129284e-01,\n",
       "         8.56077609e-02, -2.49531175e-01,  1.87561024e-01,\n",
       "         2.89208121e-01, -2.13212414e-01,  3.60626507e-01,\n",
       "        -7.20747636e-02,  3.49379904e-01,  1.32451266e-01,\n",
       "         3.39247336e-01, -3.01572247e-01, -3.22243331e-02,\n",
       "         4.38905019e-01, -1.86923986e-01, -6.15852747e-01,\n",
       "        -5.87438869e-01, -7.57686938e-01, -6.39175291e-01,\n",
       "        -1.24473266e-01,  3.86529047e-01, -1.33600937e-01,\n",
       "         9.78986853e-02, -3.31934527e-02,  2.60037422e-03,\n",
       "        -5.08430872e-02, -5.25896645e-02,  1.39451520e-01,\n",
       "        -3.55459800e-01,  3.05358879e-01,  2.77872905e-01,\n",
       "        -5.88533723e-02,  2.43746801e-01, -2.11988784e-01,\n",
       "        -1.62431474e-01,  4.72280460e-02, -5.75236287e-02,\n",
       "        -1.35666133e-01, -2.03431276e-01, -1.68607956e-01,\n",
       "         2.83827268e-01, -5.87501508e-01,  1.06536600e-01,\n",
       "        -7.14259522e-02,  2.20021746e-01,  1.55836343e-01,\n",
       "        -8.41226381e-01,  1.77008275e-01,  9.78217703e-02,\n",
       "         6.53585666e-03, -1.41592253e-01,  2.58263884e-01,\n",
       "        -1.24900651e-01,  5.54699895e-01,  1.70605436e-01,\n",
       "         6.46487345e-01, -2.37525375e-01, -5.30795733e-01,\n",
       "         2.16067601e-01,  2.57654664e-01,  1.07263711e-02,\n",
       "        -4.65169769e-01, -1.35265391e-01,  1.86824524e-01,\n",
       "        -5.57531130e-02, -3.50017338e-02, -5.30194271e-02,\n",
       "        -2.82320719e-01, -1.61157769e-01, -4.31161457e-01,\n",
       "         5.34554140e-01, -1.43502859e-01,  1.44524192e-01,\n",
       "        -3.08874028e-01,  2.40025629e-01, -5.66248687e-01,\n",
       "         2.78380007e-01, -1.06001233e-02,  6.38224114e-01,\n",
       "        -3.95053658e-01,  2.31865526e-02]])"
      ]
     },
     "execution_count": 6,
     "metadata": {},
     "output_type": "execute_result"
    }
   ],
   "source": [
    "c= np.dot(a, b)\n",
    "c"
   ]
  },
  {
   "cell_type": "code",
   "execution_count": 7,
   "metadata": {},
   "outputs": [
    {
     "data": {
      "text/plain": [
       "<matplotlib.axes._subplots.AxesSubplot at 0x27563b33b08>"
      ]
     },
     "execution_count": 7,
     "metadata": {},
     "output_type": "execute_result"
    },
    {
     "data": {
      "image/png": "[encoded data removed]",
      "text/plain": [
       "<Figure size 432x288 with 1 Axes>"
      ]
     },
     "metadata": {
      "needs_background": "light"
     },
     "output_type": "display_data"
    }
   ],
   "source": [
    "sns.distplot(c)"
   ]
  },
  {
   "cell_type": "code",
   "execution_count": 8,
   "metadata": {},
   "outputs": [
    {
     "data": {
      "text/plain": [
       "array([[-6.25301618e-01, -1.70063657e-01],\n",
       "       [ 9.60695033e-01,  5.90900597e-01],\n",
       "       [-5.98543385e-01, -4.02593393e-01],\n",
       "       [-2.22805938e+00, -5.32576740e-01],\n",
       "       [-4.61430060e-01, -4.98867244e-01],\n",
       "       [-9.58929028e-01, -2.69331024e-01],\n",
       "       [-6.73079909e-01, -3.38308547e-01],\n",
       "       [ 1.30501861e+00,  5.91357846e-01],\n",
       "       [ 3.74545597e-01, -9.85442049e-02],\n",
       "       [-1.82628627e+00, -4.06170254e-01],\n",
       "       [ 6.68262284e-01,  3.36877396e-01],\n",
       "       [-5.82646676e-01, -1.77369217e-01],\n",
       "       [-4.18128976e-01, -3.73811389e-01],\n",
       "       [ 1.72209371e-01,  2.64668836e-01],\n",
       "       [ 3.77116687e-01,  1.88442969e-01],\n",
       "       [-6.79396230e-01, -1.31601978e-01],\n",
       "       [ 1.03148960e+00,  4.25550018e-01],\n",
       "       [ 3.36041799e-01,  3.90982721e-02],\n",
       "       [ 7.05745985e-01,  4.88730649e-01],\n",
       "       [ 8.39511547e-01,  1.52125872e-01],\n",
       "       [ 1.49882898e+00,  4.71380809e-01],\n",
       "       [ 2.88356638e-01,  3.31334714e-02],\n",
       "       [-5.02935011e-01, -3.68665426e-01],\n",
       "       [ 1.47921067e+00,  7.40445724e-01],\n",
       "       [-4.44382429e-01, -1.65019364e-01],\n",
       "       [-5.33464228e-01, -6.02221911e-02],\n",
       "       [-6.16229422e-01, -2.11783922e-01],\n",
       "       [ 7.46598965e-02, -6.14321077e-02],\n",
       "       [-1.13637011e-01,  7.32877678e-02],\n",
       "       [-2.00717298e-02,  6.09744586e-02],\n",
       "       [ 1.89582967e-01,  1.99769369e-01],\n",
       "       [ 9.38466103e-01,  5.41731132e-01],\n",
       "       [-3.66697989e-01, -3.64971376e-02],\n",
       "       [-8.93528486e-01, -3.72814013e-01],\n",
       "       [-1.31759571e+00, -3.57581073e-01],\n",
       "       [-3.81802782e-01, -2.01252465e-01],\n",
       "       [-5.13790216e-01, -5.05974086e-01],\n",
       "       [ 9.03737934e-01,  2.49518260e-01],\n",
       "       [-4.38875079e-01, -1.50648130e-01],\n",
       "       [-5.94170907e-01, -9.41224109e-02],\n",
       "       [-3.12943931e-01, -6.57312966e-04],\n",
       "       [-3.00229089e-01, -4.22050272e-01],\n",
       "       [-5.99239320e-01, -2.60398180e-01],\n",
       "       [ 2.20370036e-01,  2.03914415e-01],\n",
       "       [ 5.25164844e-01,  1.87026363e-01],\n",
       "       [ 5.56625011e-01, -1.33745094e-01],\n",
       "       [ 1.35428157e+00,  5.47397422e-01],\n",
       "       [-6.83159806e-01, -3.94693187e-01],\n",
       "       [-1.23325109e-01, -1.04266539e-01],\n",
       "       [-3.13175458e-01, -6.98306619e-02],\n",
       "       [-2.48838277e+00, -8.44571249e-01],\n",
       "       [ 1.24996586e+00,  5.85738115e-01],\n",
       "       [ 1.76764431e-01,  1.10730208e-01],\n",
       "       [-5.07808538e-01, -3.15746300e-01],\n",
       "       [ 1.82738502e+00,  6.20232502e-01],\n",
       "       [ 8.10156740e-01,  1.77171194e-01],\n",
       "       [ 4.28494398e-01,  1.29892407e-01],\n",
       "       [-6.81124709e-02, -1.83414149e-01],\n",
       "       [-2.38085712e-01,  3.20283053e-02],\n",
       "       [-5.76511311e-01, -4.61119558e-01],\n",
       "       [ 7.86579791e-01,  2.40420951e-01],\n",
       "       [-3.94028364e-01, -1.13238995e-01],\n",
       "       [ 3.00281016e-01,  4.05830103e-02],\n",
       "       [ 8.34354492e-01,  3.63411695e-01],\n",
       "       [ 6.77025394e-01,  8.62180588e-02],\n",
       "       [ 8.22858785e-01,  7.95262868e-02],\n",
       "       [ 1.11060226e+00,  8.38447209e-02],\n",
       "       [-1.11056320e+00, -2.21851614e-01],\n",
       "       [-3.25581172e-05,  2.52586287e-01],\n",
       "       [ 9.01346004e-01,  4.66550032e-01],\n",
       "       [ 6.13325282e-01,  2.29429972e-01],\n",
       "       [ 1.00280321e+00,  2.67636970e-01],\n",
       "       [-5.00300647e-01, -2.65194678e-01],\n",
       "       [-1.46839080e+00, -2.62591632e-01],\n",
       "       [-1.16559210e+00, -4.35658777e-01],\n",
       "       [ 1.23290571e+00,  3.72644940e-01],\n",
       "       [-8.71374166e-02, -7.68205362e-02],\n",
       "       [ 1.32611731e+00,  4.23305575e-01],\n",
       "       [-6.55945864e-01, -2.36422799e-01],\n",
       "       [-3.98868969e-01, -1.32296178e-01],\n",
       "       [ 1.46537233e-01,  2.88714500e-02],\n",
       "       [ 8.34743614e-01,  2.78631269e-01],\n",
       "       [ 1.26455201e-01,  1.83894435e-02],\n",
       "       [ 2.01707556e-01,  6.38435019e-02],\n",
       "       [-2.67775720e-01,  4.92011507e-03],\n",
       "       [ 2.85085062e-01,  5.36128031e-02],\n",
       "       [-7.53418549e-01, -3.37531319e-01],\n",
       "       [ 5.29313417e-01,  2.45960831e-02],\n",
       "       [ 3.65577719e-01, -5.62717811e-02],\n",
       "       [ 3.62822350e-02, -1.71587143e-02],\n",
       "       [ 1.98139998e-01,  1.48806454e-01],\n",
       "       [-7.56673772e-01, -2.05864228e-01],\n",
       "       [ 1.15733262e-01, -2.55010922e-02],\n",
       "       [-1.81944537e-01, -8.98933373e-02],\n",
       "       [ 1.57198306e-01,  1.26124661e-01],\n",
       "       [ 5.83470370e-01,  2.37266716e-01],\n",
       "       [-9.46770213e-01, -2.88927090e-01],\n",
       "       [ 7.13140353e-01,  1.77219645e-01],\n",
       "       [ 1.30157187e+00,  6.24502445e-01],\n",
       "       [-5.49063710e-01, -4.44638605e-01],\n",
       "       [-4.29728257e-01, -2.50941856e-01],\n",
       "       [-3.86766308e-01, -2.66159401e-01],\n",
       "       [-6.57643258e-01, -8.45055625e-02],\n",
       "       [ 1.23961415e+00,  4.90659512e-01],\n",
       "       [ 3.18446596e-01,  4.12165000e-03],\n",
       "       [-8.98118949e-01, -2.10137581e-01],\n",
       "       [ 3.36881319e-01,  1.87961004e-01],\n",
       "       [-4.18452911e-01, -1.81336717e-01],\n",
       "       [ 2.36601159e-01,  3.39487039e-01],\n",
       "       [ 3.51319728e-01,  9.23282159e-02],\n",
       "       [ 1.35323942e+00,  4.19970027e-01],\n",
       "       [-8.34819518e-01, -2.00044213e-01],\n",
       "       [ 2.32938600e+00,  9.16366922e-01],\n",
       "       [ 4.67174434e-02,  2.49148699e-01],\n",
       "       [ 4.55373238e-01,  1.97896476e-01],\n",
       "       [-7.10684919e-01, -1.56607387e-02],\n",
       "       [-5.50095165e-02, -2.19243382e-01],\n",
       "       [-4.54554511e-01, -2.62307969e-01],\n",
       "       [-1.08213611e-01, -4.11131904e-02],\n",
       "       [-8.97552407e-01, -2.41129284e-01],\n",
       "       [ 7.34802491e-01,  8.56077609e-02],\n",
       "       [ 2.25266501e-01, -2.49531175e-01],\n",
       "       [-3.27438240e-01,  1.87561024e-01],\n",
       "       [ 1.20422548e+00,  2.89208121e-01],\n",
       "       [ 1.70331974e-01, -2.13212414e-01],\n",
       "       [ 1.00007930e+00,  3.60626507e-01],\n",
       "       [-6.71516563e-01, -7.20747636e-02],\n",
       "       [ 1.19221616e+00,  3.49379904e-01],\n",
       "       [ 2.40174205e-01,  1.32451266e-01],\n",
       "       [ 5.56592389e-01,  3.39247336e-01],\n",
       "       [-1.23113909e+00, -3.01572247e-01],\n",
       "       [ 1.52659926e-01, -3.22243331e-02],\n",
       "       [ 1.37611796e+00,  4.38905019e-01],\n",
       "       [-7.05213114e-01, -1.86923986e-01],\n",
       "       [-1.25035415e+00, -6.15852747e-01],\n",
       "       [-1.87651011e+00, -5.87438869e-01],\n",
       "       [-1.47105690e+00, -7.57686938e-01],\n",
       "       [-1.50346447e+00, -6.39175291e-01],\n",
       "       [-3.74317472e-01, -1.24473266e-01],\n",
       "       [ 8.78524826e-01,  3.86529047e-01],\n",
       "       [ 4.37960653e-02, -1.33600937e-01],\n",
       "       [ 5.45982844e-01,  9.78986853e-02],\n",
       "       [ 1.41569127e-01, -3.31934527e-02],\n",
       "       [ 6.35824494e-02,  2.60037422e-03],\n",
       "       [-8.87046213e-02, -5.08430872e-02],\n",
       "       [ 1.32411808e-01, -5.25896645e-02],\n",
       "       [ 4.29143144e-01,  1.39451520e-01],\n",
       "       [-5.62450166e-01, -3.55459800e-01],\n",
       "       [ 5.98293829e-01,  3.05358879e-01],\n",
       "       [-3.52669474e-01,  2.77872905e-01],\n",
       "       [ 2.92708138e-01, -5.88533723e-02],\n",
       "       [ 1.49216325e+00,  2.43746801e-01],\n",
       "       [-3.21136884e-01, -2.11988784e-01],\n",
       "       [-4.28741839e-01, -1.62431474e-01],\n",
       "       [ 5.56602182e-02,  4.72280460e-02],\n",
       "       [-1.86669080e-01, -5.75236287e-02],\n",
       "       [-3.15976890e-01, -1.35666133e-01],\n",
       "       [-9.52287292e-01, -2.03431276e-01],\n",
       "       [-6.17216871e-01, -1.68607956e-01],\n",
       "       [ 2.60724124e-01,  2.83827268e-01],\n",
       "       [-1.29606872e+00, -5.87501508e-01],\n",
       "       [ 1.30204436e-01,  1.06536600e-01],\n",
       "       [ 3.62026915e-02, -7.14259522e-02],\n",
       "       [ 4.51406829e-01,  2.20021746e-01],\n",
       "       [ 7.82343617e-01,  1.55836343e-01],\n",
       "       [-1.91527940e+00, -8.41226381e-01],\n",
       "       [ 1.33470527e+00,  1.77008275e-01],\n",
       "       [-5.57241554e-01,  9.78217703e-02],\n",
       "       [-2.54030157e-01,  6.53585666e-03],\n",
       "       [ 3.83426415e-02, -1.41592253e-01],\n",
       "       [ 1.66900682e+00,  2.58263884e-01],\n",
       "       [-4.01201302e-01, -1.24900651e-01],\n",
       "       [ 1.33980298e+00,  5.54699895e-01],\n",
       "       [ 3.12160775e-01,  1.70605436e-01],\n",
       "       [ 2.09517683e+00,  6.46487345e-01],\n",
       "       [-6.85653080e-01, -2.37525375e-01],\n",
       "       [-9.81232159e-01, -5.30795733e-01],\n",
       "       [ 3.81516151e-01,  2.16067601e-01],\n",
       "       [ 8.35386181e-02,  2.57654664e-01],\n",
       "       [ 1.56227043e-01,  1.07263711e-02],\n",
       "       [-8.98591326e-01, -4.65169769e-01],\n",
       "       [ 2.16673778e-01, -1.35265391e-01],\n",
       "       [ 3.99091276e-01,  1.86824524e-01],\n",
       "       [-3.90120284e-01, -5.57531130e-02],\n",
       "       [ 1.51136791e-01, -3.50017338e-02],\n",
       "       [-2.59947279e-02, -5.30194271e-02],\n",
       "       [-5.55678088e-01, -2.82320719e-01],\n",
       "       [-4.14437203e-01, -1.61157769e-01],\n",
       "       [-5.43696094e-01, -4.31161457e-01],\n",
       "       [ 1.42759145e+00,  5.34554140e-01],\n",
       "       [ 4.51861867e-01, -1.43502859e-01],\n",
       "       [ 8.07369404e-01,  1.44524192e-01],\n",
       "       [-4.61251208e-01, -3.08874028e-01],\n",
       "       [-1.06359448e-01,  2.40025629e-01],\n",
       "       [-1.09810334e+00, -5.66248687e-01],\n",
       "       [ 8.38408546e-01,  2.78380007e-01],\n",
       "       [ 3.12708310e-01, -1.06001233e-02],\n",
       "       [ 1.95587585e+00,  6.38224114e-01],\n",
       "       [-1.10830352e+00, -3.95053658e-01],\n",
       "       [ 3.98647206e-01,  2.31865526e-02]])"
      ]
     },
     "execution_count": 8,
     "metadata": {},
     "output_type": "execute_result"
    }
   ],
   "source": [
    "X =c.T\n",
    "X"
   ]
  },
  {
   "cell_type": "code",
   "execution_count": 9,
   "metadata": {},
   "outputs": [
    {
     "data": {
      "text/plain": [
       "(200, 2)"
      ]
     },
     "execution_count": 9,
     "metadata": {},
     "output_type": "execute_result"
    }
   ],
   "source": [
    "X.shape"
   ]
  },
  {
   "cell_type": "code",
   "execution_count": 10,
   "metadata": {},
   "outputs": [
    {
     "data": {
      "text/plain": [
       "<matplotlib.axes._subplots.AxesSubplot at 0x2756424b408>"
      ]
     },
     "execution_count": 10,
     "metadata": {},
     "output_type": "execute_result"
    },
    {
     "data": {
      "image/png": "[encoded data removed]",
      "text/plain": [
       "<Figure size 432x288 with 1 Axes>"
      ]
     },
     "metadata": {
      "needs_background": "light"
     },
     "output_type": "display_data"
    }
   ],
   "source": [
    "sns.distplot(X)"
   ]
  },
  {
   "cell_type": "code",
   "execution_count": 11,
   "metadata": {},
   "outputs": [
    {
     "data": {
      "text/plain": [
       "(-2.7339176659575735,\n",
       " 2.574920899665639,\n",
       " -0.939772475576238,\n",
       " 1.0115681482875458)"
      ]
     },
     "execution_count": 11,
     "metadata": {},
     "output_type": "execute_result"
    },
    {
     "data": {
      "image/png": "[encoded data removed]",
      "text/plain": [
       "<Figure size 432x288 with 1 Axes>"
      ]
     },
     "metadata": {
      "needs_background": "light"
     },
     "output_type": "display_data"
    }
   ],
   "source": [
    "plt.scatter(\n",
    "    x=X[:, 0],\n",
    "    y=X[:, 1],\n",
    "    alpha=1,  # The alpha blending value, between 0 (transparent) and 1 (opaque)\n",
    "    s=8)\n",
    "# The marker size\n",
    "\n",
    "plt.grid()\n",
    "plt.axis('equal')  # xmin, xmax, ymin, ymax = axis()\n",
    "\n",
    "# 'equal'  Set equal scaling (i.e., make circles circular) by changing axis limits."
   ]
  },
  {
   "cell_type": "markdown",
   "metadata": {},
   "source": [
    "This dataset is comprised of two dimensions: <br>\n",
    "* The <u>**first column**</u> is the `X[:,0]` (which, in the graph, is represented by the **x-axis**) and \n",
    "* the <u>**second column**</u>, `X[:,1]` (which, in the graph, is represented by the **y-axis**)."
   ]
  },
  {
   "cell_type": "markdown",
   "metadata": {},
   "source": [
    "If we think about the information contained in this data, we could imagine that the axis where the information is <b>really</b> contained is neighter x nor the y axis. <br> It is, rather, an axis somewhere in between."
   ]
  },
  {
   "cell_type": "code",
   "execution_count": 12,
   "metadata": {},
   "outputs": [
    {
     "data": {
      "text/plain": [
       "Text(2.329386000927877, 1.2163669216952258, 'direction of greater information')"
      ]
     },
     "execution_count": 12,
     "metadata": {},
     "output_type": "execute_result"
    },
    {
     "data": {
      "image/png": "[encoded data removed]",
      "text/plain": [
       "<Figure size 432x288 with 1 Axes>"
      ]
     },
     "metadata": {
      "needs_background": "light"
     },
     "output_type": "display_data"
    }
   ],
   "source": [
    "# plot data\n",
    "plt.scatter(X[:, 0], X[:, 1], alpha=1)\n",
    "\n",
    "# Annotate the point *xy* with text *text*\n",
    "plt.annotate(\n",
    "    s='direction of greater information',  # the text of the annotation\n",
    "    xy=(min(X[:, 0]), min(X[:, 1] - .05)),  # the point (x, y) to annotate\n",
    "    xytext=(max(X[:, 0]), max(X[:, 1] + 0.3)),\n",
    "    arrowprops=dict(arrowstyle='<->', color='red', ls='-', lw=3.5))"
   ]
  },
  {
   "cell_type": "markdown",
   "metadata": {},
   "source": [
    "Specifically, it seems to be a combination of both the first and second dimensions. Indeed, it is. "
   ]
  },
  {
   "cell_type": "markdown",
   "metadata": {},
   "source": [
    "The PCA algorithm will try to find the directions in which the most information is contained. <br> By information, we always mean to say - **`VARIANCE`**."
   ]
  },
  {
   "cell_type": "code",
   "execution_count": 13,
   "metadata": {},
   "outputs": [
    {
     "data": {
      "text/plain": [
       "0.678766717934191"
      ]
     },
     "execution_count": 13,
     "metadata": {},
     "output_type": "execute_result"
    }
   ],
   "source": [
    "# variance of x-axis\n",
    "np.std(X[:, 0])**2"
   ]
  },
  {
   "cell_type": "code",
   "execution_count": 14,
   "metadata": {},
   "outputs": [
    {
     "data": {
      "text/plain": [
       "0.09833763148000234"
      ]
     },
     "execution_count": 14,
     "metadata": {},
     "output_type": "execute_result"
    }
   ],
   "source": [
    "# variance of y_axis\n",
    "np.std(X[:, 1])**2"
   ]
  },
  {
   "cell_type": "markdown",
   "metadata": {},
   "source": [
    "Rather than attempting to *predict* the y values from the x values, the unsupervised learning problem attempts to learn about the *relationship* between your features (your `X`).\n",
    "\n",
    "In principal component analysis, this relationship is quantified by finding a list of the *principal axes* in the data, and using those axes to describe the dataset."
   ]
  },
  {
   "cell_type": "code",
   "execution_count": null,
   "metadata": {},
   "outputs": [],
   "source": []
  },
  {
   "cell_type": "markdown",
   "metadata": {},
   "source": [
    "## from sklearn.decomposition import PCA"
   ]
  },
  {
   "cell_type": "code",
   "execution_count": 15,
   "metadata": {},
   "outputs": [
    {
     "data": {
      "text/plain": [
       "PCA(copy=True, iterated_power='auto', n_components=2, random_state=None,\n",
       "    svd_solver='auto', tol=0.0, whiten=False)"
      ]
     },
     "execution_count": 15,
     "metadata": {},
     "output_type": "execute_result"
    }
   ],
   "source": [
    "from sklearn.decomposition import PCA\n",
    "\n",
    "pca = PCA(n_components=2)\n",
    "pca.fit(X)"
   ]
  },
  {
   "cell_type": "markdown",
   "metadata": {},
   "source": [
    "The <b>fit method</b> learns some quantities from the data, most importantly the **`components`** and **`explained variance`**:"
   ]
  },
  {
   "cell_type": "markdown",
   "metadata": {},
   "source": [
    "### pca.components_"
   ]
  },
  {
   "cell_type": "code",
   "execution_count": 16,
   "metadata": {},
   "outputs": [
    {
     "data": {
      "text/plain": [
       "array([[-0.94446029, -0.32862557],\n",
       "       [-0.32862557,  0.94446029]])"
      ]
     },
     "execution_count": 16,
     "metadata": {},
     "output_type": "execute_result"
    }
   ],
   "source": [
    "pca.components_"
   ]
  },
  {
   "cell_type": "markdown",
   "metadata": {},
   "source": [
    "What do these components mean?<br>\n",
    "The first component is `pca.components_[0]`"
   ]
  },
  {
   "cell_type": "code",
   "execution_count": 17,
   "metadata": {},
   "outputs": [
    {
     "data": {
      "text/plain": [
       "array([-0.94446029, -0.32862557])"
      ]
     },
     "execution_count": 17,
     "metadata": {},
     "output_type": "execute_result"
    }
   ],
   "source": [
    "pca.components_[0]"
   ]
  },
  {
   "cell_type": "code",
   "execution_count": 18,
   "metadata": {},
   "outputs": [
    {
     "data": {
      "image/png": "[encoded data removed]",
      "text/plain": [
       "<Figure size 432x288 with 1 Axes>"
      ]
     },
     "metadata": {
      "needs_background": "light"
     },
     "output_type": "display_data"
    }
   ],
   "source": [
    "plt.scatter(pca.components_[0], pca.components_[1]);"
   ]
  },
  {
   "cell_type": "code",
   "execution_count": 19,
   "metadata": {},
   "outputs": [
    {
     "data": {
      "text/html": [
       "<div>\n",
       "<style scoped>\n",
       "    .dataframe tbody tr th:only-of-type {\n",
       "        vertical-align: middle;\n",
       "    }\n",
       "\n",
       "    .dataframe tbody tr th {\n",
       "        vertical-align: top;\n",
       "    }\n",
       "\n",
       "    .dataframe thead th {\n",
       "        text-align: right;\n",
       "    }\n",
       "</style>\n",
       "<table border=\"1\" class=\"dataframe\">\n",
       "  <thead>\n",
       "    <tr style=\"text-align: right;\">\n",
       "      <th></th>\n",
       "      <th>component principal 1</th>\n",
       "    </tr>\n",
       "  </thead>\n",
       "  <tbody>\n",
       "    <tr>\n",
       "      <th>0</th>\n",
       "      <td>0.646460</td>\n",
       "    </tr>\n",
       "    <tr>\n",
       "      <th>1</th>\n",
       "      <td>-1.101523</td>\n",
       "    </tr>\n",
       "    <tr>\n",
       "      <th>2</th>\n",
       "      <td>0.697603</td>\n",
       "    </tr>\n",
       "    <tr>\n",
       "      <th>3</th>\n",
       "      <td>2.279332</td>\n",
       "    </tr>\n",
       "    <tr>\n",
       "      <th>4</th>\n",
       "      <td>0.599743</td>\n",
       "    </tr>\n",
       "    <tr>\n",
       "      <th>...</th>\n",
       "      <td>...</td>\n",
       "    </tr>\n",
       "    <tr>\n",
       "      <th>195</th>\n",
       "      <td>-0.883326</td>\n",
       "    </tr>\n",
       "    <tr>\n",
       "      <th>196</th>\n",
       "      <td>-0.291857</td>\n",
       "    </tr>\n",
       "    <tr>\n",
       "      <th>197</th>\n",
       "      <td>-2.056984</td>\n",
       "    </tr>\n",
       "    <tr>\n",
       "      <th>198</th>\n",
       "      <td>1.176573</td>\n",
       "    </tr>\n",
       "    <tr>\n",
       "      <th>199</th>\n",
       "      <td>-0.384126</td>\n",
       "    </tr>\n",
       "  </tbody>\n",
       "</table>\n",
       "<p>200 rows × 1 columns</p>\n",
       "</div>"
      ],
      "text/plain": [
       "     component principal 1\n",
       "0                 0.646460\n",
       "1                -1.101523\n",
       "2                 0.697603\n",
       "3                 2.279332\n",
       "4                 0.599743\n",
       "..                     ...\n",
       "195              -0.883326\n",
       "196              -0.291857\n",
       "197              -2.056984\n",
       "198               1.176573\n",
       "199              -0.384126\n",
       "\n",
       "[200 rows x 1 columns]"
      ]
     },
     "execution_count": 19,
     "metadata": {},
     "output_type": "execute_result"
    }
   ],
   "source": [
    "df =pd.DataFrame(-0.94446029 * X[:, 0] - 0.32862557 * X[:, 1],\n",
    "             columns=['component principal 1'])\n",
    "df"
   ]
  },
  {
   "cell_type": "code",
   "execution_count": 20,
   "metadata": {},
   "outputs": [
    {
     "data": {
      "image/png": "[encoded data removed]",
      "text/plain": [
       "<Figure size 432x288 with 1 Axes>"
      ]
     },
     "metadata": {
      "needs_background": "light"
     },
     "output_type": "display_data"
    }
   ],
   "source": [
    "sns.distplot(df);"
   ]
  },
  {
   "cell_type": "code",
   "execution_count": null,
   "metadata": {},
   "outputs": [],
   "source": []
  },
  {
   "cell_type": "markdown",
   "metadata": {},
   "source": [
    "- The first component of a PCA method is always **the component that contains the most information**. <br> \n",
    "- What this component is doing is taking what is called as `a linear combination of the original columns`. <br>\n",
    "- In this case, the results show that the PCA decided to take $-0.94$ of the first column (`X[:,0]`) and $-0.32$ of the second dimension (`X[:, 1]`). <br>"
   ]
  },
  {
   "cell_type": "code",
   "execution_count": null,
   "metadata": {},
   "outputs": [],
   "source": []
  },
  {
   "cell_type": "markdown",
   "metadata": {},
   "source": [
    "Let's take a look at the second component **`pca.components_[1]`**"
   ]
  },
  {
   "cell_type": "code",
   "execution_count": 21,
   "metadata": {},
   "outputs": [
    {
     "data": {
      "text/plain": [
       "array([-0.32862557,  0.94446029])"
      ]
     },
     "execution_count": 21,
     "metadata": {},
     "output_type": "execute_result"
    }
   ],
   "source": [
    "pca.components_[1]"
   ]
  },
  {
   "cell_type": "markdown",
   "metadata": {},
   "source": [
    "- This is telling us that **`the second component`** of our data (**the second most important combination of features**) is comprised by taking the first dimension and multiplying it by $-0.32$ and taking the second dimension and multiplying it by $0.94$."
   ]
  },
  {
   "cell_type": "markdown",
   "metadata": {},
   "source": [
    "### pca.explained_variance_    /   pca.explained_variance_ratio"
   ]
  },
  {
   "cell_type": "markdown",
   "metadata": {},
   "source": [
    "- Another important aspect of the results is the `explained_variance`.<br> \n",
    "- It can be obtained by the `pca.explained_variance` attribute."
   ]
  },
  {
   "cell_type": "code",
   "execution_count": 22,
   "metadata": {},
   "outputs": [
    {
     "data": {
      "text/plain": [
       "array([0.7625315, 0.0184779])"
      ]
     },
     "execution_count": 22,
     "metadata": {},
     "output_type": "execute_result"
    }
   ],
   "source": [
    "pca.explained_variance_"
   ]
  },
  {
   "cell_type": "code",
   "execution_count": 23,
   "metadata": {},
   "outputs": [
    {
     "name": "stdout",
     "output_type": "stream",
     "text": [
      "[0.97634101 0.02365899]\n"
     ]
    }
   ],
   "source": [
    "print(pca.explained_variance_ratio_)"
   ]
  },
  {
   "cell_type": "code",
   "execution_count": 24,
   "metadata": {},
   "outputs": [
    {
     "data": {
      "text/plain": [
       "array([-0.94446029, -0.32862557])"
      ]
     },
     "execution_count": 24,
     "metadata": {},
     "output_type": "execute_result"
    }
   ],
   "source": [
    "pca.components_[0]"
   ]
  },
  {
   "cell_type": "markdown",
   "metadata": {},
   "source": [
    "For this case, we observe that only 1 component explains `~97% of the variance` (information) in our data.<br>\n",
    "It means that you can reduce the number of dimensions to 1, and it will still retain ~97% of its signal."
   ]
  },
  {
   "cell_type": "markdown",
   "metadata": {},
   "source": [
    "To see what these numbers mean, let's **visualize them as vectors** over the input data, using:<br>\n",
    "- the **`components`** to define the **direction of the vector**, and <br>\n",
    "- the **`explained variance`** to define the **squared-length of the vector**:"
   ]
  },
  {
   "cell_type": "code",
   "execution_count": 32,
   "metadata": {
    "scrolled": true
   },
   "outputs": [
    {
     "name": "stdout",
     "output_type": "stream",
     "text": [
      "[ 0.03351168 -0.00408072] [-2.4406829  -0.86497833]\n",
      "[ 0.03351168 -0.00408072] [-0.10050192  0.38107044]\n"
     ]
    },
    {
     "data": {
      "text/plain": [
       "(-2.7391278364515688,\n",
       " 2.5801310701596343,\n",
       " -0.9477947579593763,\n",
       " 1.0195904306706842)"
      ]
     },
     "execution_count": 32,
     "metadata": {},
     "output_type": "execute_result"
    },
    {
     "data": {
      "image/png": "[encoded data removed]",
      "text/plain": [
       "<Figure size 432x288 with 1 Axes>"
      ]
     },
     "metadata": {
      "needs_background": "light"
     },
     "output_type": "display_data"
    }
   ],
   "source": [
    "def draw_vector(v0, v1, ax=None):\n",
    "    # Get the current figure matching\n",
    "    ax = ax or plt.gca()\n",
    "    \n",
    "    # argument for the ax.annotate below\n",
    "    arrowprops = dict(arrowstyle='<->',\n",
    "                      color='k',\n",
    "                      linewidth=2,\n",
    "                      shrinkA=0,\n",
    "                      shrinkB=0)\n",
    "    print(v0, v1)\n",
    "    ax.annotate('', v1, v0, arrowprops=arrowprops)\n",
    "\n",
    "    \n",
    "# plot data\n",
    "plt.scatter(X[:, 0], X[:, 1], alpha=0.2)\n",
    "\n",
    "\n",
    "# plot vectors that represent principal axes of the data\n",
    "for length, vector in zip(pca.explained_variance_, pca.components_):\n",
    "    v = vector * 3 * np.sqrt(length)\n",
    "    draw_vector(pca.mean_, pca.mean_ + v)\n",
    "    \n",
    "plt.axis('equal')"
   ]
  },
  {
   "cell_type": "markdown",
   "metadata": {},
   "source": [
    "- These vectors represent the *principal axes* of the data, and <br>\n",
    "the length of the vector is an indication of how \"important\" that axis is in describing the distribution of the data—more precisely, <br>\n",
    "it is a measure of the variance of the data when projected onto that axis.<br>\n",
    "- The projection of each data point onto the principal axes are the \"principal components\" of the data.\n",
    "\n",
    "If we plot these principal components beside the original data, we see the plots shown here:"
   ]
  },
  {
   "cell_type": "code",
   "execution_count": 26,
   "metadata": {},
   "outputs": [
    {
     "data": {
      "text/plain": [
       "array([[ 6.76769235e-01,  5.97386015e-02],\n",
       "       [-1.07121393e+00,  2.57240064e-01],\n",
       "       [ 7.27912364e-01, -1.68669939e-01],\n",
       "       [ 2.30964136e+00,  2.44066575e-01],\n",
       "       [ 6.30052323e-01, -3.04655713e-01],\n",
       "       [ 1.02448887e+00,  7.56230140e-02],\n",
       "       [ 7.77183507e-01, -8.34608477e-02],\n",
       "       [-1.39656414e+00,  1.44518385e-01],\n",
       "       [-2.91049874e-01, -2.01289478e-01],\n",
       "       [ 1.88864221e+00,  2.31419563e-01],\n",
       "       [-7.11544293e-01,  1.13426118e-01],\n",
       "       [ 6.38884130e-01,  3.88212853e-02],\n",
       "       [ 5.48059617e-01, -2.00775267e-01],\n",
       "       [-2.19312436e-01,  2.08243673e-01],\n",
       "       [-3.87789490e-01,  6.89135848e-02],\n",
       "       [ 7.15219956e-01,  1.13841003e-01],\n",
       "       [-1.08373816e+00,  7.78081042e-02],\n",
       "       [-2.99917403e-01, -5.86382919e-02],\n",
       "       [-7.96849021e-01,  2.44527383e-01],\n",
       "       [-8.12568346e-01, -1.17341246e-01],\n",
       "       [-1.54018281e+00, -3.24862050e-02],\n",
       "       [-2.52920476e-01, -4.86012463e-02],\n",
       "       [ 6.26464454e-01, -1.68045678e-01],\n",
       "       [-1.61007571e+00,  2.28082001e-01],\n",
       "       [ 5.04240563e-01,  5.04806457e-03],\n",
       "       [ 5.53935753e-01,  1.33299389e-01],\n",
       "       [ 6.81911252e-01,  1.73541132e-02],\n",
       "       [-2.00157228e-02, -6.76884664e-02],\n",
       "       [ 1.13550833e-01,  1.21428285e-01],\n",
       "       [ 2.92286085e-02,  7.90509091e-02],\n",
       "       [-2.14393483e-01,  1.41239296e-01],\n",
       "       [-1.03406124e+00,  2.18106452e-01],\n",
       "       [ 3.88635004e-01,  1.00903110e-01],\n",
       "       [ 9.96727811e-01, -4.36048501e-02],\n",
       "       [ 1.39223653e+00,  1.10141389e-01],\n",
       "       [ 4.57043694e-01, -4.97379329e-02],\n",
       "       [ 6.81839901e-01, -2.94160957e-01],\n",
       "       [-9.05233246e-01, -4.64644357e-02],\n",
       "       [ 4.94316334e-01,  1.68112686e-02],\n",
       "       [ 6.22411280e-01,  1.21231745e-01],\n",
       "       [ 3.26088548e-01,  1.17087443e-01],\n",
       "       [ 4.52560386e-01, -2.85079894e-01],\n",
       "       [ 6.81840663e-01, -3.41435056e-02],\n",
       "       [-2.44832816e-01,  1.35036709e-01],\n",
       "       [-5.27149562e-01,  1.89232462e-02],\n",
       "       [-4.51448737e-01, -2.94371271e-01],\n",
       "       [-1.42864453e+00,  8.68104419e-02],\n",
       "       [ 8.05233004e-01, -1.33401389e-01],\n",
       "       [ 1.81049742e-01, -4.30809501e-02],\n",
       "       [ 3.49039347e-01,  5.18320475e-02],\n",
       "       [ 2.65803583e+00,  3.49490740e-02],\n",
       "       [-1.34272221e+00,  1.57302515e-01],\n",
       "       [-1.73026340e-01,  6.13578430e-02],\n",
       "       [ 6.13676729e-01, -1.16464100e-01],\n",
       "       [-1.89940741e+00,  1.26393840e-04],\n",
       "       [-7.93074429e-01, -8.40401939e-02],\n",
       "       [-4.17072486e-01, -3.26912551e-03],\n",
       "       [ 1.54913526e-01, -1.35977010e-01],\n",
       "       [ 2.44646603e-01,  1.23357386e-01],\n",
       "       [ 7.26337140e-01, -2.31185881e-01],\n",
       "       [-7.91592424e-01, -1.65553219e-02],\n",
       "       [ 4.39666794e-01,  3.74049336e-02],\n",
       "       [-2.66630687e-01, -4.54841080e-02],\n",
       "       [-8.77131636e-01,  8.39045636e-02],\n",
       "       [-6.37447634e-01, -1.26191453e-01],\n",
       "       [-7.72982393e-01, -1.80436148e-01],\n",
       "       [-1.04616382e+00, -2.70917422e-01],\n",
       "       [ 1.15209837e+00,  1.70296296e-01],\n",
       "       [-5.26661400e-02,  2.53435288e-01],\n",
       "       [-9.74296354e-01,  1.59299503e-01],\n",
       "       [-6.24348505e-01,  2.99999965e-02],\n",
       "       [-1.00475074e+00, -6.19074182e-02],\n",
       "       [ 5.89973268e-01, -7.11873850e-02],\n",
       "       [ 1.50344054e+00,  2.49410266e-01],\n",
       "       [ 1.27433349e+00, -1.35521726e-02],\n",
       "       [-1.25658172e+00, -3.83491260e-02],\n",
       "       [ 1.37852445e-01, -2.90514917e-02],\n",
       "       [-1.36126475e+00, -2.11338817e-02],\n",
       "       [ 7.27518820e-01,  7.13551004e-03],\n",
       "       [ 4.50501231e-01,  2.09969271e-02],\n",
       "       [-1.17577071e-01, -6.02107305e-03],\n",
       "       [-8.49638130e-01,  3.70494278e-03],\n",
       "       [-9.51657336e-02, -9.32144273e-03],\n",
       "       [-1.81175961e-01,  8.87826210e-03],\n",
       "       [ 2.81596080e-01,  1.07511673e-01],\n",
       "       [-2.56560634e-01, -2.81842071e-02],\n",
       "       [ 8.52804745e-01, -5.63254552e-02],\n",
       "       [-4.77688980e-01, -1.35849029e-01],\n",
       "       [-2.96471868e-01, -1.58417778e-01],\n",
       "       [ 1.68108524e-03, -1.32621236e-02],\n",
       "       [-2.05727542e-01,  9.02947875e-02],\n",
       "       [ 8.12610001e-01,  6.90986331e-02],\n",
       "       [-7.06157363e-02, -4.72508076e-02],\n",
       "       [ 2.31690062e-01, -1.02421889e-02],\n",
       "       [-1.59605923e-01,  8.23272207e-02],\n",
       "       [-5.98727081e-01,  4.72125782e-02],\n",
       "       [ 1.01944512e+00,  5.31196102e-02],\n",
       "       [-7.01462226e-01, -5.21123677e-02],\n",
       "       [-1.40420099e+00,  1.76954830e-01],\n",
       "       [ 6.94997907e-01, -2.24640259e-01],\n",
       "       [ 5.18636606e-01, -8.09180525e-02],\n",
       "       [ 4.83061626e-01, -1.09408815e-01],\n",
       "       [ 6.79198052e-01,  1.51173114e-01],\n",
       "       [-1.30170017e+00,  7.09063876e-02],\n",
       "       [-2.71805220e-01, -8.58900888e-02],\n",
       "       [ 9.47603686e-01,  1.11545123e-01],\n",
       "       [-3.49630397e-01,  8.16807591e-02],\n",
       "       [ 4.85113462e-01, -1.88841298e-02],\n",
       "       [-3.04715098e-01,  2.57745706e-01],\n",
       "       [-3.31839520e-01, -1.33854420e-02],\n",
       "       [-1.38578436e+00, -3.31971953e-02],\n",
       "       [ 8.84502948e-01,  1.00276096e-01],\n",
       "       [-2.47084475e+00,  1.14843232e-01],\n",
       "       [-9.56899804e-02,  2.34825376e-01],\n",
       "       [-4.64806358e-01,  5.21249428e-02],\n",
       "       [ 7.06669625e-01,  2.33625162e-01],\n",
       "       [ 1.54312708e-01, -1.74122263e-01],\n",
       "       [ 5.45819213e-01, -8.34943531e-02],\n",
       "       [ 1.46023727e-01,  1.15988548e-02],\n",
       "       [ 9.57253276e-01,  8.20885098e-02],\n",
       "       [-6.91815248e-01, -1.45754887e-01],\n",
       "       [-1.00443516e-01, -2.94833747e-01],\n",
       "       [ 2.77924488e-01,  2.99615388e-01],\n",
       "       [-1.20207491e+00, -1.07726832e-01],\n",
       "       [-6.04953108e-02, -2.42479229e-01],\n",
       "       [-1.03273685e+00,  2.68126535e-02],\n",
       "       [ 6.88215760e-01,  1.67472633e-01],\n",
       "       [-1.21050656e+00, -4.69504001e-02],\n",
       "       [-2.40052449e-01,  6.10344465e-02],\n",
       "       [-6.06855334e-01,  1.52362015e-01],\n",
       "       [ 1.29217575e+00,  1.34627645e-01],\n",
       "       [-1.03282074e-01, -6.57356874e-02],\n",
       "       [-1.41361475e+00, -2.28323173e-02],\n",
       "       [ 7.57783205e-01,  7.00756512e-02],\n",
       "       [ 1.41360423e+00, -1.55883244e-01],\n",
       "       [ 1.99564613e+00,  7.67233940e-02],\n",
       "       [ 1.66865955e+00, -2.17311439e-01],\n",
       "       [ 1.66032125e+00, -9.47319393e-02],\n",
       "       [ 4.24742508e-01,  2.03171071e-02],\n",
       "       [-9.26445715e-01,  9.12224833e-02],\n",
       "       [ 3.28504629e-02, -1.25706416e-01],\n",
       "       [-5.17521702e-01, -7.20956324e-02],\n",
       "       [-9.24887775e-02, -6.30062621e-02],\n",
       "       [-3.05962249e-02, -3.57199779e-03],\n",
       "       [ 1.30795754e-01, -4.00179911e-03],\n",
       "       [-7.74659629e-02, -7.83158849e-02],\n",
       "       [-4.20826569e-01,  5.54588300e-03],\n",
       "       [ 6.78334448e-01, -1.36015287e-01],\n",
       "       [-6.35104074e-01,  1.06651554e-01],\n",
       "       [ 2.72075594e-01,  3.93203001e-01],\n",
       "       [-2.26801066e-01, -1.36909181e-01],\n",
       "       [-1.45908094e+00, -2.45286954e-01],\n",
       "       [ 4.03275391e-01, -7.98143251e-02],\n",
       "       [ 4.88618199e-01,  2.35232561e-03],\n",
       "       [-3.77797862e-02,  4.11805137e-02],\n",
       "       [ 2.25514691e-01,  2.18823208e-02],\n",
       "       [ 3.73320407e-01, -9.42631804e-03],\n",
       "       [ 9.96559672e-01,  1.35680064e-01],\n",
       "       [ 6.68655132e-01,  5.84565987e-02],\n",
       "       [-3.09207055e-01,  1.97249840e-01],\n",
       "       [ 1.44746288e+00, -1.14083649e-01],\n",
       "       [-1.27674147e-01,  7.26979511e-02],\n",
       "       [ 1.95898129e-02, -6.44892347e-02],\n",
       "       [-4.68331172e-01,  7.43248455e-02],\n",
       "       [-7.59794861e-01, -9.50500102e-02],\n",
       "       [ 2.11566325e+00, -1.50228254e-01],\n",
       "       [-1.28843614e+00, -2.56574123e-01],\n",
       "       [ 5.24455206e-01,  2.90379472e-01],\n",
       "       [ 2.68082969e-01,  1.04520533e-01],\n",
       "       [ 4.06271559e-02, -1.31461762e-01],\n",
       "       [-1.63087335e+00, -2.89691466e-01],\n",
       "       [ 4.50273668e-01,  2.87481726e-02],\n",
       "       [-1.41736985e+00,  9.84653747e-02],\n",
       "       [-3.20579341e-01,  7.34129168e-02],\n",
       "       [-2.16095416e+00, -6.30801894e-02],\n",
       "       [ 7.55938440e-01,  1.58567217e-02],\n",
       "       [ 1.13147728e+00, -1.63990641e-01],\n",
       "       [-4.01022769e-01,  9.35581760e-02],\n",
       "       [-1.33261395e-01,  2.30758543e-01],\n",
       "       [-1.20765775e-01, -2.63426989e-02],\n",
       "       [ 1.03185993e+00, -1.29167415e-01],\n",
       "       [-1.29878689e-01, -1.84090463e-01],\n",
       "       [-4.08011754e-01,  6.01636158e-02],\n",
       "       [ 4.17084437e-01,  9.04137707e-02],\n",
       "       [-1.00930809e-01, -6.78582909e-02],\n",
       "       [ 7.22839507e-02, -2.66653403e-02],\n",
       "       [ 6.47903117e-01, -6.91638080e-02],\n",
       "       [ 4.74689466e-01, -1.14557938e-03],\n",
       "       [ 6.85499472e-01, -2.13675563e-01],\n",
       "       [-1.49366216e+00,  5.05889730e-02],\n",
       "       [-3.49297457e-01, -2.69159245e-01],\n",
       "       [-7.79713261e-01, -1.13958001e-01],\n",
       "       [ 5.67446775e-01, -1.25273441e-01],\n",
       "       [ 5.18831382e-02,  2.76513979e-01],\n",
       "       [ 1.25350822e+00, -1.59067690e-01],\n",
       "       [-8.53016941e-01,  2.26324489e-03],\n",
       "       [-2.61547685e-01, -9.79084715e-02],\n",
       "       [-2.02667441e+00, -2.51066183e-02],\n",
       "       [ 1.20688282e+00,  5.97125713e-03],\n",
       "       [-3.53816725e-01, -9.42400167e-02]])"
      ]
     },
     "execution_count": 26,
     "metadata": {},
     "output_type": "execute_result"
    }
   ],
   "source": []
  },
  {
   "cell_type": "code",
   "execution_count": 27,
   "metadata": {},
   "outputs": [],
   "source": [
    "pc1 = pca.transform(X)[:,0]\n",
    "pc2 = pca.transform(X)[:,1]"
   ]
  },
  {
   "cell_type": "code",
   "execution_count": 33,
   "metadata": {},
   "outputs": [
    {
     "name": "stdout",
     "output_type": "stream",
     "text": [
      "[ 0.03351168 -0.00408072] [-2.4406829  -0.86497833]\n",
      "[ 0.03351168 -0.00408072] [-0.10050192  0.38107044]\n",
      "[0 0] [ 2.61969149e+00 -1.60409840e-16]\n",
      "[0 0] [4.99411294e-17 4.07800269e-01]\n"
     ]
    },
    {
     "data": {
      "image/png": "[encoded data removed]",
      "text/plain": [
       "<Figure size 1152x432 with 2 Axes>"
      ]
     },
     "metadata": {
      "needs_background": "light"
     },
     "output_type": "display_data"
    }
   ],
   "source": [
    "# plot data\n",
    "fig, (ax1, ax2) = plt.subplots(1, 2, figsize=(16,6))\n",
    "\n",
    "#ax1\n",
    "ax1.scatter(X[:, 0], X[:, 1], alpha=0.2)\n",
    "\n",
    "for length, vector in zip(pca.explained_variance_, pca.components_):\n",
    "    v = vector * 3 * np.sqrt(length)\n",
    "    draw_vector(pca.mean_, pca.mean_ + v, ax=ax1)\n",
    "    \n",
    "ax1.set_ylim([-2,2])\n",
    "\n",
    "# ax2\n",
    "ax2.scatter(pc1, pc2, alpha=0.2, )\n",
    "count = 0\n",
    "for length, vector in zip(pca.explained_variance_, pca.components_):\n",
    "    v = vector * 3 * np.sqrt(length)\n",
    "    count += np.pi/2\n",
    "    draw_vector(np.array([0, 0]) , np.array([np.sin(count) * np.sqrt(length) * 3, -np.cos(count) * np.sqrt(length) * 3]) , ax=ax2)\n",
    "\n",
    "    \n",
    "ax1.set_xlabel('$X_1$')\n",
    "ax1.set_ylabel('$X_2$')\n",
    "\n",
    "ax2.set_xlabel('$PC_1$')\n",
    "ax2.set_ylabel('$PC_2$')\n",
    "plt.axis('equal');"
   ]
  },
  {
   "cell_type": "markdown",
   "metadata": {},
   "source": [
    "- So what the PCA has done was effectively rotate the original features into a new dimension that was more suitable.<br>\n",
    "- Now, you have at the x-axis a variable that contains most of the information, and at the y-axis a variable that contains the following most information (although in this case it is so small)."
   ]
  },
  {
   "cell_type": "code",
   "execution_count": null,
   "metadata": {},
   "outputs": [],
   "source": []
  }
 ],
 "metadata": {
  "kernelspec": {
   "display_name": "Python 3",
   "language": "python",
   "name": "python3"
  },
  "language_info": {
   "codemirror_mode": {
    "name": "ipython",
    "version": 3
   },
   "file_extension": ".py",
   "mimetype": "text/x-python",
   "name": "python",
   "nbconvert_exporter": "python",
   "pygments_lexer": "ipython3",
   "version": "3.7.6"
  },
  "toc": {
   "base_numbering": 1,
   "nav_menu": {},
   "number_sections": true,
   "sideBar": true,
   "skip_h1_title": false,
   "title_cell": "Table of Contents",
   "title_sidebar": "Contents",
   "toc_cell": false,
   "toc_position": {},
   "toc_section_display": true,
   "toc_window_display": false
  },
  "varInspector": {
   "cols": {
    "lenName": 16,
    "lenType": 16,
    "lenVar": 40
   },
   "kernels_config": {
    "python": {
     "delete_cmd_postfix": "",
     "delete_cmd_prefix": "del ",
     "library": "var_list.py",
     "varRefreshCmd": "print(var_dic_list())"
    },
    "r": {
     "delete_cmd_postfix": ") ",
     "delete_cmd_prefix": "rm(",
     "library": "var_list.r",
     "varRefreshCmd": "cat(var_dic_list()) "
    }
   },
   "types_to_exclude": [
    "module",
    "function",
    "builtin_function_or_method",
    "instance",
    "_Feature"
   ],
   "window_display": false
  }
 },
 "nbformat": 4,
 "nbformat_minor": 4
}
