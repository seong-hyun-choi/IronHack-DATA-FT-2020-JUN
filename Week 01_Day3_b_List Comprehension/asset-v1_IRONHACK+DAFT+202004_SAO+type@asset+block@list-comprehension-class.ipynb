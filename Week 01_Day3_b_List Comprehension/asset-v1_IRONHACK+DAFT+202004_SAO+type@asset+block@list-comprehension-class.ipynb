{
 "cells": [
  {
   "cell_type": "markdown",
   "metadata": {},
   "source": [
    "# Lists\n",
    "\n",
    "Sequencia de elementos mutáveis"
   ]
  },
  {
   "cell_type": "code",
   "execution_count": 8,
   "metadata": {
    "ExecuteTime": {
     "end_time": "2020-06-03T14:10:33.733860Z",
     "start_time": "2020-06-03T14:10:33.730868Z"
    }
   },
   "outputs": [],
   "source": [
    "# create an empty list\n",
    "my_list = []"
   ]
  },
  {
   "cell_type": "code",
   "execution_count": 9,
   "metadata": {
    "ExecuteTime": {
     "end_time": "2020-06-03T14:10:39.277830Z",
     "start_time": "2020-06-03T14:10:39.273827Z"
    }
   },
   "outputs": [
    {
     "data": {
      "text/plain": [
       "list"
      ]
     },
     "execution_count": 9,
     "metadata": {},
     "output_type": "execute_result"
    }
   ],
   "source": [
    "type(my_list)"
   ]
  },
  {
   "cell_type": "code",
   "execution_count": 18,
   "metadata": {
    "ExecuteTime": {
     "end_time": "2020-06-03T14:13:18.596949Z",
     "start_time": "2020-06-03T14:13:18.591964Z"
    }
   },
   "outputs": [
    {
     "data": {
      "text/plain": [
       "int"
      ]
     },
     "execution_count": 18,
     "metadata": {},
     "output_type": "execute_result"
    }
   ],
   "source": [
    "type(my_list[0])"
   ]
  },
  {
   "cell_type": "code",
   "execution_count": 10,
   "metadata": {
    "ExecuteTime": {
     "end_time": "2020-06-03T14:10:52.039733Z",
     "start_time": "2020-06-03T14:10:52.036742Z"
    }
   },
   "outputs": [],
   "source": [
    "my_list = [1, 3]"
   ]
  },
  {
   "cell_type": "code",
   "execution_count": 11,
   "metadata": {
    "ExecuteTime": {
     "end_time": "2020-06-03T14:10:54.865990Z",
     "start_time": "2020-06-03T14:10:54.861002Z"
    }
   },
   "outputs": [
    {
     "data": {
      "text/plain": [
       "[1, 3]"
      ]
     },
     "execution_count": 11,
     "metadata": {},
     "output_type": "execute_result"
    }
   ],
   "source": [
    "my_list"
   ]
  },
  {
   "cell_type": "code",
   "execution_count": 12,
   "metadata": {
    "ExecuteTime": {
     "end_time": "2020-06-03T14:11:51.022511Z",
     "start_time": "2020-06-03T14:11:51.019519Z"
    }
   },
   "outputs": [],
   "source": [
    "my_list.append(10)"
   ]
  },
  {
   "cell_type": "code",
   "execution_count": 14,
   "metadata": {
    "ExecuteTime": {
     "end_time": "2020-06-03T14:12:53.290122Z",
     "start_time": "2020-06-03T14:12:53.286133Z"
    }
   },
   "outputs": [],
   "source": [
    "my_list[0] = 20"
   ]
  },
  {
   "cell_type": "code",
   "execution_count": 19,
   "metadata": {
    "ExecuteTime": {
     "end_time": "2020-06-03T14:13:40.596633Z",
     "start_time": "2020-06-03T14:13:40.592644Z"
    }
   },
   "outputs": [],
   "source": [
    "my_list[1] = 'a'"
   ]
  },
  {
   "cell_type": "code",
   "execution_count": 20,
   "metadata": {
    "ExecuteTime": {
     "end_time": "2020-06-03T14:13:42.897689Z",
     "start_time": "2020-06-03T14:13:42.892702Z"
    }
   },
   "outputs": [
    {
     "data": {
      "text/plain": [
       "[20, 'a', 10]"
      ]
     },
     "execution_count": 20,
     "metadata": {},
     "output_type": "execute_result"
    }
   ],
   "source": [
    "my_list"
   ]
  },
  {
   "cell_type": "code",
   "execution_count": 21,
   "metadata": {
    "ExecuteTime": {
     "end_time": "2020-06-03T14:14:12.216754Z",
     "start_time": "2020-06-03T14:14:12.213762Z"
    }
   },
   "outputs": [],
   "source": [
    "my_list.append([1,2,3,4])"
   ]
  },
  {
   "cell_type": "code",
   "execution_count": 27,
   "metadata": {
    "ExecuteTime": {
     "end_time": "2020-06-03T14:14:47.809235Z",
     "start_time": "2020-06-03T14:14:47.805246Z"
    }
   },
   "outputs": [
    {
     "data": {
      "text/plain": [
       "[20, 'a', 10, [1, 2, 3, 4]]"
      ]
     },
     "execution_count": 27,
     "metadata": {},
     "output_type": "execute_result"
    }
   ],
   "source": [
    "my_list"
   ]
  },
  {
   "cell_type": "code",
   "execution_count": 28,
   "metadata": {
    "ExecuteTime": {
     "end_time": "2020-06-03T14:15:16.188860Z",
     "start_time": "2020-06-03T14:15:16.184871Z"
    }
   },
   "outputs": [
    {
     "data": {
      "text/plain": [
       "4"
      ]
     },
     "execution_count": 28,
     "metadata": {},
     "output_type": "execute_result"
    }
   ],
   "source": [
    "my_list[3][3]"
   ]
  },
  {
   "cell_type": "code",
   "execution_count": 33,
   "metadata": {
    "ExecuteTime": {
     "end_time": "2020-06-03T14:15:55.451900Z",
     "start_time": "2020-06-03T14:15:55.446913Z"
    }
   },
   "outputs": [
    {
     "data": {
      "text/plain": [
       "list"
      ]
     },
     "execution_count": 33,
     "metadata": {},
     "output_type": "execute_result"
    }
   ],
   "source": [
    "type(my_list[-1])"
   ]
  },
  {
   "cell_type": "code",
   "execution_count": 32,
   "metadata": {
    "ExecuteTime": {
     "end_time": "2020-06-03T14:15:47.620792Z",
     "start_time": "2020-06-03T14:15:47.615806Z"
    }
   },
   "outputs": [
    {
     "data": {
      "text/plain": [
       "int"
      ]
     },
     "execution_count": 32,
     "metadata": {},
     "output_type": "execute_result"
    }
   ],
   "source": [
    "type(my_list[-1][0])"
   ]
  },
  {
   "cell_type": "code",
   "execution_count": 34,
   "metadata": {
    "ExecuteTime": {
     "end_time": "2020-06-03T14:16:09.825449Z",
     "start_time": "2020-06-03T14:16:09.822457Z"
    }
   },
   "outputs": [],
   "source": [
    "my_list.append((10,3))"
   ]
  },
  {
   "cell_type": "code",
   "execution_count": 37,
   "metadata": {
    "ExecuteTime": {
     "end_time": "2020-06-03T14:16:22.774076Z",
     "start_time": "2020-06-03T14:16:22.768091Z"
    }
   },
   "outputs": [
    {
     "data": {
      "text/plain": [
       "tuple"
      ]
     },
     "execution_count": 37,
     "metadata": {},
     "output_type": "execute_result"
    }
   ],
   "source": [
    "type(my_list[-1])"
   ]
  },
  {
   "cell_type": "code",
   "execution_count": 38,
   "metadata": {
    "ExecuteTime": {
     "end_time": "2020-06-03T14:16:38.887175Z",
     "start_time": "2020-06-03T14:16:38.884183Z"
    }
   },
   "outputs": [],
   "source": [
    "my_list.append({'andre':'prof', 'matheus':'TA'})"
   ]
  },
  {
   "cell_type": "code",
   "execution_count": 39,
   "metadata": {
    "ExecuteTime": {
     "end_time": "2020-06-03T14:16:39.670630Z",
     "start_time": "2020-06-03T14:16:39.665643Z"
    }
   },
   "outputs": [
    {
     "data": {
      "text/plain": [
       "[20, 'a', 10, [1, 2, 3, 4], (10, 3), {'andre': 'prof', 'matheus': 'TA'}]"
      ]
     },
     "execution_count": 39,
     "metadata": {},
     "output_type": "execute_result"
    }
   ],
   "source": [
    "my_list"
   ]
  },
  {
   "cell_type": "code",
   "execution_count": 42,
   "metadata": {
    "ExecuteTime": {
     "end_time": "2020-06-03T14:17:15.568008Z",
     "start_time": "2020-06-03T14:17:15.564019Z"
    }
   },
   "outputs": [
    {
     "data": {
      "text/plain": [
       "'TA'"
      ]
     },
     "execution_count": 42,
     "metadata": {},
     "output_type": "execute_result"
    }
   ],
   "source": [
    "my_list[-1]['matheus']"
   ]
  },
  {
   "cell_type": "code",
   "execution_count": 44,
   "metadata": {
    "ExecuteTime": {
     "end_time": "2020-06-03T14:18:02.187101Z",
     "start_time": "2020-06-03T14:18:02.184109Z"
    }
   },
   "outputs": [],
   "source": [
    "my_list[-1].update({'duane':'student'})"
   ]
  },
  {
   "cell_type": "code",
   "execution_count": 45,
   "metadata": {
    "ExecuteTime": {
     "end_time": "2020-06-03T14:18:05.686185Z",
     "start_time": "2020-06-03T14:18:05.682196Z"
    }
   },
   "outputs": [
    {
     "data": {
      "text/plain": [
       "[20,\n",
       " 'a',\n",
       " 10,\n",
       " [1, 2, 3, 4],\n",
       " (10, 3),\n",
       " {'andre': 'prof', 'matheus': 'TA', 'duane': 'student'}]"
      ]
     },
     "execution_count": 45,
     "metadata": {},
     "output_type": "execute_result"
    }
   ],
   "source": [
    "my_list"
   ]
  },
  {
   "cell_type": "code",
   "execution_count": 47,
   "metadata": {
    "ExecuteTime": {
     "end_time": "2020-06-03T14:18:22.572402Z",
     "start_time": "2020-06-03T14:18:22.568412Z"
    }
   },
   "outputs": [],
   "source": [
    "my_tuple = (10, 3)"
   ]
  },
  {
   "cell_type": "code",
   "execution_count": 50,
   "metadata": {
    "ExecuteTime": {
     "end_time": "2020-06-03T14:18:41.958189Z",
     "start_time": "2020-06-03T14:18:41.955197Z"
    }
   },
   "outputs": [],
   "source": [
    "my_tuple = ({'andre':'prof'}, 10)"
   ]
  },
  {
   "cell_type": "code",
   "execution_count": 52,
   "metadata": {
    "ExecuteTime": {
     "end_time": "2020-06-03T14:18:50.191128Z",
     "start_time": "2020-06-03T14:18:50.187140Z"
    }
   },
   "outputs": [
    {
     "data": {
      "text/plain": [
       "tuple"
      ]
     },
     "execution_count": 52,
     "metadata": {},
     "output_type": "execute_result"
    }
   ],
   "source": [
    "type(my_tuple)"
   ]
  },
  {
   "cell_type": "code",
   "execution_count": 55,
   "metadata": {
    "ExecuteTime": {
     "end_time": "2020-06-03T14:19:18.444499Z",
     "start_time": "2020-06-03T14:19:18.441534Z"
    }
   },
   "outputs": [],
   "source": [
    "my_tuple[0].update({'duane':'student'})"
   ]
  },
  {
   "cell_type": "code",
   "execution_count": 56,
   "metadata": {
    "ExecuteTime": {
     "end_time": "2020-06-03T14:19:20.800117Z",
     "start_time": "2020-06-03T14:19:20.796129Z"
    }
   },
   "outputs": [
    {
     "data": {
      "text/plain": [
       "({'andre': 'prof', 'duane': 'student'}, 10)"
      ]
     },
     "execution_count": 56,
     "metadata": {},
     "output_type": "execute_result"
    }
   ],
   "source": [
    "my_tuple"
   ]
  },
  {
   "cell_type": "markdown",
   "metadata": {},
   "source": [
    "# List Comprehensions"
   ]
  },
  {
   "cell_type": "code",
   "execution_count": 60,
   "metadata": {
    "ExecuteTime": {
     "end_time": "2020-06-03T14:22:25.767432Z",
     "start_time": "2020-06-03T14:22:25.764441Z"
    }
   },
   "outputs": [],
   "source": [
    "import os"
   ]
  },
  {
   "cell_type": "code",
   "execution_count": 63,
   "metadata": {
    "ExecuteTime": {
     "end_time": "2020-06-03T14:22:47.146628Z",
     "start_time": "2020-06-03T14:22:47.141643Z"
    }
   },
   "outputs": [
    {
     "data": {
      "text/plain": [
       "['C:\\\\Users\\\\andreaguiar\\\\Desktop\\\\usr\\\\dev\\\\ironhack\\\\ft202006\\\\classes\\\\week1\\\\4_list_comprehensions',\n",
       " 'c:\\\\programas\\\\anaconda3\\\\python37.zip',\n",
       " 'c:\\\\programas\\\\anaconda3\\\\DLLs',\n",
       " 'c:\\\\programas\\\\anaconda3\\\\lib',\n",
       " 'c:\\\\programas\\\\anaconda3',\n",
       " '',\n",
       " 'C:\\\\Users\\\\andreaguiar\\\\AppData\\\\Roaming\\\\Python\\\\Python37\\\\site-packages',\n",
       " 'C:\\\\Users\\\\andreaguiar\\\\AppData\\\\Roaming\\\\Python\\\\Python37\\\\site-packages\\\\ironhack-0.0.1-py3.7.egg',\n",
       " 'C:\\\\Users\\\\andreaguiar\\\\AppData\\\\Roaming\\\\Python\\\\Python37\\\\site-packages\\\\termcolor-1.1.0-py3.7.egg',\n",
       " 'c:\\\\programas\\\\anaconda3\\\\lib\\\\site-packages',\n",
       " 'c:\\\\programas\\\\anaconda3\\\\lib\\\\site-packages\\\\pyvis-0.1.6.0-py3.7.egg',\n",
       " 'c:\\\\programas\\\\anaconda3\\\\lib\\\\site-packages\\\\win32',\n",
       " 'c:\\\\programas\\\\anaconda3\\\\lib\\\\site-packages\\\\win32\\\\lib',\n",
       " 'c:\\\\programas\\\\anaconda3\\\\lib\\\\site-packages\\\\Pythonwin',\n",
       " 'C:\\\\Users\\\\andreaguiar\\\\AppData\\\\Roaming\\\\Python\\\\Python37\\\\site-packages\\\\IPython\\\\extensions',\n",
       " 'C:\\\\Users\\\\andreaguiar\\\\.ipython']"
      ]
     },
     "execution_count": 63,
     "metadata": {},
     "output_type": "execute_result"
    }
   ],
   "source": [
    "os.sys.path"
   ]
  },
  {
   "cell_type": "code",
   "execution_count": 65,
   "metadata": {
    "ExecuteTime": {
     "end_time": "2020-06-03T14:24:50.353245Z",
     "start_time": "2020-06-03T14:24:50.350253Z"
    }
   },
   "outputs": [],
   "source": [
    "os.sys.path.append('C:/Users/andreaguiar/Desktop/usr/dist')"
   ]
  },
  {
   "cell_type": "code",
   "execution_count": 67,
   "metadata": {
    "ExecuteTime": {
     "end_time": "2020-06-03T14:25:48.372969Z",
     "start_time": "2020-06-03T14:25:48.369977Z"
    }
   },
   "outputs": [],
   "source": [
    "os.sys.path.insert(0, '/Users/andreaguiar/Desktop/usr/dist/')"
   ]
  },
  {
   "cell_type": "code",
   "execution_count": 68,
   "metadata": {
    "ExecuteTime": {
     "end_time": "2020-06-03T14:26:02.500421Z",
     "start_time": "2020-06-03T14:26:02.496431Z"
    }
   },
   "outputs": [
    {
     "data": {
      "text/plain": [
       "['/Users/andreaguiar/Desktop/usr/dist/',\n",
       " 'C:\\\\Users\\\\andreaguiar\\\\Desktop\\\\usr\\\\dev\\\\ironhack\\\\ft202006\\\\classes\\\\week1\\\\4_list_comprehensions',\n",
       " 'c:\\\\programas\\\\anaconda3\\\\python37.zip',\n",
       " 'c:\\\\programas\\\\anaconda3\\\\DLLs',\n",
       " 'c:\\\\programas\\\\anaconda3\\\\lib',\n",
       " 'c:\\\\programas\\\\anaconda3',\n",
       " '',\n",
       " 'C:\\\\Users\\\\andreaguiar\\\\AppData\\\\Roaming\\\\Python\\\\Python37\\\\site-packages',\n",
       " 'C:\\\\Users\\\\andreaguiar\\\\AppData\\\\Roaming\\\\Python\\\\Python37\\\\site-packages\\\\ironhack-0.0.1-py3.7.egg',\n",
       " 'C:\\\\Users\\\\andreaguiar\\\\AppData\\\\Roaming\\\\Python\\\\Python37\\\\site-packages\\\\termcolor-1.1.0-py3.7.egg',\n",
       " 'c:\\\\programas\\\\anaconda3\\\\lib\\\\site-packages',\n",
       " 'c:\\\\programas\\\\anaconda3\\\\lib\\\\site-packages\\\\pyvis-0.1.6.0-py3.7.egg',\n",
       " 'c:\\\\programas\\\\anaconda3\\\\lib\\\\site-packages\\\\win32',\n",
       " 'c:\\\\programas\\\\anaconda3\\\\lib\\\\site-packages\\\\win32\\\\lib',\n",
       " 'c:\\\\programas\\\\anaconda3\\\\lib\\\\site-packages\\\\Pythonwin',\n",
       " 'C:\\\\Users\\\\andreaguiar\\\\AppData\\\\Roaming\\\\Python\\\\Python37\\\\site-packages\\\\IPython\\\\extensions',\n",
       " 'C:\\\\Users\\\\andreaguiar\\\\.ipython',\n",
       " 'C:/Users/andreaguiar/Desktop/usr/dist']"
      ]
     },
     "execution_count": 68,
     "metadata": {},
     "output_type": "execute_result"
    }
   ],
   "source": [
    "os.sys.path"
   ]
  },
  {
   "cell_type": "code",
   "execution_count": 70,
   "metadata": {
    "ExecuteTime": {
     "end_time": "2020-06-03T14:27:18.956658Z",
     "start_time": "2020-06-03T14:27:18.951672Z"
    }
   },
   "outputs": [
    {
     "data": {
      "text/plain": [
       "['.ipynb_checkpoints',\n",
       " '.novo_arquivo.py',\n",
       " 'aaaaaaa\\uf00a\\uf00a\\uf00a\\uf00a\\uf00a\\uf00a\\uf00a',\n",
       " 'arquivo_com_nome_novo.xls',\n",
       " 'arquivo_inexistente.txt',\n",
       " 'arquivo_teste.ipynb',\n",
       " 'example.txt',\n",
       " 'exec.exe',\n",
       " 'hello.py',\n",
       " 'novo_folder']"
      ]
     },
     "execution_count": 70,
     "metadata": {},
     "output_type": "execute_result"
    }
   ],
   "source": [
    "os.listdir('C:/Users/andreaguiar/Desktop/Teste_Folder/')"
   ]
  },
  {
   "cell_type": "markdown",
   "metadata": {},
   "source": [
    "# Loops with lists"
   ]
  },
  {
   "cell_type": "code",
   "execution_count": 77,
   "metadata": {
    "ExecuteTime": {
     "end_time": "2020-06-03T14:31:14.673916Z",
     "start_time": "2020-06-03T14:31:14.670923Z"
    }
   },
   "outputs": [],
   "source": [
    "my_list[0] = 3"
   ]
  },
  {
   "cell_type": "code",
   "execution_count": 75,
   "metadata": {
    "ExecuteTime": {
     "end_time": "2020-06-03T14:30:30.906800Z",
     "start_time": "2020-06-03T14:30:30.903808Z"
    }
   },
   "outputs": [],
   "source": [
    "my_list.append(i)"
   ]
  },
  {
   "cell_type": "code",
   "execution_count": 72,
   "metadata": {
    "ExecuteTime": {
     "end_time": "2020-06-03T14:28:50.789699Z",
     "start_time": "2020-06-03T14:28:50.786708Z"
    }
   },
   "outputs": [],
   "source": [
    "my_list = []\n",
    "\n",
    "for i in range(5):\n",
    "    my_list.append(i)"
   ]
  },
  {
   "cell_type": "code",
   "execution_count": 78,
   "metadata": {
    "ExecuteTime": {
     "end_time": "2020-06-03T14:31:21.300941Z",
     "start_time": "2020-06-03T14:31:21.296953Z"
    }
   },
   "outputs": [
    {
     "data": {
      "text/plain": [
       "[3, 1, 2, 3, 4, 4]"
      ]
     },
     "execution_count": 78,
     "metadata": {},
     "output_type": "execute_result"
    }
   ],
   "source": [
    "my_list"
   ]
  },
  {
   "cell_type": "code",
   "execution_count": 88,
   "metadata": {
    "ExecuteTime": {
     "end_time": "2020-06-03T14:34:44.475739Z",
     "start_time": "2020-06-03T14:34:44.471750Z"
    }
   },
   "outputs": [
    {
     "data": {
      "text/plain": [
       "[]"
      ]
     },
     "execution_count": 88,
     "metadata": {},
     "output_type": "execute_result"
    }
   ],
   "source": [
    "new_list = []\n",
    "\n",
    "new_list"
   ]
  },
  {
   "cell_type": "code",
   "execution_count": 90,
   "metadata": {
    "ExecuteTime": {
     "end_time": "2020-06-03T14:35:12.530422Z",
     "start_time": "2020-06-03T14:35:12.526431Z"
    }
   },
   "outputs": [
    {
     "data": {
      "text/plain": [
       "[0, 1, 2, 3, 4]"
      ]
     },
     "execution_count": 90,
     "metadata": {},
     "output_type": "execute_result"
    }
   ],
   "source": [
    "list(range(5))"
   ]
  },
  {
   "cell_type": "code",
   "execution_count": 91,
   "metadata": {
    "ExecuteTime": {
     "end_time": "2020-06-03T14:35:37.476168Z",
     "start_time": "2020-06-03T14:35:36.966059Z"
    }
   },
   "outputs": [],
   "source": [
    "new_list = []\n",
    "for item in range(1000000):\n",
    "    x = item * 2\n",
    "    y = x**2\n",
    "    new_list.append(y)\n",
    "    \n",
    "print(new_list)"
   ]
  },
  {
   "cell_type": "code",
   "execution_count": 93,
   "metadata": {
    "ExecuteTime": {
     "end_time": "2020-06-03T14:36:31.775139Z",
     "start_time": "2020-06-03T14:36:31.767160Z"
    }
   },
   "outputs": [
    {
     "ename": "NameError",
     "evalue": "name 'my_undefined_list' is not defined",
     "output_type": "error",
     "traceback": [
      "\u001b[1;31m---------------------------------------------------------------------------\u001b[0m",
      "\u001b[1;31mNameError\u001b[0m                                 Traceback (most recent call last)",
      "\u001b[1;32m<ipython-input-93-7d641152fdc9>\u001b[0m in \u001b[0;36m<module>\u001b[1;34m\u001b[0m\n\u001b[0;32m      2\u001b[0m     \u001b[0mx\u001b[0m \u001b[1;33m=\u001b[0m \u001b[0mitem\u001b[0m \u001b[1;33m*\u001b[0m \u001b[1;36m2\u001b[0m\u001b[1;33m\u001b[0m\u001b[1;33m\u001b[0m\u001b[0m\n\u001b[0;32m      3\u001b[0m     \u001b[0my\u001b[0m \u001b[1;33m=\u001b[0m \u001b[0mx\u001b[0m\u001b[1;33m**\u001b[0m\u001b[1;36m2\u001b[0m\u001b[1;33m\u001b[0m\u001b[1;33m\u001b[0m\u001b[0m\n\u001b[1;32m----> 4\u001b[1;33m     \u001b[0mmy_undefined_list\u001b[0m\u001b[1;33m.\u001b[0m\u001b[0mappend\u001b[0m\u001b[1;33m(\u001b[0m\u001b[0my\u001b[0m\u001b[1;33m)\u001b[0m\u001b[1;33m\u001b[0m\u001b[1;33m\u001b[0m\u001b[0m\n\u001b[0m\u001b[0;32m      5\u001b[0m \u001b[1;33m\u001b[0m\u001b[0m\n\u001b[0;32m      6\u001b[0m \u001b[0mprint\u001b[0m\u001b[1;33m(\u001b[0m\u001b[0mmy_undefined_list\u001b[0m\u001b[1;33m)\u001b[0m\u001b[1;33m\u001b[0m\u001b[1;33m\u001b[0m\u001b[0m\n",
      "\u001b[1;31mNameError\u001b[0m: name 'my_undefined_list' is not defined"
     ]
    }
   ],
   "source": [
    "for item in range(1000000):\n",
    "    x = item * 2\n",
    "    y = x**2\n",
    "    my_undefined_list.append(y)\n",
    "    \n",
    "print(my_undefined_list)"
   ]
  },
  {
   "cell_type": "code",
   "execution_count": 86,
   "metadata": {
    "ExecuteTime": {
     "end_time": "2020-06-03T14:34:06.808561Z",
     "start_time": "2020-06-03T14:34:03.838962Z"
    },
    "scrolled": true
   },
   "outputs": [
    {
     "name": "stdout",
     "output_type": "stream",
     "text": [
      "Collecting tqdm"
     ]
    },
    {
     "name": "stderr",
     "output_type": "stream",
     "text": [
      "  WARNING: The script tqdm.exe is installed in 'C:\\Users\\andreaguiar\\AppData\\Roaming\\Python\\Python37\\Scripts' which is not on PATH.\n",
      "  Consider adding this directory to PATH or, if you prefer to suppress this warning, use --no-warn-script-location.\n",
      "  NOTE: The current PATH contains path(s) starting with `~`, which may not be expanded by all applications.\n"
     ]
    },
    {
     "name": "stdout",
     "output_type": "stream",
     "text": [
      "\n",
      "  Downloading tqdm-4.46.1-py2.py3-none-any.whl (63 kB)\n",
      "Installing collected packages: tqdm\n",
      "  Attempting uninstall: tqdm\n",
      "    Found existing installation: tqdm 4.45.0\n",
      "    Uninstalling tqdm-4.45.0:\n",
      "      Successfully uninstalled tqdm-4.45.0\n",
      "Successfully installed tqdm-4.46.1\n"
     ]
    }
   ],
   "source": [
    "# !pip install tqdm --upgrade --user"
   ]
  },
  {
   "cell_type": "code",
   "execution_count": null,
   "metadata": {},
   "outputs": [],
   "source": [
    "# !pip install tqdm\n",
    "# !pip3 install tqdm --user (windows users)"
   ]
  },
  {
   "cell_type": "markdown",
   "metadata": {},
   "source": [
    "# EXTRA: tqdm"
   ]
  },
  {
   "cell_type": "code",
   "execution_count": 97,
   "metadata": {
    "ExecuteTime": {
     "end_time": "2020-06-03T14:38:07.224699Z",
     "start_time": "2020-06-03T14:38:07.219713Z"
    }
   },
   "outputs": [],
   "source": [
    "from tqdm.auto import tqdm"
   ]
  },
  {
   "cell_type": "code",
   "execution_count": 102,
   "metadata": {
    "ExecuteTime": {
     "end_time": "2020-06-03T14:39:31.395025Z",
     "start_time": "2020-06-03T14:39:23.957453Z"
    }
   },
   "outputs": [
    {
     "data": {
      "application/vnd.jupyter.widget-view+json": {
       "model_id": "f3521402a56541049c09473488b3b46e",
       "version_major": 2,
       "version_minor": 0
      },
      "text/plain": [
       "HBox(children=(FloatProgress(value=0.0, description='Loading bar', max=10000000.0, style=ProgressStyle(descrip…"
      ]
     },
     "metadata": {},
     "output_type": "display_data"
    },
    {
     "name": "stdout",
     "output_type": "stream",
     "text": [
      "\n",
      "[0, 4, 16, 36, 64, 100, 144, 196, 256, 324, 400, 484, 576, 676, 784, 900, 1024, 1156, 1296, 1444, 1600, 1764, 1936, 2116, 2304, 2500, 2704, 2916, 3136, 3364, 3600, 3844, 4096, 4356, 4624, 4900, 5184, 5476, 5776, 6084, 6400, 6724, 7056, 7396, 7744, 8100, 8464, 8836, 9216, 9604, 10000, 10404, 10816, 11236, 11664, 12100, 12544, 12996, 13456, 13924, 14400, 14884, 15376, 15876, 16384, 16900, 17424, 17956, 18496, 19044, 19600, 20164, 20736, 21316, 21904, 22500, 23104, 23716, 24336, 24964, 25600, 26244, 26896, 27556, 28224, 28900, 29584, 30276, 30976, 31684, 32400, 33124, 33856, 34596, 35344, 36100, 36864, 37636, 38416, 39204]\n"
     ]
    }
   ],
   "source": [
    "new_list = []\n",
    "\n",
    "for item in tqdm(range(10000000), desc='Loading bar'):\n",
    "    x = item * 2\n",
    "    y = x**2\n",
    "    new_list.append(y)\n",
    "\n",
    "print(new_list[:100])"
   ]
  },
  {
   "cell_type": "markdown",
   "metadata": {},
   "source": [
    "\n",
    "# List comprehension"
   ]
  },
  {
   "cell_type": "code",
   "execution_count": 108,
   "metadata": {
    "ExecuteTime": {
     "end_time": "2020-06-03T14:41:50.275747Z",
     "start_time": "2020-06-03T14:41:50.271756Z"
    }
   },
   "outputs": [
    {
     "name": "stdout",
     "output_type": "stream",
     "text": [
      "[0, 1, 4, 9, 16, 25, 36, 49, 64, 81]\n"
     ]
    }
   ],
   "source": [
    "new_list = []\n",
    "\n",
    "for item in range(10):\n",
    "    new_list.append(item ** 2)\n",
    "\n",
    "print(new_list)"
   ]
  },
  {
   "cell_type": "code",
   "execution_count": 109,
   "metadata": {
    "ExecuteTime": {
     "end_time": "2020-06-03T14:42:07.887522Z",
     "start_time": "2020-06-03T14:42:07.883533Z"
    }
   },
   "outputs": [
    {
     "data": {
      "text/plain": [
       "[0, 1, 4, 9, 16, 25, 36, 49, 64, 81]"
      ]
     },
     "execution_count": 109,
     "metadata": {},
     "output_type": "execute_result"
    }
   ],
   "source": [
    "new_list = [ item ** 2 for item in range(10) ]\n",
    "new_list"
   ]
  },
  {
   "cell_type": "code",
   "execution_count": 110,
   "metadata": {
    "ExecuteTime": {
     "end_time": "2020-06-03T14:43:48.703533Z",
     "start_time": "2020-06-03T14:43:44.529520Z"
    }
   },
   "outputs": [],
   "source": [
    "new_list = []\n",
    "\n",
    "for item in range(10000000):\n",
    "    new_list.append(item ** 2)"
   ]
  },
  {
   "cell_type": "code",
   "execution_count": 112,
   "metadata": {
    "ExecuteTime": {
     "end_time": "2020-06-03T14:44:07.423859Z",
     "start_time": "2020-06-03T14:44:04.046834Z"
    }
   },
   "outputs": [],
   "source": [
    "new_list = [ item ** 2 for item in range(10000000) ]"
   ]
  },
  {
   "cell_type": "code",
   "execution_count": null,
   "metadata": {},
   "outputs": [],
   "source": [
    "# magic commands %, %%"
   ]
  },
  {
   "cell_type": "code",
   "execution_count": 116,
   "metadata": {
    "ExecuteTime": {
     "end_time": "2020-06-03T14:46:48.935850Z",
     "start_time": "2020-06-03T14:46:45.914048Z"
    }
   },
   "outputs": [
    {
     "name": "stdout",
     "output_type": "stream",
     "text": [
      "364 ms ± 3.47 ms per loop (mean ± std. dev. of 7 runs, 1 loop each)\n"
     ]
    }
   ],
   "source": [
    "%%timeit \n",
    "\n",
    "new_list = []\n",
    "\n",
    "for item in range(1000000):\n",
    "    new_list.append(item ** 2)"
   ]
  },
  {
   "cell_type": "code",
   "execution_count": 118,
   "metadata": {
    "ExecuteTime": {
     "end_time": "2020-06-03T14:47:14.294962Z",
     "start_time": "2020-06-03T14:47:11.427532Z"
    }
   },
   "outputs": [
    {
     "name": "stdout",
     "output_type": "stream",
     "text": [
      "347 ms ± 10.6 ms per loop (mean ± std. dev. of 7 runs, 1 loop each)\n"
     ]
    }
   ],
   "source": [
    "%%timeit \n",
    "\n",
    "new_list = [ item ** 2 for item in range(1000000) ]"
   ]
  },
  {
   "cell_type": "code",
   "execution_count": 128,
   "metadata": {
    "ExecuteTime": {
     "end_time": "2020-06-03T14:49:02.735655Z",
     "start_time": "2020-06-03T14:49:02.731666Z"
    }
   },
   "outputs": [
    {
     "data": {
      "text/plain": [
       "1"
      ]
     },
     "execution_count": 128,
     "metadata": {},
     "output_type": "execute_result"
    }
   ],
   "source": [
    "13 % 2"
   ]
  },
  {
   "cell_type": "code",
   "execution_count": 129,
   "metadata": {
    "ExecuteTime": {
     "end_time": "2020-06-03T14:49:13.891051Z",
     "start_time": "2020-06-03T14:49:13.887055Z"
    }
   },
   "outputs": [
    {
     "name": "stdout",
     "output_type": "stream",
     "text": [
      "[0, 2, 4, 6, 8]\n"
     ]
    }
   ],
   "source": [
    "new_list = []\n",
    "\n",
    "for item in range(10):\n",
    "    if item % 2 == 0:\n",
    "        new_list.append(item)\n",
    "        \n",
    "print(new_list)"
   ]
  },
  {
   "cell_type": "code",
   "execution_count": 132,
   "metadata": {
    "ExecuteTime": {
     "end_time": "2020-06-03T14:51:30.490979Z",
     "start_time": "2020-06-03T14:51:30.487961Z"
    }
   },
   "outputs": [],
   "source": [
    "my_new_list = [ item for item in range(10) if item % 2 == 0 ]"
   ]
  },
  {
   "cell_type": "code",
   "execution_count": 134,
   "metadata": {
    "ExecuteTime": {
     "end_time": "2020-06-03T14:52:05.976206Z",
     "start_time": "2020-06-03T14:52:05.971216Z"
    }
   },
   "outputs": [
    {
     "name": "stdout",
     "output_type": "stream",
     "text": [
      "[0, 4, 16, 36, 64]\n"
     ]
    }
   ],
   "source": [
    "new_list = []\n",
    "\n",
    "for item in range(10):\n",
    "    if item % 2 == 0:\n",
    "        new_list.append(item ** 2)\n",
    "        \n",
    "print(new_list)"
   ]
  },
  {
   "cell_type": "code",
   "execution_count": 137,
   "metadata": {
    "ExecuteTime": {
     "end_time": "2020-06-03T14:53:07.801931Z",
     "start_time": "2020-06-03T14:53:07.796944Z"
    }
   },
   "outputs": [
    {
     "data": {
      "text/plain": [
       "[0, 4, 16, 36, 64]"
      ]
     },
     "execution_count": 137,
     "metadata": {},
     "output_type": "execute_result"
    }
   ],
   "source": [
    "[banana ** 2 for banana in range(10) if banana % 2 == 0]"
   ]
  },
  {
   "cell_type": "code",
   "execution_count": 140,
   "metadata": {
    "ExecuteTime": {
     "end_time": "2020-06-03T14:56:06.319315Z",
     "start_time": "2020-06-03T14:56:06.316324Z"
    }
   },
   "outputs": [],
   "source": [
    "list_to_run = [5,3,8,2,5,0,3,6]"
   ]
  },
  {
   "cell_type": "code",
   "execution_count": 141,
   "metadata": {
    "ExecuteTime": {
     "end_time": "2020-06-03T14:56:07.541890Z",
     "start_time": "2020-06-03T14:56:07.537901Z"
    }
   },
   "outputs": [
    {
     "data": {
      "text/plain": [
       "[25, 9, 64, 4, 25, 0, 9, 36]"
      ]
     },
     "execution_count": 141,
     "metadata": {},
     "output_type": "execute_result"
    }
   ],
   "source": [
    "squared_items = []\n",
    "for i in list_to_run:\n",
    "    squared_items.append(i ** 2)\n",
    "    \n",
    "squared_items"
   ]
  },
  {
   "cell_type": "code",
   "execution_count": 147,
   "metadata": {
    "ExecuteTime": {
     "end_time": "2020-06-03T14:58:05.433163Z",
     "start_time": "2020-06-03T14:58:05.429172Z"
    }
   },
   "outputs": [
    {
     "data": {
      "text/plain": [
       "[25, 9, 64, 4, 25, 0, 9, 36]"
      ]
     },
     "execution_count": 147,
     "metadata": {},
     "output_type": "execute_result"
    }
   ],
   "source": [
    "[x**2 for x in [5,3,8,2,5,0,3,6]]"
   ]
  },
  {
   "cell_type": "code",
   "execution_count": 149,
   "metadata": {
    "ExecuteTime": {
     "end_time": "2020-06-03T14:59:11.126682Z",
     "start_time": "2020-06-03T14:59:11.122693Z"
    }
   },
   "outputs": [
    {
     "name": "stdout",
     "output_type": "stream",
     "text": [
      "0 5\n",
      "1 3\n",
      "2 8\n",
      "3 2\n",
      "4 5\n",
      "5 0\n",
      "6 3\n",
      "7 6\n"
     ]
    }
   ],
   "source": [
    "for index in range(len(list_to_run)):\n",
    "    print(index, list_to_run[index])"
   ]
  },
  {
   "cell_type": "code",
   "execution_count": 154,
   "metadata": {
    "ExecuteTime": {
     "end_time": "2020-06-03T15:02:55.797838Z",
     "start_time": "2020-06-03T15:02:55.793848Z"
    }
   },
   "outputs": [
    {
     "name": "stdout",
     "output_type": "stream",
     "text": [
      "19999998\n"
     ]
    }
   ],
   "source": [
    "y = print(x)"
   ]
  },
  {
   "cell_type": "code",
   "execution_count": 163,
   "metadata": {
    "ExecuteTime": {
     "end_time": "2020-06-03T15:03:06.392555Z",
     "start_time": "2020-06-03T15:03:06.389563Z"
    }
   },
   "outputs": [],
   "source": [
    "y"
   ]
  },
  {
   "cell_type": "code",
   "execution_count": 167,
   "metadata": {
    "ExecuteTime": {
     "end_time": "2020-06-03T15:04:34.016314Z",
     "start_time": "2020-06-03T15:04:34.012325Z"
    }
   },
   "outputs": [
    {
     "name": "stdout",
     "output_type": "stream",
     "text": [
      "19999998\n"
     ]
    }
   ],
   "source": [
    "print(x)"
   ]
  },
  {
   "cell_type": "code",
   "execution_count": 165,
   "metadata": {
    "ExecuteTime": {
     "end_time": "2020-06-03T15:03:50.822318Z",
     "start_time": "2020-06-03T15:03:50.818328Z"
    }
   },
   "outputs": [
    {
     "name": "stdout",
     "output_type": "stream",
     "text": [
      "0\n",
      "2\n",
      "4\n",
      "6\n",
      "8\n",
      "10\n",
      "12\n",
      "14\n",
      "16\n",
      "18\n"
     ]
    }
   ],
   "source": [
    "new_list = [print(item * 2) for item in range(10)]"
   ]
  },
  {
   "cell_type": "code",
   "execution_count": 166,
   "metadata": {
    "ExecuteTime": {
     "end_time": "2020-06-03T15:03:56.901416Z",
     "start_time": "2020-06-03T15:03:56.897427Z"
    }
   },
   "outputs": [
    {
     "data": {
      "text/plain": [
       "[None, None, None, None, None, None, None, None, None, None]"
      ]
     },
     "execution_count": 166,
     "metadata": {},
     "output_type": "execute_result"
    }
   ],
   "source": [
    "new_list"
   ]
  },
  {
   "cell_type": "markdown",
   "metadata": {},
   "source": [
    "# Condições"
   ]
  },
  {
   "cell_type": "code",
   "execution_count": 168,
   "metadata": {
    "ExecuteTime": {
     "end_time": "2020-06-03T15:05:19.303674Z",
     "start_time": "2020-06-03T15:05:19.299685Z"
    },
    "scrolled": true
   },
   "outputs": [
    {
     "name": "stdout",
     "output_type": "stream",
     "text": [
      "[]\n",
      "[]\n",
      "[]\n",
      "[]\n",
      "[]\n",
      "[]\n",
      "[]\n",
      "[]\n",
      "[]\n",
      "[]\n",
      "[]\n",
      "[]\n",
      "[]\n",
      "[]\n",
      "[]\n",
      "[15]\n",
      "[15, 16]\n",
      "[15, 16, 17]\n",
      "[15, 16, 17, 18]\n",
      "[15, 16, 17, 18, 19]\n"
     ]
    }
   ],
   "source": [
    "lst = []\n",
    "\n",
    "for item in range(20):\n",
    "    if item >= 15:\n",
    "        lst.append(item)\n",
    "    \n",
    "    print(lst)\n",
    "    \n"
   ]
  },
  {
   "cell_type": "code",
   "execution_count": 171,
   "metadata": {
    "ExecuteTime": {
     "end_time": "2020-06-03T15:06:15.690848Z",
     "start_time": "2020-06-03T15:06:15.685860Z"
    }
   },
   "outputs": [
    {
     "data": {
      "text/plain": [
       "[15, 16, 17, 18, 19]"
      ]
     },
     "execution_count": 171,
     "metadata": {},
     "output_type": "execute_result"
    }
   ],
   "source": [
    "[item for item in range(20) if item >= 15]"
   ]
  },
  {
   "cell_type": "code",
   "execution_count": 172,
   "metadata": {
    "ExecuteTime": {
     "end_time": "2020-06-03T15:08:11.605382Z",
     "start_time": "2020-06-03T15:08:11.600396Z"
    }
   },
   "outputs": [
    {
     "data": {
      "text/plain": [
       "[[1, 2, 3], [4, 5, 6], [7, 8, 9]]"
      ]
     },
     "execution_count": 172,
     "metadata": {},
     "output_type": "execute_result"
    }
   ],
   "source": [
    "lst_lst = [[1,2,3], [4,5,6], [7,8,9]]\n",
    "lst_lst"
   ]
  },
  {
   "cell_type": "code",
   "execution_count": 177,
   "metadata": {
    "ExecuteTime": {
     "end_time": "2020-06-03T15:09:43.009113Z",
     "start_time": "2020-06-03T15:09:43.005124Z"
    }
   },
   "outputs": [
    {
     "name": "stdout",
     "output_type": "stream",
     "text": [
      "[6, 7, 8, 9]\n"
     ]
    }
   ],
   "source": [
    "lst = []\n",
    "\n",
    "for item in lst_lst:\n",
    "    #print(item)\n",
    "    for another_item in item:\n",
    "        #print(another_item)\n",
    "        if another_item > 5:    \n",
    "            lst.append(another_item)\n",
    "#\n",
    "print(lst)"
   ]
  },
  {
   "cell_type": "code",
   "execution_count": null,
   "metadata": {},
   "outputs": [],
   "source": [
    "[another_item for item in lst_lst for another_item in item if another_item > 5]"
   ]
  },
  {
   "cell_type": "markdown",
   "metadata": {},
   "source": [
    "## If-Else syntax"
   ]
  },
  {
   "cell_type": "code",
   "execution_count": 178,
   "metadata": {
    "ExecuteTime": {
     "end_time": "2020-06-03T15:11:55.148634Z",
     "start_time": "2020-06-03T15:11:55.142650Z"
    }
   },
   "outputs": [
    {
     "data": {
      "text/plain": [
       "[0, 0, 0, 0, 0, 1, 1, 1, 1, 1]"
      ]
     },
     "execution_count": 178,
     "metadata": {},
     "output_type": "execute_result"
    }
   ],
   "source": [
    "lst = []\n",
    "for item in range(10):\n",
    "    if item < 5:\n",
    "        lst.append(0)\n",
    "    else:\n",
    "        lst.append(1)\n",
    "\n",
    "lst"
   ]
  },
  {
   "cell_type": "code",
   "execution_count": 180,
   "metadata": {
    "ExecuteTime": {
     "end_time": "2020-06-03T15:12:45.198991Z",
     "start_time": "2020-06-03T15:12:45.194006Z"
    }
   },
   "outputs": [
    {
     "data": {
      "text/plain": [
       "[0, 0, 0, 0, 0, 1, 1, 1, 1, 1]"
      ]
     },
     "execution_count": 180,
     "metadata": {},
     "output_type": "execute_result"
    }
   ],
   "source": [
    "[(0 if item < 5 else 1) for item in range(10)]"
   ]
  },
  {
   "cell_type": "code",
   "execution_count": 179,
   "metadata": {
    "ExecuteTime": {
     "end_time": "2020-06-03T15:12:43.303212Z",
     "start_time": "2020-06-03T15:12:43.297229Z"
    }
   },
   "outputs": [
    {
     "data": {
      "text/plain": [
       "[0, 0, 0, 0, 0, 1, 1, 1, 1, 1]"
      ]
     },
     "execution_count": 179,
     "metadata": {},
     "output_type": "execute_result"
    }
   ],
   "source": [
    "[0 if item < 5 else 1 for item in range(10)]"
   ]
  },
  {
   "cell_type": "code",
   "execution_count": null,
   "metadata": {},
   "outputs": [],
   "source": []
  },
  {
   "cell_type": "markdown",
   "metadata": {},
   "source": [
    "# Applications\n"
   ]
  },
  {
   "cell_type": "code",
   "execution_count": 182,
   "metadata": {
    "ExecuteTime": {
     "end_time": "2020-06-03T15:13:51.770836Z",
     "start_time": "2020-06-03T15:13:51.765850Z"
    }
   },
   "outputs": [
    {
     "data": {
      "text/plain": [
       "['asoidjfoi.cmd',\n",
       " 'asriowier.xlsx',\n",
       " 'bike_sharing_daily.csv',\n",
       " 'bike_sharing_hourly.csv',\n",
       " 'bla.txt',\n",
       " 'FitBit.csv',\n",
       " 'titanic.csv',\n",
       " 'titanic_processed.csv']"
      ]
     },
     "execution_count": 182,
     "metadata": {},
     "output_type": "execute_result"
    }
   ],
   "source": [
    "os.listdir('data/')"
   ]
  },
  {
   "cell_type": "code",
   "execution_count": null,
   "metadata": {},
   "outputs": [],
   "source": [
    "new_list = []\n",
    "for file in os.listdir('data/'):\n",
    "    new_list.append(file)"
   ]
  },
  {
   "cell_type": "markdown",
   "metadata": {},
   "source": [
    "## Using for loop"
   ]
  },
  {
   "cell_type": "code",
   "execution_count": null,
   "metadata": {},
   "outputs": [],
   "source": [
    "datasets = []\n",
    "\n",
    "for file in os.listdir('data/'):\n",
    "    if file.endswith('.csv'):\n",
    "        datasets.append(pd.read_csv('data/' + file))"
   ]
  },
  {
   "cell_type": "markdown",
   "metadata": {},
   "source": [
    "## Using List Comprehensions"
   ]
  },
  {
   "cell_type": "code",
   "execution_count": 191,
   "metadata": {
    "ExecuteTime": {
     "end_time": "2020-06-03T15:20:19.386702Z",
     "start_time": "2020-06-03T15:20:19.303924Z"
    }
   },
   "outputs": [
    {
     "data": {
      "text/plain": [
       "[     instant      dteday  season  yr  mnth  holiday  weekday  workingday  \\\n",
       " 0          1  2011-01-01       1   0     1        0        6           0   \n",
       " 1          2  2011-01-02       1   0     1        0        0           0   \n",
       " 2          3  2011-01-03       1   0     1        0        1           1   \n",
       " 3          4  2011-01-04       1   0     1        0        2           1   \n",
       " 4          5  2011-01-05       1   0     1        0        3           1   \n",
       " ..       ...         ...     ...  ..   ...      ...      ...         ...   \n",
       " 726      727  2012-12-27       1   1    12        0        4           1   \n",
       " 727      728  2012-12-28       1   1    12        0        5           1   \n",
       " 728      729  2012-12-29       1   1    12        0        6           0   \n",
       " 729      730  2012-12-30       1   1    12        0        0           0   \n",
       " 730      731  2012-12-31       1   1    12        0        1           1   \n",
       " \n",
       "      weathersit      temp     atemp       hum  windspeed  casual  registered  \\\n",
       " 0             2  0.344167  0.363625  0.805833   0.160446     331         654   \n",
       " 1             2  0.363478  0.353739  0.696087   0.248539     131         670   \n",
       " 2             1  0.196364  0.189405  0.437273   0.248309     120        1229   \n",
       " 3             1  0.200000  0.212122  0.590435   0.160296     108        1454   \n",
       " 4             1  0.226957  0.229270  0.436957   0.186900      82        1518   \n",
       " ..          ...       ...       ...       ...        ...     ...         ...   \n",
       " 726           2  0.254167  0.226642  0.652917   0.350133     247        1867   \n",
       " 727           2  0.253333  0.255046  0.590000   0.155471     644        2451   \n",
       " 728           2  0.253333  0.242400  0.752917   0.124383     159        1182   \n",
       " 729           1  0.255833  0.231700  0.483333   0.350754     364        1432   \n",
       " 730           2  0.215833  0.223487  0.577500   0.154846     439        2290   \n",
       " \n",
       "       cnt  \n",
       " 0     985  \n",
       " 1     801  \n",
       " 2    1349  \n",
       " 3    1562  \n",
       " 4    1600  \n",
       " ..    ...  \n",
       " 726  2114  \n",
       " 727  3095  \n",
       " 728  1341  \n",
       " 729  1796  \n",
       " 730  2729  \n",
       " \n",
       " [731 rows x 16 columns],\n",
       "        instant      dteday  season  yr  mnth  hr  holiday  weekday  \\\n",
       " 0            1  2011-01-01       1   0     1   0        0        6   \n",
       " 1            2  2011-01-01       1   0     1   1        0        6   \n",
       " 2            3  2011-01-01       1   0     1   2        0        6   \n",
       " 3            4  2011-01-01       1   0     1   3        0        6   \n",
       " 4            5  2011-01-01       1   0     1   4        0        6   \n",
       " ...        ...         ...     ...  ..   ...  ..      ...      ...   \n",
       " 17374    17375  2012-12-31       1   1    12  19        0        1   \n",
       " 17375    17376  2012-12-31       1   1    12  20        0        1   \n",
       " 17376    17377  2012-12-31       1   1    12  21        0        1   \n",
       " 17377    17378  2012-12-31       1   1    12  22        0        1   \n",
       " 17378    17379  2012-12-31       1   1    12  23        0        1   \n",
       " \n",
       "        workingday  weathersit  temp   atemp   hum  windspeed  casual  \\\n",
       " 0               0           1  0.24  0.2879  0.81     0.0000       3   \n",
       " 1               0           1  0.22  0.2727  0.80     0.0000       8   \n",
       " 2               0           1  0.22  0.2727  0.80     0.0000       5   \n",
       " 3               0           1  0.24  0.2879  0.75     0.0000       3   \n",
       " 4               0           1  0.24  0.2879  0.75     0.0000       0   \n",
       " ...           ...         ...   ...     ...   ...        ...     ...   \n",
       " 17374           1           2  0.26  0.2576  0.60     0.1642      11   \n",
       " 17375           1           2  0.26  0.2576  0.60     0.1642       8   \n",
       " 17376           1           1  0.26  0.2576  0.60     0.1642       7   \n",
       " 17377           1           1  0.26  0.2727  0.56     0.1343      13   \n",
       " 17378           1           1  0.26  0.2727  0.65     0.1343      12   \n",
       " \n",
       "        registered  cnt  \n",
       " 0              13   16  \n",
       " 1              32   40  \n",
       " 2              27   32  \n",
       " 3              10   13  \n",
       " 4               1    1  \n",
       " ...           ...  ...  \n",
       " 17374         108  119  \n",
       " 17375          81   89  \n",
       " 17376          83   90  \n",
       " 17377          48   61  \n",
       " 17378          37   49  \n",
       " \n",
       " [17379 rows x 17 columns],\n",
       "            Date  Calorie burned  Steps  Distance  Floors  Minutes Sedentary  \\\n",
       " 0    2015-05-08            1934    905      0.65       0              1.355   \n",
       " 1    2015-05-09            3631  18925     14.11       4            611.000   \n",
       " 2    2015-05-10            3204  14228     10.57       1            602.000   \n",
       " 3    2015-05-11            2673   6756      5.02       8            749.000   \n",
       " 4    2015-05-12            2495    502      3.73       1            876.000   \n",
       " ..          ...             ...    ...       ...     ...                ...   \n",
       " 362  2016-05-03            3796  18588     14.13      16            599.000   \n",
       " 363  2016-05-04            3525  16382     12.39      16            684.000   \n",
       " 364  2016-05-05            3649  21913     16.40      19            701.000   \n",
       " 365  2016-05-06            3539  19023     14.79      15            575.000   \n",
       " 366  2016-05-07             304   9526      7.08       2            564.000   \n",
       " \n",
       "      Minutes Lightly Active  Minutes Fairly Active  Minutes Very Active  \\\n",
       " 0                        46                      0                    0   \n",
       " 1                       316                     61                   60   \n",
       " 2                       226                     14                   77   \n",
       " 3                       190                     23                    4   \n",
       " 4                       171                      0                    0   \n",
       " ..                      ...                    ...                  ...   \n",
       " 362                     275                     49                   79   \n",
       " 363                     333                     10                   55   \n",
       " 364                     287                     29                   90   \n",
       " 365                     298                      8                   85   \n",
       " 366                     370                     13                   10   \n",
       " \n",
       "      Activity Calories  ...  Distance_miles       Days  Days_encoded  \\\n",
       " 0                 1680  ...        0.403891     Friday           4.0   \n",
       " 1                 2248  ...        8.767545   Saturday           5.0   \n",
       " 2                 1719  ...        6.567891     Sunday           6.0   \n",
       " 3                 9620  ...        3.119282     Monday           0.0   \n",
       " 4                 7360  ...        2.317714    Tuesday           1.0   \n",
       " ..                 ...  ...             ...        ...           ...   \n",
       " 362                236  ...        8.779972    Tuesday           1.0   \n",
       " 363               2075  ...        7.698787  Wednesday           2.0   \n",
       " 364               2249  ...       10.190484   Thursday           3.0   \n",
       " 365               2112  ...        9.190077     Friday           4.0   \n",
       " 366               1604  ...        4.399307   Saturday           5.0   \n",
       " \n",
       "      Work_or_Weekend  Hours Sleep Sleep efficiency  Yesterday_sleep  \\\n",
       " 0                  1     6.400000        92.086331         0.000000   \n",
       " 1                  0     7.566667        92.464358         6.400000   \n",
       " 2                  0     6.450000        88.761468         7.566667   \n",
       " 3                  1     5.183333        88.857143         6.450000   \n",
       " 4                  1     6.783333        82.892057         5.183333   \n",
       " ..               ...          ...              ...              ...   \n",
       " 362                1     6.283333        91.951220         5.233333   \n",
       " 363                1     6.766667        95.081967         6.283333   \n",
       " 364                1     4.666667        88.888889         6.766667   \n",
       " 365                1     6.166667        89.805825         4.666667   \n",
       " 366                0     8.366667        89.165187         6.166667   \n",
       " \n",
       "      Yesterday_sleep_efficiency  Months  Months_encoded  \n",
       " 0                      0.000000     May               5  \n",
       " 1                     92.086331     May               5  \n",
       " 2                     92.464358     May               5  \n",
       " 3                     88.761468     May               5  \n",
       " 4                     88.857143     May               5  \n",
       " ..                          ...     ...             ...  \n",
       " 362                   90.229885     May               5  \n",
       " 363                   91.951220     May               5  \n",
       " 364                   95.081967     May               5  \n",
       " 365                   88.888889     May               5  \n",
       " 366                   89.805825     May               5  \n",
       " \n",
       " [367 rows x 24 columns],\n",
       "      PassengerId  Survived  Pclass  \\\n",
       " 0              1         0       3   \n",
       " 1              2         1       1   \n",
       " 2              3         1       3   \n",
       " 3              4         1       1   \n",
       " 4              5         0       3   \n",
       " ..           ...       ...     ...   \n",
       " 886          887         0       2   \n",
       " 887          888         1       1   \n",
       " 888          889         0       3   \n",
       " 889          890         1       1   \n",
       " 890          891         0       3   \n",
       " \n",
       "                                                   Name     Sex   Age  SibSp  \\\n",
       " 0                              Braund, Mr. Owen Harris    male  22.0      1   \n",
       " 1    Cumings, Mrs. John Bradley (Florence Briggs Th...  female  38.0      1   \n",
       " 2                               Heikkinen, Miss. Laina  female  26.0      0   \n",
       " 3         Futrelle, Mrs. Jacques Heath (Lily May Peel)  female  35.0      1   \n",
       " 4                             Allen, Mr. William Henry    male  35.0      0   \n",
       " ..                                                 ...     ...   ...    ...   \n",
       " 886                              Montvila, Rev. Juozas    male  27.0      0   \n",
       " 887                       Graham, Miss. Margaret Edith  female  19.0      0   \n",
       " 888           Johnston, Miss. Catherine Helen \"Carrie\"  female   NaN      1   \n",
       " 889                              Behr, Mr. Karl Howell    male  26.0      0   \n",
       " 890                                Dooley, Mr. Patrick    male  32.0      0   \n",
       " \n",
       "      Parch            Ticket     Fare Cabin Embarked  \n",
       " 0        0         A/5 21171   7.2500   NaN        S  \n",
       " 1        0          PC 17599  71.2833   C85        C  \n",
       " 2        0  STON/O2. 3101282   7.9250   NaN        S  \n",
       " 3        0            113803  53.1000  C123        S  \n",
       " 4        0            373450   8.0500   NaN        S  \n",
       " ..     ...               ...      ...   ...      ...  \n",
       " 886      0            211536  13.0000   NaN        S  \n",
       " 887      0            112053  30.0000   B42        S  \n",
       " 888      2        W./C. 6607  23.4500   NaN        S  \n",
       " 889      0            111369  30.0000  C148        C  \n",
       " 890      0            370376   7.7500   NaN        Q  \n",
       " \n",
       " [891 rows x 12 columns],\n",
       "      Pclass   Age  SibSp  Parch     Fare  Sex_male  Embarked_C  Embarked_Q  \\\n",
       " 0         3  22.0      1      0   7.2500         1           0           0   \n",
       " 1         1  38.0      1      0  71.2833         0           1           0   \n",
       " 2         3  26.0      0      0   7.9250         0           0           0   \n",
       " 3         1  35.0      1      0  53.1000         0           0           0   \n",
       " 4         3  35.0      0      0   8.0500         1           0           0   \n",
       " ..      ...   ...    ...    ...      ...       ...         ...         ...   \n",
       " 707       3  39.0      0      5  29.1250         0           0           1   \n",
       " 708       2  27.0      0      0  13.0000         1           0           0   \n",
       " 709       1  19.0      0      0  30.0000         0           0           0   \n",
       " 710       1  26.0      0      0  30.0000         1           1           0   \n",
       " 711       3  32.0      0      0   7.7500         1           0           1   \n",
       " \n",
       "      Embarked_S  Survived  \n",
       " 0             1         0  \n",
       " 1             0         1  \n",
       " 2             1         1  \n",
       " 3             1         1  \n",
       " 4             1         0  \n",
       " ..          ...       ...  \n",
       " 707           0         0  \n",
       " 708           1         0  \n",
       " 709           1         1  \n",
       " 710           0         1  \n",
       " 711           0         0  \n",
       " \n",
       " [712 rows x 10 columns]]"
      ]
     },
     "execution_count": 191,
     "metadata": {},
     "output_type": "execute_result"
    }
   ],
   "source": [
    "datasets = [ pd.read_csv('data/' + file) for file in os.listdir('data/') if file.endswith('.csv')]\n",
    "datasets"
   ]
  },
  {
   "cell_type": "code",
   "execution_count": 192,
   "metadata": {
    "ExecuteTime": {
     "end_time": "2020-06-03T15:20:30.675314Z",
     "start_time": "2020-06-03T15:20:30.668332Z"
    }
   },
   "outputs": [
    {
     "data": {
      "text/plain": [
       "5"
      ]
     },
     "execution_count": 192,
     "metadata": {},
     "output_type": "execute_result"
    }
   ],
   "source": [
    "len(datasets)"
   ]
  },
  {
   "cell_type": "code",
   "execution_count": 195,
   "metadata": {
    "ExecuteTime": {
     "end_time": "2020-06-03T15:20:58.742646Z",
     "start_time": "2020-06-03T15:20:58.724695Z"
    },
    "scrolled": true
   },
   "outputs": [
    {
     "data": {
      "text/html": [
       "<div>\n",
       "<style scoped>\n",
       "    .dataframe tbody tr th:only-of-type {\n",
       "        vertical-align: middle;\n",
       "    }\n",
       "\n",
       "    .dataframe tbody tr th {\n",
       "        vertical-align: top;\n",
       "    }\n",
       "\n",
       "    .dataframe thead th {\n",
       "        text-align: right;\n",
       "    }\n",
       "</style>\n",
       "<table border=\"1\" class=\"dataframe\">\n",
       "  <thead>\n",
       "    <tr style=\"text-align: right;\">\n",
       "      <th></th>\n",
       "      <th>PassengerId</th>\n",
       "      <th>Survived</th>\n",
       "      <th>Pclass</th>\n",
       "      <th>Name</th>\n",
       "      <th>Sex</th>\n",
       "      <th>Age</th>\n",
       "      <th>SibSp</th>\n",
       "      <th>Parch</th>\n",
       "      <th>Ticket</th>\n",
       "      <th>Fare</th>\n",
       "      <th>Cabin</th>\n",
       "      <th>Embarked</th>\n",
       "    </tr>\n",
       "  </thead>\n",
       "  <tbody>\n",
       "    <tr>\n",
       "      <th>0</th>\n",
       "      <td>1</td>\n",
       "      <td>0</td>\n",
       "      <td>3</td>\n",
       "      <td>Braund, Mr. Owen Harris</td>\n",
       "      <td>male</td>\n",
       "      <td>22.0</td>\n",
       "      <td>1</td>\n",
       "      <td>0</td>\n",
       "      <td>A/5 21171</td>\n",
       "      <td>7.2500</td>\n",
       "      <td>NaN</td>\n",
       "      <td>S</td>\n",
       "    </tr>\n",
       "    <tr>\n",
       "      <th>1</th>\n",
       "      <td>2</td>\n",
       "      <td>1</td>\n",
       "      <td>1</td>\n",
       "      <td>Cumings, Mrs. John Bradley (Florence Briggs Th...</td>\n",
       "      <td>female</td>\n",
       "      <td>38.0</td>\n",
       "      <td>1</td>\n",
       "      <td>0</td>\n",
       "      <td>PC 17599</td>\n",
       "      <td>71.2833</td>\n",
       "      <td>C85</td>\n",
       "      <td>C</td>\n",
       "    </tr>\n",
       "    <tr>\n",
       "      <th>2</th>\n",
       "      <td>3</td>\n",
       "      <td>1</td>\n",
       "      <td>3</td>\n",
       "      <td>Heikkinen, Miss. Laina</td>\n",
       "      <td>female</td>\n",
       "      <td>26.0</td>\n",
       "      <td>0</td>\n",
       "      <td>0</td>\n",
       "      <td>STON/O2. 3101282</td>\n",
       "      <td>7.9250</td>\n",
       "      <td>NaN</td>\n",
       "      <td>S</td>\n",
       "    </tr>\n",
       "    <tr>\n",
       "      <th>3</th>\n",
       "      <td>4</td>\n",
       "      <td>1</td>\n",
       "      <td>1</td>\n",
       "      <td>Futrelle, Mrs. Jacques Heath (Lily May Peel)</td>\n",
       "      <td>female</td>\n",
       "      <td>35.0</td>\n",
       "      <td>1</td>\n",
       "      <td>0</td>\n",
       "      <td>113803</td>\n",
       "      <td>53.1000</td>\n",
       "      <td>C123</td>\n",
       "      <td>S</td>\n",
       "    </tr>\n",
       "    <tr>\n",
       "      <th>4</th>\n",
       "      <td>5</td>\n",
       "      <td>0</td>\n",
       "      <td>3</td>\n",
       "      <td>Allen, Mr. William Henry</td>\n",
       "      <td>male</td>\n",
       "      <td>35.0</td>\n",
       "      <td>0</td>\n",
       "      <td>0</td>\n",
       "      <td>373450</td>\n",
       "      <td>8.0500</td>\n",
       "      <td>NaN</td>\n",
       "      <td>S</td>\n",
       "    </tr>\n",
       "    <tr>\n",
       "      <th>...</th>\n",
       "      <td>...</td>\n",
       "      <td>...</td>\n",
       "      <td>...</td>\n",
       "      <td>...</td>\n",
       "      <td>...</td>\n",
       "      <td>...</td>\n",
       "      <td>...</td>\n",
       "      <td>...</td>\n",
       "      <td>...</td>\n",
       "      <td>...</td>\n",
       "      <td>...</td>\n",
       "      <td>...</td>\n",
       "    </tr>\n",
       "    <tr>\n",
       "      <th>886</th>\n",
       "      <td>887</td>\n",
       "      <td>0</td>\n",
       "      <td>2</td>\n",
       "      <td>Montvila, Rev. Juozas</td>\n",
       "      <td>male</td>\n",
       "      <td>27.0</td>\n",
       "      <td>0</td>\n",
       "      <td>0</td>\n",
       "      <td>211536</td>\n",
       "      <td>13.0000</td>\n",
       "      <td>NaN</td>\n",
       "      <td>S</td>\n",
       "    </tr>\n",
       "    <tr>\n",
       "      <th>887</th>\n",
       "      <td>888</td>\n",
       "      <td>1</td>\n",
       "      <td>1</td>\n",
       "      <td>Graham, Miss. Margaret Edith</td>\n",
       "      <td>female</td>\n",
       "      <td>19.0</td>\n",
       "      <td>0</td>\n",
       "      <td>0</td>\n",
       "      <td>112053</td>\n",
       "      <td>30.0000</td>\n",
       "      <td>B42</td>\n",
       "      <td>S</td>\n",
       "    </tr>\n",
       "    <tr>\n",
       "      <th>888</th>\n",
       "      <td>889</td>\n",
       "      <td>0</td>\n",
       "      <td>3</td>\n",
       "      <td>Johnston, Miss. Catherine Helen \"Carrie\"</td>\n",
       "      <td>female</td>\n",
       "      <td>NaN</td>\n",
       "      <td>1</td>\n",
       "      <td>2</td>\n",
       "      <td>W./C. 6607</td>\n",
       "      <td>23.4500</td>\n",
       "      <td>NaN</td>\n",
       "      <td>S</td>\n",
       "    </tr>\n",
       "    <tr>\n",
       "      <th>889</th>\n",
       "      <td>890</td>\n",
       "      <td>1</td>\n",
       "      <td>1</td>\n",
       "      <td>Behr, Mr. Karl Howell</td>\n",
       "      <td>male</td>\n",
       "      <td>26.0</td>\n",
       "      <td>0</td>\n",
       "      <td>0</td>\n",
       "      <td>111369</td>\n",
       "      <td>30.0000</td>\n",
       "      <td>C148</td>\n",
       "      <td>C</td>\n",
       "    </tr>\n",
       "    <tr>\n",
       "      <th>890</th>\n",
       "      <td>891</td>\n",
       "      <td>0</td>\n",
       "      <td>3</td>\n",
       "      <td>Dooley, Mr. Patrick</td>\n",
       "      <td>male</td>\n",
       "      <td>32.0</td>\n",
       "      <td>0</td>\n",
       "      <td>0</td>\n",
       "      <td>370376</td>\n",
       "      <td>7.7500</td>\n",
       "      <td>NaN</td>\n",
       "      <td>Q</td>\n",
       "    </tr>\n",
       "  </tbody>\n",
       "</table>\n",
       "<p>891 rows × 12 columns</p>\n",
       "</div>"
      ],
      "text/plain": [
       "     PassengerId  Survived  Pclass  \\\n",
       "0              1         0       3   \n",
       "1              2         1       1   \n",
       "2              3         1       3   \n",
       "3              4         1       1   \n",
       "4              5         0       3   \n",
       "..           ...       ...     ...   \n",
       "886          887         0       2   \n",
       "887          888         1       1   \n",
       "888          889         0       3   \n",
       "889          890         1       1   \n",
       "890          891         0       3   \n",
       "\n",
       "                                                  Name     Sex   Age  SibSp  \\\n",
       "0                              Braund, Mr. Owen Harris    male  22.0      1   \n",
       "1    Cumings, Mrs. John Bradley (Florence Briggs Th...  female  38.0      1   \n",
       "2                               Heikkinen, Miss. Laina  female  26.0      0   \n",
       "3         Futrelle, Mrs. Jacques Heath (Lily May Peel)  female  35.0      1   \n",
       "4                             Allen, Mr. William Henry    male  35.0      0   \n",
       "..                                                 ...     ...   ...    ...   \n",
       "886                              Montvila, Rev. Juozas    male  27.0      0   \n",
       "887                       Graham, Miss. Margaret Edith  female  19.0      0   \n",
       "888           Johnston, Miss. Catherine Helen \"Carrie\"  female   NaN      1   \n",
       "889                              Behr, Mr. Karl Howell    male  26.0      0   \n",
       "890                                Dooley, Mr. Patrick    male  32.0      0   \n",
       "\n",
       "     Parch            Ticket     Fare Cabin Embarked  \n",
       "0        0         A/5 21171   7.2500   NaN        S  \n",
       "1        0          PC 17599  71.2833   C85        C  \n",
       "2        0  STON/O2. 3101282   7.9250   NaN        S  \n",
       "3        0            113803  53.1000  C123        S  \n",
       "4        0            373450   8.0500   NaN        S  \n",
       "..     ...               ...      ...   ...      ...  \n",
       "886      0            211536  13.0000   NaN        S  \n",
       "887      0            112053  30.0000   B42        S  \n",
       "888      2        W./C. 6607  23.4500   NaN        S  \n",
       "889      0            111369  30.0000  C148        C  \n",
       "890      0            370376   7.7500   NaN        Q  \n",
       "\n",
       "[891 rows x 12 columns]"
      ]
     },
     "execution_count": 195,
     "metadata": {},
     "output_type": "execute_result"
    }
   ],
   "source": [
    "datasets[-2]"
   ]
  }
 ],
 "metadata": {
  "kernelspec": {
   "display_name": "Python 3",
   "language": "python",
   "name": "python3"
  },
  "language_info": {
   "codemirror_mode": {
    "name": "ipython",
    "version": 3
   },
   "file_extension": ".py",
   "mimetype": "text/x-python",
   "name": "python",
   "nbconvert_exporter": "python",
   "pygments_lexer": "ipython3",
   "version": "3.7.6"
  },
  "toc": {
   "base_numbering": 1,
   "nav_menu": {},
   "number_sections": true,
   "sideBar": true,
   "skip_h1_title": false,
   "title_cell": "Table of Contents",
   "title_sidebar": "Contents",
   "toc_cell": false,
   "toc_position": {},
   "toc_section_display": true,
   "toc_window_display": false
  },
  "varInspector": {
   "cols": {
    "lenName": 16,
    "lenType": 16,
    "lenVar": 40
   },
   "kernels_config": {
    "python": {
     "delete_cmd_postfix": "",
     "delete_cmd_prefix": "del ",
     "library": "var_list.py",
     "varRefreshCmd": "print(var_dic_list())"
    },
    "r": {
     "delete_cmd_postfix": ") ",
     "delete_cmd_prefix": "rm(",
     "library": "var_list.r",
     "varRefreshCmd": "cat(var_dic_list()) "
    }
   },
   "types_to_exclude": [
    "module",
    "function",
    "builtin_function_or_method",
    "instance",
    "_Feature"
   ],
   "window_display": false
  }
 },
 "nbformat": 4,
 "nbformat_minor": 2
}
