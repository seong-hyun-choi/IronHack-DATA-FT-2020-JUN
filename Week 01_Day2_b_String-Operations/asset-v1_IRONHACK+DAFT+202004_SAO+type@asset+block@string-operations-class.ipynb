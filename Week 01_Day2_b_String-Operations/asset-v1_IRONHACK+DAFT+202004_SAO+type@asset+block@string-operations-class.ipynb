{
 "cells": [
  {
   "cell_type": "markdown",
   "metadata": {},
   "source": [
    "# STRINGS"
   ]
  },
  {
   "cell_type": "markdown",
   "metadata": {},
   "source": [
    "## String concatenation"
   ]
  },
  {
   "cell_type": "code",
   "execution_count": 1,
   "metadata": {
    "ExecuteTime": {
     "end_time": "2020-06-02T18:43:42.151980Z",
     "start_time": "2020-06-02T18:43:42.142998Z"
    }
   },
   "outputs": [
    {
     "data": {
      "text/plain": [
       "str"
      ]
     },
     "execution_count": 1,
     "metadata": {},
     "output_type": "execute_result"
    }
   ],
   "source": [
    "type('Hello')"
   ]
  },
  {
   "cell_type": "code",
   "execution_count": 2,
   "metadata": {
    "ExecuteTime": {
     "end_time": "2020-06-02T18:43:56.821882Z",
     "start_time": "2020-06-02T18:43:56.817893Z"
    }
   },
   "outputs": [
    {
     "data": {
      "text/plain": [
       "str"
      ]
     },
     "execution_count": 2,
     "metadata": {},
     "output_type": "execute_result"
    }
   ],
   "source": [
    "type(\"Hello\")"
   ]
  },
  {
   "cell_type": "code",
   "execution_count": 8,
   "metadata": {
    "ExecuteTime": {
     "end_time": "2020-06-02T18:45:17.544182Z",
     "start_time": "2020-06-02T18:45:17.540192Z"
    }
   },
   "outputs": [
    {
     "data": {
      "text/plain": [
       "'Hello_World'"
      ]
     },
     "execution_count": 8,
     "metadata": {},
     "output_type": "execute_result"
    }
   ],
   "source": [
    "'Hello' + '_' + 'World'"
   ]
  },
  {
   "cell_type": "code",
   "execution_count": 9,
   "metadata": {
    "ExecuteTime": {
     "end_time": "2020-06-02T18:45:27.960692Z",
     "start_time": "2020-06-02T18:45:27.957699Z"
    }
   },
   "outputs": [],
   "source": [
    "x = 'Hello'"
   ]
  },
  {
   "cell_type": "code",
   "execution_count": 10,
   "metadata": {
    "ExecuteTime": {
     "end_time": "2020-06-02T18:45:32.918012Z",
     "start_time": "2020-06-02T18:45:32.914996Z"
    }
   },
   "outputs": [
    {
     "data": {
      "text/plain": [
       "'Hello'"
      ]
     },
     "execution_count": 10,
     "metadata": {},
     "output_type": "execute_result"
    }
   ],
   "source": [
    "x"
   ]
  },
  {
   "cell_type": "code",
   "execution_count": 11,
   "metadata": {
    "ExecuteTime": {
     "end_time": "2020-06-02T18:45:51.407761Z",
     "start_time": "2020-06-02T18:45:51.403772Z"
    }
   },
   "outputs": [
    {
     "data": {
      "text/plain": [
       "'HelloWorld'"
      ]
     },
     "execution_count": 11,
     "metadata": {},
     "output_type": "execute_result"
    }
   ],
   "source": [
    "x + 'World'"
   ]
  },
  {
   "cell_type": "code",
   "execution_count": 12,
   "metadata": {
    "ExecuteTime": {
     "end_time": "2020-06-02T18:46:04.815235Z",
     "start_time": "2020-06-02T18:46:04.812274Z"
    }
   },
   "outputs": [],
   "source": [
    "y = 1"
   ]
  },
  {
   "cell_type": "code",
   "execution_count": 14,
   "metadata": {
    "ExecuteTime": {
     "end_time": "2020-06-02T18:46:51.926971Z",
     "start_time": "2020-06-02T18:46:51.923979Z"
    }
   },
   "outputs": [],
   "source": [
    "# y = y + 1\n",
    "y += 1"
   ]
  },
  {
   "cell_type": "code",
   "execution_count": 15,
   "metadata": {
    "ExecuteTime": {
     "end_time": "2020-06-02T18:46:52.837700Z",
     "start_time": "2020-06-02T18:46:52.833710Z"
    }
   },
   "outputs": [
    {
     "data": {
      "text/plain": [
       "2"
      ]
     },
     "execution_count": 15,
     "metadata": {},
     "output_type": "execute_result"
    }
   ],
   "source": [
    "y"
   ]
  },
  {
   "cell_type": "code",
   "execution_count": 16,
   "metadata": {
    "ExecuteTime": {
     "end_time": "2020-06-02T18:47:15.962911Z",
     "start_time": "2020-06-02T18:47:15.958921Z"
    }
   },
   "outputs": [
    {
     "data": {
      "text/plain": [
       "1"
      ]
     },
     "execution_count": 16,
     "metadata": {},
     "output_type": "execute_result"
    }
   ],
   "source": [
    "# y = y - 1\n",
    "y -= 1\n",
    "y"
   ]
  },
  {
   "cell_type": "code",
   "execution_count": 17,
   "metadata": {
    "ExecuteTime": {
     "end_time": "2020-06-02T18:47:31.838187Z",
     "start_time": "2020-06-02T18:47:31.834197Z"
    }
   },
   "outputs": [
    {
     "data": {
      "text/plain": [
       "2"
      ]
     },
     "execution_count": 17,
     "metadata": {},
     "output_type": "execute_result"
    }
   ],
   "source": [
    "y -=- 1\n",
    "y"
   ]
  },
  {
   "cell_type": "code",
   "execution_count": null,
   "metadata": {},
   "outputs": [],
   "source": []
  },
  {
   "cell_type": "code",
   "execution_count": null,
   "metadata": {},
   "outputs": [],
   "source": []
  },
  {
   "cell_type": "code",
   "execution_count": null,
   "metadata": {},
   "outputs": [],
   "source": []
  },
  {
   "cell_type": "code",
   "execution_count": 18,
   "metadata": {
    "ExecuteTime": {
     "end_time": "2020-06-02T18:48:54.179142Z",
     "start_time": "2020-06-02T18:48:54.175153Z"
    }
   },
   "outputs": [
    {
     "data": {
      "text/plain": [
       "'HelloWorld'"
      ]
     },
     "execution_count": 18,
     "metadata": {},
     "output_type": "execute_result"
    }
   ],
   "source": [
    "x = 'Hello'\n",
    "x += 'World'\n",
    "# x = x + 'World'\n",
    "x"
   ]
  },
  {
   "cell_type": "markdown",
   "metadata": {},
   "source": [
    "x = 'Hello'\n",
    "\n",
    "x += 'World'\n",
    "\n",
    "x = x + 'World'\n",
    "\n",
    "x = 'Hello' + 'World' \n",
    "\n",
    "x <- 'HelloWorld'"
   ]
  },
  {
   "cell_type": "code",
   "execution_count": 19,
   "metadata": {
    "ExecuteTime": {
     "end_time": "2020-06-02T18:49:50.753213Z",
     "start_time": "2020-06-02T18:49:50.748228Z"
    }
   },
   "outputs": [
    {
     "name": "stdout",
     "output_type": "stream",
     "text": [
      "Hello\n"
     ]
    }
   ],
   "source": [
    "print('Hello')"
   ]
  },
  {
   "cell_type": "code",
   "execution_count": 21,
   "metadata": {
    "ExecuteTime": {
     "end_time": "2020-06-02T18:50:29.815694Z",
     "start_time": "2020-06-02T18:50:29.812677Z"
    }
   },
   "outputs": [
    {
     "data": {
      "text/plain": [
       "'Hello'"
      ]
     },
     "execution_count": 21,
     "metadata": {},
     "output_type": "execute_result"
    }
   ],
   "source": [
    "'Hello'"
   ]
  },
  {
   "cell_type": "code",
   "execution_count": 41,
   "metadata": {
    "ExecuteTime": {
     "end_time": "2020-06-02T18:56:56.368593Z",
     "start_time": "2020-06-02T18:56:56.365602Z"
    }
   },
   "outputs": [
    {
     "name": "stdout",
     "output_type": "stream",
     "text": [
      "\n",
      "\n",
      "\n",
      "\n",
      "\n",
      "\n",
      "\n"
     ]
    }
   ],
   "source": [
    "print('\\n\\n\\n\\n\\n\\n')"
   ]
  },
  {
   "cell_type": "code",
   "execution_count": 44,
   "metadata": {
    "ExecuteTime": {
     "end_time": "2020-06-02T18:57:16.527156Z",
     "start_time": "2020-06-02T18:57:16.523167Z"
    }
   },
   "outputs": [
    {
     "name": "stdout",
     "output_type": "stream",
     "text": [
      "\tAndre\t\t\tAndre\n"
     ]
    }
   ],
   "source": [
    "print('\\tAndre\\t\\t\\tAndre')"
   ]
  },
  {
   "cell_type": "code",
   "execution_count": 40,
   "metadata": {
    "ExecuteTime": {
     "end_time": "2020-06-02T18:55:45.361160Z",
     "start_time": "2020-06-02T18:55:45.356174Z"
    }
   },
   "outputs": [
    {
     "data": {
      "text/plain": [
       "'Meu nome é \\n3 André Ribeiro de 4 Barros Aguiar 3 \\n!!!\\n'"
      ]
     },
     "execution_count": 40,
     "metadata": {},
     "output_type": "execute_result"
    }
   ],
   "source": [
    "'''Meu nome é \n",
    "3 André Ribeiro de 4 Barros Aguiar 3 \n",
    "!!!\n",
    "'''"
   ]
  },
  {
   "cell_type": "code",
   "execution_count": 37,
   "metadata": {
    "ExecuteTime": {
     "end_time": "2020-06-02T18:55:20.627818Z",
     "start_time": "2020-06-02T18:55:20.624800Z"
    }
   },
   "outputs": [
    {
     "name": "stdout",
     "output_type": "stream",
     "text": [
      "Meu nome é \n",
      "3 André Ribeiro de 4 Barros Aguiar 3\n",
      "!!!\n",
      "\n"
     ]
    }
   ],
   "source": [
    "print('''Meu nome é \n",
    "3 André Ribeiro de 4 Barros Aguiar 3\n",
    "!!!\n",
    "''')"
   ]
  },
  {
   "cell_type": "markdown",
   "metadata": {},
   "source": [
    "- `\\n` é a representação da quebra de linha (enter)\n",
    "- `\\t` é a representação do TAB"
   ]
  },
  {
   "cell_type": "code",
   "execution_count": 45,
   "metadata": {
    "ExecuteTime": {
     "end_time": "2020-06-02T18:58:24.876189Z",
     "start_time": "2020-06-02T18:58:24.872200Z"
    }
   },
   "outputs": [
    {
     "data": {
      "text/plain": [
       "'\\nasdjfoija\\nasdfiojoiad\\nkfaijoids\\n'"
      ]
     },
     "execution_count": 45,
     "metadata": {},
     "output_type": "execute_result"
    }
   ],
   "source": [
    "\"\"\"\n",
    "asdjfoija\n",
    "asdfiojoiad\n",
    "kfaijoids\n",
    "\"\"\""
   ]
  },
  {
   "cell_type": "markdown",
   "metadata": {},
   "source": [
    "# String multiplication"
   ]
  },
  {
   "cell_type": "code",
   "execution_count": 46,
   "metadata": {
    "ExecuteTime": {
     "end_time": "2020-06-02T18:58:55.277474Z",
     "start_time": "2020-06-02T18:58:55.273485Z"
    }
   },
   "outputs": [
    {
     "data": {
      "text/plain": [
       "'HelloWorld'"
      ]
     },
     "execution_count": 46,
     "metadata": {},
     "output_type": "execute_result"
    }
   ],
   "source": [
    "x"
   ]
  },
  {
   "cell_type": "code",
   "execution_count": 47,
   "metadata": {
    "ExecuteTime": {
     "end_time": "2020-06-02T18:59:01.029168Z",
     "start_time": "2020-06-02T18:59:01.025180Z"
    }
   },
   "outputs": [
    {
     "data": {
      "text/plain": [
       "'HelloWorldHelloWorldHelloWorld'"
      ]
     },
     "execution_count": 47,
     "metadata": {},
     "output_type": "execute_result"
    }
   ],
   "source": [
    "x + x + x"
   ]
  },
  {
   "cell_type": "code",
   "execution_count": 50,
   "metadata": {
    "ExecuteTime": {
     "end_time": "2020-06-02T18:59:38.975175Z",
     "start_time": "2020-06-02T18:59:38.971186Z"
    }
   },
   "outputs": [
    {
     "data": {
      "text/plain": [
       "'----------------------------------------------------------------------------------------------------'"
      ]
     },
     "execution_count": 50,
     "metadata": {},
     "output_type": "execute_result"
    }
   ],
   "source": [
    "100 * '-'"
   ]
  },
  {
   "cell_type": "code",
   "execution_count": null,
   "metadata": {},
   "outputs": [],
   "source": [
    "x * 10"
   ]
  },
  {
   "cell_type": "code",
   "execution_count": 63,
   "metadata": {
    "ExecuteTime": {
     "end_time": "2020-06-02T19:01:23.653073Z",
     "start_time": "2020-06-02T19:01:23.650071Z"
    }
   },
   "outputs": [
    {
     "data": {
      "text/plain": [
       "['p3', 'p3', 'p3', 'p3', 'p3', 'p3', 'p3', 'p3', 'p3', 'p3']"
      ]
     },
     "execution_count": 63,
     "metadata": {},
     "output_type": "execute_result"
    }
   ],
   "source": [
    "['p3'] * 10"
   ]
  },
  {
   "cell_type": "code",
   "execution_count": 51,
   "metadata": {
    "ExecuteTime": {
     "end_time": "2020-06-02T18:59:47.071175Z",
     "start_time": "2020-06-02T18:59:47.067159Z"
    }
   },
   "outputs": [
    {
     "data": {
      "text/plain": [
       "'Andre\\nAndre\\nAndre\\nAndre\\nAndre\\nAndre\\nAndre\\nAndre\\nAndre\\nAndre\\n'"
      ]
     },
     "execution_count": 51,
     "metadata": {},
     "output_type": "execute_result"
    }
   ],
   "source": [
    "# multiply values\n",
    "\n",
    "'Andre\\n' * 10"
   ]
  },
  {
   "cell_type": "code",
   "execution_count": 52,
   "metadata": {
    "ExecuteTime": {
     "end_time": "2020-06-02T18:59:55.060589Z",
     "start_time": "2020-06-02T18:59:55.057598Z"
    }
   },
   "outputs": [
    {
     "name": "stdout",
     "output_type": "stream",
     "text": [
      "Andre\n",
      "Andre\n",
      "Andre\n",
      "Andre\n",
      "Andre\n",
      "Andre\n",
      "Andre\n",
      "Andre\n",
      "Andre\n",
      "Andre\n",
      "\n"
     ]
    }
   ],
   "source": [
    "# multiply values\n",
    "\n",
    "print('Andre\\n' * 10)"
   ]
  },
  {
   "cell_type": "code",
   "execution_count": 60,
   "metadata": {
    "ExecuteTime": {
     "end_time": "2020-06-02T19:00:23.399457Z",
     "start_time": "2020-06-02T19:00:23.396465Z"
    }
   },
   "outputs": [
    {
     "name": "stdout",
     "output_type": "stream",
     "text": [
      "-----------------------------------------------------------------------------------------------------\n"
     ]
    }
   ],
   "source": [
    "# multiply values\n",
    "\n",
    "print('-' * 101)"
   ]
  },
  {
   "cell_type": "markdown",
   "metadata": {},
   "source": [
    "------"
   ]
  },
  {
   "cell_type": "markdown",
   "metadata": {},
   "source": [
    "# Join strings"
   ]
  },
  {
   "cell_type": "code",
   "execution_count": 64,
   "metadata": {
    "ExecuteTime": {
     "end_time": "2020-06-02T19:01:51.625553Z",
     "start_time": "2020-06-02T19:01:51.621564Z"
    },
    "scrolled": true
   },
   "outputs": [
    {
     "data": {
      "text/plain": [
       "['Andre', 'Ribeiro', 'de', 'Barros', 'Aguiar']"
      ]
     },
     "execution_count": 64,
     "metadata": {},
     "output_type": "execute_result"
    }
   ],
   "source": [
    "meu_nome = ['Andre','Ribeiro','de', 'Barros','Aguiar']\n",
    "meu_nome"
   ]
  },
  {
   "cell_type": "code",
   "execution_count": 66,
   "metadata": {
    "ExecuteTime": {
     "end_time": "2020-06-02T19:03:00.724760Z",
     "start_time": "2020-06-02T19:03:00.721741Z"
    }
   },
   "outputs": [],
   "source": [
    "espaco = ' '"
   ]
  },
  {
   "cell_type": "code",
   "execution_count": 68,
   "metadata": {
    "ExecuteTime": {
     "end_time": "2020-06-02T19:04:05.082441Z",
     "start_time": "2020-06-02T19:04:05.078452Z"
    }
   },
   "outputs": [
    {
     "data": {
      "text/plain": [
       "'Andre Ribeiro de Barros Aguiar'"
      ]
     },
     "execution_count": 68,
     "metadata": {},
     "output_type": "execute_result"
    }
   ],
   "source": [
    "espaco.join(meu_nome)"
   ]
  },
  {
   "cell_type": "code",
   "execution_count": 78,
   "metadata": {
    "ExecuteTime": {
     "end_time": "2020-06-02T19:06:36.242260Z",
     "start_time": "2020-06-02T19:06:36.238270Z"
    }
   },
   "outputs": [
    {
     "data": {
      "text/plain": [
       "'Andre Ribeiro de Barros Aguiar'"
      ]
     },
     "execution_count": 78,
     "metadata": {},
     "output_type": "execute_result"
    }
   ],
   "source": [
    "' '.join(meu_nome)"
   ]
  },
  {
   "cell_type": "code",
   "execution_count": 75,
   "metadata": {
    "ExecuteTime": {
     "end_time": "2020-06-02T19:05:55.465797Z",
     "start_time": "2020-06-02T19:05:55.461809Z"
    }
   },
   "outputs": [
    {
     "data": {
      "text/plain": [
       "'Andre->Ribeiro->de->Barros->Aguiar'"
      ]
     },
     "execution_count": 75,
     "metadata": {},
     "output_type": "execute_result"
    }
   ],
   "source": [
    "'->'.join(['Andre','Ribeiro','de', 'Barros','Aguiar'])"
   ]
  },
  {
   "cell_type": "code",
   "execution_count": 79,
   "metadata": {
    "ExecuteTime": {
     "end_time": "2020-06-02T19:06:56.934531Z",
     "start_time": "2020-06-02T19:06:56.930543Z"
    }
   },
   "outputs": [
    {
     "data": {
      "text/plain": [
       "'Andre Ribeiro de Barros Aguiar'"
      ]
     },
     "execution_count": 79,
     "metadata": {},
     "output_type": "execute_result"
    }
   ],
   "source": [
    "espaco.join(meu_nome)"
   ]
  },
  {
   "cell_type": "code",
   "execution_count": 80,
   "metadata": {
    "ExecuteTime": {
     "end_time": "2020-06-02T19:06:59.124922Z",
     "start_time": "2020-06-02T19:06:59.119936Z"
    }
   },
   "outputs": [
    {
     "data": {
      "text/plain": [
       "'Andre Ribeiro de Barros Aguiar'"
      ]
     },
     "execution_count": 80,
     "metadata": {},
     "output_type": "execute_result"
    }
   ],
   "source": [
    "' '.join(meu_nome)"
   ]
  },
  {
   "cell_type": "code",
   "execution_count": 81,
   "metadata": {
    "ExecuteTime": {
     "end_time": "2020-06-02T19:07:01.908967Z",
     "start_time": "2020-06-02T19:07:01.904977Z"
    }
   },
   "outputs": [
    {
     "data": {
      "text/plain": [
       "'Andre***Ribeiro***de***Barros***Aguiar'"
      ]
     },
     "execution_count": 81,
     "metadata": {},
     "output_type": "execute_result"
    }
   ],
   "source": [
    "'***'.join(meu_nome)"
   ]
  },
  {
   "cell_type": "code",
   "execution_count": 82,
   "metadata": {
    "ExecuteTime": {
     "end_time": "2020-06-02T19:07:04.442795Z",
     "start_time": "2020-06-02T19:07:04.438806Z"
    }
   },
   "outputs": [
    {
     "data": {
      "text/plain": [
       "'Andre!=Ribeiro!=de!=Barros!=Aguiar'"
      ]
     },
     "execution_count": 82,
     "metadata": {},
     "output_type": "execute_result"
    }
   ],
   "source": [
    "'!='.join(meu_nome)"
   ]
  },
  {
   "cell_type": "code",
   "execution_count": 83,
   "metadata": {
    "ExecuteTime": {
     "end_time": "2020-06-02T19:07:12.210669Z",
     "start_time": "2020-06-02T19:07:12.205655Z"
    }
   },
   "outputs": [
    {
     "data": {
      "text/plain": [
       "'Andre-->Aguiar-->Bla'"
      ]
     },
     "execution_count": 83,
     "metadata": {},
     "output_type": "execute_result"
    }
   ],
   "source": [
    "'-->'.join(['Andre', 'Aguiar','Bla'])"
   ]
  },
  {
   "cell_type": "code",
   "execution_count": 84,
   "metadata": {
    "ExecuteTime": {
     "end_time": "2020-06-02T19:07:25.513811Z",
     "start_time": "2020-06-02T19:07:25.508792Z"
    }
   },
   "outputs": [
    {
     "data": {
      "text/plain": [
       "'Happy-Puppies'"
      ]
     },
     "execution_count": 84,
     "metadata": {},
     "output_type": "execute_result"
    }
   ],
   "source": [
    "x = 'Happy'\n",
    "y = 'Puppies'\n",
    "\n",
    "'-'.join([x, y])"
   ]
  },
  {
   "cell_type": "markdown",
   "metadata": {},
   "source": [
    "# The newline character (\\n)"
   ]
  },
  {
   "cell_type": "code",
   "execution_count": 87,
   "metadata": {
    "ExecuteTime": {
     "end_time": "2020-06-02T19:07:54.600532Z",
     "start_time": "2020-06-02T19:07:54.596543Z"
    }
   },
   "outputs": [
    {
     "name": "stdout",
     "output_type": "stream",
     "text": [
      "\n",
      "\n",
      "\n",
      "\n"
     ]
    }
   ],
   "source": [
    "print('\\n'* 3)"
   ]
  },
  {
   "cell_type": "markdown",
   "metadata": {},
   "source": [
    "# Practical example"
   ]
  },
  {
   "cell_type": "code",
   "execution_count": 89,
   "metadata": {
    "ExecuteTime": {
     "end_time": "2020-06-02T19:10:23.147409Z",
     "start_time": "2020-06-02T19:10:23.143420Z"
    }
   },
   "outputs": [],
   "source": [
    "queries = []\n",
    "tables = ['table_A', 'table_B', 'table_C', \n",
    "          'table_D','table_E', 'table_F',\n",
    "          'table_G','table_H', 'table_I']"
   ]
  },
  {
   "cell_type": "code",
   "execution_count": null,
   "metadata": {},
   "outputs": [],
   "source": [
    "tables"
   ]
  },
  {
   "cell_type": "code",
   "execution_count": null,
   "metadata": {},
   "outputs": [],
   "source": [
    "'''\n",
    "SELECT * FROM table_A\n",
    "UNION\n",
    "SELECT * FROM table_B\n",
    "UNION ...\n",
    "'''"
   ]
  },
  {
   "cell_type": "code",
   "execution_count": 90,
   "metadata": {
    "ExecuteTime": {
     "end_time": "2020-06-02T19:10:59.406063Z",
     "start_time": "2020-06-02T19:10:59.403071Z"
    }
   },
   "outputs": [
    {
     "name": "stdout",
     "output_type": "stream",
     "text": [
      "SELECT * FROM table_A\n",
      "UNION\n",
      "SELECT * FROM table_B\n",
      "UNION\n",
      "SELECT * FROM table_C\n",
      "UNION\n",
      "SELECT * FROM table_D\n",
      "UNION\n",
      "SELECT * FROM table_E\n",
      "UNION\n",
      "SELECT * FROM table_F\n",
      "UNION\n",
      "SELECT * FROM table_G\n",
      "UNION\n",
      "SELECT * FROM table_H\n",
      "UNION\n",
      "SELECT * FROM table_I\n",
      "UNION\n"
     ]
    }
   ],
   "source": [
    "for each_table in tables:\n",
    "    print(f'''SELECT * FROM {each_table}\\nUNION''')"
   ]
  },
  {
   "cell_type": "code",
   "execution_count": 91,
   "metadata": {
    "ExecuteTime": {
     "end_time": "2020-06-02T19:12:05.295026Z",
     "start_time": "2020-06-02T19:12:05.291036Z"
    }
   },
   "outputs": [],
   "source": [
    "queries = []\n",
    "\n",
    "for each_table in tables:\n",
    "    queries.append(f'SELECT * FROM {each_table}')"
   ]
  },
  {
   "cell_type": "code",
   "execution_count": 96,
   "metadata": {
    "ExecuteTime": {
     "end_time": "2020-06-02T19:13:03.423740Z",
     "start_time": "2020-06-02T19:13:03.419751Z"
    }
   },
   "outputs": [
    {
     "name": "stdout",
     "output_type": "stream",
     "text": [
      "SELECT * FROM table_A\n",
      "UNION\n",
      "SELECT * FROM table_B\n",
      "UNION\n",
      "SELECT * FROM table_C\n",
      "UNION\n",
      "SELECT * FROM table_D\n",
      "UNION\n",
      "SELECT * FROM table_E\n",
      "UNION\n",
      "SELECT * FROM table_F\n",
      "UNION\n",
      "SELECT * FROM table_G\n",
      "UNION\n",
      "SELECT * FROM table_H\n",
      "UNION\n",
      "SELECT * FROM table_I\n"
     ]
    }
   ],
   "source": [
    "final_query = '\\nUNION\\n'.join(queries)\n",
    "print(final_query)"
   ]
  },
  {
   "cell_type": "markdown",
   "metadata": {},
   "source": [
    "# Size of strings"
   ]
  },
  {
   "cell_type": "code",
   "execution_count": 99,
   "metadata": {
    "ExecuteTime": {
     "end_time": "2020-06-02T19:14:28.423422Z",
     "start_time": "2020-06-02T19:14:28.419433Z"
    }
   },
   "outputs": [
    {
     "data": {
      "text/plain": [
       "9"
      ]
     },
     "execution_count": 99,
     "metadata": {},
     "output_type": "execute_result"
    }
   ],
   "source": [
    "len([1,2,3,4,5,98,1,3,54])"
   ]
  },
  {
   "cell_type": "code",
   "execution_count": 108,
   "metadata": {
    "ExecuteTime": {
     "end_time": "2020-06-02T19:15:32.078893Z",
     "start_time": "2020-06-02T19:15:32.075897Z"
    }
   },
   "outputs": [
    {
     "data": {
      "text/plain": [
       "5"
      ]
     },
     "execution_count": 108,
     "metadata": {},
     "output_type": "execute_result"
    }
   ],
   "source": [
    "# len of string\n",
    "len('Andre')"
   ]
  },
  {
   "cell_type": "code",
   "execution_count": 107,
   "metadata": {
    "ExecuteTime": {
     "end_time": "2020-06-02T19:15:25.319813Z",
     "start_time": "2020-06-02T19:15:25.315824Z"
    }
   },
   "outputs": [
    {
     "data": {
      "text/plain": [
       "7"
      ]
     },
     "execution_count": 107,
     "metadata": {},
     "output_type": "execute_result"
    }
   ],
   "source": [
    "len('''Andre \n",
    "''')"
   ]
  },
  {
   "cell_type": "code",
   "execution_count": 109,
   "metadata": {
    "ExecuteTime": {
     "end_time": "2020-06-02T19:16:03.594792Z",
     "start_time": "2020-06-02T19:16:03.591800Z"
    }
   },
   "outputs": [
    {
     "name": "stdout",
     "output_type": "stream",
     "text": [
      "A\n",
      "n\n",
      "d\n",
      "r\n",
      "e\n"
     ]
    }
   ],
   "source": [
    "for i in 'Andre':\n",
    "    print(i)"
   ]
  },
  {
   "cell_type": "code",
   "execution_count": 114,
   "metadata": {
    "ExecuteTime": {
     "end_time": "2020-06-02T19:16:50.464596Z",
     "start_time": "2020-06-02T19:16:50.460608Z"
    }
   },
   "outputs": [
    {
     "data": {
      "text/plain": [
       "True"
      ]
     },
     "execution_count": 114,
     "metadata": {},
     "output_type": "execute_result"
    }
   ],
   "source": [
    "'Ribeiro' in 'Andre Ribeiro de Barros Aguiar'"
   ]
  },
  {
   "cell_type": "code",
   "execution_count": 115,
   "metadata": {
    "ExecuteTime": {
     "end_time": "2020-06-02T19:18:09.588019Z",
     "start_time": "2020-06-02T19:18:09.584998Z"
    }
   },
   "outputs": [],
   "source": [
    "tank = 'unp3'"
   ]
  },
  {
   "cell_type": "code",
   "execution_count": 118,
   "metadata": {
    "ExecuteTime": {
     "end_time": "2020-06-02T19:18:24.536733Z",
     "start_time": "2020-06-02T19:18:24.533061Z"
    }
   },
   "outputs": [
    {
     "name": "stdout",
     "output_type": "stream",
     "text": [
      "Control Tank\n"
     ]
    }
   ],
   "source": [
    "if 'unp' in tank:\n",
    "    print('Control Tank')"
   ]
  },
  {
   "cell_type": "markdown",
   "metadata": {},
   "source": [
    "# Word selection"
   ]
  },
  {
   "cell_type": "code",
   "execution_count": 120,
   "metadata": {
    "ExecuteTime": {
     "end_time": "2020-06-02T19:18:50.675325Z",
     "start_time": "2020-06-02T19:18:50.671309Z"
    }
   },
   "outputs": [],
   "source": [
    "word = 'automobile'\n"
   ]
  },
  {
   "cell_type": "code",
   "execution_count": 122,
   "metadata": {
    "ExecuteTime": {
     "end_time": "2020-06-02T19:18:57.274056Z",
     "start_time": "2020-06-02T19:18:57.270041Z"
    }
   },
   "outputs": [
    {
     "data": {
      "text/plain": [
       "'a'"
      ]
     },
     "execution_count": 122,
     "metadata": {},
     "output_type": "execute_result"
    }
   ],
   "source": [
    "word[0]"
   ]
  },
  {
   "cell_type": "code",
   "execution_count": 123,
   "metadata": {
    "ExecuteTime": {
     "end_time": "2020-06-02T19:19:01.899411Z",
     "start_time": "2020-06-02T19:19:01.896392Z"
    }
   },
   "outputs": [
    {
     "data": {
      "text/plain": [
       "'u'"
      ]
     },
     "execution_count": 123,
     "metadata": {},
     "output_type": "execute_result"
    }
   ],
   "source": [
    "word[1]"
   ]
  },
  {
   "cell_type": "code",
   "execution_count": 124,
   "metadata": {
    "ExecuteTime": {
     "end_time": "2020-06-02T19:19:09.202485Z",
     "start_time": "2020-06-02T19:19:09.198528Z"
    }
   },
   "outputs": [
    {
     "data": {
      "text/plain": [
       "'e'"
      ]
     },
     "execution_count": 124,
     "metadata": {},
     "output_type": "execute_result"
    }
   ],
   "source": [
    "word[-1]"
   ]
  },
  {
   "cell_type": "code",
   "execution_count": 126,
   "metadata": {
    "ExecuteTime": {
     "end_time": "2020-06-02T19:19:44.375740Z",
     "start_time": "2020-06-02T19:19:44.372748Z"
    }
   },
   "outputs": [
    {
     "data": {
      "text/plain": [
       "'autom'"
      ]
     },
     "execution_count": 126,
     "metadata": {},
     "output_type": "execute_result"
    }
   ],
   "source": [
    "# [0, 5) : 0,1,2,3,4\n",
    "word[:5]"
   ]
  },
  {
   "cell_type": "code",
   "execution_count": 127,
   "metadata": {
    "ExecuteTime": {
     "end_time": "2020-06-02T19:19:49.944232Z",
     "start_time": "2020-06-02T19:19:49.940267Z"
    }
   },
   "outputs": [
    {
     "data": {
      "text/plain": [
       "'mobile'"
      ]
     },
     "execution_count": 127,
     "metadata": {},
     "output_type": "execute_result"
    }
   ],
   "source": [
    "word[4:]"
   ]
  },
  {
   "cell_type": "code",
   "execution_count": 128,
   "metadata": {
    "ExecuteTime": {
     "end_time": "2020-06-02T19:19:59.227076Z",
     "start_time": "2020-06-02T19:19:59.223087Z"
    }
   },
   "outputs": [
    {
     "name": "stdout",
     "output_type": "stream",
     "text": [
      "a\n",
      "m\n",
      "e\n",
      "omo\n",
      "omobile\n",
      "automobile\n",
      "automobile\n"
     ]
    }
   ],
   "source": [
    "print(word[0])\n",
    "print(word[4])\n",
    "print(word[-1])\n",
    "print(word[3:6])\n",
    "print(word[3:])\n",
    "print(word[0::])\n",
    "print(word[:])"
   ]
  },
  {
   "cell_type": "markdown",
   "metadata": {},
   "source": [
    "# Splitting a string\n",
    "\n",
    "Inverse of join"
   ]
  },
  {
   "cell_type": "code",
   "execution_count": 131,
   "metadata": {
    "ExecuteTime": {
     "end_time": "2020-06-02T19:23:29.362019Z",
     "start_time": "2020-06-02T19:23:29.358030Z"
    }
   },
   "outputs": [],
   "source": [
    "a = 'They ate the - mystery meat. It tasted like          chicken.'"
   ]
  },
  {
   "cell_type": "code",
   "execution_count": 132,
   "metadata": {
    "ExecuteTime": {
     "end_time": "2020-06-02T19:23:30.070370Z",
     "start_time": "2020-06-02T19:23:30.066380Z"
    }
   },
   "outputs": [
    {
     "data": {
      "text/plain": [
       "['They',\n",
       " 'ate',\n",
       " 'the',\n",
       " '-',\n",
       " 'mystery',\n",
       " 'meat.',\n",
       " 'It',\n",
       " 'tasted',\n",
       " 'like',\n",
       " 'chicken.']"
      ]
     },
     "execution_count": 132,
     "metadata": {},
     "output_type": "execute_result"
    }
   ],
   "source": [
    "# when sep=None: discard empty strings\n",
    "a.split()"
   ]
  },
  {
   "cell_type": "code",
   "execution_count": 133,
   "metadata": {
    "ExecuteTime": {
     "end_time": "2020-06-02T19:23:44.587723Z",
     "start_time": "2020-06-02T19:23:44.583763Z"
    },
    "scrolled": true
   },
   "outputs": [
    {
     "data": {
      "text/plain": [
       "['They',\n",
       " 'ate',\n",
       " 'the',\n",
       " '-',\n",
       " 'mystery',\n",
       " 'meat.',\n",
       " 'It',\n",
       " 'tasted',\n",
       " 'like',\n",
       " '',\n",
       " '',\n",
       " '',\n",
       " '',\n",
       " '',\n",
       " '',\n",
       " '',\n",
       " '',\n",
       " '',\n",
       " 'chicken.']"
      ]
     },
     "execution_count": 133,
     "metadata": {},
     "output_type": "execute_result"
    }
   ],
   "source": [
    "# when sep=' ': DO NOT discard empty strings\n",
    "a.split(' ')"
   ]
  },
  {
   "cell_type": "code",
   "execution_count": 134,
   "metadata": {
    "ExecuteTime": {
     "end_time": "2020-06-02T19:25:00.482438Z",
     "start_time": "2020-06-02T19:25:00.478449Z"
    }
   },
   "outputs": [
    {
     "data": {
      "text/plain": [
       "'They ate the - mystery meat. It tasted like          chicken.'"
      ]
     },
     "execution_count": 134,
     "metadata": {},
     "output_type": "execute_result"
    }
   ],
   "source": [
    "a"
   ]
  },
  {
   "cell_type": "code",
   "execution_count": 137,
   "metadata": {
    "ExecuteTime": {
     "end_time": "2020-06-02T19:25:58.985948Z",
     "start_time": "2020-06-02T19:25:58.981935Z"
    }
   },
   "outputs": [
    {
     "data": {
      "text/plain": [
       "['They ate the - mystery meat', ' It tasted like          chicken', '']"
      ]
     },
     "execution_count": 137,
     "metadata": {},
     "output_type": "execute_result"
    }
   ],
   "source": [
    "a.split('.')"
   ]
  },
  {
   "cell_type": "code",
   "execution_count": 138,
   "metadata": {
    "ExecuteTime": {
     "end_time": "2020-06-02T19:25:59.498156Z",
     "start_time": "2020-06-02T19:25:59.493169Z"
    }
   },
   "outputs": [
    {
     "data": {
      "text/plain": [
       "['They ate the - mystery meat', ' It tasted like          chicken', '']"
      ]
     },
     "execution_count": 138,
     "metadata": {},
     "output_type": "execute_result"
    }
   ],
   "source": [
    "a.split(sep='.')"
   ]
  },
  {
   "cell_type": "code",
   "execution_count": 139,
   "metadata": {
    "ExecuteTime": {
     "end_time": "2020-06-02T19:26:08.967566Z",
     "start_time": "2020-06-02T19:26:08.963576Z"
    }
   },
   "outputs": [
    {
     "data": {
      "text/plain": [
       "True"
      ]
     },
     "execution_count": 139,
     "metadata": {},
     "output_type": "execute_result"
    }
   ],
   "source": [
    "a.split('.') == a.split(sep='.')"
   ]
  },
  {
   "cell_type": "code",
   "execution_count": 142,
   "metadata": {
    "ExecuteTime": {
     "end_time": "2020-06-02T19:26:32.045460Z",
     "start_time": "2020-06-02T19:26:32.041499Z"
    }
   },
   "outputs": [
    {
     "data": {
      "text/plain": [
       "'They ate the - mystery meat. It tasted like          chicken.'"
      ]
     },
     "execution_count": 142,
     "metadata": {},
     "output_type": "execute_result"
    }
   ],
   "source": [
    "a"
   ]
  },
  {
   "cell_type": "code",
   "execution_count": 143,
   "metadata": {
    "ExecuteTime": {
     "end_time": "2020-06-02T19:26:56.606146Z",
     "start_time": "2020-06-02T19:26:56.601160Z"
    }
   },
   "outputs": [
    {
     "data": {
      "text/plain": [
       "['They ate the ', ' mystery meat. It tasted like          chicken.']"
      ]
     },
     "execution_count": 143,
     "metadata": {},
     "output_type": "execute_result"
    }
   ],
   "source": [
    "a.split(sep='-')"
   ]
  },
  {
   "cell_type": "code",
   "execution_count": 146,
   "metadata": {
    "ExecuteTime": {
     "end_time": "2020-06-02T19:28:42.807672Z",
     "start_time": "2020-06-02T19:28:42.803683Z"
    }
   },
   "outputs": [
    {
     "data": {
      "text/plain": [
       "'h'"
      ]
     },
     "execution_count": 146,
     "metadata": {},
     "output_type": "execute_result"
    }
   ],
   "source": [
    "a[1]"
   ]
  },
  {
   "cell_type": "code",
   "execution_count": 151,
   "metadata": {
    "ExecuteTime": {
     "end_time": "2020-06-02T19:30:27.388993Z",
     "start_time": "2020-06-02T19:30:27.384007Z"
    }
   },
   "outputs": [
    {
     "data": {
      "text/plain": [
       "'tasted like chicken.'"
      ]
     },
     "execution_count": 151,
     "metadata": {},
     "output_type": "execute_result"
    }
   ],
   "source": [
    "' '.join(a.split(sep='-')[1].split()[3:])"
   ]
  },
  {
   "cell_type": "code",
   "execution_count": 156,
   "metadata": {
    "ExecuteTime": {
     "end_time": "2020-06-02T19:32:50.242428Z",
     "start_time": "2020-06-02T19:32:50.238439Z"
    }
   },
   "outputs": [
    {
     "data": {
      "text/plain": [
       "['They ate the - ', 'ystery ', 'eat. It tasted like          chicken.']"
      ]
     },
     "execution_count": 156,
     "metadata": {},
     "output_type": "execute_result"
    }
   ],
   "source": [
    "# split by m\n",
    "a.split('m')\n"
   ]
  },
  {
   "cell_type": "markdown",
   "metadata": {},
   "source": [
    "# Startswith vs Endswith"
   ]
  },
  {
   "cell_type": "code",
   "execution_count": 157,
   "metadata": {
    "ExecuteTime": {
     "end_time": "2020-06-02T19:33:03.795726Z",
     "start_time": "2020-06-02T19:33:03.791737Z"
    }
   },
   "outputs": [],
   "source": [
    "b = 'There is no business like show business.'"
   ]
  },
  {
   "cell_type": "code",
   "execution_count": 158,
   "metadata": {
    "ExecuteTime": {
     "end_time": "2020-06-02T19:34:30.326794Z",
     "start_time": "2020-06-02T19:34:30.322756Z"
    }
   },
   "outputs": [
    {
     "data": {
      "text/plain": [
       "True"
      ]
     },
     "execution_count": 158,
     "metadata": {},
     "output_type": "execute_result"
    }
   ],
   "source": [
    "b.startswith('There')"
   ]
  },
  {
   "cell_type": "code",
   "execution_count": 159,
   "metadata": {
    "ExecuteTime": {
     "end_time": "2020-06-02T19:34:57.618052Z",
     "start_time": "2020-06-02T19:34:57.614093Z"
    }
   },
   "outputs": [
    {
     "data": {
      "text/plain": [
       "False"
      ]
     },
     "execution_count": 159,
     "metadata": {},
     "output_type": "execute_result"
    }
   ],
   "source": [
    "b.endswith('s')"
   ]
  },
  {
   "cell_type": "code",
   "execution_count": 160,
   "metadata": {
    "ExecuteTime": {
     "end_time": "2020-06-02T19:35:01.334917Z",
     "start_time": "2020-06-02T19:35:01.331898Z"
    }
   },
   "outputs": [
    {
     "data": {
      "text/plain": [
       "True"
      ]
     },
     "execution_count": 160,
     "metadata": {},
     "output_type": "execute_result"
    }
   ],
   "source": [
    "b.endswith('.')"
   ]
  },
  {
   "cell_type": "code",
   "execution_count": 161,
   "metadata": {
    "ExecuteTime": {
     "end_time": "2020-06-02T19:35:05.363586Z",
     "start_time": "2020-06-02T19:35:05.359626Z"
    }
   },
   "outputs": [
    {
     "data": {
      "text/plain": [
       "True"
      ]
     },
     "execution_count": 161,
     "metadata": {},
     "output_type": "execute_result"
    }
   ],
   "source": [
    "b.endswith('s.')"
   ]
  },
  {
   "cell_type": "code",
   "execution_count": 162,
   "metadata": {
    "ExecuteTime": {
     "end_time": "2020-06-02T19:35:14.411797Z",
     "start_time": "2020-06-02T19:35:14.407809Z"
    }
   },
   "outputs": [
    {
     "data": {
      "text/plain": [
       "False"
      ]
     },
     "execution_count": 162,
     "metadata": {},
     "output_type": "execute_result"
    }
   ],
   "source": [
    "b.startswith('t')"
   ]
  },
  {
   "cell_type": "code",
   "execution_count": 163,
   "metadata": {
    "ExecuteTime": {
     "end_time": "2020-06-02T19:35:17.317776Z",
     "start_time": "2020-06-02T19:35:17.313787Z"
    }
   },
   "outputs": [
    {
     "data": {
      "text/plain": [
       "True"
      ]
     },
     "execution_count": 163,
     "metadata": {},
     "output_type": "execute_result"
    }
   ],
   "source": [
    "b.startswith('T')"
   ]
  },
  {
   "cell_type": "code",
   "execution_count": 164,
   "metadata": {
    "ExecuteTime": {
     "end_time": "2020-06-02T19:35:21.575696Z",
     "start_time": "2020-06-02T19:35:21.571707Z"
    }
   },
   "outputs": [
    {
     "data": {
      "text/plain": [
       "True"
      ]
     },
     "execution_count": 164,
     "metadata": {},
     "output_type": "execute_result"
    }
   ],
   "source": [
    "b.startswith('Ther')"
   ]
  },
  {
   "cell_type": "code",
   "execution_count": 165,
   "metadata": {
    "ExecuteTime": {
     "end_time": "2020-06-02T19:36:11.882153Z",
     "start_time": "2020-06-02T19:36:11.879160Z"
    }
   },
   "outputs": [],
   "source": [
    "# exemplo pratico\n",
    "variables = ['qtd_casa','qtd_boleto','qtd_titulos','vlr_boleto','vlr_titulos','vlr_cartao']"
   ]
  },
  {
   "cell_type": "code",
   "execution_count": 166,
   "metadata": {
    "ExecuteTime": {
     "end_time": "2020-06-02T19:36:39.717631Z",
     "start_time": "2020-06-02T19:36:39.713613Z"
    }
   },
   "outputs": [
    {
     "name": "stdout",
     "output_type": "stream",
     "text": [
      "vlr_boleto\n",
      "vlr_titulos\n",
      "vlr_cartao\n"
     ]
    }
   ],
   "source": [
    "for each_var in variables:\n",
    "    if each_var.startswith('vlr'):\n",
    "        print(each_var)"
   ]
  },
  {
   "cell_type": "markdown",
   "metadata": {},
   "source": [
    "# Is it in a string?"
   ]
  },
  {
   "cell_type": "code",
   "execution_count": 167,
   "metadata": {
    "ExecuteTime": {
     "end_time": "2020-06-02T19:36:58.176777Z",
     "start_time": "2020-06-02T19:36:58.172787Z"
    }
   },
   "outputs": [
    {
     "data": {
      "text/plain": [
       "'There is no business like show business.'"
      ]
     },
     "execution_count": 167,
     "metadata": {},
     "output_type": "execute_result"
    }
   ],
   "source": [
    "b"
   ]
  },
  {
   "cell_type": "code",
   "execution_count": 169,
   "metadata": {
    "ExecuteTime": {
     "end_time": "2020-06-02T19:37:08.506937Z",
     "start_time": "2020-06-02T19:37:08.502976Z"
    }
   },
   "outputs": [
    {
     "data": {
      "text/plain": [
       "True"
      ]
     },
     "execution_count": 169,
     "metadata": {},
     "output_type": "execute_result"
    }
   ],
   "source": [
    "'business' in b"
   ]
  },
  {
   "cell_type": "code",
   "execution_count": 170,
   "metadata": {
    "ExecuteTime": {
     "end_time": "2020-06-02T19:37:09.215677Z",
     "start_time": "2020-06-02T19:37:09.211688Z"
    }
   },
   "outputs": [
    {
     "data": {
      "text/plain": [
       "False"
      ]
     },
     "execution_count": 170,
     "metadata": {},
     "output_type": "execute_result"
    }
   ],
   "source": [
    "'businessss' in b"
   ]
  },
  {
   "cell_type": "code",
   "execution_count": 171,
   "metadata": {
    "ExecuteTime": {
     "end_time": "2020-06-02T19:37:24.675795Z",
     "start_time": "2020-06-02T19:37:24.671806Z"
    }
   },
   "outputs": [
    {
     "name": "stdout",
     "output_type": "stream",
     "text": [
      "vlr_boleto\n",
      "vlr_titulos\n",
      "vlr_cartao\n"
     ]
    }
   ],
   "source": [
    "for variable in variables:\n",
    "    if 'vlr_' in variable:\n",
    "        print(variable)"
   ]
  },
  {
   "cell_type": "markdown",
   "metadata": {},
   "source": [
    "# String methods. "
   ]
  },
  {
   "cell_type": "code",
   "execution_count": 175,
   "metadata": {
    "ExecuteTime": {
     "end_time": "2020-06-02T19:38:39.379569Z",
     "start_time": "2020-06-02T19:38:39.377587Z"
    }
   },
   "outputs": [],
   "source": [
    "c = 'shE HaD a maRveLoUs aSsoRtmeNt of PUPPETS.'"
   ]
  },
  {
   "cell_type": "code",
   "execution_count": 176,
   "metadata": {
    "ExecuteTime": {
     "end_time": "2020-06-02T19:38:44.975496Z",
     "start_time": "2020-06-02T19:38:44.971532Z"
    }
   },
   "outputs": [
    {
     "data": {
      "text/plain": [
       "'she had a marvelous assortment of puppets.'"
      ]
     },
     "execution_count": 176,
     "metadata": {},
     "output_type": "execute_result"
    }
   ],
   "source": [
    "c.lower()"
   ]
  },
  {
   "cell_type": "code",
   "execution_count": 177,
   "metadata": {
    "ExecuteTime": {
     "end_time": "2020-06-02T19:38:59.718929Z",
     "start_time": "2020-06-02T19:38:59.714939Z"
    }
   },
   "outputs": [
    {
     "data": {
      "text/plain": [
       "'SHE HAD A MARVELOUS ASSORTMENT OF PUPPETS.'"
      ]
     },
     "execution_count": 177,
     "metadata": {},
     "output_type": "execute_result"
    }
   ],
   "source": [
    "c.upper()"
   ]
  },
  {
   "cell_type": "code",
   "execution_count": 178,
   "metadata": {
    "ExecuteTime": {
     "end_time": "2020-06-02T19:39:06.690537Z",
     "start_time": "2020-06-02T19:39:06.686548Z"
    }
   },
   "outputs": [],
   "source": [
    "c = 'shE HaD a maRveLoUs aSsoRtmeNt of PUPPETS.'"
   ]
  },
  {
   "cell_type": "code",
   "execution_count": 179,
   "metadata": {
    "ExecuteTime": {
     "end_time": "2020-06-02T19:39:51.097781Z",
     "start_time": "2020-06-02T19:39:51.093792Z"
    }
   },
   "outputs": [
    {
     "data": {
      "text/plain": [
       "'She had a marvelous assortment of puppets.'"
      ]
     },
     "execution_count": 179,
     "metadata": {},
     "output_type": "execute_result"
    }
   ],
   "source": [
    "c.capitalize()"
   ]
  },
  {
   "cell_type": "code",
   "execution_count": 180,
   "metadata": {
    "ExecuteTime": {
     "end_time": "2020-06-02T19:40:21.360154Z",
     "start_time": "2020-06-02T19:40:21.356166Z"
    }
   },
   "outputs": [
    {
     "data": {
      "text/plain": [
       "'She Had A Marvelous Assortment Of Puppets.'"
      ]
     },
     "execution_count": 180,
     "metadata": {},
     "output_type": "execute_result"
    }
   ],
   "source": [
    "c.title()"
   ]
  },
  {
   "cell_type": "code",
   "execution_count": 181,
   "metadata": {
    "ExecuteTime": {
     "end_time": "2020-06-02T19:40:36.151100Z",
     "start_time": "2020-06-02T19:40:36.148109Z"
    }
   },
   "outputs": [],
   "source": [
    "x = 'Andre'"
   ]
  },
  {
   "cell_type": "code",
   "execution_count": 182,
   "metadata": {
    "ExecuteTime": {
     "end_time": "2020-06-02T19:40:38.699436Z",
     "start_time": "2020-06-02T19:40:38.695448Z"
    }
   },
   "outputs": [
    {
     "data": {
      "text/plain": [
       "'Andre'"
      ]
     },
     "execution_count": 182,
     "metadata": {},
     "output_type": "execute_result"
    }
   ],
   "source": [
    "x"
   ]
  },
  {
   "cell_type": "code",
   "execution_count": 185,
   "metadata": {
    "ExecuteTime": {
     "end_time": "2020-06-02T19:40:57.759093Z",
     "start_time": "2020-06-02T19:40:57.755075Z"
    }
   },
   "outputs": [
    {
     "data": {
      "text/plain": [
       "'And then he said: \"My name is andre\"'"
      ]
     },
     "execution_count": 185,
     "metadata": {},
     "output_type": "execute_result"
    }
   ],
   "source": [
    "f'And then he said: \"My name is {x.lower()}\"' "
   ]
  },
  {
   "cell_type": "code",
   "execution_count": 186,
   "metadata": {
    "ExecuteTime": {
     "end_time": "2020-06-02T19:41:02.368674Z",
     "start_time": "2020-06-02T19:41:02.363689Z"
    }
   },
   "outputs": [
    {
     "data": {
      "text/plain": [
       "'And then he said: \"My name is ANDRE\"'"
      ]
     },
     "execution_count": 186,
     "metadata": {},
     "output_type": "execute_result"
    }
   ],
   "source": [
    "f'And then he said: \"My name is {x.upper()}\"'"
   ]
  },
  {
   "cell_type": "markdown",
   "metadata": {},
   "source": [
    "# Strip!"
   ]
  },
  {
   "cell_type": "code",
   "execution_count": 187,
   "metadata": {
    "ExecuteTime": {
     "end_time": "2020-06-02T19:41:28.052449Z",
     "start_time": "2020-06-02T19:41:28.048460Z"
    }
   },
   "outputs": [],
   "source": [
    "d = ' I have a tendency to leave trailing spaces.     '"
   ]
  },
  {
   "cell_type": "code",
   "execution_count": 188,
   "metadata": {
    "ExecuteTime": {
     "end_time": "2020-06-02T19:41:28.709883Z",
     "start_time": "2020-06-02T19:41:28.705894Z"
    }
   },
   "outputs": [
    {
     "data": {
      "text/plain": [
       "'I have a tendency to leave trailing spaces.'"
      ]
     },
     "execution_count": 188,
     "metadata": {},
     "output_type": "execute_result"
    }
   ],
   "source": [
    "# strip default, lstrip and rstrip\n",
    "\n",
    "d.strip()"
   ]
  },
  {
   "cell_type": "code",
   "execution_count": 189,
   "metadata": {
    "ExecuteTime": {
     "end_time": "2020-06-02T19:41:50.248513Z",
     "start_time": "2020-06-02T19:41:50.244496Z"
    }
   },
   "outputs": [
    {
     "data": {
      "text/plain": [
       "'I have a tendency to leave trailing spaces.     '"
      ]
     },
     "execution_count": 189,
     "metadata": {},
     "output_type": "execute_result"
    }
   ],
   "source": [
    "d.lstrip()"
   ]
  },
  {
   "cell_type": "code",
   "execution_count": 190,
   "metadata": {
    "ExecuteTime": {
     "end_time": "2020-06-02T19:41:56.425739Z",
     "start_time": "2020-06-02T19:41:56.421721Z"
    }
   },
   "outputs": [
    {
     "data": {
      "text/plain": [
       "' I have a tendency to leave trailing spaces.'"
      ]
     },
     "execution_count": 190,
     "metadata": {},
     "output_type": "execute_result"
    }
   ],
   "source": [
    "d.rstrip()"
   ]
  },
  {
   "cell_type": "markdown",
   "metadata": {},
   "source": [
    "# Replacing values"
   ]
  },
  {
   "cell_type": "code",
   "execution_count": 191,
   "metadata": {
    "ExecuteTime": {
     "end_time": "2020-06-02T19:42:18.828570Z",
     "start_time": "2020-06-02T19:42:18.824581Z"
    }
   },
   "outputs": [
    {
     "data": {
      "text/plain": [
       "'I thought the movie was wonderful wonderful wonderful!'"
      ]
     },
     "execution_count": 191,
     "metadata": {},
     "output_type": "execute_result"
    }
   ],
   "source": [
    "e = 'I thought the movie was wonderful wonderful wonderful!'\n",
    "\n",
    "e"
   ]
  },
  {
   "cell_type": "code",
   "execution_count": 192,
   "metadata": {
    "ExecuteTime": {
     "end_time": "2020-06-02T19:42:42.446501Z",
     "start_time": "2020-06-02T19:42:42.441540Z"
    }
   },
   "outputs": [
    {
     "data": {
      "text/plain": [
       "'I thought the film was wonderful wonderful wonderful!'"
      ]
     },
     "execution_count": 192,
     "metadata": {},
     "output_type": "execute_result"
    }
   ],
   "source": [
    "e.replace('movie', 'film')"
   ]
  },
  {
   "cell_type": "code",
   "execution_count": 193,
   "metadata": {
    "ExecuteTime": {
     "end_time": "2020-06-02T19:42:58.113102Z",
     "start_time": "2020-06-02T19:42:58.109113Z"
    }
   },
   "outputs": [
    {
     "data": {
      "text/plain": [
       "'I thought the filmie was wonderful wonderful wonderful!'"
      ]
     },
     "execution_count": 193,
     "metadata": {},
     "output_type": "execute_result"
    }
   ],
   "source": [
    "e.replace('mov', 'film')"
   ]
  },
  {
   "cell_type": "code",
   "execution_count": 196,
   "metadata": {
    "ExecuteTime": {
     "end_time": "2020-06-02T19:43:39.105526Z",
     "start_time": "2020-06-02T19:43:39.101535Z"
    }
   },
   "outputs": [
    {
     "data": {
      "text/plain": [
       "'I thought the movie was awful awful wonderful!'"
      ]
     },
     "execution_count": 196,
     "metadata": {},
     "output_type": "execute_result"
    }
   ],
   "source": [
    "e.replace('wonderful','awful', 2)"
   ]
  }
 ],
 "metadata": {
  "kernelspec": {
   "display_name": "Python 3",
   "language": "python",
   "name": "python3"
  },
  "language_info": {
   "codemirror_mode": {
    "name": "ipython",
    "version": 3
   },
   "file_extension": ".py",
   "mimetype": "text/x-python",
   "name": "python",
   "nbconvert_exporter": "python",
   "pygments_lexer": "ipython3",
   "version": "3.7.6"
  },
  "toc": {
   "base_numbering": 1,
   "nav_menu": {},
   "number_sections": true,
   "sideBar": true,
   "skip_h1_title": false,
   "title_cell": "Table of Contents",
   "title_sidebar": "Contents",
   "toc_cell": false,
   "toc_position": {},
   "toc_section_display": true,
   "toc_window_display": true
  },
  "varInspector": {
   "cols": {
    "lenName": 16,
    "lenType": 16,
    "lenVar": 40
   },
   "kernels_config": {
    "python": {
     "delete_cmd_postfix": "",
     "delete_cmd_prefix": "del ",
     "library": "var_list.py",
     "varRefreshCmd": "print(var_dic_list())"
    },
    "r": {
     "delete_cmd_postfix": ") ",
     "delete_cmd_prefix": "rm(",
     "library": "var_list.r",
     "varRefreshCmd": "cat(var_dic_list()) "
    }
   },
   "types_to_exclude": [
    "module",
    "function",
    "builtin_function_or_method",
    "instance",
    "_Feature"
   ],
   "window_display": false
  }
 },
 "nbformat": 4,
 "nbformat_minor": 2
}
