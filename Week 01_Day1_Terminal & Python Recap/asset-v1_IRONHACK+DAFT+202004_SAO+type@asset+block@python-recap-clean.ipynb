{
 "cells": [
  {
   "cell_type": "markdown",
   "metadata": {},
   "source": [
    "# Example Code"
   ]
  },
  {
   "cell_type": "code",
   "execution_count": 1,
   "metadata": {
    "ExecuteTime": {
     "end_time": "2020-06-02T12:33:45.262835Z",
     "start_time": "2020-06-02T12:33:45.257847Z"
    }
   },
   "outputs": [
    {
     "name": "stdout",
     "output_type": "stream",
     "text": [
      "Hello World\n"
     ]
    }
   ],
   "source": [
    "print('Hello World')"
   ]
  },
  {
   "cell_type": "markdown",
   "metadata": {
    "ExecuteTime": {
     "end_time": "2020-06-01T21:03:11.750648Z",
     "start_time": "2020-06-01T21:03:11.742640Z"
    }
   },
   "source": [
    "ctrl+enter: executa o código e permanece na mesma célula\n",
    "\n",
    "shift+enter: executa o código e vai pra célula seguinte"
   ]
  },
  {
   "cell_type": "markdown",
   "metadata": {},
   "source": [
    "# Hello World\n",
    "## Hello World\n",
    "### Hello World\n",
    "#### Hello World"
   ]
  },
  {
   "cell_type": "markdown",
   "metadata": {},
   "source": [
    "# Hello World\n",
    "\n",
    "## Markdown\n",
    "\n",
    "##### Teste\n",
    "\n",
    "Simplesmente escrever aqui em <b> negrito </b> ou também em **negrito**, ou ainda em *itálico*, ou ainda <i> itálico </i>\n",
    "\n",
    "* Primeiro tópico\n",
    "* Segundo tópico\n",
    "\n",
    "> Citação\n",
    "\n",
    "```python\n",
    "print('Hello World')\n",
    "\n",
    "for i in range(10):\n",
    "    print('oi')\n",
    "```\n",
    "\n",
    "é uma documentação"
   ]
  },
  {
   "cell_type": "code",
   "execution_count": null,
   "metadata": {},
   "outputs": [],
   "source": [
    "# ctrl+enter\n",
    "# shift+enter"
   ]
  },
  {
   "cell_type": "markdown",
   "metadata": {},
   "source": [
    "# The print function"
   ]
  },
  {
   "cell_type": "code",
   "execution_count": 4,
   "metadata": {
    "ExecuteTime": {
     "end_time": "2020-06-02T12:36:09.393487Z",
     "start_time": "2020-06-02T12:36:09.390523Z"
    }
   },
   "outputs": [
    {
     "name": "stdout",
     "output_type": "stream",
     "text": [
      "Hello World\n"
     ]
    }
   ],
   "source": [
    "x = 2\n",
    "print('Hello World')\n",
    "# debugging\n",
    "y = 3"
   ]
  },
  {
   "cell_type": "markdown",
   "metadata": {},
   "source": [
    "# Print variable"
   ]
  },
  {
   "cell_type": "code",
   "execution_count": 5,
   "metadata": {
    "ExecuteTime": {
     "end_time": "2020-06-02T12:36:57.569202Z",
     "start_time": "2020-06-02T12:36:57.566209Z"
    }
   },
   "outputs": [],
   "source": [
    "x = 2 # assignment"
   ]
  },
  {
   "cell_type": "code",
   "execution_count": 6,
   "metadata": {
    "ExecuteTime": {
     "end_time": "2020-06-02T12:36:58.069371Z",
     "start_time": "2020-06-02T12:36:58.066379Z"
    }
   },
   "outputs": [
    {
     "name": "stdout",
     "output_type": "stream",
     "text": [
      "2\n"
     ]
    }
   ],
   "source": [
    "print(x)"
   ]
  },
  {
   "cell_type": "code",
   "execution_count": 7,
   "metadata": {
    "ExecuteTime": {
     "end_time": "2020-06-02T12:37:09.369943Z",
     "start_time": "2020-06-02T12:37:09.365927Z"
    }
   },
   "outputs": [
    {
     "name": "stdout",
     "output_type": "stream",
     "text": [
      "2\n",
      "3\n"
     ]
    }
   ],
   "source": [
    "x = 2\n",
    "print(x)\n",
    "\n",
    "x = 3\n",
    "print(x)"
   ]
  },
  {
   "cell_type": "code",
   "execution_count": 10,
   "metadata": {
    "ExecuteTime": {
     "end_time": "2020-06-02T12:38:46.577771Z",
     "start_time": "2020-06-02T12:38:46.573780Z"
    }
   },
   "outputs": [
    {
     "name": "stdout",
     "output_type": "stream",
     "text": [
      "A variável x é igual a 3 separado 3 3 3 3 3\n"
     ]
    }
   ],
   "source": [
    "print('A variável x é igual a', x,'separado', x, x,x,x,x)"
   ]
  },
  {
   "cell_type": "code",
   "execution_count": 14,
   "metadata": {
    "ExecuteTime": {
     "end_time": "2020-06-02T12:39:41.379858Z",
     "start_time": "2020-06-02T12:39:41.374870Z"
    }
   },
   "outputs": [
    {
     "name": "stdout",
     "output_type": "stream",
     "text": [
      "A variável x é igual a->3->3->3->3->blabla\n"
     ]
    }
   ],
   "source": [
    "print('A variável x é igual a', x,x,x,x,'blabla', sep='->')"
   ]
  },
  {
   "cell_type": "code",
   "execution_count": 19,
   "metadata": {
    "ExecuteTime": {
     "end_time": "2020-06-02T12:41:33.983011Z",
     "start_time": "2020-06-02T12:41:33.979992Z"
    }
   },
   "outputs": [
    {
     "name": "stdout",
     "output_type": "stream",
     "text": [
      "A variável x é igual a 3.140000\n"
     ]
    }
   ],
   "source": [
    "# %d : string interpolation\n",
    "print('A variável x é igual a %f' %3.14)"
   ]
  },
  {
   "cell_type": "code",
   "execution_count": 17,
   "metadata": {
    "ExecuteTime": {
     "end_time": "2020-06-02T12:41:04.391049Z",
     "start_time": "2020-06-02T12:41:04.387060Z"
    }
   },
   "outputs": [
    {
     "name": "stdout",
     "output_type": "stream",
     "text": [
      "A variável x é igual a 3\n"
     ]
    }
   ],
   "source": [
    "print('A variável x é igual a %d' %x)"
   ]
  },
  {
   "cell_type": "code",
   "execution_count": 21,
   "metadata": {
    "ExecuteTime": {
     "end_time": "2020-06-02T12:42:49.308286Z",
     "start_time": "2020-06-02T12:42:49.305294Z"
    }
   },
   "outputs": [
    {
     "name": "stdout",
     "output_type": "stream",
     "text": [
      "A variável x é igual a 10 que é igual 3.14 que é diferente de 3\n"
     ]
    }
   ],
   "source": [
    "print('A variável x é igual a {} que é igual {} que é diferente de {}'.format(10, 3.14, x))"
   ]
  },
  {
   "cell_type": "code",
   "execution_count": 22,
   "metadata": {
    "ExecuteTime": {
     "end_time": "2020-06-02T12:43:31.134598Z",
     "start_time": "2020-06-02T12:43:31.130609Z"
    }
   },
   "outputs": [
    {
     "name": "stdout",
     "output_type": "stream",
     "text": [
      "A variável x é igual a {x}\n"
     ]
    }
   ],
   "source": [
    "print('A variável x é igual a {x}')"
   ]
  },
  {
   "cell_type": "code",
   "execution_count": 24,
   "metadata": {
    "ExecuteTime": {
     "end_time": "2020-06-02T12:45:07.038429Z",
     "start_time": "2020-06-02T12:45:07.034440Z"
    }
   },
   "outputs": [],
   "source": [
    "x = 3\n",
    "y = 10\n",
    "pi = 3.14"
   ]
  },
  {
   "cell_type": "code",
   "execution_count": 25,
   "metadata": {
    "ExecuteTime": {
     "end_time": "2020-06-02T12:45:08.381754Z",
     "start_time": "2020-06-02T12:45:08.377763Z"
    }
   },
   "outputs": [
    {
     "name": "stdout",
     "output_type": "stream",
     "text": [
      "A variável x é igual a 10 que é diferente 3.14 que é diferente de 3\n"
     ]
    }
   ],
   "source": [
    "print(f'A variável x é igual a {y} que é diferente {pi} que é diferente de {x}')"
   ]
  },
  {
   "cell_type": "markdown",
   "metadata": {},
   "source": [
    "# Data Types"
   ]
  },
  {
   "cell_type": "code",
   "execution_count": 35,
   "metadata": {
    "ExecuteTime": {
     "end_time": "2020-06-02T12:48:06.252878Z",
     "start_time": "2020-06-02T12:48:06.248888Z"
    }
   },
   "outputs": [
    {
     "name": "stdout",
     "output_type": "stream",
     "text": [
      "3\n",
      "3.14\n"
     ]
    }
   ],
   "source": [
    "# type function\n",
    "\n",
    "# types: float, str, int, bool\n",
    "\n",
    "# string: str\n",
    "type('A variavel x é igual a x')\n",
    "\n",
    "\n",
    "\n",
    "print(x)\n",
    "print(pi)"
   ]
  },
  {
   "cell_type": "code",
   "execution_count": 39,
   "metadata": {
    "ExecuteTime": {
     "end_time": "2020-06-02T12:49:02.568440Z",
     "start_time": "2020-06-02T12:49:02.564451Z"
    }
   },
   "outputs": [
    {
     "data": {
      "text/plain": [
       "3.14"
      ]
     },
     "execution_count": 39,
     "metadata": {},
     "output_type": "execute_result"
    }
   ],
   "source": [
    "pi"
   ]
  },
  {
   "cell_type": "code",
   "execution_count": 36,
   "metadata": {
    "ExecuteTime": {
     "end_time": "2020-06-02T12:48:47.432135Z",
     "start_time": "2020-06-02T12:48:47.428174Z"
    }
   },
   "outputs": [
    {
     "data": {
      "text/plain": [
       "float"
      ]
     },
     "execution_count": 36,
     "metadata": {},
     "output_type": "execute_result"
    }
   ],
   "source": [
    "# float\n",
    "type(pi)"
   ]
  },
  {
   "cell_type": "code",
   "execution_count": 38,
   "metadata": {
    "ExecuteTime": {
     "end_time": "2020-06-02T12:49:00.288218Z",
     "start_time": "2020-06-02T12:49:00.284200Z"
    }
   },
   "outputs": [
    {
     "data": {
      "text/plain": [
       "3"
      ]
     },
     "execution_count": 38,
     "metadata": {},
     "output_type": "execute_result"
    }
   ],
   "source": [
    "x"
   ]
  },
  {
   "cell_type": "code",
   "execution_count": 37,
   "metadata": {
    "ExecuteTime": {
     "end_time": "2020-06-02T12:48:57.877804Z",
     "start_time": "2020-06-02T12:48:57.874811Z"
    }
   },
   "outputs": [
    {
     "data": {
      "text/plain": [
       "int"
      ]
     },
     "execution_count": 37,
     "metadata": {},
     "output_type": "execute_result"
    }
   ],
   "source": [
    "# int \n",
    "type(x)"
   ]
  },
  {
   "cell_type": "code",
   "execution_count": 44,
   "metadata": {
    "ExecuteTime": {
     "end_time": "2020-06-02T12:49:57.337218Z",
     "start_time": "2020-06-02T12:49:57.334255Z"
    }
   },
   "outputs": [],
   "source": [
    "# bool\n",
    "is_happy = True"
   ]
  },
  {
   "cell_type": "code",
   "execution_count": 45,
   "metadata": {
    "ExecuteTime": {
     "end_time": "2020-06-02T12:49:57.598306Z",
     "start_time": "2020-06-02T12:49:57.594317Z"
    }
   },
   "outputs": [
    {
     "data": {
      "text/plain": [
       "bool"
      ]
     },
     "execution_count": 45,
     "metadata": {},
     "output_type": "execute_result"
    }
   ],
   "source": [
    "type(is_happy)"
   ]
  },
  {
   "cell_type": "code",
   "execution_count": 46,
   "metadata": {
    "ExecuteTime": {
     "end_time": "2020-06-02T12:50:37.865817Z",
     "start_time": "2020-06-02T12:50:37.861828Z"
    }
   },
   "outputs": [],
   "source": [
    "exemplo = 'isso é uma string'"
   ]
  },
  {
   "cell_type": "code",
   "execution_count": 54,
   "metadata": {
    "ExecuteTime": {
     "end_time": "2020-06-02T12:53:44.664814Z",
     "start_time": "2020-06-02T12:53:44.660825Z"
    }
   },
   "outputs": [
    {
     "name": "stdout",
     "output_type": "stream",
     "text": [
      "O tipo da variável exemplo <class 'str'>\n",
      "O tipo da variável is_happy <class 'bool'>\n",
      "O tipo da variável pi <class 'float'>\n",
      "O tipo da variável x <class 'int'>\n"
     ]
    }
   ],
   "source": [
    "# multiselection - segurando ctrl, clicando pra gerar algum cursor novo\n",
    "\n",
    "print(f'O tipo da variável exemplo {type(exemplo)}')\n",
    "print(f'O tipo da variável is_happy {type(is_happy)}')\n",
    "print(f'O tipo da variável pi {type(pi)}')\n",
    "print(f'O tipo da variável x {type(x)}')"
   ]
  },
  {
   "cell_type": "markdown",
   "metadata": {},
   "source": [
    "# Code Execution"
   ]
  },
  {
   "cell_type": "markdown",
   "metadata": {},
   "source": [
    "## For loops"
   ]
  },
  {
   "cell_type": "code",
   "execution_count": 55,
   "metadata": {
    "ExecuteTime": {
     "end_time": "2020-06-02T12:55:06.050376Z",
     "start_time": "2020-06-02T12:55:06.046387Z"
    }
   },
   "outputs": [
    {
     "data": {
      "text/plain": [
       "range(0, 10)"
      ]
     },
     "execution_count": 55,
     "metadata": {},
     "output_type": "execute_result"
    }
   ],
   "source": [
    "range(10)"
   ]
  },
  {
   "cell_type": "code",
   "execution_count": 57,
   "metadata": {
    "ExecuteTime": {
     "end_time": "2020-06-02T12:56:25.890965Z",
     "start_time": "2020-06-02T12:56:25.887973Z"
    }
   },
   "outputs": [
    {
     "name": "stdout",
     "output_type": "stream",
     "text": [
      "0\n",
      "1\n",
      "2\n",
      "3\n",
      "4\n"
     ]
    }
   ],
   "source": [
    "# [0, 5)\n",
    "# shift tab to show help\n",
    "for item in range(5):    \n",
    "    print(item)"
   ]
  },
  {
   "cell_type": "code",
   "execution_count": 58,
   "metadata": {
    "ExecuteTime": {
     "end_time": "2020-06-02T12:58:30.642213Z",
     "start_time": "2020-06-02T12:58:30.638194Z"
    }
   },
   "outputs": [
    {
     "name": "stdout",
     "output_type": "stream",
     "text": [
      "3\n",
      "4\n",
      "5\n",
      "6\n",
      "7\n",
      "8\n",
      "9\n"
     ]
    }
   ],
   "source": [
    "# [3, 10)\n",
    "for item in range(3, 10):\n",
    "    print(item)"
   ]
  },
  {
   "cell_type": "code",
   "execution_count": null,
   "metadata": {},
   "outputs": [],
   "source": [
    "[10, 3)"
   ]
  },
  {
   "cell_type": "code",
   "execution_count": 64,
   "metadata": {
    "ExecuteTime": {
     "end_time": "2020-06-02T12:59:52.779746Z",
     "start_time": "2020-06-02T12:59:52.776754Z"
    }
   },
   "outputs": [
    {
     "name": "stdout",
     "output_type": "stream",
     "text": [
      "10\n",
      "8\n",
      "6\n",
      "4\n"
     ]
    }
   ],
   "source": [
    "for item in range(10, 3, -2):\n",
    "    print(item)"
   ]
  },
  {
   "cell_type": "code",
   "execution_count": 63,
   "metadata": {
    "ExecuteTime": {
     "end_time": "2020-06-02T12:59:43.645991Z",
     "start_time": "2020-06-02T12:59:43.642002Z"
    }
   },
   "outputs": [
    {
     "name": "stdout",
     "output_type": "stream",
     "text": [
      "10\n",
      "9\n",
      "7\n",
      "6\n",
      "5\n",
      "4\n"
     ]
    }
   ],
   "source": [
    "for item in [10, 9, 8, 7, 6, 5, 4]:\n",
    "    print(item)"
   ]
  },
  {
   "cell_type": "code",
   "execution_count": 65,
   "metadata": {
    "ExecuteTime": {
     "end_time": "2020-06-02T12:59:57.371156Z",
     "start_time": "2020-06-02T12:59:57.367137Z"
    }
   },
   "outputs": [
    {
     "data": {
      "text/plain": [
       "[10, 8, 6, 4]"
      ]
     },
     "execution_count": 65,
     "metadata": {},
     "output_type": "execute_result"
    }
   ],
   "source": [
    "list(range(10, 3, -2))"
   ]
  },
  {
   "cell_type": "code",
   "execution_count": 68,
   "metadata": {
    "ExecuteTime": {
     "end_time": "2020-06-02T13:03:04.151297Z",
     "start_time": "2020-06-02T13:03:04.146310Z"
    }
   },
   "outputs": [
    {
     "data": {
      "text/plain": [
       "False"
      ]
     },
     "execution_count": 68,
     "metadata": {},
     "output_type": "execute_result"
    }
   ],
   "source": [
    "98 in [10, 9, 8, 7, 6, 5, 4]"
   ]
  },
  {
   "cell_type": "code",
   "execution_count": null,
   "metadata": {},
   "outputs": [],
   "source": [
    "# indentation\n",
    "# :\n",
    "# running through lists (iterators)\n",
    "# range\n",
    "# backwards range"
   ]
  },
  {
   "cell_type": "code",
   "execution_count": 69,
   "metadata": {
    "ExecuteTime": {
     "end_time": "2020-06-02T13:03:18.024403Z",
     "start_time": "2020-06-02T13:03:18.020414Z"
    }
   },
   "outputs": [
    {
     "name": "stdout",
     "output_type": "stream",
     "text": [
      "Miau\n",
      "Miau\n",
      "Miau\n",
      "Miau\n",
      "Miau\n"
     ]
    }
   ],
   "source": [
    "print('Miau')\n",
    "print('Miau')\n",
    "print('Miau')\n",
    "print('Miau')\n",
    "print('Miau')"
   ]
  },
  {
   "cell_type": "code",
   "execution_count": 70,
   "metadata": {
    "ExecuteTime": {
     "end_time": "2020-06-02T13:03:55.000522Z",
     "start_time": "2020-06-02T13:03:54.997502Z"
    }
   },
   "outputs": [
    {
     "name": "stdout",
     "output_type": "stream",
     "text": [
      "Miau\n",
      "Miau\n",
      "Miau\n",
      "Miau\n",
      "Miau\n"
     ]
    }
   ],
   "source": [
    "for qualquer_coisa in range(5):\n",
    "    print('Miau')"
   ]
  },
  {
   "cell_type": "code",
   "execution_count": 71,
   "metadata": {
    "ExecuteTime": {
     "end_time": "2020-06-02T13:04:26.420575Z",
     "start_time": "2020-06-02T13:04:26.416586Z"
    }
   },
   "outputs": [
    {
     "name": "stdout",
     "output_type": "stream",
     "text": [
      "Miau\n",
      "Miau\n",
      "Miau\n",
      "Miau\n",
      "Miau\n"
     ]
    }
   ],
   "source": [
    "for _ in range(5):\n",
    "    print('Miau')"
   ]
  },
  {
   "cell_type": "code",
   "execution_count": 72,
   "metadata": {
    "ExecuteTime": {
     "end_time": "2020-06-02T13:05:02.503678Z",
     "start_time": "2020-06-02T13:05:02.500650Z"
    }
   },
   "outputs": [],
   "source": [
    "x, y = 4, 3\n",
    "# x = 4\n",
    "# y = 3"
   ]
  },
  {
   "cell_type": "code",
   "execution_count": 78,
   "metadata": {
    "ExecuteTime": {
     "end_time": "2020-06-02T13:06:28.064378Z",
     "start_time": "2020-06-02T13:06:28.059391Z"
    }
   },
   "outputs": [
    {
     "name": "stdout",
     "output_type": "stream",
     "text": [
      "Miau 0 e contador 0\n",
      "Miau 1 e contador 1\n",
      "Miau 2 e contador 2\n",
      "Miau 3 e contador 3\n",
      "Miau 4 e contador 4\n"
     ]
    }
   ],
   "source": [
    "contador = 0\n",
    "\n",
    "for item in range(5):\n",
    "    print(f'Miau {item} e contador {contador}')\n",
    "    contador = item + 1\n",
    "    \n",
    "    "
   ]
  },
  {
   "cell_type": "markdown",
   "metadata": {},
   "source": [
    "## While loops"
   ]
  },
  {
   "cell_type": "code",
   "execution_count": 80,
   "metadata": {
    "ExecuteTime": {
     "end_time": "2020-06-02T13:07:02.326793Z",
     "start_time": "2020-06-02T13:07:02.322804Z"
    }
   },
   "outputs": [
    {
     "data": {
      "text/plain": [
       "True"
      ]
     },
     "execution_count": 80,
     "metadata": {},
     "output_type": "execute_result"
    }
   ],
   "source": [
    "item = 0\n",
    "item < 10"
   ]
  },
  {
   "cell_type": "code",
   "execution_count": 84,
   "metadata": {
    "ExecuteTime": {
     "end_time": "2020-06-02T13:07:37.340035Z",
     "start_time": "2020-06-02T13:07:37.336047Z"
    }
   },
   "outputs": [
    {
     "name": "stdout",
     "output_type": "stream",
     "text": [
      "Miau\n",
      "1\n",
      "Miau\n",
      "2\n",
      "Miau\n",
      "3\n",
      "Miau\n",
      "4\n",
      "Miau\n",
      "5\n",
      "Miau\n",
      "6\n",
      "Miau\n",
      "7\n",
      "Miau\n",
      "8\n",
      "Miau\n",
      "9\n",
      "Miau\n",
      "10\n"
     ]
    }
   ],
   "source": [
    "item = 0\n",
    "\n",
    "while item < 10:\n",
    "    print('Miau')\n",
    "    item = item + 1\n",
    "    print(item)"
   ]
  },
  {
   "cell_type": "code",
   "execution_count": null,
   "metadata": {},
   "outputs": [],
   "source": [
    "# while loop run while a condition is True"
   ]
  },
  {
   "cell_type": "markdown",
   "metadata": {},
   "source": [
    "# Conditions"
   ]
  },
  {
   "cell_type": "code",
   "execution_count": 104,
   "metadata": {
    "ExecuteTime": {
     "end_time": "2020-06-02T13:11:34.854524Z",
     "start_time": "2020-06-02T13:11:34.851531Z"
    }
   },
   "outputs": [],
   "source": [
    "a = 10\n",
    "b = 5\n",
    "c = 70"
   ]
  },
  {
   "cell_type": "code",
   "execution_count": 93,
   "metadata": {
    "ExecuteTime": {
     "end_time": "2020-06-02T13:09:38.862033Z",
     "start_time": "2020-06-02T13:09:38.858043Z"
    }
   },
   "outputs": [
    {
     "name": "stdout",
     "output_type": "stream",
     "text": [
      "Shakeyourlife\n"
     ]
    }
   ],
   "source": [
    "if a > b and a > c:\n",
    "    print('Hackyourlife')\n",
    "else:\n",
    "    print('Shakeyourlife')"
   ]
  },
  {
   "cell_type": "code",
   "execution_count": 90,
   "metadata": {
    "ExecuteTime": {
     "end_time": "2020-06-02T13:09:30.763690Z",
     "start_time": "2020-06-02T13:09:30.759700Z"
    }
   },
   "outputs": [
    {
     "data": {
      "text/plain": [
       "True"
      ]
     },
     "execution_count": 90,
     "metadata": {},
     "output_type": "execute_result"
    }
   ],
   "source": [
    "a > b and a > c"
   ]
  },
  {
   "cell_type": "code",
   "execution_count": 98,
   "metadata": {
    "ExecuteTime": {
     "end_time": "2020-06-02T13:11:00.447552Z",
     "start_time": "2020-06-02T13:11:00.443593Z"
    }
   },
   "outputs": [
    {
     "data": {
      "text/plain": [
       "True"
      ]
     },
     "execution_count": 98,
     "metadata": {},
     "output_type": "execute_result"
    }
   ],
   "source": [
    "True and True"
   ]
  },
  {
   "cell_type": "code",
   "execution_count": 97,
   "metadata": {
    "ExecuteTime": {
     "end_time": "2020-06-02T13:10:57.178573Z",
     "start_time": "2020-06-02T13:10:57.174584Z"
    }
   },
   "outputs": [
    {
     "data": {
      "text/plain": [
       "False"
      ]
     },
     "execution_count": 97,
     "metadata": {},
     "output_type": "execute_result"
    }
   ],
   "source": [
    "True and False"
   ]
  },
  {
   "cell_type": "code",
   "execution_count": 96,
   "metadata": {
    "ExecuteTime": {
     "end_time": "2020-06-02T13:10:50.147122Z",
     "start_time": "2020-06-02T13:10:50.143133Z"
    }
   },
   "outputs": [
    {
     "data": {
      "text/plain": [
       "False"
      ]
     },
     "execution_count": 96,
     "metadata": {},
     "output_type": "execute_result"
    }
   ],
   "source": [
    "False and True"
   ]
  },
  {
   "cell_type": "code",
   "execution_count": 103,
   "metadata": {
    "ExecuteTime": {
     "end_time": "2020-06-02T13:11:30.752484Z",
     "start_time": "2020-06-02T13:11:30.748494Z"
    }
   },
   "outputs": [
    {
     "name": "stdout",
     "output_type": "stream",
     "text": [
      "Hackyourlife\n"
     ]
    }
   ],
   "source": [
    "if a > b or a > c:\n",
    "    print('Hackyourlife')\n",
    "else:\n",
    "    print('Shakeyourlife')"
   ]
  },
  {
   "cell_type": "code",
   "execution_count": 99,
   "metadata": {
    "ExecuteTime": {
     "end_time": "2020-06-02T13:11:08.770820Z",
     "start_time": "2020-06-02T13:11:08.766831Z"
    }
   },
   "outputs": [
    {
     "data": {
      "text/plain": [
       "True"
      ]
     },
     "execution_count": 99,
     "metadata": {},
     "output_type": "execute_result"
    }
   ],
   "source": [
    "True or True"
   ]
  },
  {
   "cell_type": "code",
   "execution_count": 100,
   "metadata": {
    "ExecuteTime": {
     "end_time": "2020-06-02T13:11:13.089126Z",
     "start_time": "2020-06-02T13:11:13.086106Z"
    }
   },
   "outputs": [
    {
     "data": {
      "text/plain": [
       "True"
      ]
     },
     "execution_count": 100,
     "metadata": {},
     "output_type": "execute_result"
    }
   ],
   "source": [
    "True or False"
   ]
  },
  {
   "cell_type": "code",
   "execution_count": 101,
   "metadata": {
    "ExecuteTime": {
     "end_time": "2020-06-02T13:11:20.704909Z",
     "start_time": "2020-06-02T13:11:20.699923Z"
    }
   },
   "outputs": [
    {
     "data": {
      "text/plain": [
       "True"
      ]
     },
     "execution_count": 101,
     "metadata": {},
     "output_type": "execute_result"
    }
   ],
   "source": [
    "False or True"
   ]
  },
  {
   "cell_type": "code",
   "execution_count": 102,
   "metadata": {
    "ExecuteTime": {
     "end_time": "2020-06-02T13:11:27.206135Z",
     "start_time": "2020-06-02T13:11:27.202146Z"
    }
   },
   "outputs": [
    {
     "data": {
      "text/plain": [
       "False"
      ]
     },
     "execution_count": 102,
     "metadata": {},
     "output_type": "execute_result"
    }
   ],
   "source": [
    "False or False"
   ]
  },
  {
   "cell_type": "code",
   "execution_count": 106,
   "metadata": {
    "ExecuteTime": {
     "end_time": "2020-06-02T13:12:04.831060Z",
     "start_time": "2020-06-02T13:12:04.827100Z"
    }
   },
   "outputs": [
    {
     "data": {
      "text/plain": [
       "bool"
      ]
     },
     "execution_count": 106,
     "metadata": {},
     "output_type": "execute_result"
    }
   ],
   "source": [
    "type(a > b)"
   ]
  },
  {
   "cell_type": "code",
   "execution_count": 108,
   "metadata": {
    "ExecuteTime": {
     "end_time": "2020-06-02T13:12:16.624929Z",
     "start_time": "2020-06-02T13:12:16.620940Z"
    }
   },
   "outputs": [
    {
     "data": {
      "text/plain": [
       "0"
      ]
     },
     "execution_count": 108,
     "metadata": {},
     "output_type": "execute_result"
    }
   ],
   "source": [
    "int(False)"
   ]
  },
  {
   "cell_type": "code",
   "execution_count": 109,
   "metadata": {
    "ExecuteTime": {
     "end_time": "2020-06-02T13:12:23.131925Z",
     "start_time": "2020-06-02T13:12:23.127935Z"
    }
   },
   "outputs": [
    {
     "data": {
      "text/plain": [
       "1"
      ]
     },
     "execution_count": 109,
     "metadata": {},
     "output_type": "execute_result"
    }
   ],
   "source": [
    "int(True)"
   ]
  },
  {
   "cell_type": "code",
   "execution_count": 112,
   "metadata": {
    "ExecuteTime": {
     "end_time": "2020-06-02T13:13:15.166590Z",
     "start_time": "2020-06-02T13:13:15.162600Z"
    }
   },
   "outputs": [
    {
     "data": {
      "text/plain": [
       "30"
      ]
     },
     "execution_count": 112,
     "metadata": {},
     "output_type": "execute_result"
    }
   ],
   "source": [
    "30 * True + 1000 * False"
   ]
  },
  {
   "cell_type": "markdown",
   "metadata": {},
   "source": [
    "## Shallow copy"
   ]
  },
  {
   "cell_type": "code",
   "execution_count": 113,
   "metadata": {
    "ExecuteTime": {
     "end_time": "2020-06-02T13:13:41.036297Z",
     "start_time": "2020-06-02T13:13:41.033301Z"
    }
   },
   "outputs": [],
   "source": [
    "a = [1,3,5,6]"
   ]
  },
  {
   "cell_type": "code",
   "execution_count": 114,
   "metadata": {
    "ExecuteTime": {
     "end_time": "2020-06-02T13:13:42.381071Z",
     "start_time": "2020-06-02T13:13:42.377082Z"
    }
   },
   "outputs": [
    {
     "data": {
      "text/plain": [
       "[1, 3, 5, 6]"
      ]
     },
     "execution_count": 114,
     "metadata": {},
     "output_type": "execute_result"
    }
   ],
   "source": [
    "a"
   ]
  },
  {
   "cell_type": "code",
   "execution_count": 115,
   "metadata": {
    "ExecuteTime": {
     "end_time": "2020-06-02T13:13:47.404604Z",
     "start_time": "2020-06-02T13:13:47.401613Z"
    }
   },
   "outputs": [],
   "source": [
    "b = a"
   ]
  },
  {
   "cell_type": "code",
   "execution_count": 116,
   "metadata": {
    "ExecuteTime": {
     "end_time": "2020-06-02T13:13:50.632485Z",
     "start_time": "2020-06-02T13:13:50.628495Z"
    }
   },
   "outputs": [
    {
     "data": {
      "text/plain": [
       "[1, 3, 5, 6]"
      ]
     },
     "execution_count": 116,
     "metadata": {},
     "output_type": "execute_result"
    }
   ],
   "source": [
    "b"
   ]
  },
  {
   "cell_type": "code",
   "execution_count": 117,
   "metadata": {
    "ExecuteTime": {
     "end_time": "2020-06-02T13:14:13.769502Z",
     "start_time": "2020-06-02T13:14:13.766483Z"
    }
   },
   "outputs": [],
   "source": [
    "b[0] = 100"
   ]
  },
  {
   "cell_type": "code",
   "execution_count": 118,
   "metadata": {
    "ExecuteTime": {
     "end_time": "2020-06-02T13:14:15.770628Z",
     "start_time": "2020-06-02T13:14:15.766638Z"
    }
   },
   "outputs": [
    {
     "data": {
      "text/plain": [
       "[100, 3, 5, 6]"
      ]
     },
     "execution_count": 118,
     "metadata": {},
     "output_type": "execute_result"
    }
   ],
   "source": [
    "b"
   ]
  },
  {
   "cell_type": "code",
   "execution_count": 119,
   "metadata": {
    "ExecuteTime": {
     "end_time": "2020-06-02T13:14:49.462822Z",
     "start_time": "2020-06-02T13:14:49.459803Z"
    }
   },
   "outputs": [
    {
     "data": {
      "text/plain": [
       "[100, 3, 5, 6]"
      ]
     },
     "execution_count": 119,
     "metadata": {},
     "output_type": "execute_result"
    }
   ],
   "source": [
    "a"
   ]
  },
  {
   "cell_type": "markdown",
   "metadata": {},
   "source": [
    "## Deep copy"
   ]
  },
  {
   "cell_type": "code",
   "execution_count": 120,
   "metadata": {
    "ExecuteTime": {
     "end_time": "2020-06-02T13:20:39.006521Z",
     "start_time": "2020-06-02T13:20:39.002531Z"
    }
   },
   "outputs": [],
   "source": [
    "a = [1,3,5,6]"
   ]
  },
  {
   "cell_type": "code",
   "execution_count": 121,
   "metadata": {
    "ExecuteTime": {
     "end_time": "2020-06-02T13:20:42.459361Z",
     "start_time": "2020-06-02T13:20:42.455372Z"
    }
   },
   "outputs": [],
   "source": [
    "b = a.copy()"
   ]
  },
  {
   "cell_type": "code",
   "execution_count": 122,
   "metadata": {
    "ExecuteTime": {
     "end_time": "2020-06-02T13:20:49.137830Z",
     "start_time": "2020-06-02T13:20:49.134839Z"
    }
   },
   "outputs": [],
   "source": [
    "b[0] = 100"
   ]
  },
  {
   "cell_type": "code",
   "execution_count": 123,
   "metadata": {
    "ExecuteTime": {
     "end_time": "2020-06-02T13:20:55.795211Z",
     "start_time": "2020-06-02T13:20:55.791248Z"
    }
   },
   "outputs": [
    {
     "data": {
      "text/plain": [
       "[100, 3, 5, 6]"
      ]
     },
     "execution_count": 123,
     "metadata": {},
     "output_type": "execute_result"
    }
   ],
   "source": [
    "b"
   ]
  },
  {
   "cell_type": "code",
   "execution_count": 125,
   "metadata": {
    "ExecuteTime": {
     "end_time": "2020-06-02T13:22:29.944699Z",
     "start_time": "2020-06-02T13:22:29.939713Z"
    }
   },
   "outputs": [
    {
     "data": {
      "text/plain": [
       "[1, 3, 5, 6]"
      ]
     },
     "execution_count": 125,
     "metadata": {},
     "output_type": "execute_result"
    }
   ],
   "source": [
    "a"
   ]
  }
 ],
 "metadata": {
  "kernelspec": {
   "display_name": "Python 3",
   "language": "python",
   "name": "python3"
  },
  "language_info": {
   "codemirror_mode": {
    "name": "ipython",
    "version": 3
   },
   "file_extension": ".py",
   "mimetype": "text/x-python",
   "name": "python",
   "nbconvert_exporter": "python",
   "pygments_lexer": "ipython3",
   "version": "3.7.6"
  },
  "toc": {
   "base_numbering": 1,
   "nav_menu": {},
   "number_sections": true,
   "sideBar": true,
   "skip_h1_title": false,
   "title_cell": "Table of Contents",
   "title_sidebar": "Contents",
   "toc_cell": false,
   "toc_position": {
    "height": "calc(100% - 180px)",
    "left": "10px",
    "top": "150px",
    "width": "307.2px"
   },
   "toc_section_display": true,
   "toc_window_display": false
  },
  "varInspector": {
   "cols": {
    "lenName": 16,
    "lenType": 16,
    "lenVar": 40
   },
   "kernels_config": {
    "python": {
     "delete_cmd_postfix": "",
     "delete_cmd_prefix": "del ",
     "library": "var_list.py",
     "varRefreshCmd": "print(var_dic_list())"
    },
    "r": {
     "delete_cmd_postfix": ") ",
     "delete_cmd_prefix": "rm(",
     "library": "var_list.r",
     "varRefreshCmd": "cat(var_dic_list()) "
    }
   },
   "types_to_exclude": [
    "module",
    "function",
    "builtin_function_or_method",
    "instance",
    "_Feature"
   ],
   "window_display": false
  }
 },
 "nbformat": 4,
 "nbformat_minor": 2
}
